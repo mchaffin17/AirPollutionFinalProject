{
 "cells": [
  {
   "cell_type": "markdown",
   "metadata": {},
   "source": [
    "#Data Cleaning"
   ]
  },
  {
   "cell_type": "code",
   "execution_count": 1,
   "metadata": {
    "collapsed": true
   },
   "outputs": [],
   "source": [
    "%matplotlib inline\n",
    "import numpy as np\n",
    "import scipy as sp\n",
    "import matplotlib as mpl\n",
    "import matplotlib.cm as cm\n",
    "import matplotlib.pyplot as plt\n",
    "import pandas as pd\n",
    "pd.set_option('display.width', 500)\n",
    "pd.set_option('display.max_columns', 100)\n",
    "pd.set_option('display.notebook_repr_html', True)\n",
    "import seaborn as sns\n",
    "sns.set_style(\"whitegrid\")\n",
    "sns.set_context(\"poster\")\n",
    "import csv\n",
    "import urllib\n",
    "import time"
   ]
  },
  {
   "cell_type": "markdown",
   "metadata": {},
   "source": [
    "#AIR QUALITY DATA AND WEATHER DATA COLLECTION"
   ]
  },
  {
   "cell_type": "markdown",
   "metadata": {},
   "source": [
    "Here we must first read in several different csv files, one for each pollutant and one for each weather measurement. There are files from PM2.5_frmfem, PM2.5_no_frmfem, PM10, Air Pressure, Relative Humidity, Dew Point, Temperature, Wind, CO, NO2, SO2, and Ozone."
   ]
  },
  {
   "cell_type": "code",
   "execution_count": 2,
   "metadata": {
    "collapsed": true
   },
   "outputs": [],
   "source": [
    "#Function to get seasonal breadowns. Takes in\n",
    "#a row from one of these csvs and splits the date\n",
    "#column converting it to a datetime.\n",
    "import datetime\n",
    "def seasonMaker(rowIn):\n",
    "    listeddate=[int(x) for x in rowIn.split(\"-\")]\n",
    "    dateInd = datetime.date(listeddate[0],listeddate[1],listeddate[2])\n",
    "    if (dateInd <= datetime.date(2014,3,20)) or (dateInd >= datetime.date(2014,12,21)):\n",
    "        return 'Winter'\n",
    "    elif (dateInd <= datetime.date(2014,6,21)) and (dateInd >= datetime.date(2014,3,21)):\n",
    "        return 'Spring'\n",
    "    elif (dateInd <= datetime.date(2014,9,21)) and (dateInd >= datetime.date(2014,6,22)):\n",
    "        return 'Summer'\n",
    "    elif (dateInd <= datetime.date(2014,12,20)) and (dateInd >= datetime.date(2014,9,22)):\n",
    "        return 'Fall'"
   ]
  },
  {
   "cell_type": "code",
   "execution_count": 3,
   "metadata": {
    "collapsed": true
   },
   "outputs": [],
   "source": [
    "#A similar function to the above, but it assigns month rather than season\n",
    "def monthMaker(rowIn):\n",
    "    listeddate=[int(x) for x in rowIn.split(\"-\")]\n",
    "    return listeddate[1]"
   ]
  },
  {
   "cell_type": "markdown",
   "metadata": {},
   "source": [
    "Starting with PM2.5_frmfem. We need to make our base dataframe first and will use this particular csv to do so. We want to make 2 dataframe, `pollDat_s` and `pollDat_m`. One is aggregated at the seasonal level and one is aggregated at the month level. Daily observations are too variable to get an overall image."
   ]
  },
  {
   "cell_type": "markdown",
   "metadata": {},
   "source": [
    "**Read in all files**"
   ]
  },
  {
   "cell_type": "code",
   "execution_count": 4,
   "metadata": {
    "collapsed": false
   },
   "outputs": [],
   "source": [
    "#PM2.5_frmfem\n",
    "pm25_frmfem = pd.read_csv(\"tempdata/pm2.5frmfem_2014.csv\")\n",
    "pm25_frmfem['season']=pm25_frmfem.apply(lambda row: seasonMaker(row['Date Local']), axis=1)\n",
    "pm25_frmfem['month']=pm25_frmfem.apply(lambda row: monthMaker(row['Date Local']), axis=1)\n",
    "#PM2.5_no_frmfem\n",
    "pm25_nofrmfem = pd.read_csv(\"tempdata/pm2.5_non_frmfem_2014.csv\")\n",
    "pm25_nofrmfem['season']=pm25_nofrmfem.apply(lambda row: seasonMaker(row['Date Local']), axis=1)\n",
    "pm25_nofrmfem['month']=pm25_nofrmfem.apply(lambda row: monthMaker(row['Date Local']), axis=1)\n",
    "#PM10\n",
    "pm10 = pd.read_csv(\"tempdata/pm10_2014.csv\")\n",
    "pm10['season']=pm10.apply(lambda row: seasonMaker(row['Date Local']), axis=1)\n",
    "pm10['month']=pm10.apply(lambda row: monthMaker(row['Date Local']), axis=1)\n",
    "#TEMP\n",
    "temp = pd.read_csv(\"tempdata/temp_2014.csv\")\n",
    "temp['season']=temp.apply(lambda row: seasonMaker(row['Date Local']), axis=1)\n",
    "temp['month']=temp.apply(lambda row: monthMaker(row['Date Local']), axis=1)\n",
    "#PRESS\n",
    "press = pd.read_csv(\"tempdata/press_2014.csv\")\n",
    "press['season']=press.apply(lambda row: seasonMaker(row['Date Local']), axis=1)\n",
    "press['month']=press.apply(lambda row: monthMaker(row['Date Local']), axis=1)\n",
    "#RH_DP\n",
    "rh_dp = pd.read_csv(\"tempdata/rh_dp_2014.csv\")\n",
    "rh_dp['season']=rh_dp.apply(lambda row: seasonMaker(row['Date Local']), axis=1)\n",
    "rh_dp['month']=rh_dp.apply(lambda row: monthMaker(row['Date Local']), axis=1)\n",
    "rh = rh_dp[rh_dp['Parameter Name']=='Relative Humidity ']\n",
    "dp = rh_dp[rh_dp['Parameter Name']=='Dew Point']\n",
    "#WIND\n",
    "wind = pd.read_csv(\"tempdata/wind_2014.csv\")\n",
    "wind['season']=wind.apply(lambda row: seasonMaker(row['Date Local']), axis=1)\n",
    "wind['month']=wind.apply(lambda row: monthMaker(row['Date Local']), axis=1)\n",
    "#CO\n",
    "co = pd.read_csv(\"tempdata/co_2014.csv\")\n",
    "co['season']=co.apply(lambda row: seasonMaker(row['Date Local']), axis=1)\n",
    "co['month']=co.apply(lambda row: monthMaker(row['Date Local']), axis=1)\n",
    "co = co[co['Pollutant Standard']=='CO 8-hour 1971']\n",
    "#NO2\n",
    "no2 = pd.read_csv(\"tempdata/no2_2014.csv\")\n",
    "no2['season']=no2.apply(lambda row: seasonMaker(row['Date Local']), axis=1)\n",
    "no2['month']=no2.apply(lambda row: monthMaker(row['Date Local']), axis=1)\n",
    "#OZONE\n",
    "ozone = pd.read_csv(\"tempdata/ozone_2014.csv\")\n",
    "ozone['season']=ozone.apply(lambda row: seasonMaker(row['Date Local']), axis=1)\n",
    "ozone['month']=ozone.apply(lambda row: monthMaker(row['Date Local']), axis=1)\n",
    "#SO2\n",
    "so2 = pd.read_csv(\"tempdata/so2_2014.csv\")\n",
    "so2['season']=so2.apply(lambda row: seasonMaker(row['Date Local']), axis=1)\n",
    "so2['month']=so2.apply(lambda row: monthMaker(row['Date Local']), axis=1)\n",
    "so2 = so2[so2['Pollutant Standard']=='SO2 1-hour 2010']"
   ]
  },
  {
   "cell_type": "markdown",
   "metadata": {},
   "source": [
    "Get all the possible Core-Based Statistical Areas (CBSA). These are used for census data of all areas connected to a metropolitan area or micropolitan area."
   ]
  },
  {
   "cell_type": "code",
   "execution_count": 5,
   "metadata": {
    "collapsed": false
   },
   "outputs": [
    {
     "name": "stdout",
     "output_type": "stream",
     "text": [
      "Number of unique CBSA in all files: 536\n"
     ]
    }
   ],
   "source": [
    "fileList = [pm25_frmfem,pm25_nofrmfem,pm10,temp,press,rh,dp,wind,co,no2,ozone,so2]\n",
    "uniqueCBSA = np.array([])\n",
    "for f in fileList:\n",
    "    uniqueCBSA= np.append(uniqueCBSA,f['CBSA Name'].unique())\n",
    "uniqueCBSA = set(uniqueCBSA)\n",
    "print \"Number of unique CBSA in all files: \"+str(len(uniqueCBSA))"
   ]
  },
  {
   "cell_type": "code",
   "execution_count": 6,
   "metadata": {
    "collapsed": false
   },
   "outputs": [],
   "source": [
    "out = pd.DataFrame(list(uniqueCBSA))\n",
    "out.to_csv(\"tempdata/UniqueCBSAList.csv\")"
   ]
  },
  {
   "cell_type": "markdown",
   "metadata": {},
   "source": [
    "What about the ones that didn't have a CBSA identifier? How many were there and what Site Location were they?"
   ]
  },
  {
   "cell_type": "code",
   "execution_count": 7,
   "metadata": {
    "collapsed": false
   },
   "outputs": [
    {
     "name": "stdout",
     "output_type": "stream",
     "text": [
      "Number of Sites with no CBSA: 301\n"
     ]
    }
   ],
   "source": [
    "numDup = pd.DataFrame(columns=['Local Site Name','State Name','County Name','City Name'])\n",
    "for f in fileList:\n",
    "    a=f[pd.isnull(f['CBSA Name'])]\n",
    "    names = a.ix[:,['Local Site Name','State Name','County Name','City Name']]\n",
    "    names = names.drop_duplicates()\n",
    "    numDup = pd.concat([numDup,names])\n",
    "print \"Number of Sites with no CBSA: \" +str(len(numDup.drop_duplicates()))"
   ]
  },
  {
   "cell_type": "markdown",
   "metadata": {},
   "source": [
    "##COLLECTING DEMOGRAPHICS"
   ]
  },
  {
   "cell_type": "markdown",
   "metadata": {},
   "source": [
    "To make our lives easy and to make it a little easier to interpret. We still have decent coverage of the US with these so it should lead to interpretable results. Next we'd like to be able to pull population density information and other info in for these CBSA ids. This requires another data set from http://www.census.gov/population/metro/data/pop_data.html. This data is from 2010, but even though we're looking at 2014 weather/air quality data, it shouldn't have changed too dramatically in 4 years."
   ]
  },
  {
   "cell_type": "code",
   "execution_count": 8,
   "metadata": {
    "collapsed": true
   },
   "outputs": [],
   "source": [
    "densityFile = pd.read_csv('tempdata/CBSA_density.csv')"
   ]
  },
  {
   "cell_type": "code",
   "execution_count": 9,
   "metadata": {
    "collapsed": false
   },
   "outputs": [],
   "source": [
    "#Removing top bad rows, removing bad columns, renaming columns\n",
    "densityFile.drop(densityFile.index[[0,1,2,3,4,5,6,7]],inplace=True)\n",
    "densityFile.drop(densityFile.columns[[3,6,8,10]],axis=1,inplace=True)\n",
    "densityFile.columns=['id','name','MetArea','pop2010','landarea','popdense2010','pop_weight2010']"
   ]
  },
  {
   "cell_type": "code",
   "execution_count": 10,
   "metadata": {
    "collapsed": false
   },
   "outputs": [
    {
     "data": {
      "text/html": [
       "<div>\n",
       "<table border=\"1\" class=\"dataframe\">\n",
       "  <thead>\n",
       "    <tr style=\"text-align: right;\">\n",
       "      <th></th>\n",
       "      <th>id</th>\n",
       "      <th>name</th>\n",
       "      <th>MetArea</th>\n",
       "      <th>pop2010</th>\n",
       "      <th>landarea</th>\n",
       "      <th>popdense2010</th>\n",
       "      <th>pop_weight2010</th>\n",
       "    </tr>\n",
       "  </thead>\n",
       "  <tbody>\n",
       "    <tr>\n",
       "      <th>8</th>\n",
       "      <td>10180</td>\n",
       "      <td>Abilene, TX</td>\n",
       "      <td>Metropolitan Statistical Area</td>\n",
       "      <td>165,252</td>\n",
       "      <td>2,743.5</td>\n",
       "      <td>60.2</td>\n",
       "      <td>1,771.8</td>\n",
       "    </tr>\n",
       "    <tr>\n",
       "      <th>9</th>\n",
       "      <td>10420</td>\n",
       "      <td>Akron, OH</td>\n",
       "      <td>Metropolitan Statistical Area</td>\n",
       "      <td>703,200</td>\n",
       "      <td>900.1</td>\n",
       "      <td>781.2</td>\n",
       "      <td>2,412.8</td>\n",
       "    </tr>\n",
       "    <tr>\n",
       "      <th>10</th>\n",
       "      <td>10500</td>\n",
       "      <td>Albany, GA</td>\n",
       "      <td>Metropolitan Statistical Area</td>\n",
       "      <td>157,308</td>\n",
       "      <td>1,932.6</td>\n",
       "      <td>81.4</td>\n",
       "      <td>922.7</td>\n",
       "    </tr>\n",
       "    <tr>\n",
       "      <th>11</th>\n",
       "      <td>10580</td>\n",
       "      <td>Albany-Schenectady-Troy, NY</td>\n",
       "      <td>Metropolitan Statistical Area</td>\n",
       "      <td>870,716</td>\n",
       "      <td>2,811.6</td>\n",
       "      <td>309.7</td>\n",
       "      <td>2,944.9</td>\n",
       "    </tr>\n",
       "    <tr>\n",
       "      <th>12</th>\n",
       "      <td>10740</td>\n",
       "      <td>Albuquerque, NM</td>\n",
       "      <td>Metropolitan Statistical Area</td>\n",
       "      <td>887,077</td>\n",
       "      <td>9,282.5</td>\n",
       "      <td>95.6</td>\n",
       "      <td>3,518.6</td>\n",
       "    </tr>\n",
       "  </tbody>\n",
       "</table>\n",
       "</div>"
      ],
      "text/plain": [
       "       id                         name                        MetArea  pop2010 landarea popdense2010 pop_weight2010\n",
       "8   10180                  Abilene, TX  Metropolitan Statistical Area  165,252  2,743.5         60.2        1,771.8\n",
       "9   10420                    Akron, OH  Metropolitan Statistical Area  703,200    900.1        781.2        2,412.8\n",
       "10  10500                   Albany, GA  Metropolitan Statistical Area  157,308  1,932.6         81.4          922.7\n",
       "11  10580  Albany-Schenectady-Troy, NY  Metropolitan Statistical Area  870,716  2,811.6        309.7        2,944.9\n",
       "12  10740              Albuquerque, NM  Metropolitan Statistical Area  887,077  9,282.5         95.6        3,518.6"
      ]
     },
     "execution_count": 10,
     "metadata": {},
     "output_type": "execute_result"
    }
   ],
   "source": [
    "densityFile.head()"
   ]
  },
  {
   "cell_type": "markdown",
   "metadata": {},
   "source": [
    "This file has the latitude and longitude data we'll want to use for each region. We need to merge this all together."
   ]
  },
  {
   "cell_type": "code",
   "execution_count": 11,
   "metadata": {
    "collapsed": true
   },
   "outputs": [],
   "source": [
    "latlong = pd.read_csv('tempdata/CBSA_Chapter1PrinCities.csv')"
   ]
  },
  {
   "cell_type": "markdown",
   "metadata": {},
   "source": [
    "This file has a lot of problems in the way information is provided. We want info for just the individual regions but there are a lot of NaNs. This is because only the primary city of a region gets the label. So we need to clean that up a bit. "
   ]
  },
  {
   "cell_type": "code",
   "execution_count": 12,
   "metadata": {
    "collapsed": false
   },
   "outputs": [],
   "source": [
    "#Removing top bad rows, removing bad columns, renaming columns\n",
    "latlong.drop(latlong.index[[0,1,2,3,4]],inplace=True)\n",
    "latlong.drop(latlong.columns[[1,4]],axis=1,inplace=True)\n",
    "latlong.columns=['id','name','pop2010','latitude','longitude']"
   ]
  },
  {
   "cell_type": "code",
   "execution_count": 13,
   "metadata": {
    "collapsed": false
   },
   "outputs": [],
   "source": [
    "#Get latitude and longitude for each id\n",
    "group = latlong.groupby('id')\n",
    "#Get rid of all the NaNs\n",
    "#Help from \n",
    "#http://stackoverflow.com/questions/13413590/how-to-drop-rows-of-pandas-dataframe-whose-value-of-certain-column-is-nan\n",
    "newdf=group.max()\n",
    "newdf = newdf[pd.notnull(newdf['latitude'])]\n",
    "#Weird anomaly\n",
    "newdf.drop(newdf.index[6],inplace=True)"
   ]
  },
  {
   "cell_type": "code",
   "execution_count": 14,
   "metadata": {
    "collapsed": false,
    "scrolled": true
   },
   "outputs": [
    {
     "data": {
      "text/html": [
       "<div>\n",
       "<table border=\"1\" class=\"dataframe\">\n",
       "  <thead>\n",
       "    <tr style=\"text-align: right;\">\n",
       "      <th></th>\n",
       "      <th>name</th>\n",
       "      <th>pop2010</th>\n",
       "      <th>latitude</th>\n",
       "      <th>longitude</th>\n",
       "      <th>id</th>\n",
       "    </tr>\n",
       "    <tr>\n",
       "      <th>id</th>\n",
       "      <th></th>\n",
       "      <th></th>\n",
       "      <th></th>\n",
       "      <th></th>\n",
       "      <th></th>\n",
       "    </tr>\n",
       "  </thead>\n",
       "  <tbody>\n",
       "    <tr>\n",
       "      <th>10180</th>\n",
       "      <td>Abilene, TX Metro Area</td>\n",
       "      <td>165,252</td>\n",
       "      <td>32.4519790</td>\n",
       "      <td>-99.7327870</td>\n",
       "      <td>10180</td>\n",
       "    </tr>\n",
       "    <tr>\n",
       "      <th>10420</th>\n",
       "      <td>Akron, OH Metro Area</td>\n",
       "      <td>703,200</td>\n",
       "      <td>41.0805750</td>\n",
       "      <td>-81.5180690</td>\n",
       "      <td>10420</td>\n",
       "    </tr>\n",
       "    <tr>\n",
       "      <th>10500</th>\n",
       "      <td>Albany, GA Metro Area</td>\n",
       "      <td>77,434</td>\n",
       "      <td>31.5783550</td>\n",
       "      <td>-84.1525160</td>\n",
       "      <td>10500</td>\n",
       "    </tr>\n",
       "    <tr>\n",
       "      <th>10580</th>\n",
       "      <td>Troy city</td>\n",
       "      <td>97,856</td>\n",
       "      <td>42.6517310</td>\n",
       "      <td>-73.7551670</td>\n",
       "      <td>10580</td>\n",
       "    </tr>\n",
       "    <tr>\n",
       "      <th>10740</th>\n",
       "      <td>Albuquerque, NM Metro Area</td>\n",
       "      <td>887,077</td>\n",
       "      <td>35.0879680</td>\n",
       "      <td>-106.6504030</td>\n",
       "      <td>10740</td>\n",
       "    </tr>\n",
       "  </tbody>\n",
       "</table>\n",
       "</div>"
      ],
      "text/plain": [
       "                             name  pop2010    latitude     longitude     id\n",
       "id                                                                         \n",
       "10180      Abilene, TX Metro Area  165,252  32.4519790   -99.7327870  10180\n",
       "10420        Akron, OH Metro Area  703,200  41.0805750   -81.5180690  10420\n",
       "10500       Albany, GA Metro Area   77,434  31.5783550   -84.1525160  10500\n",
       "10580                   Troy city   97,856  42.6517310   -73.7551670  10580\n",
       "10740  Albuquerque, NM Metro Area  887,077  35.0879680  -106.6504030  10740"
      ]
     },
     "execution_count": 14,
     "metadata": {},
     "output_type": "execute_result"
    }
   ],
   "source": [
    "newdf['id']=newdf.index\n",
    "newdf.head()"
   ]
  },
  {
   "cell_type": "code",
   "execution_count": 15,
   "metadata": {
    "collapsed": false
   },
   "outputs": [],
   "source": [
    "#Make a mapper to get numerical id for CBSA\n",
    "idmapper = {}\n",
    "for id, name in zip(densityFile.id,densityFile.name):\n",
    "    idmapper[name]=id"
   ]
  },
  {
   "cell_type": "code",
   "execution_count": 16,
   "metadata": {
    "collapsed": false
   },
   "outputs": [
    {
     "data": {
      "text/html": [
       "<div>\n",
       "<table border=\"1\" class=\"dataframe\">\n",
       "  <thead>\n",
       "    <tr style=\"text-align: right;\">\n",
       "      <th></th>\n",
       "      <th>name</th>\n",
       "      <th>id</th>\n",
       "    </tr>\n",
       "  </thead>\n",
       "  <tbody>\n",
       "    <tr>\n",
       "      <th>0</th>\n",
       "      <td>Kahului-Wailuku, HI</td>\n",
       "      <td>27980</td>\n",
       "    </tr>\n",
       "    <tr>\n",
       "      <th>1</th>\n",
       "      <td>Rapid City, SD</td>\n",
       "      <td>39660</td>\n",
       "    </tr>\n",
       "    <tr>\n",
       "      <th>2</th>\n",
       "      <td>Seymour, IN</td>\n",
       "      <td>42980</td>\n",
       "    </tr>\n",
       "    <tr>\n",
       "      <th>3</th>\n",
       "      <td>Fort Wayne, IN</td>\n",
       "      <td>23060</td>\n",
       "    </tr>\n",
       "    <tr>\n",
       "      <th>4</th>\n",
       "      <td>Napa, CA</td>\n",
       "      <td>34900</td>\n",
       "    </tr>\n",
       "  </tbody>\n",
       "</table>\n",
       "</div>"
      ],
      "text/plain": [
       "                  name     id\n",
       "0  Kahului-Wailuku, HI  27980\n",
       "1       Rapid City, SD  39660\n",
       "2          Seymour, IN  42980\n",
       "3       Fort Wayne, IN  23060\n",
       "4             Napa, CA  34900"
      ]
     },
     "execution_count": 16,
     "metadata": {},
     "output_type": "execute_result"
    }
   ],
   "source": [
    "#Set up the dictionary base\n",
    "#The first entry in uniqueCBSA is NaN so we want\n",
    "#to remove that\n",
    "myFrame = pd.DataFrame({'name':list(uniqueCBSA)[1:]})\n",
    "#Add numerical label \n",
    "myFrame['id']=myFrame['name'].map(idmapper.get)\n",
    "myFrame.head()"
   ]
  },
  {
   "cell_type": "code",
   "execution_count": 17,
   "metadata": {
    "collapsed": false
   },
   "outputs": [
    {
     "name": "stdout",
     "output_type": "stream",
     "text": [
      "Number of cities without numerical ID match: 24\n"
     ]
    },
    {
     "data": {
      "text/html": [
       "<div>\n",
       "<table border=\"1\" class=\"dataframe\">\n",
       "  <thead>\n",
       "    <tr style=\"text-align: right;\">\n",
       "      <th></th>\n",
       "      <th>name</th>\n",
       "      <th>id</th>\n",
       "    </tr>\n",
       "  </thead>\n",
       "  <tbody>\n",
       "    <tr>\n",
       "      <th>17</th>\n",
       "      <td>Wenatchee, WA</td>\n",
       "      <td>None</td>\n",
       "    </tr>\n",
       "    <tr>\n",
       "      <th>35</th>\n",
       "      <td>San Antonio, TX</td>\n",
       "      <td>None</td>\n",
       "    </tr>\n",
       "    <tr>\n",
       "      <th>48</th>\n",
       "      <td>Portland-Vancouver-Beaverton, OR-WA</td>\n",
       "      <td>None</td>\n",
       "    </tr>\n",
       "    <tr>\n",
       "      <th>107</th>\n",
       "      <td>Bradenton-Sarasota-Venice, FL</td>\n",
       "      <td>None</td>\n",
       "    </tr>\n",
       "    <tr>\n",
       "      <th>111</th>\n",
       "      <td>Madera, CA</td>\n",
       "      <td>None</td>\n",
       "    </tr>\n",
       "    <tr>\n",
       "      <th>115</th>\n",
       "      <td>Atlantic City, NJ</td>\n",
       "      <td>None</td>\n",
       "    </tr>\n",
       "    <tr>\n",
       "      <th>141</th>\n",
       "      <td>Weirton-Steubenville, WV-OH</td>\n",
       "      <td>None</td>\n",
       "    </tr>\n",
       "    <tr>\n",
       "      <th>146</th>\n",
       "      <td>Chicago-Naperville-Joliet, IL-IN-WI</td>\n",
       "      <td>None</td>\n",
       "    </tr>\n",
       "    <tr>\n",
       "      <th>158</th>\n",
       "      <td>Bakersfield, CA</td>\n",
       "      <td>None</td>\n",
       "    </tr>\n",
       "    <tr>\n",
       "      <th>171</th>\n",
       "      <td>Durham, NC</td>\n",
       "      <td>None</td>\n",
       "    </tr>\n",
       "    <tr>\n",
       "      <th>197</th>\n",
       "      <td>Mayaguez, PR</td>\n",
       "      <td>None</td>\n",
       "    </tr>\n",
       "    <tr>\n",
       "      <th>205</th>\n",
       "      <td>Kennewick-Richland-Pasco, WA</td>\n",
       "      <td>None</td>\n",
       "    </tr>\n",
       "    <tr>\n",
       "      <th>256</th>\n",
       "      <td>Canon City, CO</td>\n",
       "      <td>None</td>\n",
       "    </tr>\n",
       "    <tr>\n",
       "      <th>277</th>\n",
       "      <td>Lakeland, FL</td>\n",
       "      <td>None</td>\n",
       "    </tr>\n",
       "    <tr>\n",
       "      <th>325</th>\n",
       "      <td>Orlando-Kissimmee, FL</td>\n",
       "      <td>None</td>\n",
       "    </tr>\n",
       "    <tr>\n",
       "      <th>378</th>\n",
       "      <td>Phoenix-Mesa-Scottsdale, AZ</td>\n",
       "      <td>None</td>\n",
       "    </tr>\n",
       "    <tr>\n",
       "      <th>381</th>\n",
       "      <td>Nashville-Davidson-Murfreesboro-Franklin, TN</td>\n",
       "      <td>None</td>\n",
       "    </tr>\n",
       "    <tr>\n",
       "      <th>410</th>\n",
       "      <td>Charlotte-Gastonia-Concord, NC-SC</td>\n",
       "      <td>None</td>\n",
       "    </tr>\n",
       "    <tr>\n",
       "      <th>420</th>\n",
       "      <td>Washington Court House, OH, AR</td>\n",
       "      <td>None</td>\n",
       "    </tr>\n",
       "    <tr>\n",
       "      <th>432</th>\n",
       "      <td>Panama City-Lynn Haven, FL</td>\n",
       "      <td>None</td>\n",
       "    </tr>\n",
       "    <tr>\n",
       "      <th>492</th>\n",
       "      <td>Fort Walton Beach-Crestview-Destin, FL</td>\n",
       "      <td>None</td>\n",
       "    </tr>\n",
       "    <tr>\n",
       "      <th>512</th>\n",
       "      <td>Austin-Round Rock, TX</td>\n",
       "      <td>None</td>\n",
       "    </tr>\n",
       "    <tr>\n",
       "      <th>517</th>\n",
       "      <td>Charleston-North Charleston, SC</td>\n",
       "      <td>None</td>\n",
       "    </tr>\n",
       "    <tr>\n",
       "      <th>530</th>\n",
       "      <td>Denver-Aurora, CO</td>\n",
       "      <td>None</td>\n",
       "    </tr>\n",
       "  </tbody>\n",
       "</table>\n",
       "</div>"
      ],
      "text/plain": [
       "                                             name    id\n",
       "17                                  Wenatchee, WA  None\n",
       "35                                San Antonio, TX  None\n",
       "48            Portland-Vancouver-Beaverton, OR-WA  None\n",
       "107                 Bradenton-Sarasota-Venice, FL  None\n",
       "111                                    Madera, CA  None\n",
       "115                             Atlantic City, NJ  None\n",
       "141                   Weirton-Steubenville, WV-OH  None\n",
       "146           Chicago-Naperville-Joliet, IL-IN-WI  None\n",
       "158                               Bakersfield, CA  None\n",
       "171                                    Durham, NC  None\n",
       "197                                  Mayaguez, PR  None\n",
       "205                  Kennewick-Richland-Pasco, WA  None\n",
       "256                                Canon City, CO  None\n",
       "277                                  Lakeland, FL  None\n",
       "325                         Orlando-Kissimmee, FL  None\n",
       "378                   Phoenix-Mesa-Scottsdale, AZ  None\n",
       "381  Nashville-Davidson-Murfreesboro-Franklin, TN  None\n",
       "410             Charlotte-Gastonia-Concord, NC-SC  None\n",
       "420                Washington Court House, OH, AR  None\n",
       "432                    Panama City-Lynn Haven, FL  None\n",
       "492        Fort Walton Beach-Crestview-Destin, FL  None\n",
       "512                         Austin-Round Rock, TX  None\n",
       "517               Charleston-North Charleston, SC  None\n",
       "530                             Denver-Aurora, CO  None"
      ]
     },
     "execution_count": 17,
     "metadata": {},
     "output_type": "execute_result"
    }
   ],
   "source": [
    "#Deal with missing numerical labels case-by-case...\n",
    "#Painful, but doable\n",
    "a = myFrame[pd.isnull(myFrame['id'])]\n",
    "print \"Number of cities without numerical ID match: \"+str(len(a))\n",
    "a"
   ]
  },
  {
   "cell_type": "code",
   "execution_count": 18,
   "metadata": {
    "collapsed": false
   },
   "outputs": [],
   "source": [
    "badmatch = {'Wenatchee, WA':'Wenatchee-East Wenatchee, WA','San Antonio, TX':'San Antonio-New Braunfels, TX',\n",
    "           'Portland-Vancouver-Beaverton, OR-WA':'Portland-Vancouver-Hillsboro, OR-WA','Bradenton-Sarasota-Venice, FL':'North Port-Bradenton-Sarasota, FL',\n",
    "           'Madera, CA':'Madera-Chowchilla, CA','Atlantic City, NJ':'Atlantic City-Hammonton, NJ','Weirton-Steubenville, WV-OH':'Steubenville-Weirton, OH-WV',\n",
    "           'Chicago-Naperville-Joliet, IL-IN-WI':'Chicago-Joliet-Naperville, IL-IN-WI','Bakersfield, CA':'Bakersfield-Delano, CA',\n",
    "           'Durham, NC':'Durham-Chapel Hill, NC','Mayaguez, PR':'Mayag\\xfcez, PR','Kennewick-Richland-Pasco, WA':'Kennewick-Pasco-Richland, WA',\n",
    "           'Canon City, CO':'Ca\\xf1on City, CO','Lakeland, FL':'Lakeland-Winter Haven, FL','Orlando-Kissimmee, FL':'Orlando-Kissimmee-Sanford, FL',\n",
    "           'Phoenix-Mesa-Scottsdale, AZ':'Phoenix-Mesa-Glendale, AZ','Nashville-Davidson-Murfreesboro-Franklin, TN':'Nashville-Davidson--Murfreesboro--Franklin, TN',\n",
    "           'Charlotte-Gastonia-Concord, NC-SC':'Charlotte-Gastonia-Rock Hill, NC-SC','Washington Court House, OH, AR':'Washington Court House, OH',\n",
    "           'Panama City-Lynn Haven, FL':'Panama City-Lynn Haven-Panama City Beach, FL','Fort Walton Beach-Crestview-Destin, FL':'Crestview-Fort Walton Beach-Destin, FL',\n",
    "           'Austin-Round Rock, TX':'Austin-Round Rock-San Marcos, TX','Charleston-North Charleston, SC':'Charleston-North Charleston-Summerville, SC',\n",
    "           'Denver-Aurora, CO':'Denver-Aurora-Broomfield, CO'}"
   ]
  },
  {
   "cell_type": "code",
   "execution_count": 19,
   "metadata": {
    "collapsed": false
   },
   "outputs": [],
   "source": [
    "#Update the mapper with these added entries\n",
    "idmapper2 = idmapper.copy()\n",
    "idmapper2.update(badmatch)"
   ]
  },
  {
   "cell_type": "code",
   "execution_count": 20,
   "metadata": {
    "collapsed": false
   },
   "outputs": [
    {
     "data": {
      "text/html": [
       "<div>\n",
       "<table border=\"1\" class=\"dataframe\">\n",
       "  <thead>\n",
       "    <tr style=\"text-align: right;\">\n",
       "      <th></th>\n",
       "      <th>name</th>\n",
       "      <th>id</th>\n",
       "    </tr>\n",
       "  </thead>\n",
       "  <tbody>\n",
       "    <tr>\n",
       "      <th>0</th>\n",
       "      <td>Kahului-Wailuku, HI</td>\n",
       "      <td>27980</td>\n",
       "    </tr>\n",
       "    <tr>\n",
       "      <th>1</th>\n",
       "      <td>Rapid City, SD</td>\n",
       "      <td>39660</td>\n",
       "    </tr>\n",
       "    <tr>\n",
       "      <th>2</th>\n",
       "      <td>Seymour, IN</td>\n",
       "      <td>42980</td>\n",
       "    </tr>\n",
       "    <tr>\n",
       "      <th>3</th>\n",
       "      <td>Fort Wayne, IN</td>\n",
       "      <td>23060</td>\n",
       "    </tr>\n",
       "    <tr>\n",
       "      <th>4</th>\n",
       "      <td>Napa, CA</td>\n",
       "      <td>34900</td>\n",
       "    </tr>\n",
       "  </tbody>\n",
       "</table>\n",
       "</div>"
      ],
      "text/plain": [
       "                  name     id\n",
       "0  Kahului-Wailuku, HI  27980\n",
       "1       Rapid City, SD  39660\n",
       "2          Seymour, IN  42980\n",
       "3       Fort Wayne, IN  23060\n",
       "4             Napa, CA  34900"
      ]
     },
     "execution_count": 20,
     "metadata": {},
     "output_type": "execute_result"
    }
   ],
   "source": [
    "#Rerun the mapping afresh\n",
    "myFrame = pd.DataFrame({'name':list(uniqueCBSA)[1:]})\n",
    "#Add numerical label \n",
    "myFrame['id']=myFrame['name'].map(idmapper2.get)\n",
    "myFrame.head()"
   ]
  },
  {
   "cell_type": "code",
   "execution_count": 21,
   "metadata": {
    "collapsed": false
   },
   "outputs": [
    {
     "name": "stdout",
     "output_type": "stream",
     "text": [
      "Number of cities without numerical ID match: 0\n"
     ]
    }
   ],
   "source": [
    "#Check the dataframe\n",
    "a = myFrame[pd.isnull(myFrame['id'])]\n",
    "print \"Number of cities without numerical ID match: \"+str(len(a))"
   ]
  },
  {
   "cell_type": "code",
   "execution_count": 22,
   "metadata": {
    "collapsed": false
   },
   "outputs": [
    {
     "data": {
      "text/html": [
       "<div>\n",
       "<table border=\"1\" class=\"dataframe\">\n",
       "  <thead>\n",
       "    <tr style=\"text-align: right;\">\n",
       "      <th></th>\n",
       "      <th>name_x</th>\n",
       "      <th>id</th>\n",
       "      <th>name_y</th>\n",
       "      <th>pop2010</th>\n",
       "      <th>latitude</th>\n",
       "      <th>longitude</th>\n",
       "    </tr>\n",
       "  </thead>\n",
       "  <tbody>\n",
       "    <tr>\n",
       "      <th>0</th>\n",
       "      <td>Kahului-Wailuku, HI</td>\n",
       "      <td>27980</td>\n",
       "      <td>NaN</td>\n",
       "      <td>NaN</td>\n",
       "      <td>NaN</td>\n",
       "      <td>NaN</td>\n",
       "    </tr>\n",
       "    <tr>\n",
       "      <th>1</th>\n",
       "      <td>Rapid City, SD</td>\n",
       "      <td>39660</td>\n",
       "      <td>Rapid City, SD Metro Area</td>\n",
       "      <td>67,956</td>\n",
       "      <td>44.0830460</td>\n",
       "      <td>-103.2262970</td>\n",
       "    </tr>\n",
       "    <tr>\n",
       "      <th>2</th>\n",
       "      <td>Seymour, IN</td>\n",
       "      <td>42980</td>\n",
       "      <td>NaN</td>\n",
       "      <td>NaN</td>\n",
       "      <td>NaN</td>\n",
       "      <td>NaN</td>\n",
       "    </tr>\n",
       "    <tr>\n",
       "      <th>3</th>\n",
       "      <td>Fort Wayne, IN</td>\n",
       "      <td>23060</td>\n",
       "      <td>Fort Wayne, IN Metro Area</td>\n",
       "      <td>416,257</td>\n",
       "      <td>41.0805560</td>\n",
       "      <td>-85.1391380</td>\n",
       "    </tr>\n",
       "    <tr>\n",
       "      <th>4</th>\n",
       "      <td>Napa, CA</td>\n",
       "      <td>34900</td>\n",
       "      <td>Napa, CA Metro Area</td>\n",
       "      <td>76,915</td>\n",
       "      <td>38.2966540</td>\n",
       "      <td>-122.2900950</td>\n",
       "    </tr>\n",
       "  </tbody>\n",
       "</table>\n",
       "</div>"
      ],
      "text/plain": [
       "                name_x     id                     name_y  pop2010    latitude     longitude\n",
       "0  Kahului-Wailuku, HI  27980                        NaN      NaN         NaN           NaN\n",
       "1       Rapid City, SD  39660  Rapid City, SD Metro Area   67,956  44.0830460  -103.2262970\n",
       "2          Seymour, IN  42980                        NaN      NaN         NaN           NaN\n",
       "3       Fort Wayne, IN  23060  Fort Wayne, IN Metro Area  416,257  41.0805560   -85.1391380\n",
       "4             Napa, CA  34900        Napa, CA Metro Area   76,915  38.2966540  -122.2900950"
      ]
     },
     "execution_count": 22,
     "metadata": {},
     "output_type": "execute_result"
    }
   ],
   "source": [
    "myFrame.merge(newdf,on='id',how='left').head()"
   ]
  },
  {
   "cell_type": "code",
   "execution_count": 23,
   "metadata": {
    "collapsed": false
   },
   "outputs": [],
   "source": [
    "#Add latitude longitude\n",
    "intermediate = myFrame.merge(newdf,on='id',how='left')\n",
    "intermediate.drop(intermediate.columns[2],axis=1,inplace=True)"
   ]
  },
  {
   "cell_type": "code",
   "execution_count": 24,
   "metadata": {
    "collapsed": false
   },
   "outputs": [
    {
     "data": {
      "text/html": [
       "<div>\n",
       "<table border=\"1\" class=\"dataframe\">\n",
       "  <thead>\n",
       "    <tr style=\"text-align: right;\">\n",
       "      <th></th>\n",
       "      <th>id</th>\n",
       "      <th>latitude</th>\n",
       "      <th>longitude</th>\n",
       "      <th>name</th>\n",
       "      <th>MetArea</th>\n",
       "      <th>pop2010</th>\n",
       "      <th>landarea</th>\n",
       "      <th>popdense2010</th>\n",
       "      <th>pop_weight2010</th>\n",
       "    </tr>\n",
       "  </thead>\n",
       "  <tbody>\n",
       "    <tr>\n",
       "      <th>0</th>\n",
       "      <td>27980</td>\n",
       "      <td>NaN</td>\n",
       "      <td>NaN</td>\n",
       "      <td>Kahului-Wailuku, HI</td>\n",
       "      <td>Micropolitan Statistical Area</td>\n",
       "      <td>154,834</td>\n",
       "      <td>1,161.5</td>\n",
       "      <td>133.3</td>\n",
       "      <td>2,310.8</td>\n",
       "    </tr>\n",
       "    <tr>\n",
       "      <th>1</th>\n",
       "      <td>39660</td>\n",
       "      <td>44.0830460</td>\n",
       "      <td>-103.2262970</td>\n",
       "      <td>Rapid City, SD</td>\n",
       "      <td>Metropolitan Statistical Area</td>\n",
       "      <td>126,382</td>\n",
       "      <td>6,247.5</td>\n",
       "      <td>20.2</td>\n",
       "      <td>1,170.8</td>\n",
       "    </tr>\n",
       "    <tr>\n",
       "      <th>2</th>\n",
       "      <td>42980</td>\n",
       "      <td>NaN</td>\n",
       "      <td>NaN</td>\n",
       "      <td>Seymour, IN</td>\n",
       "      <td>Micropolitan Statistical Area</td>\n",
       "      <td>42,376</td>\n",
       "      <td>509.3</td>\n",
       "      <td>83.2</td>\n",
       "      <td>784.2</td>\n",
       "    </tr>\n",
       "    <tr>\n",
       "      <th>3</th>\n",
       "      <td>23060</td>\n",
       "      <td>41.0805560</td>\n",
       "      <td>-85.1391380</td>\n",
       "      <td>Fort Wayne, IN</td>\n",
       "      <td>Metropolitan Statistical Area</td>\n",
       "      <td>416,257</td>\n",
       "      <td>1,361.0</td>\n",
       "      <td>305.9</td>\n",
       "      <td>1,964.2</td>\n",
       "    </tr>\n",
       "    <tr>\n",
       "      <th>4</th>\n",
       "      <td>34900</td>\n",
       "      <td>38.2966540</td>\n",
       "      <td>-122.2900950</td>\n",
       "      <td>Napa, CA</td>\n",
       "      <td>Metropolitan Statistical Area</td>\n",
       "      <td>136,484</td>\n",
       "      <td>748.4</td>\n",
       "      <td>182.4</td>\n",
       "      <td>4,045.9</td>\n",
       "    </tr>\n",
       "  </tbody>\n",
       "</table>\n",
       "</div>"
      ],
      "text/plain": [
       "      id    latitude     longitude                 name                        MetArea  pop2010 landarea popdense2010 pop_weight2010\n",
       "0  27980         NaN           NaN  Kahului-Wailuku, HI  Micropolitan Statistical Area  154,834  1,161.5        133.3        2,310.8\n",
       "1  39660  44.0830460  -103.2262970       Rapid City, SD  Metropolitan Statistical Area  126,382  6,247.5         20.2        1,170.8\n",
       "2  42980         NaN           NaN          Seymour, IN  Micropolitan Statistical Area   42,376    509.3         83.2          784.2\n",
       "3  23060  41.0805560   -85.1391380       Fort Wayne, IN  Metropolitan Statistical Area  416,257  1,361.0        305.9        1,964.2\n",
       "4  34900  38.2966540  -122.2900950             Napa, CA  Metropolitan Statistical Area  136,484    748.4        182.4        4,045.9"
      ]
     },
     "execution_count": 24,
     "metadata": {},
     "output_type": "execute_result"
    }
   ],
   "source": [
    "#Add population density\n",
    "DemoFrame = intermediate.merge(densityFile,on='id',how='left')\n",
    "DemoFrame.drop(DemoFrame.columns[[0,2]],axis=1,inplace=True)\n",
    "DemoFrame.columns=['id','latitude','longitude','name','MetArea','pop2010','landarea','popdense2010','pop_weight2010']\n",
    "DemoFrame.head()"
   ]
  },
  {
   "cell_type": "markdown",
   "metadata": {},
   "source": [
    "##MERGING DEMOGRAPHICS, AIR QUALITY, AND WEATHER"
   ]
  },
  {
   "cell_type": "markdown",
   "metadata": {},
   "source": [
    "What we need to do here is aggregate information across all these files. This is all *daily* information. So that's the first challenge. We will work with just the average daily readings to begin with. The we want to aggreate daily measurements at a location to average monthly readings at a location and average seasonal readings at a location. This may not be the *most* robust strategy, but it will hopefully give a good starting point."
   ]
  },
  {
   "cell_type": "code",
   "execution_count": 69,
   "metadata": {
    "collapsed": false
   },
   "outputs": [],
   "source": [
    "#DOING SEASONAL AVERAGING FIRST\n",
    "fileList = [pm25_frmfem,pm25_nofrmfem,pm10,temp,press,rh,dp,wind,co,no2,ozone,so2]\n",
    "fileName = ['PM25_FRMFEM','PM25_NOFRMFEM','PM10','TEMP','PRESS','RH','DP','WIND','CO','NO2','OZONE','SO2']\n",
    "count = 0\n",
    "for f,n in zip(fileList,fileName):\n",
    "    if count == 0:\n",
    "        group = f.groupby(['CBSA Name','season'])\n",
    "        means = group.mean()\n",
    "        means.drop(means.columns[[0,1,2,3,4,7,8,10,11,13]],axis=1,inplace=True)\n",
    "        means.reset_index()\n",
    "        means.reset_index(inplace=True)\n",
    "        means.rename(columns={ 'Arithmetic Mean' : n,'AQI' : 'AQI_'+n},inplace=True)\n",
    "    else:\n",
    "        group = f.groupby(['CBSA Name','season'])\n",
    "        toAdd = group.mean()\n",
    "        toAdd = pd.DataFrame(toAdd, columns=['Arithmetic Mean','AQI'])\n",
    "        toAdd.reset_index()\n",
    "        toAdd.reset_index(inplace=True)\n",
    "        toAdd.rename(columns={ 'Arithmetic Mean' : n,'AQI' : 'AQI_'+n},inplace=True)\n",
    "        means = pd.merge(means,toAdd.reset_index(),on=['CBSA Name','season'],how='outer').reset_index()\n",
    "        means.drop(['level_0','index'],axis=1,inplace=True)\n",
    "    count += 1\n",
    "means.drop(['month'],axis=1,inplace=True)"
   ]
  },
  {
   "cell_type": "code",
   "execution_count": 72,
   "metadata": {
    "collapsed": false
   },
   "outputs": [],
   "source": [
    "means['id']=means['CBSA Name'].map(idmapper2.get)"
   ]
  },
  {
   "cell_type": "code",
   "execution_count": 73,
   "metadata": {
    "collapsed": false
   },
   "outputs": [],
   "source": [
    "SeasonDat = means[means['id'].isin(myFrame['id'])]"
   ]
  },
  {
   "cell_type": "code",
   "execution_count": 74,
   "metadata": {
    "collapsed": false
   },
   "outputs": [
    {
     "data": {
      "text/plain": [
       "(2104, 29)"
      ]
     },
     "execution_count": 74,
     "metadata": {},
     "output_type": "execute_result"
    }
   ],
   "source": [
    "SeasonDat.shape"
   ]
  },
  {
   "cell_type": "code",
   "execution_count": 75,
   "metadata": {
    "collapsed": false
   },
   "outputs": [
    {
     "name": "stdout",
     "output_type": "stream",
     "text": [
      "# of Cities with Winter Data: 519\n",
      "# of Cities with Summer Data: 530\n",
      "# of Cities with Spring Data: 529\n",
      "# of Cities with Fall Data: 526\n"
     ]
    }
   ],
   "source": [
    "print \"# of Cities with Winter Data: \"+str(SeasonDat[SeasonDat['season']=='Winter'].shape[0])\n",
    "print \"# of Cities with Summer Data: \"+str(SeasonDat[SeasonDat['season']=='Summer'].shape[0])\n",
    "print \"# of Cities with Spring Data: \"+str(SeasonDat[SeasonDat['season']=='Spring'].shape[0])\n",
    "print \"# of Cities with Fall Data: \"+str(SeasonDat[SeasonDat['season']=='Fall'].shape[0])"
   ]
  },
  {
   "cell_type": "code",
   "execution_count": 85,
   "metadata": {
    "collapsed": false
   },
   "outputs": [
    {
     "data": {
      "text/plain": [
       "(6217, 29)"
      ]
     },
     "execution_count": 85,
     "metadata": {},
     "output_type": "execute_result"
    }
   ],
   "source": [
    "#DOING MONTHLY AVERAGING SECOND\n",
    "fileList = [pm25_frmfem,pm25_nofrmfem,pm10,temp,press,rh,dp,wind,co,no2,ozone,so2]\n",
    "fileName = ['PM25_FRMFEM','PM25_NOFRMFEM','PM10','TEMP','PRESS','RH','DP','WIND','CO','NO2','OZONE','SO2']\n",
    "count = 0\n",
    "for f,n in zip(fileList,fileName):\n",
    "    if count == 0:\n",
    "        group = f.groupby(['CBSA Name','month'])\n",
    "        means = group.mean()\n",
    "        means.drop(means.columns[[0,1,2,3,4,7,8,10,11,13]],axis=1,inplace=True)\n",
    "        means.reset_index()\n",
    "        means.reset_index(inplace=True)\n",
    "        means.rename(columns={ 'Arithmetic Mean' : n,'AQI' : 'AQI_'+n},inplace=True)\n",
    "    else:\n",
    "        group = f.groupby(['CBSA Name','month'])\n",
    "        toAdd = group.mean()\n",
    "        toAdd = pd.DataFrame(toAdd, columns=['Arithmetic Mean','AQI'])\n",
    "        toAdd.reset_index()\n",
    "        toAdd.reset_index(inplace=True)\n",
    "        toAdd.rename(columns={ 'Arithmetic Mean' : n,'AQI' : 'AQI_'+n},inplace=True)\n",
    "        means = pd.merge(means,toAdd.reset_index(),on=['CBSA Name','month'],how='outer').reset_index()\n",
    "        means.drop(['level_0','index'],axis=1,inplace=True)\n",
    "    count += 1\n",
    "means['id']=means['CBSA Name'].map(idmapper2.get)\n",
    "MonthDat = means[means['id'].isin(myFrame['id'])]\n",
    "MonthDat.shape"
   ]
  },
  {
   "cell_type": "code",
   "execution_count": 86,
   "metadata": {
    "collapsed": false
   },
   "outputs": [
    {
     "name": "stdout",
     "output_type": "stream",
     "text": [
      "# of Cities with January Data: 507\n",
      "# of Cities with February Data: 510\n",
      "# of Cities with March Data: 522\n",
      "# of Cities with April Data: 527\n",
      "# of Cities with May Data: 528\n",
      "# of Cities with June Data: 528\n",
      "# of Cities with July Data: 527\n",
      "# of Cities with August Data: 530\n",
      "# of Cities with September Data: 524\n",
      "# of Cities with October Data: 521\n",
      "# of Cities with November Data: 497\n",
      "# of Cities with December Data: 496\n"
     ]
    }
   ],
   "source": [
    "print \"# of Cities with January Data: \"+str(MonthDat[MonthDat['month']==1].shape[0])\n",
    "print \"# of Cities with February Data: \"+str(MonthDat[MonthDat['month']==2].shape[0])\n",
    "print \"# of Cities with March Data: \"+str(MonthDat[MonthDat['month']==3].shape[0])\n",
    "print \"# of Cities with April Data: \"+str(MonthDat[MonthDat['month']==4].shape[0])\n",
    "print \"# of Cities with May Data: \"+str(MonthDat[MonthDat['month']==5].shape[0])\n",
    "print \"# of Cities with June Data: \"+str(MonthDat[MonthDat['month']==6].shape[0])\n",
    "print \"# of Cities with July Data: \"+str(MonthDat[MonthDat['month']==7].shape[0])\n",
    "print \"# of Cities with August Data: \"+str(MonthDat[MonthDat['month']==8].shape[0])\n",
    "print \"# of Cities with September Data: \"+str(MonthDat[MonthDat['month']==9].shape[0])\n",
    "print \"# of Cities with October Data: \"+str(MonthDat[MonthDat['month']==10].shape[0])\n",
    "print \"# of Cities with November Data: \"+str(MonthDat[MonthDat['month']==11].shape[0])\n",
    "print \"# of Cities with December Data: \"+str(MonthDat[MonthDat['month']==12].shape[0])"
   ]
  },
  {
   "cell_type": "code",
   "execution_count": 87,
   "metadata": {
    "collapsed": false
   },
   "outputs": [
    {
     "data": {
      "text/html": [
       "<div>\n",
       "<table border=\"1\" class=\"dataframe\">\n",
       "  <thead>\n",
       "    <tr style=\"text-align: right;\">\n",
       "      <th></th>\n",
       "      <th>id</th>\n",
       "      <th>latitude</th>\n",
       "      <th>longitude</th>\n",
       "      <th>name</th>\n",
       "      <th>MetArea</th>\n",
       "      <th>pop2010</th>\n",
       "      <th>landarea</th>\n",
       "      <th>popdense2010</th>\n",
       "      <th>pop_weight2010</th>\n",
       "    </tr>\n",
       "  </thead>\n",
       "  <tbody>\n",
       "    <tr>\n",
       "      <th>0</th>\n",
       "      <td>27980</td>\n",
       "      <td>NaN</td>\n",
       "      <td>NaN</td>\n",
       "      <td>Kahului-Wailuku, HI</td>\n",
       "      <td>Micropolitan Statistical Area</td>\n",
       "      <td>154,834</td>\n",
       "      <td>1,161.5</td>\n",
       "      <td>133.3</td>\n",
       "      <td>2,310.8</td>\n",
       "    </tr>\n",
       "    <tr>\n",
       "      <th>1</th>\n",
       "      <td>39660</td>\n",
       "      <td>44.0830460</td>\n",
       "      <td>-103.2262970</td>\n",
       "      <td>Rapid City, SD</td>\n",
       "      <td>Metropolitan Statistical Area</td>\n",
       "      <td>126,382</td>\n",
       "      <td>6,247.5</td>\n",
       "      <td>20.2</td>\n",
       "      <td>1,170.8</td>\n",
       "    </tr>\n",
       "    <tr>\n",
       "      <th>2</th>\n",
       "      <td>42980</td>\n",
       "      <td>NaN</td>\n",
       "      <td>NaN</td>\n",
       "      <td>Seymour, IN</td>\n",
       "      <td>Micropolitan Statistical Area</td>\n",
       "      <td>42,376</td>\n",
       "      <td>509.3</td>\n",
       "      <td>83.2</td>\n",
       "      <td>784.2</td>\n",
       "    </tr>\n",
       "    <tr>\n",
       "      <th>3</th>\n",
       "      <td>23060</td>\n",
       "      <td>41.0805560</td>\n",
       "      <td>-85.1391380</td>\n",
       "      <td>Fort Wayne, IN</td>\n",
       "      <td>Metropolitan Statistical Area</td>\n",
       "      <td>416,257</td>\n",
       "      <td>1,361.0</td>\n",
       "      <td>305.9</td>\n",
       "      <td>1,964.2</td>\n",
       "    </tr>\n",
       "    <tr>\n",
       "      <th>4</th>\n",
       "      <td>34900</td>\n",
       "      <td>38.2966540</td>\n",
       "      <td>-122.2900950</td>\n",
       "      <td>Napa, CA</td>\n",
       "      <td>Metropolitan Statistical Area</td>\n",
       "      <td>136,484</td>\n",
       "      <td>748.4</td>\n",
       "      <td>182.4</td>\n",
       "      <td>4,045.9</td>\n",
       "    </tr>\n",
       "  </tbody>\n",
       "</table>\n",
       "</div>"
      ],
      "text/plain": [
       "      id    latitude     longitude                 name                        MetArea  pop2010 landarea popdense2010 pop_weight2010\n",
       "0  27980         NaN           NaN  Kahului-Wailuku, HI  Micropolitan Statistical Area  154,834  1,161.5        133.3        2,310.8\n",
       "1  39660  44.0830460  -103.2262970       Rapid City, SD  Metropolitan Statistical Area  126,382  6,247.5         20.2        1,170.8\n",
       "2  42980         NaN           NaN          Seymour, IN  Micropolitan Statistical Area   42,376    509.3         83.2          784.2\n",
       "3  23060  41.0805560   -85.1391380       Fort Wayne, IN  Metropolitan Statistical Area  416,257  1,361.0        305.9        1,964.2\n",
       "4  34900  38.2966540  -122.2900950             Napa, CA  Metropolitan Statistical Area  136,484    748.4        182.4        4,045.9"
      ]
     },
     "execution_count": 87,
     "metadata": {},
     "output_type": "execute_result"
    }
   ],
   "source": [
    "SeasonDat.head()\n",
    "DemoFrame.head()"
   ]
  },
  {
   "cell_type": "code",
   "execution_count": 88,
   "metadata": {
    "collapsed": false
   },
   "outputs": [],
   "source": [
    "#Merge in demographic info\n",
    "SeasonDat = SeasonDat.merge(DemoFrame[['id','MetArea','pop2010','landarea','popdense2010','pop_weight2010']],on='id',how='left')\n",
    "MonthDat = MonthDat.merge(DemoFrame[['id','MetArea','pop2010','landarea','popdense2010','pop_weight2010']],on='id',how='left')"
   ]
  },
  {
   "cell_type": "markdown",
   "metadata": {},
   "source": [
    "##BASIC DESCRIPTIVE VISUALIZATIONS"
   ]
  },
  {
   "cell_type": "code",
   "execution_count": 112,
   "metadata": {
    "collapsed": false
   },
   "outputs": [
    {
     "data": {
      "text/plain": [
       "<matplotlib.text.Text at 0x1f950048>"
      ]
     },
     "execution_count": 112,
     "metadata": {},
     "output_type": "execute_result"
    },
    {
     "data": {
      "image/png": "[encoded data removed]",
      "text/plain": [
       "<matplotlib.figure.Figure at 0x1f89e048>"
      ]
     },
     "metadata": {},
     "output_type": "display_data"
    }
   ],
   "source": [
    "#Visualize the average pollutants monthly\n",
    "group = MonthDat.groupby('month')\n",
    "plotVals = group.mean()\n",
    "plotError = group.std()\n",
    "fig, ax1 = plt.subplots()\n",
    "plt.locator_params(nbins=12)\n",
    "plt.grid(False)\n",
    "plt.errorbar(plotVals.index,plotVals.AQI_PM25_FRMFEM, yerr=2*plotError.AQI_PM25_FRMFEM,label='PM2.5 FRM/FEM',alpha=.7)\n",
    "plt.errorbar(plotVals.index,plotVals.AQI_PM10, yerr=2*plotError.AQI_PM10,label='PM10',alpha=.7)\n",
    "plt.errorbar(plotVals.index,plotVals.AQI_CO, yerr=2*plotError.AQI_CO,label='CO',alpha=.7)\n",
    "plt.errorbar(plotVals.index,plotVals.AQI_NO2, yerr=2*plotError.AQI_NO2,label='NO2',alpha=.7)\n",
    "plt.errorbar(plotVals.index,plotVals.AQI_SO2, yerr=2*plotError.AQI_SO2,label='SO2',alpha=.7)\n",
    "plt.errorbar(plotVals.index,plotVals.AQI_OZONE, yerr=2*plotError.AQI_OZONE,label='Ozone',alpha=.7)\n",
    "ax1.set_xticklabels(('Jan','Feb','Mar','Apr','May','June','July','Aug','Sept','Oct','Nov','Dec'))\n",
    "ax1.set_xlabel('Month')\n",
    "ax1.set_ylabel(\"Average Monthly AQI Score Across All Sites\")\n",
    "ax1.legend(loc='upper right')\n",
    "plt.title('Monthly Trend of Average Pollutants Across the US')"
   ]
  },
  {
   "cell_type": "markdown",
   "metadata": {},
   "source": [
    "There are a few main takeaways from this graph:\n",
    "1. Trends seem fairly stable through the months for most pollutants. $NO_2$ seems to have mild increases in the colder months which makes sense. Ozone and PM2.5 seem to have the most elevated levels compared to other pollutants.\n",
    "2. All these pollutants on average are below 50 putting them in the good range\n",
    "3. There are large errors on these averages suggesting a fair amount of variation in on a site to site basis. This provides some hope for classification of cities."
   ]
  },
  {
   "cell_type": "code",
   "execution_count": 149,
   "metadata": {
    "collapsed": false
   },
   "outputs": [
    {
     "data": {
      "text/plain": [
       "[35.161509720912356,\n",
       " 16.184087252212741,\n",
       " 5.2734127016776693,\n",
       " 19.804743899377321,\n",
       " 6.8402770637803156,\n",
       " 30.649413307954386]"
      ]
     },
     "execution_count": 149,
     "metadata": {},
     "output_type": "execute_result"
    }
   ],
   "source": [
    "list(plotVals[plotVals.index=='Winter'][['AQI_PM25_FRMFEM','AQI_PM10','AQI_CO','AQI_NO2','AQI_SO2','AQI_OZONE']].values[0])"
   ]
  },
  {
   "cell_type": "code",
   "execution_count": 159,
   "metadata": {
    "collapsed": false
   },
   "outputs": [
    {
     "data": {
      "text/plain": [
       "[35.161509720912356, 31.151234023864394, 35.19861067366199, 31.800159531854327]"
      ]
     },
     "execution_count": 159,
     "metadata": {},
     "output_type": "execute_result"
    }
   ],
   "source": [
    "[float(plotVals[plotVals.index=='Winter']['AQI_PM25_FRMFEM']),float(plotVals[plotVals.index=='Spring']['AQI_PM25_FRMFEM']),\n",
    " float(plotVals[plotVals.index=='Summer']['AQI_PM25_FRMFEM']),float(plotVals[plotVals.index=='Fall']['AQI_PM25_FRMFEM'])]"
   ]
  },
  {
   "cell_type": "code",
   "execution_count": 202,
   "metadata": {
    "collapsed": false
   },
   "outputs": [
    {
     "data": {
      "text/plain": [
       "<matplotlib.text.Text at 0x3db66ef0>"
      ]
     },
     "execution_count": 202,
     "metadata": {},
     "output_type": "execute_result"
    },
    {
     "data": {
      "image/png": "[encoded data removed]",
      "text/plain": [
       "<matplotlib.figure.Figure at 0x209afa58>"
      ]
     },
     "metadata": {},
     "output_type": "display_data"
    }
   ],
   "source": [
    "#Visualize the average pollutants by season\n",
    "group = SeasonDat.groupby('season')\n",
    "plotVals = group.mean()\n",
    "plotError = group.std()\n",
    "fig, ax1 = plt.subplots()\n",
    "x=[0,1,2,3]\n",
    "pm25_bar=plt.bar(x,[float(plotVals[plotVals.index=='Winter']['AQI_PM25_FRMFEM']),float(plotVals[plotVals.index=='Spring']['AQI_PM25_FRMFEM']),\n",
    " float(plotVals[plotVals.index=='Summer']['AQI_PM25_FRMFEM']),float(plotVals[plotVals.index=='Fall']['AQI_PM25_FRMFEM'])],\n",
    "                  width=.15,color='blue',alpha=.6,yerr=[2*float(plotError[plotError.index=='Winter']['AQI_PM25_FRMFEM']),2*float(plotError[plotError.index=='Spring']['AQI_PM25_FRMFEM']),\n",
    " 2*float(plotError[plotError.index=='Summer']['AQI_PM25_FRMFEM']),2*float(plotError[plotError.index=='Fall']['AQI_PM25_FRMFEM'])],error_kw=dict(ecolor='gray', lw=1, capsize=5, capthick=2))\n",
    "\n",
    "pm10_bar=plt.bar([i+.15 for i in x],[float(plotVals[plotVals.index=='Winter']['AQI_PM10']),float(plotVals[plotVals.index=='Spring']['AQI_PM10']),\n",
    " float(plotVals[plotVals.index=='Summer']['AQI_PM10']),float(plotVals[plotVals.index=='Fall']['AQI_PM10'])],\n",
    "                  width=.15,color='red',alpha=.6,yerr=[2*float(plotError[plotError.index=='Winter']['AQI_PM10']),2*float(plotError[plotError.index=='Spring']['AQI_PM10']),\n",
    " 2*float(plotError[plotError.index=='Summer']['AQI_PM10']),2*float(plotError[plotError.index=='Fall']['AQI_PM10'])],error_kw=dict(ecolor='gray', lw=1, capsize=5, capthick=2))\n",
    "\n",
    "co_bar=plt.bar([i+.3 for i in x],[float(plotVals[plotVals.index=='Winter']['AQI_CO']),float(plotVals[plotVals.index=='Spring']['AQI_CO']),\n",
    " float(plotVals[plotVals.index=='Summer']['AQI_CO']),float(plotVals[plotVals.index=='Fall']['AQI_CO'])],\n",
    "                  width=.15,color='green',alpha=.6,yerr=[2*float(plotError[plotError.index=='Winter']['AQI_CO']),2*float(plotError[plotError.index=='Spring']['AQI_CO']),\n",
    " 2*float(plotError[plotError.index=='Summer']['AQI_CO']),2*float(plotError[plotError.index=='Fall']['AQI_CO'])],error_kw=dict(ecolor='gray', lw=1, capsize=5, capthick=2))\n",
    "\n",
    "no2_bar=plt.bar([i+.45 for i in x],[float(plotVals[plotVals.index=='Winter']['AQI_NO2']),float(plotVals[plotVals.index=='Spring']['AQI_NO2']),\n",
    " float(plotVals[plotVals.index=='Summer']['AQI_NO2']),float(plotVals[plotVals.index=='Fall']['AQI_NO2'])],\n",
    "                  width=.15,color='yellow',alpha=.6,yerr=[2*float(plotError[plotError.index=='Winter']['AQI_NO2']),2*float(plotError[plotError.index=='Spring']['AQI_NO2']),\n",
    " 2*float(plotError[plotError.index=='Summer']['AQI_NO2']),2*float(plotError[plotError.index=='Fall']['AQI_NO2'])],error_kw=dict(ecolor='gray', lw=1, capsize=5, capthick=2))\n",
    "\n",
    "so2_bar=plt.bar([i+.6 for i in x],[float(plotVals[plotVals.index=='Winter']['AQI_SO2']),float(plotVals[plotVals.index=='Spring']['AQI_SO2']),\n",
    " float(plotVals[plotVals.index=='Summer']['AQI_SO2']),float(plotVals[plotVals.index=='Fall']['AQI_SO2'])],\n",
    "                  width=.15,color='purple',alpha=.6,yerr=[2*float(plotError[plotError.index=='Winter']['AQI_SO2']),2*float(plotError[plotError.index=='Spring']['AQI_SO2']),\n",
    " 2*float(plotError[plotError.index=='Summer']['AQI_SO2']),2*float(plotError[plotError.index=='Fall']['AQI_SO2'])],error_kw=dict(ecolor='gray', lw=1, capsize=5, capthick=2))\n",
    "\n",
    "ozone_bar=plt.bar([i+.75 for i in x],[float(plotVals[plotVals.index=='Winter']['AQI_OZONE']),float(plotVals[plotVals.index=='Spring']['AQI_OZONE']),\n",
    " float(plotVals[plotVals.index=='Summer']['AQI_OZONE']),float(plotVals[plotVals.index=='Fall']['AQI_OZONE'])],\n",
    "                  width=.15,color='grey',alpha=.6,yerr=[2*float(plotError[plotError.index=='Winter']['AQI_OZONE']),2*float(plotError[plotError.index=='Spring']['AQI_OZONE']),\n",
    " 2*float(plotError[plotError.index=='Summer']['AQI_OZONE']),2*float(plotError[plotError.index=='Fall']['AQI_OZONE'])],error_kw=dict(ecolor='gray', lw=1, capsize=5, capthick=2))\n",
    "\n",
    "plt.xticks([i+.4 for i in x],['Winter','Spring','Summer','Fall'],rotation=45,ha='right')\n",
    "ax1.set_ylim(-20,70)\n",
    "plt.ylabel('Average Seasonal AQI')\n",
    "plt.legend((pm25_bar,pm10_bar,co_bar,no2_bar,so2_bar,ozone_bar),('PM2.5 FRM/FEM','PM10','CO','NO2','SO2','Ozone'),ncol=2)\n",
    "plt.title('Seasonal Average of Pollutants Across the US')"
   ]
  },
  {
   "cell_type": "markdown",
   "metadata": {},
   "source": [
    "Again, we see quite variable measurements as evidenced by the large error bars. It may be possible to see differences in pollution profiles between cities as there seems to be variation in the AQI's for each site. There is not a lot of seasonal trend for most pollutants. This suggests that perhaps looking at a yearly average for each site may be appropriate for analysis."
   ]
  },
  {
   "cell_type": "code",
   "execution_count": 484,
   "metadata": {
    "collapsed": false
   },
   "outputs": [
    {
     "data": {
      "text/plain": [
       "(42, 27)"
      ]
     },
     "execution_count": 484,
     "metadata": {},
     "output_type": "execute_result"
    }
   ],
   "source": [
    "'''\n",
    "SeasonDat = SeasonDat[pd.notnull(SeasonDat['PM25_FRMFEM'])]\n",
    "SeasonDat = SeasonDat[pd.notnull(SeasonDat['PM25_NOFRMFEM'])]\n",
    "SeasonDat = SeasonDat[pd.notnull(SeasonDat['PM10'])]\n",
    "SeasonDat = SeasonDat[pd.notnull(SeasonDat['TEMP'])]\n",
    "SeasonDat = SeasonDat[pd.notnull(SeasonDat['PRESS'])]\n",
    "SeasonDat = SeasonDat[pd.notnull(SeasonDat['RH'])]\n",
    "#SeasonDat = SeasonDat[pd.notnull(SeasonDat['DP'])]\n",
    "SeasonDat = SeasonDat[pd.notnull(SeasonDat['CO'])]\n",
    "SeasonDat = SeasonDat[pd.notnull(SeasonDat['NO2'])]\n",
    "SeasonDat = SeasonDat[pd.notnull(SeasonDat['OZONE'])]\n",
    "SeasonDat = SeasonDat[pd.notnull(SeasonDat['SO2'])]\n",
    "SeasonDat[SeasonDat.season=='Fall'].shape\n",
    "'''"
   ]
  },
  {
   "cell_type": "code",
   "execution_count": null,
   "metadata": {
    "collapsed": true
   },
   "outputs": [],
   "source": []
  },
  {
   "cell_type": "code",
   "execution_count": null,
   "metadata": {
    "collapsed": true
   },
   "outputs": [],
   "source": []
  },
  {
   "cell_type": "code",
   "execution_count": 33,
   "metadata": {
    "collapsed": false
   },
   "outputs": [],
   "source": [
    "#Groupby identifiers and season\n",
    "#We also create a month breakdown simultaneously\n",
    "group = pm25.groupby(['Local Site Name','State Name','County Name','City Name','season'])\n",
    "group2 = pm25.groupby(['Local Site Name','State Name','County Name','City Name','month'])\n",
    "#Get mean of the observation\n",
    "pollDat_s = group.mean()\n",
    "pollDat_m = group2.mean()\n",
    "#Pull all the relevant descriptors for the particular city\n",
    "#along with the observation for PM2.5\n",
    "pollDat_s['PM25_frmfem']=pollDat_s['Arithmetic Mean']\n",
    "pollDat_m['PM25_frmfem']=pollDat_m['Arithmetic Mean']\n",
    "#Get rid of extra stuff we're not interested in\n",
    "pollDat_s.drop('Observation Count',axis=1,inplace=True)\n",
    "pollDat_s.drop('Observation Percent',axis=1,inplace=True)\n",
    "pollDat_s.drop('Arithmetic Mean',axis=1,inplace=True)\n",
    "pollDat_s.drop('1st Max Value',axis=1,inplace=True)\n",
    "pollDat_s.drop('1st Max Hour',axis=1,inplace=True)\n",
    "pollDat_s.drop('AQI',axis=1,inplace=True)\n",
    "pollDat_s.drop('Method Code',axis=1,inplace=True)\n",
    "pollDat_s.drop('Parameter Code',axis=1,inplace=True)\n",
    "pollDat_s.drop('POC',axis=1,inplace=True)\n",
    "pollDat_m.drop('Observation Count',axis=1,inplace=True)\n",
    "pollDat_m.drop('Observation Percent',axis=1,inplace=True)\n",
    "pollDat_m.drop('Arithmetic Mean',axis=1,inplace=True)\n",
    "pollDat_m.drop('1st Max Value',axis=1,inplace=True)\n",
    "pollDat_m.drop('1st Max Hour',axis=1,inplace=True)\n",
    "pollDat_m.drop('AQI',axis=1,inplace=True)\n",
    "pollDat_m.drop('Method Code',axis=1,inplace=True)\n",
    "pollDat_m.drop('Parameter Code',axis=1,inplace=True)\n",
    "pollDat_m.drop('POC',axis=1,inplace=True)"
   ]
  },
  {
   "cell_type": "markdown",
   "metadata": {},
   "source": [
    "**PM2.5_no_frmfem**"
   ]
  },
  {
   "cell_type": "code",
   "execution_count": 34,
   "metadata": {
    "collapsed": false
   },
   "outputs": [],
   "source": [
    "#Using PM2.5_no_frmfem\n"
   ]
  },
  {
   "cell_type": "code",
   "execution_count": 35,
   "metadata": {
    "collapsed": false
   },
   "outputs": [],
   "source": [
    "#Get the seasonal means\n",
    "group = pm25_nofrmfem.groupby(['Local Site Name','season'])\n",
    "group2 = pm25_nofrmfem.groupby(['Local Site Name','month'])\n",
    "intmed = group.mean()\n",
    "intmed2 = group2.mean()\n",
    "intmed['PM25_no_frmfem']=intmed['Arithmetic Mean']\n",
    "intmed=intmed.ix[:,['PM25_no_frmfem']]\n",
    "intmed2['PM25_no_frmfem']=intmed2['Arithmetic Mean']\n",
    "intmed2=intmed2.ix[:,['PM25_no_frmfem']]"
   ]
  },
  {
   "cell_type": "code",
   "execution_count": 36,
   "metadata": {
    "collapsed": false
   },
   "outputs": [],
   "source": [
    "#Merge with the original data\n",
    "pollDat_s = pd.merge(pollDat_s.reset_index(),intmed.reset_index(),on=['Local Site Name','season'],how='outer').reset_index()\n",
    "pollDat_m = pd.merge(pollDat_m.reset_index(),intmed2.reset_index(),on=['Local Site Name','month'],how='outer').reset_index()"
   ]
  },
  {
   "cell_type": "markdown",
   "metadata": {},
   "source": [
    "**PM10**"
   ]
  },
  {
   "cell_type": "code",
   "execution_count": 39,
   "metadata": {
    "collapsed": false
   },
   "outputs": [],
   "source": [
    "group = pm10.groupby(['Local Site Name','season'])\n",
    "group2 = pm10.groupby(['Local Site Name','month'])\n",
    "intmed = group.mean()\n",
    "intmed['PM10']=intmed['Arithmetic Mean']\n",
    "intmed2 = group2.mean()\n",
    "intmed2['PM10']=intmed2['Arithmetic Mean']\n",
    "intmed=intmed.ix[:,['PM10']]\n",
    "intmed2=intmed2.ix[:,['PM10']]\n",
    "pollDat_s = pd.merge(pollDat_s,intmed.reset_index(),on=['Local Site Name','season'],how='outer').reset_index()\n",
    "pollDat_s.drop('level_0',axis=1,inplace=True)\n",
    "pollDat_m = pd.merge(pollDat_m,intmed2.reset_index(),on=['Local Site Name','month'],how='outer').reset_index()\n",
    "pollDat_m.drop('level_0',axis=1,inplace=True)"
   ]
  },
  {
   "cell_type": "markdown",
   "metadata": {},
   "source": [
    "**Air Pressure**"
   ]
  },
  {
   "cell_type": "code",
   "execution_count": 40,
   "metadata": {
    "collapsed": false
   },
   "outputs": [],
   "source": [
    "group = press.groupby(['Local Site Name','season'])\n",
    "group2 = press.groupby(['Local Site Name','month'])\n",
    "intmed = group.mean()\n",
    "intmed['Press']=intmed['Arithmetic Mean']\n",
    "intmed=intmed.ix[:,['Press']]\n",
    "pollDat_s = pd.merge(pollDat_s,intmed.reset_index(),on=['Local Site Name','season'],how='outer').reset_index()\n",
    "pollDat_s.drop('level_0',axis=1,inplace=True)\n",
    "intmed2 = group2.mean()\n",
    "intmed2['Press']=intmed2['Arithmetic Mean']\n",
    "intmed2=intmed2.ix[:,['Press']]\n",
    "pollDat_m = pd.merge(pollDat_m,intmed2.reset_index(),on=['Local Site Name','month'],how='outer').reset_index()\n",
    "pollDat_m.drop('level_0',axis=1,inplace=True)"
   ]
  },
  {
   "cell_type": "markdown",
   "metadata": {},
   "source": [
    "**Temperature**"
   ]
  },
  {
   "cell_type": "code",
   "execution_count": 41,
   "metadata": {
    "collapsed": false
   },
   "outputs": [],
   "source": [
    "group = temp.groupby(['Local Site Name','season'])\n",
    "intmed = group.mean()\n",
    "intmed['Temp']=intmed['Arithmetic Mean']\n",
    "intmed=intmed.ix[:,['Temp']]\n",
    "pollDat_s = pd.merge(pollDat_s,intmed.reset_index(),on=['Local Site Name','season'],how='outer').reset_index()\n",
    "pollDat_s.drop('level_0',axis=1,inplace=True)\n",
    "group2 = temp.groupby(['Local Site Name','month'])\n",
    "intmed2 = group2.mean()\n",
    "intmed2['Temp']=intmed2['Arithmetic Mean']\n",
    "intmed2=intmed2.ix[:,['Temp']]\n",
    "pollDat_m = pd.merge(pollDat_m,intmed2.reset_index(),on=['Local Site Name','month'],how='outer').reset_index()\n",
    "pollDat_m.drop('level_0',axis=1,inplace=True)"
   ]
  },
  {
   "cell_type": "markdown",
   "metadata": {},
   "source": [
    "**Relative Humidity and Dewpoint**"
   ]
  },
  {
   "cell_type": "code",
   "execution_count": 43,
   "metadata": {
    "collapsed": true
   },
   "outputs": [],
   "source": []
  },
  {
   "cell_type": "code",
   "execution_count": 44,
   "metadata": {
    "collapsed": false
   },
   "outputs": [],
   "source": [
    "group = rh.groupby(['Local Site Name','season'])\n",
    "intmed = group.mean()\n",
    "intmed['RH']=intmed['Arithmetic Mean']\n",
    "intmed=intmed.ix[:,['RH']]\n",
    "pollDat_s = pd.merge(pollDat_s,intmed.reset_index(),on=['Local Site Name','season'],how='outer').reset_index()\n",
    "pollDat_s.drop('level_0',axis=1,inplace=True)\n",
    "group2 = rh.groupby(['Local Site Name','month'])\n",
    "intmed2 = group2.mean()\n",
    "intmed2['RH']=intmed2['Arithmetic Mean']\n",
    "intmed2=intmed2.ix[:,['RH']]\n",
    "pollDat_m = pd.merge(pollDat_m,intmed2.reset_index(),on=['Local Site Name','month'],how='outer').reset_index()\n",
    "pollDat_m.drop('level_0',axis=1,inplace=True)"
   ]
  },
  {
   "cell_type": "code",
   "execution_count": 45,
   "metadata": {
    "collapsed": false
   },
   "outputs": [],
   "source": [
    "group = dp.groupby(['Local Site Name','season'])\n",
    "intmed = group.mean()\n",
    "intmed['DP']=intmed['Arithmetic Mean']\n",
    "intmed=intmed.ix[:,['DP']]\n",
    "pollDat_s = pd.merge(pollDat_s,intmed.reset_index(),on=['Local Site Name','season'],how='outer').reset_index()\n",
    "pollDat_s.drop('level_0',axis=1,inplace=True)\n",
    "group2 = dp.groupby(['Local Site Name','month'])\n",
    "intmed2 = group2.mean()\n",
    "intmed2['DP']=intmed2['Arithmetic Mean']\n",
    "intmed2=intmed2.ix[:,['DP']]\n",
    "pollDat_m = pd.merge(pollDat_m,intmed2.reset_index(),on=['Local Site Name','month'],how='outer').reset_index()\n",
    "pollDat_m.drop('level_0',axis=1,inplace=True)"
   ]
  },
  {
   "cell_type": "markdown",
   "metadata": {},
   "source": [
    "**Wind**"
   ]
  },
  {
   "cell_type": "code",
   "execution_count": 46,
   "metadata": {
    "collapsed": true
   },
   "outputs": [],
   "source": [
    "group = wind.groupby(['Local Site Name','season'])\n",
    "intmed = group.mean()\n",
    "intmed['Wind']=intmed['Arithmetic Mean']\n",
    "intmed=intmed.ix[:,['Wind']]\n",
    "pollDat_s = pd.merge(pollDat_s,intmed.reset_index(),on=['Local Site Name','season'],how='outer').reset_index()\n",
    "pollDat_s.drop('level_0',axis=1,inplace=True)\n",
    "group2 = wind.groupby(['Local Site Name','month'])\n",
    "intmed2 = group2.mean()\n",
    "intmed2['Wind']=intmed2['Arithmetic Mean']\n",
    "intmed2=intmed2.ix[:,['Wind']]\n",
    "pollDat_m = pd.merge(pollDat_m,intmed2.reset_index(),on=['Local Site Name','month'],how='outer').reset_index()\n",
    "pollDat_m.drop('level_0',axis=1,inplace=True)"
   ]
  },
  {
   "cell_type": "markdown",
   "metadata": {},
   "source": [
    "**CO**"
   ]
  },
  {
   "cell_type": "code",
   "execution_count": 47,
   "metadata": {
    "collapsed": true
   },
   "outputs": [],
   "source": [
    "group = co.groupby(['Local Site Name','season'])\n",
    "intmed = group.mean()\n",
    "intmed['CO']=intmed['Arithmetic Mean']\n",
    "intmed=intmed.ix[:,['CO']]\n",
    "pollDat_s = pd.merge(pollDat_s,intmed.reset_index(),on=['Local Site Name','season'],how='outer').reset_index()\n",
    "pollDat_s.drop('level_0',axis=1,inplace=True)\n",
    "group2 = co.groupby(['Local Site Name','month'])\n",
    "intmed2 = group2.mean()\n",
    "intmed2['CO']=intmed2['Arithmetic Mean']\n",
    "intmed2=intmed2.ix[:,['CO']]\n",
    "pollDat_m = pd.merge(pollDat_m,intmed2.reset_index(),on=['Local Site Name','month'],how='outer').reset_index()\n",
    "pollDat_m.drop('level_0',axis=1,inplace=True)"
   ]
  },
  {
   "cell_type": "markdown",
   "metadata": {},
   "source": [
    "**NO2**"
   ]
  },
  {
   "cell_type": "code",
   "execution_count": 48,
   "metadata": {
    "collapsed": true
   },
   "outputs": [],
   "source": [
    "group = no2.groupby(['Local Site Name','season'])\n",
    "intmed = group.mean()\n",
    "intmed['NO2']=intmed['Arithmetic Mean']\n",
    "intmed=intmed.ix[:,['NO2']]\n",
    "pollDat_s = pd.merge(pollDat_s,intmed.reset_index(),on=['Local Site Name','season'],how='outer').reset_index()\n",
    "pollDat_s.drop('level_0',axis=1,inplace=True)\n",
    "group2 = no2.groupby(['Local Site Name','month'])\n",
    "intmed2 = group2.mean()\n",
    "intmed2['NO2']=intmed2['Arithmetic Mean']\n",
    "intmed2=intmed2.ix[:,['NO2']]\n",
    "pollDat_m = pd.merge(pollDat_m,intmed2.reset_index(),on=['Local Site Name','month'],how='outer').reset_index()\n",
    "pollDat_m.drop('level_0',axis=1,inplace=True)"
   ]
  },
  {
   "cell_type": "markdown",
   "metadata": {},
   "source": [
    "**Ozone**"
   ]
  },
  {
   "cell_type": "code",
   "execution_count": 49,
   "metadata": {
    "collapsed": true
   },
   "outputs": [],
   "source": [
    "group = ozone.groupby(['Local Site Name','season'])\n",
    "intmed = group.mean()\n",
    "intmed['Ozone']=intmed['Arithmetic Mean']\n",
    "intmed=intmed.ix[:,['Ozone']]\n",
    "pollDat_s = pd.merge(pollDat_s,intmed.reset_index(),on=['Local Site Name','season'],how='outer').reset_index()\n",
    "pollDat_s.drop('level_0',axis=1,inplace=True)\n",
    "group2 = ozone.groupby(['Local Site Name','month'])\n",
    "intmed2 = group2.mean()\n",
    "intmed2['Ozone']=intmed2['Arithmetic Mean']\n",
    "intmed2=intmed2.ix[:,['Ozone']]\n",
    "pollDat_m = pd.merge(pollDat_m,intmed2.reset_index(),on=['Local Site Name','month'],how='outer').reset_index()\n",
    "pollDat_m.drop('level_0',axis=1,inplace=True)"
   ]
  },
  {
   "cell_type": "markdown",
   "metadata": {},
   "source": [
    "**SO2**"
   ]
  },
  {
   "cell_type": "code",
   "execution_count": 50,
   "metadata": {
    "collapsed": true
   },
   "outputs": [],
   "source": [
    "group = so2.groupby(['Local Site Name','season'])\n",
    "intmed = group.mean()\n",
    "intmed['SO2']=intmed['Arithmetic Mean']\n",
    "intmed=intmed.ix[:,['SO2']]\n",
    "pollDat_s = pd.merge(pollDat_s,intmed.reset_index(),on=['Local Site Name','season'],how='outer').reset_index()\n",
    "pollDat_s.drop('level_0',axis=1,inplace=True)\n",
    "group2 = so2.groupby(['Local Site Name','month'])\n",
    "intmed2 = group2.mean()\n",
    "intmed2['SO2']=intmed2['Arithmetic Mean']\n",
    "intmed2=intmed2.ix[:,['SO2']]\n",
    "pollDat_m = pd.merge(pollDat_m,intmed2.reset_index(),on=['Local Site Name','month'],how='outer').reset_index()\n",
    "pollDat_m.drop('level_0',axis=1,inplace=True)"
   ]
  },
  {
   "cell_type": "markdown",
   "metadata": {},
   "source": [
    "No we have all the pollutant data into two dataframes, one broken down by season, `pollDat_s` and one broken down by month `pollDat_m`. We check the file and notice that there are many NaNs as some cities don't have all types of observations for each city. We will have to think carefully about how to deal with these missing values in downstream analysis."
   ]
  },
  {
   "cell_type": "code",
   "execution_count": 53,
   "metadata": {
    "collapsed": false
   },
   "outputs": [
    {
     "data": {
      "text/html": [
       "<div>\n",
       "<table border=\"1\" class=\"dataframe\">\n",
       "  <thead>\n",
       "    <tr style=\"text-align: right;\">\n",
       "      <th></th>\n",
       "      <th>index</th>\n",
       "      <th>Local Site Name</th>\n",
       "      <th>State Name</th>\n",
       "      <th>County Name</th>\n",
       "      <th>City Name</th>\n",
       "      <th>season</th>\n",
       "      <th>State Code</th>\n",
       "      <th>County Code</th>\n",
       "      <th>Site Num</th>\n",
       "      <th>Latitude</th>\n",
       "      <th>Longitude</th>\n",
       "      <th>month</th>\n",
       "      <th>PM25_frmfem</th>\n",
       "      <th>PM25_no_frmfem</th>\n",
       "      <th>PM10</th>\n",
       "      <th>Press</th>\n",
       "      <th>Temp</th>\n",
       "      <th>RH</th>\n",
       "      <th>DP</th>\n",
       "      <th>Wind</th>\n",
       "      <th>CO</th>\n",
       "      <th>NO2</th>\n",
       "      <th>Ozone</th>\n",
       "      <th>SO2</th>\n",
       "    </tr>\n",
       "  </thead>\n",
       "  <tbody>\n",
       "    <tr>\n",
       "      <th>0</th>\n",
       "      <td>0</td>\n",
       "      <td>DAVID TURNHAM ELEMENTARY SCHOOL, Corner of Du...</td>\n",
       "      <td>Indiana</td>\n",
       "      <td>Spencer</td>\n",
       "      <td>Dale</td>\n",
       "      <td>Fall</td>\n",
       "      <td>18</td>\n",
       "      <td>147</td>\n",
       "      <td>9</td>\n",
       "      <td>38.167523</td>\n",
       "      <td>-86.983214</td>\n",
       "      <td>11.032258</td>\n",
       "      <td>8.867742</td>\n",
       "      <td>NaN</td>\n",
       "      <td>NaN</td>\n",
       "      <td>NaN</td>\n",
       "      <td>NaN</td>\n",
       "      <td>NaN</td>\n",
       "      <td>NaN</td>\n",
       "      <td>NaN</td>\n",
       "      <td>NaN</td>\n",
       "      <td>NaN</td>\n",
       "      <td>NaN</td>\n",
       "      <td>NaN</td>\n",
       "    </tr>\n",
       "    <tr>\n",
       "      <th>1</th>\n",
       "      <td>1</td>\n",
       "      <td>DAVID TURNHAM ELEMENTARY SCHOOL, Corner of Du...</td>\n",
       "      <td>Indiana</td>\n",
       "      <td>Spencer</td>\n",
       "      <td>Dale</td>\n",
       "      <td>Spring</td>\n",
       "      <td>18</td>\n",
       "      <td>147</td>\n",
       "      <td>9</td>\n",
       "      <td>38.167523</td>\n",
       "      <td>-86.983214</td>\n",
       "      <td>4.965517</td>\n",
       "      <td>9.279310</td>\n",
       "      <td>NaN</td>\n",
       "      <td>NaN</td>\n",
       "      <td>NaN</td>\n",
       "      <td>NaN</td>\n",
       "      <td>NaN</td>\n",
       "      <td>NaN</td>\n",
       "      <td>NaN</td>\n",
       "      <td>NaN</td>\n",
       "      <td>NaN</td>\n",
       "      <td>NaN</td>\n",
       "      <td>NaN</td>\n",
       "    </tr>\n",
       "    <tr>\n",
       "      <th>2</th>\n",
       "      <td>2</td>\n",
       "      <td>DAVID TURNHAM ELEMENTARY SCHOOL, Corner of Du...</td>\n",
       "      <td>Indiana</td>\n",
       "      <td>Spencer</td>\n",
       "      <td>Dale</td>\n",
       "      <td>Summer</td>\n",
       "      <td>18</td>\n",
       "      <td>147</td>\n",
       "      <td>9</td>\n",
       "      <td>38.167523</td>\n",
       "      <td>-86.983214</td>\n",
       "      <td>7.967742</td>\n",
       "      <td>12.970968</td>\n",
       "      <td>NaN</td>\n",
       "      <td>NaN</td>\n",
       "      <td>NaN</td>\n",
       "      <td>NaN</td>\n",
       "      <td>NaN</td>\n",
       "      <td>NaN</td>\n",
       "      <td>NaN</td>\n",
       "      <td>NaN</td>\n",
       "      <td>NaN</td>\n",
       "      <td>NaN</td>\n",
       "      <td>NaN</td>\n",
       "    </tr>\n",
       "    <tr>\n",
       "      <th>3</th>\n",
       "      <td>3</td>\n",
       "      <td>DAVID TURNHAM ELEMENTARY SCHOOL, Corner of Du...</td>\n",
       "      <td>Indiana</td>\n",
       "      <td>Spencer</td>\n",
       "      <td>Dale</td>\n",
       "      <td>Winter</td>\n",
       "      <td>18</td>\n",
       "      <td>147</td>\n",
       "      <td>9</td>\n",
       "      <td>38.167523</td>\n",
       "      <td>-86.983214</td>\n",
       "      <td>2.000000</td>\n",
       "      <td>11.926667</td>\n",
       "      <td>NaN</td>\n",
       "      <td>NaN</td>\n",
       "      <td>NaN</td>\n",
       "      <td>NaN</td>\n",
       "      <td>NaN</td>\n",
       "      <td>NaN</td>\n",
       "      <td>NaN</td>\n",
       "      <td>NaN</td>\n",
       "      <td>NaN</td>\n",
       "      <td>NaN</td>\n",
       "      <td>NaN</td>\n",
       "    </tr>\n",
       "    <tr>\n",
       "      <th>4</th>\n",
       "      <td>4</td>\n",
       "      <td>FRANCIS SCHOOL East Providence</td>\n",
       "      <td>Rhode Island</td>\n",
       "      <td>Providence</td>\n",
       "      <td>East Providence</td>\n",
       "      <td>Fall</td>\n",
       "      <td>44</td>\n",
       "      <td>7</td>\n",
       "      <td>1010</td>\n",
       "      <td>41.841573</td>\n",
       "      <td>-71.360770</td>\n",
       "      <td>10.992509</td>\n",
       "      <td>6.052700</td>\n",
       "      <td>NaN</td>\n",
       "      <td>NaN</td>\n",
       "      <td>1011.878623</td>\n",
       "      <td>45.550666</td>\n",
       "      <td>73.482554</td>\n",
       "      <td>NaN</td>\n",
       "      <td>97.687185</td>\n",
       "      <td>0.253064</td>\n",
       "      <td>8.438933</td>\n",
       "      <td>0.021789</td>\n",
       "      <td>0.417302</td>\n",
       "    </tr>\n",
       "    <tr>\n",
       "      <th>5</th>\n",
       "      <td>5</td>\n",
       "      <td>FRANCIS SCHOOL East Providence</td>\n",
       "      <td>Rhode Island</td>\n",
       "      <td>Providence</td>\n",
       "      <td>East Providence</td>\n",
       "      <td>Spring</td>\n",
       "      <td>44</td>\n",
       "      <td>7</td>\n",
       "      <td>1010</td>\n",
       "      <td>41.841573</td>\n",
       "      <td>-71.360770</td>\n",
       "      <td>5.000000</td>\n",
       "      <td>5.345889</td>\n",
       "      <td>5.937931</td>\n",
       "      <td>NaN</td>\n",
       "      <td>1012.363553</td>\n",
       "      <td>59.151616</td>\n",
       "      <td>64.429746</td>\n",
       "      <td>NaN</td>\n",
       "      <td>93.208746</td>\n",
       "      <td>0.188207</td>\n",
       "      <td>4.475064</td>\n",
       "      <td>0.035278</td>\n",
       "      <td>0.270632</td>\n",
       "    </tr>\n",
       "  </tbody>\n",
       "</table>\n",
       "</div>"
      ],
      "text/plain": [
       "   index                                    Local Site Name    State Name County Name        City Name  season  State Code  County Code  Site Num   Latitude  Longitude      month  PM25_frmfem  PM25_no_frmfem  PM10        Press       Temp         RH  DP       Wind        CO       NO2     Ozone       SO2\n",
       "0      0   DAVID TURNHAM ELEMENTARY SCHOOL, Corner of Du...       Indiana     Spencer             Dale    Fall          18          147         9  38.167523 -86.983214  11.032258     8.867742             NaN   NaN          NaN        NaN        NaN NaN        NaN       NaN       NaN       NaN       NaN\n",
       "1      1   DAVID TURNHAM ELEMENTARY SCHOOL, Corner of Du...       Indiana     Spencer             Dale  Spring          18          147         9  38.167523 -86.983214   4.965517     9.279310             NaN   NaN          NaN        NaN        NaN NaN        NaN       NaN       NaN       NaN       NaN\n",
       "2      2   DAVID TURNHAM ELEMENTARY SCHOOL, Corner of Du...       Indiana     Spencer             Dale  Summer          18          147         9  38.167523 -86.983214   7.967742    12.970968             NaN   NaN          NaN        NaN        NaN NaN        NaN       NaN       NaN       NaN       NaN\n",
       "3      3   DAVID TURNHAM ELEMENTARY SCHOOL, Corner of Du...       Indiana     Spencer             Dale  Winter          18          147         9  38.167523 -86.983214   2.000000    11.926667             NaN   NaN          NaN        NaN        NaN NaN        NaN       NaN       NaN       NaN       NaN\n",
       "4      4                     FRANCIS SCHOOL East Providence  Rhode Island  Providence  East Providence    Fall          44            7      1010  41.841573 -71.360770  10.992509     6.052700             NaN   NaN  1011.878623  45.550666  73.482554 NaN  97.687185  0.253064  8.438933  0.021789  0.417302\n",
       "5      5                     FRANCIS SCHOOL East Providence  Rhode Island  Providence  East Providence  Spring          44            7      1010  41.841573 -71.360770   5.000000     5.345889        5.937931   NaN  1012.363553  59.151616  64.429746 NaN  93.208746  0.188207  4.475064  0.035278  0.270632"
      ]
     },
     "execution_count": 53,
     "metadata": {},
     "output_type": "execute_result"
    }
   ],
   "source": [
    "pollDat_s.head(6)"
   ]
  },
  {
   "cell_type": "code",
   "execution_count": 54,
   "metadata": {
    "collapsed": false
   },
   "outputs": [
    {
     "data": {
      "text/html": [
       "<div>\n",
       "<table border=\"1\" class=\"dataframe\">\n",
       "  <thead>\n",
       "    <tr style=\"text-align: right;\">\n",
       "      <th></th>\n",
       "      <th>index</th>\n",
       "      <th>Local Site Name</th>\n",
       "      <th>State Name</th>\n",
       "      <th>County Name</th>\n",
       "      <th>City Name</th>\n",
       "      <th>month</th>\n",
       "      <th>State Code</th>\n",
       "      <th>County Code</th>\n",
       "      <th>Site Num</th>\n",
       "      <th>Latitude</th>\n",
       "      <th>Longitude</th>\n",
       "      <th>PM25_frmfem</th>\n",
       "      <th>PM25_no_frmfem</th>\n",
       "      <th>PM10</th>\n",
       "      <th>Press</th>\n",
       "      <th>Temp</th>\n",
       "      <th>RH</th>\n",
       "      <th>DP</th>\n",
       "      <th>Wind</th>\n",
       "      <th>CO</th>\n",
       "      <th>NO2</th>\n",
       "      <th>Ozone</th>\n",
       "      <th>SO2</th>\n",
       "    </tr>\n",
       "  </thead>\n",
       "  <tbody>\n",
       "    <tr>\n",
       "      <th>0</th>\n",
       "      <td>0</td>\n",
       "      <td>DAVID TURNHAM ELEMENTARY SCHOOL, Corner of Du...</td>\n",
       "      <td>Indiana</td>\n",
       "      <td>Spencer</td>\n",
       "      <td>Dale</td>\n",
       "      <td>1</td>\n",
       "      <td>18</td>\n",
       "      <td>147</td>\n",
       "      <td>9</td>\n",
       "      <td>38.167523</td>\n",
       "      <td>-86.983214</td>\n",
       "      <td>8.340000</td>\n",
       "      <td>NaN</td>\n",
       "      <td>NaN</td>\n",
       "      <td>NaN</td>\n",
       "      <td>NaN</td>\n",
       "      <td>NaN</td>\n",
       "      <td>NaN</td>\n",
       "      <td>NaN</td>\n",
       "      <td>NaN</td>\n",
       "      <td>NaN</td>\n",
       "      <td>NaN</td>\n",
       "      <td>NaN</td>\n",
       "    </tr>\n",
       "    <tr>\n",
       "      <th>1</th>\n",
       "      <td>1</td>\n",
       "      <td>DAVID TURNHAM ELEMENTARY SCHOOL, Corner of Du...</td>\n",
       "      <td>Indiana</td>\n",
       "      <td>Spencer</td>\n",
       "      <td>Dale</td>\n",
       "      <td>2</td>\n",
       "      <td>18</td>\n",
       "      <td>147</td>\n",
       "      <td>9</td>\n",
       "      <td>38.167523</td>\n",
       "      <td>-86.983214</td>\n",
       "      <td>15.100000</td>\n",
       "      <td>NaN</td>\n",
       "      <td>NaN</td>\n",
       "      <td>NaN</td>\n",
       "      <td>NaN</td>\n",
       "      <td>NaN</td>\n",
       "      <td>NaN</td>\n",
       "      <td>NaN</td>\n",
       "      <td>NaN</td>\n",
       "      <td>NaN</td>\n",
       "      <td>NaN</td>\n",
       "      <td>NaN</td>\n",
       "    </tr>\n",
       "    <tr>\n",
       "      <th>2</th>\n",
       "      <td>2</td>\n",
       "      <td>DAVID TURNHAM ELEMENTARY SCHOOL, Corner of Du...</td>\n",
       "      <td>Indiana</td>\n",
       "      <td>Spencer</td>\n",
       "      <td>Dale</td>\n",
       "      <td>3</td>\n",
       "      <td>18</td>\n",
       "      <td>147</td>\n",
       "      <td>9</td>\n",
       "      <td>38.167523</td>\n",
       "      <td>-86.983214</td>\n",
       "      <td>12.340000</td>\n",
       "      <td>NaN</td>\n",
       "      <td>NaN</td>\n",
       "      <td>NaN</td>\n",
       "      <td>NaN</td>\n",
       "      <td>NaN</td>\n",
       "      <td>NaN</td>\n",
       "      <td>NaN</td>\n",
       "      <td>NaN</td>\n",
       "      <td>NaN</td>\n",
       "      <td>NaN</td>\n",
       "      <td>NaN</td>\n",
       "    </tr>\n",
       "    <tr>\n",
       "      <th>3</th>\n",
       "      <td>3</td>\n",
       "      <td>DAVID TURNHAM ELEMENTARY SCHOOL, Corner of Du...</td>\n",
       "      <td>Indiana</td>\n",
       "      <td>Spencer</td>\n",
       "      <td>Dale</td>\n",
       "      <td>4</td>\n",
       "      <td>18</td>\n",
       "      <td>147</td>\n",
       "      <td>9</td>\n",
       "      <td>38.167523</td>\n",
       "      <td>-86.983214</td>\n",
       "      <td>7.590000</td>\n",
       "      <td>NaN</td>\n",
       "      <td>NaN</td>\n",
       "      <td>NaN</td>\n",
       "      <td>NaN</td>\n",
       "      <td>NaN</td>\n",
       "      <td>NaN</td>\n",
       "      <td>NaN</td>\n",
       "      <td>NaN</td>\n",
       "      <td>NaN</td>\n",
       "      <td>NaN</td>\n",
       "      <td>NaN</td>\n",
       "    </tr>\n",
       "    <tr>\n",
       "      <th>4</th>\n",
       "      <td>4</td>\n",
       "      <td>DAVID TURNHAM ELEMENTARY SCHOOL, Corner of Du...</td>\n",
       "      <td>Indiana</td>\n",
       "      <td>Spencer</td>\n",
       "      <td>Dale</td>\n",
       "      <td>5</td>\n",
       "      <td>18</td>\n",
       "      <td>147</td>\n",
       "      <td>9</td>\n",
       "      <td>38.167523</td>\n",
       "      <td>-86.983214</td>\n",
       "      <td>9.480000</td>\n",
       "      <td>NaN</td>\n",
       "      <td>NaN</td>\n",
       "      <td>NaN</td>\n",
       "      <td>NaN</td>\n",
       "      <td>NaN</td>\n",
       "      <td>NaN</td>\n",
       "      <td>NaN</td>\n",
       "      <td>NaN</td>\n",
       "      <td>NaN</td>\n",
       "      <td>NaN</td>\n",
       "      <td>NaN</td>\n",
       "    </tr>\n",
       "    <tr>\n",
       "      <th>5</th>\n",
       "      <td>5</td>\n",
       "      <td>DAVID TURNHAM ELEMENTARY SCHOOL, Corner of Du...</td>\n",
       "      <td>Indiana</td>\n",
       "      <td>Spencer</td>\n",
       "      <td>Dale</td>\n",
       "      <td>6</td>\n",
       "      <td>18</td>\n",
       "      <td>147</td>\n",
       "      <td>9</td>\n",
       "      <td>38.167523</td>\n",
       "      <td>-86.983214</td>\n",
       "      <td>10.933333</td>\n",
       "      <td>NaN</td>\n",
       "      <td>NaN</td>\n",
       "      <td>NaN</td>\n",
       "      <td>NaN</td>\n",
       "      <td>NaN</td>\n",
       "      <td>NaN</td>\n",
       "      <td>NaN</td>\n",
       "      <td>NaN</td>\n",
       "      <td>NaN</td>\n",
       "      <td>NaN</td>\n",
       "      <td>NaN</td>\n",
       "    </tr>\n",
       "  </tbody>\n",
       "</table>\n",
       "</div>"
      ],
      "text/plain": [
       "   index                                    Local Site Name State Name County Name City Name  month  State Code  County Code  Site Num   Latitude  Longitude  PM25_frmfem  PM25_no_frmfem  PM10  Press  Temp  RH  DP  Wind  CO  NO2  Ozone  SO2\n",
       "0      0   DAVID TURNHAM ELEMENTARY SCHOOL, Corner of Du...    Indiana     Spencer      Dale      1          18          147         9  38.167523 -86.983214     8.340000             NaN   NaN    NaN   NaN NaN NaN   NaN NaN  NaN    NaN  NaN\n",
       "1      1   DAVID TURNHAM ELEMENTARY SCHOOL, Corner of Du...    Indiana     Spencer      Dale      2          18          147         9  38.167523 -86.983214    15.100000             NaN   NaN    NaN   NaN NaN NaN   NaN NaN  NaN    NaN  NaN\n",
       "2      2   DAVID TURNHAM ELEMENTARY SCHOOL, Corner of Du...    Indiana     Spencer      Dale      3          18          147         9  38.167523 -86.983214    12.340000             NaN   NaN    NaN   NaN NaN NaN   NaN NaN  NaN    NaN  NaN\n",
       "3      3   DAVID TURNHAM ELEMENTARY SCHOOL, Corner of Du...    Indiana     Spencer      Dale      4          18          147         9  38.167523 -86.983214     7.590000             NaN   NaN    NaN   NaN NaN NaN   NaN NaN  NaN    NaN  NaN\n",
       "4      4   DAVID TURNHAM ELEMENTARY SCHOOL, Corner of Du...    Indiana     Spencer      Dale      5          18          147         9  38.167523 -86.983214     9.480000             NaN   NaN    NaN   NaN NaN NaN   NaN NaN  NaN    NaN  NaN\n",
       "5      5   DAVID TURNHAM ELEMENTARY SCHOOL, Corner of Du...    Indiana     Spencer      Dale      6          18          147         9  38.167523 -86.983214    10.933333             NaN   NaN    NaN   NaN NaN NaN   NaN NaN  NaN    NaN  NaN"
      ]
     },
     "execution_count": 54,
     "metadata": {},
     "output_type": "execute_result"
    }
   ],
   "source": [
    "pollDat_m.head(6)"
   ]
  },
  {
   "cell_type": "markdown",
   "metadata": {},
   "source": [
    "Now we want to do some basic descriptive exploration of the data in each season to look for any overall seasonal trends. We need to break out the data into just the columns of interest and then subset the data into 4 different datasets, one for each season."
   ]
  },
  {
   "cell_type": "code",
   "execution_count": 69,
   "metadata": {
    "collapsed": false
   },
   "outputs": [],
   "source": [
    "seasonalPlot=pollDat_s.ix[:,['Local Site Name','State Name','County Name','City Name','season','State Code','County Code','Site Num','Latitude','Longitude','PM25_frmfem','PM25_no_frmfem','PM10','CO','NO2','SO2','Ozone','Press','Temp','RH','DP','Wind']]"
   ]
  },
  {
   "cell_type": "code",
   "execution_count": 56,
   "metadata": {
    "collapsed": false
   },
   "outputs": [],
   "source": [
    "summer_test=seasonalPlot[seasonalPlot.season=='Summer']\n",
    "winter_test=seasonalPlot[seasonalPlot.season=='Winter']\n",
    "spring_test=seasonalPlot[seasonalPlot.season=='Spring']\n",
    "fall_test=seasonalPlot[seasonalPlot.season=='Fall']"
   ]
  },
  {
   "cell_type": "markdown",
   "metadata": {},
   "source": [
    "Let's check the number of cities we have data for in each season."
   ]
  },
  {
   "cell_type": "code",
   "execution_count": 57,
   "metadata": {
    "collapsed": false
   },
   "outputs": [
    {
     "name": "stdout",
     "output_type": "stream",
     "text": [
      "Number of summer cities: 2077\n",
      "Number of winter cities: 2031\n",
      "Number of fall cities: 1990\n",
      "Number of spring cities: 2072\n"
     ]
    }
   ],
   "source": [
    "print \"Number of summer cities: \" + str(summer_test.shape[0])\n",
    "print \"Number of winter cities: \" + str(winter_test.shape[0])\n",
    "print \"Number of fall cities: \" + str(fall_test.shape[0])\n",
    "print \"Number of spring cities: \" + str(spring_test.shape[0])"
   ]
  },
  {
   "cell_type": "markdown",
   "metadata": {},
   "source": [
    "As a preliminary exploratory analysis, we can simply see how the mean values of each of the pollutants and weather variables changes over the years. Presumably this should match what other research has shown. We have to assume that there isn't a huge regional difference here which may or may not actually be reasonable given that we know certain cities have different effects. This is just a cursory look."
   ]
  },
  {
   "cell_type": "code",
   "execution_count": 67,
   "metadata": {
    "collapsed": false
   },
   "outputs": [
    {
     "data": {
      "text/plain": [
       "<matplotlib.text.Text at 0x23a00518>"
      ]
     },
     "execution_count": 67,
     "metadata": {},
     "output_type": "execute_result"
    },
    {
     "data": {
      "image/png": "[encoded data removed]",
      "text/plain": [
       "<matplotlib.figure.Figure at 0x20ab5278>"
      ]
     },
     "metadata": {},
     "output_type": "display_data"
    }
   ],
   "source": [
    "#fig, axes = plt.subplots(nrows=2, ncols=2, figsize=(14, 6),tight_layout=True)\n",
    "plt.figure(figsize=(10,5))\n",
    "winterbar=plt.bar(range(len(winter_test.mean()))[5:12],winter_test.mean().values[5:12],width=.2,color='blue',alpha=.8)\n",
    "plt.xticks(range(len(winter_test.mean()))[5:12],winter_test.mean().index[5:12],rotation=45,ha='right')\n",
    "springbar=plt.bar([x+.2 for x in range(len(spring_test.mean()))[5:12]],spring_test.mean().values[5:12],width=.2,color='green',alpha=.8)\n",
    "plt.xticks([x+.2 for x in range(len(spring_test.mean()))[5:12]],spring_test.mean().index[5:12],rotation=45,ha='right')\n",
    "summerbar=plt.bar([x+.4 for x in range(len(summer_test.mean()))[5:12]],summer_test.mean().values[5:12],width=.2,color='red',alpha=.8)\n",
    "plt.xticks([x+.4 for x in range(len(summer_test.mean()))[5:12]],summer_test.mean().index[5:12],rotation=45,ha='right')\n",
    "fallbar=plt.bar([x+.6 for x in range(len(fall_test.mean()))[5:12]],fall_test.mean().values[5:12],width=.2,color='yellow',alpha=.8)\n",
    "plt.xticks([x+.6 for x in range(len(fall_test.mean()))[5:12]],fall_test.mean().index[5:12],rotation=45,ha='right')\n",
    "plt.legend((winterbar,springbar,summerbar,fallbar),('Jan-Mar','Apr-June','July-Sept','Oct-Dec'))\n",
    "plt.title(\"Seasonal Distribution of Pollutants\")"
   ]
  },
  {
   "cell_type": "code",
   "execution_count": 68,
   "metadata": {
    "collapsed": false
   },
   "outputs": [
    {
     "data": {
      "text/plain": [
       "<matplotlib.text.Text at 0x26908710>"
      ]
     },
     "execution_count": 68,
     "metadata": {},
     "output_type": "execute_result"
    },
    {
     "data": {
      "image/png": "[encoded data removed]",
      "text/plain": [
       "<matplotlib.figure.Figure at 0x23645ba8>"
      ]
     },
     "metadata": {},
     "output_type": "display_data"
    }
   ],
   "source": [
    "#fig, axes = plt.subplots(nrows=2, ncols=2, figsize=(14, 6),tight_layout=True)\n",
    "plt.figure(figsize=(12,7))\n",
    "winterbar=plt.bar(range(len(winter_test.mean()))[13:18],winter_test.mean().values[13:18],width=.2,color='blue',alpha=.8)\n",
    "plt.xticks(range(len(winter_test.mean()))[13:18],winter_test.mean().index[13:18],rotation=45,ha='right')\n",
    "springbar=plt.bar([x+.2 for x in range(len(spring_test.mean()))[13:18]],spring_test.mean().values[13:18],width=.2,color='green',alpha=.8)\n",
    "plt.xticks([x+.2 for x in range(len(spring_test.mean()))[13:18]],spring_test.mean().index[13:18],rotation=45,ha='right')\n",
    "summerbar=plt.bar([x+.4 for x in range(len(summer_test.mean()))[13:18]],summer_test.mean().values[13:18],width=.2,color='red',alpha=.8)\n",
    "plt.xticks([x+.4 for x in range(len(summer_test.mean()))[13:18]],summer_test.mean().index[13:18],rotation=45,ha='right')\n",
    "fallbar=plt.bar([x+.6 for x in range(len(fall_test.mean()))[13:18]],fall_test.mean().values[13:18],width=.2,color='yellow',alpha=.8)\n",
    "plt.xticks([x+.6 for x in range(len(fall_test.mean()))[13:18]],fall_test.mean().index[13:18],rotation=45,ha='right')\n",
    "plt.legend((winterbar,springbar,summerbar,fallbar),('Jan-Mar','Apr-June','July-Sept','Oct-Dec'),loc='upper left')\n",
    "plt.title('Seasonal Weather Trends')"
   ]
  },
  {
   "cell_type": "markdown",
   "metadata": {},
   "source": [
    "We can also look at average changes in pollutants and weather over a monthly basis."
   ]
  },
  {
   "cell_type": "code",
   "execution_count": 70,
   "metadata": {
    "collapsed": true
   },
   "outputs": [],
   "source": [
    "monthlyPlot=pollDat_m.ix[:,['Local Site Name','State Name','County Name','City Name','month','State Code','County Code','Site Num','Latitude','Longitude','PM25_frmfem','PM25_no_frmfem','PM10','CO','NO2','SO2','Ozone','Press','Temp','RH','DP','Wind']]"
   ]
  },
  {
   "cell_type": "code",
   "execution_count": 75,
   "metadata": {
    "collapsed": false
   },
   "outputs": [],
   "source": [
    "group = monthlyPlot.groupby('month')\n",
    "plotVals = group.mean()"
   ]
  },
  {
   "cell_type": "code",
   "execution_count": 141,
   "metadata": {
    "collapsed": false
   },
   "outputs": [
    {
     "data": {
      "image/png": "[encoded data removed]",
      "text/plain": [
       "<matplotlib.figure.Figure at 0x200ddfd0>"
      ]
     },
     "metadata": {},
     "output_type": "display_data"
    }
   ],
   "source": [
    "#Help from http://matplotlib.org/examples/api/two_scales.html for duel axis\n",
    "#and coloring of axis labels\n",
    "#Help from http://stackoverflow.com/questions/6682784/how-to-reduce-number-of-ticks-with-matplotlib\n",
    "#to set axis ticks\n",
    "\n",
    "colors = [\"#191970\", \"#6495ed\", \"#00bfff\"]\n",
    "with sns.color_palette(colors):\n",
    "    fig, ax1 = plt.subplots()\n",
    "    plt.locator_params(nbins=12)\n",
    "    plt.grid(False)\n",
    "    ax1.plot(plotVals.PM25_frmfem,'o-',label='PM2.5 FRM/FEM')\n",
    "    ax1.set_xticklabels(('Jan','Feb','Mar','Apr','May','June','July','Aug','Sept','Oct','Nov','Dec'))\n",
    "    ax1.set_xlabel('Month')\n",
    "    ax1.plot(plotVals.PM25_no_frmfem,'o-',label='PM2.5 No FRM/FEM')\n",
    "    ax1.plot(plotVals.PM10,'o-',label='PM10')\n",
    "    for tl in ax1.get_yticklabels():\n",
    "        tl.set_color('r')\n",
    "    ax1.set_ylabel(\"Microgram/Cubic Meter (25 C)\",color='r')\n",
    "    ax1.legend(loc='upper right')\n",
    "\n",
    "colors = [\"#ff0000\", \"#ff6347\", \"#ffa07a\",'#ff8c00']\n",
    "with sns.color_palette(colors):\n",
    "    ax2=ax1.twinx()\n",
    "    co=ax2.plot(plotVals.CO*1000,'o-',label='CO')\n",
    "    no2=ax2.plot(plotVals.NO2,'o-',label='NO2')\n",
    "    so2=ax2.plot(plotVals.SO2,'o-',label='SO2')\n",
    "    ozone=ax2.plot(plotVals.Ozone*1000,'o-',label='Ozone')\n",
    "    ax2.set_ylabel('PPM (CO, NO2, SO2, Ozone)', color='b')\n",
    "    for tl in ax2.get_yticklabels():\n",
    "        tl.set_color('b')\n",
    "    legend = ax2.legend(loc='upper left')\n",
    "plt.show()\n"
   ]
  },
  {
   "cell_type": "code",
   "execution_count": null,
   "metadata": {
    "collapsed": true
   },
   "outputs": [],
   "source": [
    "\"Temp (degree F); RH (% RH); DP (degree F); \\nWind (knots); Pressure (Millibars)\""
   ]
  },
  {
   "cell_type": "code",
   "execution_count": null,
   "metadata": {
    "collapsed": true
   },
   "outputs": [],
   "source": [
    "#fig, axes = plt.subplots(nrows=2, ncols=2, figsize=(14, 6),tight_layout=True)\n",
    "plt.figure(figsize=(10,5))\n"
   ]
  },
  {
   "cell_type": "markdown",
   "metadata": {},
   "source": [
    "#Hierarchical Clustering"
   ]
  },
  {
   "cell_type": "code",
   "execution_count": 43,
   "metadata": {
    "collapsed": false
   },
   "outputs": [],
   "source": [
    "summer_test=summer_test\n",
    "df1= summer_test.ix[:,['PM25_frmfem','PM10','CO','SO2','NO2','Ozone']]\n",
    "df1= df1.dropna(axis=0)"
   ]
  },
  {
   "cell_type": "code",
   "execution_count": 44,
   "metadata": {
    "collapsed": false
   },
   "outputs": [
    {
     "data": {
      "text/plain": [
       "(55, 6)"
      ]
     },
     "execution_count": 44,
     "metadata": {},
     "output_type": "execute_result"
    }
   ],
   "source": [
    "df1.shape"
   ]
  },
  {
   "cell_type": "code",
   "execution_count": 47,
   "metadata": {
    "collapsed": false
   },
   "outputs": [],
   "source": [
    "#Code from https://joernhees.de/blog/2015/08/26/scipy-hierarchical-clustering-and-dendrogram-tutorial/\n",
    "import scipy.cluster.hierarchy as hac\n",
    "df1= summer_test.ix[:,['PM25_frmfem','CO','SO2','NO2','Ozone']].dropna(axis=0)\n",
    "X = np.array(df1)\n",
    "Z = hac.linkage(X, 'average')"
   ]
  },
  {
   "cell_type": "code",
   "execution_count": 48,
   "metadata": {
    "collapsed": false
   },
   "outputs": [
    {
     "data": {
      "image/png": "[encoded data removed]",
      "text/plain": [
       "<matplotlib.figure.Figure at 0x22ae55c0>"
      ]
     },
     "metadata": {},
     "output_type": "display_data"
    }
   ],
   "source": [
    "#Code from https://joernhees.de/blog/2015/08/26/scipy-hierarchical-clustering-and-dendrogram-tutorial/\n",
    "plt.figure(figsize=(25, 10))\n",
    "plt.title('Hierarchical Clustering Dendrogram')\n",
    "plt.xlabel('sample index')\n",
    "plt.ylabel('distance')\n",
    "hac.dendrogram(\n",
    "    Z,\n",
    "    leaf_rotation=90.,  # rotates the x axis labels\n",
    "    leaf_font_size=8.,  # font size for the x axis labels\n",
    ")\n",
    "plt.show()"
   ]
  },
  {
   "cell_type": "code",
   "execution_count": 52,
   "metadata": {
    "collapsed": false
   },
   "outputs": [
    {
     "data": {
      "text/plain": [
       "(147, 3)"
      ]
     },
     "execution_count": 52,
     "metadata": {},
     "output_type": "execute_result"
    }
   ],
   "source": [
    "test.shape"
   ]
  },
  {
   "cell_type": "code",
   "execution_count": null,
   "metadata": {
    "collapsed": true
   },
   "outputs": [],
   "source": []
  }
 ],
 "metadata": {
  "kernelspec": {
   "display_name": "Python 2",
   "language": "python",
   "name": "python2"
  },
  "language_info": {
   "codemirror_mode": {
    "name": "ipython",
    "version": 2
   },
   "file_extension": ".py",
   "mimetype": "text/x-python",
   "name": "python",
   "nbconvert_exporter": "python",
   "pygments_lexer": "ipython2",
   "version": "2.7.10"
  }
 },
 "nbformat": 4,
 "nbformat_minor": 0
}
