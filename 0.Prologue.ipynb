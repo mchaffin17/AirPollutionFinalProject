{
 "cells": [
  {
   "cell_type": "markdown",
   "metadata": {},
   "source": [
    "#Modeling Various Air Pollutants in Cities Across the US"
   ]
  },
  {
   "cell_type": "markdown",
   "metadata": {},
   "source": [
    "###Elizabeth Cheever, Mark Chaffin, and Nicole Lee"
   ]
  },
  {
   "cell_type": "markdown",
   "metadata": {},
   "source": [
    "##Background and Motivation"
   ]
  },
  {
   "cell_type": "markdown",
   "metadata": {},
   "source": [
    "The World Health Organization reported that in 2012 about 7 million people died as a result of air pollution exposure, a finding that was more than double previous estimates.  According to the WHO, this finding “confirms that air pollution is now the world’s largest single environmental health risk.”  Air pollution can lead to a variety of potentially fatal conditions such as heart disease, stroke, COPD, and lung cancer.  Thus it is critical that more research on air pollution causes and interventions to reduce such pollution be done.\n",
    " \n",
    "As students at the Harvard T.H. Chan School of Public Health, we want to conduct some research into air pollution in the USA as well as on some of the determinants of such pollution such as weather, commuting, and population density given the severity of this public health issue.  By understanding the pollutant profiles of various cities, more targeted and effective interventions for reducing pollution on a by-pollutant-type basis could then be proposed and implemented.  Linking these specific profiles to certain determinants would also aid in the creation of powerful air pollution reduction policies.  These various analyses could be useful for developing legislation across the USA.  Additionally, we could predict the pollutant profiles of cities in the third world, where such measuring of pollutants is not available, based on weather, population, etc.  Such prediction would allow for better formulation of air pollution reduction policies for those cities."
   ]
  },
  {
   "cell_type": "markdown",
   "metadata": {},
   "source": [
    "###Initial Questions"
   ]
  },
  {
   "cell_type": "markdown",
   "metadata": {},
   "source": [
    "<ul>\n",
    "<li>Are there certain pollutant profiles that characterize groups of US cities?</li>\n",
    "<li>What is the distribution of pollutants (air particulate matter, gas levels, etc.) within these clusters?</li>\n",
    "<li>What are the determinants (weather, demographics, transportation, etc.) of these pollutant profiles?</li>\n",
    "<li>Can we use data on weather, demographics, transportation, etc. to predict a city’s pollutant profiles?</li>\n",
    "<li>Can specific policy recommendations be made based on a city’s pollutant profile?</li>\n",
    "</ul>"
   ]
  },
  {
   "cell_type": "markdown",
   "metadata": {},
   "source": [
    "##Related Work"
   ]
  },
  {
   "cell_type": "markdown",
   "metadata": {},
   "source": [
    "We were partly inspired by this interesting visualization that shows the relative contribution of different environmental and anthropogenic factors on climate change trends.<br>\n",
    "http://www.bloomberg.com/graphics/2015-whats-warming-the-world/?utm_source=The+Weekly+Pique&utm_campaign=cf7d4cd5ac-Episode+12%3A+Global+Warming&utm_medium=email&utm_term=0_4627876a86-cf7d4cd5ac-297062977\n",
    "\n",
    "Another source of inspiration was this interactive map of air quality across all continents:<br>\n",
    "http://aqicn.org/map/world/"
   ]
  },
  {
   "cell_type": "markdown",
   "metadata": {},
   "source": [
    "##Key Findings\n",
    "Based on our analysis, air quality appears to be a composite of many features, some related to human activity and some related to environmental sources. The relative contribution of these two sources seems to vary across pollutants which has implications about how to design effective overall air quality interventions. Using multiple modeling approaches, we find that some pollutant concentrations, such as NO<sub>2</sub> and O<sub>3</sub>, are easier to predict than others. Additionally, US cities can be clustered into distinct pollutant profiles which are differentiated by environmental and demographic factors.<br>\n",
    "<ul>\n",
    "<li>Airborne NO<sub>2</sub>, PM2.5, and O<sub>3</sub> of cities can be somewhat predicted based on demographic and weather features, but PM10, CO, and SO<sub>2</sub> are not well described from these characteristics</li>\n",
    "<li>Prediction models based on US cities do not extend well to French cities</li>\n",
    "<li>The relative importance of anthropogenic and environmental factors to air pollutant concentrations varies between pollutants</li>\n",
    "<li>Distinct types of cities exist that can be characterized by their particular pollutant profiles</li>\n",
    " <ul><li>These clusters can be differentiated by liquid precipitation, air pressure, temperature, and land area</li></ul>\n",
    "<li>Imputation of cluster identities for US cities with missing data allows us to increase the coverage of US cities, and seems to be fairly reliable.</li>\n",
    "<li>When French cities were clustered with the same method, their pollutant profiles looked reasonably similar to the clustered US pollutant profiles.</li>\n",
    "</ul>"
   ]
  },
  {
   "cell_type": "markdown",
   "metadata": {},
   "source": [
    "##Notebooks in this repository<br>\n",
    "There are several ipython notebooks in this repository. These are designed to break up the individual sections of the project into smaller, self-contained processes. To follow the project process, the optimal order to view these files is:<br>\n",
    "0. Prologue.ipynb<br>\n",
    "1. DataCollection&Cleaning.ipynb<br>\n",
    "2. ExplotatoryDataAnalysis.ipynb<br>\n",
    "3. PredictiveLinearModeling.ipynb<br>\n",
    "4. UnsupervisedAnalysis.ipynb<br>\n",
    "5. UnsupervisedLearning_pt2.ipynb<br>"
   ]
  },
  {
   "cell_type": "markdown",
   "metadata": {},
   "source": [
    "Each section contains the following information.<br>\n",
    "[**Prologue.ipynb**](https://github.com/mchaffin17/AirPollutionFinalProject/blob/master/0.Prologue.ipynb)\n",
    "This is the current file. It contains background and motivation as well as instructions on how to navigate the github repository.\n",
    "\n",
    "[**DataCollection&Cleaning.ipynb**](https://github.com/mchaffin17/AirPollutionFinalProject/blob/master/1.DataCollection%26Cleaning.ipynb)\n",
    "This notebook contains the details of data collection and scraping. All files used in this process are either accessed directly from their links within the notebook or contained in the dropbox repository found at: https://www.dropbox.com/sh/cd95rdgrbm9cpz7/AAAG9758zR1tUMvGsxKtIJzXa?dl=0.\n",
    "\n",
    "[**ExploratoryDataAnalysis.ipynb**](https://github.com/mchaffin17/AirPollutionFinalProject/blob/master/2.ExploratoryDataAnalysis.ipynb)\n",
    "This notebook contains the basic visualizations of the data and simple bivariate analyses.\n",
    "\n",
    "[**PredictiveLinearModeling.ipynb**](https://github.com/mchaffin17/AirPollutionFinalProject/blob/master/3.PredictiveLinearModeling.ipynb)\n",
    "This notebook works to build predictive models of the individual pollutants based on demographic and environmental variables. Analysis was validated using cities in France. Additionally, attempts at statistical inference about drivers of particular pollutants using GEE's is found in this notebook.\n",
    "\n",
    "[**UnsupervisedAnalysis.ipynb**](https://github.com/mchaffin17/AirPollutionFinalProject/blob/master/4.UnsupervisedAnalysis.ipynb)\n",
    "This notebook contains work done generating clusters of urban areas given their pollutant profiles. Furthermore, it looks at differences in environmental and demographic variables between the clusters.\n",
    "\n",
    "[**UnsupervisedLearning_pt2.ipynb**](https://github.com/mchaffin17/AirPollutionFinalProject/blob/master/5. UnsupervisedLearning_pt2.ipynb)\n",
    "This notebook seeks to extend cluster identities to US cities that are missing values for some pollutants using KNN. Additionally, it investigates whether French cities fall within the clusters generated with US cities to generalize these pollutant profiles beyond the US."
   ]
  },
  {
   "cell_type": "markdown",
   "metadata": {},
   "source": [
    "##Data Files in this Repository\n",
    "There are many data files found in the Data folder within this repository. There are 14 in total:<br>\n",
    "1. FranceMonthDat.csv - Monthly dataset for French cities<br>\n",
    "2. FranceSeasonDat.csv - Seasonal dataset for French cities<br>\n",
    "3. FranceYearDat.csv - Yearly dataset for French cities<br>\n",
    "4. MonthDat.csv - Original monthly dataset for US cities (weather from EPA site)<br>\n",
    "5. MonthDat2.csv - Updated monthly dataset for US cities (weather from NOAA)<br>\n",
    "6. SeasonDat.csv - Original seasonal dataset for US cities (weather from EPA site)<br>\n",
    "7. SeasonDat2.csv - Updated monthly dataset for US cities (weather from NOAA)<br>\n",
    "8. YearDat.csv - Original yearly dataset for US cities (weather from EPA site)<br>\n",
    "9. YearDat2.csv - Updated yearly dataset for US cities (weather from NOAA)<br>\n",
    "10. us_transit_to_tableau.csv - A dataset that was used in tableau to generate a map of transit style across the US<br>\n",
    "11. dfClusters_kMeans.csv - A file indicating which cluster each US city fell in <br>\n",
    "12. clustesr_knn.csv - A file indicating cluster identity inferred for many cities through KNN <br>\n",
    "13. cluster_knn_france.csv - Inferring French city cluster id with US clusters by KNN <br>\n",
    "14. PollutantFilteringTableau.csv - A file that was used to generate the tableau image that can filter maps based on pollutants <br>\n",
    " "
   ]
  },
  {
   "cell_type": "markdown",
   "metadata": {},
   "source": [
    "##Image files\n",
    "Images used within these ipython notebooks can be found in the Images folder. This includes:\n",
    "1. TransitMap.png - an image file that's used within the EDA notebook"
   ]
  },
  {
   "cell_type": "markdown",
   "metadata": {},
   "source": [
    "##Project Website and Video Links\n",
    "The project website can be found at: http://cs109airpollution.github.io<br>\n",
    "The video can be found at: FILL THIS IN"
   ]
  },
  {
   "cell_type": "code",
   "execution_count": null,
   "metadata": {
    "collapsed": true
   },
   "outputs": [],
   "source": []
  }
 ],
 "metadata": {
  "kernelspec": {
   "display_name": "Python 2",
   "language": "python",
   "name": "python2"
  },
  "language_info": {
   "codemirror_mode": {
    "name": "ipython",
    "version": 2
   },
   "file_extension": ".py",
   "mimetype": "text/x-python",
   "name": "python",
   "nbconvert_exporter": "python",
   "pygments_lexer": "ipython2",
   "version": "2.7.10"
  }
 },
 "nbformat": 4,
 "nbformat_minor": 0
}
