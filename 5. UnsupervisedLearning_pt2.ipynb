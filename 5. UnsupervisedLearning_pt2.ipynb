{
 "cells": [
  {
   "cell_type": "markdown",
   "metadata": {},
   "source": [
    "##Unsupervised Learning Part 2"
   ]
  },
  {
   "cell_type": "markdown",
   "metadata": {},
   "source": [
    "The purpose of this section is to increase the number of US CBSAs that can be clustered by imputing the cluster labels (using knn) for CBSAs with some missing data in the 6 key pollutants. Then, we wanted to see if the clusters made in the US data could be used to classify the French data. "
   ]
  },
  {
   "cell_type": "code",
   "execution_count": 1,
   "metadata": {
    "collapsed": true
   },
   "outputs": [],
   "source": [
    "%matplotlib inline\n",
    "import numpy as np\n",
    "import scipy as sp\n",
    "import matplotlib as mpl\n",
    "import matplotlib.cm as cm\n",
    "import matplotlib.pyplot as plt\n",
    "import pandas as pd\n",
    "import seaborn as sns\n",
    "import csv\n",
    "from time import time\n",
    "import operator "
   ]
  },
  {
   "cell_type": "markdown",
   "metadata": {},
   "source": [
    "####Import US data"
   ]
  },
  {
   "cell_type": "code",
   "execution_count": 2,
   "metadata": {
    "collapsed": false
   },
   "outputs": [],
   "source": [
    "clusters = pd.read_csv('Data/dfClusters_kMeans.csv')\n",
    "us_year = pd.read_csv('Data/YearDat2.csv')"
   ]
  },
  {
   "cell_type": "markdown",
   "metadata": {},
   "source": [
    "####Import French data"
   ]
  },
  {
   "cell_type": "code",
   "execution_count": 3,
   "metadata": {
    "collapsed": true
   },
   "outputs": [],
   "source": [
    "france = pd.read_csv('Data/FranceYearDat.csv')"
   ]
  },
  {
   "cell_type": "markdown",
   "metadata": {},
   "source": [
    "###Impute cluster label of US cities with missing data in the 6 pollutants"
   ]
  },
  {
   "cell_type": "markdown",
   "metadata": {},
   "source": [
    "In the previous cluster creation, only 80 of the 533 US CBSAs were able to be used because of missing data in the 6 key pollutants. So, to increase our sample size, we will use knn to impute the cluster assignment in the CBSAs with only one or two missing values (i.e., with data for 4 or 5 pollutants)."
   ]
  },
  {
   "cell_type": "markdown",
   "metadata": {},
   "source": [
    "####What CBSAs have only one or two missing values in the key pollutants?"
   ]
  },
  {
   "cell_type": "code",
   "execution_count": 4,
   "metadata": {
    "collapsed": false
   },
   "outputs": [],
   "source": [
    "pollutants = ['CO', 'NO2', 'OZONE', 'PM10', 'PM25_FRMFEM', 'SO2']\n",
    "\n",
    "#us_year_p is the dataframe with only the 6 pollutants, with CBSA name as the index. \n",
    "us_year_p = us_year.loc[:, ['CBSA Name', 'CO', 'NO2', 'OZONE', 'PM10', 'PM25_FRMFEM', 'SO2']]"
   ]
  },
  {
   "cell_type": "code",
   "execution_count": 5,
   "metadata": {
    "collapsed": false
   },
   "outputs": [],
   "source": [
    "#generate lists of CBSAs with data from 4 or 5 pollutants\n",
    "us_p4 = []\n",
    "us_p5 = []\n",
    "for i, row in us_year_p.iterrows(): \n",
    "    count = []\n",
    "    for item in row.index[1:]:\n",
    "        if np.isnan(row[item]):\n",
    "            count.append(1)\n",
    "    if sum(count) == 1:\n",
    "        us_p5.append(row['CBSA Name'])\n",
    "    if sum(count) == 2:\n",
    "        us_p4.append(row['CBSA Name'])"
   ]
  },
  {
   "cell_type": "code",
   "execution_count": 6,
   "metadata": {
    "collapsed": false,
    "scrolled": true
   },
   "outputs": [
    {
     "name": "stdout",
     "output_type": "stream",
     "text": [
      "64 CBSAs with non-missing data from 4 pollutants\n",
      "42 CBSAs with non-missing data from 5 pollutants\n"
     ]
    }
   ],
   "source": [
    "#how many CBSAs do we have with 4 or 5 pollutants?\n",
    "print '%d CBSAs with non-missing data from 4 pollutants' %len(us_p4)\n",
    "print '%d CBSAs with non-missing data from 5 pollutants' %len(us_p5)"
   ]
  },
  {
   "cell_type": "markdown",
   "metadata": {},
   "source": [
    "There are 106 additional CBSAs that we can potentially add to our clustering. "
   ]
  },
  {
   "cell_type": "markdown",
   "metadata": {},
   "source": [
    "####Use knn to impute the cluster label"
   ]
  },
  {
   "cell_type": "markdown",
   "metadata": {},
   "source": [
    "Adapted from: http://machinelearningmastery.com/tutorial-to-implement-k-nearest-neighbors-in-python-from-scratch/"
   ]
  },
  {
   "cell_type": "code",
   "execution_count": 7,
   "metadata": {
    "collapsed": false
   },
   "outputs": [],
   "source": [
    "#full dataframe with 4 or 5 pollutants\n",
    "us_year_pi = us_year_p.set_index('CBSA Name')\n",
    "us_year_p4 = us_year_pi.loc[us_p4, :]\n",
    "us_year_p5 = us_year_pi.loc[us_p5, :]"
   ]
  },
  {
   "cell_type": "markdown",
   "metadata": {},
   "source": [
    "Write a function to find similarity between these CBSAs and the no missing data CBSAs. I used euclidean distance to calculate similarity."
   ]
  },
  {
   "cell_type": "code",
   "execution_count": 8,
   "metadata": {
    "collapsed": true
   },
   "outputs": [],
   "source": [
    "def euclidean(miss_city, nonmiss_city, pollutant):\n",
    "    distance = 0\n",
    "    for pol in pollutant:\n",
    "        distance += pow((miss_city[pol] - nonmiss_city[pol]), 2)\n",
    "    return np.sqrt(distance)"
   ]
  },
  {
   "cell_type": "markdown",
   "metadata": {},
   "source": [
    "I need to write a function that gives the right inputs to the euclidean function and iterates through all the cities."
   ]
  },
  {
   "cell_type": "code",
   "execution_count": 9,
   "metadata": {
    "collapsed": true
   },
   "outputs": [],
   "source": [
    "def neighbors(clusteredcities, miss_city, k):\n",
    "    distances = []\n",
    "    #since the missing pollutant was different for each city, the \"cols\" list contains the pollutants with data.\n",
    "    cols = []\n",
    "    for x in range(len(miss_city)):\n",
    "        if np.isnan(miss_city[x])==False:\n",
    "            cols.append(miss_city.index[x])\n",
    "    for x in range(len(clusteredcities)):\n",
    "        dist = euclidean(miss_city, clusteredcities.iloc[x], cols)\n",
    "        distances.append((clusteredcities.iloc[x], dist))\n",
    "    distances.sort(key=operator.itemgetter(1))\n",
    "    neighbors = []\n",
    "    for x in range(k):\n",
    "        neighbors.append(distances[x][0])\n",
    "    return neighbors"
   ]
  },
  {
   "cell_type": "markdown",
   "metadata": {},
   "source": [
    "This 'neighbors' function gets the k nearest cities to a given city with missing values. The next function looks at the clusters in the neighboring cities and 'votes' for the most represented cluster."
   ]
  },
  {
   "cell_type": "code",
   "execution_count": 13,
   "metadata": {
    "collapsed": true
   },
   "outputs": [],
   "source": [
    "def response(neighbors):\n",
    "    classVotes = {}\n",
    "    for x in range(len(neighbors)):\n",
    "        response = neighbors[x]['Cluster']\n",
    "        if response in classVotes:\n",
    "            classVotes[response] += 1\n",
    "        else:\n",
    "            classVotes[response] = 1\n",
    "    sortedVotes = sorted(classVotes.iteritems(), key=operator.itemgetter(1), reverse=True)\n",
    "    return sortedVotes[0][0]"
   ]
  },
  {
   "cell_type": "markdown",
   "metadata": {},
   "source": [
    "Finally, we put the functions together and get imputed clusters for each of our 106 cities with some missing data."
   ]
  },
  {
   "cell_type": "code",
   "execution_count": 14,
   "metadata": {
    "collapsed": false
   },
   "outputs": [
    {
     "name": "stderr",
     "output_type": "stream",
     "text": [
      "C:\\Users\\Mark\\Anaconda\\lib\\site-packages\\IPython\\kernel\\__main__.py:5: SettingWithCopyWarning: \n",
      "A value is trying to be set on a copy of a slice from a DataFrame\n",
      "\n",
      "See the the caveats in the documentation: http://pandas.pydata.org/pandas-docs/stable/indexing.html#indexing-view-versus-copy\n"
     ]
    }
   ],
   "source": [
    "#for 4 pollutants\n",
    "us_year_p4['Cluster'] = 0\n",
    "for x in range(len(us_year_p4)):\n",
    "    knn_clust = response(neighbors(clusters, us_year_p4.iloc[x,:], k=5))\n",
    "    us_year_p4['Cluster'][x] = knn_clust"
   ]
  },
  {
   "cell_type": "code",
   "execution_count": 15,
   "metadata": {
    "collapsed": false
   },
   "outputs": [
    {
     "name": "stderr",
     "output_type": "stream",
     "text": [
      "C:\\Users\\Mark\\Anaconda\\lib\\site-packages\\IPython\\kernel\\__main__.py:5: SettingWithCopyWarning: \n",
      "A value is trying to be set on a copy of a slice from a DataFrame\n",
      "\n",
      "See the the caveats in the documentation: http://pandas.pydata.org/pandas-docs/stable/indexing.html#indexing-view-versus-copy\n"
     ]
    }
   ],
   "source": [
    "#same for 5 pollutants\n",
    "us_year_p5['Cluster'] = 0\n",
    "for x in range(len(us_year_p5)):\n",
    "    knn_clust = response(neighbors(clusters, us_year_p5.iloc[x,:], k=5))\n",
    "    us_year_p5['Cluster'][x] = knn_clust"
   ]
  },
  {
   "cell_type": "markdown",
   "metadata": {
    "collapsed": false
   },
   "source": [
    "Output a .csv of all the clustered CBSAs so far."
   ]
  },
  {
   "cell_type": "code",
   "execution_count": 16,
   "metadata": {
    "collapsed": false
   },
   "outputs": [],
   "source": [
    "us_year_p5['CBSA'] = us_year_p5.index\n",
    "us_year_p4['CBSA'] = us_year_p4.index\n",
    "allclusters = pd.concat([clusters, us_year_p4, us_year_p5])"
   ]
  },
  {
   "cell_type": "code",
   "execution_count": 17,
   "metadata": {
    "collapsed": false
   },
   "outputs": [],
   "source": [
    "allclusters = allclusters.reset_index(drop = True)"
   ]
  },
  {
   "cell_type": "code",
   "execution_count": 19,
   "metadata": {
    "collapsed": false
   },
   "outputs": [],
   "source": [
    "allclusters.to_csv(\"Data/clusters_knn.csv\",index=False,na_rep='NA')"
   ]
  },
  {
   "cell_type": "markdown",
   "metadata": {},
   "source": [
    "###Visualize the clusters with the added CBSAs. How do they compare to the non-imputed clusters?"
   ]
  },
  {
   "cell_type": "markdown",
   "metadata": {},
   "source": [
    "Note: some reuse of code from Unsupervised Learning part 1"
   ]
  },
  {
   "cell_type": "code",
   "execution_count": 20,
   "metadata": {
    "collapsed": false
   },
   "outputs": [
    {
     "name": "stdout",
     "output_type": "stream",
     "text": [
      "Means by cluster and pollutant\n"
     ]
    },
    {
     "data": {
      "text/html": [
       "<div>\n",
       "<table border=\"1\" class=\"dataframe\">\n",
       "  <thead>\n",
       "    <tr style=\"text-align: right;\">\n",
       "      <th></th>\n",
       "      <th>CO</th>\n",
       "      <th>NO2</th>\n",
       "      <th>OZONE</th>\n",
       "      <th>PM10</th>\n",
       "      <th>PM25_FRMFEM</th>\n",
       "      <th>SO2</th>\n",
       "    </tr>\n",
       "    <tr>\n",
       "      <th>Cluster</th>\n",
       "      <th></th>\n",
       "      <th></th>\n",
       "      <th></th>\n",
       "      <th></th>\n",
       "      <th></th>\n",
       "      <th></th>\n",
       "    </tr>\n",
       "  </thead>\n",
       "  <tbody>\n",
       "    <tr>\n",
       "      <th>0</th>\n",
       "      <td>0.413515</td>\n",
       "      <td>11.636311</td>\n",
       "      <td>0.030029</td>\n",
       "      <td>28.303613</td>\n",
       "      <td>10.794096</td>\n",
       "      <td>1.896915</td>\n",
       "    </tr>\n",
       "    <tr>\n",
       "      <th>1</th>\n",
       "      <td>0.341139</td>\n",
       "      <td>7.308236</td>\n",
       "      <td>0.031199</td>\n",
       "      <td>13.288035</td>\n",
       "      <td>8.301168</td>\n",
       "      <td>1.724862</td>\n",
       "    </tr>\n",
       "    <tr>\n",
       "      <th>2</th>\n",
       "      <td>0.409042</td>\n",
       "      <td>11.153284</td>\n",
       "      <td>0.030053</td>\n",
       "      <td>19.589033</td>\n",
       "      <td>10.640480</td>\n",
       "      <td>1.951731</td>\n",
       "    </tr>\n",
       "    <tr>\n",
       "      <th>3</th>\n",
       "      <td>0.335001</td>\n",
       "      <td>4.981901</td>\n",
       "      <td>0.029200</td>\n",
       "      <td>18.329046</td>\n",
       "      <td>8.375102</td>\n",
       "      <td>0.955865</td>\n",
       "    </tr>\n",
       "  </tbody>\n",
       "</table>\n",
       "</div>"
      ],
      "text/plain": [
       "               CO        NO2     OZONE       PM10  PM25_FRMFEM       SO2\n",
       "Cluster                                                                 \n",
       "0        0.413515  11.636311  0.030029  28.303613    10.794096  1.896915\n",
       "1        0.341139   7.308236  0.031199  13.288035     8.301168  1.724862\n",
       "2        0.409042  11.153284  0.030053  19.589033    10.640480  1.951731\n",
       "3        0.335001   4.981901  0.029200  18.329046     8.375102  0.955865"
      ]
     },
     "execution_count": 20,
     "metadata": {},
     "output_type": "execute_result"
    }
   ],
   "source": [
    "all_means = allclusters.groupby('Cluster').mean()\n",
    "print 'Means by cluster and pollutant'\n",
    "all_means"
   ]
  },
  {
   "cell_type": "code",
   "execution_count": 21,
   "metadata": {
    "collapsed": false
   },
   "outputs": [
    {
     "data": {
      "text/plain": [
       "<matplotlib.text.Text at 0x1915f7f0>"
      ]
     },
     "execution_count": 21,
     "metadata": {},
     "output_type": "execute_result"
    },
    {
     "data": {
      "image/png": "[encoded data removed]",
      "text/plain": [
       "<matplotlib.figure.Figure at 0x18c4f898>"
      ]
     },
     "metadata": {},
     "output_type": "display_data"
    }
   ],
   "source": [
    "fig = plt.figure(figsize=(18,12))\n",
    "names=['0','1','2','3']\n",
    "plt.subplot(2, 3, 1)\n",
    "plt.bar(all_means.index,all_means['PM25_FRMFEM'],color=['r','g','b','k'],align='center')\n",
    "plt.title('Mean PM25_FRMFEM',fontsize=20)\n",
    "plt.xticks(all_means.index, names,horizontalalignment='center')\n",
    "plt.xlabel('Cluster Number',horizontalalignment='center',fontsize=10)\n",
    "\n",
    "plt.subplot(2, 3, 2)\n",
    "plt.bar(all_means.index,all_means['PM10'],color=['r','g','b','k'],align='center')\n",
    "plt.title('Mean PM10',fontsize=20)\n",
    "plt.xticks(all_means.index, names,horizontalalignment='center')\n",
    "plt.xlabel('Cluster Number',horizontalalignment='center',fontsize=10)\n",
    "\n",
    "plt.subplot(2, 3, 3)\n",
    "plt.bar(all_means.index,all_means['CO'],color=['r','g','b','k'],align='center')\n",
    "plt.title('Mean CO',fontsize=20)\n",
    "plt.xticks(all_means.index, names,horizontalalignment='center')\n",
    "plt.xlabel('Cluster Number',horizontalalignment='center',fontsize=10)\n",
    "  \n",
    "plt.subplot(2, 3, 4)\n",
    "plt.bar(all_means.index,all_means['NO2'],color=['r','g','b','k'],align='center')\n",
    "plt.title('Mean NO2',fontsize=20)\n",
    "plt.xticks(all_means.index, names,horizontalalignment='center')\n",
    "plt.xlabel('Cluster Number',horizontalalignment='center',fontsize=10)\n",
    "\n",
    "plt.subplot(2, 3, 5)\n",
    "plt.bar(all_means.index,all_means['SO2'],color=['r','g','b','k'],align='center')\n",
    "plt.title('Mean SO2',fontsize=20)\n",
    "plt.xticks(all_means.index, names,horizontalalignment='center')\n",
    "plt.xlabel('Cluster Number',horizontalalignment='center',fontsize=10)\n",
    "\n",
    "plt.subplot(2, 3, 6)\n",
    "plt.bar(all_means.index,all_means['OZONE'],color=['r','g','b','k'],align='center')\n",
    "plt.title('Mean OZONE',fontsize=20)\n",
    "plt.xticks(all_means.index, names,horizontalalignment='center')\n",
    "plt.xlabel('Cluster Number',horizontalalignment='center',fontsize=10)"
   ]
  },
  {
   "cell_type": "code",
   "execution_count": 22,
   "metadata": {
    "collapsed": false
   },
   "outputs": [
    {
     "name": "stdout",
     "output_type": "stream",
     "text": [
      "p-value for PM25_FRMFEM is 0.0000000074\n",
      "p-value for PM10 is 0.0000000000\n",
      "p-value for CO is 0.0006458994\n",
      "p-value for NO2 is 0.0000000000\n",
      "p-value for SO2 is 0.0026670713\n",
      "p-value for OZONE is 0.1711793288\n"
     ]
    }
   ],
   "source": [
    "stat,pval = sp.stats.mstats.kruskalwallis(allclusters[allclusters['Cluster']==0]['PM25_FRMFEM'],allclusters[allclusters['Cluster']==1]['PM25_FRMFEM'],allclusters[allclusters['Cluster']==2]['PM25_FRMFEM'],allclusters[allclusters['Cluster']==3]['PM25_FRMFEM'])\n",
    "print \"p-value for PM25_FRMFEM is %0.10f\"% pval \n",
    "stat,pval = sp.stats.mstats.kruskalwallis(allclusters[allclusters['Cluster']==0]['PM10'],allclusters[allclusters['Cluster']==1]['PM10'],allclusters[allclusters['Cluster']==2]['PM10'],allclusters[allclusters['Cluster']==3]['PM10'])\n",
    "print \"p-value for PM10 is %0.10f\"% pval  \n",
    "stat,pval = sp.stats.mstats.kruskalwallis(allclusters[allclusters['Cluster']==0]['CO'],allclusters[allclusters['Cluster']==1]['CO'],allclusters[allclusters['Cluster']==2]['CO'],allclusters[allclusters['Cluster']==3]['CO'])\n",
    "print \"p-value for CO is %0.10f\"% pval  \n",
    "stat,pval = sp.stats.mstats.kruskalwallis(allclusters[allclusters['Cluster']==0]['NO2'],allclusters[allclusters['Cluster']==1]['NO2'],allclusters[allclusters['Cluster']==2]['NO2'],allclusters[allclusters['Cluster']==3]['NO2'])\n",
    "print \"p-value for NO2 is %0.10f\"% pval  \n",
    "stat,pval = sp.stats.mstats.kruskalwallis(allclusters[allclusters['Cluster']==0]['SO2'],allclusters[allclusters['Cluster']==1]['SO2'],allclusters[allclusters['Cluster']==2]['SO2'],allclusters[allclusters['Cluster']==3]['SO2'])\n",
    "print \"p-value for SO2 is %0.10f\"% pval  \n",
    "stat,pval = sp.stats.mstats.kruskalwallis(allclusters[allclusters['Cluster']==0]['OZONE'],allclusters[allclusters['Cluster']==1]['OZONE'],allclusters[allclusters['Cluster']==2]['OZONE'],allclusters[allclusters['Cluster']==3]['OZONE'])\n",
    "print \"p-value for OZONE is %0.10f\"% pval  "
   ]
  },
  {
   "cell_type": "markdown",
   "metadata": {},
   "source": [
    "The p-values for PM25, PM10, CO, NO2, and SO2 are significant"
   ]
  },
  {
   "cell_type": "markdown",
   "metadata": {},
   "source": [
    "###Looking at other variables (i.e., population, transportation, weather) in the expanded clusters"
   ]
  },
  {
   "cell_type": "code",
   "execution_count": 23,
   "metadata": {
    "collapsed": false
   },
   "outputs": [
    {
     "data": {
      "text/html": [
       "<div>\n",
       "<table border=\"1\" class=\"dataframe\">\n",
       "  <thead>\n",
       "    <tr style=\"text-align: right;\">\n",
       "      <th></th>\n",
       "      <th>CBSA</th>\n",
       "      <th>CO</th>\n",
       "      <th>Cluster</th>\n",
       "      <th>NO2</th>\n",
       "      <th>OZONE</th>\n",
       "      <th>PM10</th>\n",
       "      <th>PM25_FRMFEM</th>\n",
       "      <th>SO2</th>\n",
       "      <th>CBSA Name</th>\n",
       "      <th>Latitude</th>\n",
       "      <th>...</th>\n",
       "      <th>other_frac</th>\n",
       "      <th>pt</th>\n",
       "      <th>pt_frac</th>\n",
       "      <th>total_trans</th>\n",
       "      <th>Precip</th>\n",
       "      <th>Pressure</th>\n",
       "      <th>RH</th>\n",
       "      <th>Site</th>\n",
       "      <th>Temp</th>\n",
       "      <th>Wind</th>\n",
       "    </tr>\n",
       "  </thead>\n",
       "  <tbody>\n",
       "    <tr>\n",
       "      <th>0</th>\n",
       "      <td>Baton Rouge, LA</td>\n",
       "      <td>0.247224</td>\n",
       "      <td>0</td>\n",
       "      <td>7.093001</td>\n",
       "      <td>0.026165</td>\n",
       "      <td>27.801724</td>\n",
       "      <td>10.523564</td>\n",
       "      <td>3.173781</td>\n",
       "      <td>Aberdeen, SD</td>\n",
       "      <td>45.462500</td>\n",
       "      <td>...</td>\n",
       "      <td>NaN</td>\n",
       "      <td>NaN</td>\n",
       "      <td>NaN</td>\n",
       "      <td>NaN</td>\n",
       "      <td>1003.6</td>\n",
       "      <td>1015.438246</td>\n",
       "      <td>NaN</td>\n",
       "      <td>726590-14929-2010</td>\n",
       "      <td>41.339156</td>\n",
       "      <td>8.524296</td>\n",
       "    </tr>\n",
       "    <tr>\n",
       "      <th>1</th>\n",
       "      <td>Chicago-Naperville-Joliet, IL-IN-WI</td>\n",
       "      <td>0.465238</td>\n",
       "      <td>0</td>\n",
       "      <td>18.273966</td>\n",
       "      <td>0.028158</td>\n",
       "      <td>23.560028</td>\n",
       "      <td>12.822971</td>\n",
       "      <td>2.252641</td>\n",
       "      <td>Adrian, MI</td>\n",
       "      <td>41.995568</td>\n",
       "      <td>...</td>\n",
       "      <td>NaN</td>\n",
       "      <td>NaN</td>\n",
       "      <td>NaN</td>\n",
       "      <td>NaN</td>\n",
       "      <td>858.4</td>\n",
       "      <td>1016.135970</td>\n",
       "      <td>NaN</td>\n",
       "      <td>725404-04847-2010</td>\n",
       "      <td>49.491123</td>\n",
       "      <td>6.427338</td>\n",
       "    </tr>\n",
       "    <tr>\n",
       "      <th>2</th>\n",
       "      <td>Davenport-Moline-Rock Island, IA-IL</td>\n",
       "      <td>0.222915</td>\n",
       "      <td>0</td>\n",
       "      <td>8.467157</td>\n",
       "      <td>0.028324</td>\n",
       "      <td>32.308116</td>\n",
       "      <td>12.234181</td>\n",
       "      <td>0.518919</td>\n",
       "      <td>Akron, OH</td>\n",
       "      <td>41.075344</td>\n",
       "      <td>...</td>\n",
       "      <td>0.056770</td>\n",
       "      <td>4220</td>\n",
       "      <td>0.013025</td>\n",
       "      <td>323990</td>\n",
       "      <td>1163.1</td>\n",
       "      <td>1015.604236</td>\n",
       "      <td>NaN</td>\n",
       "      <td>724303-14813-2010</td>\n",
       "      <td>48.129518</td>\n",
       "      <td>6.304204</td>\n",
       "    </tr>\n",
       "    <tr>\n",
       "      <th>3</th>\n",
       "      <td>Denver-Aurora, CO</td>\n",
       "      <td>0.434787</td>\n",
       "      <td>0</td>\n",
       "      <td>22.318625</td>\n",
       "      <td>0.034657</td>\n",
       "      <td>26.029324</td>\n",
       "      <td>7.398333</td>\n",
       "      <td>1.335092</td>\n",
       "      <td>Albany, GA</td>\n",
       "      <td>31.576917</td>\n",
       "      <td>...</td>\n",
       "      <td>0.060006</td>\n",
       "      <td>628</td>\n",
       "      <td>0.010690</td>\n",
       "      <td>58744</td>\n",
       "      <td>1389.2</td>\n",
       "      <td>1017.328956</td>\n",
       "      <td>NaN</td>\n",
       "      <td>722160-13869-2010</td>\n",
       "      <td>65.856673</td>\n",
       "      <td>4.565893</td>\n",
       "    </tr>\n",
       "    <tr>\n",
       "      <th>4</th>\n",
       "      <td>El Centro, CA</td>\n",
       "      <td>0.684568</td>\n",
       "      <td>0</td>\n",
       "      <td>9.504219</td>\n",
       "      <td>0.029866</td>\n",
       "      <td>32.501661</td>\n",
       "      <td>9.472488</td>\n",
       "      <td>0.483751</td>\n",
       "      <td>Albany-Lebanon, OR</td>\n",
       "      <td>44.395800</td>\n",
       "      <td>...</td>\n",
       "      <td>0.117318</td>\n",
       "      <td>211</td>\n",
       "      <td>0.004955</td>\n",
       "      <td>42585</td>\n",
       "      <td>NaN</td>\n",
       "      <td>NaN</td>\n",
       "      <td>NaN</td>\n",
       "      <td>NaN</td>\n",
       "      <td>NaN</td>\n",
       "      <td>NaN</td>\n",
       "    </tr>\n",
       "  </tbody>\n",
       "</table>\n",
       "<p>5 rows × 46 columns</p>\n",
       "</div>"
      ],
      "text/plain": [
       "                                  CBSA        CO  Cluster        NO2  \\\n",
       "0                      Baton Rouge, LA  0.247224        0   7.093001   \n",
       "1  Chicago-Naperville-Joliet, IL-IN-WI  0.465238        0  18.273966   \n",
       "2  Davenport-Moline-Rock Island, IA-IL  0.222915        0   8.467157   \n",
       "3                    Denver-Aurora, CO  0.434787        0  22.318625   \n",
       "4                        El Centro, CA  0.684568        0   9.504219   \n",
       "\n",
       "      OZONE       PM10  PM25_FRMFEM       SO2           CBSA Name   Latitude  \\\n",
       "0  0.026165  27.801724    10.523564  3.173781        Aberdeen, SD  45.462500   \n",
       "1  0.028158  23.560028    12.822971  2.252641          Adrian, MI  41.995568   \n",
       "2  0.028324  32.308116    12.234181  0.518919           Akron, OH  41.075344   \n",
       "3  0.034657  26.029324     7.398333  1.335092          Albany, GA  31.576917   \n",
       "4  0.029866  32.501661     9.472488  0.483751  Albany-Lebanon, OR  44.395800   \n",
       "\n",
       "     ...     other_frac    pt   pt_frac  total_trans  Precip     Pressure  RH  \\\n",
       "0    ...            NaN   NaN       NaN          NaN  1003.6  1015.438246 NaN   \n",
       "1    ...            NaN   NaN       NaN          NaN   858.4  1016.135970 NaN   \n",
       "2    ...       0.056770  4220  0.013025       323990  1163.1  1015.604236 NaN   \n",
       "3    ...       0.060006   628  0.010690        58744  1389.2  1017.328956 NaN   \n",
       "4    ...       0.117318   211  0.004955        42585     NaN          NaN NaN   \n",
       "\n",
       "                Site       Temp      Wind  \n",
       "0  726590-14929-2010  41.339156  8.524296  \n",
       "1  725404-04847-2010  49.491123  6.427338  \n",
       "2  724303-14813-2010  48.129518  6.304204  \n",
       "3  722160-13869-2010  65.856673  4.565893  \n",
       "4                NaN        NaN       NaN  \n",
       "\n",
       "[5 rows x 46 columns]"
      ]
     },
     "execution_count": 23,
     "metadata": {},
     "output_type": "execute_result"
    }
   ],
   "source": [
    "us_clu_vars = pd.concat([allclusters, us_year], axis=1, join='inner')\n",
    "us_clu_vars.head()"
   ]
  },
  {
   "cell_type": "code",
   "execution_count": 24,
   "metadata": {
    "collapsed": false
   },
   "outputs": [
    {
     "data": {
      "text/html": [
       "<div>\n",
       "<table border=\"1\" class=\"dataframe\">\n",
       "  <thead>\n",
       "    <tr style=\"text-align: right;\">\n",
       "      <th></th>\n",
       "      <th>CO</th>\n",
       "      <th>NO2</th>\n",
       "      <th>OZONE</th>\n",
       "      <th>PM10</th>\n",
       "      <th>PM25_FRMFEM</th>\n",
       "      <th>SO2</th>\n",
       "      <th>Latitude</th>\n",
       "      <th>Longitude</th>\n",
       "      <th>PM25_FRMFEM</th>\n",
       "      <th>AQI_PM25_FRMFEM</th>\n",
       "      <th>...</th>\n",
       "      <th>other</th>\n",
       "      <th>other_frac</th>\n",
       "      <th>pt</th>\n",
       "      <th>pt_frac</th>\n",
       "      <th>total_trans</th>\n",
       "      <th>Precip</th>\n",
       "      <th>Pressure</th>\n",
       "      <th>RH</th>\n",
       "      <th>Temp</th>\n",
       "      <th>Wind</th>\n",
       "    </tr>\n",
       "    <tr>\n",
       "      <th>Cluster</th>\n",
       "      <th></th>\n",
       "      <th></th>\n",
       "      <th></th>\n",
       "      <th></th>\n",
       "      <th></th>\n",
       "      <th></th>\n",
       "      <th></th>\n",
       "      <th></th>\n",
       "      <th></th>\n",
       "      <th></th>\n",
       "      <th></th>\n",
       "      <th></th>\n",
       "      <th></th>\n",
       "      <th></th>\n",
       "      <th></th>\n",
       "      <th></th>\n",
       "      <th></th>\n",
       "      <th></th>\n",
       "      <th></th>\n",
       "      <th></th>\n",
       "      <th></th>\n",
       "    </tr>\n",
       "  </thead>\n",
       "  <tbody>\n",
       "    <tr>\n",
       "      <th>0</th>\n",
       "      <td>0.413515</td>\n",
       "      <td>11.636311</td>\n",
       "      <td>0.030029</td>\n",
       "      <td>28.303613</td>\n",
       "      <td>10.794096</td>\n",
       "      <td>1.896915</td>\n",
       "      <td>38.666595</td>\n",
       "      <td>-91.428286</td>\n",
       "      <td>9.703275</td>\n",
       "      <td>37.261522</td>\n",
       "      <td>...</td>\n",
       "      <td>15082.542857</td>\n",
       "      <td>0.077345</td>\n",
       "      <td>2625.485714</td>\n",
       "      <td>0.011032</td>\n",
       "      <td>200922.000000</td>\n",
       "      <td>1180.691176</td>\n",
       "      <td>1015.383263</td>\n",
       "      <td>NaN</td>\n",
       "      <td>54.394391</td>\n",
       "      <td>6.286721</td>\n",
       "    </tr>\n",
       "    <tr>\n",
       "      <th>1</th>\n",
       "      <td>0.341139</td>\n",
       "      <td>7.308236</td>\n",
       "      <td>0.031199</td>\n",
       "      <td>13.288035</td>\n",
       "      <td>8.301168</td>\n",
       "      <td>1.724862</td>\n",
       "      <td>37.644641</td>\n",
       "      <td>-91.901516</td>\n",
       "      <td>9.976506</td>\n",
       "      <td>38.407176</td>\n",
       "      <td>...</td>\n",
       "      <td>34979.068966</td>\n",
       "      <td>0.077425</td>\n",
       "      <td>10022.103448</td>\n",
       "      <td>0.016373</td>\n",
       "      <td>447857.448276</td>\n",
       "      <td>1139.583784</td>\n",
       "      <td>1015.462746</td>\n",
       "      <td>NaN</td>\n",
       "      <td>56.062104</td>\n",
       "      <td>5.851143</td>\n",
       "    </tr>\n",
       "    <tr>\n",
       "      <th>2</th>\n",
       "      <td>0.409042</td>\n",
       "      <td>11.153284</td>\n",
       "      <td>0.030053</td>\n",
       "      <td>19.589033</td>\n",
       "      <td>10.640480</td>\n",
       "      <td>1.951731</td>\n",
       "      <td>38.607780</td>\n",
       "      <td>-93.106074</td>\n",
       "      <td>9.442970</td>\n",
       "      <td>36.539224</td>\n",
       "      <td>...</td>\n",
       "      <td>26616.681818</td>\n",
       "      <td>0.084217</td>\n",
       "      <td>12215.500000</td>\n",
       "      <td>0.015102</td>\n",
       "      <td>325483.636364</td>\n",
       "      <td>1231.661364</td>\n",
       "      <td>1015.231104</td>\n",
       "      <td>NaN</td>\n",
       "      <td>54.395704</td>\n",
       "      <td>6.025272</td>\n",
       "    </tr>\n",
       "    <tr>\n",
       "      <th>3</th>\n",
       "      <td>0.335001</td>\n",
       "      <td>4.981901</td>\n",
       "      <td>0.029200</td>\n",
       "      <td>18.329046</td>\n",
       "      <td>8.375102</td>\n",
       "      <td>0.955865</td>\n",
       "      <td>37.664751</td>\n",
       "      <td>-91.640228</td>\n",
       "      <td>9.728487</td>\n",
       "      <td>37.721390</td>\n",
       "      <td>...</td>\n",
       "      <td>33331.642857</td>\n",
       "      <td>0.082596</td>\n",
       "      <td>21965.821429</td>\n",
       "      <td>0.015825</td>\n",
       "      <td>413160.214286</td>\n",
       "      <td>1083.248387</td>\n",
       "      <td>1015.693685</td>\n",
       "      <td>NaN</td>\n",
       "      <td>54.053773</td>\n",
       "      <td>6.233659</td>\n",
       "    </tr>\n",
       "  </tbody>\n",
       "</table>\n",
       "<p>4 rows × 41 columns</p>\n",
       "</div>"
      ],
      "text/plain": [
       "               CO        NO2     OZONE       PM10  PM25_FRMFEM       SO2  \\\n",
       "Cluster                                                                    \n",
       "0        0.413515  11.636311  0.030029  28.303613    10.794096  1.896915   \n",
       "1        0.341139   7.308236  0.031199  13.288035     8.301168  1.724862   \n",
       "2        0.409042  11.153284  0.030053  19.589033    10.640480  1.951731   \n",
       "3        0.335001   4.981901  0.029200  18.329046     8.375102  0.955865   \n",
       "\n",
       "          Latitude  Longitude  PM25_FRMFEM  AQI_PM25_FRMFEM    ...     \\\n",
       "Cluster                                                        ...      \n",
       "0        38.666595 -91.428286     9.703275        37.261522    ...      \n",
       "1        37.644641 -91.901516     9.976506        38.407176    ...      \n",
       "2        38.607780 -93.106074     9.442970        36.539224    ...      \n",
       "3        37.664751 -91.640228     9.728487        37.721390    ...      \n",
       "\n",
       "                other  other_frac            pt   pt_frac    total_trans  \\\n",
       "Cluster                                                                    \n",
       "0        15082.542857    0.077345   2625.485714  0.011032  200922.000000   \n",
       "1        34979.068966    0.077425  10022.103448  0.016373  447857.448276   \n",
       "2        26616.681818    0.084217  12215.500000  0.015102  325483.636364   \n",
       "3        33331.642857    0.082596  21965.821429  0.015825  413160.214286   \n",
       "\n",
       "              Precip     Pressure  RH       Temp      Wind  \n",
       "Cluster                                                     \n",
       "0        1180.691176  1015.383263 NaN  54.394391  6.286721  \n",
       "1        1139.583784  1015.462746 NaN  56.062104  5.851143  \n",
       "2        1231.661364  1015.231104 NaN  54.395704  6.025272  \n",
       "3        1083.248387  1015.693685 NaN  54.053773  6.233659  \n",
       "\n",
       "[4 rows x 41 columns]"
      ]
     },
     "execution_count": 24,
     "metadata": {},
     "output_type": "execute_result"
    }
   ],
   "source": [
    "us_clu_vars_means = us_clu_vars.groupby('Cluster').mean()\n",
    "us_clu_vars_means"
   ]
  },
  {
   "cell_type": "code",
   "execution_count": 25,
   "metadata": {
    "collapsed": false
   },
   "outputs": [
    {
     "name": "stdout",
     "output_type": "stream",
     "text": [
      "Null hypothesis: None of the clusters differ in mean for this determinant\n",
      "Kruskal Wallis p-value for Precip is 0.3562900715\n",
      "Kruskal Wallis p-value for Pressure is 0.8808218776\n",
      "Kruskal Wallis p-value for Temp is 0.7115442513\n",
      "Kruskal Wallis p-value for Wind is 0.8984623066\n",
      "Kruskal Wallis p-value for landarea is 0.8996835566\n",
      "Kruskal Wallis p-value for popdense2010 is 0.8949046422\n",
      "Kruskal Wallis p-value for pop_weight2010 is 0.8505448959\n",
      "Kruskal Wallis p-value for alone_frac is 0.5808243452\n",
      "Kruskal Wallis p-value for carpool_frac is 0.2828538935\n",
      "Kruskal Wallis p-value for pt_frac is 0.6346911532\n",
      "Kruskal Wallis p-value for other_frac is 0.8963851119\n"
     ]
    }
   ],
   "source": [
    "variable_names=['Precip','Pressure','Temp','Wind','landarea','popdense2010','pop_weight2010','alone_frac','carpool_frac','pt_frac','other_frac']\n",
    "\n",
    "print \"Null hypothesis: None of the clusters differ in mean for this determinant\"\n",
    "for determinant in variable_names:\n",
    "    stat,pval = sp.stats.mstats.kruskalwallis(us_clu_vars[us_clu_vars['Cluster']==0][determinant],us_clu_vars[us_clu_vars['Cluster']==1][determinant],us_clu_vars[us_clu_vars['Cluster']==2][determinant],us_clu_vars[us_clu_vars['Cluster']==3][determinant])\n",
    "    print \"Kruskal Wallis p-value for \"+determinant+\" is %0.10f\"% pval "
   ]
  },
  {
   "cell_type": "markdown",
   "metadata": {},
   "source": [
    "####Weather variables (pressure, temperature, wind, precipitation)"
   ]
  },
  {
   "cell_type": "code",
   "execution_count": 26,
   "metadata": {
    "collapsed": false
   },
   "outputs": [
    {
     "data": {
      "text/plain": [
       "<matplotlib.text.Text at 0x1b3d02e8>"
      ]
     },
     "execution_count": 26,
     "metadata": {},
     "output_type": "execute_result"
    },
    {
     "data": {
      "image/png": "[encoded data removed]",
      "text/plain": [
       "<matplotlib.figure.Figure at 0x1965cba8>"
      ]
     },
     "metadata": {},
     "output_type": "display_data"
    }
   ],
   "source": [
    "fig = plt.figure(figsize=(18,5))\n",
    "names=['0','1','2','3']\n",
    "plt.subplot(1, 4, 1)\n",
    "plt.bar(us_clu_vars_means.index,us_clu_vars_means['Pressure'],color=['r','g','b','k'],align='center')\n",
    "plt.title('Mean Pressure',fontsize=20)\n",
    "plt.xticks(us_clu_vars_means.index, names,horizontalalignment='center')\n",
    "plt.xlabel('Cluster Number',horizontalalignment='center',fontsize=10)\n",
    "\n",
    "plt.subplot(1, 4, 2)\n",
    "plt.bar(us_clu_vars_means.index,us_clu_vars_means['Temp'],color=['r','g','b','k'],align='center')\n",
    "plt.title('Mean Temperature',fontsize=20)\n",
    "plt.xticks(us_clu_vars_means.index, names,horizontalalignment='center')\n",
    "plt.xlabel('Cluster Number',horizontalalignment='center',fontsize=10)\n",
    "\n",
    "plt.subplot(1, 4, 3)\n",
    "plt.bar(us_clu_vars_means.index,us_clu_vars_means['Wind'],color=['r','g','b','k'],align='center')\n",
    "plt.title('Mean Wind',fontsize=20)\n",
    "plt.xticks(us_clu_vars_means.index, names,horizontalalignment='center')\n",
    "plt.xlabel('Cluster Number',horizontalalignment='center',fontsize=10)\n",
    "\n",
    "plt.subplot(1, 4, 4)\n",
    "plt.bar(us_clu_vars_means.index,us_clu_vars_means['Precip'],color=['r','g','b','k'],align='center')\n",
    "plt.title('Mean Precipitation',fontsize=20)\n",
    "plt.xticks(us_clu_vars_means.index, names,horizontalalignment='center')\n",
    "plt.xlabel('Cluster Number',horizontalalignment='center',fontsize=10)"
   ]
  },
  {
   "cell_type": "markdown",
   "metadata": {},
   "source": [
    "####Population variables (land area, population density, population weight)"
   ]
  },
  {
   "cell_type": "code",
   "execution_count": 27,
   "metadata": {
    "collapsed": false
   },
   "outputs": [
    {
     "data": {
      "text/plain": [
       "<matplotlib.text.Text at 0x1b538160>"
      ]
     },
     "execution_count": 27,
     "metadata": {},
     "output_type": "execute_result"
    },
    {
     "data": {
      "image/png": "[encoded data removed]",
      "text/plain": [
       "<matplotlib.figure.Figure at 0x1965c710>"
      ]
     },
     "metadata": {},
     "output_type": "display_data"
    }
   ],
   "source": [
    "fig = plt.figure(figsize=(18,5))\n",
    "names=['0','1','2','3']\n",
    "plt.subplot(1, 3, 1)\n",
    "plt.bar(us_clu_vars_means.index,us_clu_vars_means['popdense2010'],color=['r','g','b','k'],align='center')\n",
    "plt.title('Mean Population Density',fontsize=20)\n",
    "plt.xticks(us_clu_vars_means.index, names,horizontalalignment='center')\n",
    "plt.xlabel('Cluster Number',horizontalalignment='center',fontsize=10)\n",
    "\n",
    "plt.subplot(1, 3, 2)\n",
    "plt.bar(us_clu_vars_means.index,us_clu_vars_means['pop_weight2010'],color=['r','g','b','k'],align='center')\n",
    "plt.title('Mean Population Weight',fontsize=20)\n",
    "plt.xticks(us_clu_vars_means.index, names,horizontalalignment='center')\n",
    "plt.xlabel('Cluster Number',horizontalalignment='center',fontsize=10)\n",
    "\n",
    "plt.subplot(1, 3, 3)\n",
    "plt.bar(us_clu_vars_means.index,us_clu_vars_means['landarea'],color=['r','g','b','k'],align='center')\n",
    "plt.title('Mean Land Area',fontsize=20)\n",
    "plt.xticks(us_clu_vars_means.index, names,horizontalalignment='center')\n",
    "plt.xlabel('Cluster Number',horizontalalignment='center',fontsize=10)"
   ]
  },
  {
   "cell_type": "markdown",
   "metadata": {},
   "source": [
    "####Transportation variables (car alone, car by carpool, public transportation, other)"
   ]
  },
  {
   "cell_type": "code",
   "execution_count": 28,
   "metadata": {
    "collapsed": false
   },
   "outputs": [
    {
     "data": {
      "text/plain": [
       "<matplotlib.text.Text at 0x1bdd1b00>"
      ]
     },
     "execution_count": 28,
     "metadata": {},
     "output_type": "execute_result"
    },
    {
     "data": {
      "image/png": "[encoded data removed]",
      "text/plain": [
       "<matplotlib.figure.Figure at 0x19804828>"
      ]
     },
     "metadata": {},
     "output_type": "display_data"
    }
   ],
   "source": [
    "fig = plt.figure(figsize=(18,5))\n",
    "names=['0','1','2','3']\n",
    "plt.subplot(1, 4, 1)\n",
    "plt.bar(us_clu_vars_means.index,us_clu_vars_means['alone_frac'],color=['r','g','b','k'],align='center')\n",
    "plt.title('Mean Car Alone',fontsize=20)\n",
    "plt.xticks(us_clu_vars_means.index, names,horizontalalignment='center')\n",
    "plt.xlabel('Cluster Number',horizontalalignment='center',fontsize=10)\n",
    "\n",
    "plt.subplot(1, 4, 2)\n",
    "plt.bar(us_clu_vars_means.index,us_clu_vars_means['carpool_frac'],color=['r','g','b','k'],align='center')\n",
    "plt.title('Mean Car by Carpool',fontsize=20)\n",
    "plt.xticks(us_clu_vars_means.index, names,horizontalalignment='center')\n",
    "plt.xlabel('Cluster Number',horizontalalignment='center',fontsize=10)\n",
    "\n",
    "plt.subplot(1, 4, 3)\n",
    "plt.bar(us_clu_vars_means.index,us_clu_vars_means['pt_frac'],color=['r','g','b','k'],align='center')\n",
    "plt.title('Mean Public Transportation',fontsize=20)\n",
    "plt.xticks(us_clu_vars_means.index, names,horizontalalignment='center')\n",
    "plt.xlabel('Cluster Number',horizontalalignment='center',fontsize=10)\n",
    "\n",
    "plt.subplot(1, 4, 4)\n",
    "plt.bar(us_clu_vars_means.index,us_clu_vars_means['other_frac'],color=['r','g','b','k'],align='center')\n",
    "plt.title('Mean Other Transportation',fontsize=20)\n",
    "plt.xticks(us_clu_vars_means.index, names,horizontalalignment='center')\n",
    "plt.xlabel('Cluster Number',horizontalalignment='center',fontsize=10)"
   ]
  },
  {
   "cell_type": "markdown",
   "metadata": {},
   "source": [
    "###Clustering French data"
   ]
  },
  {
   "cell_type": "markdown",
   "metadata": {},
   "source": [
    "####Data prep"
   ]
  },
  {
   "cell_type": "markdown",
   "metadata": {},
   "source": [
    "First, I cut down the size of the french dataset to hold only the 6 key pollutants, and the cities that that have two or fewer missing values. "
   ]
  },
  {
   "cell_type": "code",
   "execution_count": 29,
   "metadata": {
    "collapsed": true
   },
   "outputs": [],
   "source": [
    "fr_6p = france.loc[:, ['city', 'CO', 'NO2', 'OZONE', 'PM10', 'PM25', 'SO2']]\n",
    "#generate lists of French cities with data from 4 or 5 pollutants\n",
    "fr_4 = []\n",
    "fr_5 = []\n",
    "fr_6 = []\n",
    "for i, row in fr_6p.iterrows(): \n",
    "    count = []\n",
    "    for item in row.index[1:]:\n",
    "        if np.isnan(row[item]):\n",
    "            count.append(1)\n",
    "    if sum(count) == 1:\n",
    "        fr_5.append(row['city'])\n",
    "    if sum(count) == 2:\n",
    "        fr_4.append(row['city'])\n",
    "    if sum(count) == 0:\n",
    "        fr_6.append(row['city'])"
   ]
  },
  {
   "cell_type": "code",
   "execution_count": 30,
   "metadata": {
    "collapsed": false,
    "scrolled": true
   },
   "outputs": [
    {
     "name": "stdout",
     "output_type": "stream",
     "text": [
      "20 French cities with non-missing data from 4 pollutants\n",
      "20 French cities with non-missing data from 5 pollutants\n",
      "29 French cities with non-missing data from all 6 pollutants\n"
     ]
    }
   ],
   "source": [
    "print '%d French cities with non-missing data from 4 pollutants' %len(fr_4)\n",
    "print '%d French cities with non-missing data from 5 pollutants' %len(fr_5)\n",
    "print '%d French cities with non-missing data from all 6 pollutants' %len(fr_6)"
   ]
  },
  {
   "cell_type": "code",
   "execution_count": 31,
   "metadata": {
    "collapsed": false
   },
   "outputs": [],
   "source": [
    "fr_pi = fr_6p.set_index('city')\n",
    "fr_p4 = fr_pi.loc[fr_4, :]\n",
    "fr_p5 = fr_pi.loc[fr_5, :]\n",
    "fr_p6 = fr_pi.loc[fr_6, :]"
   ]
  },
  {
   "cell_type": "code",
   "execution_count": 32,
   "metadata": {
    "collapsed": false
   },
   "outputs": [],
   "source": [
    "fr_p = pd.concat([fr_p4,fr_p5,fr_p6])"
   ]
  },
  {
   "cell_type": "code",
   "execution_count": 33,
   "metadata": {
    "collapsed": true
   },
   "outputs": [],
   "source": [
    "fr_p = fr_p.rename(columns={'PM25': 'PM25_FRMFEM'})"
   ]
  },
  {
   "cell_type": "markdown",
   "metadata": {},
   "source": [
    "####Assign clusters on French cities based on US clustering"
   ]
  },
  {
   "cell_type": "markdown",
   "metadata": {},
   "source": [
    "I use the knn functions written above"
   ]
  },
  {
   "cell_type": "code",
   "execution_count": 34,
   "metadata": {
    "collapsed": false
   },
   "outputs": [],
   "source": [
    "frclusts = pd.Series(index=fr_p.index)\n",
    "for x in range(len(fr_p)):\n",
    "    knn_clust = response(neighbors(allclusters, fr_p.iloc[x,:], k=5))\n",
    "    frclusts[x] = knn_clust"
   ]
  },
  {
   "cell_type": "code",
   "execution_count": 35,
   "metadata": {
    "collapsed": false
   },
   "outputs": [],
   "source": [
    "#merge the series containing the cluster labels with the dataframe with the french cities\n",
    "fr_p_clusts = pd.concat([fr_p, frclusts], axis=1)"
   ]
  },
  {
   "cell_type": "code",
   "execution_count": 36,
   "metadata": {
    "collapsed": false
   },
   "outputs": [],
   "source": [
    "fr_p_clusts = fr_p_clusts.rename(columns={0: 'Cluster'})"
   ]
  },
  {
   "cell_type": "markdown",
   "metadata": {},
   "source": [
    "####What do the French clusters look like?"
   ]
  },
  {
   "cell_type": "code",
   "execution_count": 37,
   "metadata": {
    "collapsed": false
   },
   "outputs": [
    {
     "data": {
      "text/html": [
       "<div>\n",
       "<table border=\"1\" class=\"dataframe\">\n",
       "  <thead>\n",
       "    <tr style=\"text-align: right;\">\n",
       "      <th></th>\n",
       "      <th>CO</th>\n",
       "      <th>NO2</th>\n",
       "      <th>OZONE</th>\n",
       "      <th>PM10</th>\n",
       "      <th>PM25_FRMFEM</th>\n",
       "      <th>SO2</th>\n",
       "    </tr>\n",
       "    <tr>\n",
       "      <th>Cluster</th>\n",
       "      <th></th>\n",
       "      <th></th>\n",
       "      <th></th>\n",
       "      <th></th>\n",
       "      <th></th>\n",
       "      <th></th>\n",
       "    </tr>\n",
       "  </thead>\n",
       "  <tbody>\n",
       "    <tr>\n",
       "      <th>0</th>\n",
       "      <td>22</td>\n",
       "      <td>37</td>\n",
       "      <td>37</td>\n",
       "      <td>37</td>\n",
       "      <td>24</td>\n",
       "      <td>32</td>\n",
       "    </tr>\n",
       "    <tr>\n",
       "      <th>2</th>\n",
       "      <td>15</td>\n",
       "      <td>32</td>\n",
       "      <td>32</td>\n",
       "      <td>31</td>\n",
       "      <td>25</td>\n",
       "      <td>30</td>\n",
       "    </tr>\n",
       "  </tbody>\n",
       "</table>\n",
       "</div>"
      ],
      "text/plain": [
       "         CO  NO2  OZONE  PM10  PM25_FRMFEM  SO2\n",
       "Cluster                                        \n",
       "0        22   37     37    37           24   32\n",
       "2        15   32     32    31           25   30"
      ]
     },
     "execution_count": 37,
     "metadata": {},
     "output_type": "execute_result"
    }
   ],
   "source": [
    "fr_group = fr_p_clusts.groupby('Cluster')\n",
    "fr_group.count()"
   ]
  },
  {
   "cell_type": "code",
   "execution_count": 38,
   "metadata": {
    "collapsed": false
   },
   "outputs": [
    {
     "data": {
      "text/html": [
       "<div>\n",
       "<table border=\"1\" class=\"dataframe\">\n",
       "  <thead>\n",
       "    <tr style=\"text-align: right;\">\n",
       "      <th></th>\n",
       "      <th>CO</th>\n",
       "      <th>NO2</th>\n",
       "      <th>OZONE</th>\n",
       "      <th>PM10</th>\n",
       "      <th>PM25_FRMFEM</th>\n",
       "      <th>SO2</th>\n",
       "    </tr>\n",
       "    <tr>\n",
       "      <th>Cluster</th>\n",
       "      <th></th>\n",
       "      <th></th>\n",
       "      <th></th>\n",
       "      <th></th>\n",
       "      <th></th>\n",
       "      <th></th>\n",
       "    </tr>\n",
       "  </thead>\n",
       "  <tbody>\n",
       "    <tr>\n",
       "      <th>0</th>\n",
       "      <td>0.361936</td>\n",
       "      <td>14.389051</td>\n",
       "      <td>0.023049</td>\n",
       "      <td>27.185985</td>\n",
       "      <td>18.607563</td>\n",
       "      <td>0.825050</td>\n",
       "    </tr>\n",
       "    <tr>\n",
       "      <th>2</th>\n",
       "      <td>0.273877</td>\n",
       "      <td>12.170300</td>\n",
       "      <td>0.025443</td>\n",
       "      <td>22.752469</td>\n",
       "      <td>17.540000</td>\n",
       "      <td>0.752601</td>\n",
       "    </tr>\n",
       "  </tbody>\n",
       "</table>\n",
       "</div>"
      ],
      "text/plain": [
       "               CO        NO2     OZONE       PM10  PM25_FRMFEM       SO2\n",
       "Cluster                                                                 \n",
       "0        0.361936  14.389051  0.023049  27.185985    18.607563  0.825050\n",
       "2        0.273877  12.170300  0.025443  22.752469    17.540000  0.752601"
      ]
     },
     "execution_count": 38,
     "metadata": {},
     "output_type": "execute_result"
    }
   ],
   "source": [
    "fr_means = fr_group.mean()\n",
    "fr_means"
   ]
  },
  {
   "cell_type": "code",
   "execution_count": 39,
   "metadata": {
    "collapsed": false
   },
   "outputs": [
    {
     "data": {
      "text/plain": [
       "<matplotlib.text.Text at 0x1eef4ac8>"
      ]
     },
     "execution_count": 39,
     "metadata": {},
     "output_type": "execute_result"
    },
    {
     "data": {
      "image/png": "[encoded data removed]",
      "text/plain": [
       "<matplotlib.figure.Figure at 0x1c025dd8>"
      ]
     },
     "metadata": {},
     "output_type": "display_data"
    }
   ],
   "source": [
    "fig = plt.figure(figsize=(18,12))\n",
    "names=['0','1','3']\n",
    "plt.subplot(2, 3, 1)\n",
    "plt.bar(fr_means.index,fr_means['PM25_FRMFEM'],color=['r','g','k'],align='center')\n",
    "plt.title('Mean PM25_FRMFEM',fontsize=20)\n",
    "plt.xticks(fr_means.index, names,horizontalalignment='center')\n",
    "plt.xlabel('Cluster Number',horizontalalignment='center',fontsize=10)\n",
    "\n",
    "plt.subplot(2, 3, 2)\n",
    "plt.bar(fr_means.index,fr_means['PM10'],color=['r','g','k'],align='center')\n",
    "plt.title('Mean PM10',fontsize=20)\n",
    "plt.xticks(fr_means.index, names,horizontalalignment='center')\n",
    "plt.xlabel('Cluster Number',horizontalalignment='center',fontsize=10)\n",
    "\n",
    "plt.subplot(2, 3, 3)\n",
    "plt.bar(fr_means.index,fr_means['CO'],color=['r','g','k'],align='center')\n",
    "plt.title('Mean CO',fontsize=20)\n",
    "plt.xticks(fr_means.index, names,horizontalalignment='center')\n",
    "plt.xlabel('Cluster Number',horizontalalignment='center',fontsize=10)\n",
    "  \n",
    "plt.subplot(2, 3, 4)\n",
    "plt.bar(fr_means.index,fr_means['NO2'],color=['r','g','k'],align='center')\n",
    "plt.title('Mean NO2',fontsize=20)\n",
    "plt.xticks(fr_means.index, names,horizontalalignment='center')\n",
    "plt.xlabel('Cluster Number',horizontalalignment='center',fontsize=10)\n",
    "\n",
    "plt.subplot(2, 3, 5)\n",
    "plt.bar(fr_means.index,fr_means['SO2'],color=['r','g','k'],align='center')\n",
    "plt.title('Mean SO2',fontsize=20)\n",
    "plt.xticks(fr_means.index, names,horizontalalignment='center')\n",
    "plt.xlabel('Cluster Number',horizontalalignment='center',fontsize=10)\n",
    "\n",
    "plt.subplot(2, 3, 6)\n",
    "plt.bar(fr_means.index,fr_means['OZONE'],color=['r','g','k'],align='center')\n",
    "plt.title('Mean OZONE',fontsize=20)\n",
    "plt.xticks(fr_means.index, names,horizontalalignment='center')\n",
    "plt.xlabel('Cluster Number',horizontalalignment='center',fontsize=10)\n"
   ]
  },
  {
   "cell_type": "code",
   "execution_count": 40,
   "metadata": {
    "collapsed": true
   },
   "outputs": [],
   "source": [
    "fr_p_clusts.to_csv(\"Data/clusters_knn_france.csv\",index=False,na_rep='NA')"
   ]
  },
  {
   "cell_type": "markdown",
   "metadata": {},
   "source": [
    "###Looking at other variables (i.e., population, transportation, weather) in the expanded clusters for France"
   ]
  },
  {
   "cell_type": "code",
   "execution_count": 41,
   "metadata": {
    "collapsed": true
   },
   "outputs": [],
   "source": [
    "fr_p_clusts['city'] = fr_p_clusts.index\n",
    "fr_p_clusts = fr_p_clusts.reset_index(drop = True)"
   ]
  },
  {
   "cell_type": "code",
   "execution_count": 42,
   "metadata": {
    "collapsed": false
   },
   "outputs": [
    {
     "data": {
      "text/html": [
       "<div>\n",
       "<table border=\"1\" class=\"dataframe\">\n",
       "  <thead>\n",
       "    <tr style=\"text-align: right;\">\n",
       "      <th></th>\n",
       "      <th>CO</th>\n",
       "      <th>NO2</th>\n",
       "      <th>OZONE</th>\n",
       "      <th>PM10</th>\n",
       "      <th>PM25_FRMFEM</th>\n",
       "      <th>SO2</th>\n",
       "      <th>Cluster</th>\n",
       "      <th>city</th>\n",
       "      <th>CO</th>\n",
       "      <th>NO2</th>\n",
       "      <th>...</th>\n",
       "      <th>PT</th>\n",
       "      <th>Other</th>\n",
       "      <th>latitude</th>\n",
       "      <th>longitude</th>\n",
       "      <th>Precip</th>\n",
       "      <th>Pressure</th>\n",
       "      <th>RH</th>\n",
       "      <th>Site</th>\n",
       "      <th>Temp</th>\n",
       "      <th>Wind</th>\n",
       "    </tr>\n",
       "  </thead>\n",
       "  <tbody>\n",
       "    <tr>\n",
       "      <th>0</th>\n",
       "      <td>NaN</td>\n",
       "      <td>10.551064</td>\n",
       "      <td>0.022737</td>\n",
       "      <td>25.435</td>\n",
       "      <td>NaN</td>\n",
       "      <td>0.246565</td>\n",
       "      <td>0</td>\n",
       "      <td>Charleville-Mezieres</td>\n",
       "      <td>0.264047</td>\n",
       "      <td>13.533663</td>\n",
       "      <td>...</td>\n",
       "      <td>52137.48</td>\n",
       "      <td>160757.23</td>\n",
       "      <td>48.649243</td>\n",
       "      <td>6.183765</td>\n",
       "      <td>734.1</td>\n",
       "      <td>1014.182698</td>\n",
       "      <td>NaN</td>\n",
       "      <td>071800-99999-2010</td>\n",
       "      <td>49.645806</td>\n",
       "      <td>5.602288</td>\n",
       "    </tr>\n",
       "    <tr>\n",
       "      <th>1</th>\n",
       "      <td>NaN</td>\n",
       "      <td>13.289894</td>\n",
       "      <td>0.025374</td>\n",
       "      <td>NaN</td>\n",
       "      <td>19.359</td>\n",
       "      <td>1.301908</td>\n",
       "      <td>2</td>\n",
       "      <td>Valence</td>\n",
       "      <td>0.291703</td>\n",
       "      <td>13.180851</td>\n",
       "      <td>...</td>\n",
       "      <td>NaN</td>\n",
       "      <td>NaN</td>\n",
       "      <td>49.198722</td>\n",
       "      <td>-0.342557</td>\n",
       "      <td>709.9</td>\n",
       "      <td>1014.605930</td>\n",
       "      <td>NaN</td>\n",
       "      <td>070270-99999-2010</td>\n",
       "      <td>49.413654</td>\n",
       "      <td>7.613426</td>\n",
       "    </tr>\n",
       "    <tr>\n",
       "      <th>2</th>\n",
       "      <td>NaN</td>\n",
       "      <td>10.278191</td>\n",
       "      <td>0.020714</td>\n",
       "      <td>26.630</td>\n",
       "      <td>NaN</td>\n",
       "      <td>0.767939</td>\n",
       "      <td>0</td>\n",
       "      <td>Bethune</td>\n",
       "      <td>NaN</td>\n",
       "      <td>10.551064</td>\n",
       "      <td>...</td>\n",
       "      <td>NaN</td>\n",
       "      <td>NaN</td>\n",
       "      <td>49.745278</td>\n",
       "      <td>4.719167</td>\n",
       "      <td>796.0</td>\n",
       "      <td>1014.537853</td>\n",
       "      <td>NaN</td>\n",
       "      <td>070750-99999-2010</td>\n",
       "      <td>48.359738</td>\n",
       "      <td>4.522086</td>\n",
       "    </tr>\n",
       "    <tr>\n",
       "      <th>3</th>\n",
       "      <td>NaN</td>\n",
       "      <td>10.507270</td>\n",
       "      <td>0.026475</td>\n",
       "      <td>22.453</td>\n",
       "      <td>NaN</td>\n",
       "      <td>2.470992</td>\n",
       "      <td>2</td>\n",
       "      <td>Sarrebruck - Forbach</td>\n",
       "      <td>NaN</td>\n",
       "      <td>13.289894</td>\n",
       "      <td>...</td>\n",
       "      <td>NaN</td>\n",
       "      <td>NaN</td>\n",
       "      <td>44.933514</td>\n",
       "      <td>4.893481</td>\n",
       "      <td>899.9</td>\n",
       "      <td>1013.618678</td>\n",
       "      <td>NaN</td>\n",
       "      <td>075770-99999-2010</td>\n",
       "      <td>55.345660</td>\n",
       "      <td>6.962982</td>\n",
       "    </tr>\n",
       "    <tr>\n",
       "      <th>4</th>\n",
       "      <td>NaN</td>\n",
       "      <td>8.092021</td>\n",
       "      <td>0.025846</td>\n",
       "      <td>25.747</td>\n",
       "      <td>NaN</td>\n",
       "      <td>0.170229</td>\n",
       "      <td>0</td>\n",
       "      <td>Quimper</td>\n",
       "      <td>NaN</td>\n",
       "      <td>9.625000</td>\n",
       "      <td>...</td>\n",
       "      <td>NaN</td>\n",
       "      <td>NaN</td>\n",
       "      <td>47.054444</td>\n",
       "      <td>-0.886111</td>\n",
       "      <td>NaN</td>\n",
       "      <td>NaN</td>\n",
       "      <td>NaN</td>\n",
       "      <td>NaN</td>\n",
       "      <td>NaN</td>\n",
       "      <td>NaN</td>\n",
       "    </tr>\n",
       "  </tbody>\n",
       "</table>\n",
       "<p>5 rows × 33 columns</p>\n",
       "</div>"
      ],
      "text/plain": [
       "   CO        NO2     OZONE    PM10  PM25_FRMFEM       SO2  Cluster  \\\n",
       "0 NaN  10.551064  0.022737  25.435          NaN  0.246565        0   \n",
       "1 NaN  13.289894  0.025374     NaN       19.359  1.301908        2   \n",
       "2 NaN  10.278191  0.020714  26.630          NaN  0.767939        0   \n",
       "3 NaN  10.507270  0.026475  22.453          NaN  2.470992        2   \n",
       "4 NaN   8.092021  0.025846  25.747          NaN  0.170229        0   \n",
       "\n",
       "                   city        CO        NO2    ...           PT      Other  \\\n",
       "0  Charleville-Mezieres  0.264047  13.533663    ...     52137.48  160757.23   \n",
       "1               Valence  0.291703  13.180851    ...          NaN        NaN   \n",
       "2               Bethune       NaN  10.551064    ...          NaN        NaN   \n",
       "3  Sarrebruck - Forbach       NaN  13.289894    ...          NaN        NaN   \n",
       "4               Quimper       NaN   9.625000    ...          NaN        NaN   \n",
       "\n",
       "    latitude  longitude Precip     Pressure  RH               Site       Temp  \\\n",
       "0  48.649243   6.183765  734.1  1014.182698 NaN  071800-99999-2010  49.645806   \n",
       "1  49.198722  -0.342557  709.9  1014.605930 NaN  070270-99999-2010  49.413654   \n",
       "2  49.745278   4.719167  796.0  1014.537853 NaN  070750-99999-2010  48.359738   \n",
       "3  44.933514   4.893481  899.9  1013.618678 NaN  075770-99999-2010  55.345660   \n",
       "4  47.054444  -0.886111    NaN          NaN NaN                NaN        NaN   \n",
       "\n",
       "       Wind  \n",
       "0  5.602288  \n",
       "1  7.613426  \n",
       "2  4.522086  \n",
       "3  6.962982  \n",
       "4       NaN  \n",
       "\n",
       "[5 rows x 33 columns]"
      ]
     },
     "execution_count": 42,
     "metadata": {},
     "output_type": "execute_result"
    }
   ],
   "source": [
    "fr_clu_vars = pd.concat([fr_p_clusts, france], axis=1, join='inner')\n",
    "fr_clu_vars.head()"
   ]
  },
  {
   "cell_type": "code",
   "execution_count": 43,
   "metadata": {
    "collapsed": false
   },
   "outputs": [
    {
     "data": {
      "text/html": [
       "<div>\n",
       "<table border=\"1\" class=\"dataframe\">\n",
       "  <thead>\n",
       "    <tr style=\"text-align: right;\">\n",
       "      <th></th>\n",
       "      <th>CO</th>\n",
       "      <th>NO2</th>\n",
       "      <th>OZONE</th>\n",
       "      <th>PM10</th>\n",
       "      <th>PM25_FRMFEM</th>\n",
       "      <th>SO2</th>\n",
       "      <th>CO</th>\n",
       "      <th>NO2</th>\n",
       "      <th>OZONE</th>\n",
       "      <th>PM10</th>\n",
       "      <th>...</th>\n",
       "      <th>Car</th>\n",
       "      <th>PT</th>\n",
       "      <th>Other</th>\n",
       "      <th>latitude</th>\n",
       "      <th>longitude</th>\n",
       "      <th>Precip</th>\n",
       "      <th>Pressure</th>\n",
       "      <th>RH</th>\n",
       "      <th>Temp</th>\n",
       "      <th>Wind</th>\n",
       "    </tr>\n",
       "    <tr>\n",
       "      <th>Cluster</th>\n",
       "      <th></th>\n",
       "      <th></th>\n",
       "      <th></th>\n",
       "      <th></th>\n",
       "      <th></th>\n",
       "      <th></th>\n",
       "      <th></th>\n",
       "      <th></th>\n",
       "      <th></th>\n",
       "      <th></th>\n",
       "      <th></th>\n",
       "      <th></th>\n",
       "      <th></th>\n",
       "      <th></th>\n",
       "      <th></th>\n",
       "      <th></th>\n",
       "      <th></th>\n",
       "      <th></th>\n",
       "      <th></th>\n",
       "      <th></th>\n",
       "      <th></th>\n",
       "    </tr>\n",
       "  </thead>\n",
       "  <tbody>\n",
       "    <tr>\n",
       "      <th>0</th>\n",
       "      <td>0.361936</td>\n",
       "      <td>14.389051</td>\n",
       "      <td>0.023049</td>\n",
       "      <td>27.185985</td>\n",
       "      <td>18.607563</td>\n",
       "      <td>0.825050</td>\n",
       "      <td>0.318923</td>\n",
       "      <td>13.160578</td>\n",
       "      <td>0.024235</td>\n",
       "      <td>25.001502</td>\n",
       "      <td>...</td>\n",
       "      <td>394874.982143</td>\n",
       "      <td>58138.598571</td>\n",
       "      <td>196968.202143</td>\n",
       "      <td>46.062028</td>\n",
       "      <td>1.125407</td>\n",
       "      <td>759.22069</td>\n",
       "      <td>1014.390874</td>\n",
       "      <td>NaN</td>\n",
       "      <td>51.751196</td>\n",
       "      <td>6.373159</td>\n",
       "    </tr>\n",
       "    <tr>\n",
       "      <th>2</th>\n",
       "      <td>0.273877</td>\n",
       "      <td>12.170300</td>\n",
       "      <td>0.025443</td>\n",
       "      <td>22.752469</td>\n",
       "      <td>17.540000</td>\n",
       "      <td>0.752601</td>\n",
       "      <td>0.297700</td>\n",
       "      <td>12.200818</td>\n",
       "      <td>0.025419</td>\n",
       "      <td>23.890717</td>\n",
       "      <td>...</td>\n",
       "      <td>328461.874444</td>\n",
       "      <td>59843.612222</td>\n",
       "      <td>175157.846667</td>\n",
       "      <td>45.526469</td>\n",
       "      <td>0.401452</td>\n",
       "      <td>761.73600</td>\n",
       "      <td>1014.511001</td>\n",
       "      <td>NaN</td>\n",
       "      <td>51.596959</td>\n",
       "      <td>6.617746</td>\n",
       "    </tr>\n",
       "  </tbody>\n",
       "</table>\n",
       "<p>2 rows × 28 columns</p>\n",
       "</div>"
      ],
      "text/plain": [
       "               CO        NO2     OZONE       PM10  PM25_FRMFEM       SO2  \\\n",
       "Cluster                                                                    \n",
       "0        0.361936  14.389051  0.023049  27.185985    18.607563  0.825050   \n",
       "2        0.273877  12.170300  0.025443  22.752469    17.540000  0.752601   \n",
       "\n",
       "               CO        NO2     OZONE       PM10    ...               Car  \\\n",
       "Cluster                                              ...                     \n",
       "0        0.318923  13.160578  0.024235  25.001502    ...     394874.982143   \n",
       "2        0.297700  12.200818  0.025419  23.890717    ...     328461.874444   \n",
       "\n",
       "                   PT          Other   latitude  longitude     Precip  \\\n",
       "Cluster                                                                 \n",
       "0        58138.598571  196968.202143  46.062028   1.125407  759.22069   \n",
       "2        59843.612222  175157.846667  45.526469   0.401452  761.73600   \n",
       "\n",
       "            Pressure  RH       Temp      Wind  \n",
       "Cluster                                        \n",
       "0        1014.390874 NaN  51.751196  6.373159  \n",
       "2        1014.511001 NaN  51.596959  6.617746  \n",
       "\n",
       "[2 rows x 28 columns]"
      ]
     },
     "execution_count": 43,
     "metadata": {},
     "output_type": "execute_result"
    }
   ],
   "source": [
    "fr_clu_vars_means = fr_clu_vars.groupby('Cluster').mean()\n",
    "fr_clu_vars_means"
   ]
  },
  {
   "cell_type": "code",
   "execution_count": 44,
   "metadata": {
    "collapsed": false
   },
   "outputs": [
    {
     "data": {
      "text/plain": [
       "<matplotlib.text.Text at 0x1f57cc18>"
      ]
     },
     "execution_count": 44,
     "metadata": {},
     "output_type": "execute_result"
    },
    {
     "data": {
      "image/png": "[encoded data removed]",
      "text/plain": [
       "<matplotlib.figure.Figure at 0x18c1be10>"
      ]
     },
     "metadata": {},
     "output_type": "display_data"
    }
   ],
   "source": [
    "fig = plt.figure(figsize=(18,5))\n",
    "names=['0','1','3']\n",
    "plt.subplot(1, 4, 1)\n",
    "plt.bar(fr_clu_vars_means.index,fr_clu_vars_means['Pressure'],color=['r','g','k'],align='center')\n",
    "plt.title('Mean Pressure',fontsize=20)\n",
    "plt.xticks(fr_clu_vars_means.index, names,horizontalalignment='center')\n",
    "plt.xlabel('Cluster Number',horizontalalignment='center',fontsize=10)\n",
    "\n",
    "plt.subplot(1, 4, 2)\n",
    "plt.bar(fr_clu_vars_means.index,fr_clu_vars_means['Temp'],color=['r','g','k'],align='center')\n",
    "plt.title('Mean Temperature',fontsize=20)\n",
    "plt.xticks(fr_clu_vars_means.index, names,horizontalalignment='center')\n",
    "plt.xlabel('Cluster Number',horizontalalignment='center',fontsize=10)\n",
    "\n",
    "plt.subplot(1, 4, 3)\n",
    "plt.bar(fr_clu_vars_means.index,fr_clu_vars_means['Wind'],color=['r','g','k'],align='center')\n",
    "plt.title('Mean Wind',fontsize=20)\n",
    "plt.xticks(fr_clu_vars_means.index, names,horizontalalignment='center')\n",
    "plt.xlabel('Cluster Number',horizontalalignment='center',fontsize=10)\n",
    "\n",
    "plt.subplot(1, 4, 4)\n",
    "plt.bar(fr_clu_vars_means.index,fr_clu_vars_means['Precip'],color=['r','g','k'],align='center')\n",
    "plt.title('Mean Precipitation',fontsize=20)\n",
    "plt.xticks(fr_clu_vars_means.index, names,horizontalalignment='center')\n",
    "plt.xlabel('Cluster Number',horizontalalignment='center',fontsize=10)"
   ]
  },
  {
   "cell_type": "code",
   "execution_count": 45,
   "metadata": {
    "collapsed": false
   },
   "outputs": [
    {
     "data": {
      "text/plain": [
       "<matplotlib.text.Text at 0x1f876be0>"
      ]
     },
     "execution_count": 45,
     "metadata": {},
     "output_type": "execute_result"
    },
    {
     "data": {
      "image/png": "[encoded data removed]",
      "text/plain": [
       "<matplotlib.figure.Figure at 0x19072d30>"
      ]
     },
     "metadata": {},
     "output_type": "display_data"
    }
   ],
   "source": [
    "fig = plt.figure(figsize=(18,5))\n",
    "names=['0','1','3']\n",
    "plt.subplot(1, 2, 1)\n",
    "plt.bar(fr_clu_vars_means.index,fr_clu_vars_means['popdense'],color=['r','g','k'],align='center')\n",
    "plt.title('Mean Population Density',fontsize=20)\n",
    "plt.xticks(fr_clu_vars_means.index, names,horizontalalignment='center')\n",
    "plt.xlabel('Cluster Number',horizontalalignment='center',fontsize=10)\n",
    "\n",
    "plt.subplot(1, 2, 2)\n",
    "plt.bar(fr_clu_vars_means.index,fr_clu_vars_means['area'],color=['r','g','k'],align='center')\n",
    "plt.title('Mean Land Area',fontsize=20)\n",
    "plt.xticks(fr_clu_vars_means.index, names,horizontalalignment='center')\n",
    "plt.xlabel('Cluster Number',horizontalalignment='center',fontsize=10)"
   ]
  },
  {
   "cell_type": "code",
   "execution_count": 46,
   "metadata": {
    "collapsed": false
   },
   "outputs": [
    {
     "data": {
      "text/plain": [
       "<matplotlib.text.Text at 0x1fbad390>"
      ]
     },
     "execution_count": 46,
     "metadata": {},
     "output_type": "execute_result"
    },
    {
     "data": {
      "image/png": "[encoded data removed]",
      "text/plain": [
       "<matplotlib.figure.Figure at 0x1f995160>"
      ]
     },
     "metadata": {},
     "output_type": "display_data"
    }
   ],
   "source": [
    "fig = plt.figure(figsize=(18,5))\n",
    "names=['0','1','2','3']\n",
    "plt.subplot(1, 3, 1)\n",
    "plt.bar(fr_clu_vars_means.index,fr_clu_vars_means['car_frac'],color=['r','g','k'],align='center')\n",
    "plt.title('Mean Car Use (alone and carpool)',fontsize=20)\n",
    "plt.xticks(fr_clu_vars_means.index, names,horizontalalignment='center')\n",
    "plt.xlabel('Cluster Number',horizontalalignment='center',fontsize=10)\n",
    "\n",
    "plt.subplot(1, 3, 2)\n",
    "plt.bar(fr_clu_vars_means.index,fr_clu_vars_means['pt_frac'],color=['r','g','k'],align='center')\n",
    "plt.title('Mean Public Transportation',fontsize=20)\n",
    "plt.xticks(fr_clu_vars_means.index, names,horizontalalignment='center')\n",
    "plt.xlabel('Cluster Number',horizontalalignment='center',fontsize=10)\n",
    "\n",
    "plt.subplot(1, 3, 3)\n",
    "plt.bar(fr_clu_vars_means.index,fr_clu_vars_means['other_frac'],color=['r','g','k'],align='center')\n",
    "plt.title('Mean Other Transportation',fontsize=20)\n",
    "plt.xticks(fr_clu_vars_means.index, names,horizontalalignment='center')\n",
    "plt.xlabel('Cluster Number',horizontalalignment='center',fontsize=10)"
   ]
  },
  {
   "cell_type": "code",
   "execution_count": 47,
   "metadata": {
    "collapsed": false
   },
   "outputs": [
    {
     "data": {
      "text/plain": [
       "Index([u'CO', u'NO2', u'OZONE', u'PM10', u'PM25_FRMFEM', u'SO2', u'CO', u'NO2',\n",
       "       u'OZONE', u'PM10', u'PM25', u'SO2', u'population', u'popdense', u'area',\n",
       "       u'other_frac', u'car_frac', u'pt_frac', u'Car', u'PT', u'Other',\n",
       "       u'latitude', u'longitude', u'Precip', u'Pressure', u'RH', u'Temp',\n",
       "       u'Wind'],\n",
       "      dtype='object')"
      ]
     },
     "execution_count": 47,
     "metadata": {},
     "output_type": "execute_result"
    }
   ],
   "source": [
    "fr_clu_vars_means.columns"
   ]
  },
  {
   "cell_type": "code",
   "execution_count": null,
   "metadata": {
    "collapsed": true
   },
   "outputs": [],
   "source": []
  }
 ],
 "metadata": {
  "kernelspec": {
   "display_name": "Python 2",
   "language": "python",
   "name": "python2"
  },
  "language_info": {
   "codemirror_mode": {
    "name": "ipython",
    "version": 2
   },
   "file_extension": ".py",
   "mimetype": "text/x-python",
   "name": "python",
   "nbconvert_exporter": "python",
   "pygments_lexer": "ipython2",
   "version": "2.7.10"
  }
 },
 "nbformat": 4,
 "nbformat_minor": 0
}
