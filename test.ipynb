{
 "cells": [
  {
   "cell_type": "code",
   "execution_count": null,
   "metadata": {
    "collapsed": true
   },
   "outputs": [],
   "source": [
    "\"\"\"\n",
    "Example script that scrapes data from the IEM ASOS download service\n",
    "\"\"\"\n",
    "import json\n",
    "import datetime\n",
    "import urllib2\n",
    "\n",
    "# timestamps in UTC to request data for\n",
    "startts = datetime.datetime(2012, 8, 1)\n",
    "endts = datetime.datetime(2012, 9, 1)\n",
    "\n",
    "SERVICE = \"http://mesonet.agron.iastate.edu/cgi-bin/request/asos.py?\"\n",
    "SERVICE += \"data=all&tz=Etc/UTC&format=comma&latlon=yes&\"\n",
    "\n",
    "SERVICE += startts.strftime('year1=%Y&month1=%m&day1=%d&')\n",
    "SERVICE += endts.strftime('year2=%Y&month2=%m&day2=%d&')\n",
    "\n",
    "states = \"\"\"AK AL AR AZ CA CO CT DE FL GA HI IA ID IL IN KS KY LA MA MD ME\n",
    " MI MN MO MS MT NC ND NE NH NJ NM NV NY OH OK OR PA RI SC SD TN TX UT VA VT\n",
    " WA WI WV WY\"\"\"\n",
    "# IEM quirk to have Iowa AWOS sites in its own labeled network\n",
    "networks = ['AWOS']\n",
    "for state in states.split():\n",
    "    networks.append(\"%s_ASOS\" % (state,))\n",
    "\n",
    "for network in networks:\n",
    "    # Get metadata\n",
    "    uri = \"http://mesonet.agron.iastate.edu/geojson/network.php?network=%s\" % (\n",
    "                                                                    network,)\n",
    "    data = urllib2.urlopen(uri)\n",
    "    jdict = json.load(data)\n",
    "    for site in jdict['features']:\n",
    "        faaid = site['properties']['sid']\n",
    "        sitename = site['properties']['sname']\n",
    "        uri = '%s&station=%s' % (SERVICE, faaid)\n",
    "        print 'Network: %s Downloading: %s [%s]' % (network, sitename, faaid)\n",
    "        data = urllib2.urlopen(uri)\n",
    "        outfn = '%s_%s_%s.txt' % (faaid, startts.strftime(\"%Y%m%d%H%M\"),\n",
    "                                  endts.strftime(\"%Y%m%d%H%M\"))\n",
    "        out = open(outfn, 'w')\n",
    "        out.write(data.read())\n",
    "        out.close()"
   ]
  }
 ],
 "metadata": {
  "kernelspec": {
   "display_name": "Python 2",
   "language": "python",
   "name": "python2"
  },
  "language_info": {
   "codemirror_mode": {
    "name": "ipython",
    "version": 2
   },
   "file_extension": ".py",
   "mimetype": "text/x-python",
   "name": "python",
   "nbconvert_exporter": "python",
   "pygments_lexer": "ipython2",
   "version": "2.7.10"
  }
 },
 "nbformat": 4,
 "nbformat_minor": 0
}
