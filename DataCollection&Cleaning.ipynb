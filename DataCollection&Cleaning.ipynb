{
 "cells": [
  {
   "cell_type": "markdown",
   "metadata": {},
   "source": [
    "#Final Project: Assessing Air Quality and its Predictors Across the United States"
   ]
  },
  {
   "cell_type": "markdown",
   "metadata": {},
   "source": [
    "###Group members: Elizabether Cheever, Mark Chaffin, & Nicole Lee"
   ]
  },
  {
   "cell_type": "markdown",
   "metadata": {},
   "source": [
    "#Table of Contents\n",
    "* [Background](#Background)\n",
    "\t* [Data Sources](#Data-Sources)\n",
    "* [Data Cleaning](#Data-Cleaning)\n"
   ]
  },
  {
   "cell_type": "markdown",
   "metadata": {},
   "source": [
    "#Background"
   ]
  },
  {
   "cell_type": "markdown",
   "metadata": {},
   "source": [
    "##Measures of Air Quality"
   ]
  },
  {
   "cell_type": "markdown",
   "metadata": {},
   "source": [
    "##Data Sources"
   ]
  },
  {
   "cell_type": "markdown",
   "metadata": {},
   "source": [
    "Data used for this project came from a variety of different resources. The four main types of information collected were:\n",
    "1. Air Quality Data\n",
    "2. Weather Data\n",
    "3. Demographic Data\n",
    "4. Transport Data\n",
    "\n",
    "**Air Quality Data**<br>\n",
    "Our primary objective is to assess air quality in cities across the US. Air quality data was gathered from the EPA website http://aqsdr1.epa.gov/aqsweb/aqstmp/airdata/download_files.html. There is a separate file, for a separate pollutant, for each year from 1990 - 2015. For this analysis, we've focused on the 2010 data as it seemed most complete and we could find matching US census data for that year. We were interested in the main pollutants which are PM2.5, PM10, CO, NO2, SO2, and Ozone. These files were all csv formatted and we cleaned these data to get our final dataset. Data are collected at the daily level, so averages were taken at the monthly, seasonal, and yearly level.\n",
    "\n",
    "For validation, European Air Quality Data can be gathered from http://www.eea.europa.eu/data-and-maps/data/. For this analysis, we will only be looking at Germany Data to keep the things more compact. There are many forms of this data, including raw daily files from a large range of years. For simiplicity, we are starting with the annual summary data from 2010.\n",
    "\n",
    "**Weather Data**<br>\n",
    "While there are many possible sources of weather data, there is a good starting point at the same EPA site listed above. The data has the same format as the pollutant data in that there is a separate file for each type of meterological data for each year. Again, we've downloaded the 2010 data and cleaned that by taking the average reading of each element for each day. Then we took an average of those average values over a given time period -- either season, month, or year.\n",
    "\n",
    "European weather data can be obtained from ftp://ftp.ncdc.noaa.gov/pub/data/ghcn/daily/by_year/. There is data for many cities across the world found here so there is a lot of cleaning to be done.\n",
    "\n",
    "**Demographic Data**<br>\n",
    "We can collect CBSA demographic data like population size and population density fom the US census at: http://www.census.gov/population/metro/data/pop_data.html. This includes more information about what areas fall in each CBSA as well as basic population statistics. These data are from 2010 and will therefore be consistent with the Air Quality Data.\n",
    "\n",
    "European demographic data can be obtained from Wikipedia by scraping the relevant cities' entries. This has been the approach employed here.\n",
    "\n",
    "**Transport Data**<br>\n",
    "US commuter transport data can be obtained for 2009-2013 at http://www.census.gov/hhes/commuting/. While the year does not line up perfectly with the other datasets, it is close and probably fairly comparable. For this data, we have subset the data to get counts and fractions of people commuting *into* each particular region daily. This should give a general feel for how commuting in the particular region works.\n",
    "\n",
    "European transit data can be obtained from: http://epomm.eu/tems/. While German transit data spans 1994-2013, the average year is around 2007. By filtering out particularly old data (prior to 2005) the transit data should be fairly comparable in time scale to the other data collected.\n"
   ]
  },
  {
   "cell_type": "code",
   "execution_count": 1,
   "metadata": {
    "collapsed": true
   },
   "outputs": [],
   "source": [
    "%matplotlib inline\n",
    "import numpy as np\n",
    "import scipy as sp\n",
    "import matplotlib as mpl\n",
    "import matplotlib.cm as cm\n",
    "import matplotlib.pyplot as plt\n",
    "import pandas as pd\n",
    "pd.set_option('display.width', 500)\n",
    "pd.set_option('display.max_columns', 100)\n",
    "pd.set_option('display.notebook_repr_html', True)\n",
    "pd.set_option('display.max_colwidth', -1)\n",
    "import seaborn as sns\n",
    "sns.set_style(\"whitegrid\")\n",
    "sns.set_context(\"poster\")\n",
    "import csv\n",
    "import urllib\n",
    "import time"
   ]
  },
  {
   "cell_type": "markdown",
   "metadata": {},
   "source": [
    "#Data Cleaning"
   ]
  },
  {
   "cell_type": "markdown",
   "metadata": {},
   "source": [
    "###United States Data"
   ]
  },
  {
   "cell_type": "markdown",
   "metadata": {},
   "source": [
    "####Air Quality and Weather Data Collection"
   ]
  },
  {
   "cell_type": "markdown",
   "metadata": {},
   "source": [
    "Here we must first read in several different csv files, one for each pollutant and one for each weather measurement. Before we do that, we define a couple helper functions to assign season and month to individual daily data entries."
   ]
  },
  {
   "cell_type": "code",
   "execution_count": 5,
   "metadata": {
    "collapsed": true
   },
   "outputs": [],
   "source": [
    "#Function to get seasonal breadowns. Takes in\n",
    "#a row from one of these csvs and splits the date\n",
    "#column converting it to a datetime.\n",
    "import datetime\n",
    "def seasonMaker(rowIn):\n",
    "    listeddate=[int(x) for x in rowIn.split(\"-\")]\n",
    "    dateInd = datetime.date(listeddate[0],listeddate[1],listeddate[2])\n",
    "    if (dateInd <= datetime.date(2010,3,20)) or (dateInd >= datetime.date(2010,12,21)):\n",
    "        return 'Winter'\n",
    "    elif (dateInd <= datetime.date(2010,6,21)) and (dateInd >= datetime.date(2010,3,21)):\n",
    "        return 'Spring'\n",
    "    elif (dateInd <= datetime.date(2010,9,21)) and (dateInd >= datetime.date(2010,6,22)):\n",
    "        return 'Summer'\n",
    "    elif (dateInd <= datetime.date(2010,12,20)) and (dateInd >= datetime.date(2010,9,22)):\n",
    "        return 'Fall'"
   ]
  },
  {
   "cell_type": "code",
   "execution_count": 6,
   "metadata": {
    "collapsed": true
   },
   "outputs": [],
   "source": [
    "#A similar function to the above, but it assigns month rather than season\n",
    "def monthMaker(rowIn):\n",
    "    listeddate=[int(x) for x in rowIn.split(\"-\")]\n",
    "    return listeddate[1]"
   ]
  },
  {
   "cell_type": "markdown",
   "metadata": {},
   "source": [
    "We now read in all the weather and pollutant data for the US, starting with PM2.5_frmfem. We need to make our base dataframe first and will use this particular csv to do so. We want to make 3 dataframes from all this, `SeasonDat`, `YearDat`, and `MonthDat`. These represent the different aggregations of pollution and weather data. Daily observations are too variable to get an overall image without some aggregation."
   ]
  },
  {
   "cell_type": "markdown",
   "metadata": {},
   "source": [
    "**Read in all US air quality files**"
   ]
  },
  {
   "cell_type": "code",
   "execution_count": 4,
   "metadata": {
    "collapsed": false
   },
   "outputs": [],
   "source": [
    "#Read in each file one-by-one and add a variable to denote season and one to denote month\n",
    "#PM2.5_frmfem\n",
    "pm25_frmfem = pd.read_csv(\"tempdata/pm2.5frmfem_2010.csv\")\n",
    "pm25_frmfem['season']=pm25_frmfem.apply(lambda row: seasonMaker(row['Date Local']), axis=1)\n",
    "pm25_frmfem['month']=pm25_frmfem.apply(lambda row: monthMaker(row['Date Local']), axis=1)\n",
    "#PM2.5_no_frmfem\n",
    "pm25_nofrmfem = pd.read_csv(\"tempdata/pm2.5_non_frmfem_2010.csv\")\n",
    "pm25_nofrmfem['season']=pm25_nofrmfem.apply(lambda row: seasonMaker(row['Date Local']), axis=1)\n",
    "pm25_nofrmfem['month']=pm25_nofrmfem.apply(lambda row: monthMaker(row['Date Local']), axis=1)\n",
    "#PM10\n",
    "pm10 = pd.read_csv(\"tempdata/pm10_2010.csv\")\n",
    "pm10['season']=pm10.apply(lambda row: seasonMaker(row['Date Local']), axis=1)\n",
    "pm10['month']=pm10.apply(lambda row: monthMaker(row['Date Local']), axis=1)\n",
    "#TEMP\n",
    "temp = pd.read_csv(\"tempdata/temp_2010.csv\")\n",
    "temp['season']=temp.apply(lambda row: seasonMaker(row['Date Local']), axis=1)\n",
    "temp['month']=temp.apply(lambda row: monthMaker(row['Date Local']), axis=1)\n",
    "#PRESS\n",
    "press = pd.read_csv(\"tempdata/press_2010.csv\")\n",
    "press['season']=press.apply(lambda row: seasonMaker(row['Date Local']), axis=1)\n",
    "press['month']=press.apply(lambda row: monthMaker(row['Date Local']), axis=1)\n",
    "#RH_DP\n",
    "rh_dp = pd.read_csv(\"tempdata/rh_dp_2010.csv\")\n",
    "rh_dp['season']=rh_dp.apply(lambda row: seasonMaker(row['Date Local']), axis=1)\n",
    "rh_dp['month']=rh_dp.apply(lambda row: monthMaker(row['Date Local']), axis=1)\n",
    "rh = rh_dp[rh_dp['Parameter Name']=='Relative Humidity ']\n",
    "dp = rh_dp[rh_dp['Parameter Name']=='Dew Point']\n",
    "#WIND\n",
    "wind = pd.read_csv(\"tempdata/wind_2010.csv\")\n",
    "wind['season']=wind.apply(lambda row: seasonMaker(row['Date Local']), axis=1)\n",
    "wind['month']=wind.apply(lambda row: monthMaker(row['Date Local']), axis=1)\n",
    "wind = wind[wind['Units of Measure']=='Knots']\n",
    "#CO\n",
    "co = pd.read_csv(\"tempdata/co_2010.csv\")\n",
    "co['season']=co.apply(lambda row: seasonMaker(row['Date Local']), axis=1)\n",
    "co['month']=co.apply(lambda row: monthMaker(row['Date Local']), axis=1)\n",
    "co = co[co['Pollutant Standard']=='CO 8-hour 1971']\n",
    "#NO2\n",
    "no2 = pd.read_csv(\"tempdata/no2_2010.csv\")\n",
    "no2['season']=no2.apply(lambda row: seasonMaker(row['Date Local']), axis=1)\n",
    "no2['month']=no2.apply(lambda row: monthMaker(row['Date Local']), axis=1)\n",
    "#OZONE\n",
    "ozone = pd.read_csv(\"tempdata/ozone_2010.csv\")\n",
    "ozone['season']=ozone.apply(lambda row: seasonMaker(row['Date Local']), axis=1)\n",
    "ozone['month']=ozone.apply(lambda row: monthMaker(row['Date Local']), axis=1)\n",
    "#SO2\n",
    "so2 = pd.read_csv(\"tempdata/so2_2010.csv\")\n",
    "so2['season']=so2.apply(lambda row: seasonMaker(row['Date Local']), axis=1)\n",
    "so2['month']=so2.apply(lambda row: monthMaker(row['Date Local']), axis=1)\n",
    "so2 = so2[so2['Pollutant Standard']=='SO2 1-hour 2010']"
   ]
  },
  {
   "cell_type": "markdown",
   "metadata": {},
   "source": [
    "Get all the possible Core-Based Statistical Areas (CBSA). These are used for census data of all areas connected to a metropolitan area or micropolitan area. We will use these as a unit of observation because sites in the same CBSA will likely have very similar pollutant and weather measurements."
   ]
  },
  {
   "cell_type": "code",
   "execution_count": 5,
   "metadata": {
    "collapsed": false
   },
   "outputs": [
    {
     "name": "stdout",
     "output_type": "stream",
     "text": [
      "Number of unique CBSA in all files: 534\n"
     ]
    }
   ],
   "source": [
    "fileList = [pm25_frmfem,pm25_nofrmfem,pm10,temp,press,rh,dp,wind,co,no2,ozone,so2]\n",
    "uniqueCBSA = np.array([])\n",
    "for f in fileList:\n",
    "    uniqueCBSA= np.append(uniqueCBSA,f['CBSA Name'].unique())\n",
    "uniqueCBSA = set(uniqueCBSA)\n",
    "print \"Number of unique CBSA in all files: \"+str(len(uniqueCBSA))"
   ]
  },
  {
   "cell_type": "markdown",
   "metadata": {},
   "source": [
    "What about the ones that didn't have a CBSA identifier? How many were there and what Site Location were they?"
   ]
  },
  {
   "cell_type": "code",
   "execution_count": 6,
   "metadata": {
    "collapsed": false
   },
   "outputs": [
    {
     "name": "stdout",
     "output_type": "stream",
     "text": [
      "Number of Sites with no CBSA: 308\n"
     ]
    }
   ],
   "source": [
    "numDup = pd.DataFrame(columns=['Local Site Name','State Name','County Name','City Name'])\n",
    "for f in fileList:\n",
    "    a=f[pd.isnull(f['CBSA Name'])]\n",
    "    names = a.ix[:,['Local Site Name','State Name','County Name','City Name']]\n",
    "    names = names.drop_duplicates()\n",
    "    numDup = pd.concat([numDup,names])\n",
    "print \"Number of Sites with no CBSA: \" +str(len(numDup.drop_duplicates()))"
   ]
  },
  {
   "cell_type": "code",
   "execution_count": 7,
   "metadata": {
    "collapsed": false
   },
   "outputs": [
    {
     "data": {
      "image/png": "[encoded data removed]",
      "text/plain": [
       "<matplotlib.figure.Figure at 0x3ec2ff28>"
      ]
     },
     "metadata": {},
     "output_type": "display_data"
    }
   ],
   "source": [
    "group = numDup.groupby('State Name')\n",
    "f,ax = plt.subplots(figsize=(19,5))\n",
    "ax.bar(range(len(group)),group.count()['Local Site Name'])\n",
    "ax.set_xticks(range(len(group)))\n",
    "ax.grid(False)\n",
    "ax.set_xticklabels(group.count().index,rotation=60,size=13,ha='center')\n",
    "ax.set_title('Location of Dropped Sites By State')\n",
    "ax.set_ylabel('Number of Sites')\n",
    "plt.show()"
   ]
  },
  {
   "cell_type": "markdown",
   "metadata": {},
   "source": [
    "There are some states that have more dropped sites than others. There seems to be slight bias in the more rural areas -- this makes sense at CBSA assignments are for metropolitan and micropolitan areas. The state that loses the most sites is actually the Country of Mexico which we'd probably like to exclude anyway given that we are interested in the US."
   ]
  },
  {
   "cell_type": "markdown",
   "metadata": {},
   "source": [
    "####Collecting Demographics"
   ]
  },
  {
   "cell_type": "markdown",
   "metadata": {},
   "source": [
    "We will proceed with just the sites that fall in a particular CBSA. This allows interpretation and data compiling a bit easier without a large loss of information.\n",
    "\n",
    "Next we'd like to be able to pull population density information and other info in for these CBSA ids. This requires another data set from http://www.census.gov/population/metro/data/pop_data.html. This data is from 2010, but even though we're looking at 2014 weather/air quality data, it shouldn't have changed too dramatically in 4 years."
   ]
  },
  {
   "cell_type": "code",
   "execution_count": 11,
   "metadata": {
    "collapsed": true
   },
   "outputs": [],
   "source": [
    "densityFile = pd.read_csv('tempdata/CBSA_density.csv')"
   ]
  },
  {
   "cell_type": "code",
   "execution_count": 12,
   "metadata": {
    "collapsed": false
   },
   "outputs": [],
   "source": [
    "#Removing top bad rows (just nonsense), removing bad columns, renaming columns\n",
    "densityFile.drop(densityFile.index[[0,1,2,3,4,5,6,7]],inplace=True)\n",
    "densityFile.drop(densityFile.columns[[3,6,8,10]],axis=1,inplace=True)\n",
    "densityFile.columns=['id','name','MetArea','pop2010','landarea','popdense2010','pop_weight2010']"
   ]
  },
  {
   "cell_type": "code",
   "execution_count": 13,
   "metadata": {
    "collapsed": false
   },
   "outputs": [
    {
     "data": {
      "text/html": [
       "<div>\n",
       "<table border=\"1\" class=\"dataframe\">\n",
       "  <thead>\n",
       "    <tr style=\"text-align: right;\">\n",
       "      <th></th>\n",
       "      <th>id</th>\n",
       "      <th>name</th>\n",
       "      <th>MetArea</th>\n",
       "      <th>pop2010</th>\n",
       "      <th>landarea</th>\n",
       "      <th>popdense2010</th>\n",
       "      <th>pop_weight2010</th>\n",
       "    </tr>\n",
       "  </thead>\n",
       "  <tbody>\n",
       "    <tr>\n",
       "      <th>8</th>\n",
       "      <td>10180</td>\n",
       "      <td>Abilene, TX</td>\n",
       "      <td>Metropolitan Statistical Area</td>\n",
       "      <td>165,252</td>\n",
       "      <td>2,743.5</td>\n",
       "      <td>60.2</td>\n",
       "      <td>1,771.8</td>\n",
       "    </tr>\n",
       "    <tr>\n",
       "      <th>9</th>\n",
       "      <td>10420</td>\n",
       "      <td>Akron, OH</td>\n",
       "      <td>Metropolitan Statistical Area</td>\n",
       "      <td>703,200</td>\n",
       "      <td>900.1</td>\n",
       "      <td>781.2</td>\n",
       "      <td>2,412.8</td>\n",
       "    </tr>\n",
       "    <tr>\n",
       "      <th>10</th>\n",
       "      <td>10500</td>\n",
       "      <td>Albany, GA</td>\n",
       "      <td>Metropolitan Statistical Area</td>\n",
       "      <td>157,308</td>\n",
       "      <td>1,932.6</td>\n",
       "      <td>81.4</td>\n",
       "      <td>922.7</td>\n",
       "    </tr>\n",
       "    <tr>\n",
       "      <th>11</th>\n",
       "      <td>10580</td>\n",
       "      <td>Albany-Schenectady-Troy, NY</td>\n",
       "      <td>Metropolitan Statistical Area</td>\n",
       "      <td>870,716</td>\n",
       "      <td>2,811.6</td>\n",
       "      <td>309.7</td>\n",
       "      <td>2,944.9</td>\n",
       "    </tr>\n",
       "    <tr>\n",
       "      <th>12</th>\n",
       "      <td>10740</td>\n",
       "      <td>Albuquerque, NM</td>\n",
       "      <td>Metropolitan Statistical Area</td>\n",
       "      <td>887,077</td>\n",
       "      <td>9,282.5</td>\n",
       "      <td>95.6</td>\n",
       "      <td>3,518.6</td>\n",
       "    </tr>\n",
       "  </tbody>\n",
       "</table>\n",
       "</div>"
      ],
      "text/plain": [
       "       id                         name                        MetArea  pop2010 landarea popdense2010 pop_weight2010\n",
       "8   10180  Abilene, TX                  Metropolitan Statistical Area  165,252  2,743.5  60.2         1,771.8      \n",
       "9   10420  Akron, OH                    Metropolitan Statistical Area  703,200  900.1    781.2        2,412.8      \n",
       "10  10500  Albany, GA                   Metropolitan Statistical Area  157,308  1,932.6  81.4         922.7        \n",
       "11  10580  Albany-Schenectady-Troy, NY  Metropolitan Statistical Area  870,716  2,811.6  309.7        2,944.9      \n",
       "12  10740  Albuquerque, NM              Metropolitan Statistical Area  887,077  9,282.5  95.6         3,518.6      "
      ]
     },
     "execution_count": 13,
     "metadata": {},
     "output_type": "execute_result"
    }
   ],
   "source": [
    "densityFile.head()"
   ]
  },
  {
   "cell_type": "markdown",
   "metadata": {},
   "source": [
    "This next file has the latitude and longitude data we'll want to use for each region. We need to merge this all together in case we need to do mapping later."
   ]
  },
  {
   "cell_type": "code",
   "execution_count": 14,
   "metadata": {
    "collapsed": true
   },
   "outputs": [],
   "source": [
    "latlong = pd.read_csv('tempdata/CBSA_Chapter1PrinCities.csv')"
   ]
  },
  {
   "cell_type": "markdown",
   "metadata": {},
   "source": [
    "This file has a lot of problems in the way information is provided. We want info for just the individual regions but there are a lot of NaNs. This is because only the primary city of a region gets the label. So we need to clean that up a bit. "
   ]
  },
  {
   "cell_type": "code",
   "execution_count": 15,
   "metadata": {
    "collapsed": false
   },
   "outputs": [],
   "source": [
    "#Removing top bad rows, removing bad columns, renaming columns\n",
    "latlong.drop(latlong.index[[0,1,2,3,4]],inplace=True)\n",
    "latlong.drop(latlong.columns[[1,4]],axis=1,inplace=True)\n",
    "latlong.columns=['id','name','pop2010','latitude','longitude']"
   ]
  },
  {
   "cell_type": "code",
   "execution_count": 16,
   "metadata": {
    "collapsed": false
   },
   "outputs": [],
   "source": [
    "#Get latitude and longitude for each id\n",
    "group = latlong.groupby('id')\n",
    "#Get rid of all the NaNs\n",
    "#Help from \n",
    "#http://stackoverflow.com/questions/13413590/how-to-drop-rows-of-pandas-dataframe-whose-value-of-certain-column-is-nan\n",
    "newdf=group.max()\n",
    "newdf = newdf[pd.notnull(newdf['latitude'])]\n",
    "#Weird anomaly\n",
    "newdf.drop(newdf.index[6],inplace=True)"
   ]
  },
  {
   "cell_type": "code",
   "execution_count": 17,
   "metadata": {
    "collapsed": false,
    "scrolled": true
   },
   "outputs": [
    {
     "data": {
      "text/html": [
       "<div>\n",
       "<table border=\"1\" class=\"dataframe\">\n",
       "  <thead>\n",
       "    <tr style=\"text-align: right;\">\n",
       "      <th></th>\n",
       "      <th>name</th>\n",
       "      <th>pop2010</th>\n",
       "      <th>latitude</th>\n",
       "      <th>longitude</th>\n",
       "      <th>id</th>\n",
       "    </tr>\n",
       "    <tr>\n",
       "      <th>id</th>\n",
       "      <th></th>\n",
       "      <th></th>\n",
       "      <th></th>\n",
       "      <th></th>\n",
       "      <th></th>\n",
       "    </tr>\n",
       "  </thead>\n",
       "  <tbody>\n",
       "    <tr>\n",
       "      <th>10180</th>\n",
       "      <td>Abilene, TX Metro Area</td>\n",
       "      <td>165,252</td>\n",
       "      <td>32.4519790</td>\n",
       "      <td>-99.7327870</td>\n",
       "      <td>10180</td>\n",
       "    </tr>\n",
       "    <tr>\n",
       "      <th>10420</th>\n",
       "      <td>Akron, OH Metro Area</td>\n",
       "      <td>703,200</td>\n",
       "      <td>41.0805750</td>\n",
       "      <td>-81.5180690</td>\n",
       "      <td>10420</td>\n",
       "    </tr>\n",
       "    <tr>\n",
       "      <th>10500</th>\n",
       "      <td>Albany, GA Metro Area</td>\n",
       "      <td>77,434</td>\n",
       "      <td>31.5783550</td>\n",
       "      <td>-84.1525160</td>\n",
       "      <td>10500</td>\n",
       "    </tr>\n",
       "    <tr>\n",
       "      <th>10580</th>\n",
       "      <td>Troy city</td>\n",
       "      <td>97,856</td>\n",
       "      <td>42.6517310</td>\n",
       "      <td>-73.7551670</td>\n",
       "      <td>10580</td>\n",
       "    </tr>\n",
       "    <tr>\n",
       "      <th>10740</th>\n",
       "      <td>Albuquerque, NM Metro Area</td>\n",
       "      <td>887,077</td>\n",
       "      <td>35.0879680</td>\n",
       "      <td>-106.6504030</td>\n",
       "      <td>10740</td>\n",
       "    </tr>\n",
       "  </tbody>\n",
       "</table>\n",
       "</div>"
      ],
      "text/plain": [
       "                             name  pop2010    latitude     longitude     id\n",
       "id                                                                         \n",
       "10180  Abilene, TX Metro Area      165,252  32.4519790  -99.7327870   10180\n",
       "10420  Akron, OH Metro Area        703,200  41.0805750  -81.5180690   10420\n",
       "10500  Albany, GA Metro Area       77,434   31.5783550  -84.1525160   10500\n",
       "10580  Troy city                   97,856   42.6517310  -73.7551670   10580\n",
       "10740  Albuquerque, NM Metro Area  887,077  35.0879680  -106.6504030  10740"
      ]
     },
     "execution_count": 17,
     "metadata": {},
     "output_type": "execute_result"
    }
   ],
   "source": [
    "newdf['id']=newdf.index\n",
    "newdf.head()"
   ]
  },
  {
   "cell_type": "markdown",
   "metadata": {},
   "source": [
    "For merging purposes, we need to get a unique mapper between all the files. It's easiest to link all the different names of the CBSA's with a particular numerical ID that exists in these last two files. We spend a bit of time here setting those up to save work later."
   ]
  },
  {
   "cell_type": "code",
   "execution_count": 19,
   "metadata": {
    "collapsed": false
   },
   "outputs": [],
   "source": [
    "#Make a mapper to get numerical id for CBSA\n",
    "idmapper = {}\n",
    "for id, name in zip(densityFile.id,densityFile.name):\n",
    "    idmapper[name]=id"
   ]
  },
  {
   "cell_type": "code",
   "execution_count": 20,
   "metadata": {
    "collapsed": false
   },
   "outputs": [
    {
     "data": {
      "text/html": [
       "<div>\n",
       "<table border=\"1\" class=\"dataframe\">\n",
       "  <thead>\n",
       "    <tr style=\"text-align: right;\">\n",
       "      <th></th>\n",
       "      <th>name</th>\n",
       "      <th>id</th>\n",
       "    </tr>\n",
       "  </thead>\n",
       "  <tbody>\n",
       "    <tr>\n",
       "      <th>0</th>\n",
       "      <td>Kahului-Wailuku, HI</td>\n",
       "      <td>27980</td>\n",
       "    </tr>\n",
       "    <tr>\n",
       "      <th>1</th>\n",
       "      <td>Rapid City, SD</td>\n",
       "      <td>39660</td>\n",
       "    </tr>\n",
       "    <tr>\n",
       "      <th>2</th>\n",
       "      <td>Seymour, IN</td>\n",
       "      <td>42980</td>\n",
       "    </tr>\n",
       "    <tr>\n",
       "      <th>3</th>\n",
       "      <td>Fort Wayne, IN</td>\n",
       "      <td>23060</td>\n",
       "    </tr>\n",
       "    <tr>\n",
       "      <th>4</th>\n",
       "      <td>Bend, OR</td>\n",
       "      <td>13460</td>\n",
       "    </tr>\n",
       "  </tbody>\n",
       "</table>\n",
       "</div>"
      ],
      "text/plain": [
       "                  name     id\n",
       "0  Kahului-Wailuku, HI  27980\n",
       "1  Rapid City, SD       39660\n",
       "2  Seymour, IN          42980\n",
       "3  Fort Wayne, IN       23060\n",
       "4  Bend, OR             13460"
      ]
     },
     "execution_count": 20,
     "metadata": {},
     "output_type": "execute_result"
    }
   ],
   "source": [
    "#Set up the dictionary base\n",
    "#The first entry in uniqueCBSA is NaN so we want\n",
    "#to remove that\n",
    "myFrame = pd.DataFrame({'name':list(uniqueCBSA)[1:]})\n",
    "#Add numerical label \n",
    "myFrame['id']=myFrame['name'].map(idmapper.get)\n",
    "myFrame.head()"
   ]
  },
  {
   "cell_type": "markdown",
   "metadata": {},
   "source": [
    "Some CBSA's didn't map to a particular numerical ID. This is because the CBSA namings have changed over time. It's painful, but probably easiest, to manually fix these 23 issues."
   ]
  },
  {
   "cell_type": "code",
   "execution_count": 21,
   "metadata": {
    "collapsed": false
   },
   "outputs": [
    {
     "name": "stdout",
     "output_type": "stream",
     "text": [
      "Number of cities without numerical ID match: 23\n"
     ]
    },
    {
     "data": {
      "text/html": [
       "<div>\n",
       "<table border=\"1\" class=\"dataframe\">\n",
       "  <thead>\n",
       "    <tr style=\"text-align: right;\">\n",
       "      <th></th>\n",
       "      <th>name</th>\n",
       "      <th>id</th>\n",
       "    </tr>\n",
       "  </thead>\n",
       "  <tbody>\n",
       "    <tr>\n",
       "      <th>17</th>\n",
       "      <td>Wenatchee, WA</td>\n",
       "      <td>None</td>\n",
       "    </tr>\n",
       "    <tr>\n",
       "      <th>28</th>\n",
       "      <td>Bakersfield, CA</td>\n",
       "      <td>None</td>\n",
       "    </tr>\n",
       "    <tr>\n",
       "      <th>39</th>\n",
       "      <td>San Antonio, TX</td>\n",
       "      <td>None</td>\n",
       "    </tr>\n",
       "    <tr>\n",
       "      <th>51</th>\n",
       "      <td>Portland-Vancouver-Beaverton, OR-WA</td>\n",
       "      <td>None</td>\n",
       "    </tr>\n",
       "    <tr>\n",
       "      <th>68</th>\n",
       "      <td>Myrtle Beach-Conway-North Myrtle Beach, SC</td>\n",
       "      <td>None</td>\n",
       "    </tr>\n",
       "    <tr>\n",
       "      <th>115</th>\n",
       "      <td>Bradenton-Sarasota-Venice, FL</td>\n",
       "      <td>None</td>\n",
       "    </tr>\n",
       "    <tr>\n",
       "      <th>118</th>\n",
       "      <td>Madera, CA</td>\n",
       "      <td>None</td>\n",
       "    </tr>\n",
       "    <tr>\n",
       "      <th>122</th>\n",
       "      <td>Atlantic City, NJ</td>\n",
       "      <td>None</td>\n",
       "    </tr>\n",
       "    <tr>\n",
       "      <th>149</th>\n",
       "      <td>Weirton-Steubenville, WV-OH</td>\n",
       "      <td>None</td>\n",
       "    </tr>\n",
       "    <tr>\n",
       "      <th>155</th>\n",
       "      <td>Chicago-Naperville-Joliet, IL-IN-WI</td>\n",
       "      <td>None</td>\n",
       "    </tr>\n",
       "    <tr>\n",
       "      <th>209</th>\n",
       "      <td>Kennewick-Richland-Pasco, WA</td>\n",
       "      <td>None</td>\n",
       "    </tr>\n",
       "    <tr>\n",
       "      <th>260</th>\n",
       "      <td>Canon City, CO</td>\n",
       "      <td>None</td>\n",
       "    </tr>\n",
       "    <tr>\n",
       "      <th>281</th>\n",
       "      <td>Lakeland, FL</td>\n",
       "      <td>None</td>\n",
       "    </tr>\n",
       "    <tr>\n",
       "      <th>328</th>\n",
       "      <td>Orlando-Kissimmee, FL</td>\n",
       "      <td>None</td>\n",
       "    </tr>\n",
       "    <tr>\n",
       "      <th>382</th>\n",
       "      <td>Phoenix-Mesa-Scottsdale, AZ</td>\n",
       "      <td>None</td>\n",
       "    </tr>\n",
       "    <tr>\n",
       "      <th>385</th>\n",
       "      <td>Nashville-Davidson-Murfreesboro-Franklin, TN</td>\n",
       "      <td>None</td>\n",
       "    </tr>\n",
       "    <tr>\n",
       "      <th>412</th>\n",
       "      <td>Charlotte-Gastonia-Concord, NC-SC</td>\n",
       "      <td>None</td>\n",
       "    </tr>\n",
       "    <tr>\n",
       "      <th>434</th>\n",
       "      <td>Panama City-Lynn Haven, FL</td>\n",
       "      <td>None</td>\n",
       "    </tr>\n",
       "    <tr>\n",
       "      <th>473</th>\n",
       "      <td>Durham, NC</td>\n",
       "      <td>None</td>\n",
       "    </tr>\n",
       "    <tr>\n",
       "      <th>490</th>\n",
       "      <td>Fort Walton Beach-Crestview-Destin, FL</td>\n",
       "      <td>None</td>\n",
       "    </tr>\n",
       "    <tr>\n",
       "      <th>509</th>\n",
       "      <td>Austin-Round Rock, TX</td>\n",
       "      <td>None</td>\n",
       "    </tr>\n",
       "    <tr>\n",
       "      <th>515</th>\n",
       "      <td>Charleston-North Charleston, SC</td>\n",
       "      <td>None</td>\n",
       "    </tr>\n",
       "    <tr>\n",
       "      <th>528</th>\n",
       "      <td>Denver-Aurora, CO</td>\n",
       "      <td>None</td>\n",
       "    </tr>\n",
       "  </tbody>\n",
       "</table>\n",
       "</div>"
      ],
      "text/plain": [
       "                                             name    id\n",
       "17   Wenatchee, WA                                 None\n",
       "28   Bakersfield, CA                               None\n",
       "39   San Antonio, TX                               None\n",
       "51   Portland-Vancouver-Beaverton, OR-WA           None\n",
       "68   Myrtle Beach-Conway-North Myrtle Beach, SC    None\n",
       "115  Bradenton-Sarasota-Venice, FL                 None\n",
       "118  Madera, CA                                    None\n",
       "122  Atlantic City, NJ                             None\n",
       "149  Weirton-Steubenville, WV-OH                   None\n",
       "155  Chicago-Naperville-Joliet, IL-IN-WI           None\n",
       "209  Kennewick-Richland-Pasco, WA                  None\n",
       "260  Canon City, CO                                None\n",
       "281  Lakeland, FL                                  None\n",
       "328  Orlando-Kissimmee, FL                         None\n",
       "382  Phoenix-Mesa-Scottsdale, AZ                   None\n",
       "385  Nashville-Davidson-Murfreesboro-Franklin, TN  None\n",
       "412  Charlotte-Gastonia-Concord, NC-SC             None\n",
       "434  Panama City-Lynn Haven, FL                    None\n",
       "473  Durham, NC                                    None\n",
       "490  Fort Walton Beach-Crestview-Destin, FL        None\n",
       "509  Austin-Round Rock, TX                         None\n",
       "515  Charleston-North Charleston, SC               None\n",
       "528  Denver-Aurora, CO                             None"
      ]
     },
     "execution_count": 21,
     "metadata": {},
     "output_type": "execute_result"
    }
   ],
   "source": [
    "#Deal with missing numerical labels case-by-case...\n",
    "#Painful, but doable\n",
    "a = myFrame[pd.isnull(myFrame['id'])]\n",
    "print \"Number of cities without numerical ID match: \"+str(len(a))\n",
    "a"
   ]
  },
  {
   "cell_type": "code",
   "execution_count": 22,
   "metadata": {
    "collapsed": false
   },
   "outputs": [],
   "source": [
    "#This dictionary has the name in myFrame and then the new name we need to use to map to the numerical ID as the value\n",
    "badmatch = {'Wenatchee, WA':'Wenatchee-East Wenatchee, WA','San Antonio, TX':'San Antonio-New Braunfels, TX',\n",
    "           'Portland-Vancouver-Beaverton, OR-WA':'Portland-Vancouver-Hillsboro, OR-WA','Bradenton-Sarasota-Venice, FL':'North Port-Bradenton-Sarasota, FL',\n",
    "           'Madera, CA':'Madera-Chowchilla, CA','Atlantic City, NJ':'Atlantic City-Hammonton, NJ','Weirton-Steubenville, WV-OH':'Steubenville-Weirton, OH-WV',\n",
    "           'Chicago-Naperville-Joliet, IL-IN-WI':'Chicago-Joliet-Naperville, IL-IN-WI','Bakersfield, CA':'Bakersfield-Delano, CA',\n",
    "           'Durham, NC':'Durham-Chapel Hill, NC','Mayaguez, PR':'Mayag\\xfcez, PR','Kennewick-Richland-Pasco, WA':'Kennewick-Pasco-Richland, WA',\n",
    "           'Canon City, CO':'Ca\\xf1on City, CO','Lakeland, FL':'Lakeland-Winter Haven, FL','Orlando-Kissimmee, FL':'Orlando-Kissimmee-Sanford, FL',\n",
    "           'Phoenix-Mesa-Scottsdale, AZ':'Phoenix-Mesa-Glendale, AZ','Nashville-Davidson-Murfreesboro-Franklin, TN':'Nashville-Davidson--Murfreesboro--Franklin, TN',\n",
    "           'Charlotte-Gastonia-Concord, NC-SC':'Charlotte-Gastonia-Rock Hill, NC-SC','Washington Court House, OH, AR':'Washington Court House, OH',\n",
    "           'Panama City-Lynn Haven, FL':'Panama City-Lynn Haven-Panama City Beach, FL','Fort Walton Beach-Crestview-Destin, FL':'Crestview-Fort Walton Beach-Destin, FL',\n",
    "           'Austin-Round Rock, TX':'Austin-Round Rock-San Marcos, TX','Charleston-North Charleston, SC':'Charleston-North Charleston-Summerville, SC',\n",
    "           'Denver-Aurora, CO':'Denver-Aurora-Broomfield, CO','Myrtle Beach-Conway-North Myrtle Beach, SC':'Myrtle Beach-North Myrtle Beach-Conway, SC'}"
   ]
  },
  {
   "cell_type": "code",
   "execution_count": 23,
   "metadata": {
    "collapsed": false
   },
   "outputs": [],
   "source": [
    "#We need to reverse this dictionary for use later as well\n",
    "reverse_bad = {v: k for k, v in badmatch.items()}\n",
    "for id, name in zip(densityFile.id,densityFile.name):\n",
    "    if name in badmatch.values():\n",
    "        idmapper[reverse_bad[name]]=id"
   ]
  },
  {
   "cell_type": "code",
   "execution_count": 24,
   "metadata": {
    "collapsed": false
   },
   "outputs": [],
   "source": [
    "#Make a copy of the mapper to use in the rest of the data\n",
    "idmapper2 = idmapper.copy()"
   ]
  },
  {
   "cell_type": "code",
   "execution_count": 25,
   "metadata": {
    "collapsed": false
   },
   "outputs": [
    {
     "data": {
      "text/html": [
       "<div>\n",
       "<table border=\"1\" class=\"dataframe\">\n",
       "  <thead>\n",
       "    <tr style=\"text-align: right;\">\n",
       "      <th></th>\n",
       "      <th>name</th>\n",
       "      <th>id</th>\n",
       "    </tr>\n",
       "  </thead>\n",
       "  <tbody>\n",
       "    <tr>\n",
       "      <th>0</th>\n",
       "      <td>Kahului-Wailuku, HI</td>\n",
       "      <td>27980</td>\n",
       "    </tr>\n",
       "    <tr>\n",
       "      <th>1</th>\n",
       "      <td>Rapid City, SD</td>\n",
       "      <td>39660</td>\n",
       "    </tr>\n",
       "    <tr>\n",
       "      <th>2</th>\n",
       "      <td>Seymour, IN</td>\n",
       "      <td>42980</td>\n",
       "    </tr>\n",
       "    <tr>\n",
       "      <th>3</th>\n",
       "      <td>Fort Wayne, IN</td>\n",
       "      <td>23060</td>\n",
       "    </tr>\n",
       "    <tr>\n",
       "      <th>4</th>\n",
       "      <td>Bend, OR</td>\n",
       "      <td>13460</td>\n",
       "    </tr>\n",
       "  </tbody>\n",
       "</table>\n",
       "</div>"
      ],
      "text/plain": [
       "                  name     id\n",
       "0  Kahului-Wailuku, HI  27980\n",
       "1  Rapid City, SD       39660\n",
       "2  Seymour, IN          42980\n",
       "3  Fort Wayne, IN       23060\n",
       "4  Bend, OR             13460"
      ]
     },
     "execution_count": 25,
     "metadata": {},
     "output_type": "execute_result"
    }
   ],
   "source": [
    "#Rerun the mapping afresh\n",
    "myFrame = pd.DataFrame({'name':list(uniqueCBSA)[1:]})\n",
    "#Add numerical label \n",
    "myFrame['id']=myFrame['name'].map(idmapper2.get)\n",
    "myFrame.head()"
   ]
  },
  {
   "cell_type": "code",
   "execution_count": 26,
   "metadata": {
    "collapsed": false
   },
   "outputs": [
    {
     "name": "stdout",
     "output_type": "stream",
     "text": [
      "Number of cities without numerical ID match: 0\n"
     ]
    }
   ],
   "source": [
    "#Check the dataframe\n",
    "a = myFrame[pd.isnull(myFrame['id'])]\n",
    "print \"Number of cities without numerical ID match: \"+str(len(a))"
   ]
  },
  {
   "cell_type": "markdown",
   "metadata": {},
   "source": [
    "We now have all our cities mapped to numerical IDs. Great! Now comes time to start merging things together. After these next few cells we are left with a dataframe with some information about each of the CBSAs."
   ]
  },
  {
   "cell_type": "code",
   "execution_count": 27,
   "metadata": {
    "collapsed": false
   },
   "outputs": [
    {
     "data": {
      "text/html": [
       "<div>\n",
       "<table border=\"1\" class=\"dataframe\">\n",
       "  <thead>\n",
       "    <tr style=\"text-align: right;\">\n",
       "      <th></th>\n",
       "      <th>name_x</th>\n",
       "      <th>id</th>\n",
       "      <th>name_y</th>\n",
       "      <th>pop2010</th>\n",
       "      <th>latitude</th>\n",
       "      <th>longitude</th>\n",
       "    </tr>\n",
       "  </thead>\n",
       "  <tbody>\n",
       "    <tr>\n",
       "      <th>0</th>\n",
       "      <td>Kahului-Wailuku, HI</td>\n",
       "      <td>27980</td>\n",
       "      <td>NaN</td>\n",
       "      <td>NaN</td>\n",
       "      <td>NaN</td>\n",
       "      <td>NaN</td>\n",
       "    </tr>\n",
       "    <tr>\n",
       "      <th>1</th>\n",
       "      <td>Rapid City, SD</td>\n",
       "      <td>39660</td>\n",
       "      <td>Rapid City, SD Metro Area</td>\n",
       "      <td>67,956</td>\n",
       "      <td>44.0830460</td>\n",
       "      <td>-103.2262970</td>\n",
       "    </tr>\n",
       "    <tr>\n",
       "      <th>2</th>\n",
       "      <td>Seymour, IN</td>\n",
       "      <td>42980</td>\n",
       "      <td>NaN</td>\n",
       "      <td>NaN</td>\n",
       "      <td>NaN</td>\n",
       "      <td>NaN</td>\n",
       "    </tr>\n",
       "    <tr>\n",
       "      <th>3</th>\n",
       "      <td>Fort Wayne, IN</td>\n",
       "      <td>23060</td>\n",
       "      <td>Fort Wayne, IN Metro Area</td>\n",
       "      <td>416,257</td>\n",
       "      <td>41.0805560</td>\n",
       "      <td>-85.1391380</td>\n",
       "    </tr>\n",
       "    <tr>\n",
       "      <th>4</th>\n",
       "      <td>Bend, OR</td>\n",
       "      <td>13460</td>\n",
       "      <td>Bend, OR Metro Area</td>\n",
       "      <td>76,639</td>\n",
       "      <td>44.0573050</td>\n",
       "      <td>-121.3158290</td>\n",
       "    </tr>\n",
       "  </tbody>\n",
       "</table>\n",
       "</div>"
      ],
      "text/plain": [
       "                name_x     id                     name_y  pop2010    latitude     longitude\n",
       "0  Kahului-Wailuku, HI  27980  NaN                        NaN      NaN         NaN         \n",
       "1  Rapid City, SD       39660  Rapid City, SD Metro Area  67,956   44.0830460  -103.2262970\n",
       "2  Seymour, IN          42980  NaN                        NaN      NaN         NaN         \n",
       "3  Fort Wayne, IN       23060  Fort Wayne, IN Metro Area  416,257  41.0805560  -85.1391380 \n",
       "4  Bend, OR             13460  Bend, OR Metro Area        76,639   44.0573050  -121.3158290"
      ]
     },
     "execution_count": 27,
     "metadata": {},
     "output_type": "execute_result"
    }
   ],
   "source": [
    "myFrame.merge(newdf,on='id',how='left').head()"
   ]
  },
  {
   "cell_type": "code",
   "execution_count": 28,
   "metadata": {
    "collapsed": false
   },
   "outputs": [],
   "source": [
    "#Add latitude longitude\n",
    "intermediate = myFrame.merge(newdf,on='id',how='left')\n",
    "intermediate.drop(intermediate.columns[2],axis=1,inplace=True)"
   ]
  },
  {
   "cell_type": "code",
   "execution_count": 29,
   "metadata": {
    "collapsed": false
   },
   "outputs": [
    {
     "data": {
      "text/html": [
       "<div>\n",
       "<table border=\"1\" class=\"dataframe\">\n",
       "  <thead>\n",
       "    <tr style=\"text-align: right;\">\n",
       "      <th></th>\n",
       "      <th>id</th>\n",
       "      <th>latitude</th>\n",
       "      <th>longitude</th>\n",
       "      <th>name</th>\n",
       "      <th>MetArea</th>\n",
       "      <th>pop2010</th>\n",
       "      <th>landarea</th>\n",
       "      <th>popdense2010</th>\n",
       "      <th>pop_weight2010</th>\n",
       "    </tr>\n",
       "  </thead>\n",
       "  <tbody>\n",
       "    <tr>\n",
       "      <th>0</th>\n",
       "      <td>27980</td>\n",
       "      <td>NaN</td>\n",
       "      <td>NaN</td>\n",
       "      <td>Kahului-Wailuku, HI</td>\n",
       "      <td>Micropolitan Statistical Area</td>\n",
       "      <td>154834</td>\n",
       "      <td>1161.5</td>\n",
       "      <td>133.3</td>\n",
       "      <td>2310.8</td>\n",
       "    </tr>\n",
       "    <tr>\n",
       "      <th>1</th>\n",
       "      <td>39660</td>\n",
       "      <td>44.0830460</td>\n",
       "      <td>-103.2262970</td>\n",
       "      <td>Rapid City, SD</td>\n",
       "      <td>Metropolitan Statistical Area</td>\n",
       "      <td>126382</td>\n",
       "      <td>6247.5</td>\n",
       "      <td>20.2</td>\n",
       "      <td>1170.8</td>\n",
       "    </tr>\n",
       "    <tr>\n",
       "      <th>2</th>\n",
       "      <td>42980</td>\n",
       "      <td>NaN</td>\n",
       "      <td>NaN</td>\n",
       "      <td>Seymour, IN</td>\n",
       "      <td>Micropolitan Statistical Area</td>\n",
       "      <td>42376</td>\n",
       "      <td>509.3</td>\n",
       "      <td>83.2</td>\n",
       "      <td>784.2</td>\n",
       "    </tr>\n",
       "    <tr>\n",
       "      <th>3</th>\n",
       "      <td>23060</td>\n",
       "      <td>41.0805560</td>\n",
       "      <td>-85.1391380</td>\n",
       "      <td>Fort Wayne, IN</td>\n",
       "      <td>Metropolitan Statistical Area</td>\n",
       "      <td>416257</td>\n",
       "      <td>1361.0</td>\n",
       "      <td>305.9</td>\n",
       "      <td>1964.2</td>\n",
       "    </tr>\n",
       "    <tr>\n",
       "      <th>4</th>\n",
       "      <td>13460</td>\n",
       "      <td>44.0573050</td>\n",
       "      <td>-121.3158290</td>\n",
       "      <td>Bend, OR</td>\n",
       "      <td>Metropolitan Statistical Area</td>\n",
       "      <td>157733</td>\n",
       "      <td>3018.2</td>\n",
       "      <td>52.3</td>\n",
       "      <td>1154.6</td>\n",
       "    </tr>\n",
       "  </tbody>\n",
       "</table>\n",
       "</div>"
      ],
      "text/plain": [
       "      id    latitude     longitude                 name                        MetArea  pop2010  landarea  popdense2010  pop_weight2010\n",
       "0  27980  NaN         NaN           Kahului-Wailuku, HI  Micropolitan Statistical Area  154834   1161.5    133.3         2310.8        \n",
       "1  39660  44.0830460  -103.2262970  Rapid City, SD       Metropolitan Statistical Area  126382   6247.5    20.2          1170.8        \n",
       "2  42980  NaN         NaN           Seymour, IN          Micropolitan Statistical Area  42376    509.3     83.2          784.2         \n",
       "3  23060  41.0805560  -85.1391380   Fort Wayne, IN       Metropolitan Statistical Area  416257   1361.0    305.9         1964.2        \n",
       "4  13460  44.0573050  -121.3158290  Bend, OR             Metropolitan Statistical Area  157733   3018.2    52.3          1154.6        "
      ]
     },
     "execution_count": 29,
     "metadata": {},
     "output_type": "execute_result"
    }
   ],
   "source": [
    "#Add population density\n",
    "DemoFrame = intermediate.merge(densityFile,on='id',how='left')\n",
    "DemoFrame.drop(DemoFrame.columns[[0,2]],axis=1,inplace=True)\n",
    "DemoFrame.columns=['id','latitude','longitude','name','MetArea','pop2010','landarea','popdense2010','pop_weight2010']\n",
    "#Fix values that have commas like 1,049 and 1,170.8 so we can use them as floats later\n",
    "a = [str(x) for x in list(DemoFrame['popdense2010'].values)]\n",
    "b = [float(x.replace(\",\",\"\")) for x in a]\n",
    "DemoFrame['popdense2010']=b\n",
    "a = [str(x) for x in list(DemoFrame['pop_weight2010'].values)]\n",
    "b = [float(x.replace(\",\",\"\")) for x in a]\n",
    "DemoFrame['pop_weight2010']=b\n",
    "a = [str(x) for x in list(DemoFrame['landarea'].values)]\n",
    "b = [float(x.replace(\",\",\"\")) for x in a]\n",
    "DemoFrame['landarea']=b\n",
    "a = [str(x) for x in list(DemoFrame['pop2010'].values)]\n",
    "b = [float(x.replace(\",\",\"\")) for x in a]\n",
    "DemoFrame['pop2010']=b\n",
    "#View the frame\n",
    "DemoFrame.head()"
   ]
  },
  {
   "cell_type": "markdown",
   "metadata": {},
   "source": [
    "####Collecting Transit Data"
   ]
  },
  {
   "cell_type": "markdown",
   "metadata": {},
   "source": [
    "Now we need to compile the traffic data to use. This comes from an excel file that is quite large -- we need to manipulate to collect the relevant pieces of information"
   ]
  },
  {
   "cell_type": "code",
   "execution_count": 30,
   "metadata": {
    "collapsed": false
   },
   "outputs": [],
   "source": [
    "#Load traffic excel file\n",
    "trafDat = pd.read_excel('tempdata/census_commute_2009_2013.xlsx')"
   ]
  },
  {
   "cell_type": "code",
   "execution_count": 31,
   "metadata": {
    "collapsed": true
   },
   "outputs": [],
   "source": [
    "#Drop first several rows of excess info\n",
    "trafDat.drop(trafDat.index[[0,1,2,3,4,5,6,106181,106182,106183,106184,106185]],inplace=True)"
   ]
  },
  {
   "cell_type": "code",
   "execution_count": 32,
   "metadata": {
    "collapsed": true
   },
   "outputs": [],
   "source": [
    "#Drop excess columns\n",
    "trafDat.drop(trafDat.columns[[0,1,2,3,4,5,6,7]],axis=1,inplace=True)"
   ]
  },
  {
   "cell_type": "code",
   "execution_count": 33,
   "metadata": {
    "collapsed": false
   },
   "outputs": [],
   "source": [
    "#Rename remaing columns appropriately\n",
    "trafDat.columns=['State','County','id','CBSA Name','Travel Mode','NumComm','MOE']"
   ]
  },
  {
   "cell_type": "code",
   "execution_count": 34,
   "metadata": {
    "collapsed": false
   },
   "outputs": [],
   "source": [
    "#Group by the id (numerical CBSA id) and the travel mode\n",
    "#Get sum of people commuting into each CBSA by each travel\n",
    "#mode\n",
    "group = trafDat.groupby(['id','Travel Mode'])\n",
    "a = pd.DataFrame(group.sum()['NumComm'])\n",
    "trafDatClean = a.reset_index()"
   ]
  },
  {
   "cell_type": "code",
   "execution_count": 35,
   "metadata": {
    "collapsed": false
   },
   "outputs": [
    {
     "data": {
      "text/html": [
       "<div>\n",
       "<table border=\"1\" class=\"dataframe\">\n",
       "  <thead>\n",
       "    <tr style=\"text-align: right;\">\n",
       "      <th></th>\n",
       "      <th>id</th>\n",
       "      <th>Travel Mode</th>\n",
       "      <th>NumComm</th>\n",
       "    </tr>\n",
       "  </thead>\n",
       "  <tbody>\n",
       "    <tr>\n",
       "      <th>0</th>\n",
       "      <td>10180</td>\n",
       "      <td>Car, truck, or van: Carpooled</td>\n",
       "      <td>8489</td>\n",
       "    </tr>\n",
       "    <tr>\n",
       "      <th>1</th>\n",
       "      <td>10180</td>\n",
       "      <td>Car, truck, or van: Drove alone</td>\n",
       "      <td>57771</td>\n",
       "    </tr>\n",
       "    <tr>\n",
       "      <th>2</th>\n",
       "      <td>10180</td>\n",
       "      <td>Other travel mode</td>\n",
       "      <td>5130</td>\n",
       "    </tr>\n",
       "    <tr>\n",
       "      <th>3</th>\n",
       "      <td>10180</td>\n",
       "      <td>Public transportation</td>\n",
       "      <td>450</td>\n",
       "    </tr>\n",
       "    <tr>\n",
       "      <th>4</th>\n",
       "      <td>10260</td>\n",
       "      <td>Car, truck, or van: Carpooled</td>\n",
       "      <td>263</td>\n",
       "    </tr>\n",
       "  </tbody>\n",
       "</table>\n",
       "</div>"
      ],
      "text/plain": [
       "      id                      Travel Mode  NumComm\n",
       "0  10180  Car, truck, or van: Carpooled    8489   \n",
       "1  10180  Car, truck, or van: Drove alone  57771  \n",
       "2  10180  Other travel mode                5130   \n",
       "3  10180  Public transportation            450    \n",
       "4  10260  Car, truck, or van: Carpooled    263    "
      ]
     },
     "execution_count": 35,
     "metadata": {},
     "output_type": "execute_result"
    }
   ],
   "source": [
    "trafDatClean.head()"
   ]
  },
  {
   "cell_type": "code",
   "execution_count": 36,
   "metadata": {
    "collapsed": true
   },
   "outputs": [],
   "source": [
    "uniqueTraf = trafDatClean['id'].unique()"
   ]
  },
  {
   "cell_type": "code",
   "execution_count": 37,
   "metadata": {
    "collapsed": false
   },
   "outputs": [],
   "source": [
    "#Get ids that are in the demo and air data\n",
    "airDatID = []\n",
    "for i in idmapper2.values():\n",
    "    if str(i) == 'nan':\n",
    "        continue\n",
    "    else:\n",
    "        airDatID.append(int(i))\n",
    "        \n",
    "goods = []\n",
    "bads = []\n",
    "for i in uniqueTraf:\n",
    "    if i in airDatID:\n",
    "        goods.append(i)\n",
    "    else:\n",
    "        bads.append(i)"
   ]
  },
  {
   "cell_type": "code",
   "execution_count": 38,
   "metadata": {
    "collapsed": false
   },
   "outputs": [
    {
     "name": "stdout",
     "output_type": "stream",
     "text": [
      "Number of Traffic Locations in Other Data: 384\n",
      "Number of Traffic Locations NOT in Other Data: 9\n"
     ]
    }
   ],
   "source": [
    "print 'Number of Traffic Locations in Other Data: '+str(len(goods))\n",
    "print 'Number of Traffic Locations NOT in Other Data: '+str(len(bads))"
   ]
  },
  {
   "cell_type": "markdown",
   "metadata": {},
   "source": [
    "The vast majority of cities with traffic data also are found in the air quality data which is great! There are a few ids that are not in our air quality data. We can take a look at what those cities are here."
   ]
  },
  {
   "cell_type": "code",
   "execution_count": 52,
   "metadata": {
    "collapsed": false
   },
   "outputs": [
    {
     "name": "stdout",
     "output_type": "stream",
     "text": [
      "[u'Arecibo, PR']\n",
      "[u'Bloomington, IL ']\n",
      "[u'California-Lexington Park, MD ']\n",
      "[u'Coco, PR']\n",
      "[u'Lafayette-West Lafayette, IN ']\n",
      "[u'Los Angeles-Long Beach-Anaheim, CA ']\n",
      "[u'Santa Maria-Santa Barbara, CA ']\n",
      "[u'Urban Honolulu, HI ']\n",
      "[u'Weirton-Steubenville, WV-OH ']\n"
     ]
    }
   ],
   "source": [
    "for i in bads:\n",
    "    a = trafDat[trafDat['id']==i]\n",
    "    print a['CBSA Name'].unique()"
   ]
  },
  {
   "cell_type": "markdown",
   "metadata": {},
   "source": [
    "There doesn't seem to be any systematic difference here so we will just assume we don't have air quality data for these cities, so they're not of interest because we can't make predictions. Therefore they will just be dropped.\n",
    "\n",
    "The next code is a bit of cleaning to get a dataframe that we can merge with our other data. Right now we just have overall numbers of commuters into each region. We'd like to get fractional breakdowns of commuters by type so we calculate the below."
   ]
  },
  {
   "cell_type": "code",
   "execution_count": 39,
   "metadata": {
    "collapsed": false
   },
   "outputs": [],
   "source": [
    "#Generate a dataframe of the traffic data for merging\n",
    "#Specify the columns to be used\n",
    "outDict = {'total_trans':[],'carpool':[],'alone':[],'other':[],'pt':[],'carpool_frac':[],\n",
    "          'alone_frac':[],'other_frac':[],'pt_frac':[]}\n",
    "#Keep track of the index\n",
    "index = []\n",
    "\n",
    "#Loop through all the cities in the traffic file\n",
    "for i in trafDatClean['id'].unique():\n",
    "    #Subset to the specific city\n",
    "    a = trafDatClean[trafDatClean['id']==i]\n",
    "    #Get the counts\n",
    "    total = int(a['NumComm'].sum())\n",
    "    carpool = int(a[a['Travel Mode']=='Car, truck, or van: Carpooled']['NumComm'])\n",
    "    alone = int(a[a['Travel Mode']=='Car, truck, or van: Drove alone']['NumComm'])\n",
    "    other = int(a[a['Travel Mode']=='Other travel mode']['NumComm'])\n",
    "    pt = int(a[a['Travel Mode']=='Public transportation']['NumComm'])\n",
    "    #Get the fractions\n",
    "    carpool_frac = float(carpool)/float(total)\n",
    "    alone_frac = float(alone)/float(total)\n",
    "    other_frac = float(other)/float(total)\n",
    "    pt_frac = float(pt)/float(total)\n",
    "    #Append relevant information\n",
    "    index.append(i)\n",
    "    outDict['total_trans'].append(total)\n",
    "    outDict['carpool'].append(carpool)\n",
    "    outDict['alone'].append(alone)\n",
    "    outDict['other'].append(other)\n",
    "    outDict['pt'].append(pt)\n",
    "    outDict['carpool_frac'].append(carpool_frac)\n",
    "    outDict['alone_frac'].append(alone_frac)\n",
    "    outDict['other_frac'].append(other_frac)\n",
    "    outDict['pt_frac'].append(pt_frac)\n",
    "#Return dataframe\n",
    "trafDatCompiled = pd.DataFrame(outDict,index=index)\n",
    "trafDatCompiled['id']=trafDatCompiled.index"
   ]
  },
  {
   "cell_type": "markdown",
   "metadata": {},
   "source": [
    "####Merging Demographics, Air Quality, Weather, and Transit Data"
   ]
  },
  {
   "cell_type": "markdown",
   "metadata": {},
   "source": [
    "What we need to do here is aggregate information across all these files -- traffic, demographics, weather, and air quality. The weather and air quality data is still stored *daily* information. So that's the first challenge. We will work with just the average daily readings to begin with (we could have looked at max readings, but that may not be as informative as an overall metric). Then we want to aggreate daily measurements at a location to average monthly readings. average seasonal readings, and average yearly readings. This may not be the *most* robust strategy, but it will hopefully give a good starting point to investiage trends."
   ]
  },
  {
   "cell_type": "code",
   "execution_count": 40,
   "metadata": {
    "collapsed": false
   },
   "outputs": [],
   "source": [
    "#DOING SEASONAL AVERAGING FIRST\n",
    "fileList = [pm25_frmfem,pm25_nofrmfem,pm10,temp,press,rh,dp,wind,co,no2,ozone,so2]\n",
    "fileName = ['PM25_FRMFEM','PM25_NOFRMFEM','PM10','TEMP','PRESS','RH','DP','WIND','CO','NO2','OZONE','SO2']\n",
    "count = 0\n",
    "for f,n in zip(fileList,fileName):\n",
    "    if count == 0:\n",
    "        group = f.groupby(['CBSA Name','season'])\n",
    "        means = group.mean()\n",
    "        means.drop(means.columns[[0,1,2,3,4,7,8,10,11,13]],axis=1,inplace=True)\n",
    "        means.reset_index()\n",
    "        means.reset_index(inplace=True)\n",
    "        means.rename(columns={ 'Arithmetic Mean' : n,'AQI' : 'AQI_'+n},inplace=True)\n",
    "    else:\n",
    "        group = f.groupby(['CBSA Name','season'])\n",
    "        toAdd = group.mean()\n",
    "        toAdd = pd.DataFrame(toAdd, columns=['Arithmetic Mean','AQI'])\n",
    "        toAdd.reset_index()\n",
    "        toAdd.reset_index(inplace=True)\n",
    "        toAdd.rename(columns={ 'Arithmetic Mean' : n,'AQI' : 'AQI_'+n},inplace=True)\n",
    "        means = pd.merge(means,toAdd.reset_index(),on=['CBSA Name','season'],how='outer').reset_index()\n",
    "        means.drop(['level_0','index'],axis=1,inplace=True)\n",
    "    count += 1\n",
    "means.drop(['month'],axis=1,inplace=True)"
   ]
  },
  {
   "cell_type": "code",
   "execution_count": 41,
   "metadata": {
    "collapsed": false
   },
   "outputs": [],
   "source": [
    "means['id']=means['CBSA Name'].map(idmapper2.get)"
   ]
  },
  {
   "cell_type": "code",
   "execution_count": 42,
   "metadata": {
    "collapsed": false
   },
   "outputs": [],
   "source": [
    "SeasonDat = means[means['id'].isin(myFrame['id'])]"
   ]
  },
  {
   "cell_type": "code",
   "execution_count": 43,
   "metadata": {
    "collapsed": false
   },
   "outputs": [
    {
     "data": {
      "text/plain": [
       "(2105, 29)"
      ]
     },
     "execution_count": 43,
     "metadata": {},
     "output_type": "execute_result"
    }
   ],
   "source": [
    "SeasonDat.shape"
   ]
  },
  {
   "cell_type": "code",
   "execution_count": 44,
   "metadata": {
    "collapsed": false
   },
   "outputs": [
    {
     "name": "stdout",
     "output_type": "stream",
     "text": [
      "# of Cities with Winter Data: 516\n",
      "# of Cities with Summer Data: 529\n",
      "# of Cities with Spring Data: 531\n",
      "# of Cities with Fall Data: 529\n"
     ]
    }
   ],
   "source": [
    "print \"# of Cities with Winter Data: \"+str(SeasonDat[SeasonDat['season']=='Winter'].shape[0])\n",
    "print \"# of Cities with Summer Data: \"+str(SeasonDat[SeasonDat['season']=='Summer'].shape[0])\n",
    "print \"# of Cities with Spring Data: \"+str(SeasonDat[SeasonDat['season']=='Spring'].shape[0])\n",
    "print \"# of Cities with Fall Data: \"+str(SeasonDat[SeasonDat['season']=='Fall'].shape[0])"
   ]
  },
  {
   "cell_type": "code",
   "execution_count": 45,
   "metadata": {
    "collapsed": false
   },
   "outputs": [
    {
     "data": {
      "text/plain": [
       "(6239, 29)"
      ]
     },
     "execution_count": 45,
     "metadata": {},
     "output_type": "execute_result"
    }
   ],
   "source": [
    "#DOING MONTHLY AVERAGING SECOND\n",
    "fileList = [pm25_frmfem,pm25_nofrmfem,pm10,temp,press,rh,dp,wind,co,no2,ozone,so2]\n",
    "fileName = ['PM25_FRMFEM','PM25_NOFRMFEM','PM10','TEMP','PRESS','RH','DP','WIND','CO','NO2','OZONE','SO2']\n",
    "count = 0\n",
    "for f,n in zip(fileList,fileName):\n",
    "    if count == 0:\n",
    "        group = f.groupby(['CBSA Name','month'])\n",
    "        means = group.mean()\n",
    "        means.drop(means.columns[[0,1,2,3,4,7,8,10,11,13]],axis=1,inplace=True)\n",
    "        means.reset_index()\n",
    "        means.reset_index(inplace=True)\n",
    "        means.rename(columns={ 'Arithmetic Mean' : n,'AQI' : 'AQI_'+n},inplace=True)\n",
    "    else:\n",
    "        group = f.groupby(['CBSA Name','month'])\n",
    "        toAdd = group.mean()\n",
    "        toAdd = pd.DataFrame(toAdd, columns=['Arithmetic Mean','AQI'])\n",
    "        toAdd.reset_index()\n",
    "        toAdd.reset_index(inplace=True)\n",
    "        toAdd.rename(columns={ 'Arithmetic Mean' : n,'AQI' : 'AQI_'+n},inplace=True)\n",
    "        means = pd.merge(means,toAdd.reset_index(),on=['CBSA Name','month'],how='outer').reset_index()\n",
    "        means.drop(['level_0','index'],axis=1,inplace=True)\n",
    "    count += 1\n",
    "means['id']=means['CBSA Name'].map(idmapper2.get)\n",
    "MonthDat = means[means['id'].isin(myFrame['id'])]\n",
    "MonthDat.shape"
   ]
  },
  {
   "cell_type": "code",
   "execution_count": 46,
   "metadata": {
    "collapsed": false
   },
   "outputs": [
    {
     "name": "stdout",
     "output_type": "stream",
     "text": [
      "# of Cities with January Data: 505\n",
      "# of Cities with February Data: 508\n",
      "# of Cities with March Data: 526\n",
      "# of Cities with April Data: 529\n",
      "# of Cities with May Data: 529\n",
      "# of Cities with June Data: 529\n",
      "# of Cities with July Data: 529\n",
      "# of Cities with August Data: 529\n",
      "# of Cities with September Data: 529\n",
      "# of Cities with October Data: 523\n",
      "# of Cities with November Data: 502\n",
      "# of Cities with December Data: 501\n"
     ]
    }
   ],
   "source": [
    "print \"# of Cities with January Data: \"+str(MonthDat[MonthDat['month']==1].shape[0])\n",
    "print \"# of Cities with February Data: \"+str(MonthDat[MonthDat['month']==2].shape[0])\n",
    "print \"# of Cities with March Data: \"+str(MonthDat[MonthDat['month']==3].shape[0])\n",
    "print \"# of Cities with April Data: \"+str(MonthDat[MonthDat['month']==4].shape[0])\n",
    "print \"# of Cities with May Data: \"+str(MonthDat[MonthDat['month']==5].shape[0])\n",
    "print \"# of Cities with June Data: \"+str(MonthDat[MonthDat['month']==6].shape[0])\n",
    "print \"# of Cities with July Data: \"+str(MonthDat[MonthDat['month']==7].shape[0])\n",
    "print \"# of Cities with August Data: \"+str(MonthDat[MonthDat['month']==8].shape[0])\n",
    "print \"# of Cities with September Data: \"+str(MonthDat[MonthDat['month']==9].shape[0])\n",
    "print \"# of Cities with October Data: \"+str(MonthDat[MonthDat['month']==10].shape[0])\n",
    "print \"# of Cities with November Data: \"+str(MonthDat[MonthDat['month']==11].shape[0])\n",
    "print \"# of Cities with December Data: \"+str(MonthDat[MonthDat['month']==12].shape[0])"
   ]
  },
  {
   "cell_type": "code",
   "execution_count": 47,
   "metadata": {
    "collapsed": false
   },
   "outputs": [
    {
     "data": {
      "text/plain": [
       "(533, 28)"
      ]
     },
     "execution_count": 47,
     "metadata": {},
     "output_type": "execute_result"
    }
   ],
   "source": [
    "#DOING YEARLY AVERAGING THIRD\n",
    "fileList = [pm25_frmfem,pm25_nofrmfem,pm10,temp,press,rh,dp,wind,co,no2,ozone,so2]\n",
    "fileName = ['PM25_FRMFEM','PM25_NOFRMFEM','PM10','TEMP','PRESS','RH','DP','WIND','CO','NO2','OZONE','SO2']\n",
    "count = 0\n",
    "for f,n in zip(fileList,fileName):\n",
    "    if count == 0:\n",
    "        group = f.groupby(['CBSA Name'])\n",
    "        means = group.mean()\n",
    "        means.drop(means.columns[[0,1,2,3,4,7,8,10,11,13,14]],axis=1,inplace=True)\n",
    "        means.reset_index()\n",
    "        means.reset_index(inplace=True)\n",
    "        means.rename(columns={ 'Arithmetic Mean' : n,'AQI' : 'AQI_'+n},inplace=True)\n",
    "    else:\n",
    "        group = f.groupby(['CBSA Name'])\n",
    "        toAdd = group.mean()\n",
    "        toAdd = pd.DataFrame(toAdd, columns=['Arithmetic Mean','AQI'])\n",
    "        toAdd.reset_index()\n",
    "        toAdd.reset_index(inplace=True)\n",
    "        toAdd.rename(columns={ 'Arithmetic Mean' : n,'AQI' : 'AQI_'+n},inplace=True)\n",
    "        means = pd.merge(means,toAdd.reset_index(),on=['CBSA Name'],how='outer').reset_index()\n",
    "        means.drop(['level_0','index'],axis=1,inplace=True)\n",
    "    count += 1\n",
    "means['id']=means['CBSA Name'].map(idmapper2.get)\n",
    "YearDat = means[means['id'].isin(myFrame['id'])]\n",
    "YearDat.shape"
   ]
  },
  {
   "cell_type": "code",
   "execution_count": 48,
   "metadata": {
    "collapsed": false
   },
   "outputs": [],
   "source": [
    "#Merge in demographic info\n",
    "SeasonDat = SeasonDat.merge(DemoFrame[['id','MetArea','pop2010','landarea','popdense2010','pop_weight2010']],on='id',how='left')\n",
    "MonthDat = MonthDat.merge(DemoFrame[['id','MetArea','pop2010','landarea','popdense2010','pop_weight2010']],on='id',how='left')\n",
    "YearDat = YearDat.merge(DemoFrame[['id','MetArea','pop2010','landarea','popdense2010','pop_weight2010']],on='id',how='left')"
   ]
  },
  {
   "cell_type": "code",
   "execution_count": 49,
   "metadata": {
    "collapsed": false
   },
   "outputs": [
    {
     "data": {
      "text/html": [
       "<div>\n",
       "<table border=\"1\" class=\"dataframe\">\n",
       "  <thead>\n",
       "    <tr style=\"text-align: right;\">\n",
       "      <th></th>\n",
       "      <th>alone</th>\n",
       "      <th>alone_frac</th>\n",
       "      <th>carpool</th>\n",
       "      <th>carpool_frac</th>\n",
       "      <th>other</th>\n",
       "      <th>other_frac</th>\n",
       "      <th>pt</th>\n",
       "      <th>pt_frac</th>\n",
       "      <th>total_trans</th>\n",
       "      <th>id</th>\n",
       "    </tr>\n",
       "  </thead>\n",
       "  <tbody>\n",
       "    <tr>\n",
       "      <th>10180</th>\n",
       "      <td>57771</td>\n",
       "      <td>0.804162</td>\n",
       "      <td>8489</td>\n",
       "      <td>0.118165</td>\n",
       "      <td>5130</td>\n",
       "      <td>0.071409</td>\n",
       "      <td>450</td>\n",
       "      <td>0.006264</td>\n",
       "      <td>71840</td>\n",
       "      <td>10180</td>\n",
       "    </tr>\n",
       "    <tr>\n",
       "      <th>10260</th>\n",
       "      <td>1988</td>\n",
       "      <td>0.759648</td>\n",
       "      <td>263</td>\n",
       "      <td>0.100497</td>\n",
       "      <td>359</td>\n",
       "      <td>0.137180</td>\n",
       "      <td>7</td>\n",
       "      <td>0.002675</td>\n",
       "      <td>2617</td>\n",
       "      <td>10260</td>\n",
       "    </tr>\n",
       "    <tr>\n",
       "      <th>10380</th>\n",
       "      <td>56397</td>\n",
       "      <td>0.835486</td>\n",
       "      <td>5157</td>\n",
       "      <td>0.076398</td>\n",
       "      <td>5625</td>\n",
       "      <td>0.083331</td>\n",
       "      <td>323</td>\n",
       "      <td>0.004785</td>\n",
       "      <td>67502</td>\n",
       "      <td>10380</td>\n",
       "    </tr>\n",
       "    <tr>\n",
       "      <th>10420</th>\n",
       "      <td>279452</td>\n",
       "      <td>0.862533</td>\n",
       "      <td>21925</td>\n",
       "      <td>0.067672</td>\n",
       "      <td>18393</td>\n",
       "      <td>0.056770</td>\n",
       "      <td>4220</td>\n",
       "      <td>0.013025</td>\n",
       "      <td>323990</td>\n",
       "      <td>10420</td>\n",
       "    </tr>\n",
       "    <tr>\n",
       "      <th>10500</th>\n",
       "      <td>46696</td>\n",
       "      <td>0.794907</td>\n",
       "      <td>7895</td>\n",
       "      <td>0.134397</td>\n",
       "      <td>3525</td>\n",
       "      <td>0.060006</td>\n",
       "      <td>628</td>\n",
       "      <td>0.010690</td>\n",
       "      <td>58744</td>\n",
       "      <td>10500</td>\n",
       "    </tr>\n",
       "  </tbody>\n",
       "</table>\n",
       "</div>"
      ],
      "text/plain": [
       "        alone  alone_frac  carpool  carpool_frac  other  other_frac    pt   pt_frac  total_trans     id\n",
       "10180  57771   0.804162    8489     0.118165      5130   0.071409    450   0.006264  71840        10180\n",
       "10260  1988    0.759648    263      0.100497      359    0.137180    7     0.002675  2617         10260\n",
       "10380  56397   0.835486    5157     0.076398      5625   0.083331    323   0.004785  67502        10380\n",
       "10420  279452  0.862533    21925    0.067672      18393  0.056770    4220  0.013025  323990       10420\n",
       "10500  46696   0.794907    7895     0.134397      3525   0.060006    628   0.010690  58744        10500"
      ]
     },
     "execution_count": 49,
     "metadata": {},
     "output_type": "execute_result"
    }
   ],
   "source": [
    "trafDatCompiled.head()"
   ]
  },
  {
   "cell_type": "markdown",
   "metadata": {},
   "source": [
    "Now we have the weather and air quality data together in an individual file each. We next just need to merge in the demographic and traffic data and we'll be good to go!"
   ]
  },
  {
   "cell_type": "code",
   "execution_count": 51,
   "metadata": {
    "collapsed": false
   },
   "outputs": [],
   "source": [
    "#Covert ids to int for easier merging with traffic data\n",
    "SeasonDat['id']=SeasonDat['id'].astype(int)\n",
    "YearDat['id']=YearDat['id'].astype(int)\n",
    "MonthDat['id']=MonthDat['id'].astype(int)"
   ]
  },
  {
   "cell_type": "code",
   "execution_count": 52,
   "metadata": {
    "collapsed": false
   },
   "outputs": [],
   "source": [
    "#Merge in traffic data\n",
    "SeasonDat = SeasonDat.merge(trafDatCompiled,on='id',how='left')\n",
    "MonthDat = MonthDat.merge(trafDatCompiled,on='id',how='left')\n",
    "YearDat = YearDat.merge(trafDatCompiled,on='id',how='left')"
   ]
  },
  {
   "cell_type": "code",
   "execution_count": 53,
   "metadata": {
    "collapsed": false
   },
   "outputs": [],
   "source": [
    "#Remove a few nonsensical columns that are all NAs\n",
    "MonthDat.drop(['AQI_TEMP','AQI_PRESS','AQI_RH','AQI_DP','AQI_WIND'],axis=1,inplace=True)\n",
    "SeasonDat.drop(['AQI_TEMP','AQI_PRESS','AQI_RH','AQI_DP','AQI_WIND'],axis=1,inplace=True)\n",
    "YearDat.drop(['AQI_TEMP','AQI_PRESS','AQI_RH','AQI_DP','AQI_WIND'],axis=1,inplace=True)"
   ]
  },
  {
   "cell_type": "code",
   "execution_count": 54,
   "metadata": {
    "collapsed": false
   },
   "outputs": [],
   "source": [
    "#Save the cleaned dataframe to file\n",
    "MonthDat.to_csv(\"MonthDat.csv\",index=False,na_rep='NA')\n",
    "YearDat.to_csv(\"YearDat.csv\",index=False,na_rep='NA')\n",
    "SeasonDat.to_csv(\"SeasonDat.csv\",index=False,na_rep='NA')"
   ]
  },
  {
   "cell_type": "markdown",
   "metadata": {},
   "source": [
    "All these datasets have a straightforward labeling convention. The scheme is laid out below."
   ]
  },
  {
   "cell_type": "code",
   "execution_count": 55,
   "metadata": {
    "collapsed": false
   },
   "outputs": [
    {
     "name": "stdout",
     "output_type": "stream",
     "text": [
      "Codebook for datasets:\n"
     ]
    },
    {
     "data": {
      "text/html": [
       "<div>\n",
       "<table border=\"1\" class=\"dataframe\">\n",
       "  <thead>\n",
       "    <tr style=\"text-align: right;\">\n",
       "      <th></th>\n",
       "      <th>Variable Name</th>\n",
       "      <th>Definition</th>\n",
       "    </tr>\n",
       "  </thead>\n",
       "  <tbody>\n",
       "    <tr>\n",
       "      <th>0</th>\n",
       "      <td>AQI_CO</td>\n",
       "      <td>Average Air Quality Index of CO over time period</td>\n",
       "    </tr>\n",
       "    <tr>\n",
       "      <th>1</th>\n",
       "      <td>AQI_NO2</td>\n",
       "      <td>Average Air Quality Index of NO2 over time period (ppb)</td>\n",
       "    </tr>\n",
       "    <tr>\n",
       "      <th>2</th>\n",
       "      <td>AQI_OZONE</td>\n",
       "      <td>Average Air Quality Index of Ozone over time period</td>\n",
       "    </tr>\n",
       "    <tr>\n",
       "      <th>3</th>\n",
       "      <td>AQI_PM25_FRMFEM</td>\n",
       "      <td>Average Air Quality Index of Particulate Matter up to 2.5 micrometers in given time period</td>\n",
       "    </tr>\n",
       "    <tr>\n",
       "      <th>4</th>\n",
       "      <td>AQI_PM25_NOFRMFEM</td>\n",
       "      <td>Average Air Quality Index of Particulate Matter of up to 2.5 micrometers NOT based on Federal Reference Method or Federal Equivalent Method</td>\n",
       "    </tr>\n",
       "    <tr>\n",
       "      <th>5</th>\n",
       "      <td>AQI_SO2</td>\n",
       "      <td>Average AQI of SO2 over time period</td>\n",
       "    </tr>\n",
       "    <tr>\n",
       "      <th>6</th>\n",
       "      <td>AQ_PM10</td>\n",
       "      <td>Average Air Quality Index of Particulate Matter of up to 10 micrometers in given time period</td>\n",
       "    </tr>\n",
       "    <tr>\n",
       "      <th>7</th>\n",
       "      <td>CBSA Name</td>\n",
       "      <td>Core-Based Statistical Area Name</td>\n",
       "    </tr>\n",
       "    <tr>\n",
       "      <th>8</th>\n",
       "      <td>CO</td>\n",
       "      <td>Average CO levels over time period (ppm)</td>\n",
       "    </tr>\n",
       "    <tr>\n",
       "      <th>9</th>\n",
       "      <td>DP</td>\n",
       "      <td>Dewpoint over time period (F)</td>\n",
       "    </tr>\n",
       "    <tr>\n",
       "      <th>10</th>\n",
       "      <td>Latitude</td>\n",
       "      <td>The average latitude of all sites in the CBSA for the given time period</td>\n",
       "    </tr>\n",
       "    <tr>\n",
       "      <th>11</th>\n",
       "      <td>Longitude</td>\n",
       "      <td>The average longitude of all sites in the CBSA for a given time period</td>\n",
       "    </tr>\n",
       "    <tr>\n",
       "      <th>12</th>\n",
       "      <td>MetArea</td>\n",
       "      <td>An indicator of whether the site is a Metropolitan or Micropolitan Area</td>\n",
       "    </tr>\n",
       "    <tr>\n",
       "      <th>13</th>\n",
       "      <td>Month/Season</td>\n",
       "      <td>This respective variable will be in the Month or Season dataset indicating the month or year the data is from</td>\n",
       "    </tr>\n",
       "    <tr>\n",
       "      <th>14</th>\n",
       "      <td>NO2</td>\n",
       "      <td>Average NO2 levels over time period (ppb)</td>\n",
       "    </tr>\n",
       "    <tr>\n",
       "      <th>15</th>\n",
       "      <td>OZONE</td>\n",
       "      <td>Average ozone levels (O3) over time period (ppm)</td>\n",
       "    </tr>\n",
       "    <tr>\n",
       "      <th>16</th>\n",
       "      <td>PM10</td>\n",
       "      <td>Average Particulate Matter up to 10 micrometers in given time period (Microgram/cubic meter (25 C))</td>\n",
       "    </tr>\n",
       "    <tr>\n",
       "      <th>17</th>\n",
       "      <td>PM25_FRMFEM</td>\n",
       "      <td>Average level of particulate matter up to 2.5 micrometers based on Federal Reference Method or Federal Equivalent Method in given time period (Micrograms/cubic meter (LC))</td>\n",
       "    </tr>\n",
       "    <tr>\n",
       "      <th>18</th>\n",
       "      <td>PM25_NOFRMFEM</td>\n",
       "      <td>Average level of particulate matter up to 2.5 micrometers NOT based on Federal Reference Method or Federal Equivalent Method in given time period (Micrograms/cubic meter (LC))</td>\n",
       "    </tr>\n",
       "    <tr>\n",
       "      <th>19</th>\n",
       "      <td>PRESS</td>\n",
       "      <td>Average Air Pressure over time period (Millibars)</td>\n",
       "    </tr>\n",
       "    <tr>\n",
       "      <th>20</th>\n",
       "      <td>RH</td>\n",
       "      <td>Average Relative Humidity over time period (percent  relative humidity)</td>\n",
       "    </tr>\n",
       "    <tr>\n",
       "      <th>21</th>\n",
       "      <td>SO2</td>\n",
       "      <td>Average SO2 levels over time period (ppb)</td>\n",
       "    </tr>\n",
       "    <tr>\n",
       "      <th>22</th>\n",
       "      <td>TEMP</td>\n",
       "      <td>Average Temperature over time period (F)</td>\n",
       "    </tr>\n",
       "    <tr>\n",
       "      <th>23</th>\n",
       "      <td>WIND</td>\n",
       "      <td>Average wind speed (Knots)</td>\n",
       "    </tr>\n",
       "    <tr>\n",
       "      <th>24</th>\n",
       "      <td>alone</td>\n",
       "      <td>Number of individuals commuting into this region alone daily - 2010</td>\n",
       "    </tr>\n",
       "    <tr>\n",
       "      <th>25</th>\n",
       "      <td>alone_frac</td>\n",
       "      <td>Fraction of individuals commuting into this region alone daily - 2010</td>\n",
       "    </tr>\n",
       "    <tr>\n",
       "      <th>26</th>\n",
       "      <td>carpool</td>\n",
       "      <td>Number of individuals commuting into this region in carpool daily - 2010</td>\n",
       "    </tr>\n",
       "    <tr>\n",
       "      <th>27</th>\n",
       "      <td>carpool_frac</td>\n",
       "      <td>Fraction of individuals commuting into this region in carpool daily - 2010</td>\n",
       "    </tr>\n",
       "    <tr>\n",
       "      <th>28</th>\n",
       "      <td>id</td>\n",
       "      <td>Numerical ID of Core-Based Statistical Area</td>\n",
       "    </tr>\n",
       "    <tr>\n",
       "      <th>29</th>\n",
       "      <td>landarea</td>\n",
       "      <td>The size of the CBSA (square miles)</td>\n",
       "    </tr>\n",
       "    <tr>\n",
       "      <th>30</th>\n",
       "      <td>other</td>\n",
       "      <td>Number of individuals commuting into this region by bike, walk, or other daily - 2010</td>\n",
       "    </tr>\n",
       "    <tr>\n",
       "      <th>31</th>\n",
       "      <td>other_frac</td>\n",
       "      <td>Fraction of individuals commuting into this region via bike, walk, or other daily - 2010</td>\n",
       "    </tr>\n",
       "    <tr>\n",
       "      <th>32</th>\n",
       "      <td>pop2010</td>\n",
       "      <td>The population size of the CBA in 2010</td>\n",
       "    </tr>\n",
       "    <tr>\n",
       "      <th>33</th>\n",
       "      <td>pop_weight2010</td>\n",
       "      <td>Population weighted density in 2010 of CBSA</td>\n",
       "    </tr>\n",
       "    <tr>\n",
       "      <th>34</th>\n",
       "      <td>popdense2010</td>\n",
       "      <td>The population density of CBSA in 2010</td>\n",
       "    </tr>\n",
       "    <tr>\n",
       "      <th>35</th>\n",
       "      <td>pt</td>\n",
       "      <td>Number of individuals commuting into this region via public transit daily - 2010</td>\n",
       "    </tr>\n",
       "    <tr>\n",
       "      <th>36</th>\n",
       "      <td>pt_frac</td>\n",
       "      <td>Fraction of individuals commuting into this region via public transit daily - 2010</td>\n",
       "    </tr>\n",
       "    <tr>\n",
       "      <th>37</th>\n",
       "      <td>total</td>\n",
       "      <td>Total number of individuals commuting in the region daily - 2010</td>\n",
       "    </tr>\n",
       "  </tbody>\n",
       "</table>\n",
       "</div>"
      ],
      "text/plain": [
       "        Variable Name                                                                                                                                                                       Definition\n",
       "0   AQI_CO             Average Air Quality Index of CO over time period                                                                                                                               \n",
       "1   AQI_NO2            Average Air Quality Index of NO2 over time period (ppb)                                                                                                                        \n",
       "2   AQI_OZONE          Average Air Quality Index of Ozone over time period                                                                                                                            \n",
       "3   AQI_PM25_FRMFEM    Average Air Quality Index of Particulate Matter up to 2.5 micrometers in given time period                                                                                     \n",
       "4   AQI_PM25_NOFRMFEM  Average Air Quality Index of Particulate Matter of up to 2.5 micrometers NOT based on Federal Reference Method or Federal Equivalent Method                                    \n",
       "5   AQI_SO2            Average AQI of SO2 over time period                                                                                                                                            \n",
       "6   AQ_PM10            Average Air Quality Index of Particulate Matter of up to 10 micrometers in given time period                                                                                   \n",
       "7   CBSA Name          Core-Based Statistical Area Name                                                                                                                                               \n",
       "8   CO                 Average CO levels over time period (ppm)                                                                                                                                       \n",
       "9   DP                 Dewpoint over time period (F)                                                                                                                                                  \n",
       "10  Latitude           The average latitude of all sites in the CBSA for the given time period                                                                                                        \n",
       "11  Longitude          The average longitude of all sites in the CBSA for a given time period                                                                                                         \n",
       "12  MetArea            An indicator of whether the site is a Metropolitan or Micropolitan Area                                                                                                        \n",
       "13  Month/Season       This respective variable will be in the Month or Season dataset indicating the month or year the data is from                                                                  \n",
       "14  NO2                Average NO2 levels over time period (ppb)                                                                                                                                      \n",
       "15  OZONE              Average ozone levels (O3) over time period (ppm)                                                                                                                               \n",
       "16  PM10               Average Particulate Matter up to 10 micrometers in given time period (Microgram/cubic meter (25 C))                                                                            \n",
       "17  PM25_FRMFEM        Average level of particulate matter up to 2.5 micrometers based on Federal Reference Method or Federal Equivalent Method in given time period (Micrograms/cubic meter (LC))    \n",
       "18  PM25_NOFRMFEM      Average level of particulate matter up to 2.5 micrometers NOT based on Federal Reference Method or Federal Equivalent Method in given time period (Micrograms/cubic meter (LC))\n",
       "19  PRESS              Average Air Pressure over time period (Millibars)                                                                                                                              \n",
       "20  RH                 Average Relative Humidity over time period (percent  relative humidity)                                                                                                        \n",
       "21  SO2                Average SO2 levels over time period (ppb)                                                                                                                                      \n",
       "22  TEMP               Average Temperature over time period (F)                                                                                                                                       \n",
       "23  WIND               Average wind speed (Knots)                                                                                                                                                     \n",
       "24  alone              Number of individuals commuting into this region alone daily - 2010                                                                                                            \n",
       "25  alone_frac         Fraction of individuals commuting into this region alone daily - 2010                                                                                                          \n",
       "26  carpool            Number of individuals commuting into this region in carpool daily - 2010                                                                                                       \n",
       "27  carpool_frac       Fraction of individuals commuting into this region in carpool daily - 2010                                                                                                     \n",
       "28  id                 Numerical ID of Core-Based Statistical Area                                                                                                                                    \n",
       "29  landarea           The size of the CBSA (square miles)                                                                                                                                            \n",
       "30  other              Number of individuals commuting into this region by bike, walk, or other daily - 2010                                                                                          \n",
       "31  other_frac         Fraction of individuals commuting into this region via bike, walk, or other daily - 2010                                                                                       \n",
       "32  pop2010            The population size of the CBA in 2010                                                                                                                                         \n",
       "33  pop_weight2010     Population weighted density in 2010 of CBSA                                                                                                                                    \n",
       "34  popdense2010       The population density of CBSA in 2010                                                                                                                                         \n",
       "35  pt                 Number of individuals commuting into this region via public transit daily - 2010                                                                                               \n",
       "36  pt_frac            Fraction of individuals commuting into this region via public transit daily - 2010                                                                                             \n",
       "37  total              Total number of individuals commuting in the region daily - 2010                                                                                                               "
      ]
     },
     "execution_count": 55,
     "metadata": {},
     "output_type": "execute_result"
    }
   ],
   "source": [
    "import collections\n",
    "varlab={'CBSA Name':'Core-Based Statistical Area Name','Month/Season':'This respective variable will be in the Month or Season dataset indicating the month or year the data is from',\n",
    "                'Latitude':'The average latitude of all sites in the CBSA for the given time period','Longitude':'The average longitude of all sites in the CBSA for a given time period',\n",
    "                'PM25_FRMFEM':'Average level of particulate matter up to 2.5 micrometers based on Federal Reference Method or Federal Equivalent Method in given time period (Micrograms/cubic meter (LC))',\n",
    "                'AQI_PM25_FRMFEM':'Average Air Quality Index of Particulate Matter up to 2.5 micrometers in given time period',\n",
    "                'PM25_NOFRMFEM':'Average level of particulate matter up to 2.5 micrometers NOT based on Federal Reference Method or Federal Equivalent Method in given time period (Micrograms/cubic meter (LC))',\n",
    "                'AQI_PM25_NOFRMFEM':'Average Air Quality Index of Particulate Matter of up to 2.5 micrometers NOT based on Federal Reference Method or Federal Equivalent Method',\n",
    "                'PM10':'Average Particulate Matter up to 10 micrometers in given time period (Microgram/cubic meter (25 C))',\n",
    "                'AQ_PM10':'Average Air Quality Index of Particulate Matter of up to 10 micrometers in given time period',\n",
    "                'TEMP':'Average Temperature over time period (F)','PRESS':'Average Air Pressure over time period (Millibars)',\n",
    "                'RH':'Average Relative Humidity over time period (percent  relative humidity)','DP':'Dewpoint over time period (F)',\n",
    "                'WIND':'Average wind speed (Knots)','CO':'Average CO levels over time period (ppm)','AQI_CO':\"Average Air Quality Index of CO over time period\",\n",
    "                'NO2':'Average NO2 levels over time period (ppb)','AQI_NO2':'Average Air Quality Index of NO2 over time period (ppb)',\n",
    "                'OZONE':'Average ozone levels (O3) over time period (ppm)','AQI_OZONE':'Average Air Quality Index of Ozone over time period',\n",
    "                'SO2':\"Average SO2 levels over time period (ppb)\",'AQI_SO2':'Average AQI of SO2 over time period',\n",
    "                'id':'Numerical ID of Core-Based Statistical Area','MetArea':'An indicator of whether the site is a Metropolitan or Micropolitan Area',\n",
    "                'pop2010':'The population size of the CBA in 2010','landarea':'The size of the CBSA (square miles)',\n",
    "                'popdense2010':'The population density of CBSA in 2010','pop_weight2010':'Population weighted density in 2010 of CBSA',\n",
    "       'alone':'Number of individuals commuting into this region alone daily - 2010','alone_frac':'Fraction of individuals commuting into this region alone daily - 2010',\n",
    "       'carpool':'Number of individuals commuting into this region in carpool daily - 2010','carpool_frac':'Fraction of individuals commuting into this region in carpool daily - 2010',\n",
    "       'other':'Number of individuals commuting into this region by bike, walk, or other daily - 2010','other_frac':'Fraction of individuals commuting into this region via bike, walk, or other daily - 2010',\n",
    "       'pt':'Number of individuals commuting into this region via public transit daily - 2010','pt_frac':'Fraction of individuals commuting into this region via public transit daily - 2010',\n",
    "       'total':'Total number of individuals commuting in the region daily - 2010'}\n",
    "a = collections.OrderedDict(sorted(varlab.items()))\n",
    "out = pd.DataFrame(a.items(),columns=['Variable Name','Definition'])\n",
    "print \"Codebook for datasets:\"\n",
    "out"
   ]
  },
  {
   "cell_type": "markdown",
   "metadata": {},
   "source": [
    "###Germany Data"
   ]
  },
  {
   "cell_type": "markdown",
   "metadata": {},
   "source": [
    "For validation, we'd like to work with German city data. These cities are likely fairly comparable to lots of the US climatically and is an equally developed country. There are other choices we could have made but it seems like a decent country to make a comparison to."
   ]
  },
  {
   "cell_type": "markdown",
   "metadata": {},
   "source": [
    "####Collecting Air Quality Data"
   ]
  },
  {
   "cell_type": "markdown",
   "metadata": {},
   "source": [
    "Now that we have our main data source of US air quality, weather, demographic, and transit data, we similarly want to create files for German cities to validate our analysis on. We cannot get this information from the EPA or US Census Data so we need to spend some time collecting this from various sources. The next several steps will involve collecting and cleaning this data. We will start with just pooling the yearly data as this is in a easier to access format. Not all the formats and years are 100% comparable with the US data, but it seems pretty close in most measures."
   ]
  },
  {
   "cell_type": "code",
   "execution_count": 66,
   "metadata": {
    "collapsed": false
   },
   "outputs": [],
   "source": [
    "#Read in the German air quality summary file\n",
    "#This is a large file that needs a fair amount of cleaning\n",
    "#It has all the same pollutants we looked at with the US\n",
    "GermanAir = pd.read_csv('tempdata/AirBase_DE_v8_statistics.csv',sep='\\t')"
   ]
  },
  {
   "cell_type": "code",
   "execution_count": 67,
   "metadata": {
    "collapsed": false
   },
   "outputs": [],
   "source": [
    "#Read in German Air Measurement Station Data\n",
    "#This includes info about each site\n",
    "stationInfo = pd.read_csv('tempdata/AirBase_DE_v8_stations.csv',sep='\\t')"
   ]
  },
  {
   "cell_type": "code",
   "execution_count": 68,
   "metadata": {
    "collapsed": false
   },
   "outputs": [],
   "source": [
    "#Make a map of German Station City to\n",
    "#German Station code\n",
    "mapCityID = {}\n",
    "for i,j in zip(stationInfo['station_european_code'],stationInfo['station_city']):\n",
    "    mapCityID[i] = j\n",
    "#Also make a reverse map as we will need that as well\n",
    "revmapCityID = {v: k for k, v in mapCityID.items()}"
   ]
  },
  {
   "cell_type": "code",
   "execution_count": 69,
   "metadata": {
    "collapsed": false
   },
   "outputs": [],
   "source": [
    "#Filter to yearly measurements from 2010 first\n",
    "GermanAir = GermanAir[GermanAir['statistics_year']==2012]"
   ]
  },
  {
   "cell_type": "code",
   "execution_count": 56,
   "metadata": {
    "collapsed": false
   },
   "outputs": [
    {
     "name": "stdout",
     "output_type": "stream",
     "text": [
      "Number of cities in both transit and air quality data: 81\n"
     ]
    }
   ],
   "source": [
    "#Manually created a mapping of the different cities\n",
    "#that have both traffic and air quality data\n",
    "#This was done by looking at the city names and seeing\n",
    "#which appear in both. In total there were 81 cities which\n",
    "#seems like a decent size validation set\n",
    "traffic_air_map_germany = {'AACHEN':'Aachen','AUGSBURG':'Augsburg','BAMBERG':'Bamberg','BERLIN':'Berlin','BERNAU':'Bernau bei Berlin','BIELEFELD':'Bielefeld','BOCHUM':'Bochum','BONN':'Bonn','BRAUNSCHWEIG':'Braunschweig','BREMEN':'Bremen','CASTROP-RAUXEL':'Castrop-Rauxel','CHEMNITZ':'Chemnitz','COTTBUS':'Cottbus','DARMSTADT':'Darmstadt','DESSAU':'Dessau','DORTMUND':'Dortmund','DRESDEN':'Dresden','DUISBURG':'Duisburg','DÜSSELDORF':'Düsseldorf','EMDEN':'Emden','ERFURT':'Erfurt','ERLANGEN':'Erlangen','ESSEN':'Essen','FRANKFURT':'Frankfurt','FRANKFURT A. MAIN':'Frankfurt am Main','FREIBURG':'Freiburg','FREITAL':'Freital/Tharandt','FÜRTH/ODENWALD':'Fürth','GERA':'Gera','GOETTINGEN':'Göttingen','GROßENHAIN':'Großenhain','HALLE':'Halle','HALLE/SAALE':'Halle (Saale)','HAMBURG':'Hamburg','HANNOVER':'Hannover','HEILBRONN':'Heilbronn','HILDESHEIM':'Hildesheim','JENA':'Jena','KAISERSLAUTERN':'Kaiserslautern','KARLSRUHE':'Karlsruhe','KASSEL':'Kassel','KOBLENZ':'Koblenz','KÖLN':'Koln','KONSTANZ':'Konstanz','KREFELD':'Krefeld','LEIPZIG':'Leipzig','LÜBECK':'Lübeck','LUDWIGSBURG':'Ludwigsburg','MAGDEBURG':'Magdeburg','MAINZ':'Mainz','MANNHEIM':'Mannheim','MEIßEN':'Meißen','MÖNCHENGLADBACH':'Moenchengladbach','MÜNSTER':'Münster','NEUSS':'Neuss','NÜRNBERG':'Nürnberg','OBERHAUSEN':'Oberhausen','ORANIENBURG':'Oranienburg','OSNABRÜCK':'Osnabrück','PASSAU':'Passau','PFORZHEIM':'Pforzheim','PIRNA':'Pirna','POTSDAM':'Potsdam','RADEBEUL':'Coswig/Radebeul','RATINGEN':'Ratingen','REUTLINGEN':'Reutlingen','RIESA':'Riesa','ROSTOCK':'Rostock','SAARBRÜCKEN':'Saarbrücken','SCHWEINFURT':'Schweinfurt','SCHWERIN':'Schwerin','SOLINGEN':'Solingen','SPREMBERG':'Spremberg','STUTTGART':'Stuttgart','TRIER':'Trier','ULM':'Ulm','VILLINGEN-SCHWENNINGEN':'Villingen Schwenningen','WIESBADEN':'Wiesbaden','WITTEN':'Witten','WUPPERTAL':'Wuppertal','ZWICKAU':'Zwickau'}\n",
    "print 'Number of cities in both transit and air quality data: ' + str(len(traffic_air_map_germany))"
   ]
  },
  {
   "cell_type": "code",
   "execution_count": 57,
   "metadata": {
    "collapsed": false
   },
   "outputs": [],
   "source": [
    "#Filter just to the annual data for now\n",
    "#There are aggregated measures for other methods\n",
    "#That are averages of monthly averages or averages\n",
    "#of weekly averages. It seems like the annual mean\n",
    "#is the best place to start\n",
    "GermanAir = GermanAir[(GermanAir['statistics_average_group']=='day') & (GermanAir['statistic_name']=='annual mean')]"
   ]
  },
  {
   "cell_type": "code",
   "execution_count": 58,
   "metadata": {
    "collapsed": false
   },
   "outputs": [],
   "source": [
    "#Get the city of each of the German Stations\n",
    "GermanAir['city']=GermanAir['station_european_code'].map(mapCityID.get)"
   ]
  },
  {
   "cell_type": "code",
   "execution_count": 59,
   "metadata": {
    "collapsed": false
   },
   "outputs": [],
   "source": [
    "#Filter German Stations to just be those with traffic data\n",
    "mask = GermanAir['city'].isin(traffic_air_map_germany.keys())\n",
    "GermanAir = GermanAir[mask]"
   ]
  },
  {
   "cell_type": "code",
   "execution_count": 60,
   "metadata": {
    "collapsed": false
   },
   "outputs": [],
   "source": [
    "#Filter just to compounds of interest (those that overlap US data)\n",
    "listCom = ['Sulphur dioxide (air)','Particulate matter < 10 \\xc2\\xb5m (aerosol)','Ozone (air)',\n",
    "          'Nitrogen dioxide (air)','Particulate matter < 2.5 \\xc2\\xb5m (aerosol)','Carbon monoxide (air)']\n",
    "mask2 = GermanAir['component_name'].isin(listCom)\n",
    "GermanAir = GermanAir[mask2]"
   ]
  },
  {
   "cell_type": "code",
   "execution_count": 61,
   "metadata": {
    "collapsed": false
   },
   "outputs": [],
   "source": [
    "#Convert units to comparable units\n",
    "#Conversions gathered from http://www2.dmu.dk/AtmosphericEnvironment/Expost/database/docs/PPM_conversion.pdf\n",
    "#SO2\n",
    "so2_g = GermanAir[GermanAir['component_name']=='Sulphur dioxide (air)']\n",
    "so2_g.loc[:,'valCor'] = so2_g['statistic_value']/2.62\n",
    "a = so2_g.groupby('city')\n",
    "b = a['valCor'].mean()\n",
    "b = pd.DataFrame(b)\n",
    "b = b.reset_index()\n",
    "b['id_traff']=b['city'].map(traffic_air_map_germany.get)\n",
    "b['id']=b['city'].map(revmapCityID.get)\n",
    "so2_g = b\n",
    "#NO2\n",
    "no2_g = GermanAir[GermanAir['component_name']=='Nitrogen dioxide (air)']\n",
    "no2_g.loc[:,'valCor'] = no2_g['statistic_value']/1.88\n",
    "a = no2_g.groupby('city')\n",
    "b = a['valCor'].mean()\n",
    "b = pd.DataFrame(b)\n",
    "b = b.reset_index()\n",
    "b['id_traff']=b['city'].map(traffic_air_map_germany.get)\n",
    "b['id']=b['city'].map(revmapCityID.get)\n",
    "no2_g = b\n",
    "#CO\n",
    "co_g = GermanAir[GermanAir['component_name']=='Carbon monoxide (air)']\n",
    "co_g.loc[:,'valCor'] = ((co_g['statistic_value']*1000)/1.145)/1000\n",
    "a = co_g.groupby('city')\n",
    "b = a['valCor'].mean()\n",
    "b = pd.DataFrame(b)\n",
    "b = b.reset_index()\n",
    "b['id_traff']=b['city'].map(traffic_air_map_germany.get)\n",
    "b['id']=b['city'].map(revmapCityID.get)\n",
    "co_g = b\n",
    "#OZONE\n",
    "ozone_g = GermanAir[GermanAir['component_name']=='Ozone (air)']\n",
    "ozone_g.loc[:,'valCor'] = ((ozone_g['statistic_value']/2)/1000)\n",
    "a = ozone_g.groupby('city')\n",
    "b = a['valCor'].mean()\n",
    "b = pd.DataFrame(b)\n",
    "b = b.reset_index()\n",
    "b['id_traff']=b['city'].map(traffic_air_map_germany.get)\n",
    "b['id']=b['city'].map(revmapCityID.get)\n",
    "ozone_g = b\n",
    "#PM10\n",
    "pm10_g = GermanAir[GermanAir['component_name']=='Particulate matter < 10 \\xc2\\xb5m (aerosol)']\n",
    "a = pm10_g.groupby('city')\n",
    "b = a['statistic_value'].mean()\n",
    "b = pd.DataFrame(b)\n",
    "b = b.reset_index()\n",
    "b['id_traff']=b['city'].map(traffic_air_map_germany.get)\n",
    "b['id']=b['city'].map(revmapCityID.get)\n",
    "pm10_g = b\n",
    "#PM2.5\n",
    "pm25_g = GermanAir[GermanAir['component_name']=='Particulate matter < 2.5 \\xc2\\xb5m (aerosol)']\n",
    "a = pm25_g.groupby('city')\n",
    "b = a['statistic_value'].mean()\n",
    "b = pd.DataFrame(b)\n",
    "b = b.reset_index()\n",
    "b['id_traff']=b['city'].map(traffic_air_map_germany.get)\n",
    "b['id']=b['city'].map(revmapCityID.get)\n",
    "pm25_g = b"
   ]
  },
  {
   "cell_type": "code",
   "execution_count": 62,
   "metadata": {
    "collapsed": false
   },
   "outputs": [
    {
     "name": "stdout",
     "output_type": "stream",
     "text": [
      "Number of cities that have data for at least one Air Quality Compound: 0\n"
     ]
    }
   ],
   "source": [
    "calcLen = list(so2_g['id'])+list(no2_g['id'])+list(co_g['id'])+list(ozone_g['id'])+list(pm10_g['id'])+list(pm25_g['id'])\n",
    "print 'Number of cities that have data for at least one Air Quality Compound: '+str(len(set(calcLen)))"
   ]
  },
  {
   "cell_type": "code",
   "execution_count": 40,
   "metadata": {
    "collapsed": false
   },
   "outputs": [
    {
     "name": "stdout",
     "output_type": "stream",
     "text": [
      "AACHEN\n",
      "AUGSBURG\n",
      "BERLIN\n",
      "BIELEFELD\n",
      "BREMEN\n",
      "DARMSTADT\n",
      "DORTMUND\n",
      "DUISBURG\n",
      "DÜSSELDORF\n",
      "ERFURT\n",
      "ESSEN\n",
      "FRANKFURT A. MAIN\n",
      "FREIBURG\n",
      "GERA\n",
      "GOETTINGEN\n",
      "HALLE/SAALE\n",
      "HAMBURG\n",
      "KAISERSLAUTERN\n",
      "KARLSRUHE\n",
      "KASSEL\n",
      "KOBLENZ\n",
      "KÖLN\n",
      "LÜBECK\n",
      "MAINZ\n",
      "MANNHEIM\n",
      "MÖNCHENGLADBACH\n",
      "MÜNSTER\n",
      "NÜRNBERG\n",
      "POTSDAM\n",
      "REUTLINGEN\n",
      "SAARBRÜCKEN\n",
      "STUTTGART\n",
      "TRIER\n",
      "ULM\n",
      "WIESBADEN\n",
      "AACHEN\n",
      "AUGSBURG\n",
      "BAMBERG\n",
      "BERLIN\n",
      "BERNAU\n",
      "BIELEFELD\n",
      "BONN\n",
      "BREMEN\n",
      "CHEMNITZ\n",
      "COTTBUS\n",
      "DARMSTADT\n",
      "DESSAU\n",
      "DORTMUND\n",
      "DRESDEN\n",
      "DUISBURG\n",
      "DÜSSELDORF\n",
      "ERFURT\n",
      "ESSEN\n",
      "FRANKFURT\n",
      "FRANKFURT A. MAIN\n",
      "FREIBURG\n",
      "FÜRTH/ODENWALD\n",
      "GERA\n",
      "GOETTINGEN\n",
      "HAMBURG\n",
      "HEILBRONN\n",
      "KAISERSLAUTERN\n",
      "KARLSRUHE\n",
      "KASSEL\n",
      "KOBLENZ\n",
      "KONSTANZ\n",
      "KÖLN\n",
      "LUDWIGSBURG\n",
      "LÜBECK\n",
      "MAGDEBURG\n",
      "MAINZ\n",
      "MANNHEIM\n",
      "MÜNSTER\n",
      "NÜRNBERG\n",
      "PFORZHEIM\n",
      "POTSDAM\n",
      "RADEBEUL\n",
      "RATINGEN\n",
      "REUTLINGEN\n",
      "SAARBRÜCKEN\n",
      "SCHWEINFURT\n",
      "SOLINGEN\n",
      "STUTTGART\n",
      "TRIER\n",
      "ULM\n",
      "VILLINGEN-SCHWENNINGEN\n",
      "WIESBADEN\n",
      "AUGSBURG\n",
      "BAMBERG\n",
      "BERLIN\n",
      "BREMEN\n",
      "COTTBUS\n",
      "DARMSTADT\n",
      "ERFURT\n",
      "FRANKFURT\n",
      "FREIBURG\n",
      "HAMBURG\n",
      "KAISERSLAUTERN\n",
      "KARLSRUHE\n",
      "KASSEL\n",
      "KOBLENZ\n",
      "MAINZ\n",
      "MANNHEIM\n",
      "NÜRNBERG\n",
      "PFORZHEIM\n",
      "POTSDAM\n",
      "SAARBRÜCKEN\n",
      "SCHWEINFURT\n",
      "STUTTGART\n",
      "TRIER\n",
      "ULM\n",
      "WIESBADEN\n",
      "AACHEN\n",
      "AUGSBURG\n",
      "BERLIN\n",
      "BERNAU\n",
      "BIELEFELD\n",
      "BREMEN\n",
      "CHEMNITZ\n",
      "DARMSTADT\n",
      "DESSAU\n",
      "DORTMUND\n",
      "DRESDEN\n",
      "DUISBURG\n",
      "DÜSSELDORF\n",
      "ERFURT\n",
      "FRANKFURT A. MAIN\n",
      "FREIBURG\n",
      "FÜRTH/ODENWALD\n",
      "GERA\n",
      "GOETTINGEN\n",
      "HAMBURG\n",
      "HEILBRONN\n",
      "KAISERSLAUTERN\n",
      "KARLSRUHE\n",
      "KASSEL\n",
      "KOBLENZ\n",
      "KONSTANZ\n",
      "KREFELD\n",
      "KÖLN\n",
      "LUDWIGSBURG\n",
      "LÜBECK\n",
      "MAGDEBURG\n",
      "MAINZ\n",
      "MANNHEIM\n",
      "MÖNCHENGLADBACH\n",
      "MÜNSTER\n",
      "NÜRNBERG\n",
      "PFORZHEIM\n",
      "POTSDAM\n",
      "RADEBEUL\n",
      "RATINGEN\n",
      "REUTLINGEN\n",
      "SAARBRÜCKEN\n",
      "SCHWEINFURT\n",
      "SOLINGEN\n",
      "STUTTGART\n",
      "TRIER\n",
      "ULM\n",
      "VILLINGEN-SCHWENNINGEN\n",
      "WIESBADEN\n",
      "AACHEN\n",
      "AUGSBURG\n",
      "BAMBERG\n",
      "BERLIN\n",
      "BIELEFELD\n",
      "BONN\n",
      "BREMEN\n",
      "CHEMNITZ\n",
      "COTTBUS\n",
      "DARMSTADT\n",
      "DESSAU\n",
      "DORTMUND\n",
      "DRESDEN\n",
      "DUISBURG\n",
      "DÜSSELDORF\n",
      "ERFURT\n",
      "ESSEN\n",
      "FRANKFURT\n",
      "FRANKFURT A. MAIN\n",
      "FREIBURG\n",
      "FÜRTH/ODENWALD\n",
      "GERA\n",
      "GOETTINGEN\n",
      "HAMBURG\n",
      "HEILBRONN\n",
      "KAISERSLAUTERN\n",
      "KARLSRUHE\n",
      "KASSEL\n",
      "KONSTANZ\n",
      "KREFELD\n",
      "KÖLN\n",
      "LUDWIGSBURG\n",
      "LÜBECK\n",
      "MAGDEBURG\n",
      "MAINZ\n",
      "MANNHEIM\n",
      "MÖNCHENGLADBACH\n",
      "MÜNSTER\n",
      "NÜRNBERG\n",
      "PFORZHEIM\n",
      "POTSDAM\n",
      "RADEBEUL\n",
      "RATINGEN\n",
      "REUTLINGEN\n",
      "SAARBRÜCKEN\n",
      "SCHWEINFURT\n",
      "SOLINGEN\n",
      "STUTTGART\n",
      "TRIER\n",
      "ULM\n",
      "VILLINGEN-SCHWENNINGEN\n",
      "WIESBADEN\n",
      "AACHEN\n",
      "AUGSBURG\n",
      "BERLIN\n",
      "BIELEFELD\n",
      "BREMEN\n",
      "COTTBUS\n",
      "DORTMUND\n",
      "DRESDEN\n",
      "DÜSSELDORF\n",
      "ERFURT\n",
      "ESSEN\n",
      "FRANKFURT\n",
      "FRANKFURT A. MAIN\n",
      "FREIBURG\n",
      "GOETTINGEN\n",
      "HAMBURG\n",
      "KAISERSLAUTERN\n",
      "KARLSRUHE\n",
      "KASSEL\n",
      "KOBLENZ\n",
      "KÖLN\n",
      "LÜBECK\n",
      "MAINZ\n",
      "MANNHEIM\n",
      "MÜNSTER\n",
      "NÜRNBERG\n",
      "POTSDAM\n",
      "SAARBRÜCKEN\n",
      "STUTTGART\n",
      "TRIER\n",
      "WIESBADEN\n"
     ]
    }
   ],
   "source": [
    "for i in calcLen:\n",
    "    print mapCityID[i]"
   ]
  },
  {
   "cell_type": "code",
   "execution_count": 18,
   "metadata": {
    "collapsed": false
   },
   "outputs": [],
   "source": [
    "#Generate a dataframe of all these cities and their respective\n",
    "#measurements for air quality\n",
    "index_g = list(set(calcLen))\n",
    "city_list =[mapCityID[i] for i in index_g]\n",
    "city_traf = [traffic_air_map_germany[i] for i in city_list]\n",
    "toFrame = {'id':index_g,'city':city_list,'city_traf':city_traf,'SO2':[],\n",
    "           'CO':[],'NO2':[],'OZONE':[],'PM10':[],'PM25':[]}\n",
    "for i in index_g:\n",
    "    if so2_g[so2_g['id']==i]['valCor'].empty:\n",
    "        toFrame['SO2'].append(np.nan)\n",
    "    else:\n",
    "        toFrame['SO2'].append(float(so2_g[so2_g['id']==i]['valCor']))\n",
    "    if no2_g[no2_g['id']==i]['valCor'].empty:\n",
    "        toFrame['NO2'].append(np.nan)\n",
    "    else:\n",
    "        toFrame['NO2'].append(float(no2_g[no2_g['id']==i]['valCor']))\n",
    "    if co_g[co_g['id']==i]['valCor'].empty:\n",
    "        toFrame['CO'].append(np.nan)\n",
    "    else:\n",
    "        toFrame['CO'].append(float(co_g[co_g['id']==i]['valCor']))\n",
    "    if ozone_g[ozone_g['id']==i]['valCor'].empty:\n",
    "        toFrame['OZONE'].append(np.nan)\n",
    "    else:\n",
    "        toFrame['OZONE'].append(float(ozone_g[ozone_g['id']==i]['valCor']))\n",
    "    if pm10_g[pm10_g['id']==i]['statistic_value'].empty:\n",
    "        toFrame['PM10'].append(np.nan)\n",
    "    else:\n",
    "        toFrame['PM10'].append(float(pm10_g[pm10_g['id']==i]['statistic_value']))\n",
    "    if pm25_g[pm25_g['id']==i]['statistic_value'].empty:\n",
    "        toFrame['PM25'].append(np.nan)\n",
    "    else:\n",
    "        toFrame['PM25'].append(float(pm25_g[pm25_g['id']==i]['statistic_value']))\n",
    "GermanDat = pd.DataFrame(toFrame)"
   ]
  },
  {
   "cell_type": "code",
   "execution_count": 19,
   "metadata": {
    "collapsed": false
   },
   "outputs": [
    {
     "data": {
      "text/html": [
       "<div>\n",
       "<table border=\"1\" class=\"dataframe\">\n",
       "  <thead>\n",
       "    <tr style=\"text-align: right;\">\n",
       "      <th></th>\n",
       "      <th>CO</th>\n",
       "      <th>NO2</th>\n",
       "      <th>OZONE</th>\n",
       "      <th>PM10</th>\n",
       "      <th>PM25</th>\n",
       "      <th>SO2</th>\n",
       "      <th>city</th>\n",
       "      <th>city_traf</th>\n",
       "      <th>id</th>\n",
       "    </tr>\n",
       "  </thead>\n",
       "  <tbody>\n",
       "    <tr>\n",
       "      <th>0</th>\n",
       "      <td>0.306550</td>\n",
       "      <td>18.867952</td>\n",
       "      <td>0.020720</td>\n",
       "      <td>23.971714</td>\n",
       "      <td>18.021</td>\n",
       "      <td>1.680534</td>\n",
       "      <td>MANNHEIM</td>\n",
       "      <td>Mannheim</td>\n",
       "      <td>DEBW098</td>\n",
       "    </tr>\n",
       "    <tr>\n",
       "      <th>1</th>\n",
       "      <td>0.273362</td>\n",
       "      <td>25.171454</td>\n",
       "      <td>0.018547</td>\n",
       "      <td>24.492800</td>\n",
       "      <td>17.827</td>\n",
       "      <td>1.046947</td>\n",
       "      <td>STUTTGART</td>\n",
       "      <td>Stuttgart</td>\n",
       "      <td>DEBW099</td>\n",
       "    </tr>\n",
       "    <tr>\n",
       "      <th>2</th>\n",
       "      <td>NaN</td>\n",
       "      <td>14.229255</td>\n",
       "      <td>0.023519</td>\n",
       "      <td>21.806500</td>\n",
       "      <td>NaN</td>\n",
       "      <td>NaN</td>\n",
       "      <td>CHEMNITZ</td>\n",
       "      <td>Chemnitz</td>\n",
       "      <td>DESN011</td>\n",
       "    </tr>\n",
       "    <tr>\n",
       "      <th>3</th>\n",
       "      <td>NaN</td>\n",
       "      <td>6.118617</td>\n",
       "      <td>0.029148</td>\n",
       "      <td>14.695000</td>\n",
       "      <td>NaN</td>\n",
       "      <td>NaN</td>\n",
       "      <td>FÜRTH/ODENWALD</td>\n",
       "      <td>Fürth</td>\n",
       "      <td>DEHE028</td>\n",
       "    </tr>\n",
       "    <tr>\n",
       "      <th>4</th>\n",
       "      <td>0.400873</td>\n",
       "      <td>12.810106</td>\n",
       "      <td>0.023428</td>\n",
       "      <td>25.208000</td>\n",
       "      <td>13.291</td>\n",
       "      <td>1.435687</td>\n",
       "      <td>SAARBRÜCKEN</td>\n",
       "      <td>Saarbrücken</td>\n",
       "      <td>DESL012</td>\n",
       "    </tr>\n",
       "  </tbody>\n",
       "</table>\n",
       "</div>"
      ],
      "text/plain": [
       "         CO        NO2     OZONE       PM10    PM25       SO2            city    city_traf       id\n",
       "0  0.306550  18.867952  0.020720  23.971714  18.021  1.680534  MANNHEIM        Mannheim     DEBW098\n",
       "1  0.273362  25.171454  0.018547  24.492800  17.827  1.046947  STUTTGART       Stuttgart    DEBW099\n",
       "2 NaN        14.229255  0.023519  21.806500 NaN     NaN        CHEMNITZ        Chemnitz     DESN011\n",
       "3 NaN        6.118617   0.029148  14.695000 NaN     NaN        FÜRTH/ODENWALD  Fürth        DEHE028\n",
       "4  0.400873  12.810106  0.023428  25.208000  13.291  1.435687  SAARBRÜCKEN     Saarbrücken  DESL012"
      ]
     },
     "execution_count": 19,
     "metadata": {},
     "output_type": "execute_result"
    }
   ],
   "source": [
    "GermanDat.head()"
   ]
  },
  {
   "cell_type": "markdown",
   "metadata": {},
   "source": [
    "####Collecting Traffic Data"
   ]
  },
  {
   "cell_type": "markdown",
   "metadata": {},
   "source": [
    "This data may not be a perfect comparison to the US commuting census data, but it seems fairly similar overall."
   ]
  },
  {
   "cell_type": "code",
   "execution_count": 20,
   "metadata": {
    "collapsed": true
   },
   "outputs": [],
   "source": [
    "#Read in all the europe traffic data\n",
    "europe_trans = pd.read_excel('tempdata/europe_transit.xlsx')\n",
    "#Filter to Germany\n",
    "europe_trans = europe_trans[europe_trans['Country']=='Germany']\n",
    "#Filter to after 2006 (arbitrary cutoff just to ensure\n",
    "#the data is fairly close to our other data sources)\n",
    "europe_trans = europe_trans[europe_trans['Year']>=2004]\n",
    "#Filter to those that are in the Air Quality Data\n",
    "mask3 = europe_trans['City'].isin(GermanDat['city_traf'])\n",
    "europe_trans = europe_trans[mask3]"
   ]
  },
  {
   "cell_type": "code",
   "execution_count": 21,
   "metadata": {
    "collapsed": false
   },
   "outputs": [],
   "source": [
    "#Get fractions of transportation style and total counts\n",
    "europe_trans['other_frac']=(europe_trans['Walk']/100)+(europe_trans['Bike']/100)\n",
    "europe_trans['alone_frac']=(europe_trans['Car']/100)\n",
    "europe_trans['pt_frac']=(europe_trans['PT']/100)\n",
    "europe_trans['total']=europe_trans['Population']\n",
    "europe_trans['other']=(europe_trans['other_frac']*europe_trans['total'])\n",
    "europe_trans['pt']=(europe_trans['pt_frac']*europe_trans['total'])\n",
    "europe_trans['alone']=(europe_trans['alone_frac']*europe_trans['total'])\n",
    "#Add the id key\n",
    "rev_traffic_air_map_germany = {v: k for k, v in traffic_air_map_germany.items()}\n",
    "europe_trans['id']=europe_trans['City'].map(rev_traffic_air_map_germany.get)\n",
    "europe_trans['id']=europe_trans['id'].map(revmapCityID.get)"
   ]
  },
  {
   "cell_type": "code",
   "execution_count": 22,
   "metadata": {
    "collapsed": false
   },
   "outputs": [],
   "source": [
    "#Merge traffic with the Air Quality Data\n",
    "GermanDat = GermanDat.merge(europe_trans,on='id',how='left')"
   ]
  },
  {
   "cell_type": "code",
   "execution_count": 23,
   "metadata": {
    "collapsed": false
   },
   "outputs": [],
   "source": [
    "#Remove duplicate columns\n",
    "GermanDat.drop('Population',axis=1,inplace=True)"
   ]
  },
  {
   "cell_type": "code",
   "execution_count": 24,
   "metadata": {
    "collapsed": false
   },
   "outputs": [],
   "source": [
    "#Remove a duplicate\n",
    "GermanDat.drop(32,axis=0,inplace=True)"
   ]
  },
  {
   "cell_type": "markdown",
   "metadata": {},
   "source": [
    "####Get population density information"
   ]
  },
  {
   "cell_type": "markdown",
   "metadata": {},
   "source": [
    "There has not been a universal source of population density statistics for these cities, so we've opted to scrape this information primarily from Wikipedia."
   ]
  },
  {
   "cell_type": "code",
   "execution_count": 22,
   "metadata": {
    "collapsed": true
   },
   "outputs": [],
   "source": [
    "from bs4 import BeautifulSoup\n",
    "import requests"
   ]
  },
  {
   "cell_type": "code",
   "execution_count": 23,
   "metadata": {
    "collapsed": true
   },
   "outputs": [],
   "source": [
    "#THIS CODE WAS TAKEN FROM http://effbot.org/zone/re-sub.htm#unescape-html\n",
    "#Using this function to help deal with unicode trouble\n",
    "import re\n",
    "def unescape(text):\n",
    "    def fixup(m):\n",
    "        text = m.group(0)\n",
    "        if text[:2] == \"&#\":\n",
    "            # character reference\n",
    "            try:\n",
    "                if text[:3] == \"&#x\":\n",
    "                    return unichr(int(text[3:-1], 16))\n",
    "                else:\n",
    "                    return unichr(int(text[2:-1]))\n",
    "            except ValueError:\n",
    "                pass\n",
    "        else:\n",
    "            # named entity\n",
    "            try:\n",
    "                text = unichr(htmlentitydefs.name2codepoint[text[1:-1]])\n",
    "            except KeyError:\n",
    "                pass\n",
    "        return text # leave as is\n",
    "    return re.sub(\"&#?\\w+;\", fixup, text)"
   ]
  },
  {
   "cell_type": "code",
   "execution_count": 24,
   "metadata": {
    "collapsed": false
   },
   "outputs": [],
   "source": [
    "#Get unique German Cities\n",
    "listocities = []\n",
    "for i in GermanDat.City:\n",
    "    listocities.append(i)\n",
    "listocities = list(set(listocities))[1:]"
   ]
  },
  {
   "cell_type": "code",
   "execution_count": 25,
   "metadata": {
    "collapsed": false
   },
   "outputs": [],
   "source": [
    "#Change this city to match their wiki entries\n",
    "for i,city in enumerate(listocities):\n",
    "    if city=='Coswig/Radebeul':\n",
    "        listocities[i]='Radebeul'         "
   ]
  },
  {
   "cell_type": "code",
   "execution_count": 26,
   "metadata": {
    "collapsed": false,
    "scrolled": true
   },
   "outputs": [
    {
     "name": "stdout",
     "output_type": "stream",
     "text": [
      "Radebeul\n",
      "Radebeul 3,400/sq mi\n",
      "Gera\n",
      "Gera 1,600/sq mi\n",
      "Dortmund\n",
      "Dortmund 5,300/sq mi\n",
      "Bremen\n",
      "Bremen 4,300/sq mi\n",
      "Erfurt\n",
      "Potsdam\n",
      "Halle (Saale)\n",
      "Bernau bei Berlin\n",
      "Bernau bei Berlin 900/sq mi\n",
      "Dresden\n",
      "Moenchengladbach\n",
      "Ludwigsburg\n",
      "Ludwigsburg 5,400/sq mi\n",
      "Augsburg\n",
      "Augsburg 4,900/sq mi\n",
      "Reutlingen\n",
      "Koblenz\n",
      "Koblenz 2,700/sq mi\n",
      "Berlin\n",
      "Berlin 10,000/sq mi\n",
      "Trier\n",
      "Trier 2,400/sq mi\n",
      "Karlsruhe\n",
      "Hamburg\n",
      "Hamburg 6,000/sq mi\n",
      "Krefeld\n",
      "Krefeld 4,200/sq mi\n",
      "Solingen\n",
      "Solingen 4,500/sq mi\n",
      "Darmstadt\n",
      "Darmstadt 3,200/sq mi\n",
      "Bamberg\n",
      "Bamberg 3,400/sq mi\n",
      "Frankfurt am Main\n",
      "Frankfurt am Main 7,300/sq mi\n",
      "Kaiserslautern\n",
      "Kaiserslautern 1,800/sq mi\n",
      "Stuttgart\n",
      "Stuttgart 7,500/sq mi\n",
      "Magdeburg\n",
      "Magdeburg 3,000/sq mi\n",
      "Bonn\n",
      "Bonn 5,700/sq mi\n",
      "Ratingen\n",
      "Ratingen 2,500/sq mi\n",
      "Ulm\n",
      "Ulm 2,600/sq mi\n",
      "Aachen\n",
      "Aachen 3,900/sq mi\n",
      "Frankfurt\n",
      "Frankfurt 7,300/sq mi\n",
      "Mannheim\n",
      "Mannheim 5,300/sq mi\n",
      "Mainz\n",
      "Mainz 5,400/sq mi\n",
      "Heilbronn\n",
      "Heilbronn 3,100/sq mi\n",
      "Schweinfurt\n",
      "Schweinfurt 3,800/sq mi\n",
      "Konstanz\n",
      "Konstanz 3,800/sq mi\n",
      "Duisburg\n",
      "Duisburg 5,400/sq mi\n",
      "Koln\n",
      "Koln 6,600/sq mi\n",
      "Kassel\n",
      "Kassel 4,700/sq mi\n",
      "Chemnitz\n",
      "Chemnitz 2,900/sq mi\n",
      "Bielefeld\n",
      "Bielefeld 3,300/sq mi\n"
     ]
    }
   ],
   "source": [
    "#Scrape wikipedia for density stats\n",
    "#and latitude and longitude\n",
    "import itertools\n",
    "densedict = {}\n",
    "latdict = {}\n",
    "longdict = {}\n",
    "for city in listocities:\n",
    "    latdict[city] = 0\n",
    "    longdict[city] = 0\n",
    "    print city\n",
    "    dense=0\n",
    "    citypage=requests.get(\"https://en.wikipedia.org/wiki/\"+city)\n",
    "    soup = BeautifulSoup(citypage.text, \"html.parser\")\n",
    "    if soup.find(\"table\"):\n",
    "        rows = soup.find(\"table\").find_all(\"tr\")[1:]\n",
    "    counter = 0\n",
    "    for row in rows:\n",
    "        if row.find_all('th',{'scope':'row'}):\n",
    "            a = row.find_all('th',{'scope':'row'})\n",
    "            b = [x.get_text() for x in a]\n",
    "            for i in b:\n",
    "                if i ==  unescape(u'&#160;•&#160;Density'):\n",
    "                    counter += 1\n",
    "                    continue\n",
    "        if counter > 0:\n",
    "            c = row.find_all('td')\n",
    "            d = [x.get_text() for x in c]\n",
    "            match = re.search(\"km2.*\",d[0])\n",
    "            if match:\n",
    "                dense1 = match.group()[4:]\n",
    "                #Help from http://stackoverflow.com/questions/640001/how-can-i-remove-text-within-parentheses-with-a-regex\n",
    "                dense2 = re.sub(r'\\(',\"\",dense1)\n",
    "                dense = re.sub(r'\\)',\"\",dense2)\n",
    "                densedict[city]=dense\n",
    "                print city, dense\n",
    "            break\n",
    "        for row in rows:\n",
    "            if row.find_all('td'):\n",
    "                a = row.find_all('td')\n",
    "                for i in a:\n",
    "                    match = re.search(r'Coordinates: (.*)',i.get_text())\n",
    "                    if match:\n",
    "                        coords = match.group().split(' ')\n",
    "                        coordslat = [x.split(u'\\xb0') for x in coords][1]\n",
    "                        coordslong = [x.split(u'\\xb0') for x in coords][2]\n",
    "                        coordslat = [x.split(u'\\u2032') for x in coordslat]\n",
    "                        coordslong = [x.split(u'\\u2032') for x in coordslong]\n",
    "                        coordslat = list(itertools.chain(*coordslat))\n",
    "                        coordslong = list(itertools.chain(*coordslong))\n",
    "                        coordslat = [x.split(u'\\u2033') for x in coordslat]\n",
    "                        coordslong = [x.split(u'\\u2033') for x in coordslong]\n",
    "                        coordslat = [y[0] for y in coordslat]\n",
    "                        coordslong = [y[0] for y in coordslong]\n",
    "                        first = int(coordslat[0])\n",
    "                        second = float(coordslat[1])/60\n",
    "                        try:\n",
    "                            third = float(coordslat[2])/3600\n",
    "                        except:\n",
    "                            third = 0\n",
    "                            pass\n",
    "                        latdict[city] = first + second + third\n",
    "                        first = int(coordslong[0])\n",
    "                        second = float(coordslong[1])/60\n",
    "                        try:\n",
    "                            third = float(coordslong[2])/3600\n",
    "                        except:\n",
    "                            third = 0\n",
    "                            pass\n",
    "                        longdict[city] = first + second + third\n",
    "                    break                    \n",
    "    time.sleep(1)"
   ]
  },
  {
   "cell_type": "code",
   "execution_count": 27,
   "metadata": {
    "collapsed": false
   },
   "outputs": [],
   "source": [
    "#Easier to deal with some one-off cases manually\n",
    "densedict[u'Erfurt']=u'2,000/sq\\xa0mi'\n",
    "densedict[u'Potsdam']=u'2,200/sq\\xa0mi'\n",
    "densedict[u'Dresden']=u'4,200/sq\\xa0mi'\n",
    "densedict[u'Reutlingen']=u'3,300/sq\\xa0mi'\n",
    "densedict[u'Karlsruhe']=u'4,500/sq\\xa0mi'\n",
    "densedict[u'Halle (Saale)']=u'4,400/sq\\xa0mi'\n",
    "densedict[u'Moenchengladbach']=u'3,900/sq\\xa0mi'\n",
    "densedict[u'Coswig/Radebeul']=densedict['Radebeul']\n",
    "\n",
    "latdict[u'Erfurt']=50.983333\n",
    "latdict[u'Potsdam']=52.4\n",
    "latdict[u'Dresden']=51.033333\n",
    "latdict[u'Reutlingen']=48.483333\n",
    "latdict[u'Karlsruhe']=49.00921\n",
    "latdict[u'Halle (Saale)']=51.483333\n",
    "latdict[u'Moenchengladbach']=51.2\n",
    "latdict[u'Coswig/Radebeul']=latdict['Radebeul']\n",
    "\n",
    "longdict[u'Erfurt']=11.033333\n",
    "longdict[u'Potsdam']=13.066667\n",
    "longdict[u'Dresden']=13.733333\n",
    "longdict[u'Reutlingen']=9.216667\n",
    "longdict[u'Karlsruhe']=8.403951\n",
    "longdict[u'Halle (Saale)']=11.966667\n",
    "longdict[u'Moenchengladbach']=6.433333\n",
    "longdict[u'Coswig/Radebeul']=longdict['Radebeul']"
   ]
  },
  {
   "cell_type": "code",
   "execution_count": 28,
   "metadata": {
    "collapsed": false
   },
   "outputs": [],
   "source": [
    "toDenseFrame = {}\n",
    "for i,key in zip(densedict.values(),densedict.keys()):\n",
    "    match = re.search(r'(.*)/sq\\xa0mi',i)\n",
    "    if match:\n",
    "        toDenseFrame[key]=int(str(match.groups()[0]).replace(',',\"\"))\n",
    "GermanFrame = pd.DataFrame(toDenseFrame,index=[1]).T\n",
    "GermanFrame.columns=['popdense']\n",
    "GermanFrame['City'] = GermanFrame.index"
   ]
  },
  {
   "cell_type": "code",
   "execution_count": 29,
   "metadata": {
    "collapsed": false
   },
   "outputs": [],
   "source": [
    "latframe = pd.DataFrame(latdict,index=[1]).T\n",
    "latframe.columns=['Latitude']\n",
    "latframe['City'] = latframe.index\n",
    "longframe = pd.DataFrame(longdict,index=[1]).T\n",
    "longframe.columns=['Longitude']\n",
    "longframe['City'] = longframe.index"
   ]
  },
  {
   "cell_type": "code",
   "execution_count": 30,
   "metadata": {
    "collapsed": false
   },
   "outputs": [],
   "source": [
    "GermanFrame = GermanFrame.merge(pd.DataFrame(latframe),on='City',how='left')\n",
    "GermanFrame = GermanFrame.merge(pd.DataFrame(longframe),on='City',how='left')"
   ]
  },
  {
   "cell_type": "markdown",
   "metadata": {},
   "source": [
    "Now we have the population density data for each of the German cities we're working with. So we just need to merge this with the air quality and transit mode data."
   ]
  },
  {
   "cell_type": "code",
   "execution_count": 31,
   "metadata": {
    "collapsed": false
   },
   "outputs": [],
   "source": [
    "GermanDat = GermanDat.merge(GermanFrame,on='City',how='left')"
   ]
  },
  {
   "cell_type": "markdown",
   "metadata": {},
   "source": [
    "####Get weather data"
   ]
  },
  {
   "cell_type": "markdown",
   "metadata": {},
   "source": [
    "The final step is to get yearly weather data for these cities. This requires dealing with a large file from NOAA. There is data for many cities across the world so we have to do a lot of pruning."
   ]
  },
  {
   "cell_type": "code",
   "execution_count": 32,
   "metadata": {
    "collapsed": false
   },
   "outputs": [],
   "source": [
    "#Get all weather station data from noaa\n",
    "#using the following link\n",
    "iddata= urllib.urlopen(\"ftp://ftp.ncdc.noaa.gov/pub/data/ghcn/daily/ghcnd-stations.txt\")\n",
    "reader=csv.reader(iddata)"
   ]
  },
  {
   "cell_type": "code",
   "execution_count": 499,
   "metadata": {
    "collapsed": true
   },
   "outputs": [],
   "source": [
    "#Clean the rows of the text file -- they don't have one delimiter\n",
    "#But are delimited by the number of the of characters\n",
    "ID=[]\n",
    "COUNTRY=[]\n",
    "LATITUDE=[]\n",
    "LONGITUDE=[]\n",
    "ELEVATION=[]\n",
    "STATE=[]\n",
    "NAME=[]\n",
    "GSN=[]\n",
    "HCN_FLAG=[]\n",
    "WMO_ID=[]\n",
    "for row in reader:\n",
    "    ID.append(row[0][0:11].strip())\n",
    "    COUNTRY.append(row[0][0:2].strip())\n",
    "    LATITUDE.append(row[0][12:20].strip())\n",
    "    LONGITUDE.append(row[0][21:30].strip())\n",
    "    ELEVATION.append(row[0][31:37].strip())\n",
    "    STATE.append(row[0][38:40].strip())\n",
    "    NAME.append(row[0][41:71].strip())\n",
    "    GSN.append(row[0][72:75].strip())\n",
    "    HCN_FLAG.append(row[0][76:79].strip())\n",
    "    WMO_ID.append(row[0][80:85].strip())"
   ]
  },
  {
   "cell_type": "code",
   "execution_count": 500,
   "metadata": {
    "collapsed": true
   },
   "outputs": [],
   "source": [
    "#Make better cleaned dataframe\n",
    "frameDict={}\n",
    "frameDict['ID']=ID\n",
    "frameDict[\"COUNTRY\"]=COUNTRY\n",
    "frameDict['LATITUDE']=LATITUDE\n",
    "frameDict['LONGITUDE']=LONGITUDE\n",
    "frameDict['ELEVATION']=ELEVATION\n",
    "frameDict['STATE']=STATE\n",
    "frameDict['NAME']=NAME\n",
    "frameDict['GSN']=GSN\n",
    "frameDict['HCN_FLAG']=HCN_FLAG\n",
    "frameDict['WMO_ID']=WMO_ID\n",
    "stationdf=pd.DataFrame(frameDict)"
   ]
  },
  {
   "cell_type": "code",
   "execution_count": 501,
   "metadata": {
    "collapsed": false
   },
   "outputs": [],
   "source": [
    "#Filter to German only\n",
    "stationdf= stationdf[stationdf['COUNTRY']==\"GM\"]"
   ]
  },
  {
   "cell_type": "code",
   "execution_count": 503,
   "metadata": {
    "collapsed": false
   },
   "outputs": [
    {
     "data": {
      "text/html": [
       "<div>\n",
       "<table border=\"1\" class=\"dataframe\">\n",
       "  <thead>\n",
       "    <tr style=\"text-align: right;\">\n",
       "      <th></th>\n",
       "      <th>COUNTRY</th>\n",
       "      <th>ELEVATION</th>\n",
       "      <th>GSN</th>\n",
       "      <th>HCN_FLAG</th>\n",
       "      <th>ID</th>\n",
       "      <th>LATITUDE</th>\n",
       "      <th>LONGITUDE</th>\n",
       "      <th>NAME</th>\n",
       "      <th>STATE</th>\n",
       "      <th>WMO_ID</th>\n",
       "    </tr>\n",
       "  </thead>\n",
       "  <tbody>\n",
       "    <tr>\n",
       "      <th>33840</th>\n",
       "      <td>GM</td>\n",
       "      <td>62.0</td>\n",
       "      <td></td>\n",
       "      <td></td>\n",
       "      <td>GM000001153</td>\n",
       "      <td>51.9506</td>\n",
       "      <td>7.5914</td>\n",
       "      <td>MUENSTER</td>\n",
       "      <td></td>\n",
       "      <td>10313</td>\n",
       "    </tr>\n",
       "    <tr>\n",
       "      <th>33841</th>\n",
       "      <td>GM</td>\n",
       "      <td>4.0</td>\n",
       "      <td></td>\n",
       "      <td></td>\n",
       "      <td>GM000001474</td>\n",
       "      <td>53.0464</td>\n",
       "      <td>8.7992</td>\n",
       "      <td>BREMEN</td>\n",
       "      <td></td>\n",
       "      <td>10224</td>\n",
       "    </tr>\n",
       "    <tr>\n",
       "      <th>33842</th>\n",
       "      <td>GM</td>\n",
       "      <td>144.0</td>\n",
       "      <td></td>\n",
       "      <td></td>\n",
       "      <td>GM000002277</td>\n",
       "      <td>49.7517</td>\n",
       "      <td>6.6467</td>\n",
       "      <td>TRIER</td>\n",
       "      <td></td>\n",
       "      <td>10609</td>\n",
       "    </tr>\n",
       "    <tr>\n",
       "      <th>33843</th>\n",
       "      <td>GM</td>\n",
       "      <td>285.0</td>\n",
       "      <td></td>\n",
       "      <td></td>\n",
       "      <td>GM000002288</td>\n",
       "      <td>49.4253</td>\n",
       "      <td>7.7367</td>\n",
       "      <td>KAISERSLAUTERN</td>\n",
       "      <td></td>\n",
       "      <td></td>\n",
       "    </tr>\n",
       "    <tr>\n",
       "      <th>33844</th>\n",
       "      <td>GM</td>\n",
       "      <td>112.0</td>\n",
       "      <td></td>\n",
       "      <td></td>\n",
       "      <td>GM000002698</td>\n",
       "      <td>49.0392</td>\n",
       "      <td>8.3650</td>\n",
       "      <td>KARLSRUHE</td>\n",
       "      <td></td>\n",
       "      <td>10727</td>\n",
       "    </tr>\n",
       "  </tbody>\n",
       "</table>\n",
       "</div>"
      ],
      "text/plain": [
       "      COUNTRY ELEVATION GSN HCN_FLAG           ID LATITUDE LONGITUDE            NAME STATE WMO_ID\n",
       "33840  GM      62.0                   GM000001153  51.9506  7.5914    MUENSTER              10313\n",
       "33841  GM      4.0                    GM000001474  53.0464  8.7992    BREMEN                10224\n",
       "33842  GM      144.0                  GM000002277  49.7517  6.6467    TRIER                 10609\n",
       "33843  GM      285.0                  GM000002288  49.4253  7.7367    KAISERSLAUTERN             \n",
       "33844  GM      112.0                  GM000002698  49.0392  8.3650    KARLSRUHE             10727"
      ]
     },
     "execution_count": 503,
     "metadata": {},
     "output_type": "execute_result"
    }
   ],
   "source": [
    "stationdf.head()"
   ]
  },
  {
   "cell_type": "code",
   "execution_count": 504,
   "metadata": {
    "collapsed": true
   },
   "outputs": [],
   "source": [
    "#Make a dictionary of latitiude and longitude of all weather stations with data\n",
    "latlong_lookup = [(c,x,y) for c,x,y in zip(stationdf['ID'],stationdf['LATITUDE'],stationdf['LONGITUDE'])]"
   ]
  },
  {
   "cell_type": "code",
   "execution_count": 505,
   "metadata": {
    "collapsed": false
   },
   "outputs": [],
   "source": [
    "#Loop through all our cities with latitude and longitude\n",
    "#Keep track of the city with station data that has closest\n",
    "#euclidean distance to that city\n",
    "best = {}\n",
    "for city, la, lo in zip(GermanDat['City'],GermanDat['Latitude'],GermanDat['Longitude']):\n",
    "    point1 = np.array((float(la),float(lo)))\n",
    "    best[city] = ('ABC',1000)\n",
    "    for lookup in latlong_lookup:\n",
    "        point2 = np.array((float(lookup[1]),float(lookup[2])))\n",
    "        dist = np.linalg.norm(point1-point2)\n",
    "        if dist < best[city][1]:\n",
    "            best[city] = (lookup[0],dist)"
   ]
  },
  {
   "cell_type": "markdown",
   "metadata": {},
   "source": [
    "We have a dictionary that includes the station ID that falls closest to the latitude/longitude coordinates of the city of interest in the rest of our data. Now we just need to map the weather data from those stations to all the rest of our data."
   ]
  },
  {
   "cell_type": "code",
   "execution_count": 523,
   "metadata": {
    "collapsed": false
   },
   "outputs": [],
   "source": [
    "toDF = {'City':[],'GM_ID':[]}\n",
    "for i,j in zip(best.keys()[1:],best.values()[1:]):\n",
    "    toDF['City'].append(i)\n",
    "    toDF['GM_ID'].append(j[0])\n",
    "skeletonFrame = pd.DataFrame(toDF)"
   ]
  },
  {
   "cell_type": "markdown",
   "metadata": {},
   "source": [
    "Now we have the station IDs for our cities of interest, but we also need to collect data on the actual weather patterns. This comes from the same source as the station information, but the files are quite large and we will have a lot to weed through."
   ]
  },
  {
   "cell_type": "code",
   "execution_count": 524,
   "metadata": {
    "collapsed": true
   },
   "outputs": [],
   "source": [
    "gmweather = pd.read_csv('tempdata/ger_weather_2010.csv')"
   ]
  },
  {
   "cell_type": "markdown",
   "metadata": {},
   "source": [
    "We want to cut this file down immediately so we don't have to load the 1.2GB gile again. There are 37 million entries for 2010 alone because it has stations from all over the world and includes daily measurements. Let's first filter to just the stations in our data."
   ]
  },
  {
   "cell_type": "code",
   "execution_count": 545,
   "metadata": {
    "collapsed": false
   },
   "outputs": [],
   "source": [
    "gmweather.columns=['Station','Date','Type','Value','Col5','Col6','Col7','Col8']\n",
    "toremove = []\n",
    "for i,val in enumerate(gmweather['Station']):\n",
    "    if val[0:2] != 'GM':\n",
    "        toremove.append(i)"
   ]
  },
  {
   "cell_type": "code",
   "execution_count": 547,
   "metadata": {
    "collapsed": false
   },
   "outputs": [],
   "source": [
    "gmweather = gmweather.drop(gmweather.index[toremove])"
   ]
  },
  {
   "cell_type": "code",
   "execution_count": 548,
   "metadata": {
    "collapsed": false
   },
   "outputs": [
    {
     "data": {
      "text/html": [
       "<div>\n",
       "<table border=\"1\" class=\"dataframe\">\n",
       "  <thead>\n",
       "    <tr style=\"text-align: right;\">\n",
       "      <th></th>\n",
       "      <th>Station</th>\n",
       "      <th>Date</th>\n",
       "      <th>Type</th>\n",
       "      <th>Value</th>\n",
       "      <th>Col5</th>\n",
       "      <th>Col6</th>\n",
       "      <th>Col7</th>\n",
       "      <th>Col8</th>\n",
       "    </tr>\n",
       "  </thead>\n",
       "  <tbody>\n",
       "    <tr>\n",
       "      <th>213</th>\n",
       "      <td>GME00121174</td>\n",
       "      <td>20100101</td>\n",
       "      <td>TMAX</td>\n",
       "      <td>8</td>\n",
       "      <td>NaN</td>\n",
       "      <td>NaN</td>\n",
       "      <td>E</td>\n",
       "      <td>NaN</td>\n",
       "    </tr>\n",
       "    <tr>\n",
       "      <th>214</th>\n",
       "      <td>GME00121174</td>\n",
       "      <td>20100101</td>\n",
       "      <td>TMIN</td>\n",
       "      <td>-74</td>\n",
       "      <td>NaN</td>\n",
       "      <td>NaN</td>\n",
       "      <td>E</td>\n",
       "      <td>NaN</td>\n",
       "    </tr>\n",
       "    <tr>\n",
       "      <th>215</th>\n",
       "      <td>GME00121174</td>\n",
       "      <td>20100101</td>\n",
       "      <td>PRCP</td>\n",
       "      <td>31</td>\n",
       "      <td>NaN</td>\n",
       "      <td>NaN</td>\n",
       "      <td>E</td>\n",
       "      <td>NaN</td>\n",
       "    </tr>\n",
       "    <tr>\n",
       "      <th>216</th>\n",
       "      <td>GME00121174</td>\n",
       "      <td>20100101</td>\n",
       "      <td>SNWD</td>\n",
       "      <td>0</td>\n",
       "      <td>NaN</td>\n",
       "      <td>NaN</td>\n",
       "      <td>E</td>\n",
       "      <td>NaN</td>\n",
       "    </tr>\n",
       "    <tr>\n",
       "      <th>242</th>\n",
       "      <td>GME00102348</td>\n",
       "      <td>20100101</td>\n",
       "      <td>TMAX</td>\n",
       "      <td>-3</td>\n",
       "      <td>NaN</td>\n",
       "      <td>NaN</td>\n",
       "      <td>E</td>\n",
       "      <td>NaN</td>\n",
       "    </tr>\n",
       "  </tbody>\n",
       "</table>\n",
       "</div>"
      ],
      "text/plain": [
       "         Station      Date  Type  Value Col5 Col6 Col7  Col8\n",
       "213  GME00121174  20100101  TMAX  8      NaN  NaN  E   NaN  \n",
       "214  GME00121174  20100101  TMIN -74     NaN  NaN  E   NaN  \n",
       "215  GME00121174  20100101  PRCP  31     NaN  NaN  E   NaN  \n",
       "216  GME00121174  20100101  SNWD  0      NaN  NaN  E   NaN  \n",
       "242  GME00102348  20100101  TMAX -3      NaN  NaN  E   NaN  "
      ]
     },
     "execution_count": 548,
     "metadata": {},
     "output_type": "execute_result"
    }
   ],
   "source": [
    "gmweather.head()"
   ]
  },
  {
   "cell_type": "code",
   "execution_count": 565,
   "metadata": {
    "collapsed": false
   },
   "outputs": [],
   "source": [
    "toremove2 = []\n",
    "for c,i in enumerate(gmweather['Station']):\n",
    "    if str(i) not in [str(x) for x in skeletonFrame['GM_ID']]:\n",
    "        toremove2.append(c)"
   ]
  },
  {
   "cell_type": "code",
   "execution_count": 569,
   "metadata": {
    "collapsed": false
   },
   "outputs": [],
   "source": [
    "gmweather = gmweather.drop(gmweather.index[toremove2])"
   ]
  },
  {
   "cell_type": "markdown",
   "metadata": {},
   "source": [
    "Let's save this reduced file in case we need to reload it later and don't want to load in the giant file again."
   ]
  },
  {
   "cell_type": "code",
   "execution_count": 573,
   "metadata": {
    "collapsed": false
   },
   "outputs": [],
   "source": [
    "gmweather.to_csv('tempdata/gm_weather_reduced.csv',index=False)"
   ]
  },
  {
   "cell_type": "markdown",
   "metadata": {},
   "source": [
    "Now we need the relevant information about weather."
   ]
  },
  {
   "cell_type": "code",
   "execution_count": 579,
   "metadata": {
    "collapsed": false
   },
   "outputs": [
    {
     "data": {
      "text/plain": [
       "{'PRCP', 'SNWD', 'TAVG', 'TMAX', 'TMIN'}"
      ]
     },
     "execution_count": 579,
     "metadata": {},
     "output_type": "execute_result"
    }
   ],
   "source": [
    "set(gmweather['Type'])"
   ]
  },
  {
   "cell_type": "markdown",
   "metadata": {},
   "source": [
    "###UK DATA"
   ]
  },
  {
   "cell_type": "markdown",
   "metadata": {},
   "source": [
    "####Air Quality and Traffic Data"
   ]
  },
  {
   "cell_type": "code",
   "execution_count": 2,
   "metadata": {
    "collapsed": false
   },
   "outputs": [],
   "source": [
    "#Read in the UK air quality summary file\n",
    "#This is a large file that needs a fair amount of cleaning\n",
    "#It has all the same pollutants we looked at with the US\n",
    "ukAir = pd.read_csv('tempdata/AirBase_GB_v8_statistics.csv',sep='\\t')"
   ]
  },
  {
   "cell_type": "code",
   "execution_count": 3,
   "metadata": {
    "collapsed": false
   },
   "outputs": [],
   "source": [
    "#Read in UK Air Measurement Station Data\n",
    "#This includes info about each site\n",
    "stationInfo = pd.read_csv('tempdata/AirBase_GB_v8_stations.csv',sep='\\t')"
   ]
  },
  {
   "cell_type": "code",
   "execution_count": 4,
   "metadata": {
    "collapsed": false
   },
   "outputs": [],
   "source": [
    "#Make a map of UK Station City to\n",
    "#UK Station code\n",
    "mapCityID = {}\n",
    "for i,j in zip(stationInfo['station_european_code'],stationInfo['station_city']):\n",
    "    mapCityID[i] = j\n",
    "#Also make a reverse map as we will need that as well\n",
    "revmapCityID = {v: k for k, v in mapCityID.items()}"
   ]
  },
  {
   "cell_type": "code",
   "execution_count": 5,
   "metadata": {
    "collapsed": true
   },
   "outputs": [],
   "source": [
    "#Filter to yearly measurements from 2010 first\n",
    "ukAir = ukAir[ukAir['statistics_year']==2010]"
   ]
  },
  {
   "cell_type": "code",
   "execution_count": 6,
   "metadata": {
    "collapsed": false
   },
   "outputs": [
    {
     "name": "stdout",
     "output_type": "stream",
     "text": [
      "Number of cities in both transit and air quality data: 21\n"
     ]
    }
   ],
   "source": [
    "#Manually created a mapping of the different cities\n",
    "#that have both traffic and air quality data\n",
    "#This was done by looking at the city names and seeing\n",
    "#which appear in both. In total there were 21 cities which\n",
    "#seems somewhat small, so we'll also fetch other countries later\n",
    "traffic_air_map_uk = {'Aberdeen':'ABERDEEN','Blackpool':'BLACKPOOL','Bristol':'BRISTOL',\n",
    "                      'Doncaster':'DONCASTER','Edinburgh':'EDINBURGH','Exeter':'EXETER','Gloucester':'GLOUCESTER',\n",
    "                      'Ipswich':'IPSWICH','Leeds':'LEEDS','Leicester':'LEICESTER','Liverpool':'LIVERPOOL','London':'LONDON',\n",
    "                      'Norwich':'NORWICH','Nottingham':'NOTTINGHAM','Plymouth':'PLYMOUTH','Portsmouth':'PORTSMOUTH',\n",
    "                      'Sheffield':'SHEFFIELD','Southampton':'SOUTHAMPTON','Swindon':'SWINDON','Thurrock':'THURROCK',\n",
    "                      'York':'YORK'}\n",
    "print 'Number of cities in both transit and air quality data: ' + str(len(traffic_air_map_uk))\n",
    "rev_traffic_air_map_uk = {v: k for k, v in traffic_air_map_uk.items()}"
   ]
  },
  {
   "cell_type": "code",
   "execution_count": 7,
   "metadata": {
    "collapsed": true
   },
   "outputs": [],
   "source": [
    "#Filter just to the annual data for now\n",
    "#There are aggregated measures for other methods\n",
    "#That are averages of monthly averages or averages\n",
    "#of weekly averages. It seems like the annual mean\n",
    "#is the best place to start\n",
    "ukAir = ukAir[(ukAir['statistics_average_group']=='day') & (ukAir['statistic_name']=='annual mean')]"
   ]
  },
  {
   "cell_type": "code",
   "execution_count": 8,
   "metadata": {
    "collapsed": true
   },
   "outputs": [],
   "source": [
    "#Get the city of each of the UK Stations\n",
    "ukAir['city']=ukAir['station_european_code'].map(mapCityID.get)"
   ]
  },
  {
   "cell_type": "code",
   "execution_count": 9,
   "metadata": {
    "collapsed": true
   },
   "outputs": [],
   "source": [
    "#Get the city of each of the UK Stations\n",
    "ukAir['city']=ukAir['station_european_code'].map(mapCityID.get)"
   ]
  },
  {
   "cell_type": "code",
   "execution_count": 10,
   "metadata": {
    "collapsed": true
   },
   "outputs": [],
   "source": [
    "#Filter just to compounds of interest (those that overlap US data)\n",
    "listCom = ['Sulphur dioxide (air)','Particulate matter < 10 \\xc2\\xb5m (aerosol)','Ozone (air)',\n",
    "          'Nitrogen dioxide (air)','Particulate matter < 2.5 \\xc2\\xb5m (aerosol)','Carbon monoxide (air)']\n",
    "mask2 = ukAir['component_name'].isin(listCom)\n",
    "ukAir = ukAir[mask2]"
   ]
  },
  {
   "cell_type": "code",
   "execution_count": 11,
   "metadata": {
    "collapsed": false
   },
   "outputs": [
    {
     "name": "stderr",
     "output_type": "stream",
     "text": [
      "C:\\Users\\Mark\\Anaconda\\lib\\site-packages\\pandas\\core\\indexing.py:249: SettingWithCopyWarning: \n",
      "A value is trying to be set on a copy of a slice from a DataFrame.\n",
      "Try using .loc[row_indexer,col_indexer] = value instead\n",
      "\n",
      "See the the caveats in the documentation: http://pandas.pydata.org/pandas-docs/stable/indexing.html#indexing-view-versus-copy\n",
      "  self.obj[key] = _infer_fill_value(value)\n",
      "C:\\Users\\Mark\\Anaconda\\lib\\site-packages\\pandas\\core\\indexing.py:415: SettingWithCopyWarning: \n",
      "A value is trying to be set on a copy of a slice from a DataFrame.\n",
      "Try using .loc[row_indexer,col_indexer] = value instead\n",
      "\n",
      "See the the caveats in the documentation: http://pandas.pydata.org/pandas-docs/stable/indexing.html#indexing-view-versus-copy\n",
      "  self.obj[item] = s\n"
     ]
    }
   ],
   "source": [
    "#Convert units to comparable units\n",
    "#Conversions gathered from http://www2.dmu.dk/AtmosphericEnvironment/Expost/database/docs/PPM_conversion.pdf\n",
    "#SO2\n",
    "so2_g = ukAir[ukAir['component_name']=='Sulphur dioxide (air)']\n",
    "so2_g.loc[:,'valCor'] = so2_g['statistic_value']/2.62\n",
    "a = so2_g.groupby('city')\n",
    "b = a['valCor'].mean()\n",
    "b = pd.DataFrame(b)\n",
    "b = b.reset_index()\n",
    "b['id_traff']=b['city'].map(traffic_air_map_uk.get)\n",
    "b['id']=b['city'].map(revmapCityID.get)\n",
    "so2_g = b\n",
    "#NO2\n",
    "no2_g = ukAir[ukAir['component_name']=='Nitrogen dioxide (air)']\n",
    "no2_g.loc[:,'valCor'] = no2_g['statistic_value']/1.88\n",
    "a = no2_g.groupby('city')\n",
    "b = a['valCor'].mean()\n",
    "b = pd.DataFrame(b)\n",
    "b = b.reset_index()\n",
    "b['id_traff']=b['city'].map(traffic_air_map_uk.get)\n",
    "b['id']=b['city'].map(revmapCityID.get)\n",
    "no2_g = b\n",
    "#CO\n",
    "co_g = ukAir[ukAir['component_name']=='Carbon monoxide (air)']\n",
    "co_g.loc[:,'valCor'] = ((co_g['statistic_value']*1000)/1.145)/1000\n",
    "a = co_g.groupby('city')\n",
    "b = a['valCor'].mean()\n",
    "b = pd.DataFrame(b)\n",
    "b = b.reset_index()\n",
    "b['id_traff']=b['city'].map(traffic_air_map_uk.get)\n",
    "b['id']=b['city'].map(revmapCityID.get)\n",
    "co_g = b\n",
    "#OZONE\n",
    "ozone_g = ukAir[ukAir['component_name']=='Ozone (air)']\n",
    "ozone_g.loc[:,'valCor'] = ((ozone_g['statistic_value']/2)/1000)\n",
    "a = ozone_g.groupby('city')\n",
    "b = a['valCor'].mean()\n",
    "b = pd.DataFrame(b)\n",
    "b = b.reset_index()\n",
    "b['id_traff']=b['city'].map(traffic_air_map_uk.get)\n",
    "b['id']=b['city'].map(revmapCityID.get)\n",
    "ozone_g = b\n",
    "#PM10\n",
    "pm10_g = ukAir[ukAir['component_name']=='Particulate matter < 10 \\xc2\\xb5m (aerosol)']\n",
    "a = pm10_g.groupby('city')\n",
    "b = a['statistic_value'].mean()\n",
    "b = pd.DataFrame(b)\n",
    "b = b.reset_index()\n",
    "b['id_traff']=b['city'].map(traffic_air_map_uk.get)\n",
    "b['id']=b['city'].map(revmapCityID.get)\n",
    "pm10_g = b\n",
    "#PM2.5\n",
    "pm25_g = ukAir[ukAir['component_name']=='Particulate matter < 2.5 \\xc2\\xb5m (aerosol)']\n",
    "a = pm25_g.groupby('city')\n",
    "b = a['statistic_value'].mean()\n",
    "b = pd.DataFrame(b)\n",
    "b = b.reset_index()\n",
    "b['id_traff']=b['city'].map(traffic_air_map_uk.get)\n",
    "b['id']=b['city'].map(revmapCityID.get)\n",
    "pm25_g = b"
   ]
  },
  {
   "cell_type": "code",
   "execution_count": 12,
   "metadata": {
    "collapsed": false
   },
   "outputs": [
    {
     "name": "stdout",
     "output_type": "stream",
     "text": [
      "Number of cities that have data for at least one Air Quality Compound: 71\n"
     ]
    }
   ],
   "source": [
    "calcLen = list(so2_g['id'])+list(no2_g['id'])+list(co_g['id'])+list(ozone_g['id'])+list(pm10_g['id'])+list(pm25_g['id'])\n",
    "print 'Number of cities that have data for at least one Air Quality Compound: '+str(len(set(calcLen)))"
   ]
  },
  {
   "cell_type": "code",
   "execution_count": 13,
   "metadata": {
    "collapsed": false
   },
   "outputs": [],
   "source": [
    "#Generate a dataframe of all these cities and their respective\n",
    "#measurements for air quality\n",
    "index_g = list(set(calcLen))\n",
    "city_list =[mapCityID[i] for i in index_g]\n",
    "city_traf = [rev_traffic_air_map_uk[i] if i in traffic_air_map_uk.values() else 0 for i in city_list]\n",
    "toFrame = {'id':index_g,'city':city_list,'city_traf':city_traf,'SO2':[],\n",
    "           'CO':[],'NO2':[],'OZONE':[],'PM10':[],'PM25':[]}\n",
    "for i in index_g:\n",
    "    if so2_g[so2_g['id']==i]['valCor'].empty:\n",
    "        toFrame['SO2'].append(np.nan)\n",
    "    else:\n",
    "        toFrame['SO2'].append(float(so2_g[so2_g['id']==i]['valCor']))\n",
    "    if no2_g[no2_g['id']==i]['valCor'].empty:\n",
    "        toFrame['NO2'].append(np.nan)\n",
    "    else:\n",
    "        toFrame['NO2'].append(float(no2_g[no2_g['id']==i]['valCor']))\n",
    "    if co_g[co_g['id']==i]['valCor'].empty:\n",
    "        toFrame['CO'].append(np.nan)\n",
    "    else:\n",
    "        toFrame['CO'].append(float(co_g[co_g['id']==i]['valCor']))\n",
    "    if ozone_g[ozone_g['id']==i]['valCor'].empty:\n",
    "        toFrame['OZONE'].append(np.nan)\n",
    "    else:\n",
    "        toFrame['OZONE'].append(float(ozone_g[ozone_g['id']==i]['valCor']))\n",
    "    if pm10_g[pm10_g['id']==i]['statistic_value'].empty:\n",
    "        toFrame['PM10'].append(np.nan)\n",
    "    else:\n",
    "        toFrame['PM10'].append(float(pm10_g[pm10_g['id']==i]['statistic_value']))\n",
    "    if pm25_g[pm25_g['id']==i]['statistic_value'].empty:\n",
    "        toFrame['PM25'].append(np.nan)\n",
    "    else:\n",
    "        toFrame['PM25'].append(float(pm25_g[pm25_g['id']==i]['statistic_value']))\n",
    "UKDat = pd.DataFrame(toFrame)"
   ]
  },
  {
   "cell_type": "code",
   "execution_count": 14,
   "metadata": {
    "collapsed": false
   },
   "outputs": [],
   "source": [
    "UKDat = UKDat[UKDat!=0]"
   ]
  },
  {
   "cell_type": "code",
   "execution_count": 15,
   "metadata": {
    "collapsed": true
   },
   "outputs": [],
   "source": [
    "#Read in all the europe traffic data\n",
    "europe_trans = pd.read_excel('tempdata/uk_transit.xlsx')\n",
    "#Filter to Germany\n",
    "europe_trans = europe_trans[europe_trans['Country']=='United Kingdom']\n",
    "#Filter to after 2004 (arbitrary cutoff just to ensure\n",
    "#the data is fairly close to our other data sources)\n",
    "europe_trans = europe_trans[europe_trans['Year']>=2004]\n",
    "#Filter to those that are in the Air Quality Data\n",
    "mask3 = europe_trans['City'].isin(UKDat['city_traf'])\n",
    "europe_trans = europe_trans[mask3]"
   ]
  },
  {
   "cell_type": "code",
   "execution_count": 16,
   "metadata": {
    "collapsed": false
   },
   "outputs": [],
   "source": [
    "#Get fractions of transportation style and total counts\n",
    "europe_trans['other_frac']=(europe_trans['Walk']/100)+(europe_trans['Bike']/100)\n",
    "europe_trans['car_frac']=(europe_trans['Car']/100)\n",
    "europe_trans['pt_frac']=(europe_trans['PT']/100)\n",
    "europe_trans['total']=europe_trans['Population']\n",
    "europe_trans['other']=(europe_trans['other_frac']*europe_trans['total'])\n",
    "europe_trans['pt']=(europe_trans['pt_frac']*europe_trans['total'])\n",
    "europe_trans['car']=(europe_trans['car_frac']*europe_trans['total'])\n",
    "#Add the id key\n",
    "europe_trans['id']=europe_trans['City'].map(traffic_air_map_uk.get)\n",
    "europe_trans['id']=europe_trans['id'].map(revmapCityID.get)"
   ]
  },
  {
   "cell_type": "code",
   "execution_count": 17,
   "metadata": {
    "collapsed": false
   },
   "outputs": [],
   "source": [
    "#Merge traffic with the Air Quality Data\n",
    "UKDat = UKDat.merge(europe_trans,on='id',how='left')"
   ]
  },
  {
   "cell_type": "code",
   "execution_count": 18,
   "metadata": {
    "collapsed": true
   },
   "outputs": [],
   "source": [
    "#Remove duplicates\n",
    "UKDat.drop(32,axis=0,inplace=True)\n",
    "UKDat.drop(31,axis=0,inplace=True)"
   ]
  },
  {
   "cell_type": "code",
   "execution_count": 19,
   "metadata": {
    "collapsed": false
   },
   "outputs": [],
   "source": [
    "#Remove the unnecessary columns\n",
    "UKDat.drop(['Population','Walk','Bike','PT','PT - Train','PT - Bus', 'PT - Metro','PT - Tram','Car','Car - Driver','Car - Passenger','Car - Taxi','Car - Motorcycle',],axis=1,inplace=True)"
   ]
  },
  {
   "cell_type": "code",
   "execution_count": 20,
   "metadata": {
    "collapsed": false
   },
   "outputs": [
    {
     "data": {
      "text/html": [
       "<div>\n",
       "<table border=\"1\" class=\"dataframe\">\n",
       "  <thead>\n",
       "    <tr style=\"text-align: right;\">\n",
       "      <th></th>\n",
       "      <th>CO</th>\n",
       "      <th>NO2</th>\n",
       "      <th>OZONE</th>\n",
       "      <th>PM10</th>\n",
       "      <th>PM25</th>\n",
       "      <th>SO2</th>\n",
       "      <th>city</th>\n",
       "      <th>city_traf</th>\n",
       "      <th>id</th>\n",
       "      <th>City</th>\n",
       "      <th>Country</th>\n",
       "      <th>Year</th>\n",
       "      <th>other_frac</th>\n",
       "      <th>car_frac</th>\n",
       "      <th>pt_frac</th>\n",
       "      <th>total</th>\n",
       "      <th>other</th>\n",
       "      <th>pt</th>\n",
       "      <th>car</th>\n",
       "    </tr>\n",
       "  </thead>\n",
       "  <tbody>\n",
       "    <tr>\n",
       "      <th>0</th>\n",
       "      <td>0.248908</td>\n",
       "      <td>19.101064</td>\n",
       "      <td>0.016687</td>\n",
       "      <td>17.688</td>\n",
       "      <td>13.305</td>\n",
       "      <td>1.364885</td>\n",
       "      <td>SOUTHAMPTON</td>\n",
       "      <td>Southampton</td>\n",
       "      <td>GB0598A</td>\n",
       "      <td>Southampton</td>\n",
       "      <td>United Kingdom</td>\n",
       "      <td>2010</td>\n",
       "      <td>0.17</td>\n",
       "      <td>0.59</td>\n",
       "      <td>0.24</td>\n",
       "      <td>234100</td>\n",
       "      <td>39797</td>\n",
       "      <td>56184</td>\n",
       "      <td>138119</td>\n",
       "    </tr>\n",
       "    <tr>\n",
       "      <th>1</th>\n",
       "      <td>NaN</td>\n",
       "      <td>10.274468</td>\n",
       "      <td>NaN</td>\n",
       "      <td>14.465</td>\n",
       "      <td>11.053</td>\n",
       "      <td>4.571374</td>\n",
       "      <td>GRANGEMOUTH</td>\n",
       "      <td>NaN</td>\n",
       "      <td>GB0735A</td>\n",
       "      <td>NaN</td>\n",
       "      <td>NaN</td>\n",
       "      <td>NaN</td>\n",
       "      <td>NaN</td>\n",
       "      <td>NaN</td>\n",
       "      <td>NaN</td>\n",
       "      <td>NaN</td>\n",
       "      <td>NaN</td>\n",
       "      <td>NaN</td>\n",
       "      <td>NaN</td>\n",
       "    </tr>\n",
       "    <tr>\n",
       "      <th>2</th>\n",
       "      <td>NaN</td>\n",
       "      <td>13.421277</td>\n",
       "      <td>0.017605</td>\n",
       "      <td>NaN</td>\n",
       "      <td>NaN</td>\n",
       "      <td>1.371565</td>\n",
       "      <td>BARNSLEY</td>\n",
       "      <td>NaN</td>\n",
       "      <td>GB0751A</td>\n",
       "      <td>NaN</td>\n",
       "      <td>NaN</td>\n",
       "      <td>NaN</td>\n",
       "      <td>NaN</td>\n",
       "      <td>NaN</td>\n",
       "      <td>NaN</td>\n",
       "      <td>NaN</td>\n",
       "      <td>NaN</td>\n",
       "      <td>NaN</td>\n",
       "      <td>NaN</td>\n",
       "    </tr>\n",
       "    <tr>\n",
       "      <th>3</th>\n",
       "      <td>0.288210</td>\n",
       "      <td>9.935106</td>\n",
       "      <td>0.025262</td>\n",
       "      <td>20.842</td>\n",
       "      <td>8.830</td>\n",
       "      <td>1.841985</td>\n",
       "      <td>PORT TALBOT</td>\n",
       "      <td>NaN</td>\n",
       "      <td>GB0906A</td>\n",
       "      <td>NaN</td>\n",
       "      <td>NaN</td>\n",
       "      <td>NaN</td>\n",
       "      <td>NaN</td>\n",
       "      <td>NaN</td>\n",
       "      <td>NaN</td>\n",
       "      <td>NaN</td>\n",
       "      <td>NaN</td>\n",
       "      <td>NaN</td>\n",
       "      <td>NaN</td>\n",
       "    </tr>\n",
       "    <tr>\n",
       "      <th>4</th>\n",
       "      <td>0.233188</td>\n",
       "      <td>19.704521</td>\n",
       "      <td>0.019005</td>\n",
       "      <td>21.776</td>\n",
       "      <td>15.750</td>\n",
       "      <td>1.692748</td>\n",
       "      <td>SHEFFIELD</td>\n",
       "      <td>Sheffield</td>\n",
       "      <td>GB0615A</td>\n",
       "      <td>Sheffield</td>\n",
       "      <td>United Kingdom</td>\n",
       "      <td>2010</td>\n",
       "      <td>0.11</td>\n",
       "      <td>0.55</td>\n",
       "      <td>0.34</td>\n",
       "      <td>534500</td>\n",
       "      <td>58795</td>\n",
       "      <td>181730</td>\n",
       "      <td>293975</td>\n",
       "    </tr>\n",
       "  </tbody>\n",
       "</table>\n",
       "</div>"
      ],
      "text/plain": [
       "         CO        NO2     OZONE    PM10    PM25       SO2         city    city_traf       id         City         Country  Year  other_frac  car_frac  pt_frac   total  other      pt     car\n",
       "0  0.248908  19.101064  0.016687  17.688  13.305  1.364885  SOUTHAMPTON  Southampton  GB0598A  Southampton  United Kingdom  2010  0.17        0.59      0.24     234100  39797  56184   138119\n",
       "1 NaN        10.274468 NaN        14.465  11.053  4.571374  GRANGEMOUTH  NaN          GB0735A  NaN          NaN            NaN   NaN         NaN       NaN      NaN     NaN    NaN     NaN    \n",
       "2 NaN        13.421277  0.017605 NaN     NaN      1.371565  BARNSLEY     NaN          GB0751A  NaN          NaN            NaN   NaN         NaN       NaN      NaN     NaN    NaN     NaN    \n",
       "3  0.288210  9.935106   0.025262  20.842  8.830   1.841985  PORT TALBOT  NaN          GB0906A  NaN          NaN            NaN   NaN         NaN       NaN      NaN     NaN    NaN     NaN    \n",
       "4  0.233188  19.704521  0.019005  21.776  15.750  1.692748  SHEFFIELD    Sheffield    GB0615A  Sheffield    United Kingdom  2010  0.11        0.55      0.34     534500  58795  181730  293975"
      ]
     },
     "execution_count": 20,
     "metadata": {},
     "output_type": "execute_result"
    }
   ],
   "source": [
    "UKDat.head()"
   ]
  },
  {
   "cell_type": "markdown",
   "metadata": {
    "collapsed": true
   },
   "source": [
    "####Demographic Data"
   ]
  },
  {
   "cell_type": "code",
   "execution_count": 21,
   "metadata": {
    "collapsed": true
   },
   "outputs": [],
   "source": [
    "from bs4 import BeautifulSoup\n",
    "import requests"
   ]
  },
  {
   "cell_type": "code",
   "execution_count": 22,
   "metadata": {
    "collapsed": true
   },
   "outputs": [],
   "source": [
    "#THIS CODE WAS TAKEN FROM http://effbot.org/zone/re-sub.htm#unescape-html\n",
    "#Using this function to help deal with unicode trouble\n",
    "import re\n",
    "def unescape(text):\n",
    "    def fixup(m):\n",
    "        text = m.group(0)\n",
    "        if text[:2] == \"&#\":\n",
    "            # character reference\n",
    "            try:\n",
    "                if text[:3] == \"&#x\":\n",
    "                    return unichr(int(text[3:-1], 16))\n",
    "                else:\n",
    "                    return unichr(int(text[2:-1]))\n",
    "            except ValueError:\n",
    "                pass\n",
    "        else:\n",
    "            # named entity\n",
    "            try:\n",
    "                text = unichr(htmlentitydefs.name2codepoint[text[1:-1]])\n",
    "            except KeyError:\n",
    "                pass\n",
    "        return text # leave as is\n",
    "    return re.sub(\"&#?\\w+;\", fixup, text)"
   ]
  },
  {
   "cell_type": "code",
   "execution_count": 23,
   "metadata": {
    "collapsed": true
   },
   "outputs": [],
   "source": [
    "#Get unique German Cities\n",
    "listocities = []\n",
    "for i in UKDat.City:\n",
    "    listocities.append(i)\n",
    "listocities = list(set(listocities))[1:]"
   ]
  },
  {
   "cell_type": "code",
   "execution_count": 24,
   "metadata": {
    "collapsed": false
   },
   "outputs": [
    {
     "data": {
      "text/plain": [
       "[u'Southampton',\n",
       " u'Portsmouth',\n",
       " u'Edinburgh',\n",
       " u'Sheffield',\n",
       " u'Norwich',\n",
       " u'Plymouth',\n",
       " u'Nottingham',\n",
       " u'Blackpool',\n",
       " u'London',\n",
       " u'York',\n",
       " u'Bristol',\n",
       " u'Leeds',\n",
       " u'Aberdeen',\n",
       " u'Leicester',\n",
       " u'Thurrock',\n",
       " u'Exeter']"
      ]
     },
     "execution_count": 24,
     "metadata": {},
     "output_type": "execute_result"
    }
   ],
   "source": [
    "listocities"
   ]
  },
  {
   "cell_type": "code",
   "execution_count": 25,
   "metadata": {
    "collapsed": false
   },
   "outputs": [
    {
     "name": "stdout",
     "output_type": "stream",
     "text": [
      "Southampton\n",
      "Southampton \n",
      "Portsmouth\n",
      "Edinburgh\n",
      "Edinburgh 4,730/sq mi\n",
      "Sheffield\n",
      "Sheffield \n",
      "Norwich\n",
      "Plymouth\n",
      "Nottingham\n",
      "Nottingham 10,910/sq mi\n",
      "Blackpool\n",
      "Blackpool \n",
      "London\n",
      "London \n",
      "York\n",
      "York \n",
      "Bristol\n",
      "Bristol 10,080/sq mi\n",
      "Leeds\n",
      "Aberdeen\n",
      "Aberdeen 3,030/sq mi\n",
      "Leicester\n",
      "Thurrock\n",
      "Thurrock 2,590/sq mi\n",
      "Exeter\n",
      "Exeter \n"
     ]
    }
   ],
   "source": [
    "#Scrape wikipedia for density stats\n",
    "#and latitude and longitude\n",
    "import itertools\n",
    "densedict = {}\n",
    "latdict = {}\n",
    "longdict = {}\n",
    "for city in listocities:\n",
    "    westeast=None\n",
    "    latdict[city] = 0\n",
    "    longdict[city] = 0\n",
    "    print city\n",
    "    dense=0\n",
    "    citypage=requests.get(\"https://en.wikipedia.org/wiki/\"+city)\n",
    "    soup = BeautifulSoup(citypage.text, \"html.parser\")\n",
    "    if soup.find(\"table\"):\n",
    "        rows = soup.find(\"table\").find_all(\"tr\")[1:]\n",
    "    counter = 0\n",
    "    for row in rows:\n",
    "        if row.find_all('th',{'scope':'row'}):\n",
    "            a = row.find_all('th',{'scope':'row'})\n",
    "            b = [x.get_text() for x in a]\n",
    "            for i in b:\n",
    "                if i ==  unescape(u'&#160;•&#160;Density'):\n",
    "                    counter += 1\n",
    "                    continue\n",
    "        if counter > 0:\n",
    "            c = row.find_all('td')\n",
    "            d = [x.get_text() for x in c]\n",
    "            match = re.search(\"km2.*\",d[0])\n",
    "            if match:\n",
    "                dense1 = match.group()[4:]\n",
    "                #Help from http://stackoverflow.com/questions/640001/how-can-i-remove-text-within-parentheses-with-a-regex\n",
    "                dense2 = re.sub(r'\\(',\"\",dense1)\n",
    "                dense = re.sub(r'\\)',\"\",dense2)\n",
    "                densedict[city]=dense\n",
    "                print city, dense\n",
    "            break\n",
    "        for row in rows:\n",
    "            if row.find_all('td'):\n",
    "                a = row.find_all('td')\n",
    "                for i in a:\n",
    "                    match = re.search(r'Coordinates: (.*)',i.get_text())\n",
    "                    if match:\n",
    "                        coords = match.group().split(' ')\n",
    "                        coordslat = [x.split(u'\\xb0') for x in coords][1]\n",
    "                        coordslong = [x.split(u'\\xb0') for x in coords][2]\n",
    "                        coordslat = [x.split(u'\\u2032') for x in coordslat]\n",
    "                        coordslong = [x.split(u'\\u2032') for x in coordslong]\n",
    "                        coordslat = list(itertools.chain(*coordslat))\n",
    "                        coordslong = list(itertools.chain(*coordslong))\n",
    "                        coordslat = [x.split(u'\\u2033') for x in coordslat]\n",
    "                        coordslong = [x.split(u'\\u2033') for x in coordslong]\n",
    "                        if coordslong[-1][-1] == u'W\\ufeff':\n",
    "                            westeast=-1\n",
    "                        elif coordslong[-1][-1] == u'E\\ufeff':\n",
    "                            westeast=1\n",
    "                        coordslat = [y[0] for y in coordslat]\n",
    "                        coordslong = [y[0] for y in coordslong]\n",
    "                        first = int(coordslat[0])\n",
    "                        second = float(coordslat[1])/60\n",
    "                        try:\n",
    "                            third = float(coordslat[2])/3600\n",
    "                        except:\n",
    "                            third = 0\n",
    "                            pass\n",
    "                        latdict[city] = first + second + third\n",
    "                        first = int(coordslong[0])\n",
    "                        second = float(coordslong[1])/60\n",
    "                        try:\n",
    "                            third = float(coordslong[2])/3600\n",
    "                        except:\n",
    "                            third = 0\n",
    "                            pass\n",
    "                        longdict[city] = (first + second + third)*westeast\n",
    "                    break                    \n",
    "    time.sleep(1)"
   ]
  },
  {
   "cell_type": "code",
   "execution_count": 26,
   "metadata": {
    "collapsed": true
   },
   "outputs": [],
   "source": [
    "#Easier to deal with some one-off cases manually\n",
    "#The format of the wiki entries is terribly inconsistent\n",
    "densedict[u'Southampton']=u'12,730/sq\\xa0mi'\n",
    "densedict[u'Portsmouth']=u'13,267/sq\\xa0mi'\n",
    "densedict[u'Sheffield']=u'3,970/sq\\xa0mi'\n",
    "densedict['Norwich']=u'8,770/sq\\xa0mi'\n",
    "densedict['Plymouth']=u'8,500/sq\\xa0mi'\n",
    "densedict['Blackpool']=u'11,000/sq\\xa0mi'\n",
    "densedict['London']=u'14,070/sq\\xa0mi'\n",
    "densedict['York']=u'1,780/sq\\xa0mi'\n",
    "densedict['Leeds']='9,440/sq\\xa0mi'\n",
    "densedict['Leicester']='11,930/sq\\xa0mi'\n",
    "densedict['Exeter']='6,800/sq\\xa0mi'"
   ]
  },
  {
   "cell_type": "code",
   "execution_count": 27,
   "metadata": {
    "collapsed": true
   },
   "outputs": [],
   "source": [
    "latdict[u'Southampton']=50.9\n",
    "latdict[u'Portsmouth']=50.816667\n",
    "latdict[u'Plymouth']=50.371389\n",
    "latdict[u'Leicester']=52.633333"
   ]
  },
  {
   "cell_type": "code",
   "execution_count": 28,
   "metadata": {
    "collapsed": true
   },
   "outputs": [],
   "source": [
    "longdict[u'Southampton']=1.4\n",
    "longdict[u'Portsmouth']=-1.083333\n",
    "longdict[u'Plymouth']=-4.142222\n",
    "longdict[u'Leicester']=-1.133333"
   ]
  },
  {
   "cell_type": "code",
   "execution_count": 29,
   "metadata": {
    "collapsed": true
   },
   "outputs": [],
   "source": [
    "toDenseFrame = {}\n",
    "for i,key in zip(densedict.values(),densedict.keys()):\n",
    "    match = re.search(r'(.*)/sq\\xa0mi',i)\n",
    "    if match:\n",
    "        toDenseFrame[key]=int(str(match.groups()[0]).replace(',',\"\"))\n",
    "UKFrame = pd.DataFrame(toDenseFrame,index=[1]).T\n",
    "UKFrame.columns=['popdense']\n",
    "UKFrame['City'] = UKFrame.index"
   ]
  },
  {
   "cell_type": "code",
   "execution_count": 30,
   "metadata": {
    "collapsed": true
   },
   "outputs": [],
   "source": [
    "latframe = pd.DataFrame(latdict,index=[1]).T\n",
    "latframe.columns=['Latitude']\n",
    "latframe['City'] = latframe.index\n",
    "longframe = pd.DataFrame(longdict,index=[1]).T\n",
    "longframe.columns=['Longitude']\n",
    "longframe['City'] = longframe.index"
   ]
  },
  {
   "cell_type": "code",
   "execution_count": 31,
   "metadata": {
    "collapsed": false
   },
   "outputs": [],
   "source": [
    "UKFrame = UKFrame.merge(pd.DataFrame(latframe),on='City',how='left')\n",
    "UKFrame = UKFrame.merge(pd.DataFrame(longframe),on='City',how='left')"
   ]
  },
  {
   "cell_type": "code",
   "execution_count": 32,
   "metadata": {
    "collapsed": false
   },
   "outputs": [],
   "source": [
    "UKFrame = UKDat.merge(UKFrame,on='City',how='left')"
   ]
  },
  {
   "cell_type": "markdown",
   "metadata": {},
   "source": [
    "####Weather Data"
   ]
  },
  {
   "cell_type": "code",
   "execution_count": 310,
   "metadata": {
    "collapsed": false
   },
   "outputs": [],
   "source": [
    "#Get all weather station data from noaa\n",
    "#using the following link\n",
    "iddata= urllib.urlopen(\"ftp://ftp.ncdc.noaa.gov/pub/data/noaa/isd-history.csv\")\n",
    "reader=csv.reader(iddata,delimiter=',')"
   ]
  },
  {
   "cell_type": "code",
   "execution_count": 311,
   "metadata": {
    "collapsed": false
   },
   "outputs": [],
   "source": [
    "USAF=[]\n",
    "WBAN=[]\n",
    "STATION=[]\n",
    "CTRY=[]\n",
    "CALL=[]\n",
    "LAT=[]\n",
    "LONG=[]\n",
    "count=0\n",
    "for row in reader:\n",
    "    count+=1\n",
    "    if count > 22:\n",
    "        USAF.append(row[0])\n",
    "        WBAN.append(row[1])\n",
    "        STATION.append(row[2])\n",
    "        CTRY.append(row[3])\n",
    "        CALL.append(row[5])\n",
    "        LAT.append(row[6])\n",
    "        LONG.append(row[7])"
   ]
  },
  {
   "cell_type": "code",
   "execution_count": 312,
   "metadata": {
    "collapsed": true
   },
   "outputs": [],
   "source": [
    "#Make better cleaned dataframe\n",
    "frameDict={}\n",
    "frameDict['USAF']=USAF\n",
    "frameDict[\"WBAN\"]=WBAN\n",
    "frameDict['STATION']=STATION\n",
    "frameDict['CTRY']=CTRY\n",
    "frameDict['CALL']=CALL\n",
    "frameDict['LAT']=LAT\n",
    "frameDict['LONG']=LONG\n",
    "stationdf=pd.DataFrame(frameDict)"
   ]
  },
  {
   "cell_type": "code",
   "execution_count": 313,
   "metadata": {
    "collapsed": false
   },
   "outputs": [],
   "source": [
    "#Filter to UK only\n",
    "stationdf= stationdf[stationdf['CTRY']==\"UK\"]"
   ]
  },
  {
   "cell_type": "code",
   "execution_count": 314,
   "metadata": {
    "collapsed": false
   },
   "outputs": [],
   "source": [
    "#Clean lat and long\n",
    "replacelat = [i.replace(\"+\",'') for i in stationdf['LAT']]\n",
    "replacelong = [i.replace(\"+\",'') for i in stationdf['LONG']]\n",
    "stationdf['LAT']=replacelat\n",
    "stationdf['LONG']=replacelong\n",
    "id = [str(i)+\"-\"+str(j) for i,j in zip(stationdf['USAF'],stationdf['WBAN'])]\n",
    "stationdf['ID']=id"
   ]
  },
  {
   "cell_type": "code",
   "execution_count": 315,
   "metadata": {
    "collapsed": false
   },
   "outputs": [],
   "source": [
    "stationdf = stationdf.replace(r'\\s+', np.nan, regex=True)\n",
    "stationdf = stationdf.replace('',np.nan)"
   ]
  },
  {
   "cell_type": "code",
   "execution_count": 316,
   "metadata": {
    "collapsed": false
   },
   "outputs": [
    {
     "data": {
      "text/html": [
       "<div>\n",
       "<table border=\"1\" class=\"dataframe\">\n",
       "  <thead>\n",
       "    <tr style=\"text-align: right;\">\n",
       "      <th></th>\n",
       "      <th>CALL</th>\n",
       "      <th>CTRY</th>\n",
       "      <th>LAT</th>\n",
       "      <th>LONG</th>\n",
       "      <th>STATION</th>\n",
       "      <th>USAF</th>\n",
       "      <th>WBAN</th>\n",
       "      <th>ID</th>\n",
       "    </tr>\n",
       "  </thead>\n",
       "  <tbody>\n",
       "    <tr>\n",
       "      <th>1180</th>\n",
       "      <td>NaN</td>\n",
       "      <td>UK</td>\n",
       "      <td>60.850</td>\n",
       "      <td>-000.883</td>\n",
       "      <td>NaN</td>\n",
       "      <td>030010</td>\n",
       "      <td>99999</td>\n",
       "      <td>030010-99999</td>\n",
       "    </tr>\n",
       "    <tr>\n",
       "      <th>1181</th>\n",
       "      <td>EGPW</td>\n",
       "      <td>UK</td>\n",
       "      <td>60.750</td>\n",
       "      <td>-000.850</td>\n",
       "      <td>NaN</td>\n",
       "      <td>030020</td>\n",
       "      <td>99999</td>\n",
       "      <td>030020-99999</td>\n",
       "    </tr>\n",
       "    <tr>\n",
       "      <th>1182</th>\n",
       "      <td>EGPB</td>\n",
       "      <td>UK</td>\n",
       "      <td>59.879</td>\n",
       "      <td>-001.296</td>\n",
       "      <td>SUMBURGH</td>\n",
       "      <td>030030</td>\n",
       "      <td>99999</td>\n",
       "      <td>030030-99999</td>\n",
       "    </tr>\n",
       "    <tr>\n",
       "      <th>1184</th>\n",
       "      <td>NaN</td>\n",
       "      <td>UK</td>\n",
       "      <td>60.533</td>\n",
       "      <td>-001.383</td>\n",
       "      <td>NaN</td>\n",
       "      <td>030040</td>\n",
       "      <td>99999</td>\n",
       "      <td>030040-99999</td>\n",
       "    </tr>\n",
       "    <tr>\n",
       "      <th>1185</th>\n",
       "      <td>NaN</td>\n",
       "      <td>UK</td>\n",
       "      <td>60.133</td>\n",
       "      <td>-001.183</td>\n",
       "      <td>LERWICK</td>\n",
       "      <td>030050</td>\n",
       "      <td>99999</td>\n",
       "      <td>030050-99999</td>\n",
       "    </tr>\n",
       "  </tbody>\n",
       "</table>\n",
       "</div>"
      ],
      "text/plain": [
       "      CALL CTRY     LAT      LONG   STATION    USAF   WBAN            ID\n",
       "1180  NaN   UK   60.850  -000.883  NaN       030010  99999  030010-99999\n",
       "1181  EGPW  UK   60.750  -000.850  NaN       030020  99999  030020-99999\n",
       "1182  EGPB  UK   59.879  -001.296  SUMBURGH  030030  99999  030030-99999\n",
       "1184  NaN   UK   60.533  -001.383  NaN       030040  99999  030040-99999\n",
       "1185  NaN   UK   60.133  -001.183  LERWICK   030050  99999  030050-99999"
      ]
     },
     "execution_count": 316,
     "metadata": {},
     "output_type": "execute_result"
    }
   ],
   "source": [
    "stationdf.head()"
   ]
  },
  {
   "cell_type": "code",
   "execution_count": 317,
   "metadata": {
    "collapsed": true
   },
   "outputs": [],
   "source": [
    "stationdf_subset=stationdf[pd.notnull(stationdf['CALL'])]"
   ]
  },
  {
   "cell_type": "code",
   "execution_count": 318,
   "metadata": {
    "collapsed": false
   },
   "outputs": [
    {
     "data": {
      "text/html": [
       "<div>\n",
       "<table border=\"1\" class=\"dataframe\">\n",
       "  <thead>\n",
       "    <tr style=\"text-align: right;\">\n",
       "      <th></th>\n",
       "      <th>CALL</th>\n",
       "      <th>CTRY</th>\n",
       "      <th>LAT</th>\n",
       "      <th>LONG</th>\n",
       "      <th>STATION</th>\n",
       "      <th>USAF</th>\n",
       "      <th>WBAN</th>\n",
       "      <th>ID</th>\n",
       "    </tr>\n",
       "  </thead>\n",
       "  <tbody>\n",
       "    <tr>\n",
       "      <th>1181</th>\n",
       "      <td>EGPW</td>\n",
       "      <td>UK</td>\n",
       "      <td>60.750</td>\n",
       "      <td>-000.850</td>\n",
       "      <td>NaN</td>\n",
       "      <td>030020</td>\n",
       "      <td>99999</td>\n",
       "      <td>030020-99999</td>\n",
       "    </tr>\n",
       "    <tr>\n",
       "      <th>1182</th>\n",
       "      <td>EGPB</td>\n",
       "      <td>UK</td>\n",
       "      <td>59.879</td>\n",
       "      <td>-001.296</td>\n",
       "      <td>SUMBURGH</td>\n",
       "      <td>030030</td>\n",
       "      <td>99999</td>\n",
       "      <td>030030-99999</td>\n",
       "    </tr>\n",
       "    <tr>\n",
       "      <th>1187</th>\n",
       "      <td>EGPM</td>\n",
       "      <td>UK</td>\n",
       "      <td>60.433</td>\n",
       "      <td>-001.296</td>\n",
       "      <td>SCATSTA</td>\n",
       "      <td>030064</td>\n",
       "      <td>99999</td>\n",
       "      <td>030064-99999</td>\n",
       "    </tr>\n",
       "    <tr>\n",
       "      <th>1196</th>\n",
       "      <td>EGPA</td>\n",
       "      <td>UK</td>\n",
       "      <td>58.958</td>\n",
       "      <td>-002.905</td>\n",
       "      <td>KIRKWALL</td>\n",
       "      <td>030170</td>\n",
       "      <td>99999</td>\n",
       "      <td>030170-99999</td>\n",
       "    </tr>\n",
       "    <tr>\n",
       "      <th>1197</th>\n",
       "      <td>EGOW</td>\n",
       "      <td>UK</td>\n",
       "      <td>53.582</td>\n",
       "      <td>-003.056</td>\n",
       "      <td>WOODVALE</td>\n",
       "      <td>030180</td>\n",
       "      <td>99999</td>\n",
       "      <td>030180-99999</td>\n",
       "    </tr>\n",
       "  </tbody>\n",
       "</table>\n",
       "</div>"
      ],
      "text/plain": [
       "      CALL CTRY     LAT      LONG   STATION    USAF   WBAN            ID\n",
       "1181  EGPW  UK   60.750  -000.850  NaN       030020  99999  030020-99999\n",
       "1182  EGPB  UK   59.879  -001.296  SUMBURGH  030030  99999  030030-99999\n",
       "1187  EGPM  UK   60.433  -001.296  SCATSTA   030064  99999  030064-99999\n",
       "1196  EGPA  UK   58.958  -002.905  KIRKWALL  030170  99999  030170-99999\n",
       "1197  EGOW  UK   53.582  -003.056  WOODVALE  030180  99999  030180-99999"
      ]
     },
     "execution_count": 318,
     "metadata": {},
     "output_type": "execute_result"
    }
   ],
   "source": [
    "stationdf_subset.head()"
   ]
  },
  {
   "cell_type": "code",
   "execution_count": 319,
   "metadata": {
    "collapsed": false
   },
   "outputs": [],
   "source": [
    "possibleStations = pd.read_csv('tempdata/WeatherStationList.csv',header=None)\n",
    "possibleStations = [i[:-8] for i in possibleStations[0]]\n",
    "mask = stationdf_subset['ID'].isin(possibleStations)\n",
    "stationdf_subset = stationdf_subset[mask]"
   ]
  },
  {
   "cell_type": "code",
   "execution_count": 320,
   "metadata": {
    "collapsed": false
   },
   "outputs": [],
   "source": [
    "#Make a dictionary of latitiude and longitude of all weather stations with data\n",
    "latlong_lookup = [(c,x,y) for c,x,y in zip(stationdf_subset['ID'],stationdf_subset['LAT'],stationdf_subset['LONG'])]"
   ]
  },
  {
   "cell_type": "code",
   "execution_count": 321,
   "metadata": {
    "collapsed": false
   },
   "outputs": [],
   "source": [
    "#Loop through all our cities with latitude and longitude\n",
    "#Keep track of the city with station data that has closest\n",
    "#euclidean distance to that city\n",
    "best = {}\n",
    "for city, la, lo in zip(UKFrame['City'],UKFrame['Latitude'],UKFrame['Longitude']):\n",
    "    point1 = np.array((float(la),float(lo)))\n",
    "    best[city] = ('ABC',1000)\n",
    "    for lookup in latlong_lookup:\n",
    "        point2 = np.array((float(lookup[1]),float(lookup[2])))\n",
    "        dist = np.linalg.norm(point1-point2)\n",
    "        if dist < best[city][1]:\n",
    "            best[city] = (lookup[0],dist)"
   ]
  },
  {
   "cell_type": "code",
   "execution_count": 322,
   "metadata": {
    "collapsed": false
   },
   "outputs": [
    {
     "data": {
      "text/plain": [
       "{nan: ('ABC', 1000),\n",
       " u'Aberdeen': ('030910-99999', 0.10096657862877299),\n",
       " u'Blackpool': ('033180-99999', 0.047231044927444399),\n",
       " u'Bristol': ('036283-99999', 0.069424619392382397),\n",
       " u'Edinburgh': ('031600-99999', 0.18413646476002832),\n",
       " u'Exeter': ('038390-99999', 0.12058560813334576),\n",
       " u'Leeds': ('033463-99999', 0.12999783948821977),\n",
       " u'Leicester': ('034185-99999', 0.27743014215834788),\n",
       " u'London': ('037790-99999', 0.012744037579480153),\n",
       " u'Norwich': ('034920-99999', 0.049587184724375746),\n",
       " u'Nottingham': ('034185-99999', 0.22815808359799811),\n",
       " u'Plymouth': ('038270-99999', 0.033070207211325142),\n",
       " u'Portsmouth': ('038650-99999', 0.30441963763528795),\n",
       " u'Sheffield': ('034054-99999', 0.47187867895712554),\n",
       " u'Southampton': ('037970-35047', 0.4549604378404814),\n",
       " u'Thurrock': ('036913-99999', 0.28821539013576425),\n",
       " u'York': ('033550-99999', 0.16985408589088158)}"
      ]
     },
     "execution_count": 322,
     "metadata": {},
     "output_type": "execute_result"
    }
   ],
   "source": [
    "#Look at distances of station for site\n",
    "best"
   ]
  },
  {
   "cell_type": "code",
   "execution_count": 323,
   "metadata": {
    "collapsed": true
   },
   "outputs": [],
   "source": [
    "toDF = {'City':[],'GB_ID':[]}\n",
    "for i,j in zip(best.keys()[1:],best.values()[1:]):\n",
    "    toDF['City'].append(i)\n",
    "    toDF['GB_ID'].append(j[0])\n",
    "skeletonFrame = pd.DataFrame(toDF)"
   ]
  },
  {
   "cell_type": "code",
   "execution_count": 324,
   "metadata": {
    "collapsed": false
   },
   "outputs": [],
   "source": [
    "skeletonFrame['l_ID']=skeletonFrame['GB_ID']+'-2010'"
   ]
  },
  {
   "cell_type": "code",
   "execution_count": 325,
   "metadata": {
    "collapsed": false
   },
   "outputs": [],
   "source": [
    "#Fix weird station\n",
    "skeletonFrame.loc[0,'l_ID'] = '037970-35047-2010'"
   ]
  },
  {
   "cell_type": "code",
   "execution_count": 326,
   "metadata": {
    "collapsed": false
   },
   "outputs": [
    {
     "data": {
      "text/html": [
       "<div>\n",
       "<table border=\"1\" class=\"dataframe\">\n",
       "  <thead>\n",
       "    <tr style=\"text-align: right;\">\n",
       "      <th></th>\n",
       "      <th>City</th>\n",
       "      <th>GB_ID</th>\n",
       "      <th>l_ID</th>\n",
       "    </tr>\n",
       "  </thead>\n",
       "  <tbody>\n",
       "    <tr>\n",
       "      <th>0</th>\n",
       "      <td>Southampton</td>\n",
       "      <td>037970-35047</td>\n",
       "      <td>037970-35047-2010</td>\n",
       "    </tr>\n",
       "    <tr>\n",
       "      <th>1</th>\n",
       "      <td>Portsmouth</td>\n",
       "      <td>038650-99999</td>\n",
       "      <td>038650-99999-2010</td>\n",
       "    </tr>\n",
       "    <tr>\n",
       "      <th>2</th>\n",
       "      <td>Edinburgh</td>\n",
       "      <td>031600-99999</td>\n",
       "      <td>031600-99999-2010</td>\n",
       "    </tr>\n",
       "    <tr>\n",
       "      <th>3</th>\n",
       "      <td>Sheffield</td>\n",
       "      <td>034054-99999</td>\n",
       "      <td>034054-99999-2010</td>\n",
       "    </tr>\n",
       "    <tr>\n",
       "      <th>4</th>\n",
       "      <td>Norwich</td>\n",
       "      <td>034920-99999</td>\n",
       "      <td>034920-99999-2010</td>\n",
       "    </tr>\n",
       "    <tr>\n",
       "      <th>5</th>\n",
       "      <td>Plymouth</td>\n",
       "      <td>038270-99999</td>\n",
       "      <td>038270-99999-2010</td>\n",
       "    </tr>\n",
       "    <tr>\n",
       "      <th>6</th>\n",
       "      <td>Nottingham</td>\n",
       "      <td>034185-99999</td>\n",
       "      <td>034185-99999-2010</td>\n",
       "    </tr>\n",
       "    <tr>\n",
       "      <th>7</th>\n",
       "      <td>Blackpool</td>\n",
       "      <td>033180-99999</td>\n",
       "      <td>033180-99999-2010</td>\n",
       "    </tr>\n",
       "    <tr>\n",
       "      <th>8</th>\n",
       "      <td>London</td>\n",
       "      <td>037790-99999</td>\n",
       "      <td>037790-99999-2010</td>\n",
       "    </tr>\n",
       "    <tr>\n",
       "      <th>9</th>\n",
       "      <td>York</td>\n",
       "      <td>033550-99999</td>\n",
       "      <td>033550-99999-2010</td>\n",
       "    </tr>\n",
       "    <tr>\n",
       "      <th>10</th>\n",
       "      <td>Bristol</td>\n",
       "      <td>036283-99999</td>\n",
       "      <td>036283-99999-2010</td>\n",
       "    </tr>\n",
       "    <tr>\n",
       "      <th>11</th>\n",
       "      <td>Leeds</td>\n",
       "      <td>033463-99999</td>\n",
       "      <td>033463-99999-2010</td>\n",
       "    </tr>\n",
       "    <tr>\n",
       "      <th>12</th>\n",
       "      <td>Aberdeen</td>\n",
       "      <td>030910-99999</td>\n",
       "      <td>030910-99999-2010</td>\n",
       "    </tr>\n",
       "    <tr>\n",
       "      <th>13</th>\n",
       "      <td>Leicester</td>\n",
       "      <td>034185-99999</td>\n",
       "      <td>034185-99999-2010</td>\n",
       "    </tr>\n",
       "    <tr>\n",
       "      <th>14</th>\n",
       "      <td>Thurrock</td>\n",
       "      <td>036913-99999</td>\n",
       "      <td>036913-99999-2010</td>\n",
       "    </tr>\n",
       "    <tr>\n",
       "      <th>15</th>\n",
       "      <td>Exeter</td>\n",
       "      <td>038390-99999</td>\n",
       "      <td>038390-99999-2010</td>\n",
       "    </tr>\n",
       "  </tbody>\n",
       "</table>\n",
       "</div>"
      ],
      "text/plain": [
       "           City         GB_ID               l_ID\n",
       "0   Southampton  037970-35047  037970-35047-2010\n",
       "1   Portsmouth   038650-99999  038650-99999-2010\n",
       "2   Edinburgh    031600-99999  031600-99999-2010\n",
       "3   Sheffield    034054-99999  034054-99999-2010\n",
       "4   Norwich      034920-99999  034920-99999-2010\n",
       "5   Plymouth     038270-99999  038270-99999-2010\n",
       "6   Nottingham   034185-99999  034185-99999-2010\n",
       "7   Blackpool    033180-99999  033180-99999-2010\n",
       "8   London       037790-99999  037790-99999-2010\n",
       "9   York         033550-99999  033550-99999-2010\n",
       "10  Bristol      036283-99999  036283-99999-2010\n",
       "11  Leeds        033463-99999  033463-99999-2010\n",
       "12  Aberdeen     030910-99999  030910-99999-2010\n",
       "13  Leicester    034185-99999  034185-99999-2010\n",
       "14  Thurrock     036913-99999  036913-99999-2010\n",
       "15  Exeter       038390-99999  038390-99999-2010"
      ]
     },
     "execution_count": 326,
     "metadata": {},
     "output_type": "execute_result"
    }
   ],
   "source": [
    "skeletonFrame"
   ]
  },
  {
   "cell_type": "code",
   "execution_count": null,
   "metadata": {
    "collapsed": false
   },
   "outputs": [],
   "source": []
  },
  {
   "cell_type": "code",
   "execution_count": 329,
   "metadata": {
    "collapsed": false
   },
   "outputs": [],
   "source": [
    "import urllib2\n",
    "import zlib\n",
    "\n",
    "site_list = []\n",
    "temp_sites = []\n",
    "rh_sites = []\n",
    "pressure_sites = []\n",
    "wind_sites = []\n",
    "for site in skeletonFrame['l_ID']:\n",
    "    #Help from this post for dealing with tar.gz files\n",
    "    #http://stackoverflow.com/questions/2695152/in-python-how-do-i-decode-gzip-encoding\n",
    "    try:\n",
    "        f=urllib2.urlopen('ftp://ftp.ncdc.noaa.gov/pub/data/noaa/2010/'+site+'.gz') \n",
    "        decompressed_data=zlib.decompress(f.read(), 16+zlib.MAX_WBITS)\n",
    "        a = decompressed_data.split(';\\n')\n",
    "    except:\n",
    "        continue\n",
    "    tvar =[]\n",
    "    usaf = []\n",
    "    wban = []\n",
    "    date = []\n",
    "    gtime = []\n",
    "    flag =[]\n",
    "    glat = []\n",
    "    glong = []\n",
    "    gtype =[]\n",
    "    elev = []\n",
    "    call = []\n",
    "    qc = []\n",
    "    winddir = []\n",
    "    winddir_qc = []\n",
    "    wind_type = []\n",
    "    windspeed = []\n",
    "    windspeed_qc = []\n",
    "    cheight = []\n",
    "    cheight_qc = []\n",
    "    cheight_det = []\n",
    "    cheight_cavok = []\n",
    "    visdist = []\n",
    "    visdist_qc = []\n",
    "    visvar = []\n",
    "    visvar_qc = []\n",
    "    temp = []\n",
    "    temp_qc = []\n",
    "    dewpoint = []\n",
    "    dewpoint_qc = []\n",
    "    press = []\n",
    "    press_qc = []\n",
    "    press2 = []\n",
    "    rh = []\n",
    "\n",
    "    for row in a:\n",
    "        tvar.append(row[0:4])\n",
    "        usaf.append(row[4:10])\n",
    "        wban.append(row[10:15])\n",
    "        date.append(row[15:23])\n",
    "        gtime.append(row[23:27])\n",
    "        flag.append(row[27:28])\n",
    "        glat.append(row[28:34])\n",
    "        glong.append(row[34:41])\n",
    "        gtype.append(row[41:46])\n",
    "        elev.append(row[46:51])\n",
    "        call.append(row[51:56])\n",
    "        qc.append(row[56:60])\n",
    "        winddir.append(row[60:63])\n",
    "        winddir_qc.append(row[63:64])\n",
    "        wind_type.append(row[64:65])\n",
    "        windspeed.append(row[65:69])\n",
    "        windspeed_qc.append(row[69:70])\n",
    "        cheight.append(row[70:75])\n",
    "        cheight_qc.append(row[75:76])\n",
    "        cheight_det.append(row[76:77])\n",
    "        cheight_cavok.append(row[77:78])\n",
    "        visdist.append(row[78:84])\n",
    "        visdist_qc.append(row[84:85])\n",
    "        visvar.append(row[85:86])\n",
    "        visvar_qc.append(row[86:87])\n",
    "        temp.append(row[87:92])\n",
    "        temp_qc.append(row[92:93])\n",
    "        dewpoint.append(row[93:98])\n",
    "        dewpoint_qc.append(row[98:99])\n",
    "        press.append(row[99:104])\n",
    "        press_qc.append(row[104:105])\n",
    "        match = re.search(r'MA1[0-9]{5}.{7}',a[1])\n",
    "        if match:\n",
    "            press2.append(match.group()[-6:-1])\n",
    "        else:\n",
    "            press2.append(None)\n",
    "        match = re.search(r'CH1[0-9]{13}',a[1])\n",
    "        if match:\n",
    "            rh.append(match.group()[-4:])\n",
    "        else:\n",
    "            rh.append(None)\n",
    "    #Make better cleaned dataframe\n",
    "    frameDict={}\n",
    "    frameDict['tvar']=tvar\n",
    "    frameDict[\"usaf\"]=usaf\n",
    "    frameDict['wban']=wban\n",
    "    frameDict['date']=date\n",
    "    frameDict['time']=gtime\n",
    "    frameDict['flag']=flag\n",
    "    frameDict['lat']=glat\n",
    "    frameDict['long']=glong\n",
    "    frameDict['type']=gtype\n",
    "    frameDict['elev']=elev\n",
    "    frameDict['call']=call\n",
    "    frameDict['qc']=qc\n",
    "    frameDict['winddir']=winddir\n",
    "    frameDict['winddir_qc']=winddir_qc\n",
    "    frameDict['wind_type']=wind_type\n",
    "    frameDict['windspeed']=windspeed\n",
    "    frameDict['windspeed_qc']=windspeed_qc\n",
    "    frameDict['cheight']=cheight\n",
    "    frameDict['cheight_qc']=cheight_qc\n",
    "    frameDict['cheight_det']=cheight_det\n",
    "    frameDict['cheight_cavok']=cheight_cavok\n",
    "    frameDict['visdist']=visdist\n",
    "    frameDict['visdist_qc']=visdist_qc\n",
    "    frameDict['visvar']=visvar\n",
    "    frameDict['visvar_qc']=visvar_qc\n",
    "    frameDict['temp']=temp\n",
    "    frameDict['temp_qc']=temp_qc\n",
    "    frameDict['dewpoint']=dewpoint\n",
    "    frameDict['dewpoint_qc']=dewpoint_qc\n",
    "    frameDict['press']=press\n",
    "    frameDict['press_qc']=press_qc\n",
    "    frameDict['press2']=press2\n",
    "    frameDict['rh']=rh\n",
    "    df_stat=pd.DataFrame(frameDict)\n",
    "\n",
    "    df_stat = df_stat.replace('99999',np.nan)\n",
    "    df_stat = df_stat.replace('9999',np.nan)\n",
    "    df_stat['month']=[i[4:6] for i in df_stat['date']]\n",
    "    df_stat['temp'] = [(float(i)/10)*(float(9)/5)+32 if i !='' else np.nan  for i in df_stat['temp']]\n",
    "    df_stat['windspeed'] = [(float(i)/10)*1.94384 if i !='' else np.nan for i in df_stat['windspeed']]\n",
    "    df_stat['rh'] = [(float(i)/10) if i else np.nan for i in df_stat['rh']]\n",
    "    df_stat['press'] = [(float(i)/10) if i else np.nan for i in df_stat['press']]\n",
    "    meanList = df_stat.mean()\n",
    "    site_list.append(site)\n",
    "    temp_sites.append(meanList['temp'])\n",
    "    rh_sites.append(meanList['rh'])\n",
    "    pressure_sites.append(meanList['press'])\n",
    "    wind_sites.append(meanList['windspeed'])"
   ]
  },
  {
   "cell_type": "code",
   "execution_count": 330,
   "metadata": {
    "collapsed": false
   },
   "outputs": [
    {
     "data": {
      "text/html": [
       "<div>\n",
       "<table border=\"1\" class=\"dataframe\">\n",
       "  <thead>\n",
       "    <tr style=\"text-align: right;\">\n",
       "      <th></th>\n",
       "      <th>Pressure</th>\n",
       "      <th>RH</th>\n",
       "      <th>Site</th>\n",
       "      <th>Temp</th>\n",
       "      <th>Wind</th>\n",
       "    </tr>\n",
       "  </thead>\n",
       "  <tbody>\n",
       "    <tr>\n",
       "      <th>0</th>\n",
       "      <td>1014.029683</td>\n",
       "      <td>NaN</td>\n",
       "      <td>037970-35047-2010</td>\n",
       "      <td>51.608239</td>\n",
       "      <td>10.418378</td>\n",
       "    </tr>\n",
       "    <tr>\n",
       "      <th>1</th>\n",
       "      <td>NaN</td>\n",
       "      <td>NaN</td>\n",
       "      <td>038650-99999-2010</td>\n",
       "      <td>50.555445</td>\n",
       "      <td>6.300701</td>\n",
       "    </tr>\n",
       "    <tr>\n",
       "      <th>2</th>\n",
       "      <td>NaN</td>\n",
       "      <td>NaN</td>\n",
       "      <td>031600-99999-2010</td>\n",
       "      <td>46.163216</td>\n",
       "      <td>7.044762</td>\n",
       "    </tr>\n",
       "    <tr>\n",
       "      <th>3</th>\n",
       "      <td>NaN</td>\n",
       "      <td>NaN</td>\n",
       "      <td>034054-99999-2010</td>\n",
       "      <td>49.813660</td>\n",
       "      <td>8.215988</td>\n",
       "    </tr>\n",
       "    <tr>\n",
       "      <th>4</th>\n",
       "      <td>NaN</td>\n",
       "      <td>NaN</td>\n",
       "      <td>034920-99999-2010</td>\n",
       "      <td>52.186526</td>\n",
       "      <td>8.175681</td>\n",
       "    </tr>\n",
       "    <tr>\n",
       "      <th>5</th>\n",
       "      <td>1014.061592</td>\n",
       "      <td>NaN</td>\n",
       "      <td>038270-99999-2010</td>\n",
       "      <td>52.945117</td>\n",
       "      <td>8.887376</td>\n",
       "    </tr>\n",
       "    <tr>\n",
       "      <th>6</th>\n",
       "      <td>NaN</td>\n",
       "      <td>NaN</td>\n",
       "      <td>034185-99999-2010</td>\n",
       "      <td>48.408559</td>\n",
       "      <td>8.400418</td>\n",
       "    </tr>\n",
       "    <tr>\n",
       "      <th>7</th>\n",
       "      <td>NaN</td>\n",
       "      <td>NaN</td>\n",
       "      <td>033180-99999-2010</td>\n",
       "      <td>50.311828</td>\n",
       "      <td>9.641359</td>\n",
       "    </tr>\n",
       "    <tr>\n",
       "      <th>8</th>\n",
       "      <td>1015.611503</td>\n",
       "      <td>NaN</td>\n",
       "      <td>037790-99999-2010</td>\n",
       "      <td>38.194150</td>\n",
       "      <td>NaN</td>\n",
       "    </tr>\n",
       "    <tr>\n",
       "      <th>9</th>\n",
       "      <td>1013.578047</td>\n",
       "      <td>NaN</td>\n",
       "      <td>033550-99999-2010</td>\n",
       "      <td>48.125950</td>\n",
       "      <td>7.501682</td>\n",
       "    </tr>\n",
       "    <tr>\n",
       "      <th>10</th>\n",
       "      <td>NaN</td>\n",
       "      <td>NaN</td>\n",
       "      <td>036283-99999-2010</td>\n",
       "      <td>52.639843</td>\n",
       "      <td>8.680220</td>\n",
       "    </tr>\n",
       "    <tr>\n",
       "      <th>11</th>\n",
       "      <td>NaN</td>\n",
       "      <td>NaN</td>\n",
       "      <td>033463-99999-2010</td>\n",
       "      <td>46.301929</td>\n",
       "      <td>8.008546</td>\n",
       "    </tr>\n",
       "    <tr>\n",
       "      <th>12</th>\n",
       "      <td>1012.413027</td>\n",
       "      <td>NaN</td>\n",
       "      <td>030910-99999-2010</td>\n",
       "      <td>45.831209</td>\n",
       "      <td>8.190111</td>\n",
       "    </tr>\n",
       "    <tr>\n",
       "      <th>13</th>\n",
       "      <td>NaN</td>\n",
       "      <td>NaN</td>\n",
       "      <td>034185-99999-2010</td>\n",
       "      <td>48.408559</td>\n",
       "      <td>8.400418</td>\n",
       "    </tr>\n",
       "    <tr>\n",
       "      <th>14</th>\n",
       "      <td>NaN</td>\n",
       "      <td>NaN</td>\n",
       "      <td>036913-99999-2010</td>\n",
       "      <td>50.879738</td>\n",
       "      <td>6.890865</td>\n",
       "    </tr>\n",
       "    <tr>\n",
       "      <th>15</th>\n",
       "      <td>NaN</td>\n",
       "      <td>NaN</td>\n",
       "      <td>038390-99999-2010</td>\n",
       "      <td>50.101604</td>\n",
       "      <td>7.501744</td>\n",
       "    </tr>\n",
       "  </tbody>\n",
       "</table>\n",
       "</div>"
      ],
      "text/plain": [
       "       Pressure  RH               Site       Temp       Wind\n",
       "0   1014.029683 NaN  037970-35047-2010  51.608239  10.418378\n",
       "1  NaN          NaN  038650-99999-2010  50.555445  6.300701 \n",
       "2  NaN          NaN  031600-99999-2010  46.163216  7.044762 \n",
       "3  NaN          NaN  034054-99999-2010  49.813660  8.215988 \n",
       "4  NaN          NaN  034920-99999-2010  52.186526  8.175681 \n",
       "5   1014.061592 NaN  038270-99999-2010  52.945117  8.887376 \n",
       "6  NaN          NaN  034185-99999-2010  48.408559  8.400418 \n",
       "7  NaN          NaN  033180-99999-2010  50.311828  9.641359 \n",
       "8   1015.611503 NaN  037790-99999-2010  38.194150 NaN       \n",
       "9   1013.578047 NaN  033550-99999-2010  48.125950  7.501682 \n",
       "10 NaN          NaN  036283-99999-2010  52.639843  8.680220 \n",
       "11 NaN          NaN  033463-99999-2010  46.301929  8.008546 \n",
       "12  1012.413027 NaN  030910-99999-2010  45.831209  8.190111 \n",
       "13 NaN          NaN  034185-99999-2010  48.408559  8.400418 \n",
       "14 NaN          NaN  036913-99999-2010  50.879738  6.890865 \n",
       "15 NaN          NaN  038390-99999-2010  50.101604  7.501744 "
      ]
     },
     "execution_count": 330,
     "metadata": {},
     "output_type": "execute_result"
    }
   ],
   "source": [
    "toFrame = {'Site':site_list,'Temp':temp_sites,'RH':rh_sites,'Pressure':pressure_sites,'Wind':wind_sites}\n",
    "pd.DataFrame(toFrame)"
   ]
  },
  {
   "cell_type": "code",
   "execution_count": null,
   "metadata": {
    "collapsed": true
   },
   "outputs": [],
   "source": []
  }
 ],
 "metadata": {
  "kernelspec": {
   "display_name": "Python 2",
   "language": "python",
   "name": "python2"
  },
  "language_info": {
   "codemirror_mode": {
    "name": "ipython",
    "version": 2
   },
   "file_extension": ".py",
   "mimetype": "text/x-python",
   "name": "python",
   "nbconvert_exporter": "python",
   "pygments_lexer": "ipython2",
   "version": "2.7.10"
  }
 },
 "nbformat": 4,
 "nbformat_minor": 0
}
