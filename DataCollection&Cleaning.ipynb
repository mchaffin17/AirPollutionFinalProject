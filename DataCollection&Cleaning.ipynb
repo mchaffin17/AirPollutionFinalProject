{
 "cells": [
  {
   "cell_type": "markdown",
   "metadata": {},
   "source": [
    "#Data Collection and Cleaning"
   ]
  },
  {
   "cell_type": "markdown",
   "metadata": {},
   "source": [
    "##Data Sources"
   ]
  },
  {
   "cell_type": "markdown",
   "metadata": {},
   "source": [
    "Data used for this project came from a variety of different resources. The four main types of information collected were:\n",
    "1. Air Quality Data\n",
    "2. Weather Data\n",
    "3. Demographic Data\n",
    "4. Transport Data\n",
    "\n",
    "**Air Quality Data**<br>\n",
    "Our primary objective is to assess air quality in cities across the US. Air quality data was gathered from the EPA website http://aqsdr1.epa.gov/aqsweb/aqstmp/airdata/download_files.html. There is a separate file, for a separate pollutant, for each year from 1990 - 2015. For this analysis, we've focused on the 2010 data as it seemed most complete and we could find matching US census data for that year. We were interested in the main pollutants which are PM2.5, PM10, CO, NO2, SO2, and Ozone. These files were all csv formatted and we cleaned these data to get our final dataset. Data are collected at the daily level, so averages were taken at the monthly, seasonal, and yearly level.\n",
    "\n",
    "For validation, European Air Quality Data can be gathered from http://www.eea.europa.eu/data-and-maps/data/. For this analysis, we will only be looking at French Data to keep the things more compact. There are many forms of this data, including raw daily files from a large range of years. There are also aggerated files for the year which we will take advantage of.\n",
    "\n",
    "**Weather Data**<br>\n",
    "While there are many possible sources of weather data, there is a good starting point at the same EPA site listed above. The data has the same format as the pollutant data in that there is a separate file for each type of meterological data for each year. Again, we've downloaded the 2010 data and cleaned that by taking the average reading of each element for each day. Then we took an average of those average values over a given time period -- either season, month, or year. \n",
    "\n",
    "A secondary weather data collection process was done for US cities as a result of missing data in the EPA weather files. This was done by taking information from ftp://ftp.ncdc.noaa.gov/pub/data/ghcn/daily/by_year/, subset to US cities. The detailed process is included in the steps later in this notebook.\n",
    "\n",
    "European weather data can be obtained from the same link ftp://ftp.ncdc.noaa.gov/pub/data/ghcn/daily/by_year/.\n",
    "\n",
    "**Demographic Data**<br>\n",
    "We can collect Core-Based Statistical Area (CBSA) demographic data like population size and population density fom the US census at: http://www.census.gov/population/metro/data/pop_data.html. A CBSA is a metropolitan or micropolitan area and these codes are found in the EPA pollutant data so they are easy to match. The census data includes more information about what towns/cities fall in each CBSA as well as basic population statistics. These data are from 2010 and will therefore be consistent with the Air Quality Data.\n",
    "\n",
    "French demographic data can be obtained from Wikipedia by scraping the relevant urban area entries. This has been the approach employed here.\n",
    "\n",
    "**Transport Data**<br>\n",
    "US commuter transport data can be obtained for 2009-2013 at http://www.census.gov/hhes/commuting/. While the year does not line up perfectly with the other datasets, it is close and probably fairly comparable. We have subset the data to get counts and fractions of people commuting *into* each particular region daily. This should give a general feel for how commuting in the particular region works although it may not be the perfect metric.\n",
    "\n",
    "European transit data can be obtained from: http://epomm.eu/tems/. While France transit data spans 2000-2013, the average year is around 2006. By filtering out particularly old data (prior to 2003) the transit data should be fairly comparable in its time scale to the other data collected. This isn't a perfect comparison, but if we assume that transit styles don't change dramatically over time, which seems reasonable, it should provide a ballpark guess.\n",
    "\n",
    "*Note: All files that are referenced in the tempdata folder in this code are not included in the github repository due to their size. They can be found at the following dropbox link:* \n",
    "https://www.dropbox.com/sh/cd95rdgrbm9cpz7/AAAG9758zR1tUMvGsxKtIJzXa?dl=0\n",
    "\n",
    "*The following outlines the data in this folder and their source:*\n",
    "\n",
    "1. AirBase_FR_v8_stations.csv -- French Air Quality Station (http://www.eea.europa.eu/data-and-maps/data/)\n",
    "2. AirBase_FR_v8_statistics.csv -- French Air Quality Data (http://www.eea.europa.eu/data-and-maps/data/)\n",
    "3. CBSA_Chapter1PrinCities.csv -- CBSA information (http://www.census.gov/population/metro/data/pop_data.html)\n",
    "4. CBSA_density.csv -- CBSA density info (http://www.census.gov/population/metro/data/pop_data.html)\n",
    "5. census_commute_2009_2013.xlsx -- US commuting data (http://www.census.gov/hhes/commuting/)\n",
    "6. co_2010.csv -- US Air Quality Data CO from 2010 (http://aqsdr1.epa.gov/aqsweb/aqstmp/airdata/download_files.html)\n",
    "7. no2_2010.csv -- US Air Quality Data NO2 from 2010 (http://aqsdr1.epa.gov/aqsweb/aqstmp/airdata/download_files.html)\n",
    "8. ozone_2010.csv -- US Air Quality Data ozone from 2010 (http://aqsdr1.epa.gov/aqsweb/aqstmp/airdata/download_files.html)\n",
    "9. so2_2010.csv -- US Air Quality Data SO2 from 2010 (http://aqsdr1.epa.gov/aqsweb/aqstmp/airdata/download_files.html)\n",
    "10. pm2.5frmfem_2010.csv -- US Air Quality Data PM2.5 based on FRM/FEM methods from 2010 (http://aqsdr1.epa.gov/aqsweb/aqstmp/airdata/download_files.html)\n",
    "11. pm2.5_non_frmfem_2010.csv -- US Air Quality Data PM2.5 not based on FRM/FEM methods from 2010 (not really used in analyis) (http://aqsdr1.epa.gov/aqsweb/aqstmp/airdata/download_files.html)\n",
    "12. pm10_2010.csv -- US Air Quality Data PM10 from 2010 (http://aqsdr1.epa.gov/aqsweb/aqstmp/airdata/download_files.html)\n",
    "13. france_transit.xlsx -- France commuting styles (http://epomm.eu/tems/)\n",
    "14. press_2010.csv -- US Air Pressure Data 2010 from EPA (http://aqsdr1.epa.gov/aqsweb/aqstmp/airdata/download_files.html)\n",
    "15. temp_2010.csv -- US Temperature Data 2010 from EPA (http://aqsdr1.epa.gov/aqsweb/aqstmp/airdata/download_files.html)\n",
    "16. rh_dp_2010.csv -- US Relative Humidity and Dewpoint Data 2010 from EPA (http://aqsdr1.epa.gov/aqsweb/aqstmp/airdata/download_files.html)\n",
    "17. wind_2010.csv -- US Wind Data 2010 from EPA (http://aqsdr1.epa.gov/aqsweb/aqstmp/airdata/download_files.html)\n",
    "18. WeatherStationList.csv -- A file that lists all weather stations available from ftp://ftp.ncdc.noaa.gov/pub/data/noaa/2010/\n",
    "19. france2015.txt -- A file that has INSEE codes that map to city names in France (http://www.insee.fr/fr/methodes/nomenclatures/cog/telechargement.asp)\n",
    "20. franceAir_raw/ -- A folder with the raw data we will use for monthly and seasonal aggregation in France. (http://www.eea.europa.eu/data-and-maps/data/airbase-the-european-air-quality-database-8#tab-additional-information)"
   ]
  },
  {
   "cell_type": "code",
   "execution_count": 1,
   "metadata": {
    "collapsed": true
   },
   "outputs": [],
   "source": [
    "%matplotlib inline\n",
    "import numpy as np\n",
    "import scipy as sp\n",
    "import matplotlib as mpl\n",
    "import matplotlib.cm as cm\n",
    "import matplotlib.pyplot as plt\n",
    "import pandas as pd\n",
    "pd.set_option('display.width', 500)\n",
    "pd.set_option('display.max_columns', 100)\n",
    "pd.set_option('display.notebook_repr_html', True)\n",
    "pd.set_option('display.max_colwidth', -1)\n",
    "import seaborn as sns\n",
    "sns.set_style(\"whitegrid\")\n",
    "sns.set_context(\"poster\")\n",
    "import csv\n",
    "import urllib\n",
    "import time"
   ]
  },
  {
   "cell_type": "markdown",
   "metadata": {},
   "source": [
    "#Data Cleaning"
   ]
  },
  {
   "cell_type": "markdown",
   "metadata": {},
   "source": [
    "###United States Data"
   ]
  },
  {
   "cell_type": "markdown",
   "metadata": {},
   "source": [
    "####Air Quality and Weather Data Collection"
   ]
  },
  {
   "cell_type": "markdown",
   "metadata": {},
   "source": [
    "Here we must first read in several different csv files, one for each pollutant and one for each weather measurement. Before we do that, we define a couple helper functions to assign season and month to individual daily data entries."
   ]
  },
  {
   "cell_type": "code",
   "execution_count": 2,
   "metadata": {
    "collapsed": true
   },
   "outputs": [],
   "source": [
    "#Function to get seasonal breadowns. Takes in\n",
    "#a row from one of these csvs and splits the date\n",
    "#column converting it to a datetime.\n",
    "import datetime\n",
    "def seasonMaker(rowIn):\n",
    "    listeddate=[int(x) for x in rowIn.split(\"-\")]\n",
    "    dateInd = datetime.date(listeddate[0],listeddate[1],listeddate[2])\n",
    "    if (dateInd <= datetime.date(2010,3,20)) or (dateInd >= datetime.date(2010,12,21)):\n",
    "        return 'Winter'\n",
    "    elif (dateInd <= datetime.date(2010,6,21)) and (dateInd >= datetime.date(2010,3,21)):\n",
    "        return 'Spring'\n",
    "    elif (dateInd <= datetime.date(2010,9,21)) and (dateInd >= datetime.date(2010,6,22)):\n",
    "        return 'Summer'\n",
    "    elif (dateInd <= datetime.date(2010,12,20)) and (dateInd >= datetime.date(2010,9,22)):\n",
    "        return 'Fall'"
   ]
  },
  {
   "cell_type": "code",
   "execution_count": 3,
   "metadata": {
    "collapsed": true
   },
   "outputs": [],
   "source": [
    "#A similar function to the above, but it assigns month rather than season\n",
    "def monthMaker(rowIn):\n",
    "    listeddate=[int(x) for x in rowIn.split(\"-\")]\n",
    "    return listeddate[1]"
   ]
  },
  {
   "cell_type": "markdown",
   "metadata": {},
   "source": [
    "We now read in all the weather and pollutant data for the US. We want to make 3 dataframes from all this, `SeasonDat`, `YearDat`, and `MonthDat`. These represent the different aggregations of pollution and weather data. Daily observations are too variable to get an overall image without some aggregation."
   ]
  },
  {
   "cell_type": "markdown",
   "metadata": {},
   "source": [
    "**Read in all US air quality files**"
   ]
  },
  {
   "cell_type": "code",
   "execution_count": 4,
   "metadata": {
    "collapsed": false
   },
   "outputs": [],
   "source": [
    "#Read in each file one-by-one and add a variable to denote season and one to denote month\n",
    "#PM2.5_frmfem\n",
    "pm25_frmfem = pd.read_csv(\"tempdata/pm2.5frmfem_2010.csv\")\n",
    "pm25_frmfem['season']=pm25_frmfem.apply(lambda row: seasonMaker(row['Date Local']), axis=1)\n",
    "pm25_frmfem['month']=pm25_frmfem.apply(lambda row: monthMaker(row['Date Local']), axis=1)\n",
    "#PM2.5_no_frmfem\n",
    "pm25_nofrmfem = pd.read_csv(\"tempdata/pm2.5_non_frmfem_2010.csv\")\n",
    "pm25_nofrmfem['season']=pm25_nofrmfem.apply(lambda row: seasonMaker(row['Date Local']), axis=1)\n",
    "pm25_nofrmfem['month']=pm25_nofrmfem.apply(lambda row: monthMaker(row['Date Local']), axis=1)\n",
    "#PM10\n",
    "pm10 = pd.read_csv(\"tempdata/pm10_2010.csv\")\n",
    "pm10['season']=pm10.apply(lambda row: seasonMaker(row['Date Local']), axis=1)\n",
    "pm10['month']=pm10.apply(lambda row: monthMaker(row['Date Local']), axis=1)\n",
    "#TEMP\n",
    "temp = pd.read_csv(\"tempdata/temp_2010.csv\")\n",
    "temp['season']=temp.apply(lambda row: seasonMaker(row['Date Local']), axis=1)\n",
    "temp['month']=temp.apply(lambda row: monthMaker(row['Date Local']), axis=1)\n",
    "#PRESS\n",
    "press = pd.read_csv(\"tempdata/press_2010.csv\")\n",
    "press['season']=press.apply(lambda row: seasonMaker(row['Date Local']), axis=1)\n",
    "press['month']=press.apply(lambda row: monthMaker(row['Date Local']), axis=1)\n",
    "#RH_DP\n",
    "rh_dp = pd.read_csv(\"tempdata/rh_dp_2010.csv\")\n",
    "rh_dp['season']=rh_dp.apply(lambda row: seasonMaker(row['Date Local']), axis=1)\n",
    "rh_dp['month']=rh_dp.apply(lambda row: monthMaker(row['Date Local']), axis=1)\n",
    "rh = rh_dp[rh_dp['Parameter Name']=='Relative Humidity ']\n",
    "dp = rh_dp[rh_dp['Parameter Name']=='Dew Point']\n",
    "#WIND\n",
    "wind = pd.read_csv(\"tempdata/wind_2010.csv\")\n",
    "wind['season']=wind.apply(lambda row: seasonMaker(row['Date Local']), axis=1)\n",
    "wind['month']=wind.apply(lambda row: monthMaker(row['Date Local']), axis=1)\n",
    "wind = wind[wind['Units of Measure']=='Knots']\n",
    "#CO\n",
    "co = pd.read_csv(\"tempdata/co_2010.csv\")\n",
    "co['season']=co.apply(lambda row: seasonMaker(row['Date Local']), axis=1)\n",
    "co['month']=co.apply(lambda row: monthMaker(row['Date Local']), axis=1)\n",
    "co = co[co['Pollutant Standard']=='CO 8-hour 1971']\n",
    "#NO2\n",
    "no2 = pd.read_csv(\"tempdata/no2_2010.csv\")\n",
    "no2['season']=no2.apply(lambda row: seasonMaker(row['Date Local']), axis=1)\n",
    "no2['month']=no2.apply(lambda row: monthMaker(row['Date Local']), axis=1)\n",
    "#OZONE\n",
    "ozone = pd.read_csv(\"tempdata/ozone_2010.csv\")\n",
    "ozone['season']=ozone.apply(lambda row: seasonMaker(row['Date Local']), axis=1)\n",
    "ozone['month']=ozone.apply(lambda row: monthMaker(row['Date Local']), axis=1)\n",
    "#SO2\n",
    "so2 = pd.read_csv(\"tempdata/so2_2010.csv\")\n",
    "so2['season']=so2.apply(lambda row: seasonMaker(row['Date Local']), axis=1)\n",
    "so2['month']=so2.apply(lambda row: monthMaker(row['Date Local']), axis=1)\n",
    "so2 = so2[so2['Pollutant Standard']=='SO2 1-hour 2010']"
   ]
  },
  {
   "cell_type": "markdown",
   "metadata": {},
   "source": [
    "Get all the possible Core-Based Statistical Areas (CBSA). These are used for census data of all areas connected to a metropolitan area or micropolitan area. We will use these as a unit of observation because sites in the same CBSA will likely have very similar pollutant and weather measurements."
   ]
  },
  {
   "cell_type": "code",
   "execution_count": 5,
   "metadata": {
    "collapsed": false
   },
   "outputs": [
    {
     "name": "stdout",
     "output_type": "stream",
     "text": [
      "Number of unique CBSA in all files: 534\n"
     ]
    }
   ],
   "source": [
    "#list files\n",
    "fileList = [pm25_frmfem,pm25_nofrmfem,pm10,temp,press,rh,dp,wind,co,no2,ozone,so2]\n",
    "uniqueCBSA = np.array([])\n",
    "#for each file, add any CBSA to the list\n",
    "for f in fileList:\n",
    "    uniqueCBSA= np.append(uniqueCBSA,f['CBSA Name'].unique())\n",
    "#Subset to just unique CBSA - this is a CBSA that appears in any of our files\n",
    "uniqueCBSA = set(uniqueCBSA)\n",
    "print \"Number of unique CBSA in all files: \"+str(len(uniqueCBSA))"
   ]
  },
  {
   "cell_type": "markdown",
   "metadata": {},
   "source": [
    "What about the ones that didn't have a CBSA identifier? How many were there and what was their Site Location?"
   ]
  },
  {
   "cell_type": "code",
   "execution_count": 6,
   "metadata": {
    "collapsed": false
   },
   "outputs": [
    {
     "name": "stdout",
     "output_type": "stream",
     "text": [
      "Number of Sites with no CBSA: 308\n"
     ]
    }
   ],
   "source": [
    "numDup = pd.DataFrame(columns=['Local Site Name','State Name','County Name','City Name'])\n",
    "#For all the files, if CBSA is empty\n",
    "#append the relevant names into a dataframe\n",
    "for f in fileList:\n",
    "    a=f[pd.isnull(f['CBSA Name'])]\n",
    "    names = a.ix[:,['Local Site Name','State Name','County Name','City Name']]\n",
    "    names = names.drop_duplicates()\n",
    "    numDup = pd.concat([numDup,names])\n",
    "print \"Number of Sites with no CBSA: \" +str(len(numDup.drop_duplicates()))"
   ]
  },
  {
   "cell_type": "code",
   "execution_count": 7,
   "metadata": {
    "collapsed": false
   },
   "outputs": [
    {
     "data": {
      "image/png": "[encoded data removed]",
      "text/plain": [
       "<matplotlib.figure.Figure at 0x25cd1f98>"
      ]
     },
     "metadata": {},
     "output_type": "display_data"
    }
   ],
   "source": [
    "#Get a plot of the states of sites with no CBSA\n",
    "group = numDup.groupby('State Name')\n",
    "f,ax = plt.subplots(figsize=(19,5))\n",
    "ax.bar(range(len(group)),group.count()['Local Site Name'])\n",
    "ax.set_xticks(range(len(group)))\n",
    "ax.grid(False)\n",
    "ax.set_xticklabels(group.count().index,rotation=60,size=13,ha='center')\n",
    "ax.set_title('Location of Dropped Sites By State')\n",
    "ax.set_ylabel('Number of Sites')\n",
    "plt.show()"
   ]
  },
  {
   "cell_type": "markdown",
   "metadata": {},
   "source": [
    "There are some states that have more dropped sites than others. There seems to be slight bias in the more rural areas -- this makes sense at CBSA assignments are for metropolitan and micropolitan areas. The state that loses the most sites is actually the Country of Mexico which we'd probably like to exclude anyway given that we are interested in the US. While dropping data isn't necessarily always the best thing to do, given no real systematic bias in the cities that will be dropped it seems like a reasonable decision to drop them for the sake of getting an overall image of the US landscape."
   ]
  },
  {
   "cell_type": "markdown",
   "metadata": {},
   "source": [
    "####Collecting Demographics"
   ]
  },
  {
   "cell_type": "markdown",
   "metadata": {},
   "source": [
    "We will proceed with just the sites that fall in a particular CBSA. This makes interpretation and data compiling a bit easier without a large loss of information. Given that we still have good coverage of the US, this should be an okay decision.\n",
    "\n",
    "Next we'd like to be able to pull population density information and other info in for these CBSA ids that was referenced in the introduction."
   ]
  },
  {
   "cell_type": "code",
   "execution_count": 8,
   "metadata": {
    "collapsed": true
   },
   "outputs": [],
   "source": [
    "densityFile = pd.read_csv('tempdata/CBSA_density.csv')"
   ]
  },
  {
   "cell_type": "code",
   "execution_count": 9,
   "metadata": {
    "collapsed": false
   },
   "outputs": [],
   "source": [
    "#Removing top bad rows (just nonsense), removing bad columns, renaming columns\n",
    "densityFile.drop(densityFile.index[[0,1,2,3,4,5,6,7]],inplace=True)\n",
    "densityFile.drop(densityFile.columns[[3,6,8,10]],axis=1,inplace=True)\n",
    "densityFile.columns=['id','name','MetArea','pop2010','landarea','popdense2010','pop_weight2010']"
   ]
  },
  {
   "cell_type": "code",
   "execution_count": 10,
   "metadata": {
    "collapsed": false
   },
   "outputs": [
    {
     "data": {
      "text/html": [
       "<div>\n",
       "<table border=\"1\" class=\"dataframe\">\n",
       "  <thead>\n",
       "    <tr style=\"text-align: right;\">\n",
       "      <th></th>\n",
       "      <th>id</th>\n",
       "      <th>name</th>\n",
       "      <th>MetArea</th>\n",
       "      <th>pop2010</th>\n",
       "      <th>landarea</th>\n",
       "      <th>popdense2010</th>\n",
       "      <th>pop_weight2010</th>\n",
       "    </tr>\n",
       "  </thead>\n",
       "  <tbody>\n",
       "    <tr>\n",
       "      <th>8</th>\n",
       "      <td>10180</td>\n",
       "      <td>Abilene, TX</td>\n",
       "      <td>Metropolitan Statistical Area</td>\n",
       "      <td>165,252</td>\n",
       "      <td>2,743.5</td>\n",
       "      <td>60.2</td>\n",
       "      <td>1,771.8</td>\n",
       "    </tr>\n",
       "    <tr>\n",
       "      <th>9</th>\n",
       "      <td>10420</td>\n",
       "      <td>Akron, OH</td>\n",
       "      <td>Metropolitan Statistical Area</td>\n",
       "      <td>703,200</td>\n",
       "      <td>900.1</td>\n",
       "      <td>781.2</td>\n",
       "      <td>2,412.8</td>\n",
       "    </tr>\n",
       "  </tbody>\n",
       "</table>\n",
       "</div>"
      ],
      "text/plain": [
       "      id         name                        MetArea  pop2010 landarea popdense2010 pop_weight2010\n",
       "8  10180  Abilene, TX  Metropolitan Statistical Area  165,252  2,743.5  60.2         1,771.8      \n",
       "9  10420  Akron, OH    Metropolitan Statistical Area  703,200  900.1    781.2        2,412.8      "
      ]
     },
     "execution_count": 10,
     "metadata": {},
     "output_type": "execute_result"
    }
   ],
   "source": [
    "#Show what the file looks like\n",
    "densityFile.head(2)"
   ]
  },
  {
   "cell_type": "markdown",
   "metadata": {},
   "source": [
    "This next file has the latitude and longitude data we'll want to use for each region. We need to merge this all together in case we need to do mapping later."
   ]
  },
  {
   "cell_type": "code",
   "execution_count": 11,
   "metadata": {
    "collapsed": true
   },
   "outputs": [],
   "source": [
    "latlong = pd.read_csv('tempdata/CBSA_Chapter1PrinCities.csv')"
   ]
  },
  {
   "cell_type": "markdown",
   "metadata": {},
   "source": [
    "This file has a lot of problems in the way information is provided. We want info for just the individual regions but there are a lot of NaNs. This is because only the primary city of a region gets the label. So we need to clean that up a bit. "
   ]
  },
  {
   "cell_type": "code",
   "execution_count": 12,
   "metadata": {
    "collapsed": false
   },
   "outputs": [],
   "source": [
    "#Removing top bad rows, removing bad columns, renaming columns\n",
    "latlong.drop(latlong.index[[0,1,2,3,4]],inplace=True)\n",
    "latlong.drop(latlong.columns[[1,4]],axis=1,inplace=True)\n",
    "latlong.columns=['id','name','pop2010','latitude','longitude']"
   ]
  },
  {
   "cell_type": "code",
   "execution_count": 13,
   "metadata": {
    "collapsed": false
   },
   "outputs": [],
   "source": [
    "#Get latitude and longitude for each id\n",
    "group = latlong.groupby('id')\n",
    "#Get rid of all the NaNs\n",
    "#Help from \n",
    "#http://stackoverflow.com/questions/13413590/how-to-drop-rows-of-pandas-dataframe-whose-value-of-certain-column-is-nan\n",
    "newdf=group.max()\n",
    "newdf = newdf[pd.notnull(newdf['latitude'])]\n",
    "#Weird anomaly\n",
    "newdf.drop(newdf.index[6],inplace=True)"
   ]
  },
  {
   "cell_type": "code",
   "execution_count": 14,
   "metadata": {
    "collapsed": false,
    "scrolled": true
   },
   "outputs": [
    {
     "data": {
      "text/html": [
       "<div>\n",
       "<table border=\"1\" class=\"dataframe\">\n",
       "  <thead>\n",
       "    <tr style=\"text-align: right;\">\n",
       "      <th></th>\n",
       "      <th>name</th>\n",
       "      <th>pop2010</th>\n",
       "      <th>latitude</th>\n",
       "      <th>longitude</th>\n",
       "      <th>id</th>\n",
       "    </tr>\n",
       "    <tr>\n",
       "      <th>id</th>\n",
       "      <th></th>\n",
       "      <th></th>\n",
       "      <th></th>\n",
       "      <th></th>\n",
       "      <th></th>\n",
       "    </tr>\n",
       "  </thead>\n",
       "  <tbody>\n",
       "    <tr>\n",
       "      <th>10180</th>\n",
       "      <td>Abilene, TX Metro Area</td>\n",
       "      <td>165,252</td>\n",
       "      <td>32.4519790</td>\n",
       "      <td>-99.7327870</td>\n",
       "      <td>10180</td>\n",
       "    </tr>\n",
       "    <tr>\n",
       "      <th>10420</th>\n",
       "      <td>Akron, OH Metro Area</td>\n",
       "      <td>703,200</td>\n",
       "      <td>41.0805750</td>\n",
       "      <td>-81.5180690</td>\n",
       "      <td>10420</td>\n",
       "    </tr>\n",
       "  </tbody>\n",
       "</table>\n",
       "</div>"
      ],
      "text/plain": [
       "                         name  pop2010    latitude    longitude     id\n",
       "id                                                                    \n",
       "10180  Abilene, TX Metro Area  165,252  32.4519790  -99.7327870  10180\n",
       "10420  Akron, OH Metro Area    703,200  41.0805750  -81.5180690  10420"
      ]
     },
     "execution_count": 14,
     "metadata": {},
     "output_type": "execute_result"
    }
   ],
   "source": [
    "newdf['id']=newdf.index\n",
    "newdf.head(2)"
   ]
  },
  {
   "cell_type": "markdown",
   "metadata": {},
   "source": [
    "For merging purposes, we need to get a unique mapper between all the files. It's easiest to link all the different names of the CBSA's with a particular numerical ID that can be found in these last two files. We spend a bit of time here setting those up to save work later."
   ]
  },
  {
   "cell_type": "code",
   "execution_count": 15,
   "metadata": {
    "collapsed": false
   },
   "outputs": [],
   "source": [
    "#Make a mapper to get numerical id for CBSA\n",
    "idmapper = {}\n",
    "for id, name in zip(densityFile.id,densityFile.name):\n",
    "    idmapper[name]=id"
   ]
  },
  {
   "cell_type": "code",
   "execution_count": 17,
   "metadata": {
    "collapsed": false
   },
   "outputs": [],
   "source": [
    "#Set up the dictionary base\n",
    "#The first entry in uniqueCBSA is NaN so we want\n",
    "#to remove that\n",
    "myFrame = pd.DataFrame({'name':list(uniqueCBSA)[1:]})\n",
    "#Add numerical label \n",
    "myFrame['id']=myFrame['name'].map(idmapper.get)"
   ]
  },
  {
   "cell_type": "markdown",
   "metadata": {},
   "source": [
    "Some CBSA's didn't map to a particular numerical ID. This is because the CBSA namings have changed over time. It's painful, but probably easiest, to manually fix these 23 issues."
   ]
  },
  {
   "cell_type": "code",
   "execution_count": 18,
   "metadata": {
    "collapsed": false
   },
   "outputs": [
    {
     "name": "stdout",
     "output_type": "stream",
     "text": [
      "Number of cities without numerical ID match: 23\n"
     ]
    },
    {
     "data": {
      "text/html": [
       "<div>\n",
       "<table border=\"1\" class=\"dataframe\">\n",
       "  <thead>\n",
       "    <tr style=\"text-align: right;\">\n",
       "      <th></th>\n",
       "      <th>name</th>\n",
       "      <th>id</th>\n",
       "    </tr>\n",
       "  </thead>\n",
       "  <tbody>\n",
       "    <tr>\n",
       "      <th>17</th>\n",
       "      <td>Wenatchee, WA</td>\n",
       "      <td>None</td>\n",
       "    </tr>\n",
       "    <tr>\n",
       "      <th>28</th>\n",
       "      <td>Bakersfield, CA</td>\n",
       "      <td>None</td>\n",
       "    </tr>\n",
       "    <tr>\n",
       "      <th>39</th>\n",
       "      <td>San Antonio, TX</td>\n",
       "      <td>None</td>\n",
       "    </tr>\n",
       "    <tr>\n",
       "      <th>51</th>\n",
       "      <td>Portland-Vancouver-Beaverton, OR-WA</td>\n",
       "      <td>None</td>\n",
       "    </tr>\n",
       "    <tr>\n",
       "      <th>68</th>\n",
       "      <td>Myrtle Beach-Conway-North Myrtle Beach, SC</td>\n",
       "      <td>None</td>\n",
       "    </tr>\n",
       "    <tr>\n",
       "      <th>115</th>\n",
       "      <td>Bradenton-Sarasota-Venice, FL</td>\n",
       "      <td>None</td>\n",
       "    </tr>\n",
       "    <tr>\n",
       "      <th>118</th>\n",
       "      <td>Madera, CA</td>\n",
       "      <td>None</td>\n",
       "    </tr>\n",
       "    <tr>\n",
       "      <th>122</th>\n",
       "      <td>Atlantic City, NJ</td>\n",
       "      <td>None</td>\n",
       "    </tr>\n",
       "    <tr>\n",
       "      <th>149</th>\n",
       "      <td>Weirton-Steubenville, WV-OH</td>\n",
       "      <td>None</td>\n",
       "    </tr>\n",
       "    <tr>\n",
       "      <th>155</th>\n",
       "      <td>Chicago-Naperville-Joliet, IL-IN-WI</td>\n",
       "      <td>None</td>\n",
       "    </tr>\n",
       "    <tr>\n",
       "      <th>209</th>\n",
       "      <td>Kennewick-Richland-Pasco, WA</td>\n",
       "      <td>None</td>\n",
       "    </tr>\n",
       "    <tr>\n",
       "      <th>260</th>\n",
       "      <td>Canon City, CO</td>\n",
       "      <td>None</td>\n",
       "    </tr>\n",
       "    <tr>\n",
       "      <th>281</th>\n",
       "      <td>Lakeland, FL</td>\n",
       "      <td>None</td>\n",
       "    </tr>\n",
       "    <tr>\n",
       "      <th>328</th>\n",
       "      <td>Orlando-Kissimmee, FL</td>\n",
       "      <td>None</td>\n",
       "    </tr>\n",
       "    <tr>\n",
       "      <th>382</th>\n",
       "      <td>Phoenix-Mesa-Scottsdale, AZ</td>\n",
       "      <td>None</td>\n",
       "    </tr>\n",
       "    <tr>\n",
       "      <th>385</th>\n",
       "      <td>Nashville-Davidson-Murfreesboro-Franklin, TN</td>\n",
       "      <td>None</td>\n",
       "    </tr>\n",
       "    <tr>\n",
       "      <th>412</th>\n",
       "      <td>Charlotte-Gastonia-Concord, NC-SC</td>\n",
       "      <td>None</td>\n",
       "    </tr>\n",
       "    <tr>\n",
       "      <th>434</th>\n",
       "      <td>Panama City-Lynn Haven, FL</td>\n",
       "      <td>None</td>\n",
       "    </tr>\n",
       "    <tr>\n",
       "      <th>473</th>\n",
       "      <td>Durham, NC</td>\n",
       "      <td>None</td>\n",
       "    </tr>\n",
       "    <tr>\n",
       "      <th>490</th>\n",
       "      <td>Fort Walton Beach-Crestview-Destin, FL</td>\n",
       "      <td>None</td>\n",
       "    </tr>\n",
       "    <tr>\n",
       "      <th>509</th>\n",
       "      <td>Austin-Round Rock, TX</td>\n",
       "      <td>None</td>\n",
       "    </tr>\n",
       "    <tr>\n",
       "      <th>515</th>\n",
       "      <td>Charleston-North Charleston, SC</td>\n",
       "      <td>None</td>\n",
       "    </tr>\n",
       "    <tr>\n",
       "      <th>528</th>\n",
       "      <td>Denver-Aurora, CO</td>\n",
       "      <td>None</td>\n",
       "    </tr>\n",
       "  </tbody>\n",
       "</table>\n",
       "</div>"
      ],
      "text/plain": [
       "                                             name    id\n",
       "17   Wenatchee, WA                                 None\n",
       "28   Bakersfield, CA                               None\n",
       "39   San Antonio, TX                               None\n",
       "51   Portland-Vancouver-Beaverton, OR-WA           None\n",
       "68   Myrtle Beach-Conway-North Myrtle Beach, SC    None\n",
       "115  Bradenton-Sarasota-Venice, FL                 None\n",
       "118  Madera, CA                                    None\n",
       "122  Atlantic City, NJ                             None\n",
       "149  Weirton-Steubenville, WV-OH                   None\n",
       "155  Chicago-Naperville-Joliet, IL-IN-WI           None\n",
       "209  Kennewick-Richland-Pasco, WA                  None\n",
       "260  Canon City, CO                                None\n",
       "281  Lakeland, FL                                  None\n",
       "328  Orlando-Kissimmee, FL                         None\n",
       "382  Phoenix-Mesa-Scottsdale, AZ                   None\n",
       "385  Nashville-Davidson-Murfreesboro-Franklin, TN  None\n",
       "412  Charlotte-Gastonia-Concord, NC-SC             None\n",
       "434  Panama City-Lynn Haven, FL                    None\n",
       "473  Durham, NC                                    None\n",
       "490  Fort Walton Beach-Crestview-Destin, FL        None\n",
       "509  Austin-Round Rock, TX                         None\n",
       "515  Charleston-North Charleston, SC               None\n",
       "528  Denver-Aurora, CO                             None"
      ]
     },
     "execution_count": 18,
     "metadata": {},
     "output_type": "execute_result"
    }
   ],
   "source": [
    "#Deal with missing numerical labels case-by-case...\n",
    "#Show cities that didn't match\n",
    "a = myFrame[pd.isnull(myFrame['id'])]\n",
    "print \"Number of cities without numerical ID match: \"+str(len(a))\n",
    "a"
   ]
  },
  {
   "cell_type": "code",
   "execution_count": 19,
   "metadata": {
    "collapsed": false
   },
   "outputs": [],
   "source": [
    "#This dictionary has the name in myFrame and then the new name we need to use to map to the numerical ID as the value\n",
    "badmatch = {'Wenatchee, WA':'Wenatchee-East Wenatchee, WA','San Antonio, TX':'San Antonio-New Braunfels, TX',\n",
    "           'Portland-Vancouver-Beaverton, OR-WA':'Portland-Vancouver-Hillsboro, OR-WA','Bradenton-Sarasota-Venice, FL':'North Port-Bradenton-Sarasota, FL',\n",
    "           'Madera, CA':'Madera-Chowchilla, CA','Atlantic City, NJ':'Atlantic City-Hammonton, NJ','Weirton-Steubenville, WV-OH':'Steubenville-Weirton, OH-WV',\n",
    "           'Chicago-Naperville-Joliet, IL-IN-WI':'Chicago-Joliet-Naperville, IL-IN-WI','Bakersfield, CA':'Bakersfield-Delano, CA',\n",
    "           'Durham, NC':'Durham-Chapel Hill, NC','Mayaguez, PR':'Mayag\\xfcez, PR','Kennewick-Richland-Pasco, WA':'Kennewick-Pasco-Richland, WA',\n",
    "           'Canon City, CO':'Ca\\xf1on City, CO','Lakeland, FL':'Lakeland-Winter Haven, FL','Orlando-Kissimmee, FL':'Orlando-Kissimmee-Sanford, FL',\n",
    "           'Phoenix-Mesa-Scottsdale, AZ':'Phoenix-Mesa-Glendale, AZ','Nashville-Davidson-Murfreesboro-Franklin, TN':'Nashville-Davidson--Murfreesboro--Franklin, TN',\n",
    "           'Charlotte-Gastonia-Concord, NC-SC':'Charlotte-Gastonia-Rock Hill, NC-SC','Washington Court House, OH, AR':'Washington Court House, OH',\n",
    "           'Panama City-Lynn Haven, FL':'Panama City-Lynn Haven-Panama City Beach, FL','Fort Walton Beach-Crestview-Destin, FL':'Crestview-Fort Walton Beach-Destin, FL',\n",
    "           'Austin-Round Rock, TX':'Austin-Round Rock-San Marcos, TX','Charleston-North Charleston, SC':'Charleston-North Charleston-Summerville, SC',\n",
    "           'Denver-Aurora, CO':'Denver-Aurora-Broomfield, CO','Myrtle Beach-Conway-North Myrtle Beach, SC':'Myrtle Beach-North Myrtle Beach-Conway, SC'}"
   ]
  },
  {
   "cell_type": "code",
   "execution_count": 20,
   "metadata": {
    "collapsed": false
   },
   "outputs": [],
   "source": [
    "#We need to reverse this dictionary for use later as well\n",
    "#This just essentially flips the keys and values\n",
    "reverse_bad = {v: k for k, v in badmatch.items()}\n",
    "for id, name in zip(densityFile.id,densityFile.name):\n",
    "    if name in badmatch.values():\n",
    "        idmapper[reverse_bad[name]]=id"
   ]
  },
  {
   "cell_type": "code",
   "execution_count": 21,
   "metadata": {
    "collapsed": false
   },
   "outputs": [],
   "source": [
    "#Rerun the mapping afresh\n",
    "myFrame = pd.DataFrame({'name':list(uniqueCBSA)[1:]})\n",
    "#Add numerical label \n",
    "myFrame['id']=myFrame['name'].map(idmapper.get)"
   ]
  },
  {
   "cell_type": "code",
   "execution_count": 22,
   "metadata": {
    "collapsed": false
   },
   "outputs": [
    {
     "name": "stdout",
     "output_type": "stream",
     "text": [
      "Number of cities without numerical ID match: 0\n"
     ]
    }
   ],
   "source": [
    "#Check the dataframe\n",
    "a = myFrame[pd.isnull(myFrame['id'])]\n",
    "print \"Number of cities without numerical ID match: \"+str(len(a))"
   ]
  },
  {
   "cell_type": "markdown",
   "metadata": {},
   "source": [
    "We now have all our cities mapped to numerical IDs. Great! Now comes time to start merging things together. After these next few cells we are left with a dataframe with some information about each of the CBSAs."
   ]
  },
  {
   "cell_type": "code",
   "execution_count": 24,
   "metadata": {
    "collapsed": false
   },
   "outputs": [],
   "source": [
    "#Add latitude longitude\n",
    "intermediate = myFrame.merge(newdf,on='id',how='left')\n",
    "intermediate.drop(intermediate.columns[2],axis=1,inplace=True)"
   ]
  },
  {
   "cell_type": "code",
   "execution_count": 25,
   "metadata": {
    "collapsed": false
   },
   "outputs": [
    {
     "data": {
      "text/html": [
       "<div>\n",
       "<table border=\"1\" class=\"dataframe\">\n",
       "  <thead>\n",
       "    <tr style=\"text-align: right;\">\n",
       "      <th></th>\n",
       "      <th>id</th>\n",
       "      <th>latitude</th>\n",
       "      <th>longitude</th>\n",
       "      <th>name</th>\n",
       "      <th>MetArea</th>\n",
       "      <th>pop2010</th>\n",
       "      <th>landarea</th>\n",
       "      <th>popdense2010</th>\n",
       "      <th>pop_weight2010</th>\n",
       "    </tr>\n",
       "  </thead>\n",
       "  <tbody>\n",
       "    <tr>\n",
       "      <th>0</th>\n",
       "      <td>27980</td>\n",
       "      <td>NaN</td>\n",
       "      <td>NaN</td>\n",
       "      <td>Kahului-Wailuku, HI</td>\n",
       "      <td>Micropolitan Statistical Area</td>\n",
       "      <td>154834</td>\n",
       "      <td>1161.5</td>\n",
       "      <td>133.3</td>\n",
       "      <td>2310.8</td>\n",
       "    </tr>\n",
       "    <tr>\n",
       "      <th>1</th>\n",
       "      <td>39660</td>\n",
       "      <td>44.0830460</td>\n",
       "      <td>-103.2262970</td>\n",
       "      <td>Rapid City, SD</td>\n",
       "      <td>Metropolitan Statistical Area</td>\n",
       "      <td>126382</td>\n",
       "      <td>6247.5</td>\n",
       "      <td>20.2</td>\n",
       "      <td>1170.8</td>\n",
       "    </tr>\n",
       "    <tr>\n",
       "      <th>2</th>\n",
       "      <td>42980</td>\n",
       "      <td>NaN</td>\n",
       "      <td>NaN</td>\n",
       "      <td>Seymour, IN</td>\n",
       "      <td>Micropolitan Statistical Area</td>\n",
       "      <td>42376</td>\n",
       "      <td>509.3</td>\n",
       "      <td>83.2</td>\n",
       "      <td>784.2</td>\n",
       "    </tr>\n",
       "  </tbody>\n",
       "</table>\n",
       "</div>"
      ],
      "text/plain": [
       "      id    latitude     longitude                 name                        MetArea  pop2010  landarea  popdense2010  pop_weight2010\n",
       "0  27980  NaN         NaN           Kahului-Wailuku, HI  Micropolitan Statistical Area  154834   1161.5    133.3         2310.8        \n",
       "1  39660  44.0830460  -103.2262970  Rapid City, SD       Metropolitan Statistical Area  126382   6247.5    20.2          1170.8        \n",
       "2  42980  NaN         NaN           Seymour, IN          Micropolitan Statistical Area  42376    509.3     83.2          784.2         "
      ]
     },
     "execution_count": 25,
     "metadata": {},
     "output_type": "execute_result"
    }
   ],
   "source": [
    "#Add population density\n",
    "DemoFrame = intermediate.merge(densityFile,on='id',how='left')\n",
    "DemoFrame.drop(DemoFrame.columns[[0,2]],axis=1,inplace=True)\n",
    "DemoFrame.columns=['id','latitude','longitude','name','MetArea','pop2010','landarea','popdense2010','pop_weight2010']\n",
    "#Fix values that have commas like 1,049 and 1,170.8 so we can use them as floats later\n",
    "a = [str(x) for x in list(DemoFrame['popdense2010'].values)]\n",
    "b = [float(x.replace(\",\",\"\")) for x in a]\n",
    "DemoFrame['popdense2010']=b\n",
    "a = [str(x) for x in list(DemoFrame['pop_weight2010'].values)]\n",
    "b = [float(x.replace(\",\",\"\")) for x in a]\n",
    "DemoFrame['pop_weight2010']=b\n",
    "a = [str(x) for x in list(DemoFrame['landarea'].values)]\n",
    "b = [float(x.replace(\",\",\"\")) for x in a]\n",
    "DemoFrame['landarea']=b\n",
    "a = [str(x) for x in list(DemoFrame['pop2010'].values)]\n",
    "b = [float(x.replace(\",\",\"\")) for x in a]\n",
    "DemoFrame['pop2010']=b\n",
    "#View the top of the dataframe\n",
    "DemoFrame.head(3)"
   ]
  },
  {
   "cell_type": "markdown",
   "metadata": {},
   "source": [
    "####Collecting Transit Data"
   ]
  },
  {
   "cell_type": "markdown",
   "metadata": {},
   "source": [
    "Now we need to compile the traffic data to use. This comes from an excel file that is quite large -- we need to manipulate it to collect the relevant pieces of information"
   ]
  },
  {
   "cell_type": "code",
   "execution_count": 26,
   "metadata": {
    "collapsed": false
   },
   "outputs": [],
   "source": [
    "#Load traffic excel file\n",
    "trafDat = pd.read_excel('tempdata/census_commute_2009_2013.xlsx')"
   ]
  },
  {
   "cell_type": "code",
   "execution_count": 27,
   "metadata": {
    "collapsed": true
   },
   "outputs": [],
   "source": [
    "#Drop first several rows of excess info and noise at the end of the file\n",
    "trafDat.drop(trafDat.index[[0,1,2,3,4,5,6,106181,106182,106183,106184,106185]],inplace=True)"
   ]
  },
  {
   "cell_type": "code",
   "execution_count": 28,
   "metadata": {
    "collapsed": true
   },
   "outputs": [],
   "source": [
    "#Drop excess columns\n",
    "trafDat.drop(trafDat.columns[[0,1,2,3,4,5,6,7]],axis=1,inplace=True)"
   ]
  },
  {
   "cell_type": "code",
   "execution_count": 29,
   "metadata": {
    "collapsed": false
   },
   "outputs": [],
   "source": [
    "#Rename remaining columns appropriately\n",
    "trafDat.columns=['State','County','id','CBSA Name','Travel Mode','NumComm','MOE']"
   ]
  },
  {
   "cell_type": "code",
   "execution_count": 30,
   "metadata": {
    "collapsed": false
   },
   "outputs": [],
   "source": [
    "#Group by the id (numerical CBSA id) and the travel mode\n",
    "#Get sum of people commuting into each CBSA by each travel\n",
    "#mode\n",
    "group = trafDat.groupby(['id','Travel Mode'])\n",
    "a = pd.DataFrame(group.sum()['NumComm'])\n",
    "trafDatClean = a.reset_index()"
   ]
  },
  {
   "cell_type": "code",
   "execution_count": 31,
   "metadata": {
    "collapsed": false
   },
   "outputs": [
    {
     "data": {
      "text/html": [
       "<div>\n",
       "<table border=\"1\" class=\"dataframe\">\n",
       "  <thead>\n",
       "    <tr style=\"text-align: right;\">\n",
       "      <th></th>\n",
       "      <th>id</th>\n",
       "      <th>Travel Mode</th>\n",
       "      <th>NumComm</th>\n",
       "    </tr>\n",
       "  </thead>\n",
       "  <tbody>\n",
       "    <tr>\n",
       "      <th>0</th>\n",
       "      <td>10180</td>\n",
       "      <td>Car, truck, or van: Carpooled</td>\n",
       "      <td>8489</td>\n",
       "    </tr>\n",
       "    <tr>\n",
       "      <th>1</th>\n",
       "      <td>10180</td>\n",
       "      <td>Car, truck, or van: Drove alone</td>\n",
       "      <td>57771</td>\n",
       "    </tr>\n",
       "    <tr>\n",
       "      <th>2</th>\n",
       "      <td>10180</td>\n",
       "      <td>Other travel mode</td>\n",
       "      <td>5130</td>\n",
       "    </tr>\n",
       "    <tr>\n",
       "      <th>3</th>\n",
       "      <td>10180</td>\n",
       "      <td>Public transportation</td>\n",
       "      <td>450</td>\n",
       "    </tr>\n",
       "    <tr>\n",
       "      <th>4</th>\n",
       "      <td>10260</td>\n",
       "      <td>Car, truck, or van: Carpooled</td>\n",
       "      <td>263</td>\n",
       "    </tr>\n",
       "  </tbody>\n",
       "</table>\n",
       "</div>"
      ],
      "text/plain": [
       "      id                      Travel Mode  NumComm\n",
       "0  10180  Car, truck, or van: Carpooled    8489   \n",
       "1  10180  Car, truck, or van: Drove alone  57771  \n",
       "2  10180  Other travel mode                5130   \n",
       "3  10180  Public transportation            450    \n",
       "4  10260  Car, truck, or van: Carpooled    263    "
      ]
     },
     "execution_count": 31,
     "metadata": {},
     "output_type": "execute_result"
    }
   ],
   "source": [
    "#Show what the top of this file looks like\n",
    "trafDatClean.head()"
   ]
  },
  {
   "cell_type": "code",
   "execution_count": 32,
   "metadata": {
    "collapsed": true
   },
   "outputs": [],
   "source": [
    "#Get unique CBSA ids in the traffic data\n",
    "uniqueTraf = trafDatClean['id'].unique()"
   ]
  },
  {
   "cell_type": "code",
   "execution_count": 33,
   "metadata": {
    "collapsed": false
   },
   "outputs": [],
   "source": [
    "#Get ids that are in the demo and air data\n",
    "airDatID = []\n",
    "for i in idmapper.values():\n",
    "    if str(i) == 'nan':\n",
    "        continue\n",
    "    else:\n",
    "        airDatID.append(int(i))\n",
    "        \n",
    "goods = []\n",
    "bads = []\n",
    "for i in uniqueTraf:\n",
    "    if i in airDatID:\n",
    "        goods.append(i)\n",
    "    else:\n",
    "        bads.append(i)"
   ]
  },
  {
   "cell_type": "code",
   "execution_count": 34,
   "metadata": {
    "collapsed": false
   },
   "outputs": [
    {
     "name": "stdout",
     "output_type": "stream",
     "text": [
      "Number of Traffic Locations in Other Data: 384\n",
      "Number of Traffic Locations NOT in Other Data: 9\n"
     ]
    }
   ],
   "source": [
    "print 'Number of Traffic Locations in Other Data: '+str(len(goods))\n",
    "print 'Number of Traffic Locations NOT in Other Data: '+str(len(bads))"
   ]
  },
  {
   "cell_type": "markdown",
   "metadata": {},
   "source": [
    "The vast majority of cities with traffic data also are found in the air quality data which is great! There are a few ids that are not in our air quality data. We can take a look at what those cities are here."
   ]
  },
  {
   "cell_type": "code",
   "execution_count": 35,
   "metadata": {
    "collapsed": false
   },
   "outputs": [
    {
     "name": "stdout",
     "output_type": "stream",
     "text": [
      "[u'Arecibo, PR']\n",
      "[u'Bloomington, IL ']\n",
      "[u'California-Lexington Park, MD ']\n",
      "[u'Coco, PR']\n",
      "[u'Lafayette-West Lafayette, IN ']\n",
      "[u'Los Angeles-Long Beach-Anaheim, CA ']\n",
      "[u'Santa Maria-Santa Barbara, CA ']\n",
      "[u'Urban Honolulu, HI ']\n",
      "[u'Weirton-Steubenville, WV-OH ']\n"
     ]
    }
   ],
   "source": [
    "for i in bads:\n",
    "    a = trafDat[trafDat['id']==i]\n",
    "    print a['CBSA Name'].unique()"
   ]
  },
  {
   "cell_type": "markdown",
   "metadata": {},
   "source": [
    "There doesn't seem to be any systematic difference here so we will just assume we don't have air quality data for these cities, so they're not of interest because we can't make predictions. Therefore they will just be dropped. There isn't really another way to obtain the US city air quality data.\n",
    "\n",
    "The next code is a bit of cleaning to get a dataframe that we can merge with our other data. Right now we just have overall numbers of commuters into each region. We'd like to get fractional breakdowns of commuters by type so we calculate the below."
   ]
  },
  {
   "cell_type": "code",
   "execution_count": 36,
   "metadata": {
    "collapsed": false
   },
   "outputs": [],
   "source": [
    "#Generate a dataframe of the traffic data for merging\n",
    "#Specify the columns to be used\n",
    "outDict = {'total_trans':[],'carpool':[],'alone':[],'other':[],'pt':[],'carpool_frac':[],\n",
    "          'alone_frac':[],'other_frac':[],'pt_frac':[]}\n",
    "#Keep track of the index\n",
    "index = []\n",
    "\n",
    "#Loop through all the cities in the traffic file\n",
    "for i in trafDatClean['id'].unique():\n",
    "    #Subset to the specific city\n",
    "    a = trafDatClean[trafDatClean['id']==i]\n",
    "    #Get the counts\n",
    "    total = int(a['NumComm'].sum())\n",
    "    carpool = int(a[a['Travel Mode']=='Car, truck, or van: Carpooled']['NumComm'])\n",
    "    alone = int(a[a['Travel Mode']=='Car, truck, or van: Drove alone']['NumComm'])\n",
    "    other = int(a[a['Travel Mode']=='Other travel mode']['NumComm'])\n",
    "    pt = int(a[a['Travel Mode']=='Public transportation']['NumComm'])\n",
    "    #Get the fractions\n",
    "    carpool_frac = float(carpool)/float(total)\n",
    "    alone_frac = float(alone)/float(total)\n",
    "    other_frac = float(other)/float(total)\n",
    "    pt_frac = float(pt)/float(total)\n",
    "    #Append relevant information\n",
    "    index.append(i)\n",
    "    outDict['total_trans'].append(total)\n",
    "    outDict['carpool'].append(carpool)\n",
    "    outDict['alone'].append(alone)\n",
    "    outDict['other'].append(other)\n",
    "    outDict['pt'].append(pt)\n",
    "    outDict['carpool_frac'].append(carpool_frac)\n",
    "    outDict['alone_frac'].append(alone_frac)\n",
    "    outDict['other_frac'].append(other_frac)\n",
    "    outDict['pt_frac'].append(pt_frac)\n",
    "#Return dataframe\n",
    "trafDatCompiled = pd.DataFrame(outDict,index=index)\n",
    "trafDatCompiled['id']=trafDatCompiled.index"
   ]
  },
  {
   "cell_type": "markdown",
   "metadata": {},
   "source": [
    "####Merging Demographics, Air Quality, Weather, and Transit Data"
   ]
  },
  {
   "cell_type": "markdown",
   "metadata": {},
   "source": [
    "What we need to do here is aggregate information across all these files -- traffic, demographics, weather, and air quality. The weather and air quality data is still stored *daily* information. So that's the first challenge. We will work with just the average daily readings to begin with (we could have looked at max readings, but that may not be as informative as an overall metric). Then we want to aggreate daily measurements at a location to average monthly readings. average seasonal readings, and average yearly readings. This may not be the *most* robust strategy as there is still variation at the daily level, but it will hopefully give a good starting point to investiage trends."
   ]
  },
  {
   "cell_type": "code",
   "execution_count": 37,
   "metadata": {
    "collapsed": false
   },
   "outputs": [],
   "source": [
    "#DOING SEASONAL AVERAGING FIRST\n",
    "fileList = [pm25_frmfem,pm25_nofrmfem,pm10,temp,press,rh,dp,wind,co,no2,ozone,so2]\n",
    "fileName = ['PM25_FRMFEM','PM25_NOFRMFEM','PM10','TEMP','PRESS','RH','DP','WIND','CO','NO2','OZONE','SO2']\n",
    "count = 0\n",
    "#Loop through each pollutant separately\n",
    "for f,n in zip(fileList,fileName):\n",
    "    #This is just for the first time through each file to create\n",
    "    #a base in the dictionary\n",
    "    if count == 0:\n",
    "        #get mean of all seasonal values\n",
    "        group = f.groupby(['CBSA Name','season'])\n",
    "        means = group.mean()\n",
    "        means.drop(means.columns[[0,1,2,3,4,7,8,10,11,13]],axis=1,inplace=True)\n",
    "        means.reset_index()\n",
    "        means.reset_index(inplace=True)\n",
    "        means.rename(columns={ 'Arithmetic Mean' : n,'AQI' : 'AQI_'+n},inplace=True)\n",
    "    #In the second time through, we append to that base\n",
    "    else:\n",
    "        group = f.groupby(['CBSA Name','season'])\n",
    "        toAdd = group.mean()\n",
    "        toAdd = pd.DataFrame(toAdd, columns=['Arithmetic Mean','AQI'])\n",
    "        toAdd.reset_index()\n",
    "        toAdd.reset_index(inplace=True)\n",
    "        toAdd.rename(columns={ 'Arithmetic Mean' : n,'AQI' : 'AQI_'+n},inplace=True)\n",
    "        means = pd.merge(means,toAdd.reset_index(),on=['CBSA Name','season'],how='outer').reset_index()\n",
    "        means.drop(['level_0','index'],axis=1,inplace=True)\n",
    "    count += 1\n",
    "means.drop(['month'],axis=1,inplace=True)"
   ]
  },
  {
   "cell_type": "code",
   "execution_count": 38,
   "metadata": {
    "collapsed": false
   },
   "outputs": [],
   "source": [
    "#Add the numerical CBSA id to this dataframe\n",
    "means['id']=means['CBSA Name'].map(idmapper.get)"
   ]
  },
  {
   "cell_type": "code",
   "execution_count": 39,
   "metadata": {
    "collapsed": false
   },
   "outputs": [],
   "source": [
    "#Store this all in SeasonDat if the CBSA is in\n",
    "#any of the other data we have\n",
    "SeasonDat = means[means['id'].isin(myFrame['id'])]"
   ]
  },
  {
   "cell_type": "code",
   "execution_count": 40,
   "metadata": {
    "collapsed": false
   },
   "outputs": [
    {
     "data": {
      "text/plain": [
       "(2105, 29)"
      ]
     },
     "execution_count": 40,
     "metadata": {},
     "output_type": "execute_result"
    }
   ],
   "source": [
    "#Look at the shape of the file\n",
    "SeasonDat.shape"
   ]
  },
  {
   "cell_type": "code",
   "execution_count": 41,
   "metadata": {
    "collapsed": false
   },
   "outputs": [
    {
     "name": "stdout",
     "output_type": "stream",
     "text": [
      "# of Cities with Winter Data: 516\n",
      "# of Cities with Summer Data: 529\n",
      "# of Cities with Spring Data: 531\n",
      "# of Cities with Fall Data: 529\n"
     ]
    }
   ],
   "source": [
    "#Check number of observations by season\n",
    "print \"# of Cities with Winter Data: \"+str(SeasonDat[SeasonDat['season']=='Winter'].shape[0])\n",
    "print \"# of Cities with Summer Data: \"+str(SeasonDat[SeasonDat['season']=='Summer'].shape[0])\n",
    "print \"# of Cities with Spring Data: \"+str(SeasonDat[SeasonDat['season']=='Spring'].shape[0])\n",
    "print \"# of Cities with Fall Data: \"+str(SeasonDat[SeasonDat['season']=='Fall'].shape[0])"
   ]
  },
  {
   "cell_type": "code",
   "execution_count": 42,
   "metadata": {
    "collapsed": false
   },
   "outputs": [
    {
     "data": {
      "text/plain": [
       "(6239, 29)"
      ]
     },
     "execution_count": 42,
     "metadata": {},
     "output_type": "execute_result"
    }
   ],
   "source": [
    "#DOING MONTHLY AVERAGING SECOND\n",
    "#Code is the same as the seasonal, but using\n",
    "#month to groupby\n",
    "fileList = [pm25_frmfem,pm25_nofrmfem,pm10,temp,press,rh,dp,wind,co,no2,ozone,so2]\n",
    "fileName = ['PM25_FRMFEM','PM25_NOFRMFEM','PM10','TEMP','PRESS','RH','DP','WIND','CO','NO2','OZONE','SO2']\n",
    "count = 0\n",
    "for f,n in zip(fileList,fileName):\n",
    "    if count == 0:\n",
    "        group = f.groupby(['CBSA Name','month'])\n",
    "        means = group.mean()\n",
    "        means.drop(means.columns[[0,1,2,3,4,7,8,10,11,13]],axis=1,inplace=True)\n",
    "        means.reset_index()\n",
    "        means.reset_index(inplace=True)\n",
    "        means.rename(columns={ 'Arithmetic Mean' : n,'AQI' : 'AQI_'+n},inplace=True)\n",
    "    else:\n",
    "        group = f.groupby(['CBSA Name','month'])\n",
    "        toAdd = group.mean()\n",
    "        toAdd = pd.DataFrame(toAdd, columns=['Arithmetic Mean','AQI'])\n",
    "        toAdd.reset_index()\n",
    "        toAdd.reset_index(inplace=True)\n",
    "        toAdd.rename(columns={ 'Arithmetic Mean' : n,'AQI' : 'AQI_'+n},inplace=True)\n",
    "        means = pd.merge(means,toAdd.reset_index(),on=['CBSA Name','month'],how='outer').reset_index()\n",
    "        means.drop(['level_0','index'],axis=1,inplace=True)\n",
    "    count += 1\n",
    "means['id']=means['CBSA Name'].map(idmapper.get)\n",
    "MonthDat = means[means['id'].isin(myFrame['id'])]\n",
    "MonthDat.shape"
   ]
  },
  {
   "cell_type": "code",
   "execution_count": 43,
   "metadata": {
    "collapsed": false
   },
   "outputs": [
    {
     "name": "stdout",
     "output_type": "stream",
     "text": [
      "# of Cities with January Data: 505\n",
      "# of Cities with February Data: 508\n",
      "# of Cities with March Data: 526\n",
      "# of Cities with April Data: 529\n",
      "# of Cities with May Data: 529\n",
      "# of Cities with June Data: 529\n",
      "# of Cities with July Data: 529\n",
      "# of Cities with August Data: 529\n",
      "# of Cities with September Data: 529\n",
      "# of Cities with October Data: 523\n",
      "# of Cities with November Data: 502\n",
      "# of Cities with December Data: 501\n"
     ]
    }
   ],
   "source": [
    "#Make sure there is a similar number of sites across seasons\n",
    "print \"# of Cities with January Data: \"+str(MonthDat[MonthDat['month']==1].shape[0])\n",
    "print \"# of Cities with February Data: \"+str(MonthDat[MonthDat['month']==2].shape[0])\n",
    "print \"# of Cities with March Data: \"+str(MonthDat[MonthDat['month']==3].shape[0])\n",
    "print \"# of Cities with April Data: \"+str(MonthDat[MonthDat['month']==4].shape[0])\n",
    "print \"# of Cities with May Data: \"+str(MonthDat[MonthDat['month']==5].shape[0])\n",
    "print \"# of Cities with June Data: \"+str(MonthDat[MonthDat['month']==6].shape[0])\n",
    "print \"# of Cities with July Data: \"+str(MonthDat[MonthDat['month']==7].shape[0])\n",
    "print \"# of Cities with August Data: \"+str(MonthDat[MonthDat['month']==8].shape[0])\n",
    "print \"# of Cities with September Data: \"+str(MonthDat[MonthDat['month']==9].shape[0])\n",
    "print \"# of Cities with October Data: \"+str(MonthDat[MonthDat['month']==10].shape[0])\n",
    "print \"# of Cities with November Data: \"+str(MonthDat[MonthDat['month']==11].shape[0])\n",
    "print \"# of Cities with December Data: \"+str(MonthDat[MonthDat['month']==12].shape[0])"
   ]
  },
  {
   "cell_type": "code",
   "execution_count": 44,
   "metadata": {
    "collapsed": false
   },
   "outputs": [
    {
     "data": {
      "text/plain": [
       "(533, 28)"
      ]
     },
     "execution_count": 44,
     "metadata": {},
     "output_type": "execute_result"
    }
   ],
   "source": [
    "#DOING YEARLY AVERAGING THIRD\n",
    "#Same as previous in structure\n",
    "fileList = [pm25_frmfem,pm25_nofrmfem,pm10,temp,press,rh,dp,wind,co,no2,ozone,so2]\n",
    "fileName = ['PM25_FRMFEM','PM25_NOFRMFEM','PM10','TEMP','PRESS','RH','DP','WIND','CO','NO2','OZONE','SO2']\n",
    "count = 0\n",
    "for f,n in zip(fileList,fileName):\n",
    "    if count == 0:\n",
    "        group = f.groupby(['CBSA Name'])\n",
    "        means = group.mean()\n",
    "        means.drop(means.columns[[0,1,2,3,4,7,8,10,11,13,14]],axis=1,inplace=True)\n",
    "        means.reset_index()\n",
    "        means.reset_index(inplace=True)\n",
    "        means.rename(columns={ 'Arithmetic Mean' : n,'AQI' : 'AQI_'+n},inplace=True)\n",
    "    else:\n",
    "        group = f.groupby(['CBSA Name'])\n",
    "        toAdd = group.mean()\n",
    "        toAdd = pd.DataFrame(toAdd, columns=['Arithmetic Mean','AQI'])\n",
    "        toAdd.reset_index()\n",
    "        toAdd.reset_index(inplace=True)\n",
    "        toAdd.rename(columns={ 'Arithmetic Mean' : n,'AQI' : 'AQI_'+n},inplace=True)\n",
    "        means = pd.merge(means,toAdd.reset_index(),on=['CBSA Name'],how='outer').reset_index()\n",
    "        means.drop(['level_0','index'],axis=1,inplace=True)\n",
    "    count += 1\n",
    "means['id']=means['CBSA Name'].map(idmapper.get)\n",
    "YearDat = means[means['id'].isin(myFrame['id'])]\n",
    "YearDat.shape"
   ]
  },
  {
   "cell_type": "code",
   "execution_count": 45,
   "metadata": {
    "collapsed": false
   },
   "outputs": [],
   "source": [
    "#Merge in demographic info\n",
    "SeasonDat = SeasonDat.merge(DemoFrame[['id','MetArea','pop2010','landarea','popdense2010','pop_weight2010']],on='id',how='left')\n",
    "MonthDat = MonthDat.merge(DemoFrame[['id','MetArea','pop2010','landarea','popdense2010','pop_weight2010']],on='id',how='left')\n",
    "YearDat = YearDat.merge(DemoFrame[['id','MetArea','pop2010','landarea','popdense2010','pop_weight2010']],on='id',how='left')"
   ]
  },
  {
   "cell_type": "markdown",
   "metadata": {},
   "source": [
    "Now we have the weather and air quality data together in an individual file each. We next just need to merge in the demographic and traffic data and we'll be good to go!"
   ]
  },
  {
   "cell_type": "code",
   "execution_count": 46,
   "metadata": {
    "collapsed": false
   },
   "outputs": [],
   "source": [
    "#Covert ids to int for easier merging with traffic data\n",
    "SeasonDat['id']=SeasonDat['id'].astype(int)\n",
    "YearDat['id']=YearDat['id'].astype(int)\n",
    "MonthDat['id']=MonthDat['id'].astype(int)"
   ]
  },
  {
   "cell_type": "code",
   "execution_count": 47,
   "metadata": {
    "collapsed": false
   },
   "outputs": [],
   "source": [
    "#Merge in traffic data\n",
    "SeasonDat = SeasonDat.merge(trafDatCompiled,on='id',how='left')\n",
    "MonthDat = MonthDat.merge(trafDatCompiled,on='id',how='left')\n",
    "YearDat = YearDat.merge(trafDatCompiled,on='id',how='left')"
   ]
  },
  {
   "cell_type": "code",
   "execution_count": 48,
   "metadata": {
    "collapsed": false
   },
   "outputs": [],
   "source": [
    "#Remove a few nonsensical columns that are all NAs\n",
    "MonthDat.drop(['AQI_TEMP','AQI_PRESS','AQI_RH','AQI_DP','AQI_WIND'],axis=1,inplace=True)\n",
    "SeasonDat.drop(['AQI_TEMP','AQI_PRESS','AQI_RH','AQI_DP','AQI_WIND'],axis=1,inplace=True)\n",
    "YearDat.drop(['AQI_TEMP','AQI_PRESS','AQI_RH','AQI_DP','AQI_WIND'],axis=1,inplace=True)"
   ]
  },
  {
   "cell_type": "code",
   "execution_count": 54,
   "metadata": {
    "collapsed": false
   },
   "outputs": [],
   "source": [
    "#Save the cleaned dataframe to file\n",
    "MonthDat.to_csv(\"MonthDat.csv\",index=False,na_rep='NA')\n",
    "YearDat.to_csv(\"YearDat.csv\",index=False,na_rep='NA')\n",
    "SeasonDat.to_csv(\"SeasonDat.csv\",index=False,na_rep='NA')"
   ]
  },
  {
   "cell_type": "markdown",
   "metadata": {},
   "source": [
    "All these datasets have a straightforward labeling convention. The scheme is laid out below."
   ]
  },
  {
   "cell_type": "code",
   "execution_count": 49,
   "metadata": {
    "collapsed": false
   },
   "outputs": [
    {
     "name": "stdout",
     "output_type": "stream",
     "text": [
      "Codebook for datasets:\n"
     ]
    },
    {
     "data": {
      "text/html": [
       "<div>\n",
       "<table border=\"1\" class=\"dataframe\">\n",
       "  <thead>\n",
       "    <tr style=\"text-align: right;\">\n",
       "      <th></th>\n",
       "      <th>Variable Name</th>\n",
       "      <th>Definition</th>\n",
       "    </tr>\n",
       "  </thead>\n",
       "  <tbody>\n",
       "    <tr>\n",
       "      <th>0</th>\n",
       "      <td>AQI_CO</td>\n",
       "      <td>Average Air Quality Index of CO over time period</td>\n",
       "    </tr>\n",
       "    <tr>\n",
       "      <th>1</th>\n",
       "      <td>AQI_NO2</td>\n",
       "      <td>Average Air Quality Index of NO2 over time period (ppb)</td>\n",
       "    </tr>\n",
       "    <tr>\n",
       "      <th>2</th>\n",
       "      <td>AQI_OZONE</td>\n",
       "      <td>Average Air Quality Index of Ozone over time period</td>\n",
       "    </tr>\n",
       "    <tr>\n",
       "      <th>3</th>\n",
       "      <td>AQI_PM25_FRMFEM</td>\n",
       "      <td>Average Air Quality Index of Particulate Matter up to 2.5 micrometers in given time period</td>\n",
       "    </tr>\n",
       "    <tr>\n",
       "      <th>4</th>\n",
       "      <td>AQI_PM25_NOFRMFEM</td>\n",
       "      <td>Average Air Quality Index of Particulate Matter of up to 2.5 micrometers NOT based on Federal Reference Method or Federal Equivalent Method</td>\n",
       "    </tr>\n",
       "    <tr>\n",
       "      <th>5</th>\n",
       "      <td>AQI_SO2</td>\n",
       "      <td>Average AQI of SO2 over time period</td>\n",
       "    </tr>\n",
       "    <tr>\n",
       "      <th>6</th>\n",
       "      <td>AQ_PM10</td>\n",
       "      <td>Average Air Quality Index of Particulate Matter of up to 10 micrometers in given time period</td>\n",
       "    </tr>\n",
       "    <tr>\n",
       "      <th>7</th>\n",
       "      <td>CBSA Name</td>\n",
       "      <td>Core-Based Statistical Area Name</td>\n",
       "    </tr>\n",
       "    <tr>\n",
       "      <th>8</th>\n",
       "      <td>CO</td>\n",
       "      <td>Average CO levels over time period (ppm)</td>\n",
       "    </tr>\n",
       "    <tr>\n",
       "      <th>9</th>\n",
       "      <td>DP</td>\n",
       "      <td>Dewpoint over time period (F)</td>\n",
       "    </tr>\n",
       "    <tr>\n",
       "      <th>10</th>\n",
       "      <td>Latitude</td>\n",
       "      <td>The average latitude of all sites in the CBSA for the given time period</td>\n",
       "    </tr>\n",
       "    <tr>\n",
       "      <th>11</th>\n",
       "      <td>Longitude</td>\n",
       "      <td>The average longitude of all sites in the CBSA for a given time period</td>\n",
       "    </tr>\n",
       "    <tr>\n",
       "      <th>12</th>\n",
       "      <td>MetArea</td>\n",
       "      <td>An indicator of whether the site is a Metropolitan or Micropolitan Area</td>\n",
       "    </tr>\n",
       "    <tr>\n",
       "      <th>13</th>\n",
       "      <td>Month/Season</td>\n",
       "      <td>This respective variable will be in the Month or Season dataset indicating the month or year the data is from</td>\n",
       "    </tr>\n",
       "    <tr>\n",
       "      <th>14</th>\n",
       "      <td>NO2</td>\n",
       "      <td>Average NO2 levels over time period (ppb)</td>\n",
       "    </tr>\n",
       "    <tr>\n",
       "      <th>15</th>\n",
       "      <td>OZONE</td>\n",
       "      <td>Average ozone levels (O3) over time period (ppm)</td>\n",
       "    </tr>\n",
       "    <tr>\n",
       "      <th>16</th>\n",
       "      <td>PM10</td>\n",
       "      <td>Average Particulate Matter up to 10 micrometers in given time period (Microgram/cubic meter (25 C))</td>\n",
       "    </tr>\n",
       "    <tr>\n",
       "      <th>17</th>\n",
       "      <td>PM25_FRMFEM</td>\n",
       "      <td>Average level of particulate matter up to 2.5 micrometers based on Federal Reference Method or Federal Equivalent Method in given time period (Micrograms/cubic meter (LC))</td>\n",
       "    </tr>\n",
       "    <tr>\n",
       "      <th>18</th>\n",
       "      <td>PM25_NOFRMFEM</td>\n",
       "      <td>Average level of particulate matter up to 2.5 micrometers NOT based on Federal Reference Method or Federal Equivalent Method in given time period (Micrograms/cubic meter (LC))</td>\n",
       "    </tr>\n",
       "    <tr>\n",
       "      <th>19</th>\n",
       "      <td>PRESS</td>\n",
       "      <td>Average Air Pressure over time period (Millibars)</td>\n",
       "    </tr>\n",
       "    <tr>\n",
       "      <th>20</th>\n",
       "      <td>RH</td>\n",
       "      <td>Average Relative Humidity over time period (percent  relative humidity)</td>\n",
       "    </tr>\n",
       "    <tr>\n",
       "      <th>21</th>\n",
       "      <td>SO2</td>\n",
       "      <td>Average SO2 levels over time period (ppb)</td>\n",
       "    </tr>\n",
       "    <tr>\n",
       "      <th>22</th>\n",
       "      <td>TEMP</td>\n",
       "      <td>Average Temperature over time period (F)</td>\n",
       "    </tr>\n",
       "    <tr>\n",
       "      <th>23</th>\n",
       "      <td>WIND</td>\n",
       "      <td>Average wind speed (Knots)</td>\n",
       "    </tr>\n",
       "    <tr>\n",
       "      <th>24</th>\n",
       "      <td>alone</td>\n",
       "      <td>Number of individuals commuting into this region alone daily - 2010</td>\n",
       "    </tr>\n",
       "    <tr>\n",
       "      <th>25</th>\n",
       "      <td>alone_frac</td>\n",
       "      <td>Fraction of individuals commuting into this region alone daily - 2010</td>\n",
       "    </tr>\n",
       "    <tr>\n",
       "      <th>26</th>\n",
       "      <td>carpool</td>\n",
       "      <td>Number of individuals commuting into this region in carpool daily - 2010</td>\n",
       "    </tr>\n",
       "    <tr>\n",
       "      <th>27</th>\n",
       "      <td>carpool_frac</td>\n",
       "      <td>Fraction of individuals commuting into this region in carpool daily - 2010</td>\n",
       "    </tr>\n",
       "    <tr>\n",
       "      <th>28</th>\n",
       "      <td>id</td>\n",
       "      <td>Numerical ID of Core-Based Statistical Area</td>\n",
       "    </tr>\n",
       "    <tr>\n",
       "      <th>29</th>\n",
       "      <td>landarea</td>\n",
       "      <td>The size of the CBSA (square miles)</td>\n",
       "    </tr>\n",
       "    <tr>\n",
       "      <th>30</th>\n",
       "      <td>other</td>\n",
       "      <td>Number of individuals commuting into this region by bike, walk, or other daily - 2010</td>\n",
       "    </tr>\n",
       "    <tr>\n",
       "      <th>31</th>\n",
       "      <td>other_frac</td>\n",
       "      <td>Fraction of individuals commuting into this region via bike, walk, or other daily - 2010</td>\n",
       "    </tr>\n",
       "    <tr>\n",
       "      <th>32</th>\n",
       "      <td>pop2010</td>\n",
       "      <td>The population size of the CBA in 2010</td>\n",
       "    </tr>\n",
       "    <tr>\n",
       "      <th>33</th>\n",
       "      <td>pop_weight2010</td>\n",
       "      <td>Population weighted density in 2010 of CBSA</td>\n",
       "    </tr>\n",
       "    <tr>\n",
       "      <th>34</th>\n",
       "      <td>popdense2010</td>\n",
       "      <td>The population density of CBSA in 2010</td>\n",
       "    </tr>\n",
       "    <tr>\n",
       "      <th>35</th>\n",
       "      <td>pt</td>\n",
       "      <td>Number of individuals commuting into this region via public transit daily - 2010</td>\n",
       "    </tr>\n",
       "    <tr>\n",
       "      <th>36</th>\n",
       "      <td>pt_frac</td>\n",
       "      <td>Fraction of individuals commuting into this region via public transit daily - 2010</td>\n",
       "    </tr>\n",
       "    <tr>\n",
       "      <th>37</th>\n",
       "      <td>total</td>\n",
       "      <td>Total number of individuals commuting in the region daily - 2010</td>\n",
       "    </tr>\n",
       "  </tbody>\n",
       "</table>\n",
       "</div>"
      ],
      "text/plain": [
       "        Variable Name                                                                                                                                                                       Definition\n",
       "0   AQI_CO             Average Air Quality Index of CO over time period                                                                                                                               \n",
       "1   AQI_NO2            Average Air Quality Index of NO2 over time period (ppb)                                                                                                                        \n",
       "2   AQI_OZONE          Average Air Quality Index of Ozone over time period                                                                                                                            \n",
       "3   AQI_PM25_FRMFEM    Average Air Quality Index of Particulate Matter up to 2.5 micrometers in given time period                                                                                     \n",
       "4   AQI_PM25_NOFRMFEM  Average Air Quality Index of Particulate Matter of up to 2.5 micrometers NOT based on Federal Reference Method or Federal Equivalent Method                                    \n",
       "5   AQI_SO2            Average AQI of SO2 over time period                                                                                                                                            \n",
       "6   AQ_PM10            Average Air Quality Index of Particulate Matter of up to 10 micrometers in given time period                                                                                   \n",
       "7   CBSA Name          Core-Based Statistical Area Name                                                                                                                                               \n",
       "8   CO                 Average CO levels over time period (ppm)                                                                                                                                       \n",
       "9   DP                 Dewpoint over time period (F)                                                                                                                                                  \n",
       "10  Latitude           The average latitude of all sites in the CBSA for the given time period                                                                                                        \n",
       "11  Longitude          The average longitude of all sites in the CBSA for a given time period                                                                                                         \n",
       "12  MetArea            An indicator of whether the site is a Metropolitan or Micropolitan Area                                                                                                        \n",
       "13  Month/Season       This respective variable will be in the Month or Season dataset indicating the month or year the data is from                                                                  \n",
       "14  NO2                Average NO2 levels over time period (ppb)                                                                                                                                      \n",
       "15  OZONE              Average ozone levels (O3) over time period (ppm)                                                                                                                               \n",
       "16  PM10               Average Particulate Matter up to 10 micrometers in given time period (Microgram/cubic meter (25 C))                                                                            \n",
       "17  PM25_FRMFEM        Average level of particulate matter up to 2.5 micrometers based on Federal Reference Method or Federal Equivalent Method in given time period (Micrograms/cubic meter (LC))    \n",
       "18  PM25_NOFRMFEM      Average level of particulate matter up to 2.5 micrometers NOT based on Federal Reference Method or Federal Equivalent Method in given time period (Micrograms/cubic meter (LC))\n",
       "19  PRESS              Average Air Pressure over time period (Millibars)                                                                                                                              \n",
       "20  RH                 Average Relative Humidity over time period (percent  relative humidity)                                                                                                        \n",
       "21  SO2                Average SO2 levels over time period (ppb)                                                                                                                                      \n",
       "22  TEMP               Average Temperature over time period (F)                                                                                                                                       \n",
       "23  WIND               Average wind speed (Knots)                                                                                                                                                     \n",
       "24  alone              Number of individuals commuting into this region alone daily - 2010                                                                                                            \n",
       "25  alone_frac         Fraction of individuals commuting into this region alone daily - 2010                                                                                                          \n",
       "26  carpool            Number of individuals commuting into this region in carpool daily - 2010                                                                                                       \n",
       "27  carpool_frac       Fraction of individuals commuting into this region in carpool daily - 2010                                                                                                     \n",
       "28  id                 Numerical ID of Core-Based Statistical Area                                                                                                                                    \n",
       "29  landarea           The size of the CBSA (square miles)                                                                                                                                            \n",
       "30  other              Number of individuals commuting into this region by bike, walk, or other daily - 2010                                                                                          \n",
       "31  other_frac         Fraction of individuals commuting into this region via bike, walk, or other daily - 2010                                                                                       \n",
       "32  pop2010            The population size of the CBA in 2010                                                                                                                                         \n",
       "33  pop_weight2010     Population weighted density in 2010 of CBSA                                                                                                                                    \n",
       "34  popdense2010       The population density of CBSA in 2010                                                                                                                                         \n",
       "35  pt                 Number of individuals commuting into this region via public transit daily - 2010                                                                                               \n",
       "36  pt_frac            Fraction of individuals commuting into this region via public transit daily - 2010                                                                                             \n",
       "37  total              Total number of individuals commuting in the region daily - 2010                                                                                                               "
      ]
     },
     "execution_count": 49,
     "metadata": {},
     "output_type": "execute_result"
    }
   ],
   "source": [
    "import collections\n",
    "varlab={'CBSA Name':'Core-Based Statistical Area Name','Month/Season':'This respective variable will be in the Month or Season dataset indicating the month or year the data is from',\n",
    "                'Latitude':'The average latitude of all sites in the CBSA for the given time period','Longitude':'The average longitude of all sites in the CBSA for a given time period',\n",
    "                'PM25_FRMFEM':'Average level of particulate matter up to 2.5 micrometers based on Federal Reference Method or Federal Equivalent Method in given time period (Micrograms/cubic meter (LC))',\n",
    "                'AQI_PM25_FRMFEM':'Average Air Quality Index of Particulate Matter up to 2.5 micrometers in given time period',\n",
    "                'PM25_NOFRMFEM':'Average level of particulate matter up to 2.5 micrometers NOT based on Federal Reference Method or Federal Equivalent Method in given time period (Micrograms/cubic meter (LC))',\n",
    "                'AQI_PM25_NOFRMFEM':'Average Air Quality Index of Particulate Matter of up to 2.5 micrometers NOT based on Federal Reference Method or Federal Equivalent Method',\n",
    "                'PM10':'Average Particulate Matter up to 10 micrometers in given time period (Microgram/cubic meter (25 C))',\n",
    "                'AQ_PM10':'Average Air Quality Index of Particulate Matter of up to 10 micrometers in given time period',\n",
    "                'TEMP':'Average Temperature over time period (F)','PRESS':'Average Air Pressure over time period (Millibars)',\n",
    "                'RH':'Average Relative Humidity over time period (percent  relative humidity)','DP':'Dewpoint over time period (F)',\n",
    "                'WIND':'Average wind speed (Knots)','CO':'Average CO levels over time period (ppm)','AQI_CO':\"Average Air Quality Index of CO over time period\",\n",
    "                'NO2':'Average NO2 levels over time period (ppb)','AQI_NO2':'Average Air Quality Index of NO2 over time period (ppb)',\n",
    "                'OZONE':'Average ozone levels (O3) over time period (ppm)','AQI_OZONE':'Average Air Quality Index of Ozone over time period',\n",
    "                'SO2':\"Average SO2 levels over time period (ppb)\",'AQI_SO2':'Average AQI of SO2 over time period',\n",
    "                'id':'Numerical ID of Core-Based Statistical Area','MetArea':'An indicator of whether the site is a Metropolitan or Micropolitan Area',\n",
    "                'pop2010':'The population size of the CBA in 2010','landarea':'The size of the CBSA (square miles)',\n",
    "                'popdense2010':'The population density of CBSA in 2010','pop_weight2010':'Population weighted density in 2010 of CBSA',\n",
    "       'alone':'Number of individuals commuting into this region alone daily - 2010','alone_frac':'Fraction of individuals commuting into this region alone daily - 2010',\n",
    "       'carpool':'Number of individuals commuting into this region in carpool daily - 2010','carpool_frac':'Fraction of individuals commuting into this region in carpool daily - 2010',\n",
    "       'other':'Number of individuals commuting into this region by bike, walk, or other daily - 2010','other_frac':'Fraction of individuals commuting into this region via bike, walk, or other daily - 2010',\n",
    "       'pt':'Number of individuals commuting into this region via public transit daily - 2010','pt_frac':'Fraction of individuals commuting into this region via public transit daily - 2010',\n",
    "       'total':'Total number of individuals commuting in the region daily - 2010'}\n",
    "a = collections.OrderedDict(sorted(varlab.items()))\n",
    "out = pd.DataFrame(a.items(),columns=['Variable Name','Definition'])\n",
    "print \"Codebook for datasets:\"\n",
    "out"
   ]
  },
  {
   "cell_type": "markdown",
   "metadata": {},
   "source": [
    "####Weather Data - Collection Strategy 2 "
   ]
  },
  {
   "cell_type": "markdown",
   "metadata": {},
   "source": [
    "After using the initial EPA weather data, we noticed there were many missing values for these measurements. To help try to combat that issue, we have tried a secondary technique to obtain weather data. This involves using the NOAA database that we will also use for European data. It involves many cleaning steps along the way."
   ]
  },
  {
   "cell_type": "code",
   "execution_count": 50,
   "metadata": {
    "collapsed": true
   },
   "outputs": [],
   "source": [
    "#Load in the 3 US datasets\n",
    "YearDat = pd.read_csv('YearDat.csv')\n",
    "MonthDat = pd.read_csv('MonthDat.csv')\n",
    "SeasonDat = pd.read_csv('SeasonDat.csv')"
   ]
  },
  {
   "cell_type": "code",
   "execution_count": 51,
   "metadata": {
    "collapsed": false
   },
   "outputs": [],
   "source": [
    "#Start with the same base - but remove the weather predictors as \n",
    "#we want to get that elsewhere\n",
    "YearDat2 = YearDat.drop(['TEMP','PRESS','RH','DP','WIND'],axis=1)\n",
    "SeasonDat2 = SeasonDat.drop(['TEMP','PRESS','RH','DP','WIND'],axis=1)\n",
    "MonthDat2 = MonthDat.drop(['TEMP','PRESS','RH','DP','WIND'],axis=1)"
   ]
  },
  {
   "cell_type": "code",
   "execution_count": 52,
   "metadata": {
    "collapsed": false
   },
   "outputs": [],
   "source": [
    "#Get all weather station data from noaa\n",
    "#using the following link\n",
    "iddata= urllib.urlopen(\"ftp://ftp.ncdc.noaa.gov/pub/data/noaa/isd-history.csv\")\n",
    "reader=csv.reader(iddata,delimiter=',')"
   ]
  },
  {
   "cell_type": "code",
   "execution_count": 53,
   "metadata": {
    "collapsed": true
   },
   "outputs": [],
   "source": [
    "#Clean the station data to just those of interest\n",
    "#There is some junk at the top of the file we need \n",
    "#to ignore\n",
    "USAF=[]\n",
    "WBAN=[]\n",
    "STATION=[]\n",
    "CTRY=[]\n",
    "CALL=[]\n",
    "LAT=[]\n",
    "LONG=[]\n",
    "count=0\n",
    "for row in reader:\n",
    "    count+=1\n",
    "    #First 22 lines are junk\n",
    "    if count > 22:\n",
    "        USAF.append(row[0])\n",
    "        WBAN.append(row[1])\n",
    "        STATION.append(row[2])\n",
    "        CTRY.append(row[3])\n",
    "        CALL.append(row[5])\n",
    "        LAT.append(row[6])\n",
    "        LONG.append(row[7])"
   ]
  },
  {
   "cell_type": "code",
   "execution_count": 54,
   "metadata": {
    "collapsed": true
   },
   "outputs": [],
   "source": [
    "#Making a dataframe of all the station\n",
    "#data\n",
    "frameDict={}\n",
    "frameDict['USAF']=USAF\n",
    "frameDict[\"WBAN\"]=WBAN\n",
    "frameDict['STATION']=STATION\n",
    "frameDict['CTRY']=CTRY\n",
    "frameDict['CALL']=CALL\n",
    "frameDict['LAT']=LAT\n",
    "frameDict['LONG']=LONG\n",
    "stationdf=pd.DataFrame(frameDict)"
   ]
  },
  {
   "cell_type": "code",
   "execution_count": 55,
   "metadata": {
    "collapsed": true
   },
   "outputs": [],
   "source": [
    "#Filter to US only\n",
    "stationdf= stationdf[stationdf['CTRY']==\"US\"]"
   ]
  },
  {
   "cell_type": "code",
   "execution_count": 57,
   "metadata": {
    "collapsed": false
   },
   "outputs": [
    {
     "data": {
      "text/html": [
       "<div>\n",
       "<table border=\"1\" class=\"dataframe\">\n",
       "  <thead>\n",
       "    <tr style=\"text-align: right;\">\n",
       "      <th></th>\n",
       "      <th>CALL</th>\n",
       "      <th>CTRY</th>\n",
       "      <th>LAT</th>\n",
       "      <th>LONG</th>\n",
       "      <th>STATION</th>\n",
       "      <th>USAF</th>\n",
       "      <th>WBAN</th>\n",
       "    </tr>\n",
       "  </thead>\n",
       "  <tbody>\n",
       "    <tr>\n",
       "      <th>9637</th>\n",
       "      <td></td>\n",
       "      <td>US</td>\n",
       "      <td>+28.160</td>\n",
       "      <td>-089.220</td>\n",
       "      <td>MISSISSIPPI CANYON OIL PLATFORM</td>\n",
       "      <td>423630</td>\n",
       "      <td>99999</td>\n",
       "    </tr>\n",
       "    <tr>\n",
       "      <th>12990</th>\n",
       "      <td></td>\n",
       "      <td>US</td>\n",
       "      <td>-15.883</td>\n",
       "      <td>+054.517</td>\n",
       "      <td>SERGE-FROLOW (ILE TROMELIN)</td>\n",
       "      <td>619760</td>\n",
       "      <td>99999</td>\n",
       "    </tr>\n",
       "  </tbody>\n",
       "</table>\n",
       "</div>"
      ],
      "text/plain": [
       "      CALL CTRY      LAT      LONG                          STATION    USAF   WBAN\n",
       "9637        US   +28.160  -089.220  MISSISSIPPI CANYON OIL PLATFORM  423630  99999\n",
       "12990       US   -15.883  +054.517  SERGE-FROLOW (ILE TROMELIN)      619760  99999"
      ]
     },
     "execution_count": 57,
     "metadata": {},
     "output_type": "execute_result"
    }
   ],
   "source": [
    "stationdf.head(2)"
   ]
  },
  {
   "cell_type": "code",
   "execution_count": 58,
   "metadata": {
    "collapsed": false
   },
   "outputs": [],
   "source": [
    "#Clean lat and long in station data\n",
    "#to remove excess characters as they are stored\n",
    "#with unncessary characters as seen above\n",
    "replacelat = [i.replace(\"+\",'') for i in stationdf['LAT']]\n",
    "replacelong = [i.replace(\"+\",'') for i in stationdf['LONG']]\n",
    "stationdf['LAT']=replacelat\n",
    "stationdf['LONG']=replacelong\n",
    "#Make a filename matcher we'll need later\n",
    "id = [str(i)+\"-\"+str(j) for i,j in zip(stationdf['USAF'],stationdf['WBAN'])]\n",
    "stationdf['ID']=id"
   ]
  },
  {
   "cell_type": "code",
   "execution_count": 59,
   "metadata": {
    "collapsed": true
   },
   "outputs": [],
   "source": [
    "#Clean with a second stroke to use NaNs when\n",
    "#there is lack of data or whitespace\n",
    "stationdf = stationdf.replace(r'\\s+', np.nan, regex=True)\n",
    "stationdf = stationdf.replace('',np.nan) "
   ]
  },
  {
   "cell_type": "code",
   "execution_count": 60,
   "metadata": {
    "collapsed": false
   },
   "outputs": [],
   "source": [
    "#Remove the stations that are not labeled with a CALL. This\n",
    "#is airport data and those without CALL generally are missing most\n",
    "#of the weather data we'll need later which is problematic\n",
    "stationdf_subset=stationdf[pd.notnull(stationdf['CALL'])]"
   ]
  },
  {
   "cell_type": "code",
   "execution_count": 61,
   "metadata": {
    "collapsed": true
   },
   "outputs": [],
   "source": [
    "#Load a file that includes the names of all possible stations that have data in 2010\n",
    "#We've just downloaded the names of those files directly from their repository\n",
    "#(referenced in a few cells from here)\n",
    "possibleStations = pd.read_csv('tempdata/WeatherStationList.csv',header=None)\n",
    "#Filter our station dataframe to just include stations that have data\n",
    "#in 2010\n",
    "possibleStations = [i[:-8] for i in possibleStations[0]]\n",
    "mask = stationdf_subset['ID'].isin(possibleStations)\n",
    "stationdf_subset = stationdf_subset[mask]"
   ]
  },
  {
   "cell_type": "code",
   "execution_count": 62,
   "metadata": {
    "collapsed": false
   },
   "outputs": [],
   "source": [
    "#Make a dictionary of latitiude and longitude of all weather stations with data\n",
    "latlong_lookup = [(c,x,y) for c,x,y in zip(stationdf_subset['ID'],stationdf_subset['LAT'],stationdf_subset['LONG'])]"
   ]
  },
  {
   "cell_type": "markdown",
   "metadata": {},
   "source": [
    "We now have latitude and longitude for both our CBSA's and the weather stations. We use the next code to get the weather station that has the smallest Euclidean distance from the CBSA coordinates. We can use this station's weather data for the particular site as if they are close, they should have similar conditions."
   ]
  },
  {
   "cell_type": "code",
   "execution_count": 63,
   "metadata": {
    "collapsed": false
   },
   "outputs": [],
   "source": [
    "#Loop through all our cities in the original dataset with latitude and longitude\n",
    "#Keep track of the weather station station that has closest\n",
    "#euclidean distance to that city\n",
    "#Store a dictionary with keys of the CBSA and values that\n",
    "#are a tuple (weather station ID, Euclidean Distance)\n",
    "best = {}\n",
    "for city, la, lo in zip(YearDat['CBSA Name'],YearDat['Latitude'],YearDat['Longitude']):\n",
    "    #Only cities with available data\n",
    "    if not np.isnan(la):\n",
    "        point1 = np.array((float(la),float(lo)))\n",
    "        best[city] = ('ABC',1000)\n",
    "        for lookup in latlong_lookup:\n",
    "            point2 = np.array((float(lookup[1]),float(lookup[2])))\n",
    "            dist = np.linalg.norm(point1-point2)\n",
    "            if dist < best[city][1]:\n",
    "                best[city] = (lookup[0],dist)"
   ]
  },
  {
   "cell_type": "code",
   "execution_count": 64,
   "metadata": {
    "collapsed": false
   },
   "outputs": [
    {
     "data": {
      "text/plain": [
       "<matplotlib.text.Text at 0x1f58d7b8>"
      ]
     },
     "execution_count": 64,
     "metadata": {},
     "output_type": "execute_result"
    },
    {
     "data": {
      "image/png": "[encoded data removed]",
      "text/plain": [
       "<matplotlib.figure.Figure at 0x2030d2b0>"
      ]
     },
     "metadata": {},
     "output_type": "display_data"
    }
   ],
   "source": [
    "#Look at distances of station for site\n",
    "ax = plt.subplots(figsize=(8,4))\n",
    "plt.hist([x[1] for x in best.values()])\n",
    "plt.title('Euclidean Distance Between CBSA and Weather Station',fontsize=16)\n",
    "plt.ylabel('Euclidean Distance')"
   ]
  },
  {
   "cell_type": "markdown",
   "metadata": {},
   "source": [
    "In general, the weather stations are quite close to the CBSA coordinates suggesting that they will do a good job capturing the weather of that CBSA."
   ]
  },
  {
   "cell_type": "code",
   "execution_count": 65,
   "metadata": {
    "collapsed": true
   },
   "outputs": [],
   "source": [
    "#We need to store these stations in a skeleton frame\n",
    "#That we'll populate with weather data later\n",
    "toDF = {'City':[],'FR_ID':[]}\n",
    "for i,j in zip(best.keys()[1:],best.values()[1:]):\n",
    "    toDF['City'].append(i)\n",
    "    toDF['FR_ID'].append(j[0])\n",
    "skeletonFrame = pd.DataFrame(toDF)"
   ]
  },
  {
   "cell_type": "code",
   "execution_count": 66,
   "metadata": {
    "collapsed": true
   },
   "outputs": [],
   "source": [
    "#Change the ID to match the file names we need to reference\n",
    "#base on the repository we'll be drawing from\n",
    "skeletonFrame['l_ID']=skeletonFrame['FR_ID']+'-2010'"
   ]
  },
  {
   "cell_type": "code",
   "execution_count": 67,
   "metadata": {
    "collapsed": false
   },
   "outputs": [
    {
     "data": {
      "text/html": [
       "<div>\n",
       "<table border=\"1\" class=\"dataframe\">\n",
       "  <thead>\n",
       "    <tr style=\"text-align: right;\">\n",
       "      <th></th>\n",
       "      <th>City</th>\n",
       "      <th>FR_ID</th>\n",
       "      <th>l_ID</th>\n",
       "    </tr>\n",
       "  </thead>\n",
       "  <tbody>\n",
       "    <tr>\n",
       "      <th>0</th>\n",
       "      <td>Rapid City, SD</td>\n",
       "      <td>726625-24006</td>\n",
       "      <td>726625-24006-2010</td>\n",
       "    </tr>\n",
       "    <tr>\n",
       "      <th>1</th>\n",
       "      <td>Cincinnati-Middletown, OH-KY-IN</td>\n",
       "      <td>724297-93812</td>\n",
       "      <td>724297-93812-2010</td>\n",
       "    </tr>\n",
       "    <tr>\n",
       "      <th>2</th>\n",
       "      <td>Bend, OR</td>\n",
       "      <td>720638-99999</td>\n",
       "      <td>720638-99999-2010</td>\n",
       "    </tr>\n",
       "  </tbody>\n",
       "</table>\n",
       "</div>"
      ],
      "text/plain": [
       "                              City         FR_ID               l_ID\n",
       "0  Rapid City, SD                   726625-24006  726625-24006-2010\n",
       "1  Cincinnati-Middletown, OH-KY-IN  724297-93812  724297-93812-2010\n",
       "2  Bend, OR                         720638-99999  720638-99999-2010"
      ]
     },
     "execution_count": 67,
     "metadata": {},
     "output_type": "execute_result"
    }
   ],
   "source": [
    "skeletonFrame.head(3)"
   ]
  },
  {
   "cell_type": "code",
   "execution_count": 68,
   "metadata": {
    "collapsed": true
   },
   "outputs": [],
   "source": [
    "#Import some libraries to deal with some compressed files we need to access\n",
    "#and regular expressions\n",
    "import urllib2\n",
    "import zlib\n",
    "import re"
   ]
  },
  {
   "cell_type": "code",
   "execution_count": 69,
   "metadata": {
    "collapsed": true
   },
   "outputs": [],
   "source": [
    "#Function to get seasonal breakdowns from this data. Takes in\n",
    "#a row from one of the weather data and coverts to a datetime.\n",
    "#Slightly different data format this time so we need to change this\n",
    "#function a little from earlier\n",
    "import datetime\n",
    "def seasonMaker2(rowIn):\n",
    "    if rowIn == '':\n",
    "        return ''\n",
    "    else:\n",
    "        listeddate=[int(x) for x in [rowIn[0:4],rowIn[4:6],rowIn[6:8]]]\n",
    "        dateInd = datetime.date(listeddate[0],listeddate[1],listeddate[2])\n",
    "        if (dateInd <= datetime.date(2010,3,20)) or (dateInd >= datetime.date(2010,12,21)):\n",
    "            return 'Winter'\n",
    "        elif (dateInd <= datetime.date(2010,6,21)) and (dateInd >= datetime.date(2010,3,21)):\n",
    "            return 'Spring'\n",
    "        elif (dateInd <= datetime.date(2010,9,21)) and (dateInd >= datetime.date(2010,6,22)):\n",
    "            return 'Summer'\n",
    "        elif (dateInd <= datetime.date(2010,12,20)) and (dateInd >= datetime.date(2010,9,22)):\n",
    "            return 'Fall'"
   ]
  },
  {
   "cell_type": "markdown",
   "metadata": {},
   "source": [
    "The following code will go through files for each of the weather stations we've selected and parse the information. The files are delimited by a fixed width -- so we need to look at each block of characters and assign them to the appropriate variable. This involves a lot of parsing. There are probably more efficient ways to write the following, but it should get the job done."
   ]
  },
  {
   "cell_type": "code",
   "execution_count": 70,
   "metadata": {
    "collapsed": true
   },
   "outputs": [],
   "source": [
    "#Initiate a bunch of empty lists that we will populate for the output\n",
    "#variables. There are 3 outputs we want - seasonal, monthly, and yearly\n",
    "#We do this outside the next loop because we want to repeat the next\n",
    "#one until we've captured all files (there are sometimes connection issues)\n",
    "site_list_y = []\n",
    "temp_sites_y = []\n",
    "rh_sites_y = []\n",
    "pressure_sites_y = []\n",
    "wind_sites_y = []\n",
    "precip_sites_y=[]\n",
    "\n",
    "site_list_m = []\n",
    "temp_sites_m = []\n",
    "rh_sites_m = []\n",
    "pressure_sites_m = []\n",
    "wind_sites_m = []\n",
    "month_sites_m = []\n",
    "precip_sites_m=[]\n",
    "\n",
    "site_list_s = []\n",
    "temp_sites_s = []\n",
    "rh_sites_s = []\n",
    "pressure_sites_s = []\n",
    "wind_sites_s = []\n",
    "season_sites_s = []\n",
    "precip_sites_s=[]"
   ]
  },
  {
   "cell_type": "code",
   "execution_count": 80,
   "metadata": {
    "collapsed": false
   },
   "outputs": [
    {
     "name": "stdout",
     "output_type": "stream",
     "text": [
      "20 Stations Captured\n",
      "40 Stations Captured\n",
      "60 Stations Captured\n",
      "80 Stations Captured\n",
      "100 Stations Captured\n",
      "120 Stations Captured\n",
      "140 Stations Captured\n",
      "160 Stations Captured\n",
      "180 Stations Captured\n",
      "200 Stations Captured\n",
      "220 Stations Captured\n",
      "240 Stations Captured\n",
      "260 Stations Captured\n",
      "280 Stations Captured\n",
      "300 Stations Captured\n",
      "320 Stations Captured\n",
      "340 Stations Captured\n",
      "360 Stations Captured\n",
      "380 Stations Captured\n",
      "Wall time: 0 ns\n"
     ]
    }
   ],
   "source": [
    "%%time\n",
    "count = 0\n",
    "#Loop through each city in the skeletonFrame using\n",
    "#the id that will match file name on the site we are\n",
    "#trying to pull info from\n",
    "for site in skeletonFrame['l_ID']:\n",
    "    #A counter to reveal ongoing progress\n",
    "    count += 1\n",
    "    if count in range(0,400,20):\n",
    "        print str(count)+' Stations Captured'\n",
    "    \n",
    "    #Check to see if site worked last time\n",
    "    if site not in site_list_y:\n",
    "        #Help from this post for dealing with tar.gz files\n",
    "        #http://stackoverflow.com/questions/2695152/in-python-how-do-i-decode-gzip-encoding\n",
    "        #Try opening the file -- if it doesn't work, report an error\n",
    "        #but keep going through the ones that worked\n",
    "        try:\n",
    "            f=urllib2.urlopen('ftp://ftp.ncdc.noaa.gov/pub/data/noaa/2010/'+site+'.gz') \n",
    "            decompressed_data=zlib.decompress(f.read(), 16+zlib.MAX_WBITS)\n",
    "            a = decompressed_data.split('\\n')\n",
    "        except:\n",
    "            print str(site)+'ERROR'\n",
    "            continue\n",
    "    \n",
    "        #Initiate empty lists for all the variables we want to capture from\n",
    "        #the individual station files. There are a lot of them to capture\n",
    "        tvar =[]\n",
    "        usaf = []\n",
    "        wban = []\n",
    "        date = []\n",
    "        gtime = []\n",
    "        flag =[]\n",
    "        glat = []\n",
    "        glong = []\n",
    "        gtype =[]\n",
    "        elev = []\n",
    "        call = []\n",
    "        qc = []\n",
    "        winddir = []\n",
    "        winddir_qc = []\n",
    "        wind_type = []\n",
    "        windspeed = []\n",
    "        windspeed_qc = []\n",
    "        cheight = []\n",
    "        cheight_qc = []\n",
    "        cheight_det = []\n",
    "        cheight_cavok = []\n",
    "        visdist = []\n",
    "        visdist_qc = []\n",
    "        visvar = []\n",
    "        visvar_qc = []\n",
    "        temp = []\n",
    "        temp_qc = []\n",
    "        dewpoint = []\n",
    "        dewpoint_qc = []\n",
    "        press = []\n",
    "        press_qc = []\n",
    "        press2 = []\n",
    "        rh = []\n",
    "        rh2= []\n",
    "        precip = []\n",
    "        precip2 = []\n",
    "        precip3 = []\n",
    "\n",
    "        #For each row in the station file we have open\n",
    "        #we parse the relevant fixed-width delimited info\n",
    "        #Based on: ftp://ftp.ncdc.noaa.gov/pub/data/noaa/ish-format-document.pdf\n",
    "        #We append to the relevant lists\n",
    "        for row in a:\n",
    "            tvar.append(row[0:4])\n",
    "            usaf.append(row[4:10])\n",
    "            wban.append(row[10:15])\n",
    "            date.append(row[15:23])\n",
    "            gtime.append(row[23:27])\n",
    "            flag.append(row[27:28])\n",
    "            glat.append(row[28:34])\n",
    "            glong.append(row[34:41])\n",
    "            gtype.append(row[41:46])\n",
    "            elev.append(row[46:51])\n",
    "            call.append(row[51:56])\n",
    "            qc.append(row[56:60])\n",
    "            winddir.append(row[60:63])\n",
    "            winddir_qc.append(row[63:64])\n",
    "            wind_type.append(row[64:65])\n",
    "            windspeed.append(row[65:69])\n",
    "            windspeed_qc.append(row[69:70])\n",
    "            cheight.append(row[70:75])\n",
    "            cheight_qc.append(row[75:76])\n",
    "            cheight_det.append(row[76:77])\n",
    "            cheight_cavok.append(row[77:78])\n",
    "            visdist.append(row[78:84])\n",
    "            visdist_qc.append(row[84:85])\n",
    "            visvar.append(row[85:86])\n",
    "            visvar_qc.append(row[86:87])\n",
    "            temp.append(row[87:92])\n",
    "            temp_qc.append(row[92:93])\n",
    "            dewpoint.append(row[93:98])\n",
    "            dewpoint_qc.append(row[98:99])\n",
    "            press.append(row[99:104])\n",
    "            press_qc.append(row[104:105])\n",
    "\n",
    "            #We need regular expressions to pull\n",
    "            #out some specific markers like RH, a second\n",
    "            #version of Pressure, and Precipitation. These\n",
    "            #have specific markers in the files preceding the values\n",
    "            match = re.search(r'MA1[0-9]{5}.{7}',row)\n",
    "            if match:\n",
    "                press2.append(match.group()[-6:-1])\n",
    "            else:\n",
    "                press2.append(None)\n",
    "            match = re.search(r'CH1',row)\n",
    "            if match:\n",
    "                rh.append(match.group())\n",
    "            else:\n",
    "                rh.append(None)\n",
    "            match = re.search(r'CH2',row)\n",
    "            if match:\n",
    "                rh2.append(match.group())\n",
    "            else:\n",
    "                rh2.append(None)\n",
    "\n",
    "            #There are 3 types of precipitation measures\n",
    "            #Some refer to different time periods (1-hour, vs 3-hour, vs 24-hour)\n",
    "            #We store them all separately for now\n",
    "            match = re.search(r'AA1[0-9]{6}.{2}',row)\n",
    "            if match:\n",
    "                if int(match.group()[5:9]) < 1000:\n",
    "                    precip.append(int(match.group()[5:9]))\n",
    "                else:\n",
    "                    precip.append(None)\n",
    "            else:\n",
    "                precip.append(None)\n",
    "            match = re.search(r'AA2[0-9]{6}.{2}',row)\n",
    "            if match:\n",
    "                if int(match.group()[5:9]) < 1000:\n",
    "                    precip2.append(int(match.group()[5:9]))\n",
    "                else:\n",
    "                    precip2.append(None)        \n",
    "            else:\n",
    "                precip2.append(None)\n",
    "            match = re.search(r'AA3[0-9]{6}.{2}',row)        \n",
    "            if match:\n",
    "                if int(match.group()[5:9]) < 1000:\n",
    "                    precip3.append(int(match.group()[5:9]))\n",
    "                else:\n",
    "                    precip3.append(None) \n",
    "            else:\n",
    "                precip3.append(None)\n",
    "\n",
    "        #Make better cleaned dataframe with all the extracted\n",
    "        frameDict={}\n",
    "        frameDict['tvar']=tvar\n",
    "        frameDict[\"usaf\"]=usaf\n",
    "        frameDict['wban']=wban\n",
    "        frameDict['date']=date\n",
    "        frameDict['time']=gtime\n",
    "        frameDict['flag']=flag\n",
    "        frameDict['lat']=glat\n",
    "        frameDict['long']=glong\n",
    "        frameDict['type']=gtype\n",
    "        frameDict['elev']=elev\n",
    "        frameDict['call']=call\n",
    "        frameDict['qc']=qc\n",
    "        frameDict['winddir']=winddir\n",
    "        frameDict['winddir_qc']=winddir_qc\n",
    "        frameDict['wind_type']=wind_type\n",
    "        frameDict['windspeed']=windspeed\n",
    "        frameDict['windspeed_qc']=windspeed_qc\n",
    "        frameDict['cheight']=cheight\n",
    "        frameDict['cheight_qc']=cheight_qc\n",
    "        frameDict['cheight_det']=cheight_det\n",
    "        frameDict['cheight_cavok']=cheight_cavok\n",
    "        frameDict['visdist']=visdist\n",
    "        frameDict['visdist_qc']=visdist_qc\n",
    "        frameDict['visvar']=visvar\n",
    "        frameDict['visvar_qc']=visvar_qc\n",
    "        frameDict['temp']=temp\n",
    "        frameDict['temp_qc']=temp_qc\n",
    "        frameDict['dewpoint']=dewpoint\n",
    "        frameDict['dewpoint_qc']=dewpoint_qc\n",
    "        frameDict['press']=press\n",
    "        frameDict['press_qc']=press_qc\n",
    "        frameDict['press2']=press2\n",
    "        frameDict['rh']=rh\n",
    "        frameDict['precip']=precip\n",
    "        frameDict['precip2']=precip2\n",
    "        frameDict['precip3']=precip3\n",
    "        df_stat=pd.DataFrame(frameDict)\n",
    "\n",
    "        #Replace missing value codes with NaNs\n",
    "        df_stat = df_stat.replace('99999',np.nan)\n",
    "        df_stat = df_stat.replace('9999',np.nan)\n",
    "        df_stat = df_stat.replace('+9999',np.nan)\n",
    "        df_stat = df_stat.replace('999999',np.nan)\n",
    "        df_stat = df_stat.replace('999',np.nan)\n",
    "        #Get month from date of each obs\n",
    "        df_stat['month']=[i[4:6] for i in df_stat['date']]\n",
    "        #Convert units to fahrenheit, knots, and scale appropriately\n",
    "        #based on how the data is stored (see the document above as many\n",
    "        #observations are scaled by 10 when stored)\n",
    "        df_stat['temp'] = [(float(i)/10)*(float(9)/5)+32 if i !='' else np.nan  for i in df_stat['temp']]\n",
    "        df_stat['windspeed'] = [(float(i)/10)*1.94384 if i !='' else np.nan for i in df_stat['windspeed']]\n",
    "        df_stat['rh'] = [(float(i)/10) if i else np.nan for i in df_stat['rh']]\n",
    "        df_stat['press'] = [(float(i)/10) if i else np.nan for i in df_stat['press']]\n",
    "        #Extract data and season of each obs\n",
    "        df_stat['day']= [i[6:8] for i in df_stat['date']]\n",
    "        df_stat['season']=df_stat['date'].apply(lambda x: seasonMaker2(x))\n",
    "\n",
    "        #Precip Work - we take the maximum of the 3 precip measures we have\n",
    "        #This generally represents the longest time period from the day (24-hours)\n",
    "        #And we'd like a daily total. It's not perfect, but it seems to work decently\n",
    "        df_stat['Precip']=[max([i,j,k])/float(10) if i and j and k else np.nan for i,j,k in zip(df_stat['precip'],df_stat['precip2'],df_stat['precip3'])]    \n",
    "        group = df_stat.groupby('date')\n",
    "        maxP = group.max()['Precip']\n",
    "        maxP = pd.DataFrame(maxP.reset_index())\n",
    "        maxP.drop(0,axis=0,inplace=True)\n",
    "        df_stat.drop(['Precip'],axis=1,inplace=True)\n",
    "        #df_stat.drop(['precip','precip2','precip3','Precip'],axis=1,inplace=True)\n",
    "        df_stat = df_stat.merge(maxP,on='date',how='left')\n",
    "\n",
    "        #Yearly\n",
    "        meanList = df_stat.mean()\n",
    "        site_list_y.append(site)\n",
    "        temp_sites_y.append(meanList['temp'])\n",
    "        rh_sites_y.append(meanList['rh'])\n",
    "        pressure_sites_y.append(meanList['press'])\n",
    "        wind_sites_y.append(meanList['windspeed'])\n",
    "\n",
    "        #Yearly TOTAL rainfall\n",
    "        precipG = df_stat.groupby('date')\n",
    "        p = precipG.mean()['Precip']\n",
    "        precip_sites_y.append(p.sum())\n",
    "\n",
    "        #Monthly\n",
    "        group = df_stat.groupby('month')\n",
    "        ma = group.mean()\n",
    "        ma = ma.reset_index()\n",
    "        site_list_m = site_list_m+[site for i in range(len([int(x) for x in ma.month[1:]]))]\n",
    "        month_sites_m = month_sites_m+[int(x) for x in ma.month[1:]]\n",
    "        temp_sites_m = temp_sites_m+list(ma['temp'][1:])\n",
    "        wind_sites_m = wind_sites_m+list(ma['windspeed'][1:])\n",
    "        pressure_sites_m = pressure_sites_m+list(ma['press'][1:])\n",
    "        rh_sites_m = rh_sites_m+list(ma['rh'][1:])\n",
    "\n",
    "        #Monthly TOTAL rainfull\n",
    "        precipG = df_stat.groupby(['date','month'])\n",
    "        p = precipG.mean()['Precip']\n",
    "        p = pd.DataFrame(p).reset_index()\n",
    "        precipG2 = p.groupby('month')\n",
    "        p2 = pd.DataFrame(precipG2.sum()['Precip']).reset_index()\n",
    "        precip_sites_m = precip_sites_m+list(p2['Precip'][1:])\n",
    "\n",
    "\n",
    "        #Seasonally\n",
    "        group = df_stat.groupby('season')\n",
    "        ma = group.mean()\n",
    "        ma = ma.reset_index()\n",
    "        site_list_s = site_list_s+[site for i in range(len(list(ma.season[1:])))]\n",
    "        season_sites_s = season_sites_s+list(ma.season[1:])\n",
    "        temp_sites_s = temp_sites_s+list(ma['temp'][1:])\n",
    "        wind_sites_s = wind_sites_s+list(ma['windspeed'][1:])\n",
    "        pressure_sites_s = pressure_sites_s+list(ma['press'][1:])\n",
    "        rh_sites_s = rh_sites_s+list(ma['rh'][1:])\n",
    "\n",
    "        #Seasonal TOTAL rainfall\n",
    "        precipG = df_stat.groupby(['date','season'])\n",
    "        p = precipG.mean()['Precip']\n",
    "        p = pd.DataFrame(p).reset_index()\n",
    "        precipG2 = p.groupby('season')\n",
    "        p2 = pd.DataFrame(precipG2.sum()['Precip']).reset_index()\n",
    "        precip_sites_s = precip_sites_s+list(p2['Precip'][1:])\n",
    "\n",
    "        time.sleep(1)"
   ]
  },
  {
   "cell_type": "code",
   "execution_count": 82,
   "metadata": {
    "collapsed": false
   },
   "outputs": [],
   "source": [
    "#Make the weather frame based on the mined data from above\n",
    "toFrame = {'Site':site_list_y,'Temp':temp_sites_y,'RH':rh_sites_y,'Pressure':pressure_sites_y,'Wind':wind_sites_y,'Precip':precip_sites_y}\n",
    "WeatherFrame_y = pd.DataFrame(toFrame)\n",
    "toFrame = {'Season':season_sites_s,'Site':site_list_s,'Temp':temp_sites_s,'RH':rh_sites_s,'Pressure':pressure_sites_s,'Wind':wind_sites_s,'Precip':precip_sites_s}\n",
    "WeatherFrame_s = pd.DataFrame(toFrame)\n",
    "toFrame = {'Month':month_sites_m,'Site':site_list_m,'Temp':temp_sites_m,'RH':rh_sites_m,'Pressure':pressure_sites_m,'Wind':wind_sites_m,'Precip':precip_sites_m}\n",
    "WeatherFrame_m = pd.DataFrame(toFrame)"
   ]
  },
  {
   "cell_type": "markdown",
   "metadata": {},
   "source": [
    "Now we have weather dataframe for yearly, monthly, and seasonal averages. We just need to merge this with the rest of the data and we should have resolved a lot of the missing data. It will also be good to check how similar these measurements are to the EPA data just to see if this method seems somewhat consistent."
   ]
  },
  {
   "cell_type": "code",
   "execution_count": 83,
   "metadata": {
    "collapsed": true
   },
   "outputs": [],
   "source": [
    "#Make a map to convert the weird numeric id to the city name\n",
    "mapperWeath = {}\n",
    "for i,j in zip (skeletonFrame['l_ID'],skeletonFrame['City']):\n",
    "    mapperWeath[i]=j"
   ]
  },
  {
   "cell_type": "code",
   "execution_count": 84,
   "metadata": {
    "collapsed": true
   },
   "outputs": [],
   "source": [
    "#Add cbsa name to the weather data\n",
    "WeatherFrame_y['CBSA Name'] = WeatherFrame_y['Site'].map(mapperWeath.get)\n",
    "WeatherFrame_s['CBSA Name'] = WeatherFrame_s['Site'].map(mapperWeath.get)\n",
    "WeatherFrame_m['CBSA Name'] = WeatherFrame_m['Site'].map(mapperWeath.get)\n",
    "#Add a unique season/id combo identifier and a monthly/id combo identifier\n",
    "WeatherFrame_s['id']=WeatherFrame_s['CBSA Name'] + WeatherFrame_s['Season'].astype(str)\n",
    "WeatherFrame_m['id']=WeatherFrame_m['CBSA Name'] + WeatherFrame_m['Month'].astype(str)"
   ]
  },
  {
   "cell_type": "code",
   "execution_count": 85,
   "metadata": {
    "collapsed": false
   },
   "outputs": [],
   "source": [
    "#Replace the 0's in precipiation with nan's as they are missing data\n",
    "#not actually 0's. Just an issue for yearly data\n",
    "WeatherFrame_y['Precip'] = WeatherFrame_y['Precip'].replace(0,np.nan)"
   ]
  },
  {
   "cell_type": "code",
   "execution_count": 86,
   "metadata": {
    "collapsed": true
   },
   "outputs": [],
   "source": [
    "#Create merge ids for the seasonal and monthly data\n",
    "MonthDat2['id']=MonthDat2['CBSA Name'] + [str(int(x)) for x in MonthDat2['month']]\n",
    "SeasonDat2['id']=SeasonDat2['CBSA Name'] + [str(x) for x in SeasonDat2['season']]"
   ]
  },
  {
   "cell_type": "code",
   "execution_count": 87,
   "metadata": {
    "collapsed": false
   },
   "outputs": [],
   "source": [
    "#Merge weather data with the previous work\n",
    "YearDat2 = YearDat2.merge(WeatherFrame_y,on='CBSA Name',how='left')\n",
    "SeasonDat2 = SeasonDat2.merge(WeatherFrame_s[['Temp','RH','Pressure','Wind','Precip','id']],on='id',how='left')\n",
    "MonthDat2 = MonthDat2.merge(WeatherFrame_m[['Temp','RH','Pressure','Wind','Precip','id']],on='id',how='left')"
   ]
  },
  {
   "cell_type": "code",
   "execution_count": 88,
   "metadata": {
    "collapsed": false
   },
   "outputs": [],
   "source": [
    "#Save the new files\n",
    "YearDat2.to_csv('YearDat2.csv',index=False,na_rep=\"NA\")\n",
    "SeasonDat2.to_csv('SeasonDat2.csv',index=False,na_rep='NA')\n",
    "MonthDat2.to_csv('MonthDat2.csv',index=False,na_rep='NA')"
   ]
  },
  {
   "cell_type": "markdown",
   "metadata": {},
   "source": [
    "Compare the NOAA collection to the EPA data weather results:"
   ]
  },
  {
   "cell_type": "code",
   "execution_count": 89,
   "metadata": {
    "collapsed": false
   },
   "outputs": [],
   "source": [
    "Comp_y1 = YearDat[['CBSA Name','WIND','RH','PRESS','TEMP']]\n",
    "Comp_y1 = Comp_y1.merge(YearDat2[['CBSA Name','Pressure','RH','Temp','Wind']],on='CBSA Name',how='left')"
   ]
  },
  {
   "cell_type": "code",
   "execution_count": 90,
   "metadata": {
    "collapsed": false
   },
   "outputs": [
    {
     "data": {
      "text/plain": [
       "<matplotlib.text.Text at 0x3822e198>"
      ]
     },
     "execution_count": 90,
     "metadata": {},
     "output_type": "execute_result"
    },
    {
     "name": "stderr",
     "output_type": "stream",
     "text": [
      "C:\\Users\\Mark\\Anaconda\\lib\\site-packages\\matplotlib\\figure.py:1653: UserWarning: This figure includes Axes that are not compatible with tight_layout, so its results might be incorrect.\n",
      "  warnings.warn(\"This figure includes Axes that are not \"\n"
     ]
    },
    {
     "data": {
      "image/png": "[encoded data removed]",
      "text/plain": [
       "<matplotlib.figure.Figure at 0x1b77d6a0>"
      ]
     },
     "metadata": {},
     "output_type": "display_data"
    }
   ],
   "source": [
    "fig, axes = plt.subplots(nrows=1, ncols=3, figsize=(15, 4))\n",
    "fig.set_tight_layout(True)\n",
    "axes[0].scatter(Comp_y1['TEMP'],Comp_y1['Temp'])\n",
    "axes[0].set_title('Temperature')\n",
    "axes[0].set_ylabel('NOAA Weather Data')\n",
    "axes[0].set_xlabel('EPA Weather Data')\n",
    "axes[1].scatter(Comp_y1['PRESS'],Comp_y1['Pressure'])\n",
    "axes[1].set_title('Pressure')\n",
    "axes[1].set_ylabel('NOAA Weather Data')\n",
    "axes[1].set_xlabel('EPA Weather Data')\n",
    "axes[2].scatter(Comp_y1['WIND'],Comp_y1['Wind'])\n",
    "axes[2].set_title('Wind')\n",
    "axes[2].set_ylabel('NOAA Weather Data')\n",
    "axes[2].set_xlabel('EPA Weather Data')"
   ]
  },
  {
   "cell_type": "code",
   "execution_count": 91,
   "metadata": {
    "collapsed": false
   },
   "outputs": [],
   "source": [
    "MonthDat['id']= MonthDat['CBSA Name'] + [str(int(x)) for x in MonthDat['month']]\n",
    "Comp_m1 = MonthDat[['CBSA Name','month','WIND','RH','PRESS','TEMP','id']]\n",
    "Comp_m1 = Comp_m1.merge(MonthDat2[['CBSA Name','month','Pressure','RH','Temp','Wind','id']],on='id',how='left')"
   ]
  },
  {
   "cell_type": "code",
   "execution_count": 92,
   "metadata": {
    "collapsed": false
   },
   "outputs": [
    {
     "data": {
      "text/plain": [
       "<matplotlib.text.Text at 0x277f67b8>"
      ]
     },
     "execution_count": 92,
     "metadata": {},
     "output_type": "execute_result"
    },
    {
     "data": {
      "image/png": "[encoded data removed]",
      "text/plain": [
       "<matplotlib.figure.Figure at 0x1f57b978>"
      ]
     },
     "metadata": {},
     "output_type": "display_data"
    }
   ],
   "source": [
    "fig, axes = plt.subplots(nrows=1, ncols=3, figsize=(15, 4))\n",
    "fig.set_tight_layout(True)\n",
    "axes[0].scatter(Comp_m1['TEMP'],Comp_m1['Temp'])\n",
    "axes[0].set_title('Temperature')\n",
    "axes[0].set_ylabel('NOAA Weather Data')\n",
    "axes[0].set_xlabel('EPA Weather Data')\n",
    "axes[1].scatter(Comp_m1['PRESS'],Comp_m1['Pressure'])\n",
    "axes[1].set_title('Pressure')\n",
    "axes[1].set_ylabel('NOAA Weather Data')\n",
    "axes[1].set_xlabel('EPA Weather Data')\n",
    "axes[2].scatter(Comp_m1['WIND'],Comp_m1['Wind'])\n",
    "axes[2].set_title('Wind')\n",
    "axes[2].set_ylabel('NOAA Weather Data')\n",
    "axes[2].set_xlabel('EPA Weather Data')"
   ]
  },
  {
   "cell_type": "code",
   "execution_count": 93,
   "metadata": {
    "collapsed": false
   },
   "outputs": [],
   "source": [
    "SeasonDat['id']= SeasonDat['CBSA Name'] + [str(x) for x in SeasonDat['season']]\n",
    "Comp_s1 = SeasonDat[['CBSA Name','season','WIND','RH','PRESS','TEMP','id']]\n",
    "Comp_s1 = Comp_s1.merge(SeasonDat2[['CBSA Name','season','Pressure','RH','Temp','Wind','id']],on='id',how='left')"
   ]
  },
  {
   "cell_type": "code",
   "execution_count": 94,
   "metadata": {
    "collapsed": false
   },
   "outputs": [
    {
     "data": {
      "text/plain": [
       "<matplotlib.text.Text at 0x2763ada0>"
      ]
     },
     "execution_count": 94,
     "metadata": {},
     "output_type": "execute_result"
    },
    {
     "data": {
      "image/png": "[encoded data removed]",
      "text/plain": [
       "<matplotlib.figure.Figure at 0x58c4f128>"
      ]
     },
     "metadata": {},
     "output_type": "display_data"
    }
   ],
   "source": [
    "fig, axes = plt.subplots(nrows=1, ncols=3, figsize=(15, 4))\n",
    "fig.set_tight_layout(True)\n",
    "axes[0].scatter(Comp_s1['TEMP'],Comp_s1['Temp'])\n",
    "axes[0].set_title('Temperature')\n",
    "axes[0].set_ylabel('NOAA Weather Data')\n",
    "axes[0].set_xlabel('EPA Weather Data')\n",
    "axes[1].scatter(Comp_s1['PRESS'],Comp_s1['Pressure'])\n",
    "axes[1].set_title('Pressure')\n",
    "axes[1].set_ylabel('NOAA Weather Data')\n",
    "axes[1].set_xlabel('EPA Weather Data')\n",
    "axes[2].scatter(Comp_s1['WIND'],Comp_s1['Wind'])\n",
    "axes[2].set_title('Wind')\n",
    "axes[2].set_ylabel('NOAA Weather Data')\n",
    "axes[2].set_xlabel('EPA Weather Data')"
   ]
  },
  {
   "cell_type": "markdown",
   "metadata": {},
   "source": [
    "The last three figures indicate that this mode of collecting weather data works fairly well for Temperature and Wind in terms of being comparable to the EPA weather data. This is reassuring and suggests that we've now been able to fill in a good chunk of our missing data! However, we see some strong differences in the Air Pressure data between the EPA data and the weather data.\n",
    "\n",
    "We dug into the Air Pressure difference, and it's not clear why it is the way it appears. From some brief perusing, it appears that one of the cities with low air pressure is Riverton, WY. Looking at weather data from that area though, the air pressure seems to be around 1000 millibars making me suspect the EPA data. This is just further reason to go with the new NOAA based weather data."
   ]
  },
  {
   "cell_type": "markdown",
   "metadata": {},
   "source": [
    "####Codebook for new dataset"
   ]
  },
  {
   "cell_type": "markdown",
   "metadata": {},
   "source": [
    "These datasets are identical to the previous codebook except the weather variables. They are:\n",
    "1. `Precip` - Total mm over time period (month, season, or year)\n",
    "2. `Pressure` - Average atmosopheric pressure over time period (month, season, or year)\n",
    "3. `RH` - Average relative humidty over time period (%)\n",
    "4. `Temp` - Average temperature over time period (F)\n",
    "5. `Wind` - Average wind speed over time period (Knots)"
   ]
  },
  {
   "cell_type": "markdown",
   "metadata": {},
   "source": [
    "###France Data"
   ]
  },
  {
   "cell_type": "markdown",
   "metadata": {},
   "source": [
    "For validation, we'd like to work with French city data. Some of these cities are likely fairly comparable to lots of the US climatically (although the US is probably more diverse) and France is an equally developed country so population sizes and transit will be similarly. Additionally, we know that overall pollution level seems somewhat comparable between European and US cities. There are other choices we could have made but it seems like a decent country to make a comparison to and has a similar urban area structure."
   ]
  },
  {
   "cell_type": "markdown",
   "metadata": {},
   "source": [
    "Now that we have our main data source of US air quality, weather, demographic, and transit data, we similarly want to create files for France metropolitan areas to validate our analysis on. We cannot get this information from the EPA or US Census Data so we need to spend some time collecting this from various sources. The next several steps will involve collecting and cleaning this data. We will start with just pooling the yearly data as this is an easier to access format (we will still expand to monthly and seasonal data). Not all the formats and years are 100% comparable with the US data, but it seems pretty close in most measures. Additionally, some subjective decisions were made along the way, but we will explain our motivation when those are made."
   ]
  },
  {
   "cell_type": "markdown",
   "metadata": {},
   "source": [
    "####Get population density information"
   ]
  },
  {
   "cell_type": "markdown",
   "metadata": {},
   "source": [
    "For dealing with the French Metropolitan area data, it's easiest to start with collecting demographic information. These metropolitan areas (called 'Aire urbaines') seems fairly comparable with the structure of the CBSA's we used with the US cities. We don't want to look explicity at cities as this will overlook differences in the sprawling areas that we've included with the US data.\n",
    "\n",
    "The best place to start for this is the following site https://fr.wikipedia.org/wiki/Liste_des_aires_urbaines_de_France. This lists all Aire Urbaines in France. We will collect data about the populations in 2012 -- presumably this won't be terribly different from the 2010 data as there is lag in these censuses anyway. It will at the very least be a good starting point."
   ]
  },
  {
   "cell_type": "code",
   "execution_count": 95,
   "metadata": {
    "collapsed": true
   },
   "outputs": [],
   "source": [
    "#These will be needed to deal with scraping and\n",
    "#working with unicode text\n",
    "import re\n",
    "from bs4 import BeautifulSoup\n",
    "import requests\n",
    "import unicodedata"
   ]
  },
  {
   "cell_type": "code",
   "execution_count": 96,
   "metadata": {
    "collapsed": true
   },
   "outputs": [],
   "source": [
    "#THIS CODE WAS TAKEN FROM http://effbot.org/zone/re-sub.htm#unescape-html\n",
    "#Using this function to help deal with unicode trouble\n",
    "def unescape(text):\n",
    "    def fixup(m):\n",
    "        text = m.group(0)\n",
    "        if text[:2] == \"&#\":\n",
    "            # character reference\n",
    "            try:\n",
    "                if text[:3] == \"&#x\":\n",
    "                    return unichr(int(text[3:-1], 16))\n",
    "                else:\n",
    "                    return unichr(int(text[2:-1]))\n",
    "            except ValueError:\n",
    "                pass\n",
    "        else:\n",
    "            # named entity\n",
    "            try:\n",
    "                text = unichr(htmlentitydefs.name2codepoint[text[1:-1]])\n",
    "            except KeyError:\n",
    "                pass\n",
    "        return text # leave as is\n",
    "    return re.sub(\"&#?\\w+;\", fixup, text)"
   ]
  },
  {
   "cell_type": "code",
   "execution_count": 97,
   "metadata": {
    "collapsed": true
   },
   "outputs": [],
   "source": [
    "#Get the wikipedia page of all France Metropolitans\n",
    "metros=requests.get('https://fr.wikipedia.org/wiki/Liste_des_aires_urbaines_de_France')"
   ]
  },
  {
   "cell_type": "code",
   "execution_count": 98,
   "metadata": {
    "collapsed": false
   },
   "outputs": [],
   "source": [
    "#Parse the table of Aire Urbaines\n",
    "#Keep track of the 2012 population,\n",
    "#the name, and the link to that Aire Urbaines'\n",
    "#wiki page\n",
    "\n",
    "#Get the soup of the page and pick the sortable table\n",
    "soup = BeautifulSoup(metros.text, \"html.parser\")\n",
    "if soup.find(\"table\",attrs={\"class\": \"wikitable sortable\"}):\n",
    "    rows = soup.find(\"table\",attrs={\"class\": \"wikitable sortable\"}).find_all(\"td\")\n",
    "#Make a dictionary for the population, link, and name.\n",
    "output = {}\n",
    "output['name']=[]\n",
    "output['population']=[]\n",
    "output['link']=[]\n",
    "#Get index of the relevant rows for name, population and \n",
    "#density based on the table format\n",
    "nameList = range(2,1000,6)\n",
    "popList = [x +1 for x in nameList]\n",
    "areaList = [x+4 for x in nameList]\n",
    "counter=0\n",
    "#This goes through each row in the table and \n",
    "#cleans the text up (removing superscripts and commas)\n",
    "#And append sthe appropriate link, poplation, and name\n",
    "#values to the lists\n",
    "for row in rows:\n",
    "    counter+=1\n",
    "    if counter in nameList:\n",
    "        output['name'].append(row.text.replace('[',\"\").replace(']','').strip())\n",
    "    if counter in popList:\n",
    "        output['population'].append(int(unescape(row.text).replace(u'\\xa0','').replace('+',\"\").replace(',','').replace('[6]','')))\n",
    "for row in rows:\n",
    "    if row.find_all(\"a\"):\n",
    "        url = [unicodedata.normalize(\"NFKD\",x.get(\"href\")).encode('ascii','ignore') for x in row.find_all(\"a\")][0]\n",
    "        if not re.search(r'cite',url):\n",
    "            output['link'].append(url)"
   ]
  },
  {
   "cell_type": "code",
   "execution_count": 99,
   "metadata": {
    "collapsed": false
   },
   "outputs": [],
   "source": [
    "#Make a dictionary linking each area to their respective link\n",
    "urbaines = {}\n",
    "for i,j in zip(output['name'],output['link']):\n",
    "    urbaines[i]=j"
   ]
  },
  {
   "cell_type": "code",
   "execution_count": 100,
   "metadata": {
    "collapsed": false
   },
   "outputs": [],
   "source": [
    "#Make a dictionary linking each area to their respective population size\n",
    "popdict = {}\n",
    "for i,j in zip(output['name'],output['population']):\n",
    "    popdict[i]=j"
   ]
  },
  {
   "cell_type": "markdown",
   "metadata": {},
   "source": [
    "This is where the challenge of parsing uniquely formatted wiki pages comes in. We need to get all the 'communes' (towns) in each of these urban areas so that we can map all our air quality stations to their respective urban areas. Generally in each wiki page there is a table with a list of INSEE (National Institude of Statistics and Economic Studies) codes that refer to each individual town. We can cross reference those with the names of each of those towns later and then link this information to the air quality information through the common identifier of city name. So for here, we just want to get the name of all towns in a particular urban area.\n",
    "\n",
    "We also record the area (km2) of each of these urban areas. We need this for calculating population density which we will do later on. The total area of the urban area will be the sum of the individual towns that compose the urban area."
   ]
  },
  {
   "cell_type": "code",
   "execution_count": 101,
   "metadata": {
    "collapsed": false
   },
   "outputs": [
    {
     "name": "stdout",
     "output_type": "stream",
     "text": [
      "/wiki/Aire_urbaine_de_Cholet Cholet\n",
      "/wiki/Aire_urbaine_de_Paris Paris\n",
      "/wiki/Aire_urbaine_de_Montb%C3%A9liard Montbéliard\n",
      "/wiki/Aire_urbaine_de_Bordeaux Bordeaux\n",
      "/wiki/Aire_urbaine_de_Chamb%C3%A9ry Chambéry\n",
      "/wiki/Aire_urbaine_de_Gen%C3%A8ve-Annemasse Genève - Annemasse5,3\n",
      "/wiki/Aire_urbaine_de_Cayenne Cayenne (Guyane)\n",
      "/wiki/Aire_urbaine_de_Roanne Roanne\n",
      "/wiki/Aire_urbaine_de_Perpignan Perpignan\n",
      "/wiki/Aire_urbaine_de_Caen Caen\n",
      "/wiki/Aire_urbaine_de_Nantes Nantes\n",
      "/wiki/Aire_urbaine_de_Saint-Denis Saint-Denis (La Réunion)\n",
      "/wiki/Aire_urbaine_de_Chartres Chartres\n",
      "/wiki/Aire_urbaine_de_Chalon-sur-Sa%C3%B4ne Chalon-sur-Saône\n",
      "/wiki/Aire_urbaine_de_Mamoudzou Mamoudzou (Mayotte)\n",
      "/wiki/Aire_urbaine_de_N%C3%AEmes Nîmes\n",
      "/wiki/Aire_urbaine_de_Valenciennes Valenciennes3\n",
      "/wiki/Aire_urbaine_de_Besan%C3%A7on Besançon\n",
      "/wiki/Aire_urbaine_de_Saint-%C3%89tienne Saint-Étienne\n",
      "/wiki/Aire_urbaine_de_Saint-Quentin Saint-Quentin\n",
      "/wiki/Aire_urbaine_de_Niort Niort\n",
      "/wiki/Aire_urbaine_de_Rouen Rouen\n",
      "/wiki/Aire_urbaine_du_Robert Le Robert (Martinique)\n",
      "/wiki/Aire_urbaine_de_Cherbourg-Octeville Cherbourg-Octeville\n",
      "/wiki/Aire_urbaine_de_Bourges Bourges\n",
      "/wiki/Aire_urbaine_d%27Avignon Avignon\n",
      "/wiki/Aire_urbaine_de_Calais Calais\n",
      "/wiki/Aire_urbaine_de_Creil Creil\n",
      "/wiki/Aire_urbaine_de_Vienne Vienne\n",
      "/wiki/Aire_urbaine_de_Strasbourg Strasbourg3\n",
      "/wiki/Aire_urbaine_de_Reims Reims\n",
      "/wiki/Aire_urbaine_d%27Ajaccio Ajaccio\n",
      "/wiki/Aire_urbaine_de_Bourg-en-Bresse Bourg-en-Bresse\n",
      "/wiki/Aire_urbaine_de_Charleville-M%C3%A9zi%C3%A8res Charleville-Mézières\n",
      "/wiki/Aire_urbaine_de_Limoges Limoges\n",
      "/wiki/Aire_urbaine_de_Grenoble Grenoble\n",
      "/wiki/Aire_urbaine_de_Boulogne-sur-Mer Boulogne-sur-Mer\n",
      "/wiki/Aire_urbaine_d%27Angers Angers\n",
      "/wiki/Aire_urbaine_de_Beauvais Beauvais\n",
      "/wiki/Aire_urbaine_de_Saint-Paul Saint-Paul (La Réunion)\n",
      "/wiki/Aire_urbaine_du_Havre Le Havre\n",
      "/wiki/Aire_urbaine_de_Mulhouse Mulhouse\n",
      "/wiki/Aire_urbaine_de_La_Roche-sur-Yon La Roche-sur-Yon\n",
      "/wiki/Aire_urbaine_de_Metz Metz\n",
      "/wiki/Aire_urbaine_d%27Agen Agen\n",
      "/wiki/Aire_urbaine_de_Tours Tours\n",
      "/wiki/Aire_urbaine_de_Maubeuge Maubeuge3\n",
      "/wiki/Aire_urbaine_de_Nevers Nevers\n",
      "/wiki/Aire_urbaine_de_Lyon Lyon\n",
      "/wiki/Aire_urbaine_de_La_Rochelle La Rochelle\n",
      "/wiki/Aire_urbaine_de_Sarrebruck-Forbach Sarrebruck - Forbach3\n",
      "/wiki/Aire_urbaine_d%27Angoul%C3%AAme Angoulême\n",
      "/wiki/Aire_urbaine_d%27Annecy Annecy\n",
      "/wiki/Aire_urbaine_d%27Al%C3%A8s Alès\n",
      "/wiki/Aire_urbaine_de_Belfort Belfort\n",
      "/wiki/Aire_urbaine_de_Nice Nice\n",
      "/wiki/Aire_urbaine_de_Troyes Troyes\n",
      "/wiki/Aire_urbaine_de_Lille Lille3,4\n",
      "/wiki/Aire_urbaine_de_Fort-de-France Fort-de-France (Martinique)\n",
      "/wiki/Aire_urbaine_du_Mans Le Mans\n",
      "/wiki/Aire_urbaine_de_Blois Blois\n",
      "/wiki/Aire_urbaine_de_Dijon Dijon\n",
      "/wiki/Aire_urbaine_de_Saint-Pierre Saint-Pierre (La Réunion)\n",
      "/wiki/Aire_urbaine_de_Valence Valence\n",
      "/wiki/Aire_urbaine_de_Toulouse Toulouse\n",
      "/wiki/Aire_urbaine_de_B%C3%A9ziers Béziers\n",
      "/wiki/Aire_urbaine_de_Thionville Thionville\n",
      "/wiki/Aire_urbaine_d%27Amiens Amiens\n",
      "/wiki/Aire_urbaine_de_Brest Brest\n",
      "/wiki/Aire_urbaine_de_Pau Pau\n",
      "/wiki/Aire_urbaine_de_Toulon Toulon\n",
      "/wiki/Aire_urbaine_d%27%C3%89vreux Évreux\n",
      "/wiki/Aire_urbaine_de_Clermont-Ferrand Clermont-Ferrand\n",
      "/wiki/Aire_urbaine_de_Brive-la-Gaillarde Brive-la-Gaillarde\n",
      "/wiki/Aire_urbaine_de_Marseille-Aix-en-Provence Marseille - Aix-en-Provence\n",
      "/wiki/Aire_urbaine_de_P%C3%A9rigueux Périgueux\n",
      "/wiki/Aire_urbaine_de_Saint-Brieuc Saint-Brieuc\n",
      "/wiki/Aire_urbaine_de_Dunkerque Dunkerque\n",
      "/wiki/Aire_urbaine_de_Quimper Quimper\n",
      "/wiki/Aire_urbaine_de_Colmar Colmar\n",
      "/wiki/Aire_urbaine_de_Bayonne Bayonne3\n",
      "/wiki/Aire_urbaine_de_Lorient Lorient\n",
      "/wiki/Aire_urbaine_de_Saint-Nazaire Saint-Nazaire\n",
      "/wiki/Aire_urbaine_de_Vannes Vannes\n",
      "/wiki/Aire_urbaine_de_Nancy Nancy\n",
      "/wiki/Aire_urbaine_de_Rennes Rennes\n",
      "/wiki/Aire_urbaine_de_Montpellier Montpellier\n",
      "/wiki/Aire_urbaine_de_Poitiers Poitiers\n",
      "/wiki/Aire_urbaine_de_B%C3%A9thune Béthune\n",
      "/wiki/Aire_urbaine_de_Montauban Montauban\n",
      "/wiki/Aire_urbaine_d%27Orl%C3%A9ans Orléans\n",
      "/wiki/Aire_urbaine_d%27Arras Arras\n",
      "/wiki/Aire_urbaine_de_Pointe-%C3%A0-Pitre_-_Les_Abymes Pointe-à-Pitre - Les Abymes (Guadeloupe)\n",
      "/wiki/Aire_urbaine_de_Tarbes Tarbes\n",
      "/wiki/Aire_urbaine_de_Laval Laval\n",
      "/wiki/Aire_urbaine_de_Douai-Lens Douai - Lens\n"
     ]
    }
   ],
   "source": [
    "#This is the big code block\n",
    "#Initiate 2 empty dictionaries, one to record the towns\n",
    "#and the second to record the area of each of those towns\n",
    "communes = {}\n",
    "areaDict = {}\n",
    "#Loop through each urban area and its link\n",
    "for i,j in zip(urbaines.values(),urbaines.keys()):\n",
    "    print i,j\n",
    "    #Initiate empty lists to append to\n",
    "    communes[j]=[]\n",
    "    areaDict[j]=[]\n",
    "    #Clear rows for this new loop\n",
    "    rows=[]\n",
    "    #Get the wiki page information and parse the sortable wiki table\n",
    "    #keeping track of the headers and the content of the rows\n",
    "    city=requests.get('https://fr.wikipedia.org'+i)\n",
    "    soup = BeautifulSoup(city.text, \"html.parser\")\n",
    "    if soup.find(\"table\",attrs={\"class\": \"wikitable sortable\"}):\n",
    "        rows = soup.find(\"table\",attrs={\"class\": \"wikitable sortable\"}).find_all(\"td\")\n",
    "    if soup.find(\"table\",attrs={\"class\": \"wikitable sortable\"}):\n",
    "        headOrder = soup.find(\"table\",attrs={\"class\": \"wikitable sortable\"}).find_all(\"th\")\n",
    "    #Use an indexing system to keep track of the total columns, the column where 'area' occurs\n",
    "    #and the column where INSEE code appears. These tables are not all laid out the same so\n",
    "    #we need to use this system each time (# of columns and column order can change)\n",
    "    indexCode = 0\n",
    "    colIndex = None\n",
    "    colIndex2 = None\n",
    "    end = None\n",
    "    #This goes through the headers and stores the column # of interest\n",
    "    for h in headOrder:\n",
    "        indexCode += 1\n",
    "        #Get code column index\n",
    "        match = re.search('Code',h.text)\n",
    "        if match:\n",
    "            colIndex=indexCode\n",
    "        #Get area column index\n",
    "        match2 = re.search('Superficie',h.text)\n",
    "        if match2:\n",
    "            colIndex2=indexCode\n",
    "        else:\n",
    "            match2 = re.search('S.',h.text)\n",
    "            if match2:\n",
    "                colIndex2=indexCode\n",
    "    #This records the total number of columns\n",
    "    #in the table\n",
    "    end = indexCode\n",
    "    indices = []\n",
    "    indices2 = []\n",
    "    #This is a weird exception that has a ton\n",
    "    #of blanks. We just manually create the indices\n",
    "    #we'll use\n",
    "    if i == '/wiki/Aire_urbaine_de_Nantes':\n",
    "        indices=range(0,4000,6)\n",
    "        indices2=range(5,4000,6)\n",
    "    #Now we use the column indexes from above to create\n",
    "    #an indicies list of all the relevant entires we want to extract\n",
    "    else:\n",
    "        if end == 6:\n",
    "            indices=range(colIndex-1,4000,6)\n",
    "            indices2=range(colIndex2-1,4000,6)\n",
    "        elif end == 7:\n",
    "            indices=range(colIndex-1,4000,7)\n",
    "            indices2=range(colIndex2-1,4000,7)\n",
    "        elif end == 8:\n",
    "            indices=range(colIndex-1,4000,8)\n",
    "            indices2=range(colIndex2-1,4000,8)\n",
    "    #A second exception in the formatting\n",
    "    if i == '/wiki/Aire_urbaine_de_Chamb%C3%A9ry':\n",
    "        indices=range(colIndex-1,4000,8)\n",
    "        indices2=range(colIndex2-1,4000,8)\n",
    "\n",
    "    #Here we extract the relevant information for each\n",
    "    #row now that we know the indices of the relevant info\n",
    "    #from parsing the header\n",
    "    counter = -1\n",
    "    for r in rows:\n",
    "        counter+=1\n",
    "        #Again, weird exception\n",
    "        if i == '/wiki/Aire_urbaine_de_Nantes':\n",
    "            #This is the insee code\n",
    "            if counter in indices:\n",
    "                if r.text:\n",
    "                    try:\n",
    "                        communes[j].append(r.text)\n",
    "                    except:\n",
    "                        continue \n",
    "            #This is the area in km2 -- it uses a , instead of . so\n",
    "            #we need to change that\n",
    "            elif counter in indices2:\n",
    "                if r.text:\n",
    "                    try:\n",
    "                        areaDict[j].append(float(r.text.split(',')[0])+float(r.text.split(',')[1])/100)\n",
    "                    except:\n",
    "                        continue\n",
    "                            \n",
    "        else:\n",
    "            #This is the insee code\n",
    "            if counter in indices:\n",
    "                if r.text:\n",
    "                    try:\n",
    "                        communes[j].append(r.text)\n",
    "                    except:\n",
    "                        continue\n",
    "            #This is the area in km2 -- it uses a , instead of . so\n",
    "            #we need to change that\n",
    "            elif counter in indices2:\n",
    "                if r.text:\n",
    "                    try:\n",
    "                        areaDict[j].append(float(r.text.split(',')[0])+float(r.text.split(',')[1])/100)\n",
    "                    except:\n",
    "                        continue\n",
    "    #Make sure to wait a second in between calls\n",
    "    time.sleep(1)"
   ]
  },
  {
   "cell_type": "markdown",
   "metadata": {},
   "source": [
    "This should leave us with 2 dictionaries, one containing all the INSEE codes of an urban area and the other containing all the areas of the towns in an urban area that we will have to sum up to get the total size of the urban area. There were a few urban areas that didn't get info, which we can see with below."
   ]
  },
  {
   "cell_type": "code",
   "execution_count": 102,
   "metadata": {
    "collapsed": false,
    "scrolled": true
   },
   "outputs": [
    {
     "name": "stdout",
     "output_type": "stream",
     "text": [
      "Paris\n",
      "Saint-Paul (La Réunion)\n",
      "Le Mans\n",
      "Saint-Pierre (La Réunion)\n",
      "Valence\n",
      "Saint-Nazaire\n",
      "Rennes\n",
      "Orléans\n"
     ]
    }
   ],
   "source": [
    "for i in communes:\n",
    "    if communes[i] == []:\n",
    "        print i"
   ]
  },
  {
   "cell_type": "markdown",
   "metadata": {},
   "source": [
    "This is quite a small count (9 urban areas). We can manually obtain this data still. La Reunion is actually an island off Madagascar so we will ignore Saint-Paul and Saint-Pierre as they aren't really in France. There are actually a couple weird entries here (Paris and Saint-Nazaire) that don't have INSEE codes so we've just used the town names. There is actually another urban area(Nantes) that did this within the parsing. We have to be careful how we deal with that later on. Also, Paris has a ridiculous amount of towns so we've parsed that manually in excel to combine all ids together. There are several tables that are formatted differently and it was quicker to manually get the town names then code a rule just for this one exception."
   ]
  },
  {
   "cell_type": "code",
   "execution_count": 103,
   "metadata": {
    "collapsed": true
   },
   "outputs": [],
   "source": [
    "communes[u'Cayenne (Guyane)']=['97302','97305','97307','97313','97309','97310']\n",
    "communes[u'Le Mans']=['72001','72003','72004','72007','72008','72012','72023','72024','72026',\n",
    "                      '72033','72045','72046','72047','72051','72053','72054','72058','72065',\n",
    "                      '72066','72070','72072','72073','72075','72088','72089','72095','72096',\n",
    "                      '72099','72101','72107','72111','72113','72119','72124','72126','72127',\n",
    "                      '72129','72130','72131','72133','72135','72143','72146','72147','72150',\n",
    "                      '72155','72157','72165','72166','72169','72174','72177','72181','72186',\n",
    "                      '72187','72194','72195','72197','72196','72198','72200','72205','72241',\n",
    "                      '72210','72213','72216','72217','72219','72224','72226','72230','72231',\n",
    "                      '72237','72243','72247','72248','72249','72252','72253','72257','72260',\n",
    "                      '72261','72268','72271','72275','72280','72287','72289','72290','72293',\n",
    "                      '72297','72298','72299','72300','72301','72306','72310','72319','72320',\n",
    "                      '72321','72325','72328','72329','72335','72338','72339','72340','72344',\n",
    "                      '72345','72346','72348','72349','72350','72359','72360','72362','72367',\n",
    "                      '72370','72376','72381','72382','72385','72386']\n",
    "communes[u'Valence']=['07052','07055','07059','07070','07097','07102','07240','07281','07293','07316',\n",
    "                      '07323','26004','26007','26024','26032','26037','26038','26042','26058','26064',\n",
    "                      '26079','26081','26084','26100','26124','26170','26196','26197','26206','26208',\n",
    "                      '26212','26224','26232','26250','26252','26271','26313','26358','26362','26382']\n",
    "communes[u'Saint-Nazaire']=[u'Assérac',u'Batz-sur-Mer',u'Besné',u'Crossac',u'Donges',u'Drefféac',u'Férel',u'Guérande',\n",
    "                            u'Herbignac',u'La Baule-Escoublac',u'La Chapelle-des-Marais',u'La Turballe',u'Le Croisic',\n",
    "                            u'Le Pouliguen',u'Mesquer',u'Missillac',u'Montoir-de-Bretagne',u'Piriac-sur-Mer',u'Pontchâteau',\n",
    "                            u'Pornichet',u'Saint-André-des-Eaux',u'Sainte-Anne-sur-Brivet',u'Sainte-Reine-de-Bretagne',\n",
    "                            u'Saint-Joachim',u'Saint-Lyphard',u'Saint-Malo-de-Guersac',u'Saint-Molf',u'Saint-Nazaire',\n",
    "                            u'Trignac']\n",
    "communes[u'Rennes']=['35001','35002','35003','35007','35016','35017','35022','35023','35024','35026','35028','35030','35031',\n",
    "                     '35032','35033','35035','35037','35039','35040','35041','35047','35048','35050','35051','35053','35054',\n",
    "                     '35055','35057','35058','35059','35060','35065','35066','35067','35068','35069','35076','35079','35080',\n",
    "                     '35081','35088','35089','35090','35094','35096','35099','35101','35107','35108','35110','35118','35120',\n",
    "                     '35121','35123','35126','35127','35128','35130','35131','35133','35134','35135','35136','35139','35144',\n",
    "                     '35146','35149','35152','35156','35166','35169','35173','35175','35177','35180','35187','35188','35189',\n",
    "                     '35193','35195','35196','35197','35198','35203','35204','35206','35207','35208','35209','35210','35212',\n",
    "                     '35216','35218','35220','35221','35227','35231','35233','35238','35240','35245','35250','35251','35254',\n",
    "                     '35258','35262','35264','35265','35266','35274','35275','35276','35277','35278','35281','35283','35289',\n",
    "                     '35295','35296','35305','35307','35312','35315','35318','35319','35320','35321','35322','35327','35331',\n",
    "                     '35334','35337','35340','35343','35351','35352','35353','35355','35356','35363']\n",
    "communes[u'Orl\\xe9ans']=['45006','45008','45009','45011','41006','41008','45019','28019','45020','45024','45028','41017',\n",
    "                         '45034','45043','45044','45046','45055','41027','45058','45059','45062','45067','45072','45074',\n",
    "                         '45075','45081','45082','45089','45093','45095','45098','45099','41056','45100','45101','41058',\n",
    "                         '45109','45111','45116','45118','28121','45123','45126','45130','45134','45142','45144','45146',\n",
    "                         '41085','45147','45152','45153','45154','28190','45164','45166','45167','45168','45169','45171',\n",
    "                         '45173','41105','45175','45179','41114','45182','45183','28212','41119','45188','28221','45193',\n",
    "                         '45194','45196','45197','45200','45202','45203','45204','45214','45224','45226','45232','45234',\n",
    "                         '45235','45241','41173','45248','28296','28303','41183','45261','45262','45264','45266','45269',\n",
    "                         '45272','45273','45274','45282','45284','45285','45286','41219','45289','45290','45296','45298',\n",
    "                         '45299','45300','45301','45302','45305','41244','45308','45309','41245','45311','45313','45314',\n",
    "                         '45316','45317','28382','45324','45326','45327','45330','41264','45331','45333','45335','45337',\n",
    "                         '45341','41285','45342','41289','45344','45346']\n",
    "communes[u'Paris']=[u'Bézu-le-Guéry',u'Brumetz',u'Bussiares',u'La Celle-sous-Montmirail',u'Chézy-en-Orxois',u'Coupru',\n",
    "                    u'Courchamps',u'Crouttes-sur-Marne',u'Dammard',u'Domptin',u'Gandelu',u'Hautevesnes',u'Largny-sur-Automne',\n",
    "                    u'Marigny-en-Orxois',u'Monnes',u'Montigny-l\\'Allier',u'Montreuil-aux-Lions',u'Passy-en-Valois',u'Pavant',\n",
    "                    u'Priez',u'Saint-Gengoulph',u'Veuilly-la-Poterie',u'Viels-Maisons',u'Aigleville',u'Amécourt',u'Authevernes',\n",
    "                    u'Bazincourt-sur-Epte',u'Bernouville',u'Berthenonville',u'Bézu-la-Forêt',u'Bézu-Saint-Éloi',u'Bois-le-Roi',\n",
    "                    u'La Boissière',u'Bretagnolles',u'Breuilpont',u'Bus-Saint-Rémy',u'Cahaignes',u'Chaignes',\n",
    "                    u'Château-sur-Epte',u'Chauvincourt-Provemont',u'Civières',u'Coudray',u'La Couture-Boussey',u'Croth',\n",
    "                    u'Dampsmesnil',u'Dangu',u'Doudeauville-en-Vexin',u'Écos',u'Épieds',u'Ézy-sur-Eure',u'Farceaux',u'Fontenay',\n",
    "                    u'Fourges',u'Fours-en-Vexin',u'Gadencourt',u'Gamaches-en-Vexin',u'Garennes-sur-Eure',u'Gisors',u'Guerny',\n",
    "                    u'L\\'Habit',u'Hacqueville',u'Hébécourt',u'Hécourt',u'Heudicourt',u'Ivry-la-Bataille',u'Lignerolles',\n",
    "                    u'Longchamps',u'Mainneville',u'Marcilly-sur-Eure',u'Martagny',u'Merey',u'Mesnil-sous-Vienne',u'Mouettes',\n",
    "                    u'Mouflaines',u'Mousseaux-Neuville',u'Neaufles-Saint-Martin',u'Neuilly',u'La Neuve-Grange',\n",
    "                    u'Nojeon-en-Vexin',u'Noyers',u'Puchay',u'Richeville',u'Saint-Denis-le-Ferment',u'Saint-Laurent-des-Bois',\n",
    "                    u'Sainte-Marie-de-Vatimesnil',u'Sancourt',u'Serez',u'Suzay',u'Les Thilliers-en-Vexin',u'Vesly',\n",
    "                    u'Villegats',u'Villers-en-Vexin',u'Villiers-en-Désœuvre',u'Abondant',u'Anet',u'Ardelu',u'Aunay-sous-Auneau',\n",
    "                    u'Auneau',u'Bailleau-Armenonville',u'Barmainville',u'Baudreville',u'Berchères-sur-Vesgre',\n",
    "                    u'Béville-le-Comte',u'Bleury',u'Boncourt',u'Bouglainval',u'Le Boullay-Thierry',u'Boutigny-Prouais',\n",
    "                    u'Bréchamps',u'Broué',u'Bû',u'Champagne',u'Champseru',u'La Chapelle-d\\'Aunainville',\n",
    "                    u'La Chapelle-Forainvilliers',u'Charpont',u'Chartainvilliers',u'Châtenay',u'Chaudon',u'La Chaussée-d\\'Ivry',\n",
    "                    u'Coulombs',u'Croisilles',u'Denonville',u'Droue-sur-Drouette',u'Écluzelles',u'Écrosnes',u'Épernon',\n",
    "                    u'Faverolles',u'Gallardon',u'Garancières-en-Beauce',u'Gas',u'Germainville',u'Gilles',u'Gommerville',\n",
    "                    u'Gouillons',u'Goussainville',u'Guainville',u'Le Gué-de-Longroi',u'Hanches',u'Havelu',u'Houx',\n",
    "                    u'Intréville',u'Léthuin',u'Levainville',u'Levesville-la-Chenard',u'Lormaye',u'Louville-la-Chenard',\n",
    "                    u'Maintenon',u'Maisons',u'Marchezais',u'Mérouville',u'Le Mesnil-Simon',u'Mévoisins',\n",
    "                    u'Moinville-la-Jeulin',u'Mondonville-Saint-Jean',u'Morainville',u'Néron',u'Neuvy-en-Beauce',\n",
    "                    u'Nogent-le-Roi',u'Oinville-sous-Auneau',u'Orlu',u'Ormoy',u'Ouarville',u'Ouerre',u'Oulins',u'Oysonville',\n",
    "                    u'Pierres',u'Les Pinthières',u'Roinville',u'Rouvray-Saint-Denis',u'Rouvres',u'Saint-Laurent-la-Gâtine',\n",
    "                    u'Saint-Léger-des-Aubées',u'Saint-Lubin-de-la-Haye',u'Saint-Lucien',u'Saint-Martin-de-Nigelles',\n",
    "                    u'Saint-Ouen-Marchefroy',u'Saint-Piat',u'Saint-Symphorien-le-Château',u'Sainville',u'Santeuil',u'Saussay',\n",
    "                    u'Senantes',u'Serazereux',u'Serville',u'Sorel-Moussel',u'Soulaires',u'Umpeau',u'Vierville',\n",
    "                    u'Villemeux-sur-Eure',u'Villiers-le-Morhier',u'Voise',u'Yermenonville',u'Ymeray',u'Andonville',\n",
    "                    u'Autruy-sur-Juine',u'Boisseaux',u'Desmonts',u'Erceville',u'Morville-en-Beauce',u'Orville',\n",
    "                    u'Pannecières',u'Rouvres-Saint-Jean',u'Thignonville',u'Réveillon',u'Le Vézier',u'Villeneuve-la-Lionne',\n",
    "                    u'Abbecourt',u'Acy-en-Multien',u'Amblainville',u'Andeville',u'Anserville',u'Antilly',u'Apremont',\n",
    "                    u'Auger-Saint-Vincent',u'Aumont-en-Halatte',u'Auteuil',u'Autheuil-en-Valois',u'Avilly-Saint-Léonard',\n",
    "                    u'Bachivillers',u'Bargny',u'Baron',u'Beaumont-les-Nonains',u'Belle-Église',u'Béthancourt-en-Valois',\n",
    "                    u'Betz',u'Boissy-Fresnoy',u'Boissy-le-Bois',u'Bonneuil-en-Valois',u'Boran-sur-Oise',u'Borest',u'Bornel',\n",
    "                    u'Boubiers',u'Bouconvillers',u'Bouillancy',u'Boullarre',u'Boursonne',u'Boury-en-Vexin',u'Boutencourt',\n",
    "                    u'Brégy',u'Cauvigny',u'Chambly',u'Chambors',u'Chantilly',u'Creil',u'La Chapelle-en-Serval',\n",
    "                    u'Chaumont-en-Vexin',u'Chavençon',u'Chèvreville',u'Corbeil-Cerf',u'Le Coudray-sur-Thelle',\n",
    "                    u'Courcelles-lès-Gisors',u'Courteuil',u'Coye-la-Forêt',u'Crépy-en-Valois',u'Crouy-en-Thelle',\n",
    "                    u'Cuvergnon',u'Delincourt',u'Le Déluge',u'Dieudonné',u'Duvy',u'Éméville',u'Énencourt-Léage',\n",
    "                    u'Énencourt-le-Sec',u'Éragny-sur-Epte',u'Ercuis',u'Ermenonville',u'Esches',u'Étavigny',u'Ève',\n",
    "                    u'Fay-les-Étangs',u'Feigneux',u'Flavacourt',u'Fleury',u'Fontaine-Chaalis',u'Fosseuse',u'Foulangues',\n",
    "                    u'Fresneaux-Montchevreuil',u'Fresne-Léguillon',u'Fresnoy-en-Thelle',u'Fresnoy-la-Rivière',\n",
    "                    u'Fresnoy-le-Luat',u'Gilocourt',u'Glaignes',u'Gondreville',u'Gouvieux',u'Hadancourt-le-Haut-Clocher',\n",
    "                    u'Hardivillers-en-Vexin',u'Hénonville',u'Hodenc-l\\'Évêque',u'La Houssoye',u'Ivors',u'Ivry-le-Temple',\n",
    "                    u'Jaméricourt',u'Jouy-sous-Thelle',u'Laboissière-en-Thelle',u'Labosse',u'Lachapelle-Saint-Pierre',\n",
    "                    u'Lagny-le-Sec',u'Lalande-en-Son',u'Lamorlaye',u'Lattainville',u'Lavilletertre',u'Lévignen',\n",
    "                    u'Liancourt-Saint-Pierre',u'Lierville',u'Loconville',u'Lormaison',u'Mareuil-sur-Ourcq',u'Marolles',\n",
    "                    u'Méru',u'Le Mesnil-en-Thelle',u'Le Mesnil-Théribus',u'Monneville',u'Montagny-en-Vexin',\n",
    "                    u'Montagny-Sainte-Félicité',u'Montherlant',u'Montjavoult',u'Montlognon',u'Monts',u'Morangles',u'Morienval',\n",
    "                    u'Mortefontaine',u'Mortefontaine-en-Thelle',u'Nanteuil-le-Haudouin',u'Neufchelles',u'Neuilly-en-Thelle',\n",
    "                    u'Neuville-Bosc',u'La Neuville-d\\'Aumont',u'La Neuville-Garnier',u'Nogent-sur-Oise',u'Noailles',u'Novillers',\n",
    "                    u'Ognes',u'Ormoy-Villers',u'Orrouy',u'Orry-la-Ville',u'Parnes',u'Péroy-les-Gombries',u'Plailly',\n",
    "                    u'Le Plessis-Belleville',u'Ponchon',u'Pontarmé',u'Porcheux',u'Pouilly',u'Puiseux-en-Bray',\n",
    "                    u'Puiseux-le-Hauberger',u'Réez-Fosse-Martin',u'Reilly',u'Ressons-l\\'Abbaye',u'Rocquemont',u'Rosières',\n",
    "                    u'Rosoy-en-Multien',u'Rouville',u'Rouvres-en-Multien',u'Russy-Bémont',u'Saint-Crépin-Ibouvillers',\n",
    "                    u'Sainte-Geneviève',u'Saint-Pierre-es-Champs',u'Saint-Sulpice',u'Senots',u'Serans',u'Sérifontaine',\n",
    "                    u'Séry-Magneval',u'Silly-le-Long',u'Silly-Tillard',u'Talmontiers',u'Thibivillers',u'Thiers-sur-Thève',\n",
    "                    u'Thury-en-Valois',u'Tourly',u'Trie-Château',u'Trie-la-Ville',u'Trumilly',u'Ully-Saint-Georges',\n",
    "                    u'Valdampierre',u'Varinfroy',u'Vauciennes',u'Vaudancourt',u'Le Vaumain',u'Vaumoise',u'Le Vauroux',\n",
    "                    u'Ver-sur-Launette',u'Versigny',u'Vez',u'Villeneuve-les-Sablons',u'La Villeneuve-sous-Thury',\n",
    "                    u'Villers-Saint-Genest',u'Villers-sur-Trie',u'Villotran',u'Vineuil-Saint-Firmin',u'Achères-la-Forêt',\n",
    "                    u'Amillis',u'Amponville',u'Andrezel',u'Annet-sur-Marne',u'Arbonne-la-Forêt',u'Argentières',\n",
    "                    u'Armentières-en-Brie',u'Aubepierre-Ozouer-le-Repos',u'Augers-en-Brie',u'Aulnoy',u'Avon',\n",
    "                    u'Bailly-Romainvilliers',u'Balloy',u'Bannost-Villegagnon',u'Barbizon',u'Barcy',u'Bassevelle',\n",
    "                    u'Beautheil',u'Beauvoir',u'Bellot',u'Bernay-Vilbert',u'Beton-Bazoches',u'Bezalles',u'Blandy',u'Boisdon',\n",
    "                    u'Bois-le-Roi',u'Boissettes',u'Boissise-la-Bertrand',u'Boissise-le-Roi',u'Boissy-aux-Cailles',\n",
    "                    u'Boissy-le-Châtel',u'Boitron',u'Bombon',u'Boulancourt',u'Bouleurs',u'Bourron-Marlotte',u'Boutigny',\n",
    "                    u'Bréau',u'Brie-Comte-Robert',u'La Brosse-Montceaux',u'Brou-sur-Chantereine',u'Burcy',u'Bussières',\n",
    "                    u'Bussy-Saint-Georges',u'Bussy-Saint-Martin',u'Carnetin',u'La Celle-sur-Morin',u'Cély-en-Bière',u'Cerneux',\n",
    "                    u'Cesson',u'Cessoy-en-Montois',u'Chailly-en-Bière',u'Chailly-en-Brie',u'Chalifert',u'Chambry',u'Chamigny',\n",
    "                    u'Champagne-sur-Seine',u'Champcenest',u'Champdeuil',u'Champeaux',u'Champs-sur-Marne',u'Changis-sur-Marne',\n",
    "                    u'Chanteloup-en-Brie',u'La Chapelle-Gauthier',u'La Chapelle-Iger',u'La Chapelle-la-Reine',\n",
    "                    u'La Chapelle-Rablais',u'La Chapelle-Saint-Sulpice',u'Les Chapelles-Bourbon',u'La Chapelle-Moutils',\n",
    "                    u'Charmentray',u'Charny',u'Chartrettes',u'Chartronges',u'Châteaubleau',u'Le Châtelet-en-Brie',\n",
    "                    u'Châtenay-sur-Seine',u'Châtillon-la-Borde',u'Châtres',u'Chauffry',u'Chaumes-en-Brie',u'Chelles',\n",
    "                    u'Chenoise',u'Chessy',u'Chevru',u'Chevry-Cossigny',u'Choisy-en-Brie',u'Citry',u'Claye-Souilly',\n",
    "                    u'Clos-Fontaine',u'Cocherel',u'Collégien',u'Combs-la-Ville',u'Compans',u'Conches-sur-Gondoire',\n",
    "                    u'Condé-Sainte-Libiaire',u'Congis-sur-Thérouanne',u'Coubert',u'Couilly-Pont-aux-Dames',\n",
    "                    u'Coulombs-en-Valois',u'Coulommes',u'Coulommiers',u'Coupvray',u'Courcelles-en-Bassée',u'Courpalay',\n",
    "                    u'Courquetaine',u'Courtacon',u'Courtomer',u'Courtry',u'Coutençon',u'Coutevroult',u'Crécy-la-Chapelle',\n",
    "                    u'Crégy-lès-Meaux',u'Crèvecœur-en-Brie',u'Crisenoy',u'Croissy-Beaubourg',u'La Croix-en-Brie',\n",
    "                    u'Crouy-sur-Ourcq',u'Cucharmoy',u'Cuisy',u'Dagny',u'Dammarie-lès-Lys',u'Dammartin-en-Goële',\n",
    "                    u'Dammartin-sur-Tigeaux',u'Dampmart',u'Dhuisy',u'Donnemarie-Dontilly',u'Dormelles',u'Doue',\n",
    "                    u'Douy-la-Ramée',u'Échouboulains',u'Les Écrennes',u'Écuelles',u'Égligny',u'Émerainville',u'Épisy',\n",
    "                    u'Esbly',u'Étrépilly',u'Évry-Grégy-sur-Yerre',u'Faremoutiers',u'Favières',u'Féricy',u'Férolles-Attilly',\n",
    "                    u'Ferrières-en-Brie',u'La Ferté-Gaucher',u'La Ferté-sous-Jouarre',u'Flagy',u'Fleury-en-Bière',\n",
    "                    u'Fontainebleau',u'Fontaine-le-Port',u'Fontains',u'Fontenailles',u'Fontenay-Trésigny',u'Forfry',u'Fouju',\n",
    "                    u'Fresnes-sur-Marne',u'Frétoy',u'Fromont',u'Fublaines',u'Garentreville',u'Gastins',u'La Genevraye',\n",
    "                    u'Germigny-l\\'Évêque',u'Germigny-sous-Coulombs',u'Gesvres-le-Chapitre',u'Giremoutiers',u'Gouvernes',\n",
    "                    u'La Grande-Paroisse',u'Grandpuits-Bailly-Carrois',u'Gravon',u'Gressy',u'Gretz-Armainvilliers',\n",
    "                    u'Grez-sur-Loing',u'Grisy-Suisnes',u'Guérard',u'Guercheville',u'Guermantes',u'Guignes',u'Gurcy-le-Châtel',\n",
    "                    u'Hautefeuille',u'La Haute-Maison',u'Héricy',u'Hondevilliers',u'La Houssaye-en-Brie',u'Isles-les-Meldeuses',\n",
    "                    u'Isles-lès-Villenoy',u'Iverny',u'Jablines',u'Jaignes',u'Jossigny',u'Jouarre',u'Jouy-le-Châtel',\n",
    "                    u'Jouy-sur-Morin',u'Juilly',u'Lagny-sur-Marne',u'Larchant',u'Laval-en-Brie',u'Lescherolles',u'Lesches',\n",
    "                    u'Lésigny',u'Leudon-en-Brie',u'Lieusaint',u'Limoges-Fourches',u'Lissy',u'Liverdy-en-Brie',\n",
    "                    u'Livry-sur-Seine',u'Lizines',u'Lizy-sur-Ourcq',u'Lognes',u'Longperrier',u'Luisetaines',\n",
    "                    u'Lumigny-Nesles-Ormeaux',u'Luzancy',u'Machault',u'Magny-le-Hongre',u'Maincy',u'Maisoncelles-en-Brie',\n",
    "                    u'Maison-Rouge',u'Marchémoret',u'Marcilly',u'Les Marêts',u'Mareuil-lès-Meaux',u'Marles-en-Brie',\n",
    "                    u'Marolles-en-Brie',u'Mary-sur-Marne',u'Mauperthuis',u'Mauregard',u'May-en-Multien',u'Meaux',u'Mée-sur-Seine',\n",
    "                    u'Meigneux',u'Meilleray',u'Melun',u'Méry-sur-Marne',u'Le Mesnil-Amelot',u'Messy',u'Misy-sur-Yonne',\n",
    "                    u'Mitry-Mory',u'Moisenay',u'Moissy-Cramayel',u'Mons-en-Montois',u'Montarlot',u'Montceaux-lès-Meaux',\n",
    "                    u'Montceaux-lès-Provins',u'Montcourt-Fromonville',u'Montdauphin',u'Montereau-sur-le-Jard',u'Montévrain',\n",
    "                    u'Montgé-en-Goële',u'Monthyon',u'Montigny-Lencoup',u'Montigny-sur-Loing',u'Montmachoux',u'Montolivet',\n",
    "                    u'Montry',u'Moret-sur-Loing',u'Mormant',u'Mortcerf',u'Mouroux',u'Moussy-le-Neuf',u'Moussy-le-Vieux',u'Nandy',\n",
    "                    u'Nangis',u'Nanteuil-lès-Meaux',u'Nanteuil-sur-Marne',u'Nantouillet',u'Chauconin-Neufmontiers',\n",
    "                    u'Neufmoutiers-en-Brie',u'Noisiel',u'Noisy-Rudignon',u'Noisy-sur-École',u'Nonville',u'Ocquerre',u'Oissery',\n",
    "                    u'Orly-sur-Morin',u'Othis',u'Ozoir-la-Ferrière',u'Ozouer-le-Voulgis',u'Pamfou',u'Paroy',u'Pécy',u'Penchard',\n",
    "                    u'Perthes',u'Pézarches',u'Pierre-Levée',u'Pin',u'Le Plessis-aux-Bois',u'Le Plessis-Feu-Aussoux',\n",
    "                    u'Le Plessis-l\\'Évêque',u'Le Plessis-Placy',u'Poincy',u'Pommeuse',u'Pomponne',u'Pontault-Combault',u'Pontcarré',\n",
    "                    u'Précy-sur-Marne',u'Presles-en-Brie',u'Pringy',u'Puisieux',u'Quiers',u'Quincy-Voisins',u'Rampillon',u'Réau',\n",
    "                    u'Rebais',u'Recloses',u'Reuil-en-Brie',u'La Rochette',u'Roissy-en-Brie',u'Rouvres',u'Rozay-en-Brie',u'Rubelles',\n",
    "                    u'Rumont',u'Rupéreux',u'Saâcy-sur-Marne',u'Sablonnières',u'Saint-Ange-le-Viel',u'Saint-Augustin',u'Sainte-Aulde',\n",
    "                    u'Saint-Barthélemy',u'Saint-Cyr-sur-Morin',u'Saint-Denis-lès-Rebais',u'Saint-Fargeau-Ponthierry',u'Saint-Fiacre',\n",
    "                    u'Saint-Germain-Laxis',u'Saint-Germain-sous-Doue',u'Saint-Germain-sur-École',u'Saint-Germain-sur-Morin',\n",
    "                    u'Saint-Jean-les-Deux-Jumeaux',u'Saint-Just-en-Brie',u'Saint-Léger',u'Saint-Mammès',u'Saint-Mard',\n",
    "                    u'Saint-Mars-Vieux-Maisons',u'Saint-Martin-des-Champs',u'Saint-Martin-du-Boschet',u'Saint-Martin-en-Bière',\n",
    "                    u'Saint-Méry',u'Saint-Mesmes',u'Saint-Ouen-en-Brie',u'Saint-Ouen-sur-Morin',u'Saint-Pathus',\n",
    "                    u'Saint-Rémy-la-Vanne',u'Saints',u'Saint-Sauveur-lès-Bray',u'Saint-Sauveur-sur-École',u'Saint-Siméon',\n",
    "                    u'Saint-Soupplets',u'Saint-Thibault-des-Vignes',u'Salins',u'Sammeron',u'Samois-sur-Seine',u'Samoreau',\n",
    "                    u'Sancy',u'Sancy-lès-Provins',u'Savigny-le-Temple',u'Savins',u'Seine-Port',u'Sept-Sorts',u'Serris',u'Servon',\n",
    "                    u'Signy-Signets',u'Sigy',u'Sivry-Courtry',u'Sognolles-en-Montois',u'Soignolles-en-Brie',u'Solers',u'Tancrou',\n",
    "                    u'Thénisy',u'Thieux',u'Thomery',u'Thorigny-sur-Marne',u'Thoury-Férottes',u'Tigeaux',u'Torcy',u'Touquin',\n",
    "                    u'Tournan-en-Brie',u'Tousson',u'La Trétoire',u'Trilbardou',u'Trilport',u'Trocy-en-Multien',u'Ury',\n",
    "                    u'Ussy-sur-Marne',u'Vaires-sur-Marne',u'Valence-en-Brie',u'Vanvillé',u'Varreddes',u'Vaucourtois',u'Le Vaudoué',\n",
    "                    u'Vaudoy-en-Brie',u'Vaux-le-Pénil',u'Vendrest',u'Veneux-les-Sablons',u'Verdelot',u'Verneuil-l\\'Étang',\n",
    "                    u'Vernou-la-Celle-sur-Seine',u'Vert-Saint-Denis',u'Vieux-Champagne',u'Vignely',u'Villecerf',u'Villemaréchal',\n",
    "                    u'Villemareuil',u'Villemer',u'Villeneuve-le-Comte',u'Villeneuve-les-Bordes',u'Villeneuve-Saint-Denis',\n",
    "                    u'Villeneuve-sous-Dammartin',u'Villeneuve-sur-Bellot',u'Villenoy',u'Villeparisis',u'Villeroy',\n",
    "                    u'Ville-Saint-Jacques',u'Villevaudé',u'Villiers-en-Bière',u'Villiers-sous-Grez',u'Villiers-sur-Morin',\n",
    "                    u'Vimpelles',u'Vinantes',u'Vincy-Manœuvre',u'Voinsles',u'Voisenon',u'Voulangis',u'Vulaines-sur-Seine',u'Yèbles']"
   ]
  },
  {
   "cell_type": "markdown",
   "metadata": {},
   "source": [
    "Now we can load the source of INSEE codes (found at http://www.insee.fr/fr/methodes/nomenclatures/cog/telechargement.asp) which we can then use to map town names."
   ]
  },
  {
   "cell_type": "code",
   "execution_count": 104,
   "metadata": {
    "collapsed": false
   },
   "outputs": [
    {
     "name": "stderr",
     "output_type": "stream",
     "text": [
      "C:\\Users\\Mark\\Anaconda\\lib\\site-packages\\pandas\\io\\parsers.py:1170: DtypeWarning: Columns (5,10) have mixed types. Specify dtype option on import or set low_memory=False.\n",
      "  data = self._reader.read(nrows)\n"
     ]
    }
   ],
   "source": [
    "communeID = pd.read_csv('tempdata/france2015.txt',sep='\\t')"
   ]
  },
  {
   "cell_type": "code",
   "execution_count": 105,
   "metadata": {
    "collapsed": false
   },
   "outputs": [],
   "source": [
    "#We have to use this particular data file to create a the unique\n",
    "#codes that map the INSEE codes above. This is a combination of \n",
    "#the COM and DEP columns. We also have to include 0's appropriately\n",
    "#to get the right 5-digit codes which is done here -- for example\n",
    "#a COM of 3 should really be a string '003'\n",
    "#We store that to COM2 for now\n",
    "COM2 = []\n",
    "for i,j in zip(communeID['COM'],communeID['DEP']):\n",
    "    if (len(str(i))==1) and (len(str(j))==2):\n",
    "        COM2.append('00'+str(i))\n",
    "    elif (len(str(i))==2) and (len(str(j))==2):\n",
    "        COM2.append('0'+str(i))\n",
    "    elif (len(str(i))==1) and (len(str(j))==3):\n",
    "        COM2.append('0'+str(i))\n",
    "    else:\n",
    "        COM2.append(str(i))"
   ]
  },
  {
   "cell_type": "code",
   "execution_count": 106,
   "metadata": {
    "collapsed": true
   },
   "outputs": [],
   "source": [
    "#Now we add the COM2 column into our dataframe\n",
    "communeID['COM2']=COM2"
   ]
  },
  {
   "cell_type": "code",
   "execution_count": 107,
   "metadata": {
    "collapsed": false
   },
   "outputs": [],
   "source": [
    "#This converts the value to a string (we already converted\n",
    "#COM to a string above)\n",
    "communeID['DEP'] = communeID['DEP'].astype(str)"
   ]
  },
  {
   "cell_type": "code",
   "execution_count": 108,
   "metadata": {
    "collapsed": false
   },
   "outputs": [],
   "source": [
    "#Now we make the column id which contains the unique codes\n",
    "communeID['id']=communeID['DEP']+communeID['COM2']"
   ]
  },
  {
   "cell_type": "code",
   "execution_count": 109,
   "metadata": {
    "collapsed": false
   },
   "outputs": [],
   "source": [
    "#We make a mapper to map the 5-digit code to\n",
    "#the town name stored in NCC. This will get\n",
    "#use linked to the previous data\n",
    "communeID_dict = {}\n",
    "for i,j in zip(communeID['id'],communeID['NCC']):\n",
    "    communeID_dict[str(i)]=j"
   ]
  },
  {
   "cell_type": "code",
   "execution_count": 110,
   "metadata": {
    "collapsed": false
   },
   "outputs": [],
   "source": [
    "#We make this special dictionary to deal with the few\n",
    "#cases where we have names and not 5-digit codes\n",
    "#in the communes dictionary\n",
    "specialID_dict = {}\n",
    "for i,j in zip(communeID['NCCENR'],communeID['NCC']):\n",
    "    specialID_dict[i]=j"
   ]
  },
  {
   "cell_type": "code",
   "execution_count": 111,
   "metadata": {
    "collapsed": false
   },
   "outputs": [],
   "source": [
    "#This makes our city names instead of 5-digit codes\n",
    "#for each of the urban areas\n",
    "communes2 = {}\n",
    "for c in communes:\n",
    "    #One off case with some weirdness\n",
    "    if c == u'Gen\\xe8ve - Annemasse5,3':\n",
    "        communes2[u'Gen\\xe8ve - Annemasse'] = []\n",
    "        for i in communes[c]:\n",
    "            if len(str(i))==4:\n",
    "                communes2[u'Gen\\xe8ve - Annemasse'].append(communeID_dict[str(0)+str(i)])\n",
    "            elif len(str(i))==2:\n",
    "                continue\n",
    "            else:\n",
    "                try:\n",
    "                    communes2[u'Gen\\xe8ve - Annemasse'].append(communeID_dict[str(i)])\n",
    "                except:\n",
    "                    pass\n",
    "    #Deal with text urban areas, tons of weird exceptions\n",
    "    #because of accents and other slight difference. We've\n",
    "    #captured the vast majority with this code\n",
    "    elif c in [u'Nantes',u'Paris',u'Saint-Nazaire']:\n",
    "        communes2[c] = []\n",
    "        for i in communes[c]:\n",
    "            if i == 'Grandchamp-des-Fontaines':\n",
    "                i='Grandchamps-des-Fontaines'\n",
    "                communes2[c].append(specialID_dict[i])\n",
    "            elif i == u'B\\xe9zu-la-For\\xeat':\n",
    "                i='B\\xe9zu-la-For\\xeat'\n",
    "                communes2[c].append(specialID_dict[i])\n",
    "            elif i == u'Villiers-en-D\\xe9s\\u0153uvre':\n",
    "                i='Villiers-en-D\\xe9s\\x9cuvre'\n",
    "                communes2[c].append(specialID_dict[i])\n",
    "            elif i == u'B\\xfb':\n",
    "                i='B\\xfb'\n",
    "                communes2[c].append(specialID_dict[i])\n",
    "            elif i == u'C\\xe9ly-en-Bi\\xe8re':\n",
    "                i='Chailly-en-Bi\\xe8re'\n",
    "                communes2[c].append(specialID_dict[i])\n",
    "            elif i == u'Cr\\xe8vec\\u0153ur-en-Brie':\n",
    "                i='Cr\\xe8vec\\x9cur-en-Brie'\n",
    "                communes2[c].append(specialID_dict[i])\n",
    "            elif i == u'Dammarie-l\\xe8s-Lys':\n",
    "                i='Dammarie-les-Lys'\n",
    "                communes2[c].append(specialID_dict[i])               \n",
    "            elif i ==u'Saint-Symphorien-le-Ch\\xe2teau':\n",
    "                continue\n",
    "            elif i == u'Moret-sur-Loing':\n",
    "                continue\n",
    "            else:\n",
    "                i = i.replace('La ','').replace('Le ','').replace('Les ','').replace('L\\'','')\n",
    "                communes2[c].append(specialID_dict[i.encode('utf-8').replace('\\xc5\\x93','\\x9c').replace('\\xc3\\x88','\\xc8').replace('\\xc3\\xaa','\\xea').replace('\\xc3\\xa7','\\xe7').replace('\\xc3\\xa9e','\\xe9e').replace('\\xc3\\xa2','\\xe2').replace('\\xc3\\xa9','\\xe9').replace('\\xc3\\xab','\\xeb').replace('\\xc3\\xa8','\\xe8').replace('\\xc3\\x89','\\xc9')])\n",
    "    #For all normal urban areas with codes\n",
    "    else:\n",
    "        communes2[c] = []\n",
    "        #Loop through all communes for the urban area\n",
    "        for i in communes[c]:\n",
    "            #if it's a 4-digit code, we need the leading\n",
    "            #0 to match the INSEE\n",
    "            if len(str(i))==4:\n",
    "                communes2[c].append(communeID_dict[str(0)+str(i)])\n",
    "            #If it's a 2-digit code, we just continue on as it's not\n",
    "            #going to match\n",
    "            elif len(str(i))==2:\n",
    "                continue\n",
    "            #Otherwise we link the code. We just try it here\n",
    "            #and ignore it if it doesn't work. This is so few\n",
    "            #cases that it really won't matter since we're taking\n",
    "            #an average across all towns in an urban area\n",
    "            else:\n",
    "                try:\n",
    "                    communes2[c].append(communeID_dict[str(i)])\n",
    "                except:\n",
    "                    pass"
   ]
  },
  {
   "cell_type": "code",
   "execution_count": 112,
   "metadata": {
    "collapsed": false
   },
   "outputs": [],
   "source": [
    "#We want to add a few specific districts to Paris because of how the air quality data is recorded\n",
    "#We just do that manually\n",
    "communes2[u'Paris']=communes2[u'Paris']+['PARIS','PARIS 12E  ARRONDISSEMENT','PARIS 18E  ARRONDISSEMENT',\n",
    "                   'PARIS 4E  ARRONDISSEMENT','PARIS 6E  ARRONDISSEMENT','PARIS 7E  ARRONDISSEMENT',\n",
    "                   'PARIS 8E  ARRONDISSEMENT','PARIS 9E  ARRONDISSEMENT']\n"
   ]
  },
  {
   "cell_type": "markdown",
   "metadata": {},
   "source": [
    "We now turn to compiling the density information for each of these urban areas. We already have a dictionary that contains the area of each town in each urban area. We just need to get the sum of all those towns to get the total for the urban area. The following does exactly this:"
   ]
  },
  {
   "cell_type": "code",
   "execution_count": 113,
   "metadata": {
    "collapsed": false
   },
   "outputs": [],
   "source": [
    "#Make a dictionary that has the total area of each Urban Area\n",
    "areaLookup = {}\n",
    "#Some of the areas parsed included total area when they shouldn't have. We store the names\n",
    "#of those here so that we remove the last element (which is the total of all previous) when\n",
    "#calculating the sum. Otherwise we'd get 2 times the right amount\n",
    "total = [u'Lyon',u'Montb\\xe9liard',u'Roanne',u'Chartes',u'Chalon-sur-Sa\\xf4ne',u'Saint-\\xc9tienne',\n",
    "        u'Saint-Quentin',u'Cherbourg-Octeville',u'Avignon',u'Calais',u'Creil',u'Vienne',u'Bourg-en-Bresse',\n",
    "        u'Charleville-M\\xe9zi\\xe8res',u'Boulogne-sur-Mer',u'Beauvais',u'Le Havre',u'Mulhouse',u'Agen',\n",
    "        u'Maubeuge3',u'Nevers',u'La Rochelle',u'Douai - Lens',u'Sarrebruck - Forbach3',u'Annecy',u'Al\\xe8s',\n",
    "        u'Belfort',u'Lille3,4',u'B\\xe9ziers',u'Thionville',u'Brest',u'Saint-Brieuc',u'Quimper',u'Colmar',\n",
    "        u'Bayonne3',u'Lorient',u'Vannes',u'B\\xe9thune',u'\\xc9vreux',u'Arras',u'Laval']\n",
    "#We convert to square miles within this to be comparable to our US data\n",
    "for a in areaDict:\n",
    "    if a in total:\n",
    "        areaLookup[a] = np.array(areaDict[a][:-1]).sum()*0.386102\n",
    "    else:\n",
    "        areaLookup[a] = np.array(areaDict[a]).sum()*0.386102\n",
    "#This one missed a couple with the parsing which we add back in\n",
    "areaLookup[u'Cayenne (Guyane)']+=((3902.5+600)*0.386102)"
   ]
  },
  {
   "cell_type": "code",
   "execution_count": 114,
   "metadata": {
    "collapsed": true
   },
   "outputs": [],
   "source": [
    "#manually add a few urban area values in as it doesn't have\n",
    "#the table on it's wiki so we couldn't do that in the previous\n",
    "areaLookup[u'Paris']=6631.3046\n",
    "areaLookup[u'Orl\\xe9ans']=1180.69654\n",
    "areaLookup[u'Valence']=267.236748\n",
    "areaLookup[u'Saint-Nazaire']=403.3918132\n",
    "areaLookup[u'Rennes']=979.324959\n",
    "#There is no info on the area of these aire urbaine available\n",
    "areaLookup[u'Chamb\\xe9ry'] = np.nan\n",
    "areaLookup[u'Le Mans']=np.nan"
   ]
  },
  {
   "cell_type": "code",
   "execution_count": 115,
   "metadata": {
    "collapsed": true
   },
   "outputs": [],
   "source": [
    "#Make a dictionary of population density\n",
    "#from the population dictionary and area dictionary\n",
    "densedict = {}\n",
    "for i in popdict.keys():\n",
    "    densedict[i] = popdict[i]/areaLookup[i]"
   ]
  },
  {
   "cell_type": "markdown",
   "metadata": {},
   "source": [
    "####Collecting Air Quality Data"
   ]
  },
  {
   "cell_type": "markdown",
   "metadata": {},
   "source": [
    "We have most of the demographic data well compiled at this point. Next we need to get the air quality data for each of these urban areas. The sources of this data are listed in the introduction. Just as with the US data, we also want to extract seasonal and monthly values to account for seasonal variation. First we just get the yearly aggregated data."
   ]
  },
  {
   "cell_type": "code",
   "execution_count": 116,
   "metadata": {
    "collapsed": true
   },
   "outputs": [],
   "source": [
    "#Read in the France air quality summary file\n",
    "#This is a large file that needs a fair amount of cleaning\n",
    "#It has all the same pollutants we looked at with the US\n",
    "FranceAir = pd.read_csv('tempdata/AirBase_FR_v8_statistics.csv',sep='\\t')"
   ]
  },
  {
   "cell_type": "code",
   "execution_count": 117,
   "metadata": {
    "collapsed": true
   },
   "outputs": [],
   "source": [
    "#Read in France Air Measurement Station Data\n",
    "#This includes info about each site\n",
    "stationInfo = pd.read_csv('tempdata/AirBase_FR_v8_stations.csv',sep='\\t')"
   ]
  },
  {
   "cell_type": "code",
   "execution_count": 118,
   "metadata": {
    "collapsed": false
   },
   "outputs": [],
   "source": [
    "#We make a list of all cities that are in any of our \n",
    "#urban areas based on the communes3 dictionary from earlier\n",
    "allCities = []\n",
    "for c in communes2.values():\n",
    "    for i in c:\n",
    "        allCities.append(i)"
   ]
  },
  {
   "cell_type": "code",
   "execution_count": 119,
   "metadata": {
    "collapsed": false
   },
   "outputs": [
    {
     "name": "stdout",
     "output_type": "stream",
     "text": [
      "Number of stations in Urban Areas: 448\n"
     ]
    }
   ],
   "source": [
    "#We subset the station data to just include those cities\n",
    "#that are part of an urban area of interest\n",
    "mask4 = stationInfo['station_city'].isin(allCities)\n",
    "stationInfo = stationInfo[mask4]\n",
    "print 'Number of stations in Urban Areas: '+str(stationInfo.shape[0])"
   ]
  },
  {
   "cell_type": "code",
   "execution_count": 120,
   "metadata": {
    "collapsed": false
   },
   "outputs": [],
   "source": [
    "#We make a reversed dictionary of the communes\n",
    "#This has keys of each commune and values of the urban\n",
    "#are that commune belongs to\n",
    "rev_communes2 = {}\n",
    "for i,j in zip(communes2.keys(),communes2.values()):\n",
    "    for x in j:\n",
    "        rev_communes2[x]=i"
   ]
  },
  {
   "cell_type": "code",
   "execution_count": 121,
   "metadata": {
    "collapsed": false
   },
   "outputs": [],
   "source": [
    "#We use that dictionary to map a new column to the station dataframe\n",
    "#that stores the commune name as scraped from Wikipedia\n",
    "stationInfo['Code'] = stationInfo['station_city'].map(rev_communes2.get)"
   ]
  },
  {
   "cell_type": "code",
   "execution_count": 122,
   "metadata": {
    "collapsed": false
   },
   "outputs": [
    {
     "name": "stderr",
     "output_type": "stream",
     "text": [
      "C:\\Users\\Mark\\Anaconda\\lib\\site-packages\\IPython\\kernel\\__main__.py:8: UnicodeWarning: Unicode equal comparison failed to convert both arguments to Unicode - interpreting them as being unequal\n"
     ]
    }
   ],
   "source": [
    "#We make a new Code  value that cleans some junk from\n",
    "#our names and normalized the unicode text so it's easier\n",
    "#to work with with merging (convert accents and special characters)\n",
    "newCode = []\n",
    "for i in stationInfo['Code']:\n",
    "    if i == 'Lille3,4':\n",
    "        newCode.append('Lille')\n",
    "    elif i == 'Saint-Denis (La Réunion)':\n",
    "        newCode.append('Saint-Denis (La Reunion)')\n",
    "    else:\n",
    "        newCode.append(unicodedata.normalize(\"NFKD\",i).encode('ascii','ignore').strip())"
   ]
  },
  {
   "cell_type": "code",
   "execution_count": 123,
   "metadata": {
    "collapsed": true
   },
   "outputs": [],
   "source": [
    "#We replace 'Code' with this better version of the variable\n",
    "#that's been cleaned up\n",
    "stationInfo['Code'] = newCode"
   ]
  },
  {
   "cell_type": "code",
   "execution_count": 124,
   "metadata": {
    "collapsed": false
   },
   "outputs": [],
   "source": [
    "#Make a map of France Station City to\n",
    "#France Station code\n",
    "mapCityID = {}\n",
    "for i,j in zip(stationInfo['station_european_code'],stationInfo['Code']):\n",
    "    mapCityID[i] = j\n",
    "#Also make a reverse map as we will need that as well\n",
    "revmapCityID = {v: k for k, v in mapCityID.items()}"
   ]
  },
  {
   "cell_type": "code",
   "execution_count": 125,
   "metadata": {
    "collapsed": false
   },
   "outputs": [],
   "source": [
    "#Filter to yearly measurements from 2010 first\n",
    "FranceAir = FranceAir[FranceAir['statistics_year']==2010]"
   ]
  },
  {
   "cell_type": "code",
   "execution_count": 126,
   "metadata": {
    "collapsed": false
   },
   "outputs": [],
   "source": [
    "#Subset the air quality data to just include data from stations\n",
    "#in towns of the urban areas\n",
    "mask5 = FranceAir['station_european_code'].isin(mapCityID.keys())\n",
    "FranceAir = FranceAir[mask5]"
   ]
  },
  {
   "cell_type": "code",
   "execution_count": 127,
   "metadata": {
    "collapsed": false
   },
   "outputs": [],
   "source": [
    "#Add the 'Code' column to this dataframe as well so that we can merge\n",
    "#it with other data\n",
    "FranceAir['Code']=FranceAir['station_european_code'].map(mapCityID.get)"
   ]
  },
  {
   "cell_type": "code",
   "execution_count": 128,
   "metadata": {
    "collapsed": false
   },
   "outputs": [],
   "source": [
    "#Filter just to the annual data for now\n",
    "#There are aggregated measures for other methods\n",
    "#that are averages of monthly averages or averages\n",
    "#of weekly averages. It seems like the annual mean\n",
    "#is the best place to start\n",
    "FranceAir = FranceAir[(FranceAir['statistics_average_group']=='day') & (FranceAir['statistic_name']=='annual mean')]"
   ]
  },
  {
   "cell_type": "code",
   "execution_count": 129,
   "metadata": {
    "collapsed": true
   },
   "outputs": [],
   "source": [
    "#Filter just to compounds of interest (those that overlap US data)\n",
    "listCom = ['Sulphur dioxide (air)','Particulate matter < 10 \\xc2\\xb5m (aerosol)','Ozone (air)',\n",
    "          'Nitrogen dioxide (air)','Particulate matter < 2.5 \\xc2\\xb5m (aerosol)','Carbon monoxide (air)']\n",
    "mask2 = FranceAir['component_name'].isin(listCom)\n",
    "FranceAir = FranceAir[mask2]"
   ]
  },
  {
   "cell_type": "code",
   "execution_count": 130,
   "metadata": {
    "collapsed": false
   },
   "outputs": [
    {
     "name": "stderr",
     "output_type": "stream",
     "text": [
      "C:\\Users\\Mark\\Anaconda\\lib\\site-packages\\pandas\\core\\indexing.py:249: SettingWithCopyWarning: \n",
      "A value is trying to be set on a copy of a slice from a DataFrame.\n",
      "Try using .loc[row_indexer,col_indexer] = value instead\n",
      "\n",
      "See the the caveats in the documentation: http://pandas.pydata.org/pandas-docs/stable/indexing.html#indexing-view-versus-copy\n",
      "  self.obj[key] = _infer_fill_value(value)\n",
      "C:\\Users\\Mark\\Anaconda\\lib\\site-packages\\pandas\\core\\indexing.py:415: SettingWithCopyWarning: \n",
      "A value is trying to be set on a copy of a slice from a DataFrame.\n",
      "Try using .loc[row_indexer,col_indexer] = value instead\n",
      "\n",
      "See the the caveats in the documentation: http://pandas.pydata.org/pandas-docs/stable/indexing.html#indexing-view-versus-copy\n",
      "  self.obj[item] = s\n"
     ]
    }
   ],
   "source": [
    "#Convert units to comparable units\n",
    "#Conversions gathered from http://www2.dmu.dk/AtmosphericEnvironment/Expost/database/docs/PPM_conversion.pdf\n",
    "#SO2\n",
    "so2_g = FranceAir[FranceAir['component_name']=='Sulphur dioxide (air)']\n",
    "so2_g.loc[:,'valCor'] = so2_g['statistic_value']/2.62\n",
    "a = so2_g.groupby('Code')\n",
    "b = a['valCor'].mean()\n",
    "b = pd.DataFrame(b)\n",
    "b = b.reset_index()\n",
    "b['id']=b['Code'].map(revmapCityID.get)\n",
    "so2_g = b\n",
    "#NO2\n",
    "no2_g = FranceAir[FranceAir['component_name']=='Nitrogen dioxide (air)']\n",
    "no2_g.loc[:,'valCor'] = no2_g['statistic_value']/1.88\n",
    "a = no2_g.groupby('Code')\n",
    "b = a['valCor'].mean()\n",
    "b = pd.DataFrame(b)\n",
    "b = b.reset_index()\n",
    "b['id']=b['Code'].map(revmapCityID.get)\n",
    "no2_g = b\n",
    "#CO\n",
    "co_g = FranceAir[FranceAir['component_name']=='Carbon monoxide (air)']\n",
    "co_g.loc[:,'valCor'] = ((co_g['statistic_value']*1000)/1.145)/1000\n",
    "a = co_g.groupby('Code')\n",
    "b = a['valCor'].mean()\n",
    "b = pd.DataFrame(b)\n",
    "b = b.reset_index()\n",
    "b['id']=b['Code'].map(revmapCityID.get)\n",
    "co_g = b\n",
    "#OZONE\n",
    "ozone_g = FranceAir[FranceAir['component_name']=='Ozone (air)']\n",
    "ozone_g.loc[:,'valCor'] = ((ozone_g['statistic_value']/2)/1000)\n",
    "a = ozone_g.groupby('Code')\n",
    "b = a['valCor'].mean()\n",
    "b = pd.DataFrame(b)\n",
    "b = b.reset_index()\n",
    "b['id']=b['Code'].map(revmapCityID.get)\n",
    "ozone_g = b\n",
    "#PM10\n",
    "pm10_g = FranceAir[FranceAir['component_name']=='Particulate matter < 10 \\xc2\\xb5m (aerosol)']\n",
    "a = pm10_g.groupby('Code')\n",
    "b = a['statistic_value'].mean()\n",
    "b = pd.DataFrame(b)\n",
    "b = b.reset_index()\n",
    "b['id']=b['Code'].map(revmapCityID.get)\n",
    "pm10_g = b\n",
    "#PM2.5\n",
    "pm25_g = FranceAir[FranceAir['component_name']=='Particulate matter < 2.5 \\xc2\\xb5m (aerosol)']\n",
    "a = pm25_g.groupby('Code')\n",
    "b = a['statistic_value'].mean()\n",
    "b = pd.DataFrame(b)\n",
    "b = b.reset_index()\n",
    "b['id']=b['Code'].map(revmapCityID.get)\n",
    "pm25_g = b"
   ]
  },
  {
   "cell_type": "code",
   "execution_count": 131,
   "metadata": {
    "collapsed": false
   },
   "outputs": [
    {
     "name": "stdout",
     "output_type": "stream",
     "text": [
      "Number of cities that have data for at least one Air Quality Compound: 87\n"
     ]
    }
   ],
   "source": [
    "#Look at the number of station values we're left with\n",
    "calcLen = list(so2_g['id'])+list(no2_g['id'])+list(co_g['id'])+list(ozone_g['id'])+list(pm10_g['id'])+list(pm25_g['id'])\n",
    "print 'Number of cities that have data for at least one Air Quality Compound: '+str(len(set(calcLen)))"
   ]
  },
  {
   "cell_type": "code",
   "execution_count": 132,
   "metadata": {
    "collapsed": false
   },
   "outputs": [],
   "source": [
    "#Generate a dataframe of all these cities and their respective\n",
    "#measurements for air quality\n",
    "index_g = list(set(calcLen))\n",
    "city_list =[mapCityID[i] for i in index_g]\n",
    "toFrame = {'id':index_g,'city':city_list,'SO2':[],\n",
    "           'CO':[],'NO2':[],'OZONE':[],'PM10':[],'PM25':[]}\n",
    "#For station of interest either append an nan if blank\n",
    "#or the included value to populate the dictionary that\n",
    "#we convert to a dataframe.\n",
    "for i in index_g:\n",
    "    if so2_g[so2_g['id']==i]['valCor'].empty:\n",
    "        toFrame['SO2'].append(np.nan)\n",
    "    else:\n",
    "        toFrame['SO2'].append(float(so2_g[so2_g['id']==i]['valCor']))\n",
    "    if no2_g[no2_g['id']==i]['valCor'].empty:\n",
    "        toFrame['NO2'].append(np.nan)\n",
    "    else:\n",
    "        toFrame['NO2'].append(float(no2_g[no2_g['id']==i]['valCor']))\n",
    "    if co_g[co_g['id']==i]['valCor'].empty:\n",
    "        toFrame['CO'].append(np.nan)\n",
    "    else:\n",
    "        toFrame['CO'].append(float(co_g[co_g['id']==i]['valCor']))\n",
    "    if ozone_g[ozone_g['id']==i]['valCor'].empty:\n",
    "        toFrame['OZONE'].append(np.nan)\n",
    "    else:\n",
    "        toFrame['OZONE'].append(float(ozone_g[ozone_g['id']==i]['valCor']))\n",
    "    if pm10_g[pm10_g['id']==i]['statistic_value'].empty:\n",
    "        toFrame['PM10'].append(np.nan)\n",
    "    else:\n",
    "        toFrame['PM10'].append(float(pm10_g[pm10_g['id']==i]['statistic_value']))\n",
    "    if pm25_g[pm25_g['id']==i]['statistic_value'].empty:\n",
    "        toFrame['PM25'].append(np.nan)\n",
    "    else:\n",
    "        toFrame['PM25'].append(float(pm25_g[pm25_g['id']==i]['statistic_value']))\n",
    "FranceDat = pd.DataFrame(toFrame)"
   ]
  },
  {
   "cell_type": "code",
   "execution_count": 133,
   "metadata": {
    "collapsed": true
   },
   "outputs": [],
   "source": [
    "#Remove 0 entries\n",
    "FranceDat = FranceDat[FranceDat!=0]"
   ]
  },
  {
   "cell_type": "code",
   "execution_count": 134,
   "metadata": {
    "collapsed": false
   },
   "outputs": [
    {
     "data": {
      "text/html": [
       "<div>\n",
       "<table border=\"1\" class=\"dataframe\">\n",
       "  <thead>\n",
       "    <tr style=\"text-align: right;\">\n",
       "      <th></th>\n",
       "      <th>CO</th>\n",
       "      <th>NO2</th>\n",
       "      <th>OZONE</th>\n",
       "      <th>PM10</th>\n",
       "      <th>PM25</th>\n",
       "      <th>SO2</th>\n",
       "      <th>city</th>\n",
       "      <th>id</th>\n",
       "    </tr>\n",
       "  </thead>\n",
       "  <tbody>\n",
       "    <tr>\n",
       "      <th>0</th>\n",
       "      <td>0.264047</td>\n",
       "      <td>13.533663</td>\n",
       "      <td>0.022437</td>\n",
       "      <td>24.659250</td>\n",
       "      <td>17.603</td>\n",
       "      <td>0.627990</td>\n",
       "      <td>Nancy</td>\n",
       "      <td>FR30036</td>\n",
       "    </tr>\n",
       "    <tr>\n",
       "      <th>1</th>\n",
       "      <td>0.291703</td>\n",
       "      <td>13.180851</td>\n",
       "      <td>0.025806</td>\n",
       "      <td>22.641333</td>\n",
       "      <td>16.303</td>\n",
       "      <td>0.374618</td>\n",
       "      <td>Caen</td>\n",
       "      <td>FR21001</td>\n",
       "    </tr>\n",
       "    <tr>\n",
       "      <th>2</th>\n",
       "      <td>NaN</td>\n",
       "      <td>10.551064</td>\n",
       "      <td>0.022737</td>\n",
       "      <td>25.435000</td>\n",
       "      <td>NaN</td>\n",
       "      <td>0.246565</td>\n",
       "      <td>Charleville-Mezieres</td>\n",
       "      <td>FR14051</td>\n",
       "    </tr>\n",
       "    <tr>\n",
       "      <th>3</th>\n",
       "      <td>NaN</td>\n",
       "      <td>13.289894</td>\n",
       "      <td>0.025374</td>\n",
       "      <td>NaN</td>\n",
       "      <td>19.359</td>\n",
       "      <td>1.301908</td>\n",
       "      <td>Valence</td>\n",
       "      <td>FR36002</td>\n",
       "    </tr>\n",
       "    <tr>\n",
       "      <th>4</th>\n",
       "      <td>NaN</td>\n",
       "      <td>9.625000</td>\n",
       "      <td>0.028092</td>\n",
       "      <td>21.006000</td>\n",
       "      <td>NaN</td>\n",
       "      <td>NaN</td>\n",
       "      <td>Cholet</td>\n",
       "      <td>FR23078</td>\n",
       "    </tr>\n",
       "  </tbody>\n",
       "</table>\n",
       "</div>"
      ],
      "text/plain": [
       "         CO        NO2     OZONE       PM10    PM25       SO2                  city       id\n",
       "0  0.264047  13.533663  0.022437  24.659250  17.603  0.627990  Nancy                 FR30036\n",
       "1  0.291703  13.180851  0.025806  22.641333  16.303  0.374618  Caen                  FR21001\n",
       "2 NaN        10.551064  0.022737  25.435000 NaN      0.246565  Charleville-Mezieres  FR14051\n",
       "3 NaN        13.289894  0.025374 NaN         19.359  1.301908  Valence               FR36002\n",
       "4 NaN        9.625000   0.028092  21.006000 NaN     NaN        Cholet                FR23078"
      ]
     },
     "execution_count": 134,
     "metadata": {},
     "output_type": "execute_result"
    }
   ],
   "source": [
    "#Now we have our pollutant data all pooled into one dataframe\n",
    "FranceDat.head()"
   ]
  },
  {
   "cell_type": "code",
   "execution_count": 135,
   "metadata": {
    "collapsed": false
   },
   "outputs": [],
   "source": [
    "#Make a function to clean superscripts from names\n",
    "#This is a cleaning issue from the wiki scraping\n",
    "def clean_superscript(city):\n",
    "    match = re.search(r'.*[1-9]$',city)\n",
    "    if match:\n",
    "        return match.group()[:-1]\n",
    "    else:\n",
    "        return city"
   ]
  },
  {
   "cell_type": "code",
   "execution_count": 136,
   "metadata": {
    "collapsed": false
   },
   "outputs": [],
   "source": [
    "#clean superscripts from names\n",
    "FranceDat['city'] = FranceDat['city'].apply(lambda x: clean_superscript(x))"
   ]
  },
  {
   "cell_type": "code",
   "execution_count": 137,
   "metadata": {
    "collapsed": false
   },
   "outputs": [],
   "source": [
    "#Make an new popdict with the normalize keys to deal with the\n",
    "#crazy unix formatting. Basically removes accents and special characters\n",
    "popdict2 = {}\n",
    "for i in popdict:\n",
    "    popdict2[clean_superscript(unicodedata.normalize(\"NFKD\",i).encode('ascii','ignore').strip())] = popdict[i]\n",
    "    if i == u'Lille3,4':\n",
    "        popdict2['Lille'] = popdict[i]"
   ]
  },
  {
   "cell_type": "code",
   "execution_count": 138,
   "metadata": {
    "collapsed": true
   },
   "outputs": [],
   "source": [
    "#Make a second density dictionary doing the same\n",
    "densedict2 = {}\n",
    "for i in densedict:\n",
    "    densedict2[clean_superscript(unicodedata.normalize(\"NFKD\",i).encode('ascii','ignore').strip())] = densedict[i]\n",
    "    if i == u'Lille3,4':\n",
    "        densedict2['Lille'] = densedict[i]"
   ]
  },
  {
   "cell_type": "code",
   "execution_count": 139,
   "metadata": {
    "collapsed": false
   },
   "outputs": [],
   "source": [
    "#Do the same for the area dictionary\n",
    "areadict2 = {}\n",
    "for i in areaLookup:\n",
    "    areadict2[clean_superscript(unicodedata.normalize(\"NFKD\",i).encode('ascii','ignore').strip())] = areaLookup[i]\n",
    "    if i == u'Lille3,4':\n",
    "        areadict2['Lille'] = areaLookup[i]"
   ]
  },
  {
   "cell_type": "code",
   "execution_count": 140,
   "metadata": {
    "collapsed": false
   },
   "outputs": [],
   "source": [
    "#Now merge the three demographics with the air quality data\n",
    "FranceDat['population']=FranceDat['city'].map(popdict2.get)\n",
    "FranceDat['popdense']=FranceDat['city'].map(densedict2.get)\n",
    "FranceDat['area']=FranceDat['city'].map(areadict2.get)"
   ]
  },
  {
   "cell_type": "code",
   "execution_count": 141,
   "metadata": {
    "collapsed": false
   },
   "outputs": [
    {
     "data": {
      "text/html": [
       "<div>\n",
       "<table border=\"1\" class=\"dataframe\">\n",
       "  <thead>\n",
       "    <tr style=\"text-align: right;\">\n",
       "      <th></th>\n",
       "      <th>CO</th>\n",
       "      <th>NO2</th>\n",
       "      <th>OZONE</th>\n",
       "      <th>PM10</th>\n",
       "      <th>PM25</th>\n",
       "      <th>SO2</th>\n",
       "      <th>city</th>\n",
       "      <th>id</th>\n",
       "      <th>population</th>\n",
       "      <th>popdense</th>\n",
       "      <th>area</th>\n",
       "    </tr>\n",
       "  </thead>\n",
       "  <tbody>\n",
       "    <tr>\n",
       "      <th>0</th>\n",
       "      <td>0.264047</td>\n",
       "      <td>13.533663</td>\n",
       "      <td>0.022437</td>\n",
       "      <td>24.659250</td>\n",
       "      <td>17.603</td>\n",
       "      <td>0.627990</td>\n",
       "      <td>Nancy</td>\n",
       "      <td>FR30036</td>\n",
       "      <td>434479</td>\n",
       "      <td>613.363951</td>\n",
       "      <td>708.354312</td>\n",
       "    </tr>\n",
       "    <tr>\n",
       "      <th>1</th>\n",
       "      <td>0.291703</td>\n",
       "      <td>13.180851</td>\n",
       "      <td>0.025806</td>\n",
       "      <td>22.641333</td>\n",
       "      <td>16.303</td>\n",
       "      <td>0.374618</td>\n",
       "      <td>Caen</td>\n",
       "      <td>FR21001</td>\n",
       "      <td>403633</td>\n",
       "      <td>667.231583</td>\n",
       "      <td>604.936892</td>\n",
       "    </tr>\n",
       "    <tr>\n",
       "      <th>2</th>\n",
       "      <td>NaN</td>\n",
       "      <td>10.551064</td>\n",
       "      <td>0.022737</td>\n",
       "      <td>25.435000</td>\n",
       "      <td>NaN</td>\n",
       "      <td>0.246565</td>\n",
       "      <td>Charleville-Mezieres</td>\n",
       "      <td>FR14051</td>\n",
       "      <td>106835</td>\n",
       "      <td>334.305710</td>\n",
       "      <td>319.572764</td>\n",
       "    </tr>\n",
       "    <tr>\n",
       "      <th>3</th>\n",
       "      <td>NaN</td>\n",
       "      <td>13.289894</td>\n",
       "      <td>0.025374</td>\n",
       "      <td>NaN</td>\n",
       "      <td>19.359</td>\n",
       "      <td>1.301908</td>\n",
       "      <td>Valence</td>\n",
       "      <td>FR36002</td>\n",
       "      <td>175636</td>\n",
       "      <td>657.229970</td>\n",
       "      <td>267.236748</td>\n",
       "    </tr>\n",
       "    <tr>\n",
       "      <th>4</th>\n",
       "      <td>NaN</td>\n",
       "      <td>9.625000</td>\n",
       "      <td>0.028092</td>\n",
       "      <td>21.006000</td>\n",
       "      <td>NaN</td>\n",
       "      <td>NaN</td>\n",
       "      <td>Cholet</td>\n",
       "      <td>FR23078</td>\n",
       "      <td>104917</td>\n",
       "      <td>483.925584</td>\n",
       "      <td>216.803995</td>\n",
       "    </tr>\n",
       "  </tbody>\n",
       "</table>\n",
       "</div>"
      ],
      "text/plain": [
       "         CO        NO2     OZONE       PM10    PM25       SO2                  city       id  population    popdense        area\n",
       "0  0.264047  13.533663  0.022437  24.659250  17.603  0.627990  Nancy                 FR30036  434479      613.363951  708.354312\n",
       "1  0.291703  13.180851  0.025806  22.641333  16.303  0.374618  Caen                  FR21001  403633      667.231583  604.936892\n",
       "2 NaN        10.551064  0.022737  25.435000 NaN      0.246565  Charleville-Mezieres  FR14051  106835      334.305710  319.572764\n",
       "3 NaN        13.289894  0.025374 NaN         19.359  1.301908  Valence               FR36002  175636      657.229970  267.236748\n",
       "4 NaN        9.625000   0.028092  21.006000 NaN     NaN        Cholet                FR23078  104917      483.925584  216.803995"
      ]
     },
     "execution_count": 141,
     "metadata": {},
     "output_type": "execute_result"
    }
   ],
   "source": [
    "FranceDat.head()"
   ]
  },
  {
   "cell_type": "markdown",
   "metadata": {},
   "source": [
    "Here we need to take in the daily measurements to aggregate into seasonal and monthly trends. We have in the folder franceAir_raw a single file for every French station with the relevant Air Quality Measures. The files in this folder have been filtered to only include files that encompass 2010 and are daily measurements. There are about 3,000 files in this folder (originally 10,000 before that first cleaning -- done in unix for quick file pruning), but not all are relevant to pollutants of interest or stations of interest. We use the following code to only read in the files of interest based on these criteria."
   ]
  },
  {
   "cell_type": "code",
   "execution_count": 142,
   "metadata": {
    "collapsed": false
   },
   "outputs": [
    {
     "name": "stdout",
     "output_type": "stream",
     "text": [
      "Wall time: 41.2 s\n"
     ]
    }
   ],
   "source": [
    "%%time\n",
    "import os\n",
    "#The codes for the pollutants we care about\n",
    "relPol = ['00001','00005','00007','00008','00010','06001']\n",
    "#A monthly dataframe initialization\n",
    "coFrame = {'id':[],'month':[],'CO':[]}\n",
    "no2Frame = {'id':[],'month':[],'NO2':[]}\n",
    "so2Frame = {'id':[],'month':[],'SO2':[]}\n",
    "ozoneFrame = {'id':[],'month':[],'OZONE':[]}\n",
    "pm25Frame = {'id':[],'month':[],'PM25':[]}\n",
    "pm10Frame = {'id':[],'month':[],'PM10':[]}\n",
    "\n",
    "#A seasonal dataframe initialization\n",
    "coFrame_s = {'id':[],'season':[],'CO':[]}\n",
    "no2Frame_s = {'id':[],'season':[],'NO2':[]}\n",
    "so2Frame_s = {'id':[],'season':[],'SO2':[]}\n",
    "ozoneFrame_s = {'id':[],'season':[],'OZONE':[]}\n",
    "pm25Frame_s = {'id':[],'season':[],'PM25':[]}\n",
    "pm10Frame_s = {'id':[],'season':[],'PM10':[]}\n",
    "\n",
    "count = 0\n",
    "#Loop through all raw files\n",
    "for f in os.listdir('tempdata/franceAir_raw/'):\n",
    "    #If the start of the filename is less than or equal to 2010 go on. If the start\n",
    "    #is after 2010, then it won't have our data of interest so we need to ignore\n",
    "    #those\n",
    "    if int(f[-15:-11]) <= 2010 :\n",
    "        #Subset only to those that are included in the other\n",
    "        #data we have. calcLen has the stations of interest\n",
    "        if f[0:7] in calcLen:\n",
    "            #If the file is for a pollutant of interest\n",
    "            if f[7:12] in relPol:\n",
    "                #Store the right pollutant label\n",
    "                stat = f[0:7]\n",
    "                if f[7:12] == '00001':\n",
    "                    lab='SO2'\n",
    "                elif f[7:12] == '00005':\n",
    "                    lab='PM10' \n",
    "                elif f[7:12] == '00007':\n",
    "                    lab='OZONE'\n",
    "                elif f[7:12] == '00008':\n",
    "                    lab='NO2'\n",
    "                elif f[7:12] == '00010':\n",
    "                    lab='CO'\n",
    "                elif f[7:12] == '06001':\n",
    "                    lab='PM25'\n",
    "                #Read in the file if it passes previous criteria\n",
    "                fiIn = pd.read_csv('tempdata/franceAir_raw/'+f,sep='\\t',header=None)\n",
    "                #Extract year for the file\n",
    "                fiIn['year']=[x[:4] for x in fiIn[0]]\n",
    "                #Filter to just 2010 data\n",
    "                fiIn = fiIn[fiIn['year']=='2010']\n",
    "                \n",
    "                #Month\n",
    "                fiIn['month'] = [int(x[5:7]) for x in fiIn[0]]\n",
    "                #Make a dictionary for montly average\n",
    "                monthAvg = {}\n",
    "                for i in fiIn['month']:\n",
    "                    #subet to each month, one at a time\n",
    "                    a =fiIn[fiIn['month']==i]\n",
    "                    sumCount = 0\n",
    "                    denom = 0\n",
    "                    #There are 62 columns (2 per day)\n",
    "                    for j in range(2,64,2):\n",
    "                        #If the quality flag is 1 it's good!\n",
    "                        if int(a[j])==1:\n",
    "                            #add to denominator count and add\n",
    "                            #value to the numerator count\n",
    "                            denom+=1\n",
    "                            sumCount+=float(a[j-1])\n",
    "                    #If there is a least one good measurement for the month\n",
    "                    #Get the average\n",
    "                    if denom > 0:\n",
    "                        monthAvg[i]=sumCount/denom\n",
    "                    #Else store none\n",
    "                    else:\n",
    "                        monthAvg[i]=np.nan\n",
    "\n",
    "                #Seasonal Parsing  \n",
    "                #For separate counts to maintain\n",
    "                sumCount_fa = 0\n",
    "                denom_fa = 0\n",
    "                sumCount_sp = 0\n",
    "                denom_sp = 0\n",
    "                sumCount_su = 0\n",
    "                denom_su = 0\n",
    "                sumCount_wi = 0\n",
    "                denom_wi = 0\n",
    "                seasonAvg = {}\n",
    "                #Look through the months. If a month falls entirely in one\n",
    "                #season, just add the relevant counts and sums of the observations\n",
    "                #to that one month. If it splits seasons, store the relevant parts to\n",
    "                #each respective season\n",
    "                for i in fiIn['month']:\n",
    "                    a = fiIn[fiIn['month']==i]\n",
    "                    if i == 1:\n",
    "                        for j in range(2,64,2):\n",
    "                            if int(a[j])==1:\n",
    "                                denom_wi+=1\n",
    "                                sumCount_wi+=float(a[j-1])\n",
    "                    if i == 2:\n",
    "                        for j in range(2,64,2):\n",
    "                            if int(a[j])==1:\n",
    "                                denom_wi+=1\n",
    "                                sumCount_wi+=float(a[j-1])\n",
    "                    if i == 3:\n",
    "                        for j in range(2,42,2):\n",
    "                            if int(a[j])==1:\n",
    "                                denom_wi+=1\n",
    "                                sumCount_wi+=float(a[j-1])\n",
    "                        for j in range(42,64,2):\n",
    "                            if int(a[j])==1:\n",
    "                                denom_sp+=1\n",
    "                                sumCount_sp+=float(a[j-1])\n",
    "                    if i == 4:\n",
    "                        for j in range(2,64,2):\n",
    "                            if int(a[j])==1:\n",
    "                                denom_sp+=1\n",
    "                                sumCount_sp+=float(a[j-1])\n",
    "                    if i == 5:\n",
    "                        for j in range(2,64,2):\n",
    "                            if int(a[j])==1:\n",
    "                                denom_sp+=1\n",
    "                                sumCount_sp+=float(a[j-1])\n",
    "                    if i == 6:\n",
    "                        for j in range(2,44,2):\n",
    "                            if int(a[j])==1:\n",
    "                                denom_sp+=1\n",
    "                                sumCount_sp+=float(a[j-1])\n",
    "                        for j in range(44,64,2):\n",
    "                            if int(a[j])==1:\n",
    "                                denom_su+=1\n",
    "                                sumCount_su+=float(a[j-1])\n",
    "                    if i == 7:\n",
    "                        for j in range(2,64,2):\n",
    "                            if int(a[j])==1:\n",
    "                                denom_su+=1\n",
    "                                sumCount_su+=float(a[j-1])\n",
    "                    if i == 8:\n",
    "                        for j in range(2,64,2):\n",
    "                            if int(a[j])==1:\n",
    "                                denom_su+=1\n",
    "                                sumCount_su+=float(a[j-1])\n",
    "                    if i == 9:\n",
    "                        for j in range(2,46,2):\n",
    "                            if int(a[j])==1:\n",
    "                                denom_su+=1\n",
    "                                sumCount_su+=float(a[j-1])\n",
    "                        for j in range(46,64,2):\n",
    "                            if int(a[j])==1:\n",
    "                                denom_fa+=1\n",
    "                                sumCount_fa+=float(a[j-1])\n",
    "                    if i == 10:\n",
    "                        for j in range(2,64,2):\n",
    "                            if int(a[j])==1:\n",
    "                                denom_fa+=1\n",
    "                                sumCount_fa+=float(a[j-1])\n",
    "                    if i == 11:\n",
    "                        for j in range(2,64,2):\n",
    "                            if int(a[j])==1:\n",
    "                                denom_fa+=1\n",
    "                                sumCount_fa+=float(a[j-1])\n",
    "                    if i == 12:\n",
    "                        for j in range(2,44,2):\n",
    "                            if int(a[j])==1:\n",
    "                                denom_fa+=1\n",
    "                                sumCount_fa+=float(a[j-1])\n",
    "                        for j in range(44,64,2):\n",
    "                            if int(a[j])==1:\n",
    "                                denom_wi+=1\n",
    "                                sumCount_wi+=float(a[j-1])\n",
    "                #Get the seasonal averages here\n",
    "                if denom_wi > 0:\n",
    "                    seasonAvg['Winter'] = sumCount_wi/denom_wi\n",
    "                else:\n",
    "                    seasonAvg['Winter'] = np.nan\n",
    "                if denom_sp > 0:\n",
    "                    seasonAvg['Spring'] = sumCount_sp/denom_sp\n",
    "                else:\n",
    "                    seasonAvg['Spring'] = np.nan\n",
    "                if denom_su > 0:\n",
    "                    seasonAvg['Summer'] = sumCount_su/denom_su\n",
    "                else:\n",
    "                    seasonAvg['Summer'] = np.nan\n",
    "                if denom_fa > 0:\n",
    "                    seasonAvg['Fall'] = sumCount_fa/denom_fa\n",
    "                else:\n",
    "                    seasonAvg['Fall'] = np.nan\n",
    "                    \n",
    "                #Here we make a file for each pollutant. We repeat the station name 12 times\n",
    "                #label each month, and then use the monthAvg dictionary to lookup that month's\n",
    "                #relevant value\n",
    "                if lab == 'CO':\n",
    "                    coFrame['id']=coFrame['id'] + [stat for x in range(12)]\n",
    "                    coFrame['month']=coFrame['month'] + [1,2,3,4,5,6,7,8,9,10,11,12]\n",
    "                    coFrame['CO']=coFrame['CO'] + [monthAvg[x] if x in monthAvg.keys() else np.nan for x in range(1,13,1)]\n",
    "                elif lab == 'NO2':\n",
    "                    no2Frame['id']=no2Frame['id'] + [stat for x in range(12)]\n",
    "                    no2Frame['month']=no2Frame['month'] + [1,2,3,4,5,6,7,8,9,10,11,12]\n",
    "                    no2Frame['NO2']=no2Frame['NO2'] + [monthAvg[x] if x in monthAvg.keys() else np.nan for x in range(1,13,1)]\n",
    "                elif lab == 'SO2':\n",
    "                    so2Frame['id']=so2Frame['id'] + [stat for x in range(12)]\n",
    "                    so2Frame['month']=so2Frame['month'] + [1,2,3,4,5,6,7,8,9,10,11,12]\n",
    "                    so2Frame['SO2']=so2Frame['SO2'] + [monthAvg[x] if x in monthAvg.keys() else np.nan for x in range(1,13,1)]\n",
    "                elif lab == 'OZONE':\n",
    "                    ozoneFrame['id']=ozoneFrame['id'] + [stat for x in range(12)]\n",
    "                    ozoneFrame['month']=ozoneFrame['month'] + [1,2,3,4,5,6,7,8,9,10,11,12]\n",
    "                    ozoneFrame['OZONE']=ozoneFrame['OZONE'] + [monthAvg[x] if x in monthAvg.keys() else np.nan for x in range(1,13,1)]\n",
    "                elif lab == 'PM25':\n",
    "                    pm25Frame['id']=pm25Frame['id'] + [stat for x in range(12)]\n",
    "                    pm25Frame['month']=pm25Frame['month'] + [1,2,3,4,5,6,7,8,9,10,11,12]\n",
    "                    pm25Frame['PM25']=pm25Frame['PM25'] + [monthAvg[x] if x in monthAvg.keys() else np.nan for x in range(1,13,1)]\n",
    "                elif lab == 'PM10':\n",
    "                    pm10Frame['id']=pm10Frame['id'] + [stat for x in range(12)]\n",
    "                    pm10Frame['month']=pm10Frame['month'] + [1,2,3,4,5,6,7,8,9,10,11,12]\n",
    "                    pm10Frame['PM10']=pm10Frame['PM10'] + [monthAvg[x] if x in monthAvg.keys() else np.nan for x in range(1,13,1)]\n",
    "                \n",
    "                #seasonal\n",
    "                #Same idea as the month, but using seasons\n",
    "                if lab == 'CO':\n",
    "                    coFrame_s['id']=coFrame_s['id'] + [stat for x in range(4)]\n",
    "                    coFrame_s['season']=coFrame_s['season'] + ['Winter','Spring','Summer','Fall']\n",
    "                    coFrame_s['CO']=coFrame_s['CO'] + [seasonAvg[x] if x in seasonAvg.keys() else np.nan for x in ['Winter','Spring','Summer','Fall']]\n",
    "                elif lab == 'NO2':\n",
    "                    no2Frame_s['id']=no2Frame_s['id'] + [stat for x in range(4)]\n",
    "                    no2Frame_s['season']=no2Frame_s['season'] + ['Winter','Spring','Summer','Fall']\n",
    "                    no2Frame_s['NO2']=no2Frame_s['NO2'] + [seasonAvg[x] if x in seasonAvg.keys() else np.nan for x in ['Winter','Spring','Summer','Fall']]\n",
    "                elif lab == 'SO2':\n",
    "                    so2Frame_s['id']=so2Frame_s['id'] + [stat for x in range(4)]\n",
    "                    so2Frame_s['season']=so2Frame_s['season'] + ['Winter','Spring','Summer','Fall']\n",
    "                    so2Frame_s['SO2']=so2Frame_s['SO2'] + [seasonAvg[x] if x in seasonAvg.keys() else np.nan for x in ['Winter','Spring','Summer','Fall']]\n",
    "                elif lab == 'OZONE':\n",
    "                    ozoneFrame_s['id']=ozoneFrame_s['id'] + [stat for x in range(4)]\n",
    "                    ozoneFrame_s['season']=ozoneFrame_s['season'] + ['Winter','Spring','Summer','Fall']\n",
    "                    ozoneFrame_s['OZONE']=ozoneFrame_s['OZONE'] + [seasonAvg[x] if x in seasonAvg.keys() else np.nan for x in ['Winter','Spring','Summer','Fall']]\n",
    "                elif lab == 'PM25':\n",
    "                    pm25Frame_s['id']=pm25Frame_s['id'] + [stat for x in range(4)]\n",
    "                    pm25Frame_s['season']=pm25Frame_s['season'] + ['Winter','Spring','Summer','Fall']\n",
    "                    pm25Frame_s['PM25']=pm25Frame_s['PM25'] + [seasonAvg[x] if x in seasonAvg.keys() else np.nan for x in ['Winter','Spring','Summer','Fall']]\n",
    "                elif lab == 'PM10':\n",
    "                    pm10Frame_s['id']=pm10Frame_s['id'] + [stat for x in range(4)]\n",
    "                    pm10Frame_s['season']=pm10Frame_s['season'] + ['Winter','Spring','Summer','Fall']\n",
    "                    pm10Frame_s['PM10']=pm10Frame_s['PM10'] + [seasonAvg[x] if x in seasonAvg.keys() else np.nan for x in ['Winter','Spring','Summer','Fall']]"
   ]
  },
  {
   "cell_type": "code",
   "execution_count": 143,
   "metadata": {
    "collapsed": false
   },
   "outputs": [],
   "source": [
    "#Get monthly dataframes ready to merge\n",
    "#Convert our dictionaries from above into dataframe\n",
    "no2_tom = pd.DataFrame(no2Frame)\n",
    "so2_tom = pd.DataFrame(so2Frame)\n",
    "co_tom = pd.DataFrame(coFrame)\n",
    "ozone_tom = pd.DataFrame(ozoneFrame)\n",
    "pm25_tom = pd.DataFrame(pm25Frame)\n",
    "pm10_tom = pd.DataFrame(pm10Frame)\n",
    "#Add a unique id that's a combo of month and name\n",
    "no2_tom['mergeid']=[str(x)+'_'+str(y) for x,y in zip(no2_tom['id'],no2_tom['month'])]\n",
    "so2_tom['mergeid']=[str(x)+'_'+str(y) for x,y in zip(so2_tom['id'],so2_tom['month'])]\n",
    "co_tom['mergeid']=[str(x)+'_'+str(y) for x,y in zip(co_tom['id'],co_tom['month'])]\n",
    "ozone_tom['mergeid']=[str(x)+'_'+str(y) for x,y in zip(ozone_tom['id'],ozone_tom['month'])]\n",
    "pm10_tom['mergeid']=[str(x)+'_'+str(y) for x,y in zip(pm10_tom['id'],pm10_tom['month'])]\n",
    "pm25_tom['mergeid']=[str(x)+'_'+str(y) for x,y in zip(pm25_tom['id'],pm25_tom['month'])]"
   ]
  },
  {
   "cell_type": "code",
   "execution_count": 144,
   "metadata": {
    "collapsed": false
   },
   "outputs": [],
   "source": [
    "#Make a shell for monthly data\n",
    "shell={'name':[],'month':[]}\n",
    "for i in calcLen:\n",
    "    for j in range(1,13,1):\n",
    "        shell['name'].append(i)\n",
    "        shell['month'].append(j)"
   ]
  },
  {
   "cell_type": "code",
   "execution_count": 145,
   "metadata": {
    "collapsed": false
   },
   "outputs": [],
   "source": [
    "#Make the merger id\n",
    "shellFrame = pd.DataFrame(shell)\n",
    "shellFrame['mergeid']=[str(x)+'_'+str(y) for x,y in zip(shellFrame['name'],shellFrame['month'])]"
   ]
  },
  {
   "cell_type": "code",
   "execution_count": 147,
   "metadata": {
    "collapsed": false
   },
   "outputs": [],
   "source": [
    "#Create the frame of monthly measurements\n",
    "#by merging the pollutant dictionaries with this shell\n",
    "air_m = shellFrame.merge(so2_tom[['mergeid','SO2']],on='mergeid',how='left')\n",
    "air_m = air_m.merge(no2_tom[['mergeid','NO2']],on='mergeid',how='left')\n",
    "air_m = air_m.merge(co_tom[['mergeid','CO']],on='mergeid',how='left')\n",
    "air_m = air_m.merge(ozone_tom[['mergeid','OZONE']],on='mergeid',how='left')\n",
    "air_m = air_m.merge(pm10_tom[['mergeid','PM10']],on='mergeid',how='left')\n",
    "air_m = air_m.merge(pm25_tom[['mergeid','PM25']],on='mergeid',how='left')"
   ]
  },
  {
   "cell_type": "code",
   "execution_count": 148,
   "metadata": {
    "collapsed": true
   },
   "outputs": [],
   "source": [
    "#Get seasonal dataframes ready to merge\n",
    "#Same as the monthly\n",
    "no2_tos = pd.DataFrame(no2Frame_s)\n",
    "so2_tos = pd.DataFrame(so2Frame_s)\n",
    "co_tos = pd.DataFrame(coFrame_s)\n",
    "ozone_tos = pd.DataFrame(ozoneFrame_s)\n",
    "pm25_tos = pd.DataFrame(pm25Frame_s)\n",
    "pm10_tos = pd.DataFrame(pm10Frame_s)\n",
    "no2_tos['mergeid']=[str(x)+'_'+str(y) for x,y in zip(no2_tos['id'],no2_tos['season'])]\n",
    "so2_tos['mergeid']=[str(x)+'_'+str(y) for x,y in zip(so2_tos['id'],so2_tos['season'])]\n",
    "co_tos['mergeid']=[str(x)+'_'+str(y) for x,y in zip(co_tos['id'],co_tos['season'])]\n",
    "ozone_tos['mergeid']=[str(x)+'_'+str(y) for x,y in zip(ozone_tos['id'],ozone_tos['season'])]\n",
    "pm10_tos['mergeid']=[str(x)+'_'+str(y) for x,y in zip(pm10_tos['id'],pm10_tos['season'])]\n",
    "pm25_tos['mergeid']=[str(x)+'_'+str(y) for x,y in zip(pm25_tos['id'],pm25_tos['season'])]"
   ]
  },
  {
   "cell_type": "code",
   "execution_count": 149,
   "metadata": {
    "collapsed": true
   },
   "outputs": [],
   "source": [
    "#Make the seasonal shell of a dataframe\n",
    "shell={'name':[],'season':[]}\n",
    "for i in calcLen:\n",
    "    for j in ['Winter','Spring','Summer','Fall']:\n",
    "        shell['name'].append(i)\n",
    "        shell['season'].append(j)"
   ]
  },
  {
   "cell_type": "code",
   "execution_count": 150,
   "metadata": {
    "collapsed": true
   },
   "outputs": [],
   "source": [
    "#Make the merger id\n",
    "shellFrame = pd.DataFrame(shell)\n",
    "shellFrame['mergeid']=[str(x)+'_'+str(y) for x,y in zip(shellFrame['name'],shellFrame['season'])]"
   ]
  },
  {
   "cell_type": "code",
   "execution_count": 153,
   "metadata": {
    "collapsed": true
   },
   "outputs": [],
   "source": [
    "#merge seasonal data\n",
    "air_s = shellFrame.merge(so2_tos[['mergeid','SO2']],on='mergeid',how='left')\n",
    "air_s = air_s.merge(no2_tos[['mergeid','NO2']],on='mergeid',how='left')\n",
    "air_s = air_s.merge(co_tos[['mergeid','CO']],on='mergeid',how='left')\n",
    "air_s = air_s.merge(ozone_tos[['mergeid','OZONE']],on='mergeid',how='left')\n",
    "air_s = air_s.merge(pm10_tos[['mergeid','PM10']],on='mergeid',how='left')\n",
    "air_s = air_s.merge(pm25_tos[['mergeid','PM25']],on='mergeid',how='left')"
   ]
  },
  {
   "cell_type": "markdown",
   "metadata": {},
   "source": [
    "Now we need to convert units to match the US data. This again uses the same conversions that we employed with the yearly data (http://www2.dmu.dk/AtmosphericEnvironment/Expost/database/docs/PPM_conversion.pdf)."
   ]
  },
  {
   "cell_type": "code",
   "execution_count": 154,
   "metadata": {
    "collapsed": false
   },
   "outputs": [],
   "source": [
    "air_m['SO2']=air_m['SO2'].apply(lambda x: x/2.62)\n",
    "air_m['NO2']=air_m['NO2'].apply(lambda x: x/1.88)\n",
    "air_m['OZONE']=air_m['OZONE'].apply(lambda x: x/2000)\n",
    "air_m['CO']=air_m['CO'].apply(lambda x: x/1.145)"
   ]
  },
  {
   "cell_type": "code",
   "execution_count": 155,
   "metadata": {
    "collapsed": true
   },
   "outputs": [],
   "source": [
    "air_s['SO2']=air_s['SO2'].apply(lambda x: x/2.62)\n",
    "air_s['NO2']=air_s['NO2'].apply(lambda x: x/1.88)\n",
    "air_s['OZONE']=air_s['OZONE'].apply(lambda x: x/2000)\n",
    "air_s['CO']=air_s['CO'].apply(lambda x: x/1.145)"
   ]
  },
  {
   "cell_type": "code",
   "execution_count": 156,
   "metadata": {
    "collapsed": true
   },
   "outputs": [],
   "source": [
    "#make a column for merging called id that is the\n",
    "#same as the name column\n",
    "air_m['id']=air_m['name']\n",
    "air_s['id']=air_s['name']"
   ]
  },
  {
   "cell_type": "markdown",
   "metadata": {},
   "source": [
    "####Collecting Traffic Data"
   ]
  },
  {
   "cell_type": "markdown",
   "metadata": {},
   "source": [
    "As we see in the last output, we now have a fairly cleaned dataframe of the urban areas of interest. We have the air quality measures over the year and the demographic values. We now turn the the traffic data. This may not be 100% comparable to the US census data, but it seems reasonably well structured to work with."
   ]
  },
  {
   "cell_type": "code",
   "execution_count": 157,
   "metadata": {
    "collapsed": false
   },
   "outputs": [],
   "source": [
    "#Read in all the europe traffic data\n",
    "europe_trans = pd.read_excel('tempdata/france_transit.xlsx')\n",
    "#Filter to France\n",
    "europe_trans = europe_trans[europe_trans['Country']=='France']\n",
    "#Filter to after 2002 (arbitrary cutoff just to ensure\n",
    "#the data is fairly close to our other data sources). I would\n",
    "#imagine commuting style hasn't changed drastically over the past\n",
    "#10 years or so\n",
    "europe_trans = europe_trans[europe_trans['Year']>=2002]"
   ]
  },
  {
   "cell_type": "code",
   "execution_count": 158,
   "metadata": {
    "collapsed": true
   },
   "outputs": [],
   "source": [
    "#This maps the names in the traffic file to our names from the other work\n",
    "#manually generated\n",
    "traf_map = {'Bayonne':'Bayonne','Bethune':'Bethune','Bordeaux':'Bordeaux','Grenoble':'Grenoble','Le Havre':'Le Havre',\n",
    "            'Lille':'Lille','Limoges':'Limoges','Lorient':'Lorient','Lyon':'Lyon','Maubeuge':'Maubeuge','Nancy':'Nancy',\n",
    "            'Nantes':'Nantes','Nice':'Nice','Pau':'Pau','Reims':'Reims','Rouen':'Rouen','Strasbourg':'Strasbourg',\n",
    "            'Strasbourg':'Strasbourg','Toulon':'Toulon','Toulouse':'Toulouse','Tours':'Tours','Vienne':'Vienne',\n",
    "            'Aix':'Marseille - Aix-en-Provence','Annemasse':'Geneve - Annemasse',u'Besan\\xe7on':'Besancon','Brest':'Brest',\n",
    "            u'Chamb\\xe9ry':'Chambery','Clermont-Ferrand':'Clermont-Ferrand','Dunkerque':'Dunkerque','Grenoble Aggro':'Grenoble',\n",
    "            'Lens':'Douai - Lens','Marseille':'Marseille - Aix-en-Provence','Montpellier':'Montpellier','Paris':'Paris',\n",
    "            u'Pointe-\\xe0-Pitre':'Pointe-a-Pitre - Les Abymes (Guadeloupe)','Rouen Agglo':'Rouen','Saint Quentin en Yvelines':'Saint-Quentin',}"
   ]
  },
  {
   "cell_type": "code",
   "execution_count": 159,
   "metadata": {
    "collapsed": false
   },
   "outputs": [],
   "source": [
    "#Filter to those that are in the Air Quality Data\n",
    "mask3 = europe_trans['City'].isin(traf_map.keys())\n",
    "europe_trans = europe_trans[mask3]"
   ]
  },
  {
   "cell_type": "code",
   "execution_count": 160,
   "metadata": {
    "collapsed": false
   },
   "outputs": [],
   "source": [
    "#Make the city column in the transit frame that matches\n",
    "#the other ids we have\n",
    "europe_trans['city']=europe_trans['City'].map(traf_map.get)"
   ]
  },
  {
   "cell_type": "markdown",
   "metadata": {},
   "source": [
    "This transit data contains more detail than we need. We will just use PT, Car, and Other. The US Census pools biking and walking into Other so that seems reasonable to use for our comparisons. Next we need to start merging this information all together."
   ]
  },
  {
   "cell_type": "code",
   "execution_count": 161,
   "metadata": {
    "collapsed": false
   },
   "outputs": [],
   "source": [
    "#Merge our transit data with the previous work\n",
    "FranceDat = FranceDat.merge(europe_trans,on='city',how='left')"
   ]
  },
  {
   "cell_type": "code",
   "execution_count": 162,
   "metadata": {
    "collapsed": false
   },
   "outputs": [],
   "source": [
    "#Convert transit style to fractions\n",
    "FranceDat['other_frac']=(FranceDat['Walk']/100)+(FranceDat['Bike']/100)\n",
    "FranceDat['car_frac']=(FranceDat['Car']/100)\n",
    "FranceDat['pt_frac']=(FranceDat['PT']/100)"
   ]
  },
  {
   "cell_type": "code",
   "execution_count": 163,
   "metadata": {
    "collapsed": false
   },
   "outputs": [],
   "source": [
    "#Drop excess variables\n",
    "FranceDat.drop(['PT - Train','PT - Bus','PT - Metro','PT - Tram',\n",
    "                'Car - Driver','Car - Passenger','Car - Taxi','Car - Motorcycle','Population',\n",
    "                'Year','Country','City','Car','PT','Walk','Bike'],axis=1,inplace=True)"
   ]
  },
  {
   "cell_type": "markdown",
   "metadata": {},
   "source": [
    "In addition to the fraction of transit modes, we may also be interested in the total number of people that use that particular mode. There are some choices to be made here. We know that the population size in the transit file differs from the population sizes we've scraped. Generally, it seems that some of the transit data is based on just the 'city proper' and some are based on an Urban Area -- this is just by roughly looking at the sizes listed. In addition they are not from the same year as the population data we have. The two assumptions we'll be making here, which aren't perfect but don't seem too unreasonable are:\n",
    "\n",
    "1. The fraction of people commuting by different modes hasn't changed much over time - this seems reasonable\n",
    "2. The fraction of people commuting by different modes is similar between the entire urban area and the main city itself (although based on the population sizes, it seems like some of the transit data isn't for just the city proper but includes the sprawling surrounding area). This is perhaps a bit less reasonable as the farther from the core of the city, the more likely someone is to drive. So this isn't perfect, but one could imagine that it probably doesn't change a ton. People in suburbs of Boston use public transit less than the main city, but still more than cities where no one uses public transit in the city.\n",
    "\n",
    "Based on these assumptions, we can just multiply the fraction of transportation by each mode and the total population we've recorded. In general, alternative modes to driving seem more popular in France than US which isn't surprising given the public transportaion infrastructure comparison."
   ]
  },
  {
   "cell_type": "code",
   "execution_count": 164,
   "metadata": {
    "collapsed": true
   },
   "outputs": [],
   "source": [
    "#Get total counts of transit style by multiplying the fraction by the \n",
    "#population size we scraped.\n",
    "FranceDat['Car']=FranceDat['car_frac']*FranceDat['population']\n",
    "FranceDat['PT']=FranceDat['pt_frac']*FranceDat['population']\n",
    "FranceDat['Other']=FranceDat['other_frac']*FranceDat['population']"
   ]
  },
  {
   "cell_type": "code",
   "execution_count": 165,
   "metadata": {
    "collapsed": false
   },
   "outputs": [
    {
     "data": {
      "text/html": [
       "<div>\n",
       "<table border=\"1\" class=\"dataframe\">\n",
       "  <thead>\n",
       "    <tr style=\"text-align: right;\">\n",
       "      <th></th>\n",
       "      <th>CO</th>\n",
       "      <th>NO2</th>\n",
       "      <th>OZONE</th>\n",
       "      <th>PM10</th>\n",
       "      <th>PM25</th>\n",
       "      <th>SO2</th>\n",
       "      <th>city</th>\n",
       "      <th>id</th>\n",
       "      <th>population</th>\n",
       "      <th>popdense</th>\n",
       "      <th>area</th>\n",
       "      <th>other_frac</th>\n",
       "      <th>car_frac</th>\n",
       "      <th>pt_frac</th>\n",
       "      <th>Car</th>\n",
       "      <th>PT</th>\n",
       "      <th>Other</th>\n",
       "    </tr>\n",
       "  </thead>\n",
       "  <tbody>\n",
       "    <tr>\n",
       "      <th>0</th>\n",
       "      <td>0.264047</td>\n",
       "      <td>13.533663</td>\n",
       "      <td>0.022437</td>\n",
       "      <td>24.659250</td>\n",
       "      <td>17.603</td>\n",
       "      <td>0.627990</td>\n",
       "      <td>Nancy</td>\n",
       "      <td>FR30036</td>\n",
       "      <td>434479</td>\n",
       "      <td>613.363951</td>\n",
       "      <td>708.354312</td>\n",
       "      <td>0.37</td>\n",
       "      <td>0.51</td>\n",
       "      <td>0.12</td>\n",
       "      <td>221584.29</td>\n",
       "      <td>52137.48</td>\n",
       "      <td>160757.23</td>\n",
       "    </tr>\n",
       "    <tr>\n",
       "      <th>1</th>\n",
       "      <td>0.291703</td>\n",
       "      <td>13.180851</td>\n",
       "      <td>0.025806</td>\n",
       "      <td>22.641333</td>\n",
       "      <td>16.303</td>\n",
       "      <td>0.374618</td>\n",
       "      <td>Caen</td>\n",
       "      <td>FR21001</td>\n",
       "      <td>403633</td>\n",
       "      <td>667.231583</td>\n",
       "      <td>604.936892</td>\n",
       "      <td>NaN</td>\n",
       "      <td>NaN</td>\n",
       "      <td>NaN</td>\n",
       "      <td>NaN</td>\n",
       "      <td>NaN</td>\n",
       "      <td>NaN</td>\n",
       "    </tr>\n",
       "    <tr>\n",
       "      <th>2</th>\n",
       "      <td>NaN</td>\n",
       "      <td>10.551064</td>\n",
       "      <td>0.022737</td>\n",
       "      <td>25.435000</td>\n",
       "      <td>NaN</td>\n",
       "      <td>0.246565</td>\n",
       "      <td>Charleville-Mezieres</td>\n",
       "      <td>FR14051</td>\n",
       "      <td>106835</td>\n",
       "      <td>334.305710</td>\n",
       "      <td>319.572764</td>\n",
       "      <td>NaN</td>\n",
       "      <td>NaN</td>\n",
       "      <td>NaN</td>\n",
       "      <td>NaN</td>\n",
       "      <td>NaN</td>\n",
       "      <td>NaN</td>\n",
       "    </tr>\n",
       "    <tr>\n",
       "      <th>3</th>\n",
       "      <td>NaN</td>\n",
       "      <td>13.289894</td>\n",
       "      <td>0.025374</td>\n",
       "      <td>NaN</td>\n",
       "      <td>19.359</td>\n",
       "      <td>1.301908</td>\n",
       "      <td>Valence</td>\n",
       "      <td>FR36002</td>\n",
       "      <td>175636</td>\n",
       "      <td>657.229970</td>\n",
       "      <td>267.236748</td>\n",
       "      <td>NaN</td>\n",
       "      <td>NaN</td>\n",
       "      <td>NaN</td>\n",
       "      <td>NaN</td>\n",
       "      <td>NaN</td>\n",
       "      <td>NaN</td>\n",
       "    </tr>\n",
       "    <tr>\n",
       "      <th>4</th>\n",
       "      <td>NaN</td>\n",
       "      <td>9.625000</td>\n",
       "      <td>0.028092</td>\n",
       "      <td>21.006000</td>\n",
       "      <td>NaN</td>\n",
       "      <td>NaN</td>\n",
       "      <td>Cholet</td>\n",
       "      <td>FR23078</td>\n",
       "      <td>104917</td>\n",
       "      <td>483.925584</td>\n",
       "      <td>216.803995</td>\n",
       "      <td>NaN</td>\n",
       "      <td>NaN</td>\n",
       "      <td>NaN</td>\n",
       "      <td>NaN</td>\n",
       "      <td>NaN</td>\n",
       "      <td>NaN</td>\n",
       "    </tr>\n",
       "  </tbody>\n",
       "</table>\n",
       "</div>"
      ],
      "text/plain": [
       "         CO        NO2     OZONE       PM10    PM25       SO2                  city       id  population    popdense        area  other_frac  car_frac  pt_frac        Car        PT      Other\n",
       "0  0.264047  13.533663  0.022437  24.659250  17.603  0.627990  Nancy                 FR30036  434479      613.363951  708.354312  0.37        0.51      0.12     221584.29  52137.48  160757.23\n",
       "1  0.291703  13.180851  0.025806  22.641333  16.303  0.374618  Caen                  FR21001  403633      667.231583  604.936892 NaN         NaN       NaN      NaN        NaN       NaN       \n",
       "2 NaN        10.551064  0.022737  25.435000 NaN      0.246565  Charleville-Mezieres  FR14051  106835      334.305710  319.572764 NaN         NaN       NaN      NaN        NaN       NaN       \n",
       "3 NaN        13.289894  0.025374 NaN         19.359  1.301908  Valence               FR36002  175636      657.229970  267.236748 NaN         NaN       NaN      NaN        NaN       NaN       \n",
       "4 NaN        9.625000   0.028092  21.006000 NaN     NaN        Cholet                FR23078  104917      483.925584  216.803995 NaN         NaN       NaN      NaN        NaN       NaN       "
      ]
     },
     "execution_count": 165,
     "metadata": {},
     "output_type": "execute_result"
    }
   ],
   "source": [
    "FranceDat.head()"
   ]
  },
  {
   "cell_type": "markdown",
   "metadata": {},
   "source": [
    "####Get weather data"
   ]
  },
  {
   "cell_type": "markdown",
   "metadata": {},
   "source": [
    "Before getting the weather data, we want to merge the demographics and transit into the monthly and seasonal frame. The frames currently look like:"
   ]
  },
  {
   "cell_type": "code",
   "execution_count": 167,
   "metadata": {
    "collapsed": false
   },
   "outputs": [
    {
     "data": {
      "text/html": [
       "<div>\n",
       "<table border=\"1\" class=\"dataframe\">\n",
       "  <thead>\n",
       "    <tr style=\"text-align: right;\">\n",
       "      <th></th>\n",
       "      <th>month</th>\n",
       "      <th>name</th>\n",
       "      <th>mergeid</th>\n",
       "      <th>SO2</th>\n",
       "      <th>NO2</th>\n",
       "      <th>CO</th>\n",
       "      <th>OZONE</th>\n",
       "      <th>PM10</th>\n",
       "      <th>PM25</th>\n",
       "      <th>id</th>\n",
       "    </tr>\n",
       "  </thead>\n",
       "  <tbody>\n",
       "    <tr>\n",
       "      <th>0</th>\n",
       "      <td>1</td>\n",
       "      <td>FR38002</td>\n",
       "      <td>FR38002_1</td>\n",
       "      <td>NaN</td>\n",
       "      <td>NaN</td>\n",
       "      <td>NaN</td>\n",
       "      <td>0.012749</td>\n",
       "      <td>NaN</td>\n",
       "      <td>NaN</td>\n",
       "      <td>FR38002</td>\n",
       "    </tr>\n",
       "    <tr>\n",
       "      <th>1</th>\n",
       "      <td>2</td>\n",
       "      <td>FR38002</td>\n",
       "      <td>FR38002_2</td>\n",
       "      <td>NaN</td>\n",
       "      <td>NaN</td>\n",
       "      <td>NaN</td>\n",
       "      <td>0.017770</td>\n",
       "      <td>NaN</td>\n",
       "      <td>NaN</td>\n",
       "      <td>FR38002</td>\n",
       "    </tr>\n",
       "  </tbody>\n",
       "</table>\n",
       "</div>"
      ],
      "text/plain": [
       "   month     name    mergeid  SO2  NO2  CO     OZONE  PM10  PM25       id\n",
       "0  1      FR38002  FR38002_1 NaN  NaN  NaN  0.012749 NaN   NaN    FR38002\n",
       "1  2      FR38002  FR38002_2 NaN  NaN  NaN  0.017770 NaN   NaN    FR38002"
      ]
     },
     "execution_count": 167,
     "metadata": {},
     "output_type": "execute_result"
    }
   ],
   "source": [
    "#Monthly\n",
    "air_m.head(2)"
   ]
  },
  {
   "cell_type": "code",
   "execution_count": 168,
   "metadata": {
    "collapsed": false
   },
   "outputs": [
    {
     "data": {
      "text/html": [
       "<div>\n",
       "<table border=\"1\" class=\"dataframe\">\n",
       "  <thead>\n",
       "    <tr style=\"text-align: right;\">\n",
       "      <th></th>\n",
       "      <th>name</th>\n",
       "      <th>season</th>\n",
       "      <th>mergeid</th>\n",
       "      <th>SO2</th>\n",
       "      <th>NO2</th>\n",
       "      <th>CO</th>\n",
       "      <th>OZONE</th>\n",
       "      <th>PM10</th>\n",
       "      <th>PM25</th>\n",
       "      <th>id</th>\n",
       "    </tr>\n",
       "  </thead>\n",
       "  <tbody>\n",
       "    <tr>\n",
       "      <th>0</th>\n",
       "      <td>FR38002</td>\n",
       "      <td>Winter</td>\n",
       "      <td>FR38002_Winter</td>\n",
       "      <td>NaN</td>\n",
       "      <td>NaN</td>\n",
       "      <td>NaN</td>\n",
       "      <td>0.016307</td>\n",
       "      <td>NaN</td>\n",
       "      <td>NaN</td>\n",
       "      <td>FR38002</td>\n",
       "    </tr>\n",
       "    <tr>\n",
       "      <th>1</th>\n",
       "      <td>FR38002</td>\n",
       "      <td>Spring</td>\n",
       "      <td>FR38002_Spring</td>\n",
       "      <td>NaN</td>\n",
       "      <td>NaN</td>\n",
       "      <td>NaN</td>\n",
       "      <td>0.020697</td>\n",
       "      <td>NaN</td>\n",
       "      <td>NaN</td>\n",
       "      <td>FR38002</td>\n",
       "    </tr>\n",
       "  </tbody>\n",
       "</table>\n",
       "</div>"
      ],
      "text/plain": [
       "      name  season         mergeid  SO2  NO2  CO     OZONE  PM10  PM25       id\n",
       "0  FR38002  Winter  FR38002_Winter NaN  NaN  NaN  0.016307 NaN   NaN    FR38002\n",
       "1  FR38002  Spring  FR38002_Spring NaN  NaN  NaN  0.020697 NaN   NaN    FR38002"
      ]
     },
     "execution_count": 168,
     "metadata": {},
     "output_type": "execute_result"
    }
   ],
   "source": [
    "#Seasonal\n",
    "air_s.head(2)"
   ]
  },
  {
   "cell_type": "code",
   "execution_count": 169,
   "metadata": {
    "collapsed": false
   },
   "outputs": [
    {
     "data": {
      "text/html": [
       "<div>\n",
       "<table border=\"1\" class=\"dataframe\">\n",
       "  <thead>\n",
       "    <tr style=\"text-align: right;\">\n",
       "      <th></th>\n",
       "      <th>CO</th>\n",
       "      <th>NO2</th>\n",
       "      <th>OZONE</th>\n",
       "      <th>PM10</th>\n",
       "      <th>PM25</th>\n",
       "      <th>SO2</th>\n",
       "      <th>city</th>\n",
       "      <th>id</th>\n",
       "      <th>population</th>\n",
       "      <th>popdense</th>\n",
       "      <th>area</th>\n",
       "      <th>other_frac</th>\n",
       "      <th>car_frac</th>\n",
       "      <th>pt_frac</th>\n",
       "      <th>Car</th>\n",
       "      <th>PT</th>\n",
       "      <th>Other</th>\n",
       "    </tr>\n",
       "  </thead>\n",
       "  <tbody>\n",
       "    <tr>\n",
       "      <th>0</th>\n",
       "      <td>0.264047</td>\n",
       "      <td>13.533663</td>\n",
       "      <td>0.022437</td>\n",
       "      <td>24.659250</td>\n",
       "      <td>17.603</td>\n",
       "      <td>0.627990</td>\n",
       "      <td>Nancy</td>\n",
       "      <td>FR30036</td>\n",
       "      <td>434479</td>\n",
       "      <td>613.363951</td>\n",
       "      <td>708.354312</td>\n",
       "      <td>0.37</td>\n",
       "      <td>0.51</td>\n",
       "      <td>0.12</td>\n",
       "      <td>221584.29</td>\n",
       "      <td>52137.48</td>\n",
       "      <td>160757.23</td>\n",
       "    </tr>\n",
       "    <tr>\n",
       "      <th>1</th>\n",
       "      <td>0.291703</td>\n",
       "      <td>13.180851</td>\n",
       "      <td>0.025806</td>\n",
       "      <td>22.641333</td>\n",
       "      <td>16.303</td>\n",
       "      <td>0.374618</td>\n",
       "      <td>Caen</td>\n",
       "      <td>FR21001</td>\n",
       "      <td>403633</td>\n",
       "      <td>667.231583</td>\n",
       "      <td>604.936892</td>\n",
       "      <td>NaN</td>\n",
       "      <td>NaN</td>\n",
       "      <td>NaN</td>\n",
       "      <td>NaN</td>\n",
       "      <td>NaN</td>\n",
       "      <td>NaN</td>\n",
       "    </tr>\n",
       "  </tbody>\n",
       "</table>\n",
       "</div>"
      ],
      "text/plain": [
       "         CO        NO2     OZONE       PM10    PM25       SO2   city       id  population    popdense        area  other_frac  car_frac  pt_frac        Car        PT      Other\n",
       "0  0.264047  13.533663  0.022437  24.659250  17.603  0.627990  Nancy  FR30036  434479      613.363951  708.354312  0.37        0.51      0.12     221584.29  52137.48  160757.23\n",
       "1  0.291703  13.180851  0.025806  22.641333  16.303  0.374618  Caen   FR21001  403633      667.231583  604.936892 NaN         NaN       NaN      NaN        NaN       NaN       "
      ]
     },
     "execution_count": 169,
     "metadata": {},
     "output_type": "execute_result"
    }
   ],
   "source": [
    "#YEARLY\n",
    "FranceDat.head(2)"
   ]
  },
  {
   "cell_type": "markdown",
   "metadata": {},
   "source": [
    "If we make the assumption that demographics and transit don't change much over the year -- which is probably a reasonable assumption with perhaps the exception of transit style (less biking/walking in the winter months) -- then we can just assign all the relevant values from the yearly frame directly to the seasonal and monthly frames without too much trouble."
   ]
  },
  {
   "cell_type": "code",
   "execution_count": 170,
   "metadata": {
    "collapsed": false
   },
   "outputs": [],
   "source": [
    "FranceDat_s = air_s.merge(FranceDat[['city','id','population','popdense','area','other_frac','car_frac','pt_frac','Car','PT','Other']],on='id',how='left')\n",
    "FranceDat_s.drop(['name','mergeid'],axis=1,inplace=True)\n",
    "FranceDat_m = air_m.merge(FranceDat[['city','id','population','popdense','area','other_frac','car_frac','pt_frac','Car','PT','Other']],on='id',how='left')\n",
    "FranceDat_m.drop(['name','mergeid'],axis=1,inplace=True)"
   ]
  },
  {
   "cell_type": "markdown",
   "metadata": {},
   "source": [
    "Now we want to do is to extract information about the longitude and latitude of our Urban areas. We can do that by simply taking an average of all the longitude and latitude coordinates of the stations in each urban area. This should result in a coordinate pair that falls close to the middle of all these stations georgraphically which will represent that urban area.\n",
    "\n",
    "Before we do that, we need to remove a few stations that actually fall not in Continental France (islands that can be quite far away). There are also some seemingly erroneous coordinates in the station file as they fall in different continents and countries. So we've opted to remove those in the coordinate calculation."
   ]
  },
  {
   "cell_type": "code",
   "execution_count": 171,
   "metadata": {
    "collapsed": false
   },
   "outputs": [],
   "source": [
    "#Remove a small subset of stations that do not have latitude longitude coordinates\n",
    "#that fall in France\n",
    "stationInfo.drop(200,axis=0,inplace=True)\n",
    "stationInfo.drop([1065,674,565,358],axis=0,inplace=True)\n",
    "stationInfo.drop([618,1045,1086,452],axis=0,inplace=True)"
   ]
  },
  {
   "cell_type": "code",
   "execution_count": 172,
   "metadata": {
    "collapsed": false
   },
   "outputs": [],
   "source": [
    "#Clean station Code with superscripts\n",
    "stationInfo['Code']=stationInfo['Code'].apply(lambda x: clean_superscript(x))"
   ]
  },
  {
   "cell_type": "code",
   "execution_count": 173,
   "metadata": {
    "collapsed": false
   },
   "outputs": [],
   "source": [
    "#Group by the station Code and then get mean of the\n",
    "#longitude and latitude. Store those in 2 dataframes\n",
    "group = stationInfo.groupby('Code')\n",
    "long_stat = pd.DataFrame(group.mean()['station_longitude_deg'])\n",
    "lat_stat = pd.DataFrame(group.mean()['station_latitude_deg'])\n",
    "lat_stat = lat_stat.reset_index()\n",
    "long_stat = long_stat.reset_index()\n",
    "lat_stat['city']=lat_stat['Code']\n",
    "lat_stat.columns=['Code','latitude','city']\n",
    "long_stat['city']=long_stat['Code']\n",
    "long_stat.columns=['Code','longitude','city']"
   ]
  },
  {
   "cell_type": "code",
   "execution_count": 174,
   "metadata": {
    "collapsed": false
   },
   "outputs": [],
   "source": [
    "#Merge Latitude and Longitude with the other data\n",
    "FranceDat = FranceDat.merge(lat_stat,on='city',how='left')\n",
    "FranceDat = FranceDat.merge(long_stat,on='city',how='left')"
   ]
  },
  {
   "cell_type": "code",
   "execution_count": 175,
   "metadata": {
    "collapsed": false
   },
   "outputs": [],
   "source": [
    "#Remove excess columns\n",
    "FranceDat.drop(['Code_x','Code_y'],axis=1,inplace=True)"
   ]
  },
  {
   "cell_type": "code",
   "execution_count": 176,
   "metadata": {
    "collapsed": false
   },
   "outputs": [],
   "source": [
    "#There are a few duplicates that need to be removed. This \n",
    "#is a byproduct of some weird merging with the transit data.\n",
    "#Basically there were duplicates in the transit data but the\n",
    "#percents were the same still\n",
    "FranceDat = FranceDat.drop_duplicates('city')"
   ]
  },
  {
   "cell_type": "markdown",
   "metadata": {},
   "source": [
    "Next we need to get our weather data. We can do that through the NOAA database. We can connect to that remotely to get the station data first."
   ]
  },
  {
   "cell_type": "code",
   "execution_count": 177,
   "metadata": {
    "collapsed": true
   },
   "outputs": [],
   "source": [
    "#Get all weather station data from noaa\n",
    "#using the following link\n",
    "iddata= urllib.urlopen(\"ftp://ftp.ncdc.noaa.gov/pub/data/noaa/isd-history.csv\")\n",
    "reader=csv.reader(iddata,delimiter=',')"
   ]
  },
  {
   "cell_type": "code",
   "execution_count": 178,
   "metadata": {
    "collapsed": true
   },
   "outputs": [],
   "source": [
    "#Clean the station data to just those of interest\n",
    "#There is some junk at the top of the file we need \n",
    "#to ignore\n",
    "USAF=[]\n",
    "WBAN=[]\n",
    "STATION=[]\n",
    "CTRY=[]\n",
    "CALL=[]\n",
    "LAT=[]\n",
    "LONG=[]\n",
    "count=0\n",
    "for row in reader:\n",
    "    count+=1\n",
    "    if count > 22:\n",
    "        USAF.append(row[0])\n",
    "        WBAN.append(row[1])\n",
    "        STATION.append(row[2])\n",
    "        CTRY.append(row[3])\n",
    "        CALL.append(row[5])\n",
    "        LAT.append(row[6])\n",
    "        LONG.append(row[7])"
   ]
  },
  {
   "cell_type": "code",
   "execution_count": 179,
   "metadata": {
    "collapsed": true
   },
   "outputs": [],
   "source": [
    "#Cleaning up the station data\n",
    "frameDict={}\n",
    "frameDict['USAF']=USAF\n",
    "frameDict[\"WBAN\"]=WBAN\n",
    "frameDict['STATION']=STATION\n",
    "frameDict['CTRY']=CTRY\n",
    "frameDict['CALL']=CALL\n",
    "frameDict['LAT']=LAT\n",
    "frameDict['LONG']=LONG\n",
    "stationdf=pd.DataFrame(frameDict)"
   ]
  },
  {
   "cell_type": "code",
   "execution_count": 180,
   "metadata": {
    "collapsed": true
   },
   "outputs": [],
   "source": [
    "#Filter to France only\n",
    "stationdf= stationdf[stationdf['CTRY']==\"FR\"]"
   ]
  },
  {
   "cell_type": "code",
   "execution_count": 181,
   "metadata": {
    "collapsed": true
   },
   "outputs": [],
   "source": [
    "#Clean lat and long in station data\n",
    "#to remove excess characters\n",
    "replacelat = [i.replace(\"+\",'') for i in stationdf['LAT']]\n",
    "replacelong = [i.replace(\"+\",'') for i in stationdf['LONG']]\n",
    "stationdf['LAT']=replacelat\n",
    "stationdf['LONG']=replacelong\n",
    "#Make a filename matcher we'll need later\n",
    "id = [str(i)+\"-\"+str(j) for i,j in zip(stationdf['USAF'],stationdf['WBAN'])]\n",
    "stationdf['ID']=id"
   ]
  },
  {
   "cell_type": "code",
   "execution_count": 182,
   "metadata": {
    "collapsed": true
   },
   "outputs": [],
   "source": [
    "#Clean with a second stroke to use NaNs when\n",
    "#there is lack of data or whitespace\n",
    "stationdf = stationdf.replace(r'\\s+', np.nan, regex=True)\n",
    "stationdf = stationdf.replace('',np.nan)"
   ]
  },
  {
   "cell_type": "code",
   "execution_count": 184,
   "metadata": {
    "collapsed": false
   },
   "outputs": [
    {
     "data": {
      "text/html": [
       "<div>\n",
       "<table border=\"1\" class=\"dataframe\">\n",
       "  <thead>\n",
       "    <tr style=\"text-align: right;\">\n",
       "      <th></th>\n",
       "      <th>CALL</th>\n",
       "      <th>CTRY</th>\n",
       "      <th>LAT</th>\n",
       "      <th>LONG</th>\n",
       "      <th>STATION</th>\n",
       "      <th>USAF</th>\n",
       "      <th>WBAN</th>\n",
       "      <th>ID</th>\n",
       "    </tr>\n",
       "  </thead>\n",
       "  <tbody>\n",
       "    <tr>\n",
       "      <th>2479</th>\n",
       "      <td>NaN</td>\n",
       "      <td>FR</td>\n",
       "      <td>50.733</td>\n",
       "      <td>001.600</td>\n",
       "      <td>BOULOGNE</td>\n",
       "      <td>070020</td>\n",
       "      <td>99999</td>\n",
       "      <td>070020-99999</td>\n",
       "    </tr>\n",
       "    <tr>\n",
       "      <th>2480</th>\n",
       "      <td>LFYJ</td>\n",
       "      <td>FR</td>\n",
       "      <td>44.183</td>\n",
       "      <td>-000.267</td>\n",
       "      <td>CAPTIEUX</td>\n",
       "      <td>070023</td>\n",
       "      <td>99999</td>\n",
       "      <td>070023-99999</td>\n",
       "    </tr>\n",
       "    <tr>\n",
       "      <th>2481</th>\n",
       "      <td>LFAT</td>\n",
       "      <td>FR</td>\n",
       "      <td>50.515</td>\n",
       "      <td>001.627</td>\n",
       "      <td>NaN</td>\n",
       "      <td>070030</td>\n",
       "      <td>99999</td>\n",
       "      <td>070030-99999</td>\n",
       "    </tr>\n",
       "  </tbody>\n",
       "</table>\n",
       "</div>"
      ],
      "text/plain": [
       "      CALL CTRY     LAT      LONG   STATION    USAF   WBAN            ID\n",
       "2479  NaN   FR   50.733  001.600   BOULOGNE  070020  99999  070020-99999\n",
       "2480  LFYJ  FR   44.183  -000.267  CAPTIEUX  070023  99999  070023-99999\n",
       "2481  LFAT  FR   50.515  001.627   NaN       070030  99999  070030-99999"
      ]
     },
     "execution_count": 184,
     "metadata": {},
     "output_type": "execute_result"
    }
   ],
   "source": [
    "stationdf.head(3)"
   ]
  },
  {
   "cell_type": "code",
   "execution_count": 185,
   "metadata": {
    "collapsed": true
   },
   "outputs": [],
   "source": [
    "#Remove the stations that are not labeled with a CALL. This\n",
    "#is airport data and those without call generally are missing most\n",
    "#of the weather data we'll need later.\n",
    "stationdf_subset=stationdf[pd.notnull(stationdf['CALL'])]"
   ]
  },
  {
   "cell_type": "code",
   "execution_count": 186,
   "metadata": {
    "collapsed": true
   },
   "outputs": [],
   "source": [
    "#Load a file that includes the names of all possible stations that have data in 2010\n",
    "#We've just downloaded the names of those files directly from their repository which\n",
    "#will references in a few cells from here\n",
    "possibleStations = pd.read_csv('tempdata/WeatherStationList.csv',header=None)\n",
    "#Filter our station dataframe to just include stations that have data\n",
    "#in 2010\n",
    "possibleStations = [i[:-8] for i in possibleStations[0]]\n",
    "mask = stationdf_subset['ID'].isin(possibleStations)\n",
    "stationdf_subset = stationdf_subset[mask]"
   ]
  },
  {
   "cell_type": "code",
   "execution_count": 187,
   "metadata": {
    "collapsed": true
   },
   "outputs": [],
   "source": [
    "#Make a dictionary of latitiude and longitude of all weather stations with data\n",
    "latlong_lookup = [(c,x,y) for c,x,y in zip(stationdf_subset['ID'],stationdf_subset['LAT'],stationdf_subset['LONG'])]"
   ]
  },
  {
   "cell_type": "markdown",
   "metadata": {},
   "source": [
    "The next step is to get the weather station that is closest to each of our urban areas based on the latitude and longitude we've calculated. We do this by looking at euclidean distance and finding the closest station."
   ]
  },
  {
   "cell_type": "code",
   "execution_count": 188,
   "metadata": {
    "collapsed": false
   },
   "outputs": [],
   "source": [
    "#Loop through all our cities with latitude and longitude\n",
    "#Keep track of the city with station data that has closest\n",
    "#euclidean distance to that city\n",
    "best = {}\n",
    "for city, la, lo in zip(FranceDat['city'],FranceDat['latitude'],FranceDat['longitude']):\n",
    "    point1 = np.array((float(la),float(lo)))\n",
    "    best[city] = ('ABC',1000)\n",
    "    for lookup in latlong_lookup:\n",
    "        point2 = np.array((float(lookup[1]),float(lookup[2])))\n",
    "        dist = np.linalg.norm(point1-point2)\n",
    "        if dist < best[city][1]:\n",
    "            best[city] = (lookup[0],dist)"
   ]
  },
  {
   "cell_type": "code",
   "execution_count": 189,
   "metadata": {
    "collapsed": false
   },
   "outputs": [
    {
     "data": {
      "text/plain": [
       "array([[<matplotlib.axes._subplots.AxesSubplot object at 0x00000000565EE978>]], dtype=object)"
      ]
     },
     "execution_count": 189,
     "metadata": {},
     "output_type": "execute_result"
    },
    {
     "data": {
      "image/png": "[encoded data removed]",
      "text/plain": [
       "<matplotlib.figure.Figure at 0x565eec88>"
      ]
     },
     "metadata": {},
     "output_type": "display_data"
    }
   ],
   "source": [
    "#Look at distances of station for site\n",
    "pd.DataFrame(best.values()).hist()"
   ]
  },
  {
   "cell_type": "markdown",
   "metadata": {},
   "source": [
    "The three large values here are a city in Martinique, city in Guyana, and a city in Guadaloupe. These are again not in continental France so we'd likely want to drop them from this analysis. The others seem to have a found a weather station with data close to the urban area."
   ]
  },
  {
   "cell_type": "code",
   "execution_count": 190,
   "metadata": {
    "collapsed": false
   },
   "outputs": [],
   "source": [
    "#We need to store this stations in a skeleton frame\n",
    "toDF = {'City':[],'FR_ID':[]}\n",
    "for i,j in zip(best.keys()[1:],best.values()[1:]):\n",
    "    toDF['City'].append(i)\n",
    "    toDF['FR_ID'].append(j[0])\n",
    "skeletonFrame = pd.DataFrame(toDF)"
   ]
  },
  {
   "cell_type": "code",
   "execution_count": 191,
   "metadata": {
    "collapsed": false
   },
   "outputs": [],
   "source": [
    "#Drop cities that aren't in France\n",
    "skeletonFrame.drop([40,49,47],axis=0,inplace=True)"
   ]
  },
  {
   "cell_type": "code",
   "execution_count": 192,
   "metadata": {
    "collapsed": true
   },
   "outputs": [],
   "source": [
    "#Change the ID to match the file names we need to reference in a second\n",
    "skeletonFrame['l_ID']=skeletonFrame['FR_ID']+'-2010'"
   ]
  },
  {
   "cell_type": "code",
   "execution_count": 193,
   "metadata": {
    "collapsed": true
   },
   "outputs": [],
   "source": [
    "#Import some libraries to deal with some compressed files we need to access\n",
    "import urllib2\n",
    "import zlib"
   ]
  },
  {
   "cell_type": "markdown",
   "metadata": {},
   "source": [
    "The following code will go through files for each of the weather stations we've selected and parse the information. The files are delimited by a fixed width -- so we need to look at each block of characters and assign them to the appropriate variable. This is tedious, but fixed with is challenging to deal with smoothly."
   ]
  },
  {
   "cell_type": "code",
   "execution_count": 194,
   "metadata": {
    "collapsed": false
   },
   "outputs": [
    {
     "name": "stdout",
     "output_type": "stream",
     "text": [
      "20 Stations Captured\n",
      "40 Stations Captured\n",
      "60 Stations Captured\n",
      "80 Stations Captured\n",
      "Wall time: 5min 45s\n"
     ]
    }
   ],
   "source": [
    "%%time\n",
    "#This codeblock is a pain\n",
    "#Initiate a bunch of empty lists that we will populate for the output\n",
    "#variables. There are 3 outputs we want - seasonal, monthly, and yearly\n",
    "site_list_y = []\n",
    "temp_sites_y = []\n",
    "rh_sites_y = []\n",
    "pressure_sites_y = []\n",
    "wind_sites_y = []\n",
    "precip_sites_y=[]\n",
    "site_list_m = []\n",
    "temp_sites_m = []\n",
    "rh_sites_m = []\n",
    "pressure_sites_m = []\n",
    "wind_sites_m = []\n",
    "month_sites_m = []\n",
    "precip_sites_m=[]\n",
    "site_list_s = []\n",
    "temp_sites_s = []\n",
    "rh_sites_s = []\n",
    "pressure_sites_s = []\n",
    "wind_sites_s = []\n",
    "season_sites_s = []\n",
    "precip_sites_s=[]\n",
    "\n",
    "count = 0\n",
    "#Loop through each city in the skeletonFrame using\n",
    "#the id that will match file name on the site we are\n",
    "#trying to pull info from\n",
    "for site in skeletonFrame['l_ID']:\n",
    "    count += 1\n",
    "    if count in range(0,400,20):\n",
    "        print str(count)+' Stations Captured'\n",
    "    #Help from this post for dealing with tar.gz files\n",
    "    #http://stackoverflow.com/questions/2695152/in-python-how-do-i-decode-gzip-encoding\n",
    "    #Try opening the file -- if it doesn't work, report an error\n",
    "    #but keep going through the ones that worked\n",
    "    try:\n",
    "        f=urllib2.urlopen('ftp://ftp.ncdc.noaa.gov/pub/data/noaa/2010/'+site+'.gz') \n",
    "        decompressed_data=zlib.decompress(f.read(), 16+zlib.MAX_WBITS)\n",
    "        a = decompressed_data.split(';\\n')\n",
    "    except:\n",
    "        print str(site)+'ERROR'\n",
    "        continue\n",
    "    #Initiate empty lists for all the variables we want to capture from\n",
    "    #the individual station files\n",
    "    tvar =[]\n",
    "    usaf = []\n",
    "    wban = []\n",
    "    date = []\n",
    "    gtime = []\n",
    "    flag =[]\n",
    "    glat = []\n",
    "    glong = []\n",
    "    gtype =[]\n",
    "    elev = []\n",
    "    call = []\n",
    "    qc = []\n",
    "    winddir = []\n",
    "    winddir_qc = []\n",
    "    wind_type = []\n",
    "    windspeed = []\n",
    "    windspeed_qc = []\n",
    "    cheight = []\n",
    "    cheight_qc = []\n",
    "    cheight_det = []\n",
    "    cheight_cavok = []\n",
    "    visdist = []\n",
    "    visdist_qc = []\n",
    "    visvar = []\n",
    "    visvar_qc = []\n",
    "    temp = []\n",
    "    temp_qc = []\n",
    "    dewpoint = []\n",
    "    dewpoint_qc = []\n",
    "    press = []\n",
    "    press_qc = []\n",
    "    press2 = []\n",
    "    rh = []\n",
    "    rh2= []\n",
    "    precip = []\n",
    "    precip2 = []\n",
    "    precip3 = []\n",
    "\n",
    "    #For each row in the station file we've pulled\n",
    "    #we parse the relevant fixed-width delimited info\n",
    "    for row in a:\n",
    "        tvar.append(row[0:4])\n",
    "        usaf.append(row[4:10])\n",
    "        wban.append(row[10:15])\n",
    "        date.append(row[15:23])\n",
    "        gtime.append(row[23:27])\n",
    "        flag.append(row[27:28])\n",
    "        glat.append(row[28:34])\n",
    "        glong.append(row[34:41])\n",
    "        gtype.append(row[41:46])\n",
    "        elev.append(row[46:51])\n",
    "        call.append(row[51:56])\n",
    "        qc.append(row[56:60])\n",
    "        winddir.append(row[60:63])\n",
    "        winddir_qc.append(row[63:64])\n",
    "        wind_type.append(row[64:65])\n",
    "        windspeed.append(row[65:69])\n",
    "        windspeed_qc.append(row[69:70])\n",
    "        cheight.append(row[70:75])\n",
    "        cheight_qc.append(row[75:76])\n",
    "        cheight_det.append(row[76:77])\n",
    "        cheight_cavok.append(row[77:78])\n",
    "        visdist.append(row[78:84])\n",
    "        visdist_qc.append(row[84:85])\n",
    "        visvar.append(row[85:86])\n",
    "        visvar_qc.append(row[86:87])\n",
    "        temp.append(row[87:92])\n",
    "        temp_qc.append(row[92:93])\n",
    "        dewpoint.append(row[93:98])\n",
    "        dewpoint_qc.append(row[98:99])\n",
    "        press.append(row[99:104])\n",
    "        press_qc.append(row[104:105])\n",
    "        #We need regular expressions to pull\n",
    "        #out some specific markers like RH, a second\n",
    "        #version of Pressure, and Precipitation\n",
    "        match = re.search(r'MA1[0-9]{5}.{7}',row)\n",
    "        if match:\n",
    "            press2.append(match.group()[-6:-1])\n",
    "        else:\n",
    "            press2.append(None)\n",
    "        match = re.search(r'CH1',row)\n",
    "        if match:\n",
    "            rh.append(match.group())\n",
    "        else:\n",
    "            rh.append(None)\n",
    "        match = re.search(r'CH2',row)\n",
    "        if match:\n",
    "            rh2.append(match.group())\n",
    "        else:\n",
    "            rh2.append(None)\n",
    "        #There are 3 types of precipitation measures\n",
    "        #Some are refer to different time periods (1-hour, vs 3-hour, vs 24-hour)\n",
    "        #We store them all separately for now\n",
    "        match = re.search(r'AA1[0-9]{6}.{2}',row)\n",
    "        if match:\n",
    "            if int(match.group()[5:9]) < 1000:\n",
    "                precip.append(int(match.group()[5:9]))\n",
    "            else:\n",
    "                precip.append(None)\n",
    "        else:\n",
    "            precip.append(None)\n",
    "        match = re.search(r'AA2[0-9]{6}.{2}',row)\n",
    "        if match:\n",
    "            if int(match.group()[5:9]) < 1000:\n",
    "                precip2.append(int(match.group()[5:9]))\n",
    "            else:\n",
    "                precip2.append(None)        \n",
    "        else:\n",
    "            precip2.append(None)\n",
    "        match = re.search(r'AA3[0-9]{6}.{2}',row)        \n",
    "        if match:\n",
    "            if int(match.group()[5:9]) < 1000:\n",
    "                precip3.append(int(match.group()[5:9]))\n",
    "            else:\n",
    "                precip3.append(None) \n",
    "        else:\n",
    "            precip3.append(None)\n",
    "    #Make better cleaned dataframe with all the extracted\n",
    "    frameDict={}\n",
    "    frameDict['tvar']=tvar\n",
    "    frameDict[\"usaf\"]=usaf\n",
    "    frameDict['wban']=wban\n",
    "    frameDict['date']=date\n",
    "    frameDict['time']=gtime\n",
    "    frameDict['flag']=flag\n",
    "    frameDict['lat']=glat\n",
    "    frameDict['long']=glong\n",
    "    frameDict['type']=gtype\n",
    "    frameDict['elev']=elev\n",
    "    frameDict['call']=call\n",
    "    frameDict['qc']=qc\n",
    "    frameDict['winddir']=winddir\n",
    "    frameDict['winddir_qc']=winddir_qc\n",
    "    frameDict['wind_type']=wind_type\n",
    "    frameDict['windspeed']=windspeed\n",
    "    frameDict['windspeed_qc']=windspeed_qc\n",
    "    frameDict['cheight']=cheight\n",
    "    frameDict['cheight_qc']=cheight_qc\n",
    "    frameDict['cheight_det']=cheight_det\n",
    "    frameDict['cheight_cavok']=cheight_cavok\n",
    "    frameDict['visdist']=visdist\n",
    "    frameDict['visdist_qc']=visdist_qc\n",
    "    frameDict['visvar']=visvar\n",
    "    frameDict['visvar_qc']=visvar_qc\n",
    "    frameDict['temp']=temp\n",
    "    frameDict['temp_qc']=temp_qc\n",
    "    frameDict['dewpoint']=dewpoint\n",
    "    frameDict['dewpoint_qc']=dewpoint_qc\n",
    "    frameDict['press']=press\n",
    "    frameDict['press_qc']=press_qc\n",
    "    frameDict['press2']=press2\n",
    "    frameDict['rh']=rh\n",
    "    frameDict['precip']=precip\n",
    "    frameDict['precip2']=precip2\n",
    "    frameDict['precip3']=precip3\n",
    "    df_stat=pd.DataFrame(frameDict)\n",
    "\n",
    "    #Replace missing value codes with NaNs\n",
    "    df_stat = df_stat.replace('99999',np.nan)\n",
    "    df_stat = df_stat.replace('9999',np.nan)\n",
    "    df_stat = df_stat.replace('+9999',np.nan)\n",
    "    df_stat = df_stat.replace('999999',np.nan)\n",
    "    df_stat = df_stat.replace('999',np.nan)\n",
    "    #Get month from date\n",
    "    df_stat['month']=[i[4:6] for i in df_stat['date']]\n",
    "    #Convert units to fahrenheit, knots, and scale appropriately\n",
    "    #based on how the data is stored\n",
    "    df_stat['temp'] = [(float(i)/10)*(float(9)/5)+32 if i !='' else np.nan  for i in df_stat['temp']]\n",
    "    df_stat['windspeed'] = [(float(i)/10)*1.94384 if i !='' else np.nan for i in df_stat['windspeed']]\n",
    "    df_stat['rh'] = [(float(i)/10) if i else np.nan for i in df_stat['rh']]\n",
    "    df_stat['press'] = [(float(i)/10) if i else np.nan for i in df_stat['press']]\n",
    "    #Extract data and season of each variable\n",
    "    df_stat['day']= [i[6:8] for i in df_stat['date']]\n",
    "    df_stat['season']=df_stat['date'].apply(lambda x: seasonMaker2(x))\n",
    "    \n",
    "    #Precip Work - we take the maximum of the 3 precip measures\n",
    "    #This generally represents the longest time period from the day (24-hours)\n",
    "    #And we'd like a daily total. It's not perfect, but it's a decent start\n",
    "    df_stat['Precip']=[max([i,j,k])/float(10) if i and j and k else np.nan for i,j,k in zip(df_stat['precip'],df_stat['precip2'],df_stat['precip3'])]    \n",
    "    group = df_stat.groupby('date')\n",
    "    maxP = group.max()['Precip']\n",
    "    maxP = pd.DataFrame(maxP.reset_index())\n",
    "    maxP.drop(0,axis=0,inplace=True)\n",
    "    df_stat.drop(['Precip'],axis=1,inplace=True)\n",
    "    #df_stat.drop(['precip','precip2','precip3','Precip'],axis=1,inplace=True)\n",
    "    df_stat = df_stat.merge(maxP,on='date',how='left')\n",
    "        \n",
    "    #Yearly\n",
    "    meanList = df_stat.mean()\n",
    "    site_list_y.append(site)\n",
    "    temp_sites_y.append(meanList['temp'])\n",
    "    rh_sites_y.append(meanList['rh'])\n",
    "    pressure_sites_y.append(meanList['press'])\n",
    "    wind_sites_y.append(meanList['windspeed'])\n",
    "    \n",
    "    #Yearly TOTAL rainfall\n",
    "    precipG = df_stat.groupby('date')\n",
    "    p = precipG.mean()['Precip']\n",
    "    precip_sites_y.append(p.sum())\n",
    "        \n",
    "    #Monthly\n",
    "    group = df_stat.groupby('month')\n",
    "    ma = group.mean()\n",
    "    ma = ma.reset_index()\n",
    "    site_list_m = site_list_m+[site for i in range(len([int(x) for x in ma.month[1:]]))]\n",
    "    month_sites_m = month_sites_m+[int(x) for x in ma.month[1:]]\n",
    "    temp_sites_m = temp_sites_m+list(ma['temp'][1:])\n",
    "    wind_sites_m = wind_sites_m+list(ma['windspeed'][1:])\n",
    "    pressure_sites_m = pressure_sites_m+list(ma['press'][1:])\n",
    "    rh_sites_m = rh_sites_m+list(ma['rh'][1:])\n",
    "    \n",
    "    #Monthly TOTAL rainfull\n",
    "    precipG = df_stat.groupby(['date','month'])\n",
    "    p = precipG.mean()['Precip']\n",
    "    p = pd.DataFrame(p).reset_index()\n",
    "    precipG2 = p.groupby('month')\n",
    "    p2 = pd.DataFrame(precipG2.sum()['Precip']).reset_index()\n",
    "    precip_sites_m = precip_sites_m+list(p2['Precip'][1:])\n",
    "\n",
    "    \n",
    "    #Seasonally\n",
    "    group = df_stat.groupby('season')\n",
    "    ma = group.mean()\n",
    "    ma = ma.reset_index()\n",
    "    site_list_s = site_list_s+[site for i in range(len(list(ma.season[1:])))]\n",
    "    season_sites_s = season_sites_s+list(ma.season[1:])\n",
    "    temp_sites_s = temp_sites_s+list(ma['temp'][1:])\n",
    "    wind_sites_s = wind_sites_s+list(ma['windspeed'][1:])\n",
    "    pressure_sites_s = pressure_sites_s+list(ma['press'][1:])\n",
    "    rh_sites_s = rh_sites_s+list(ma['rh'][1:])\n",
    "    \n",
    "    #Seasonal TOTAL rainfall\n",
    "    precipG = df_stat.groupby(['date','season'])\n",
    "    p = precipG.mean()['Precip']\n",
    "    p = pd.DataFrame(p).reset_index()\n",
    "    precipG2 = p.groupby('season')\n",
    "    p2 = pd.DataFrame(precipG2.sum()['Precip']).reset_index()\n",
    "    precip_sites_s = precip_sites_s+list(p2['Precip'][1:])\n",
    "\n",
    "    time.sleep(1)"
   ]
  },
  {
   "cell_type": "code",
   "execution_count": 195,
   "metadata": {
    "collapsed": false
   },
   "outputs": [],
   "source": [
    "#Make the weather frame\n",
    "toFrame = {'Site':site_list_y,'Temp':temp_sites_y,'RH':rh_sites_y,'Pressure':pressure_sites_y,'Wind':wind_sites_y,'Precip':precip_sites_y}\n",
    "WeatherFrame_y = pd.DataFrame(toFrame)\n",
    "toFrame = {'Season':season_sites_s,'Site':site_list_s,'Temp':temp_sites_s,'RH':rh_sites_s,'Pressure':pressure_sites_s,'Wind':wind_sites_s,'Precip':precip_sites_s}\n",
    "WeatherFrame_s = pd.DataFrame(toFrame)\n",
    "toFrame = {'Month':month_sites_m,'Site':site_list_m,'Temp':temp_sites_m,'RH':rh_sites_m,'Pressure':pressure_sites_m,'Wind':wind_sites_m,'Precip':precip_sites_m}\n",
    "WeatherFrame_m = pd.DataFrame(toFrame)"
   ]
  },
  {
   "cell_type": "code",
   "execution_count": 196,
   "metadata": {
    "collapsed": false
   },
   "outputs": [],
   "source": [
    "#Make a map to convert the weird numeric id to the city name\n",
    "mapperWeath = {}\n",
    "for i,j in zip (skeletonFrame['l_ID'],skeletonFrame['City']):\n",
    "    mapperWeath[i]=j"
   ]
  },
  {
   "cell_type": "code",
   "execution_count": 197,
   "metadata": {
    "collapsed": false
   },
   "outputs": [],
   "source": [
    "#Add city name to the weather data\n",
    "WeatherFrame_y['city'] = WeatherFrame_y['Site'].map(mapperWeath.get)\n",
    "WeatherFrame_s['city'] = WeatherFrame_s['Site'].map(mapperWeath.get)\n",
    "WeatherFrame_m['city'] = WeatherFrame_m['Site'].map(mapperWeath.get)\n",
    "WeatherFrame_s['id']=WeatherFrame_s['city'] + WeatherFrame_s['Season'].astype(str)\n",
    "WeatherFrame_m['id']=WeatherFrame_m['city'] + WeatherFrame_m['Month'].astype(str)"
   ]
  },
  {
   "cell_type": "code",
   "execution_count": 198,
   "metadata": {
    "collapsed": true
   },
   "outputs": [],
   "source": [
    "#Replace the 0's in precipiation with nan's as they are missing data\n",
    "#not actually 0's. Just an issue for yearly data\n",
    "WeatherFrame_y['Precip'] = WeatherFrame_y['Precip'].replace(0,np.nan)"
   ]
  },
  {
   "cell_type": "code",
   "execution_count": 199,
   "metadata": {
    "collapsed": false
   },
   "outputs": [],
   "source": [
    "#Create merge ids for the seasonal and monthly data\n",
    "FranceDat_m['id']=FranceDat_m['city'] + [str(int(x)) for x in FranceDat_m['month']]\n",
    "FranceDat_s['id']=FranceDat_s['city'] + [str(x) for x in FranceDat_s['season']]"
   ]
  },
  {
   "cell_type": "code",
   "execution_count": 200,
   "metadata": {
    "collapsed": true
   },
   "outputs": [],
   "source": [
    "#Merge weather data with the previous work\n",
    "FranceYearDat2 = FranceDat.merge(WeatherFrame_y,on='city',how='left')\n",
    "FranceSeasonDat2 = FranceDat_s.merge(WeatherFrame_s[['Temp','RH','Pressure','Wind','Precip','id']],on='id',how='left')\n",
    "FranceMonthDat2 = FranceDat_m.merge(WeatherFrame_m[['Temp','RH','Pressure','Wind','Precip','id']],on='id',how='left')"
   ]
  },
  {
   "cell_type": "code",
   "execution_count": 201,
   "metadata": {
    "collapsed": false
   },
   "outputs": [
    {
     "name": "stdout",
     "output_type": "stream",
     "text": [
      "(87, 25)\n",
      "(348, 23)\n",
      "(1044, 23)\n"
     ]
    }
   ],
   "source": [
    "#There are a lot of duplicates in all these files because of some weirdness with\n",
    "#the merging of frames. While trying to get to the root of the issue would probably\n",
    "#be ideal, given that they truly are duplicates on all values, we can just drop them\n",
    "#using the drop_duplicates function\n",
    "FranceYearDat2 = FranceYearDat2.drop_duplicates()\n",
    "print FranceYearDat2.shape\n",
    "FranceSeasonDat2 = FranceSeasonDat2.drop_duplicates('id')\n",
    "print FranceSeasonDat2.shape\n",
    "FranceMonthDat2 = FranceMonthDat2.drop_duplicates('id')\n",
    "print FranceMonthDat2.shape"
   ]
  },
  {
   "cell_type": "code",
   "execution_count": 111,
   "metadata": {
    "collapsed": false
   },
   "outputs": [],
   "source": [
    "FranceYearDat2.to_csv('FranceYearDat.csv',index=False,na_rep=\"NA\")\n",
    "FranceSeasonDat2.to_csv('FranceSeasonDat.csv',index=False,na_rep='NA')\n",
    "FranceMonthDat2.to_csv('FranceMonthDat.csv',index=False,na_rep='NA')"
   ]
  }
 ],
 "metadata": {
  "kernelspec": {
   "display_name": "Python 2",
   "language": "python",
   "name": "python2"
  },
  "language_info": {
   "codemirror_mode": {
    "name": "ipython",
    "version": 2
   },
   "file_extension": ".py",
   "mimetype": "text/x-python",
   "name": "python",
   "nbconvert_exporter": "python",
   "pygments_lexer": "ipython2",
   "version": "2.7.10"
  }
 },
 "nbformat": 4,
 "nbformat_minor": 0
}
