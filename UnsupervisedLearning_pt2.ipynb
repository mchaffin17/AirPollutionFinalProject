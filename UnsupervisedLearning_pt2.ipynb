{
 "cells": [
  {
   "cell_type": "markdown",
   "metadata": {},
   "source": [
    "##Unsupervised Learning Part 2"
   ]
  },
  {
   "cell_type": "markdown",
   "metadata": {},
   "source": [
    "The purpose of this section is to increase the number of US CBSAs that can be clustered by imputing the cluster labels (using knn) for CBSAs with some missing data in the 6 key pollutants. Then, we wanted to see if the clusters made in the US data could be used to classify the French data. "
   ]
  },
  {
   "cell_type": "code",
   "execution_count": 242,
   "metadata": {
    "collapsed": true
   },
   "outputs": [],
   "source": [
    "%matplotlib inline\n",
    "import numpy as np\n",
    "import scipy as sp\n",
    "import matplotlib as mpl\n",
    "import matplotlib.cm as cm\n",
    "import matplotlib.pyplot as plt\n",
    "import pandas as pd\n",
    "import seaborn as sns\n",
    "import csv\n",
    "from time import time\n",
    "import operator "
   ]
  },
  {
   "cell_type": "markdown",
   "metadata": {},
   "source": [
    "####Import US data"
   ]
  },
  {
   "cell_type": "code",
   "execution_count": 159,
   "metadata": {
    "collapsed": false
   },
   "outputs": [],
   "source": [
    "clusters = pd.read_csv('dfClusters_kMeans.csv')\n",
    "us_year = pd.read_csv('YearDat.csv')"
   ]
  },
  {
   "cell_type": "markdown",
   "metadata": {},
   "source": [
    "####Import French data"
   ]
  },
  {
   "cell_type": "code",
   "execution_count": 410,
   "metadata": {
    "collapsed": true
   },
   "outputs": [],
   "source": [
    "france = pd.read_csv('FranceYearDat.csv')"
   ]
  },
  {
   "cell_type": "markdown",
   "metadata": {},
   "source": [
    "###Impute cluster label of US cities with missing data in the 6 pollutants"
   ]
  },
  {
   "cell_type": "markdown",
   "metadata": {},
   "source": [
    "In the previous cluster creation, only 80 of the 533 US CBSAs were able to be used because of missing data in the 6 key pollutants. So, to increase our sample size, we will use knn to impute the cluster assignment in the CBSAs with only one or two missing values (i.e., with data for 4 or 5 pollutants)."
   ]
  },
  {
   "cell_type": "markdown",
   "metadata": {},
   "source": [
    "####What CBSAs have only one or two missing values in the key pollutants?"
   ]
  },
  {
   "cell_type": "code",
   "execution_count": 166,
   "metadata": {
    "collapsed": false
   },
   "outputs": [],
   "source": [
    "pollutants = ['CO', 'NO2', 'OZONE', 'PM10', 'PM25_FRMFEM', 'SO2']\n",
    "\n",
    "#us_year_p is the dataframe with only the 6 pollutants, with CBSA name as the index. \n",
    "us_year_p = us_year.loc[:, ['CBSA Name', 'CO', 'NO2', 'OZONE', 'PM10', 'PM25_FRMFEM', 'SO2']]"
   ]
  },
  {
   "cell_type": "code",
   "execution_count": 172,
   "metadata": {
    "collapsed": false
   },
   "outputs": [],
   "source": [
    "#generate lists of CBSAs with data from 4 or 5 pollutants\n",
    "us_p4 = []\n",
    "us_p5 = []\n",
    "for i, row in us_year_p.iterrows(): \n",
    "    count = []\n",
    "    for item in row.index[1:]:\n",
    "        if np.isnan(row[item]):\n",
    "            count.append(1)\n",
    "    if sum(count) == 1:\n",
    "        us_p5.append(row['CBSA Name'])\n",
    "    if sum(count) == 2:\n",
    "        us_p4.append(row['CBSA Name'])"
   ]
  },
  {
   "cell_type": "code",
   "execution_count": 173,
   "metadata": {
    "collapsed": false,
    "scrolled": true
   },
   "outputs": [
    {
     "name": "stdout",
     "output_type": "stream",
     "text": [
      "64 CBSAs with non-missing data from 4 pollutants\n",
      "42 CBSAs with non-missing data from 5 pollutants\n"
     ]
    }
   ],
   "source": [
    "#how many CBSAs do we have with 4 or 5 pollutants?\n",
    "print '%d CBSAs with non-missing data from 4 pollutants' %len(us_p4)\n",
    "print '%d CBSAs with non-missing data from 5 pollutants' %len(us_p5)"
   ]
  },
  {
   "cell_type": "markdown",
   "metadata": {},
   "source": [
    "There are 106 additional CBSAs that we can potentially add to our clustering. "
   ]
  },
  {
   "cell_type": "markdown",
   "metadata": {},
   "source": [
    "####Use knn to impute the cluster label"
   ]
  },
  {
   "cell_type": "markdown",
   "metadata": {},
   "source": [
    "Adapted from: http://machinelearningmastery.com/tutorial-to-implement-k-nearest-neighbors-in-python-from-scratch/"
   ]
  },
  {
   "cell_type": "code",
   "execution_count": 375,
   "metadata": {
    "collapsed": false
   },
   "outputs": [],
   "source": [
    "#full dataframe with 4 or 5 pollutants\n",
    "us_year_pi = us_year_p.set_index('CBSA Name')\n",
    "us_year_p4 = us_year_pi.loc[us_p4, :]\n",
    "us_year_p5 = us_year_pi.loc[us_p5, :]"
   ]
  },
  {
   "cell_type": "markdown",
   "metadata": {},
   "source": [
    "Write a function to find similarity between these CBSAs and the no missing data CBSAs. I used euclidean distance to calculate similarity."
   ]
  },
  {
   "cell_type": "code",
   "execution_count": 376,
   "metadata": {
    "collapsed": true
   },
   "outputs": [],
   "source": [
    "def euclidean(miss_city, nonmiss_city, pollutant):\n",
    "    distance = 0\n",
    "    for pol in pollutant:\n",
    "        distance += pow((miss_city[pol] - nonmiss_city[pol]), 2)\n",
    "    return np.sqrt(distance)"
   ]
  },
  {
   "cell_type": "markdown",
   "metadata": {},
   "source": [
    "I need to write a function that gives the right inputs to the euclidean function and iterates through all the cities."
   ]
  },
  {
   "cell_type": "code",
   "execution_count": 377,
   "metadata": {
    "collapsed": true
   },
   "outputs": [],
   "source": [
    "def neighbors(clusteredcities, miss_city, k):\n",
    "    distances = []\n",
    "    #since the missing pollutant was different for each city, the \"cols\" list contains the pollutants with data.\n",
    "    cols = []\n",
    "    for x in range(len(miss_city)):\n",
    "        if np.isnan(miss_city[x])==False:\n",
    "            cols.append(miss_city.index[x])\n",
    "    for x in range(len(clusteredcities)):\n",
    "        dist = euclidean(miss_city, clusteredcities.iloc[x], cols)\n",
    "        distances.append((clusteredcities.iloc[x], dist))\n",
    "    distances.sort(key=operator.itemgetter(1))\n",
    "    neighbors = []\n",
    "    for x in range(k):\n",
    "        neighbors.append(distances[x][0])\n",
    "    return neighbors"
   ]
  },
  {
   "cell_type": "markdown",
   "metadata": {},
   "source": [
    "This 'neighbors' function gets the k nearest cities to a given city with missing values. The next function looks at the clusters in the neighboring cities and 'votes' for the most represented cluster."
   ]
  },
  {
   "cell_type": "code",
   "execution_count": 378,
   "metadata": {
    "collapsed": true
   },
   "outputs": [],
   "source": [
    "def response(neighbors):\n",
    "    classVotes = {}\n",
    "    for x in range(len(neighbors)):\n",
    "        response = neighbors[x]['Cluster']\n",
    "        if response in classVotes:\n",
    "            classVotes[response] += 1\n",
    "        else:\n",
    "            classVotes[response] = 1\n",
    "    sortedVotes = sorted(classVotes.iteritems(), key=operator.itemgetter(1), reverse=True)\n",
    "    return sortedVotes[0][0]"
   ]
  },
  {
   "cell_type": "markdown",
   "metadata": {},
   "source": [
    "Finally, we put the functions together and get imputed clusters for each of our 106 cities with some missing data."
   ]
  },
  {
   "cell_type": "code",
   "execution_count": 379,
   "metadata": {
    "collapsed": true
   },
   "outputs": [
    {
     "name": "stderr",
     "output_type": "stream",
     "text": [
      "/anaconda/lib/python2.7/site-packages/IPython/kernel/__main__.py:5: SettingWithCopyWarning: \n",
      "A value is trying to be set on a copy of a slice from a DataFrame\n",
      "\n",
      "See the the caveats in the documentation: http://pandas.pydata.org/pandas-docs/stable/indexing.html#indexing-view-versus-copy\n"
     ]
    }
   ],
   "source": [
    "#for 4 pollutants\n",
    "us_year_p4['Cluster'] = 0\n",
    "for x in range(len(us_year_p4)):\n",
    "    knn_clust = response(neighbors(clusters, us_year_p4.iloc[x,:], k=5))\n",
    "    us_year_p4['Cluster'][x] = knn_clust"
   ]
  },
  {
   "cell_type": "code",
   "execution_count": 380,
   "metadata": {
    "collapsed": true
   },
   "outputs": [
    {
     "name": "stderr",
     "output_type": "stream",
     "text": [
      "/anaconda/lib/python2.7/site-packages/IPython/kernel/__main__.py:5: SettingWithCopyWarning: \n",
      "A value is trying to be set on a copy of a slice from a DataFrame\n",
      "\n",
      "See the the caveats in the documentation: http://pandas.pydata.org/pandas-docs/stable/indexing.html#indexing-view-versus-copy\n"
     ]
    }
   ],
   "source": [
    "#same for 5 pollutants\n",
    "us_year_p5['Cluster'] = 0\n",
    "for x in range(len(us_year_p5)):\n",
    "    knn_clust = response(neighbors(clusters, us_year_p5.iloc[x,:], k=5))\n",
    "    us_year_p5['Cluster'][x] = knn_clust"
   ]
  },
  {
   "cell_type": "markdown",
   "metadata": {
    "collapsed": false
   },
   "source": [
    "Output a .csv of all the clustered CBSAs so far."
   ]
  },
  {
   "cell_type": "code",
   "execution_count": 381,
   "metadata": {
    "collapsed": false
   },
   "outputs": [],
   "source": [
    "us_year_p5['CBSA'] = us_year_p5.index\n",
    "us_year_p4['CBSA'] = us_year_p4.index\n",
    "allclusters = pd.concat([clusters, us_year_p4, us_year_p5])"
   ]
  },
  {
   "cell_type": "code",
   "execution_count": 382,
   "metadata": {
    "collapsed": false
   },
   "outputs": [],
   "source": [
    "allclusters = allclusters.reset_index(drop = True)"
   ]
  },
  {
   "cell_type": "code",
   "execution_count": 384,
   "metadata": {
    "collapsed": false
   },
   "outputs": [],
   "source": [
    "allclusters.to_csv(\"clusters_knn.csv\",index=False,na_rep='NA')"
   ]
  },
  {
   "cell_type": "markdown",
   "metadata": {},
   "source": [
    "###Visualize the clusters with the added CBSAs. How do they compare to the non-imputed clusters?"
   ]
  },
  {
   "cell_type": "markdown",
   "metadata": {},
   "source": [
    "Note: some reuse of code from Unsupervised Learning part 1"
   ]
  },
  {
   "cell_type": "code",
   "execution_count": 550,
   "metadata": {
    "collapsed": false
   },
   "outputs": [
    {
     "name": "stdout",
     "output_type": "stream",
     "text": [
      "Means by cluster and pollutant\n"
     ]
    },
    {
     "data": {
      "text/html": [
       "<div>\n",
       "<table border=\"1\" class=\"dataframe\">\n",
       "  <thead>\n",
       "    <tr style=\"text-align: right;\">\n",
       "      <th></th>\n",
       "      <th>CO</th>\n",
       "      <th>NO2</th>\n",
       "      <th>OZONE</th>\n",
       "      <th>PM10</th>\n",
       "      <th>PM25_FRMFEM</th>\n",
       "      <th>SO2</th>\n",
       "    </tr>\n",
       "    <tr>\n",
       "      <th>Cluster</th>\n",
       "      <th></th>\n",
       "      <th></th>\n",
       "      <th></th>\n",
       "      <th></th>\n",
       "      <th></th>\n",
       "      <th></th>\n",
       "    </tr>\n",
       "  </thead>\n",
       "  <tbody>\n",
       "    <tr>\n",
       "      <th>0</th>\n",
       "      <td>0.417289</td>\n",
       "      <td>11.658035</td>\n",
       "      <td>0.030033</td>\n",
       "      <td>28.383675</td>\n",
       "      <td>10.915097</td>\n",
       "      <td>1.946835</td>\n",
       "    </tr>\n",
       "    <tr>\n",
       "      <th>1</th>\n",
       "      <td>0.357104</td>\n",
       "      <td>5.433409</td>\n",
       "      <td>0.030344</td>\n",
       "      <td>18.325607</td>\n",
       "      <td>8.784917</td>\n",
       "      <td>1.343216</td>\n",
       "    </tr>\n",
       "    <tr>\n",
       "      <th>2</th>\n",
       "      <td>0.347346</td>\n",
       "      <td>7.848355</td>\n",
       "      <td>0.030453</td>\n",
       "      <td>12.552106</td>\n",
       "      <td>8.563082</td>\n",
       "      <td>1.687748</td>\n",
       "    </tr>\n",
       "    <tr>\n",
       "      <th>3</th>\n",
       "      <td>0.396073</td>\n",
       "      <td>11.529205</td>\n",
       "      <td>0.029707</td>\n",
       "      <td>19.813070</td>\n",
       "      <td>10.929289</td>\n",
       "      <td>2.069328</td>\n",
       "    </tr>\n",
       "  </tbody>\n",
       "</table>\n",
       "</div>"
      ],
      "text/plain": [
       "               CO        NO2     OZONE       PM10  PM25_FRMFEM       SO2\n",
       "Cluster                                                                 \n",
       "0        0.417289  11.658035  0.030033  28.383675    10.915097  1.946835\n",
       "1        0.357104   5.433409  0.030344  18.325607     8.784917  1.343216\n",
       "2        0.347346   7.848355  0.030453  12.552106     8.563082  1.687748\n",
       "3        0.396073  11.529205  0.029707  19.813070    10.929289  2.069328"
      ]
     },
     "execution_count": 550,
     "metadata": {},
     "output_type": "execute_result"
    }
   ],
   "source": [
    "all_means = allclusters.groupby('Cluster').mean()\n",
    "print 'Means by cluster and pollutant'\n",
    "all_means"
   ]
  },
  {
   "cell_type": "code",
   "execution_count": 551,
   "metadata": {
    "collapsed": false
   },
   "outputs": [
    {
     "data": {
      "text/plain": [
       "<matplotlib.text.Text at 0x11fb00d10>"
      ]
     },
     "execution_count": 551,
     "metadata": {},
     "output_type": "execute_result"
    },
    {
     "data": {
      "image/png": "[encoded data removed]",
      "text/plain": [
       "<matplotlib.figure.Figure at 0x11fb39990>"
      ]
     },
     "metadata": {},
     "output_type": "display_data"
    }
   ],
   "source": [
    "fig = plt.figure(figsize=(18,12))\n",
    "names=['0','1','2','3']\n",
    "plt.subplot(2, 3, 1)\n",
    "plt.bar(all_means.index,all_means['PM25_FRMFEM'],color='black',align='center')\n",
    "plt.title('Mean PM25_FRMFEM',fontsize=20)\n",
    "plt.xticks(all_means.index, names,horizontalalignment='center')\n",
    "plt.xlabel('Cluster Number',horizontalalignment='center',fontsize=10)\n",
    "\n",
    "plt.subplot(2, 3, 2)\n",
    "plt.bar(all_means.index,all_means['PM10'],color='black',align='center')\n",
    "plt.title('Mean PM10',fontsize=20)\n",
    "plt.xticks(all_means.index, names,horizontalalignment='center')\n",
    "plt.xlabel('Cluster Number',horizontalalignment='center',fontsize=10)\n",
    "\n",
    "plt.subplot(2, 3, 3)\n",
    "plt.bar(all_means.index,all_means['CO'],color='black',align='center')\n",
    "plt.title('Mean CO',fontsize=20)\n",
    "plt.xticks(all_means.index, names,horizontalalignment='center')\n",
    "plt.xlabel('Cluster Number',horizontalalignment='center',fontsize=10)\n",
    "  \n",
    "plt.subplot(2, 3, 4)\n",
    "plt.bar(all_means.index,all_means['NO2'],color='black',align='center')\n",
    "plt.title('Mean NO2',fontsize=20)\n",
    "plt.xticks(all_means.index, names,horizontalalignment='center')\n",
    "plt.xlabel('Cluster Number',horizontalalignment='center',fontsize=10)\n",
    "\n",
    "plt.subplot(2, 3, 5)\n",
    "plt.bar(all_means.index,all_means['SO2'],color='black',align='center')\n",
    "plt.title('Mean SO2',fontsize=20)\n",
    "plt.xticks(all_means.index, names,horizontalalignment='center')\n",
    "plt.xlabel('Cluster Number',horizontalalignment='center',fontsize=10)\n",
    "\n",
    "plt.subplot(2, 3, 6)\n",
    "plt.bar(all_means.index,all_means['OZONE'],color='black',align='center')\n",
    "plt.title('Mean OZONE',fontsize=20)\n",
    "plt.xticks(all_means.index, names,horizontalalignment='center')\n",
    "plt.xlabel('Cluster Number',horizontalalignment='center',fontsize=10)\n"
   ]
  },
  {
   "cell_type": "markdown",
   "metadata": {},
   "source": [
    "###Looking at other variables (i.e., population, transportation, weather) in the expanded clusters"
   ]
  },
  {
   "cell_type": "code",
   "execution_count": 561,
   "metadata": {
    "collapsed": false
   },
   "outputs": [
    {
     "data": {
      "text/html": [
       "<div>\n",
       "<table border=\"1\" class=\"dataframe\">\n",
       "  <thead>\n",
       "    <tr style=\"text-align: right;\">\n",
       "      <th></th>\n",
       "      <th>CBSA</th>\n",
       "      <th>CO</th>\n",
       "      <th>Cluster</th>\n",
       "      <th>NO2</th>\n",
       "      <th>OZONE</th>\n",
       "      <th>PM10</th>\n",
       "      <th>PM25_FRMFEM</th>\n",
       "      <th>SO2</th>\n",
       "      <th>CBSA Name</th>\n",
       "      <th>Latitude</th>\n",
       "      <th>...</th>\n",
       "      <th>pop_weight2010</th>\n",
       "      <th>alone</th>\n",
       "      <th>alone_frac</th>\n",
       "      <th>carpool</th>\n",
       "      <th>carpool_frac</th>\n",
       "      <th>other</th>\n",
       "      <th>other_frac</th>\n",
       "      <th>pt</th>\n",
       "      <th>pt_frac</th>\n",
       "      <th>total_trans</th>\n",
       "    </tr>\n",
       "  </thead>\n",
       "  <tbody>\n",
       "    <tr>\n",
       "      <th>0</th>\n",
       "      <td>Baton Rouge, LA</td>\n",
       "      <td>0.247224</td>\n",
       "      <td>0</td>\n",
       "      <td>7.093001</td>\n",
       "      <td>0.026165</td>\n",
       "      <td>27.801724</td>\n",
       "      <td>10.523564</td>\n",
       "      <td>3.173781</td>\n",
       "      <td>Aberdeen, SD</td>\n",
       "      <td>45.462500</td>\n",
       "      <td>...</td>\n",
       "      <td>934.0</td>\n",
       "      <td>NaN</td>\n",
       "      <td>NaN</td>\n",
       "      <td>NaN</td>\n",
       "      <td>NaN</td>\n",
       "      <td>NaN</td>\n",
       "      <td>NaN</td>\n",
       "      <td>NaN</td>\n",
       "      <td>NaN</td>\n",
       "      <td>NaN</td>\n",
       "    </tr>\n",
       "    <tr>\n",
       "      <th>1</th>\n",
       "      <td>Chicago-Naperville-Joliet, IL-IN-WI</td>\n",
       "      <td>0.465238</td>\n",
       "      <td>0</td>\n",
       "      <td>18.273966</td>\n",
       "      <td>0.028158</td>\n",
       "      <td>23.560028</td>\n",
       "      <td>12.822971</td>\n",
       "      <td>2.252641</td>\n",
       "      <td>Adrian, MI</td>\n",
       "      <td>41.995568</td>\n",
       "      <td>...</td>\n",
       "      <td>846.5</td>\n",
       "      <td>NaN</td>\n",
       "      <td>NaN</td>\n",
       "      <td>NaN</td>\n",
       "      <td>NaN</td>\n",
       "      <td>NaN</td>\n",
       "      <td>NaN</td>\n",
       "      <td>NaN</td>\n",
       "      <td>NaN</td>\n",
       "      <td>NaN</td>\n",
       "    </tr>\n",
       "    <tr>\n",
       "      <th>2</th>\n",
       "      <td>Davenport-Moline-Rock Island, IA-IL</td>\n",
       "      <td>0.222915</td>\n",
       "      <td>0</td>\n",
       "      <td>8.467157</td>\n",
       "      <td>0.028324</td>\n",
       "      <td>32.308116</td>\n",
       "      <td>12.234181</td>\n",
       "      <td>0.518919</td>\n",
       "      <td>Akron, OH</td>\n",
       "      <td>41.075344</td>\n",
       "      <td>...</td>\n",
       "      <td>2412.8</td>\n",
       "      <td>279452</td>\n",
       "      <td>0.862533</td>\n",
       "      <td>21925</td>\n",
       "      <td>0.067672</td>\n",
       "      <td>18393</td>\n",
       "      <td>0.056770</td>\n",
       "      <td>4220</td>\n",
       "      <td>0.013025</td>\n",
       "      <td>323990</td>\n",
       "    </tr>\n",
       "    <tr>\n",
       "      <th>3</th>\n",
       "      <td>Denver-Aurora, CO</td>\n",
       "      <td>0.434787</td>\n",
       "      <td>0</td>\n",
       "      <td>22.318625</td>\n",
       "      <td>0.034657</td>\n",
       "      <td>26.029324</td>\n",
       "      <td>7.398333</td>\n",
       "      <td>1.335092</td>\n",
       "      <td>Albany, GA</td>\n",
       "      <td>31.576917</td>\n",
       "      <td>...</td>\n",
       "      <td>922.7</td>\n",
       "      <td>46696</td>\n",
       "      <td>0.794907</td>\n",
       "      <td>7895</td>\n",
       "      <td>0.134397</td>\n",
       "      <td>3525</td>\n",
       "      <td>0.060006</td>\n",
       "      <td>628</td>\n",
       "      <td>0.010690</td>\n",
       "      <td>58744</td>\n",
       "    </tr>\n",
       "    <tr>\n",
       "      <th>4</th>\n",
       "      <td>El Centro, CA</td>\n",
       "      <td>0.684568</td>\n",
       "      <td>0</td>\n",
       "      <td>9.504219</td>\n",
       "      <td>0.029866</td>\n",
       "      <td>32.501661</td>\n",
       "      <td>9.472488</td>\n",
       "      <td>0.483751</td>\n",
       "      <td>Albany-Lebanon, OR</td>\n",
       "      <td>44.395800</td>\n",
       "      <td>...</td>\n",
       "      <td>1420.0</td>\n",
       "      <td>33172</td>\n",
       "      <td>0.778960</td>\n",
       "      <td>4206</td>\n",
       "      <td>0.098767</td>\n",
       "      <td>4996</td>\n",
       "      <td>0.117318</td>\n",
       "      <td>211</td>\n",
       "      <td>0.004955</td>\n",
       "      <td>42585</td>\n",
       "    </tr>\n",
       "  </tbody>\n",
       "</table>\n",
       "<p>5 rows × 45 columns</p>\n",
       "</div>"
      ],
      "text/plain": [
       "                                  CBSA        CO  Cluster        NO2  \\\n",
       "0                      Baton Rouge, LA  0.247224        0   7.093001   \n",
       "1  Chicago-Naperville-Joliet, IL-IN-WI  0.465238        0  18.273966   \n",
       "2  Davenport-Moline-Rock Island, IA-IL  0.222915        0   8.467157   \n",
       "3                    Denver-Aurora, CO  0.434787        0  22.318625   \n",
       "4                        El Centro, CA  0.684568        0   9.504219   \n",
       "\n",
       "      OZONE       PM10  PM25_FRMFEM       SO2           CBSA Name   Latitude  \\\n",
       "0  0.026165  27.801724    10.523564  3.173781        Aberdeen, SD  45.462500   \n",
       "1  0.028158  23.560028    12.822971  2.252641          Adrian, MI  41.995568   \n",
       "2  0.028324  32.308116    12.234181  0.518919           Akron, OH  41.075344   \n",
       "3  0.034657  26.029324     7.398333  1.335092          Albany, GA  31.576917   \n",
       "4  0.029866  32.501661     9.472488  0.483751  Albany-Lebanon, OR  44.395800   \n",
       "\n",
       "      ...       pop_weight2010   alone  alone_frac  carpool  carpool_frac  \\\n",
       "0     ...                934.0     NaN         NaN      NaN           NaN   \n",
       "1     ...                846.5     NaN         NaN      NaN           NaN   \n",
       "2     ...               2412.8  279452    0.862533    21925      0.067672   \n",
       "3     ...                922.7   46696    0.794907     7895      0.134397   \n",
       "4     ...               1420.0   33172    0.778960     4206      0.098767   \n",
       "\n",
       "   other  other_frac    pt   pt_frac  total_trans  \n",
       "0    NaN         NaN   NaN       NaN          NaN  \n",
       "1    NaN         NaN   NaN       NaN          NaN  \n",
       "2  18393    0.056770  4220  0.013025       323990  \n",
       "3   3525    0.060006   628  0.010690        58744  \n",
       "4   4996    0.117318   211  0.004955        42585  \n",
       "\n",
       "[5 rows x 45 columns]"
      ]
     },
     "execution_count": 561,
     "metadata": {},
     "output_type": "execute_result"
    }
   ],
   "source": [
    "us_clu_vars = pd.concat([allclusters, us_year], axis=1, join='inner')\n",
    "us_clu_vars.head()"
   ]
  },
  {
   "cell_type": "code",
   "execution_count": 563,
   "metadata": {
    "collapsed": false
   },
   "outputs": [
    {
     "data": {
      "text/html": [
       "<div>\n",
       "<table border=\"1\" class=\"dataframe\">\n",
       "  <thead>\n",
       "    <tr style=\"text-align: right;\">\n",
       "      <th></th>\n",
       "      <th>CO</th>\n",
       "      <th>NO2</th>\n",
       "      <th>OZONE</th>\n",
       "      <th>PM10</th>\n",
       "      <th>PM25_FRMFEM</th>\n",
       "      <th>SO2</th>\n",
       "      <th>Latitude</th>\n",
       "      <th>Longitude</th>\n",
       "      <th>PM25_FRMFEM</th>\n",
       "      <th>AQI_PM25_FRMFEM</th>\n",
       "      <th>...</th>\n",
       "      <th>pop_weight2010</th>\n",
       "      <th>alone</th>\n",
       "      <th>alone_frac</th>\n",
       "      <th>carpool</th>\n",
       "      <th>carpool_frac</th>\n",
       "      <th>other</th>\n",
       "      <th>other_frac</th>\n",
       "      <th>pt</th>\n",
       "      <th>pt_frac</th>\n",
       "      <th>total_trans</th>\n",
       "    </tr>\n",
       "    <tr>\n",
       "      <th>Cluster</th>\n",
       "      <th></th>\n",
       "      <th></th>\n",
       "      <th></th>\n",
       "      <th></th>\n",
       "      <th></th>\n",
       "      <th></th>\n",
       "      <th></th>\n",
       "      <th></th>\n",
       "      <th></th>\n",
       "      <th></th>\n",
       "      <th></th>\n",
       "      <th></th>\n",
       "      <th></th>\n",
       "      <th></th>\n",
       "      <th></th>\n",
       "      <th></th>\n",
       "      <th></th>\n",
       "      <th></th>\n",
       "      <th></th>\n",
       "      <th></th>\n",
       "      <th></th>\n",
       "    </tr>\n",
       "  </thead>\n",
       "  <tbody>\n",
       "    <tr>\n",
       "      <th>0</th>\n",
       "      <td>0.417289</td>\n",
       "      <td>11.658035</td>\n",
       "      <td>0.030033</td>\n",
       "      <td>28.383675</td>\n",
       "      <td>10.915097</td>\n",
       "      <td>1.946835</td>\n",
       "      <td>38.621556</td>\n",
       "      <td>-90.740840</td>\n",
       "      <td>9.731788</td>\n",
       "      <td>37.436212</td>\n",
       "      <td>...</td>\n",
       "      <td>1764.560417</td>\n",
       "      <td>177115.500000</td>\n",
       "      <td>0.815581</td>\n",
       "      <td>19584.888889</td>\n",
       "      <td>0.093739</td>\n",
       "      <td>16356.972222</td>\n",
       "      <td>0.079050</td>\n",
       "      <td>2960.722222</td>\n",
       "      <td>0.011630</td>\n",
       "      <td>216018.083333</td>\n",
       "    </tr>\n",
       "    <tr>\n",
       "      <th>1</th>\n",
       "      <td>0.357104</td>\n",
       "      <td>5.433409</td>\n",
       "      <td>0.030344</td>\n",
       "      <td>18.325607</td>\n",
       "      <td>8.784917</td>\n",
       "      <td>1.343216</td>\n",
       "      <td>37.919099</td>\n",
       "      <td>-91.798703</td>\n",
       "      <td>9.650965</td>\n",
       "      <td>37.291724</td>\n",
       "      <td>...</td>\n",
       "      <td>1614.206329</td>\n",
       "      <td>259762.049180</td>\n",
       "      <td>0.806251</td>\n",
       "      <td>31983.278689</td>\n",
       "      <td>0.100928</td>\n",
       "      <td>24737.836066</td>\n",
       "      <td>0.079767</td>\n",
       "      <td>6694.262295</td>\n",
       "      <td>0.013054</td>\n",
       "      <td>323177.426230</td>\n",
       "    </tr>\n",
       "    <tr>\n",
       "      <th>2</th>\n",
       "      <td>0.347346</td>\n",
       "      <td>7.848355</td>\n",
       "      <td>0.030453</td>\n",
       "      <td>12.552106</td>\n",
       "      <td>8.563082</td>\n",
       "      <td>1.687748</td>\n",
       "      <td>38.007118</td>\n",
       "      <td>-98.053360</td>\n",
       "      <td>9.473325</td>\n",
       "      <td>36.545011</td>\n",
       "      <td>...</td>\n",
       "      <td>2298.180769</td>\n",
       "      <td>254840.642857</td>\n",
       "      <td>0.792519</td>\n",
       "      <td>29629.857143</td>\n",
       "      <td>0.100167</td>\n",
       "      <td>33939.928571</td>\n",
       "      <td>0.086038</td>\n",
       "      <td>24039.428571</td>\n",
       "      <td>0.021276</td>\n",
       "      <td>342449.857143</td>\n",
       "    </tr>\n",
       "    <tr>\n",
       "      <th>3</th>\n",
       "      <td>0.396073</td>\n",
       "      <td>11.529205</td>\n",
       "      <td>0.029707</td>\n",
       "      <td>19.813070</td>\n",
       "      <td>10.929289</td>\n",
       "      <td>2.069328</td>\n",
       "      <td>38.450677</td>\n",
       "      <td>-90.154978</td>\n",
       "      <td>9.918303</td>\n",
       "      <td>38.314867</td>\n",
       "      <td>...</td>\n",
       "      <td>2019.430303</td>\n",
       "      <td>423579.000000</td>\n",
       "      <td>0.802869</td>\n",
       "      <td>51136.040000</td>\n",
       "      <td>0.096722</td>\n",
       "      <td>42947.360000</td>\n",
       "      <td>0.082182</td>\n",
       "      <td>27342.800000</td>\n",
       "      <td>0.018226</td>\n",
       "      <td>545005.200000</td>\n",
       "    </tr>\n",
       "  </tbody>\n",
       "</table>\n",
       "<p>4 rows × 41 columns</p>\n",
       "</div>"
      ],
      "text/plain": [
       "               CO        NO2     OZONE       PM10  PM25_FRMFEM       SO2  \\\n",
       "Cluster                                                                    \n",
       "0        0.417289  11.658035  0.030033  28.383675    10.915097  1.946835   \n",
       "1        0.357104   5.433409  0.030344  18.325607     8.784917  1.343216   \n",
       "2        0.347346   7.848355  0.030453  12.552106     8.563082  1.687748   \n",
       "3        0.396073  11.529205  0.029707  19.813070    10.929289  2.069328   \n",
       "\n",
       "          Latitude  Longitude  PM25_FRMFEM  AQI_PM25_FRMFEM      ...        \\\n",
       "Cluster                                                          ...         \n",
       "0        38.621556 -90.740840     9.731788        37.436212      ...         \n",
       "1        37.919099 -91.798703     9.650965        37.291724      ...         \n",
       "2        38.007118 -98.053360     9.473325        36.545011      ...         \n",
       "3        38.450677 -90.154978     9.918303        38.314867      ...         \n",
       "\n",
       "         pop_weight2010          alone  alone_frac       carpool  \\\n",
       "Cluster                                                            \n",
       "0           1764.560417  177115.500000    0.815581  19584.888889   \n",
       "1           1614.206329  259762.049180    0.806251  31983.278689   \n",
       "2           2298.180769  254840.642857    0.792519  29629.857143   \n",
       "3           2019.430303  423579.000000    0.802869  51136.040000   \n",
       "\n",
       "         carpool_frac         other  other_frac            pt   pt_frac  \\\n",
       "Cluster                                                                   \n",
       "0            0.093739  16356.972222    0.079050   2960.722222  0.011630   \n",
       "1            0.100928  24737.836066    0.079767   6694.262295  0.013054   \n",
       "2            0.100167  33939.928571    0.086038  24039.428571  0.021276   \n",
       "3            0.096722  42947.360000    0.082182  27342.800000  0.018226   \n",
       "\n",
       "           total_trans  \n",
       "Cluster                 \n",
       "0        216018.083333  \n",
       "1        323177.426230  \n",
       "2        342449.857143  \n",
       "3        545005.200000  \n",
       "\n",
       "[4 rows x 41 columns]"
      ]
     },
     "execution_count": 563,
     "metadata": {},
     "output_type": "execute_result"
    }
   ],
   "source": [
    "us_clu_vars_means = us_clu_vars.groupby('Cluster').mean()\n",
    "us_clu_vars_means"
   ]
  },
  {
   "cell_type": "markdown",
   "metadata": {},
   "source": [
    "####Weather variables (pressure, temperature, wind, precipitation)"
   ]
  },
  {
   "cell_type": "code",
   "execution_count": 576,
   "metadata": {
    "collapsed": false
   },
   "outputs": [
    {
     "data": {
      "text/plain": [
       "<matplotlib.text.Text at 0x125261910>"
      ]
     },
     "execution_count": 576,
     "metadata": {},
     "output_type": "execute_result"
    },
    {
     "data": {
      "image/png": "[encoded data removed]",
      "text/plain": [
       "<matplotlib.figure.Figure at 0x1244f2b50>"
      ]
     },
     "metadata": {},
     "output_type": "display_data"
    }
   ],
   "source": [
    "fig = plt.figure(figsize=(18,5))\n",
    "names=['0','1','2','3']\n",
    "plt.subplot(1, 4, 1)\n",
    "plt.bar(us_clu_vars_means.index,us_clu_vars_means['PRESS'],color='black',align='center')\n",
    "plt.title('Mean Pressure',fontsize=20)\n",
    "plt.xticks(us_clu_vars_means.index, names,horizontalalignment='center')\n",
    "plt.xlabel('Cluster Number',horizontalalignment='center',fontsize=10)\n",
    "\n",
    "plt.subplot(1, 4, 2)\n",
    "plt.bar(us_clu_vars_means.index,us_clu_vars_means['TEMP'],color='black',align='center')\n",
    "plt.title('Mean Temperature',fontsize=20)\n",
    "plt.xticks(us_clu_vars_means.index, names,horizontalalignment='center')\n",
    "plt.xlabel('Cluster Number',horizontalalignment='center',fontsize=10)\n",
    "\n",
    "plt.subplot(1, 4, 3)\n",
    "plt.bar(us_clu_vars_means.index,us_clu_vars_means['WIND'],color='black',align='center')\n",
    "plt.title('Mean Wind',fontsize=20)\n",
    "plt.xticks(us_clu_vars_means.index, names,horizontalalignment='center')\n",
    "plt.xlabel('Cluster Number',horizontalalignment='center',fontsize=10)\n",
    "\n",
    "plt.subplot(1, 4, 4)\n",
    "plt.bar(us_clu_vars_means.index,us_clu_vars_means['RH'],color='black',align='center')\n",
    "plt.title('Mean Relative Humidity',fontsize=20)\n",
    "plt.xticks(us_clu_vars_means.index, names,horizontalalignment='center')\n",
    "plt.xlabel('Cluster Number',horizontalalignment='center',fontsize=10)"
   ]
  },
  {
   "cell_type": "markdown",
   "metadata": {},
   "source": [
    "####Population variables (land area, population density, population weight)"
   ]
  },
  {
   "cell_type": "code",
   "execution_count": 577,
   "metadata": {
    "collapsed": false
   },
   "outputs": [
    {
     "data": {
      "text/plain": [
       "<matplotlib.text.Text at 0x12501e150>"
      ]
     },
     "execution_count": 577,
     "metadata": {},
     "output_type": "execute_result"
    },
    {
     "data": {
      "image/png": "[encoded data removed]",
      "text/plain": [
       "<matplotlib.figure.Figure at 0x1206a0390>"
      ]
     },
     "metadata": {},
     "output_type": "display_data"
    }
   ],
   "source": [
    "fig = plt.figure(figsize=(18,5))\n",
    "names=['0','1','2','3']\n",
    "plt.subplot(1, 3, 1)\n",
    "plt.bar(us_clu_vars_means.index,us_clu_vars_means['popdense2010'],color='black',align='center')\n",
    "plt.title('Mean Population Density',fontsize=20)\n",
    "plt.xticks(us_clu_vars_means.index, names,horizontalalignment='center')\n",
    "plt.xlabel('Cluster Number',horizontalalignment='center',fontsize=10)\n",
    "\n",
    "plt.subplot(1, 3, 2)\n",
    "plt.bar(us_clu_vars_means.index,us_clu_vars_means['pop_weight2010'],color='black',align='center')\n",
    "plt.title('Mean Population Weight',fontsize=20)\n",
    "plt.xticks(us_clu_vars_means.index, names,horizontalalignment='center')\n",
    "plt.xlabel('Cluster Number',horizontalalignment='center',fontsize=10)\n",
    "\n",
    "plt.subplot(1, 3, 3)\n",
    "plt.bar(us_clu_vars_means.index,us_clu_vars_means['landarea'],color='black',align='center')\n",
    "plt.title('Mean Land Area',fontsize=20)\n",
    "plt.xticks(us_clu_vars_means.index, names,horizontalalignment='center')\n",
    "plt.xlabel('Cluster Number',horizontalalignment='center',fontsize=10)"
   ]
  },
  {
   "cell_type": "markdown",
   "metadata": {},
   "source": [
    "####Transportation variables (car alone, car by carpool, public transportation, other)"
   ]
  },
  {
   "cell_type": "code",
   "execution_count": 578,
   "metadata": {
    "collapsed": false
   },
   "outputs": [
    {
     "data": {
      "text/plain": [
       "<matplotlib.text.Text at 0x125af3dd0>"
      ]
     },
     "execution_count": 578,
     "metadata": {},
     "output_type": "execute_result"
    },
    {
     "data": {
      "image/png": "[encoded data removed]",
      "text/plain": [
       "<matplotlib.figure.Figure at 0x1206a0690>"
      ]
     },
     "metadata": {},
     "output_type": "display_data"
    }
   ],
   "source": [
    "fig = plt.figure(figsize=(18,5))\n",
    "names=['0','1','2','3']\n",
    "plt.subplot(1, 4, 1)\n",
    "plt.bar(us_clu_vars_means.index,us_clu_vars_means['alone_frac'],color='black',align='center')\n",
    "plt.title('Mean Car Alone',fontsize=20)\n",
    "plt.xticks(us_clu_vars_means.index, names,horizontalalignment='center')\n",
    "plt.xlabel('Cluster Number',horizontalalignment='center',fontsize=10)\n",
    "\n",
    "plt.subplot(1, 4, 2)\n",
    "plt.bar(us_clu_vars_means.index,us_clu_vars_means['carpool_frac'],color='black',align='center')\n",
    "plt.title('Mean Car by Carpool',fontsize=20)\n",
    "plt.xticks(us_clu_vars_means.index, names,horizontalalignment='center')\n",
    "plt.xlabel('Cluster Number',horizontalalignment='center',fontsize=10)\n",
    "\n",
    "plt.subplot(1, 4, 3)\n",
    "plt.bar(us_clu_vars_means.index,us_clu_vars_means['pt_frac'],color='black',align='center')\n",
    "plt.title('Mean Public Transportation',fontsize=20)\n",
    "plt.xticks(us_clu_vars_means.index, names,horizontalalignment='center')\n",
    "plt.xlabel('Cluster Number',horizontalalignment='center',fontsize=10)\n",
    "\n",
    "plt.subplot(1, 4, 4)\n",
    "plt.bar(us_clu_vars_means.index,us_clu_vars_means['other_frac'],color='black',align='center')\n",
    "plt.title('Mean Other Transportation',fontsize=20)\n",
    "plt.xticks(us_clu_vars_means.index, names,horizontalalignment='center')\n",
    "plt.xlabel('Cluster Number',horizontalalignment='center',fontsize=10)"
   ]
  },
  {
   "cell_type": "markdown",
   "metadata": {},
   "source": [
    "###Clustering French data"
   ]
  },
  {
   "cell_type": "markdown",
   "metadata": {},
   "source": [
    "####Data prep"
   ]
  },
  {
   "cell_type": "markdown",
   "metadata": {},
   "source": [
    "First, I cut down the size of the french dataset to hold only the 6 key pollutants, and the cities that that have two or fewer missing values. "
   ]
  },
  {
   "cell_type": "code",
   "execution_count": 505,
   "metadata": {
    "collapsed": true
   },
   "outputs": [],
   "source": [
    "fr_6p = france.loc[:, ['city', 'CO', 'NO2', 'OZONE', 'PM10', 'PM25', 'SO2']]\n",
    "#generate lists of French cities with data from 4 or 5 pollutants\n",
    "fr_4 = []\n",
    "fr_5 = []\n",
    "fr_6 = []\n",
    "for i, row in fr_6p.iterrows(): \n",
    "    count = []\n",
    "    for item in row.index[1:]:\n",
    "        if np.isnan(row[item]):\n",
    "            count.append(1)\n",
    "    if sum(count) == 1:\n",
    "        fr_5.append(row['city'])\n",
    "    if sum(count) == 2:\n",
    "        fr_4.append(row['city'])\n",
    "    if sum(count) == 0:\n",
    "        fr_6.append(row['city'])"
   ]
  },
  {
   "cell_type": "code",
   "execution_count": 506,
   "metadata": {
    "collapsed": false
   },
   "outputs": [
    {
     "name": "stdout",
     "output_type": "stream",
     "text": [
      "20 French cities with non-missing data from 4 pollutants\n",
      "20 French cities with non-missing data from 5 pollutants\n",
      "29 French cities with non-missing data from all 6 pollutants\n"
     ]
    }
   ],
   "source": [
    "print '%d French cities with non-missing data from 4 pollutants' %len(fr_4)\n",
    "print '%d French cities with non-missing data from 5 pollutants' %len(fr_5)\n",
    "print '%d French cities with non-missing data from all 6 pollutants' %len(fr_6)"
   ]
  },
  {
   "cell_type": "code",
   "execution_count": 507,
   "metadata": {
    "collapsed": false
   },
   "outputs": [],
   "source": [
    "fr_pi = fr_6p.set_index('city')\n",
    "fr_p4 = fr_pi.loc[fr_4, :]\n",
    "fr_p5 = fr_pi.loc[fr_5, :]\n",
    "fr_p6 = fr_pi.loc[fr_6, :]"
   ]
  },
  {
   "cell_type": "code",
   "execution_count": 508,
   "metadata": {
    "collapsed": false
   },
   "outputs": [],
   "source": [
    "fr_p = pd.concat([fr_p4,fr_p5,fr_p6])"
   ]
  },
  {
   "cell_type": "code",
   "execution_count": 509,
   "metadata": {
    "collapsed": true
   },
   "outputs": [],
   "source": [
    "fr_p = fr_p.rename(columns={'PM25': 'PM25_FRMFEM'})"
   ]
  },
  {
   "cell_type": "markdown",
   "metadata": {},
   "source": [
    "####Assign clusters on French cities based on US clustering"
   ]
  },
  {
   "cell_type": "markdown",
   "metadata": {},
   "source": [
    "I use the knn functions written above"
   ]
  },
  {
   "cell_type": "code",
   "execution_count": 510,
   "metadata": {
    "collapsed": false
   },
   "outputs": [],
   "source": [
    "frclusts = pd.Series(index=fr_p.index)\n",
    "for x in range(len(fr_p)):\n",
    "    knn_clust = response(neighbors(allclusters, fr_p.iloc[x,:], k=5))\n",
    "    frclusts[x] = knn_clust"
   ]
  },
  {
   "cell_type": "code",
   "execution_count": 511,
   "metadata": {
    "collapsed": false
   },
   "outputs": [],
   "source": [
    "#merge the series containing the cluster labels with the dataframe with the french cities\n",
    "fr_p_clusts = pd.concat([fr_p, frclusts], axis=1)"
   ]
  },
  {
   "cell_type": "code",
   "execution_count": 520,
   "metadata": {
    "collapsed": false
   },
   "outputs": [],
   "source": [
    "fr_p_clusts = fr_p_clusts.rename(columns={0: 'Cluster'})"
   ]
  },
  {
   "cell_type": "markdown",
   "metadata": {},
   "source": [
    "####What do the French clusters look like?"
   ]
  },
  {
   "cell_type": "code",
   "execution_count": 528,
   "metadata": {
    "collapsed": false
   },
   "outputs": [
    {
     "data": {
      "text/html": [
       "<div>\n",
       "<table border=\"1\" class=\"dataframe\">\n",
       "  <thead>\n",
       "    <tr style=\"text-align: right;\">\n",
       "      <th></th>\n",
       "      <th>CO</th>\n",
       "      <th>NO2</th>\n",
       "      <th>OZONE</th>\n",
       "      <th>PM10</th>\n",
       "      <th>PM25_FRMFEM</th>\n",
       "      <th>SO2</th>\n",
       "    </tr>\n",
       "    <tr>\n",
       "      <th>Cluster</th>\n",
       "      <th></th>\n",
       "      <th></th>\n",
       "      <th></th>\n",
       "      <th></th>\n",
       "      <th></th>\n",
       "      <th></th>\n",
       "    </tr>\n",
       "  </thead>\n",
       "  <tbody>\n",
       "    <tr>\n",
       "      <th>0</th>\n",
       "      <td>22</td>\n",
       "      <td>37</td>\n",
       "      <td>37</td>\n",
       "      <td>37</td>\n",
       "      <td>24</td>\n",
       "      <td>32</td>\n",
       "    </tr>\n",
       "    <tr>\n",
       "      <th>1</th>\n",
       "      <td>0</td>\n",
       "      <td>1</td>\n",
       "      <td>1</td>\n",
       "      <td>1</td>\n",
       "      <td>0</td>\n",
       "      <td>1</td>\n",
       "    </tr>\n",
       "    <tr>\n",
       "      <th>3</th>\n",
       "      <td>15</td>\n",
       "      <td>31</td>\n",
       "      <td>31</td>\n",
       "      <td>30</td>\n",
       "      <td>25</td>\n",
       "      <td>29</td>\n",
       "    </tr>\n",
       "  </tbody>\n",
       "</table>\n",
       "</div>"
      ],
      "text/plain": [
       "         CO  NO2  OZONE  PM10  PM25_FRMFEM  SO2\n",
       "Cluster                                        \n",
       "0        22   37     37    37           24   32\n",
       "1         0    1      1     1            0    1\n",
       "3        15   31     31    30           25   29"
      ]
     },
     "execution_count": 528,
     "metadata": {},
     "output_type": "execute_result"
    }
   ],
   "source": [
    "fr_group = fr_p_clusts.groupby('Cluster')\n",
    "fr_group.count()"
   ]
  },
  {
   "cell_type": "code",
   "execution_count": 553,
   "metadata": {
    "collapsed": false
   },
   "outputs": [
    {
     "data": {
      "text/html": [
       "<div>\n",
       "<table border=\"1\" class=\"dataframe\">\n",
       "  <thead>\n",
       "    <tr style=\"text-align: right;\">\n",
       "      <th></th>\n",
       "      <th>CO</th>\n",
       "      <th>NO2</th>\n",
       "      <th>OZONE</th>\n",
       "      <th>PM10</th>\n",
       "      <th>PM25_FRMFEM</th>\n",
       "      <th>SO2</th>\n",
       "    </tr>\n",
       "    <tr>\n",
       "      <th>Cluster</th>\n",
       "      <th></th>\n",
       "      <th></th>\n",
       "      <th></th>\n",
       "      <th></th>\n",
       "      <th></th>\n",
       "      <th></th>\n",
       "    </tr>\n",
       "  </thead>\n",
       "  <tbody>\n",
       "    <tr>\n",
       "      <th>0</th>\n",
       "      <td>0.361936</td>\n",
       "      <td>14.389051</td>\n",
       "      <td>0.023049</td>\n",
       "      <td>27.185985</td>\n",
       "      <td>18.607563</td>\n",
       "      <td>0.825050</td>\n",
       "    </tr>\n",
       "    <tr>\n",
       "      <th>1</th>\n",
       "      <td>NaN</td>\n",
       "      <td>8.103191</td>\n",
       "      <td>0.027724</td>\n",
       "      <td>23.142000</td>\n",
       "      <td>NaN</td>\n",
       "      <td>0.289313</td>\n",
       "    </tr>\n",
       "    <tr>\n",
       "      <th>3</th>\n",
       "      <td>0.273877</td>\n",
       "      <td>12.301497</td>\n",
       "      <td>0.025369</td>\n",
       "      <td>22.739485</td>\n",
       "      <td>17.540000</td>\n",
       "      <td>0.768576</td>\n",
       "    </tr>\n",
       "  </tbody>\n",
       "</table>\n",
       "</div>"
      ],
      "text/plain": [
       "               CO        NO2     OZONE       PM10  PM25_FRMFEM       SO2\n",
       "Cluster                                                                 \n",
       "0        0.361936  14.389051  0.023049  27.185985    18.607563  0.825050\n",
       "1             NaN   8.103191  0.027724  23.142000          NaN  0.289313\n",
       "3        0.273877  12.301497  0.025369  22.739485    17.540000  0.768576"
      ]
     },
     "execution_count": 553,
     "metadata": {},
     "output_type": "execute_result"
    }
   ],
   "source": [
    "fr_means = fr_group.mean()\n",
    "fr_means"
   ]
  },
  {
   "cell_type": "code",
   "execution_count": 554,
   "metadata": {
    "collapsed": false
   },
   "outputs": [
    {
     "data": {
      "text/plain": [
       "<matplotlib.text.Text at 0x1229ebb50>"
      ]
     },
     "execution_count": 554,
     "metadata": {},
     "output_type": "execute_result"
    },
    {
     "data": {
      "image/png": "[encoded data removed]",
      "text/plain": [
       "<matplotlib.figure.Figure at 0x120632d90>"
      ]
     },
     "metadata": {},
     "output_type": "display_data"
    }
   ],
   "source": [
    "fig = plt.figure(figsize=(18,12))\n",
    "names=['0','1','2','3']\n",
    "plt.subplot(2, 3, 1)\n",
    "plt.bar(fr_means.index,fr_means['PM25_FRMFEM'],color='black',align='center')\n",
    "plt.title('Mean PM25_FRMFEM',fontsize=20)\n",
    "plt.xticks(fr_means.index, names,horizontalalignment='center')\n",
    "plt.xlabel('Cluster Number',horizontalalignment='center',fontsize=10)\n",
    "\n",
    "plt.subplot(2, 3, 2)\n",
    "plt.bar(fr_means.index,fr_means['PM10'],color='black',align='center')\n",
    "plt.title('Mean PM10',fontsize=20)\n",
    "plt.xticks(fr_means.index, names,horizontalalignment='center')\n",
    "plt.xlabel('Cluster Number',horizontalalignment='center',fontsize=10)\n",
    "\n",
    "plt.subplot(2, 3, 3)\n",
    "plt.bar(fr_means.index,fr_means['CO'],color='black',align='center')\n",
    "plt.title('Mean CO',fontsize=20)\n",
    "plt.xticks(fr_means.index, names,horizontalalignment='center')\n",
    "plt.xlabel('Cluster Number',horizontalalignment='center',fontsize=10)\n",
    "  \n",
    "plt.subplot(2, 3, 4)\n",
    "plt.bar(fr_means.index,fr_means['NO2'],color='black',align='center')\n",
    "plt.title('Mean NO2',fontsize=20)\n",
    "plt.xticks(fr_means.index, names,horizontalalignment='center')\n",
    "plt.xlabel('Cluster Number',horizontalalignment='center',fontsize=10)\n",
    "\n",
    "plt.subplot(2, 3, 5)\n",
    "plt.bar(fr_means.index,fr_means['SO2'],color='black',align='center')\n",
    "plt.title('Mean SO2',fontsize=20)\n",
    "plt.xticks(fr_means.index, names,horizontalalignment='center')\n",
    "plt.xlabel('Cluster Number',horizontalalignment='center',fontsize=10)\n",
    "\n",
    "plt.subplot(2, 3, 6)\n",
    "plt.bar(fr_means.index,fr_means['OZONE'],color='black',align='center')\n",
    "plt.title('Mean OZONE',fontsize=20)\n",
    "plt.xticks(fr_means.index, names,horizontalalignment='center')\n",
    "plt.xlabel('Cluster Number',horizontalalignment='center',fontsize=10)\n"
   ]
  },
  {
   "cell_type": "code",
   "execution_count": 555,
   "metadata": {
    "collapsed": false
   },
   "outputs": [
    {
     "data": {
      "text/html": [
       "<div>\n",
       "<table border=\"1\" class=\"dataframe\">\n",
       "  <thead>\n",
       "    <tr style=\"text-align: right;\">\n",
       "      <th></th>\n",
       "      <th>CO</th>\n",
       "      <th>NO2</th>\n",
       "      <th>OZONE</th>\n",
       "      <th>PM10</th>\n",
       "      <th>PM25_FRMFEM</th>\n",
       "      <th>SO2</th>\n",
       "      <th>Cluster</th>\n",
       "    </tr>\n",
       "    <tr>\n",
       "      <th>city</th>\n",
       "      <th></th>\n",
       "      <th></th>\n",
       "      <th></th>\n",
       "      <th></th>\n",
       "      <th></th>\n",
       "      <th></th>\n",
       "      <th></th>\n",
       "    </tr>\n",
       "  </thead>\n",
       "  <tbody>\n",
       "    <tr>\n",
       "      <th>Charleville-Mezieres</th>\n",
       "      <td>NaN</td>\n",
       "      <td>10.551064</td>\n",
       "      <td>0.022737</td>\n",
       "      <td>25.435000</td>\n",
       "      <td>NaN</td>\n",
       "      <td>0.246565</td>\n",
       "      <td>0</td>\n",
       "    </tr>\n",
       "    <tr>\n",
       "      <th>Valence</th>\n",
       "      <td>NaN</td>\n",
       "      <td>13.289894</td>\n",
       "      <td>0.025374</td>\n",
       "      <td>NaN</td>\n",
       "      <td>19.3590</td>\n",
       "      <td>1.301908</td>\n",
       "      <td>3</td>\n",
       "    </tr>\n",
       "    <tr>\n",
       "      <th>Bethune</th>\n",
       "      <td>NaN</td>\n",
       "      <td>10.278191</td>\n",
       "      <td>0.020714</td>\n",
       "      <td>26.630000</td>\n",
       "      <td>NaN</td>\n",
       "      <td>0.767939</td>\n",
       "      <td>0</td>\n",
       "    </tr>\n",
       "    <tr>\n",
       "      <th>Sarrebruck - Forbach</th>\n",
       "      <td>NaN</td>\n",
       "      <td>10.507270</td>\n",
       "      <td>0.026475</td>\n",
       "      <td>22.453000</td>\n",
       "      <td>NaN</td>\n",
       "      <td>2.470992</td>\n",
       "      <td>3</td>\n",
       "    </tr>\n",
       "    <tr>\n",
       "      <th>Quimper</th>\n",
       "      <td>NaN</td>\n",
       "      <td>8.092021</td>\n",
       "      <td>0.025846</td>\n",
       "      <td>25.747000</td>\n",
       "      <td>NaN</td>\n",
       "      <td>0.170229</td>\n",
       "      <td>0</td>\n",
       "    </tr>\n",
       "    <tr>\n",
       "      <th>Toulon</th>\n",
       "      <td>NaN</td>\n",
       "      <td>19.974823</td>\n",
       "      <td>0.027073</td>\n",
       "      <td>30.476500</td>\n",
       "      <td>16.5000</td>\n",
       "      <td>NaN</td>\n",
       "      <td>0</td>\n",
       "    </tr>\n",
       "    <tr>\n",
       "      <th>Colmar</th>\n",
       "      <td>NaN</td>\n",
       "      <td>16.182979</td>\n",
       "      <td>0.023788</td>\n",
       "      <td>25.150500</td>\n",
       "      <td>NaN</td>\n",
       "      <td>2.056870</td>\n",
       "      <td>0</td>\n",
       "    </tr>\n",
       "    <tr>\n",
       "      <th>Tarbes</th>\n",
       "      <td>NaN</td>\n",
       "      <td>11.246011</td>\n",
       "      <td>0.026524</td>\n",
       "      <td>22.429000</td>\n",
       "      <td>NaN</td>\n",
       "      <td>0.152481</td>\n",
       "      <td>3</td>\n",
       "    </tr>\n",
       "    <tr>\n",
       "      <th>Bourges</th>\n",
       "      <td>NaN</td>\n",
       "      <td>8.527660</td>\n",
       "      <td>0.025440</td>\n",
       "      <td>20.624000</td>\n",
       "      <td>NaN</td>\n",
       "      <td>0.155725</td>\n",
       "      <td>3</td>\n",
       "    </tr>\n",
       "    <tr>\n",
       "      <th>Cayenne (Guyane)</th>\n",
       "      <td>NaN</td>\n",
       "      <td>4.420745</td>\n",
       "      <td>0.008905</td>\n",
       "      <td>30.461000</td>\n",
       "      <td>NaN</td>\n",
       "      <td>0.912595</td>\n",
       "      <td>0</td>\n",
       "    </tr>\n",
       "    <tr>\n",
       "      <th>Roanne</th>\n",
       "      <td>NaN</td>\n",
       "      <td>12.386702</td>\n",
       "      <td>0.024113</td>\n",
       "      <td>26.302000</td>\n",
       "      <td>NaN</td>\n",
       "      <td>0.330534</td>\n",
       "      <td>0</td>\n",
       "    </tr>\n",
       "    <tr>\n",
       "      <th>Cherbourg-Octeville</th>\n",
       "      <td>NaN</td>\n",
       "      <td>9.658511</td>\n",
       "      <td>0.028587</td>\n",
       "      <td>18.993000</td>\n",
       "      <td>NaN</td>\n",
       "      <td>1.172328</td>\n",
       "      <td>3</td>\n",
       "    </tr>\n",
       "    <tr>\n",
       "      <th>Annecy</th>\n",
       "      <td>NaN</td>\n",
       "      <td>14.869947</td>\n",
       "      <td>0.022702</td>\n",
       "      <td>28.601500</td>\n",
       "      <td>21.2160</td>\n",
       "      <td>NaN</td>\n",
       "      <td>0</td>\n",
       "    </tr>\n",
       "    <tr>\n",
       "      <th>Poitiers</th>\n",
       "      <td>NaN</td>\n",
       "      <td>10.417908</td>\n",
       "      <td>0.023857</td>\n",
       "      <td>21.777500</td>\n",
       "      <td>17.4330</td>\n",
       "      <td>NaN</td>\n",
       "      <td>3</td>\n",
       "    </tr>\n",
       "    <tr>\n",
       "      <th>Beauvais</th>\n",
       "      <td>NaN</td>\n",
       "      <td>5.738298</td>\n",
       "      <td>0.024567</td>\n",
       "      <td>28.234000</td>\n",
       "      <td>NaN</td>\n",
       "      <td>0.955725</td>\n",
       "      <td>0</td>\n",
       "    </tr>\n",
       "    <tr>\n",
       "      <th>Pointe-a-Pitre - Les Abymes (Guadeloupe)</th>\n",
       "      <td>NaN</td>\n",
       "      <td>4.000000</td>\n",
       "      <td>0.015339</td>\n",
       "      <td>27.579000</td>\n",
       "      <td>NaN</td>\n",
       "      <td>1.806870</td>\n",
       "      <td>0</td>\n",
       "    </tr>\n",
       "    <tr>\n",
       "      <th>Geneve - Annemasse</th>\n",
       "      <td>NaN</td>\n",
       "      <td>12.223936</td>\n",
       "      <td>0.024112</td>\n",
       "      <td>26.823500</td>\n",
       "      <td>15.4700</td>\n",
       "      <td>NaN</td>\n",
       "      <td>0</td>\n",
       "    </tr>\n",
       "    <tr>\n",
       "      <th>Saint-Quentin</th>\n",
       "      <td>NaN</td>\n",
       "      <td>10.389894</td>\n",
       "      <td>0.024662</td>\n",
       "      <td>26.587000</td>\n",
       "      <td>20.0840</td>\n",
       "      <td>NaN</td>\n",
       "      <td>0</td>\n",
       "    </tr>\n",
       "    <tr>\n",
       "      <th>Besancon</th>\n",
       "      <td>NaN</td>\n",
       "      <td>13.989362</td>\n",
       "      <td>0.028020</td>\n",
       "      <td>21.737000</td>\n",
       "      <td>14.1990</td>\n",
       "      <td>NaN</td>\n",
       "      <td>3</td>\n",
       "    </tr>\n",
       "    <tr>\n",
       "      <th>Saint-Brieuc</th>\n",
       "      <td>NaN</td>\n",
       "      <td>8.103191</td>\n",
       "      <td>0.027724</td>\n",
       "      <td>23.142000</td>\n",
       "      <td>NaN</td>\n",
       "      <td>0.289313</td>\n",
       "      <td>1</td>\n",
       "    </tr>\n",
       "    <tr>\n",
       "      <th>Boulogne-sur-Mer</th>\n",
       "      <td>0.107424</td>\n",
       "      <td>11.407181</td>\n",
       "      <td>0.027324</td>\n",
       "      <td>26.141000</td>\n",
       "      <td>NaN</td>\n",
       "      <td>0.902290</td>\n",
       "      <td>0</td>\n",
       "    </tr>\n",
       "    <tr>\n",
       "      <th>Arras</th>\n",
       "      <td>0.237555</td>\n",
       "      <td>12.012766</td>\n",
       "      <td>0.021839</td>\n",
       "      <td>26.602000</td>\n",
       "      <td>NaN</td>\n",
       "      <td>0.557634</td>\n",
       "      <td>0</td>\n",
       "    </tr>\n",
       "    <tr>\n",
       "      <th>Nimes</th>\n",
       "      <td>NaN</td>\n",
       "      <td>9.489362</td>\n",
       "      <td>0.031661</td>\n",
       "      <td>20.804000</td>\n",
       "      <td>15.0650</td>\n",
       "      <td>0.169847</td>\n",
       "      <td>3</td>\n",
       "    </tr>\n",
       "    <tr>\n",
       "      <th>Limoges</th>\n",
       "      <td>NaN</td>\n",
       "      <td>15.050000</td>\n",
       "      <td>0.023137</td>\n",
       "      <td>20.519667</td>\n",
       "      <td>14.9410</td>\n",
       "      <td>0.141794</td>\n",
       "      <td>3</td>\n",
       "    </tr>\n",
       "    <tr>\n",
       "      <th>Brive-la-Gaillarde</th>\n",
       "      <td>0.228821</td>\n",
       "      <td>9.747872</td>\n",
       "      <td>0.022907</td>\n",
       "      <td>20.028000</td>\n",
       "      <td>NaN</td>\n",
       "      <td>0.363359</td>\n",
       "      <td>3</td>\n",
       "    </tr>\n",
       "    <tr>\n",
       "      <th>Pau</th>\n",
       "      <td>0.272489</td>\n",
       "      <td>15.488298</td>\n",
       "      <td>0.025837</td>\n",
       "      <td>20.694500</td>\n",
       "      <td>NaN</td>\n",
       "      <td>0.370992</td>\n",
       "      <td>3</td>\n",
       "    </tr>\n",
       "    <tr>\n",
       "      <th>Troyes</th>\n",
       "      <td>NaN</td>\n",
       "      <td>10.862500</td>\n",
       "      <td>0.022918</td>\n",
       "      <td>24.149000</td>\n",
       "      <td>17.4020</td>\n",
       "      <td>0.184733</td>\n",
       "      <td>3</td>\n",
       "    </tr>\n",
       "    <tr>\n",
       "      <th>Angers</th>\n",
       "      <td>NaN</td>\n",
       "      <td>11.277926</td>\n",
       "      <td>0.029009</td>\n",
       "      <td>22.213000</td>\n",
       "      <td>15.9910</td>\n",
       "      <td>1.162214</td>\n",
       "      <td>3</td>\n",
       "    </tr>\n",
       "    <tr>\n",
       "      <th>Avignon</th>\n",
       "      <td>NaN</td>\n",
       "      <td>16.151064</td>\n",
       "      <td>0.030018</td>\n",
       "      <td>28.235000</td>\n",
       "      <td>14.7990</td>\n",
       "      <td>0.784733</td>\n",
       "      <td>0</td>\n",
       "    </tr>\n",
       "    <tr>\n",
       "      <th>Calais</th>\n",
       "      <td>NaN</td>\n",
       "      <td>14.087500</td>\n",
       "      <td>0.024527</td>\n",
       "      <td>26.202000</td>\n",
       "      <td>18.8250</td>\n",
       "      <td>1.897805</td>\n",
       "      <td>3</td>\n",
       "    </tr>\n",
       "    <tr>\n",
       "      <th>...</th>\n",
       "      <td>...</td>\n",
       "      <td>...</td>\n",
       "      <td>...</td>\n",
       "      <td>...</td>\n",
       "      <td>...</td>\n",
       "      <td>...</td>\n",
       "      <td>...</td>\n",
       "    </tr>\n",
       "    <tr>\n",
       "      <th>Paris</th>\n",
       "      <td>0.467249</td>\n",
       "      <td>24.843133</td>\n",
       "      <td>0.023456</td>\n",
       "      <td>29.700857</td>\n",
       "      <td>NaN</td>\n",
       "      <td>0.804707</td>\n",
       "      <td>0</td>\n",
       "    </tr>\n",
       "    <tr>\n",
       "      <th>Nancy</th>\n",
       "      <td>0.264047</td>\n",
       "      <td>13.533663</td>\n",
       "      <td>0.022437</td>\n",
       "      <td>24.659250</td>\n",
       "      <td>17.6030</td>\n",
       "      <td>0.627990</td>\n",
       "      <td>3</td>\n",
       "    </tr>\n",
       "    <tr>\n",
       "      <th>Caen</th>\n",
       "      <td>0.291703</td>\n",
       "      <td>13.180851</td>\n",
       "      <td>0.025806</td>\n",
       "      <td>22.641333</td>\n",
       "      <td>16.3030</td>\n",
       "      <td>0.374618</td>\n",
       "      <td>3</td>\n",
       "    </tr>\n",
       "    <tr>\n",
       "      <th>Strasbourg</th>\n",
       "      <td>0.346725</td>\n",
       "      <td>22.888431</td>\n",
       "      <td>0.020856</td>\n",
       "      <td>27.790000</td>\n",
       "      <td>18.7380</td>\n",
       "      <td>1.676240</td>\n",
       "      <td>0</td>\n",
       "    </tr>\n",
       "    <tr>\n",
       "      <th>Lille</th>\n",
       "      <td>0.325764</td>\n",
       "      <td>16.346884</td>\n",
       "      <td>0.019843</td>\n",
       "      <td>28.690000</td>\n",
       "      <td>22.4010</td>\n",
       "      <td>0.866412</td>\n",
       "      <td>0</td>\n",
       "    </tr>\n",
       "    <tr>\n",
       "      <th>Orleans</th>\n",
       "      <td>0.255895</td>\n",
       "      <td>14.397872</td>\n",
       "      <td>0.025579</td>\n",
       "      <td>22.172667</td>\n",
       "      <td>19.1850</td>\n",
       "      <td>0.227863</td>\n",
       "      <td>3</td>\n",
       "    </tr>\n",
       "    <tr>\n",
       "      <th>Lyon</th>\n",
       "      <td>0.346434</td>\n",
       "      <td>17.790816</td>\n",
       "      <td>0.026731</td>\n",
       "      <td>26.970000</td>\n",
       "      <td>22.2400</td>\n",
       "      <td>0.717653</td>\n",
       "      <td>0</td>\n",
       "    </tr>\n",
       "    <tr>\n",
       "      <th>Toulouse</th>\n",
       "      <td>0.304803</td>\n",
       "      <td>15.147485</td>\n",
       "      <td>0.023337</td>\n",
       "      <td>26.325889</td>\n",
       "      <td>16.9700</td>\n",
       "      <td>0.404198</td>\n",
       "      <td>0</td>\n",
       "    </tr>\n",
       "    <tr>\n",
       "      <th>Dijon</th>\n",
       "      <td>0.358079</td>\n",
       "      <td>14.020124</td>\n",
       "      <td>0.025692</td>\n",
       "      <td>21.293000</td>\n",
       "      <td>13.2710</td>\n",
       "      <td>0.256107</td>\n",
       "      <td>3</td>\n",
       "    </tr>\n",
       "    <tr>\n",
       "      <th>Saint-Nazaire</th>\n",
       "      <td>0.248908</td>\n",
       "      <td>7.712699</td>\n",
       "      <td>0.029711</td>\n",
       "      <td>22.684333</td>\n",
       "      <td>12.6820</td>\n",
       "      <td>1.276654</td>\n",
       "      <td>3</td>\n",
       "    </tr>\n",
       "    <tr>\n",
       "      <th>Grenoble</th>\n",
       "      <td>0.426638</td>\n",
       "      <td>14.516430</td>\n",
       "      <td>0.023420</td>\n",
       "      <td>27.292833</td>\n",
       "      <td>21.2015</td>\n",
       "      <td>0.967366</td>\n",
       "      <td>0</td>\n",
       "    </tr>\n",
       "    <tr>\n",
       "      <th>Mulhouse</th>\n",
       "      <td>0.235808</td>\n",
       "      <td>13.958910</td>\n",
       "      <td>0.024733</td>\n",
       "      <td>25.669000</td>\n",
       "      <td>20.8150</td>\n",
       "      <td>0.219466</td>\n",
       "      <td>3</td>\n",
       "    </tr>\n",
       "    <tr>\n",
       "      <th>Reims</th>\n",
       "      <td>0.337118</td>\n",
       "      <td>16.458910</td>\n",
       "      <td>0.023047</td>\n",
       "      <td>26.562667</td>\n",
       "      <td>19.5240</td>\n",
       "      <td>0.268702</td>\n",
       "      <td>0</td>\n",
       "    </tr>\n",
       "    <tr>\n",
       "      <th>Rouen</th>\n",
       "      <td>0.293450</td>\n",
       "      <td>17.853546</td>\n",
       "      <td>0.021220</td>\n",
       "      <td>26.536000</td>\n",
       "      <td>18.4440</td>\n",
       "      <td>2.448664</td>\n",
       "      <td>0</td>\n",
       "    </tr>\n",
       "    <tr>\n",
       "      <th>Nice</th>\n",
       "      <td>0.643668</td>\n",
       "      <td>16.903657</td>\n",
       "      <td>0.027454</td>\n",
       "      <td>28.503667</td>\n",
       "      <td>19.3450</td>\n",
       "      <td>0.413613</td>\n",
       "      <td>0</td>\n",
       "    </tr>\n",
       "    <tr>\n",
       "      <th>Montpellier</th>\n",
       "      <td>0.289956</td>\n",
       "      <td>18.904610</td>\n",
       "      <td>0.025128</td>\n",
       "      <td>23.700000</td>\n",
       "      <td>13.9660</td>\n",
       "      <td>1.171756</td>\n",
       "      <td>0</td>\n",
       "    </tr>\n",
       "    <tr>\n",
       "      <th>Bordeaux</th>\n",
       "      <td>0.226201</td>\n",
       "      <td>14.710239</td>\n",
       "      <td>0.026020</td>\n",
       "      <td>25.302500</td>\n",
       "      <td>18.0880</td>\n",
       "      <td>0.169084</td>\n",
       "      <td>3</td>\n",
       "    </tr>\n",
       "    <tr>\n",
       "      <th>Chalon-sur-Saone</th>\n",
       "      <td>0.324017</td>\n",
       "      <td>17.014628</td>\n",
       "      <td>0.019936</td>\n",
       "      <td>23.961000</td>\n",
       "      <td>19.6980</td>\n",
       "      <td>0.983969</td>\n",
       "      <td>0</td>\n",
       "    </tr>\n",
       "    <tr>\n",
       "      <th>Fort-de-France (Martinique)</th>\n",
       "      <td>0.673362</td>\n",
       "      <td>8.895833</td>\n",
       "      <td>0.013291</td>\n",
       "      <td>33.278250</td>\n",
       "      <td>19.1330</td>\n",
       "      <td>0.534160</td>\n",
       "      <td>0</td>\n",
       "    </tr>\n",
       "    <tr>\n",
       "      <th>Tours</th>\n",
       "      <td>0.178166</td>\n",
       "      <td>15.007270</td>\n",
       "      <td>0.025667</td>\n",
       "      <td>23.490500</td>\n",
       "      <td>17.9690</td>\n",
       "      <td>0.809160</td>\n",
       "      <td>3</td>\n",
       "    </tr>\n",
       "    <tr>\n",
       "      <th>Rennes</th>\n",
       "      <td>0.297817</td>\n",
       "      <td>16.527793</td>\n",
       "      <td>0.024474</td>\n",
       "      <td>23.200500</td>\n",
       "      <td>19.7560</td>\n",
       "      <td>0.231298</td>\n",
       "      <td>0</td>\n",
       "    </tr>\n",
       "    <tr>\n",
       "      <th>Dunkerque</th>\n",
       "      <td>0.297817</td>\n",
       "      <td>11.542154</td>\n",
       "      <td>0.022130</td>\n",
       "      <td>25.217800</td>\n",
       "      <td>17.7570</td>\n",
       "      <td>2.030280</td>\n",
       "      <td>3</td>\n",
       "    </tr>\n",
       "    <tr>\n",
       "      <th>Brest</th>\n",
       "      <td>0.278603</td>\n",
       "      <td>14.233688</td>\n",
       "      <td>0.026920</td>\n",
       "      <td>25.646500</td>\n",
       "      <td>14.6780</td>\n",
       "      <td>0.169084</td>\n",
       "      <td>0</td>\n",
       "    </tr>\n",
       "    <tr>\n",
       "      <th>Metz</th>\n",
       "      <td>0.259389</td>\n",
       "      <td>12.148670</td>\n",
       "      <td>0.020743</td>\n",
       "      <td>21.034250</td>\n",
       "      <td>18.9830</td>\n",
       "      <td>1.360560</td>\n",
       "      <td>3</td>\n",
       "    </tr>\n",
       "    <tr>\n",
       "      <th>Thionville</th>\n",
       "      <td>0.339301</td>\n",
       "      <td>11.231649</td>\n",
       "      <td>0.023404</td>\n",
       "      <td>24.478600</td>\n",
       "      <td>22.3550</td>\n",
       "      <td>0.814695</td>\n",
       "      <td>3</td>\n",
       "    </tr>\n",
       "    <tr>\n",
       "      <th>Clermont-Ferrand</th>\n",
       "      <td>0.358079</td>\n",
       "      <td>13.634878</td>\n",
       "      <td>0.029125</td>\n",
       "      <td>21.892250</td>\n",
       "      <td>15.3610</td>\n",
       "      <td>0.651908</td>\n",
       "      <td>3</td>\n",
       "    </tr>\n",
       "    <tr>\n",
       "      <th>Valenciennes</th>\n",
       "      <td>0.293450</td>\n",
       "      <td>14.037367</td>\n",
       "      <td>0.020540</td>\n",
       "      <td>25.882400</td>\n",
       "      <td>19.5585</td>\n",
       "      <td>0.756679</td>\n",
       "      <td>3</td>\n",
       "    </tr>\n",
       "    <tr>\n",
       "      <th>Nantes</th>\n",
       "      <td>0.459825</td>\n",
       "      <td>17.702128</td>\n",
       "      <td>0.023855</td>\n",
       "      <td>26.665250</td>\n",
       "      <td>18.5250</td>\n",
       "      <td>0.134351</td>\n",
       "      <td>0</td>\n",
       "    </tr>\n",
       "    <tr>\n",
       "      <th>Ales</th>\n",
       "      <td>0.601747</td>\n",
       "      <td>19.976596</td>\n",
       "      <td>0.021278</td>\n",
       "      <td>29.990250</td>\n",
       "      <td>6.9300</td>\n",
       "      <td>0.692939</td>\n",
       "      <td>0</td>\n",
       "    </tr>\n",
       "    <tr>\n",
       "      <th>Marseille - Aix-en-Provence</th>\n",
       "      <td>0.418777</td>\n",
       "      <td>17.340764</td>\n",
       "      <td>0.030887</td>\n",
       "      <td>32.853286</td>\n",
       "      <td>19.6480</td>\n",
       "      <td>2.213041</td>\n",
       "      <td>0</td>\n",
       "    </tr>\n",
       "  </tbody>\n",
       "</table>\n",
       "<p>69 rows × 7 columns</p>\n",
       "</div>"
      ],
      "text/plain": [
       "                                                CO        NO2     OZONE  \\\n",
       "city                                                                      \n",
       "Charleville-Mezieres                           NaN  10.551064  0.022737   \n",
       "Valence                                        NaN  13.289894  0.025374   \n",
       "Bethune                                        NaN  10.278191  0.020714   \n",
       "Sarrebruck - Forbach                           NaN  10.507270  0.026475   \n",
       "Quimper                                        NaN   8.092021  0.025846   \n",
       "Toulon                                         NaN  19.974823  0.027073   \n",
       "Colmar                                         NaN  16.182979  0.023788   \n",
       "Tarbes                                         NaN  11.246011  0.026524   \n",
       "Bourges                                        NaN   8.527660  0.025440   \n",
       "Cayenne (Guyane)                               NaN   4.420745  0.008905   \n",
       "Roanne                                         NaN  12.386702  0.024113   \n",
       "Cherbourg-Octeville                            NaN   9.658511  0.028587   \n",
       "Annecy                                         NaN  14.869947  0.022702   \n",
       "Poitiers                                       NaN  10.417908  0.023857   \n",
       "Beauvais                                       NaN   5.738298  0.024567   \n",
       "Pointe-a-Pitre - Les Abymes (Guadeloupe)       NaN   4.000000  0.015339   \n",
       "Geneve - Annemasse                             NaN  12.223936  0.024112   \n",
       "Saint-Quentin                                  NaN  10.389894  0.024662   \n",
       "Besancon                                       NaN  13.989362  0.028020   \n",
       "Saint-Brieuc                                   NaN   8.103191  0.027724   \n",
       "Boulogne-sur-Mer                          0.107424  11.407181  0.027324   \n",
       "Arras                                     0.237555  12.012766  0.021839   \n",
       "Nimes                                          NaN   9.489362  0.031661   \n",
       "Limoges                                        NaN  15.050000  0.023137   \n",
       "Brive-la-Gaillarde                        0.228821   9.747872  0.022907   \n",
       "Pau                                       0.272489  15.488298  0.025837   \n",
       "Troyes                                         NaN  10.862500  0.022918   \n",
       "Angers                                         NaN  11.277926  0.029009   \n",
       "Avignon                                        NaN  16.151064  0.030018   \n",
       "Calais                                         NaN  14.087500  0.024527   \n",
       "...                                            ...        ...       ...   \n",
       "Paris                                     0.467249  24.843133  0.023456   \n",
       "Nancy                                     0.264047  13.533663  0.022437   \n",
       "Caen                                      0.291703  13.180851  0.025806   \n",
       "Strasbourg                                0.346725  22.888431  0.020856   \n",
       "Lille                                     0.325764  16.346884  0.019843   \n",
       "Orleans                                   0.255895  14.397872  0.025579   \n",
       "Lyon                                      0.346434  17.790816  0.026731   \n",
       "Toulouse                                  0.304803  15.147485  0.023337   \n",
       "Dijon                                     0.358079  14.020124  0.025692   \n",
       "Saint-Nazaire                             0.248908   7.712699  0.029711   \n",
       "Grenoble                                  0.426638  14.516430  0.023420   \n",
       "Mulhouse                                  0.235808  13.958910  0.024733   \n",
       "Reims                                     0.337118  16.458910  0.023047   \n",
       "Rouen                                     0.293450  17.853546  0.021220   \n",
       "Nice                                      0.643668  16.903657  0.027454   \n",
       "Montpellier                               0.289956  18.904610  0.025128   \n",
       "Bordeaux                                  0.226201  14.710239  0.026020   \n",
       "Chalon-sur-Saone                          0.324017  17.014628  0.019936   \n",
       "Fort-de-France (Martinique)               0.673362   8.895833  0.013291   \n",
       "Tours                                     0.178166  15.007270  0.025667   \n",
       "Rennes                                    0.297817  16.527793  0.024474   \n",
       "Dunkerque                                 0.297817  11.542154  0.022130   \n",
       "Brest                                     0.278603  14.233688  0.026920   \n",
       "Metz                                      0.259389  12.148670  0.020743   \n",
       "Thionville                                0.339301  11.231649  0.023404   \n",
       "Clermont-Ferrand                          0.358079  13.634878  0.029125   \n",
       "Valenciennes                              0.293450  14.037367  0.020540   \n",
       "Nantes                                    0.459825  17.702128  0.023855   \n",
       "Ales                                      0.601747  19.976596  0.021278   \n",
       "Marseille - Aix-en-Provence               0.418777  17.340764  0.030887   \n",
       "\n",
       "                                               PM10  PM25_FRMFEM       SO2  \\\n",
       "city                                                                         \n",
       "Charleville-Mezieres                      25.435000          NaN  0.246565   \n",
       "Valence                                         NaN      19.3590  1.301908   \n",
       "Bethune                                   26.630000          NaN  0.767939   \n",
       "Sarrebruck - Forbach                      22.453000          NaN  2.470992   \n",
       "Quimper                                   25.747000          NaN  0.170229   \n",
       "Toulon                                    30.476500      16.5000       NaN   \n",
       "Colmar                                    25.150500          NaN  2.056870   \n",
       "Tarbes                                    22.429000          NaN  0.152481   \n",
       "Bourges                                   20.624000          NaN  0.155725   \n",
       "Cayenne (Guyane)                          30.461000          NaN  0.912595   \n",
       "Roanne                                    26.302000          NaN  0.330534   \n",
       "Cherbourg-Octeville                       18.993000          NaN  1.172328   \n",
       "Annecy                                    28.601500      21.2160       NaN   \n",
       "Poitiers                                  21.777500      17.4330       NaN   \n",
       "Beauvais                                  28.234000          NaN  0.955725   \n",
       "Pointe-a-Pitre - Les Abymes (Guadeloupe)  27.579000          NaN  1.806870   \n",
       "Geneve - Annemasse                        26.823500      15.4700       NaN   \n",
       "Saint-Quentin                             26.587000      20.0840       NaN   \n",
       "Besancon                                  21.737000      14.1990       NaN   \n",
       "Saint-Brieuc                              23.142000          NaN  0.289313   \n",
       "Boulogne-sur-Mer                          26.141000          NaN  0.902290   \n",
       "Arras                                     26.602000          NaN  0.557634   \n",
       "Nimes                                     20.804000      15.0650  0.169847   \n",
       "Limoges                                   20.519667      14.9410  0.141794   \n",
       "Brive-la-Gaillarde                        20.028000          NaN  0.363359   \n",
       "Pau                                       20.694500          NaN  0.370992   \n",
       "Troyes                                    24.149000      17.4020  0.184733   \n",
       "Angers                                    22.213000      15.9910  1.162214   \n",
       "Avignon                                   28.235000      14.7990  0.784733   \n",
       "Calais                                    26.202000      18.8250  1.897805   \n",
       "...                                             ...          ...       ...   \n",
       "Paris                                     29.700857          NaN  0.804707   \n",
       "Nancy                                     24.659250      17.6030  0.627990   \n",
       "Caen                                      22.641333      16.3030  0.374618   \n",
       "Strasbourg                                27.790000      18.7380  1.676240   \n",
       "Lille                                     28.690000      22.4010  0.866412   \n",
       "Orleans                                   22.172667      19.1850  0.227863   \n",
       "Lyon                                      26.970000      22.2400  0.717653   \n",
       "Toulouse                                  26.325889      16.9700  0.404198   \n",
       "Dijon                                     21.293000      13.2710  0.256107   \n",
       "Saint-Nazaire                             22.684333      12.6820  1.276654   \n",
       "Grenoble                                  27.292833      21.2015  0.967366   \n",
       "Mulhouse                                  25.669000      20.8150  0.219466   \n",
       "Reims                                     26.562667      19.5240  0.268702   \n",
       "Rouen                                     26.536000      18.4440  2.448664   \n",
       "Nice                                      28.503667      19.3450  0.413613   \n",
       "Montpellier                               23.700000      13.9660  1.171756   \n",
       "Bordeaux                                  25.302500      18.0880  0.169084   \n",
       "Chalon-sur-Saone                          23.961000      19.6980  0.983969   \n",
       "Fort-de-France (Martinique)               33.278250      19.1330  0.534160   \n",
       "Tours                                     23.490500      17.9690  0.809160   \n",
       "Rennes                                    23.200500      19.7560  0.231298   \n",
       "Dunkerque                                 25.217800      17.7570  2.030280   \n",
       "Brest                                     25.646500      14.6780  0.169084   \n",
       "Metz                                      21.034250      18.9830  1.360560   \n",
       "Thionville                                24.478600      22.3550  0.814695   \n",
       "Clermont-Ferrand                          21.892250      15.3610  0.651908   \n",
       "Valenciennes                              25.882400      19.5585  0.756679   \n",
       "Nantes                                    26.665250      18.5250  0.134351   \n",
       "Ales                                      29.990250       6.9300  0.692939   \n",
       "Marseille - Aix-en-Provence               32.853286      19.6480  2.213041   \n",
       "\n",
       "                                          Cluster  \n",
       "city                                               \n",
       "Charleville-Mezieres                            0  \n",
       "Valence                                         3  \n",
       "Bethune                                         0  \n",
       "Sarrebruck - Forbach                            3  \n",
       "Quimper                                         0  \n",
       "Toulon                                          0  \n",
       "Colmar                                          0  \n",
       "Tarbes                                          3  \n",
       "Bourges                                         3  \n",
       "Cayenne (Guyane)                                0  \n",
       "Roanne                                          0  \n",
       "Cherbourg-Octeville                             3  \n",
       "Annecy                                          0  \n",
       "Poitiers                                        3  \n",
       "Beauvais                                        0  \n",
       "Pointe-a-Pitre - Les Abymes (Guadeloupe)        0  \n",
       "Geneve - Annemasse                              0  \n",
       "Saint-Quentin                                   0  \n",
       "Besancon                                        3  \n",
       "Saint-Brieuc                                    1  \n",
       "Boulogne-sur-Mer                                0  \n",
       "Arras                                           0  \n",
       "Nimes                                           3  \n",
       "Limoges                                         3  \n",
       "Brive-la-Gaillarde                              3  \n",
       "Pau                                             3  \n",
       "Troyes                                          3  \n",
       "Angers                                          3  \n",
       "Avignon                                         0  \n",
       "Calais                                          3  \n",
       "...                                           ...  \n",
       "Paris                                           0  \n",
       "Nancy                                           3  \n",
       "Caen                                            3  \n",
       "Strasbourg                                      0  \n",
       "Lille                                           0  \n",
       "Orleans                                         3  \n",
       "Lyon                                            0  \n",
       "Toulouse                                        0  \n",
       "Dijon                                           3  \n",
       "Saint-Nazaire                                   3  \n",
       "Grenoble                                        0  \n",
       "Mulhouse                                        3  \n",
       "Reims                                           0  \n",
       "Rouen                                           0  \n",
       "Nice                                            0  \n",
       "Montpellier                                     0  \n",
       "Bordeaux                                        3  \n",
       "Chalon-sur-Saone                                0  \n",
       "Fort-de-France (Martinique)                     0  \n",
       "Tours                                           3  \n",
       "Rennes                                          0  \n",
       "Dunkerque                                       3  \n",
       "Brest                                           0  \n",
       "Metz                                            3  \n",
       "Thionville                                      3  \n",
       "Clermont-Ferrand                                3  \n",
       "Valenciennes                                    3  \n",
       "Nantes                                          0  \n",
       "Ales                                            0  \n",
       "Marseille - Aix-en-Provence                     0  \n",
       "\n",
       "[69 rows x 7 columns]"
      ]
     },
     "execution_count": 555,
     "metadata": {},
     "output_type": "execute_result"
    }
   ],
   "source": [
    "fr_p_clusts "
   ]
  },
  {
   "cell_type": "code",
   "execution_count": 556,
   "metadata": {
    "collapsed": true
   },
   "outputs": [],
   "source": [
    "fr_p_clusts.to_csv(\"clusters_knn_france.csv\",index=False,na_rep='NA')"
   ]
  },
  {
   "cell_type": "code",
   "execution_count": null,
   "metadata": {
    "collapsed": true
   },
   "outputs": [],
   "source": []
  }
 ],
 "metadata": {
  "kernelspec": {
   "display_name": "Python 2",
   "language": "python",
   "name": "python2"
  },
  "language_info": {
   "codemirror_mode": {
    "name": "ipython",
    "version": 2
   },
   "file_extension": ".py",
   "mimetype": "text/x-python",
   "name": "python",
   "nbconvert_exporter": "python",
   "pygments_lexer": "ipython2",
   "version": "2.7.10"
  }
 },
 "nbformat": 4,
 "nbformat_minor": 0
}
