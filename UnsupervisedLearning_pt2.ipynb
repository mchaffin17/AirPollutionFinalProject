{
 "cells": [
  {
   "cell_type": "markdown",
   "metadata": {},
   "source": [
    "##Supervised Learning"
   ]
  },
  {
   "cell_type": "markdown",
   "metadata": {},
   "source": [
    "The purpose of this section is to build a KNN classifier using the clustering information we previously generated, then validate the classifier using similar data fom another country (France)."
   ]
  },
  {
   "cell_type": "code",
   "execution_count": 2,
   "metadata": {
    "collapsed": true
   },
   "outputs": [],
   "source": [
    "%matplotlib inline\n",
    "import numpy as np\n",
    "import scipy as sp\n",
    "import matplotlib as mpl\n",
    "import matplotlib.cm as cm\n",
    "import matplotlib.pyplot as plt\n",
    "import pandas as pd\n",
    "import seaborn as sns\n",
    "import csv\n",
    "from time import time"
   ]
  },
  {
   "cell_type": "markdown",
   "metadata": {},
   "source": [
    "####Import US data"
   ]
  },
  {
   "cell_type": "code",
   "execution_count": 3,
   "metadata": {
    "collapsed": false
   },
   "outputs": [],
   "source": [
    "clusters = pd.read_csv('dfClusters_kMeans.csv')\n",
    "us_year = pd.read_csv('YearDat.csv')\n",
    "us_season = pd.read_csv('SeasonDat.csv')\n",
    "us_month = pd.read_csv('MonthDat.csv')"
   ]
  },
  {
   "cell_type": "markdown",
   "metadata": {},
   "source": [
    "####Import French data"
   ]
  },
  {
   "cell_type": "code",
   "execution_count": 4,
   "metadata": {
    "collapsed": true
   },
   "outputs": [],
   "source": [
    "france_year = pd.read_csv('FranceYearDat.csv')\n",
    "france_season = pd.read_csv('FranceSeasonDat.csv')\n",
    "france_month = pd.read_csv('FranceMonthDat.csv')"
   ]
  },
  {
   "cell_type": "markdown",
   "metadata": {},
   "source": [
    "####Create dataframe with additional data (other than 6 pollutants) for clustered CBSAs"
   ]
  },
  {
   "cell_type": "code",
   "execution_count": 16,
   "metadata": {
    "collapsed": false,
    "scrolled": true
   },
   "outputs": [
    {
     "ename": "AttributeError",
     "evalue": "'module' object has no attribute 'concatenate'",
     "output_type": "error",
     "traceback": [
      "\u001b[0;31m---------------------------------------------------------------------------\u001b[0m",
      "\u001b[0;31mAttributeError\u001b[0m                            Traceback (most recent call last)",
      "\u001b[0;32m<ipython-input-16-a71f6b5bbcc8>\u001b[0m in \u001b[0;36m<module>\u001b[0;34m()\u001b[0m\n\u001b[1;32m      2\u001b[0m \u001b[0mclustersonly\u001b[0m \u001b[0;34m=\u001b[0m \u001b[0mclusters\u001b[0m\u001b[0;34m[\u001b[0m\u001b[0;34m[\u001b[0m\u001b[0;34m'CBSA'\u001b[0m\u001b[0;34m,\u001b[0m\u001b[0;34m'Cluster'\u001b[0m\u001b[0;34m]\u001b[0m\u001b[0;34m]\u001b[0m\u001b[0;34m\u001b[0m\u001b[0m\n\u001b[1;32m      3\u001b[0m \u001b[0;34m\u001b[0m\u001b[0m\n\u001b[0;32m----> 4\u001b[0;31m \u001b[0mus_yr_clusters\u001b[0m \u001b[0;34m=\u001b[0m \u001b[0mpd\u001b[0m\u001b[0;34m.\u001b[0m\u001b[0mconcatenate\u001b[0m\u001b[0;34m(\u001b[0m\u001b[0mclustersonly\u001b[0m\u001b[0;34m,\u001b[0m \u001b[0mus_year\u001b[0m\u001b[0;34m,\u001b[0m \u001b[0mon\u001b[0m\u001b[0;34m=\u001b[0m\u001b[0;34m'CBSA'\u001b[0m\u001b[0;34m)\u001b[0m\u001b[0;34m\u001b[0m\u001b[0m\n\u001b[0m",
      "\u001b[0;31mAttributeError\u001b[0m: 'module' object has no attribute 'concatenate'"
     ]
    }
   ],
   "source": [
    "us_year.rename(columns={'CBSA Name': 'CBSA'}, inplace=True)\n",
    "clustersonly = clusters[['CBSA','Cluster']]\n",
    "\n",
    "us_yr_clusters = pd.concatenate(clustersonly, us_year, on='CBSA')"
   ]
  },
  {
   "cell_type": "code",
   "execution_count": 6,
   "metadata": {
    "collapsed": false
   },
   "outputs": [
    {
     "data": {
      "text/html": [
       "<div>\n",
       "<table border=\"1\" class=\"dataframe\">\n",
       "  <thead>\n",
       "    <tr style=\"text-align: right;\">\n",
       "      <th></th>\n",
       "      <th>CBSA</th>\n",
       "      <th>Cluster</th>\n",
       "      <th>Latitude</th>\n",
       "      <th>Longitude</th>\n",
       "      <th>PM25_FRMFEM</th>\n",
       "      <th>AQI_PM25_FRMFEM</th>\n",
       "      <th>PM25_NOFRMFEM</th>\n",
       "      <th>AQI_PM25_NOFRMFEM</th>\n",
       "      <th>PM10</th>\n",
       "      <th>AQI_PM10</th>\n",
       "      <th>...</th>\n",
       "      <th>pop_weight2010</th>\n",
       "      <th>alone</th>\n",
       "      <th>alone_frac</th>\n",
       "      <th>carpool</th>\n",
       "      <th>carpool_frac</th>\n",
       "      <th>other</th>\n",
       "      <th>other_frac</th>\n",
       "      <th>pt</th>\n",
       "      <th>pt_frac</th>\n",
       "      <th>total_trans</th>\n",
       "    </tr>\n",
       "  </thead>\n",
       "  <tbody>\n",
       "    <tr>\n",
       "      <th>0</th>\n",
       "      <td>Baton Rouge, LA</td>\n",
       "      <td>0</td>\n",
       "      <td>30.426074</td>\n",
       "      <td>-91.197545</td>\n",
       "      <td>10.523564</td>\n",
       "      <td>41.817916</td>\n",
       "      <td>10.600909</td>\n",
       "      <td>40.076649</td>\n",
       "      <td>27.801724</td>\n",
       "      <td>25.597701</td>\n",
       "      <td>...</td>\n",
       "      <td>1603.3</td>\n",
       "      <td>305593</td>\n",
       "      <td>0.832710</td>\n",
       "      <td>37259</td>\n",
       "      <td>0.101527</td>\n",
       "      <td>20226</td>\n",
       "      <td>0.055114</td>\n",
       "      <td>3908</td>\n",
       "      <td>0.010649</td>\n",
       "      <td>366986</td>\n",
       "    </tr>\n",
       "    <tr>\n",
       "      <th>1</th>\n",
       "      <td>Chicago-Naperville-Joliet, IL-IN-WI</td>\n",
       "      <td>0</td>\n",
       "      <td>41.793944</td>\n",
       "      <td>-87.583018</td>\n",
       "      <td>12.822971</td>\n",
       "      <td>46.264507</td>\n",
       "      <td>12.289887</td>\n",
       "      <td>46.061675</td>\n",
       "      <td>23.560028</td>\n",
       "      <td>21.712074</td>\n",
       "      <td>...</td>\n",
       "      <td>8613.4</td>\n",
       "      <td>3130329</td>\n",
       "      <td>0.710939</td>\n",
       "      <td>379176</td>\n",
       "      <td>0.086116</td>\n",
       "      <td>395059</td>\n",
       "      <td>0.089723</td>\n",
       "      <td>498529</td>\n",
       "      <td>0.113222</td>\n",
       "      <td>4403093</td>\n",
       "    </tr>\n",
       "    <tr>\n",
       "      <th>2</th>\n",
       "      <td>Davenport-Moline-Rock Island, IA-IL</td>\n",
       "      <td>0</td>\n",
       "      <td>41.525174</td>\n",
       "      <td>-90.600853</td>\n",
       "      <td>12.234181</td>\n",
       "      <td>45.526958</td>\n",
       "      <td>11.977756</td>\n",
       "      <td>44.955169</td>\n",
       "      <td>32.308116</td>\n",
       "      <td>28.661623</td>\n",
       "      <td>...</td>\n",
       "      <td>2218.6</td>\n",
       "      <td>154028</td>\n",
       "      <td>0.850861</td>\n",
       "      <td>14171</td>\n",
       "      <td>0.078282</td>\n",
       "      <td>11310</td>\n",
       "      <td>0.062477</td>\n",
       "      <td>1517</td>\n",
       "      <td>0.008380</td>\n",
       "      <td>181026</td>\n",
       "    </tr>\n",
       "    <tr>\n",
       "      <th>3</th>\n",
       "      <td>Denver-Aurora, CO</td>\n",
       "      <td>0</td>\n",
       "      <td>39.708860</td>\n",
       "      <td>-104.968822</td>\n",
       "      <td>7.398333</td>\n",
       "      <td>30.070455</td>\n",
       "      <td>8.764516</td>\n",
       "      <td>34.722581</td>\n",
       "      <td>26.029324</td>\n",
       "      <td>24.059642</td>\n",
       "      <td>...</td>\n",
       "      <td>4803.7</td>\n",
       "      <td>977259</td>\n",
       "      <td>0.759138</td>\n",
       "      <td>118034</td>\n",
       "      <td>0.091689</td>\n",
       "      <td>133310</td>\n",
       "      <td>0.103556</td>\n",
       "      <td>58725</td>\n",
       "      <td>0.045618</td>\n",
       "      <td>1287328</td>\n",
       "    </tr>\n",
       "    <tr>\n",
       "      <th>4</th>\n",
       "      <td>El Centro, CA</td>\n",
       "      <td>0</td>\n",
       "      <td>32.786175</td>\n",
       "      <td>-115.520073</td>\n",
       "      <td>9.472488</td>\n",
       "      <td>36.763158</td>\n",
       "      <td>10.295082</td>\n",
       "      <td>40.491803</td>\n",
       "      <td>32.501661</td>\n",
       "      <td>29.747508</td>\n",
       "      <td>...</td>\n",
       "      <td>3062.6</td>\n",
       "      <td>44451</td>\n",
       "      <td>0.792932</td>\n",
       "      <td>5815</td>\n",
       "      <td>0.103730</td>\n",
       "      <td>5090</td>\n",
       "      <td>0.090797</td>\n",
       "      <td>703</td>\n",
       "      <td>0.012540</td>\n",
       "      <td>56059</td>\n",
       "    </tr>\n",
       "  </tbody>\n",
       "</table>\n",
       "<p>5 rows × 38 columns</p>\n",
       "</div>"
      ],
      "text/plain": [
       "                                  CBSA  Cluster   Latitude   Longitude  \\\n",
       "0                      Baton Rouge, LA        0  30.426074  -91.197545   \n",
       "1  Chicago-Naperville-Joliet, IL-IN-WI        0  41.793944  -87.583018   \n",
       "2  Davenport-Moline-Rock Island, IA-IL        0  41.525174  -90.600853   \n",
       "3                    Denver-Aurora, CO        0  39.708860 -104.968822   \n",
       "4                        El Centro, CA        0  32.786175 -115.520073   \n",
       "\n",
       "   PM25_FRMFEM  AQI_PM25_FRMFEM  PM25_NOFRMFEM  AQI_PM25_NOFRMFEM       PM10  \\\n",
       "0    10.523564        41.817916      10.600909          40.076649  27.801724   \n",
       "1    12.822971        46.264507      12.289887          46.061675  23.560028   \n",
       "2    12.234181        45.526958      11.977756          44.955169  32.308116   \n",
       "3     7.398333        30.070455       8.764516          34.722581  26.029324   \n",
       "4     9.472488        36.763158      10.295082          40.491803  32.501661   \n",
       "\n",
       "    AQI_PM10     ...       pop_weight2010    alone  alone_frac  carpool  \\\n",
       "0  25.597701     ...               1603.3   305593    0.832710    37259   \n",
       "1  21.712074     ...               8613.4  3130329    0.710939   379176   \n",
       "2  28.661623     ...               2218.6   154028    0.850861    14171   \n",
       "3  24.059642     ...               4803.7   977259    0.759138   118034   \n",
       "4  29.747508     ...               3062.6    44451    0.792932     5815   \n",
       "\n",
       "   carpool_frac   other  other_frac      pt   pt_frac  total_trans  \n",
       "0      0.101527   20226    0.055114    3908  0.010649       366986  \n",
       "1      0.086116  395059    0.089723  498529  0.113222      4403093  \n",
       "2      0.078282   11310    0.062477    1517  0.008380       181026  \n",
       "3      0.091689  133310    0.103556   58725  0.045618      1287328  \n",
       "4      0.103730    5090    0.090797     703  0.012540        56059  \n",
       "\n",
       "[5 rows x 38 columns]"
      ]
     },
     "execution_count": 6,
     "metadata": {},
     "output_type": "execute_result"
    }
   ],
   "source": [
    "us_yr_clusters.head()"
   ]
  },
  {
   "cell_type": "code",
   "execution_count": 7,
   "metadata": {
    "collapsed": false
   },
   "outputs": [
    {
     "data": {
      "text/plain": [
       "Index([u'CBSA', u'Cluster', u'Latitude', u'Longitude', u'PM25_FRMFEM',\n",
       "       u'AQI_PM25_FRMFEM', u'PM25_NOFRMFEM', u'AQI_PM25_NOFRMFEM', u'PM10',\n",
       "       u'AQI_PM10', u'TEMP', u'PRESS', u'RH', u'DP', u'WIND', u'CO', u'AQI_CO',\n",
       "       u'NO2', u'AQI_NO2', u'OZONE', u'AQI_OZONE', u'SO2', u'AQI_SO2', u'id',\n",
       "       u'MetArea', u'pop2010', u'landarea', u'popdense2010', u'pop_weight2010',\n",
       "       u'alone', u'alone_frac', u'carpool', u'carpool_frac', u'other',\n",
       "       u'other_frac', u'pt', u'pt_frac', u'total_trans'],\n",
       "      dtype='object')"
      ]
     },
     "execution_count": 7,
     "metadata": {},
     "output_type": "execute_result"
    }
   ],
   "source": [
    "us_yr_clusters.columns"
   ]
  },
  {
   "cell_type": "code",
   "execution_count": 10,
   "metadata": {
    "collapsed": false
   },
   "outputs": [
    {
     "data": {
      "text/plain": [
       "Index([u'CO', u'NO2', u'OZONE', u'PM10', u'PM25', u'SO2', u'city', u'id',\n",
       "       u'population', u'popdense', u'area', u'other_frac', u'car_frac',\n",
       "       u'pt_frac', u'Car', u'PT', u'Other', u'Precip', u'Pressure', u'RH',\n",
       "       u'Site', u'Temp', u'Wind'],\n",
       "      dtype='object')"
      ]
     },
     "execution_count": 10,
     "metadata": {},
     "output_type": "execute_result"
    }
   ],
   "source": [
    "france_year.columns"
   ]
  },
  {
   "cell_type": "code",
   "execution_count": 11,
   "metadata": {
    "collapsed": false
   },
   "outputs": [
    {
     "data": {
      "text/html": [
       "<div>\n",
       "<table border=\"1\" class=\"dataframe\">\n",
       "  <thead>\n",
       "    <tr style=\"text-align: right;\">\n",
       "      <th></th>\n",
       "      <th>CO</th>\n",
       "      <th>NO2</th>\n",
       "      <th>OZONE</th>\n",
       "      <th>PM10</th>\n",
       "      <th>PM25</th>\n",
       "      <th>SO2</th>\n",
       "      <th>city</th>\n",
       "      <th>id</th>\n",
       "      <th>population</th>\n",
       "      <th>popdense</th>\n",
       "      <th>...</th>\n",
       "      <th>pt_frac</th>\n",
       "      <th>Car</th>\n",
       "      <th>PT</th>\n",
       "      <th>Other</th>\n",
       "      <th>Precip</th>\n",
       "      <th>Pressure</th>\n",
       "      <th>RH</th>\n",
       "      <th>Site</th>\n",
       "      <th>Temp</th>\n",
       "      <th>Wind</th>\n",
       "    </tr>\n",
       "  </thead>\n",
       "  <tbody>\n",
       "    <tr>\n",
       "      <th>0</th>\n",
       "      <td>0.264047</td>\n",
       "      <td>13.533663</td>\n",
       "      <td>0.022437</td>\n",
       "      <td>24.659250</td>\n",
       "      <td>17.603</td>\n",
       "      <td>0.627990</td>\n",
       "      <td>Nancy</td>\n",
       "      <td>FR30036</td>\n",
       "      <td>434479</td>\n",
       "      <td>613.363951</td>\n",
       "      <td>...</td>\n",
       "      <td>0.12</td>\n",
       "      <td>221584.29</td>\n",
       "      <td>52137.48</td>\n",
       "      <td>160757.23</td>\n",
       "      <td>734.1</td>\n",
       "      <td>1014.182698</td>\n",
       "      <td>NaN</td>\n",
       "      <td>071800-99999-2010</td>\n",
       "      <td>49.645806</td>\n",
       "      <td>5.602288</td>\n",
       "    </tr>\n",
       "    <tr>\n",
       "      <th>1</th>\n",
       "      <td>0.291703</td>\n",
       "      <td>13.180851</td>\n",
       "      <td>0.025806</td>\n",
       "      <td>22.641333</td>\n",
       "      <td>16.303</td>\n",
       "      <td>0.374618</td>\n",
       "      <td>Caen</td>\n",
       "      <td>FR21001</td>\n",
       "      <td>403633</td>\n",
       "      <td>667.231583</td>\n",
       "      <td>...</td>\n",
       "      <td>NaN</td>\n",
       "      <td>NaN</td>\n",
       "      <td>NaN</td>\n",
       "      <td>NaN</td>\n",
       "      <td>709.9</td>\n",
       "      <td>1014.605930</td>\n",
       "      <td>NaN</td>\n",
       "      <td>070270-99999-2010</td>\n",
       "      <td>49.413654</td>\n",
       "      <td>7.613426</td>\n",
       "    </tr>\n",
       "    <tr>\n",
       "      <th>2</th>\n",
       "      <td>NaN</td>\n",
       "      <td>10.551064</td>\n",
       "      <td>0.022737</td>\n",
       "      <td>25.435000</td>\n",
       "      <td>NaN</td>\n",
       "      <td>0.246565</td>\n",
       "      <td>Charleville-Mezieres</td>\n",
       "      <td>FR14051</td>\n",
       "      <td>106835</td>\n",
       "      <td>334.305710</td>\n",
       "      <td>...</td>\n",
       "      <td>NaN</td>\n",
       "      <td>NaN</td>\n",
       "      <td>NaN</td>\n",
       "      <td>NaN</td>\n",
       "      <td>796.0</td>\n",
       "      <td>1014.537853</td>\n",
       "      <td>NaN</td>\n",
       "      <td>070750-99999-2010</td>\n",
       "      <td>48.359738</td>\n",
       "      <td>4.522086</td>\n",
       "    </tr>\n",
       "    <tr>\n",
       "      <th>3</th>\n",
       "      <td>NaN</td>\n",
       "      <td>13.289894</td>\n",
       "      <td>0.025374</td>\n",
       "      <td>NaN</td>\n",
       "      <td>19.359</td>\n",
       "      <td>1.301908</td>\n",
       "      <td>Valence</td>\n",
       "      <td>FR36002</td>\n",
       "      <td>175636</td>\n",
       "      <td>253.757910</td>\n",
       "      <td>...</td>\n",
       "      <td>NaN</td>\n",
       "      <td>NaN</td>\n",
       "      <td>NaN</td>\n",
       "      <td>NaN</td>\n",
       "      <td>899.9</td>\n",
       "      <td>1013.618678</td>\n",
       "      <td>NaN</td>\n",
       "      <td>075770-99999-2010</td>\n",
       "      <td>55.345660</td>\n",
       "      <td>6.962982</td>\n",
       "    </tr>\n",
       "    <tr>\n",
       "      <th>4</th>\n",
       "      <td>NaN</td>\n",
       "      <td>9.625000</td>\n",
       "      <td>0.028092</td>\n",
       "      <td>21.006000</td>\n",
       "      <td>NaN</td>\n",
       "      <td>NaN</td>\n",
       "      <td>Cholet</td>\n",
       "      <td>FR23078</td>\n",
       "      <td>104917</td>\n",
       "      <td>483.925584</td>\n",
       "      <td>...</td>\n",
       "      <td>NaN</td>\n",
       "      <td>NaN</td>\n",
       "      <td>NaN</td>\n",
       "      <td>NaN</td>\n",
       "      <td>NaN</td>\n",
       "      <td>NaN</td>\n",
       "      <td>NaN</td>\n",
       "      <td>NaN</td>\n",
       "      <td>NaN</td>\n",
       "      <td>NaN</td>\n",
       "    </tr>\n",
       "  </tbody>\n",
       "</table>\n",
       "<p>5 rows × 23 columns</p>\n",
       "</div>"
      ],
      "text/plain": [
       "         CO        NO2     OZONE       PM10    PM25       SO2  \\\n",
       "0  0.264047  13.533663  0.022437  24.659250  17.603  0.627990   \n",
       "1  0.291703  13.180851  0.025806  22.641333  16.303  0.374618   \n",
       "2       NaN  10.551064  0.022737  25.435000     NaN  0.246565   \n",
       "3       NaN  13.289894  0.025374        NaN  19.359  1.301908   \n",
       "4       NaN   9.625000  0.028092  21.006000     NaN       NaN   \n",
       "\n",
       "                   city       id  population    popdense    ...     pt_frac  \\\n",
       "0                 Nancy  FR30036      434479  613.363951    ...        0.12   \n",
       "1                  Caen  FR21001      403633  667.231583    ...         NaN   \n",
       "2  Charleville-Mezieres  FR14051      106835  334.305710    ...         NaN   \n",
       "3               Valence  FR36002      175636  253.757910    ...         NaN   \n",
       "4                Cholet  FR23078      104917  483.925584    ...         NaN   \n",
       "\n",
       "         Car        PT      Other  Precip     Pressure  RH               Site  \\\n",
       "0  221584.29  52137.48  160757.23   734.1  1014.182698 NaN  071800-99999-2010   \n",
       "1        NaN       NaN        NaN   709.9  1014.605930 NaN  070270-99999-2010   \n",
       "2        NaN       NaN        NaN   796.0  1014.537853 NaN  070750-99999-2010   \n",
       "3        NaN       NaN        NaN   899.9  1013.618678 NaN  075770-99999-2010   \n",
       "4        NaN       NaN        NaN     NaN          NaN NaN                NaN   \n",
       "\n",
       "        Temp      Wind  \n",
       "0  49.645806  5.602288  \n",
       "1  49.413654  7.613426  \n",
       "2  48.359738  4.522086  \n",
       "3  55.345660  6.962982  \n",
       "4        NaN       NaN  \n",
       "\n",
       "[5 rows x 23 columns]"
      ]
     },
     "execution_count": 11,
     "metadata": {},
     "output_type": "execute_result"
    }
   ],
   "source": [
    "france_year.head()"
   ]
  },
  {
   "cell_type": "code",
   "execution_count": 12,
   "metadata": {
    "collapsed": false
   },
   "outputs": [
    {
     "data": {
      "text/plain": [
       "Index([u'CBSA', u'CO', u'Cluster', u'NO2', u'OZONE', u'PM10', u'PM25_FRMFEM',\n",
       "       u'SO2'],\n",
       "      dtype='object')"
      ]
     },
     "execution_count": 12,
     "metadata": {},
     "output_type": "execute_result"
    }
   ],
   "source": [
    "clusters.columns"
   ]
  },
  {
   "cell_type": "markdown",
   "metadata": {},
   "source": [
    "Some of the French columns have different names compared to the US columns. Rename these."
   ]
  },
  {
   "cell_type": "code",
   "execution_count": 13,
   "metadata": {
    "collapsed": true
   },
   "outputs": [],
   "source": [
    "france_year.rename(columns={'population':'pop2010', 'popdense':'popdense2010', 'area':'landarea', \n",
    "                           'car_frac':'carpool_frac', 'Car':'carpool', 'PT':'pt', 'Pressure':'PRESS',  \n",
    "                           'Wind':'WIND', 'Temp':'TEMP'}, inplace=True)"
   ]
  },
  {
   "cell_type": "markdown",
   "metadata": {},
   "source": [
    "####Compute similarity using Pearson correlation within clusters"
   ]
  },
  {
   "cell_type": "code",
   "execution_count": 14,
   "metadata": {
    "collapsed": true
   },
   "outputs": [],
   "source": [
    "from scipy.stats.stats import pearsonr\n",
    "def pearsonr(train, test):\n",
    "    traincols = [train['TEMP'], train['PRESS'], train['RH'], train['WIND'], train['pop2010'], train['landarea'],\n",
    "                 train['popdense2010'], train['carpool_frac'], train['other_frac'], train['pt_frac']]\n",
    "    testcols = [test['TEMP'], test['PRESS'], test['RH'], test['WIND'], test['pop2010'], test['landarea'],\n",
    "                test['popdense2010'], test['carpool_frac'], test['other_frac'], test['pt_frac']]\n",
    "    sim = pearsonr(traincols, testcols)[0]\n",
    "    return sim"
   ]
  },
  {
   "cell_type": "markdown",
   "metadata": {},
   "source": [
    "####Get similarity measure for each combination of French and US cities"
   ]
  },
  {
   "cell_type": "code",
   "execution_count": 15,
   "metadata": {
    "collapsed": false,
    "scrolled": true
   },
   "outputs": [
    {
     "ename": "TypeError",
     "evalue": "list indices must be integers, not str",
     "output_type": "error",
     "traceback": [
      "\u001b[0;31m---------------------------------------------------------------------------\u001b[0m",
      "\u001b[0;31mTypeError\u001b[0m                                 Traceback (most recent call last)",
      "\u001b[0;32m<ipython-input-15-3283e4086749>\u001b[0m in \u001b[0;36m<module>\u001b[0;34m()\u001b[0m\n\u001b[1;32m      2\u001b[0m \u001b[0;32mfor\u001b[0m \u001b[0mind\u001b[0m\u001b[0;34m,\u001b[0m \u001b[0mfrenchcity\u001b[0m \u001b[0;32min\u001b[0m \u001b[0mfrance_year\u001b[0m\u001b[0;34m.\u001b[0m\u001b[0miterrows\u001b[0m\u001b[0;34m(\u001b[0m\u001b[0;34m)\u001b[0m\u001b[0;34m:\u001b[0m\u001b[0;34m\u001b[0m\u001b[0m\n\u001b[1;32m      3\u001b[0m     \u001b[0;32mfor\u001b[0m \u001b[0mind\u001b[0m\u001b[0;34m,\u001b[0m \u001b[0muscity\u001b[0m \u001b[0;32min\u001b[0m \u001b[0mus_yr_clusters\u001b[0m\u001b[0;34m.\u001b[0m\u001b[0miterrows\u001b[0m\u001b[0;34m(\u001b[0m\u001b[0;34m)\u001b[0m\u001b[0;34m:\u001b[0m\u001b[0;34m\u001b[0m\u001b[0m\n\u001b[0;32m----> 4\u001b[0;31m         \u001b[0msim\u001b[0m \u001b[0;34m=\u001b[0m \u001b[0mpearsonr\u001b[0m\u001b[0;34m(\u001b[0m\u001b[0muscity\u001b[0m\u001b[0;34m,\u001b[0m \u001b[0mfrenchcity\u001b[0m\u001b[0;34m)\u001b[0m\u001b[0;34m\u001b[0m\u001b[0m\n\u001b[0m\u001b[1;32m      5\u001b[0m         \u001b[0mfname\u001b[0m \u001b[0;34m=\u001b[0m \u001b[0mfrenchcity\u001b[0m\u001b[0;34m[\u001b[0m\u001b[0;34m'city'\u001b[0m\u001b[0;34m]\u001b[0m\u001b[0;34m\u001b[0m\u001b[0m\n\u001b[1;32m      6\u001b[0m         \u001b[0musname\u001b[0m \u001b[0;34m=\u001b[0m \u001b[0muscity\u001b[0m\u001b[0;34m[\u001b[0m\u001b[0;34m'CBSA'\u001b[0m\u001b[0;34m]\u001b[0m\u001b[0;34m\u001b[0m\u001b[0m\n",
      "\u001b[0;32m<ipython-input-14-d3b8c7c7054f>\u001b[0m in \u001b[0;36mpearsonr\u001b[0;34m(train, test)\u001b[0m\n\u001b[1;32m      5\u001b[0m     testcols = [test['TEMP'], test['PRESS'], test['RH'], test['WIND'], test['pop2010'], test['landarea'],\n\u001b[1;32m      6\u001b[0m                 test['popdense2010'], test['carpool_frac'], test['other_frac'], test['pt_frac']]\n\u001b[0;32m----> 7\u001b[0;31m     \u001b[0msim\u001b[0m \u001b[0;34m=\u001b[0m \u001b[0mpearsonr\u001b[0m\u001b[0;34m(\u001b[0m\u001b[0mtraincols\u001b[0m\u001b[0;34m,\u001b[0m \u001b[0mtestcols\u001b[0m\u001b[0;34m)\u001b[0m\u001b[0;34m[\u001b[0m\u001b[0;36m0\u001b[0m\u001b[0;34m]\u001b[0m\u001b[0;34m\u001b[0m\u001b[0m\n\u001b[0m\u001b[1;32m      8\u001b[0m     \u001b[0;32mreturn\u001b[0m \u001b[0msim\u001b[0m\u001b[0;34m\u001b[0m\u001b[0m\n",
      "\u001b[0;32m<ipython-input-14-d3b8c7c7054f>\u001b[0m in \u001b[0;36mpearsonr\u001b[0;34m(train, test)\u001b[0m\n\u001b[1;32m      1\u001b[0m \u001b[0;32mfrom\u001b[0m \u001b[0mscipy\u001b[0m\u001b[0;34m.\u001b[0m\u001b[0mstats\u001b[0m\u001b[0;34m.\u001b[0m\u001b[0mstats\u001b[0m \u001b[0;32mimport\u001b[0m \u001b[0mpearsonr\u001b[0m\u001b[0;34m\u001b[0m\u001b[0m\n\u001b[1;32m      2\u001b[0m \u001b[0;32mdef\u001b[0m \u001b[0mpearsonr\u001b[0m\u001b[0;34m(\u001b[0m\u001b[0mtrain\u001b[0m\u001b[0;34m,\u001b[0m \u001b[0mtest\u001b[0m\u001b[0;34m)\u001b[0m\u001b[0;34m:\u001b[0m\u001b[0;34m\u001b[0m\u001b[0m\n\u001b[0;32m----> 3\u001b[0;31m     traincols = [train['TEMP'], train['PRESS'], train['RH'], train['WIND'], train['pop2010'], train['landarea'],\n\u001b[0m\u001b[1;32m      4\u001b[0m                  train['popdense2010'], train['carpool_frac'], train['other_frac'], train['pt_frac']]\n\u001b[1;32m      5\u001b[0m     testcols = [test['TEMP'], test['PRESS'], test['RH'], test['WIND'], test['pop2010'], test['landarea'],\n",
      "\u001b[0;31mTypeError\u001b[0m: list indices must be integers, not str"
     ]
    }
   ],
   "source": [
    "df = []\n",
    "for ind, frenchcity in france_year.iterrows():\n",
    "    for ind, uscity in us_yr_clusters.iterrows():\n",
    "        sim = pearsonr(uscity, frenchcity)\n",
    "        fname = frenchcity['city']\n",
    "        usname = uscity['CBSA']\n",
    "        a = {'French City':fname, 'US CBSA':usname, 'pearson sim':sim}\n",
    "        df.append(a)"
   ]
  },
  {
   "cell_type": "code",
   "execution_count": null,
   "metadata": {
    "collapsed": true
   },
   "outputs": [],
   "source": [
    "df_sims = pd.DataFrame(df, columns=('French City', 'US CBSA', 'pearson sim'))"
   ]
  },
  {
   "cell_type": "code",
   "execution_count": null,
   "metadata": {
    "collapsed": true
   },
   "outputs": [],
   "source": [
    "df_sims.shape"
   ]
  },
  {
   "cell_type": "markdown",
   "metadata": {},
   "source": [
    "####Get the k nearest US neighbors of the French cities"
   ]
  },
  {
   "cell_type": "code",
   "execution_count": null,
   "metadata": {
    "collapsed": true
   },
   "outputs": [],
   "source": [
    "from operator import itemgetter\n",
    "def knearest(frenchcity, uscities, dbase, k=5):\n",
    "    neighbors=[]\n",
    "    for uscity in uscities:\n",
    "        sim = dbase.get(frenchcity, uscity)\n",
    "        simdist=(1. - sim)/2. \n",
    "        neighbors.append((uscity, simdist))\n",
    "    neighbors=sorted(neighbors, key = operator.itemgetter(1)) \n",
    "    return neighbors[0:k]"
   ]
  },
  {
   "cell_type": "markdown",
   "metadata": {},
   "source": [
    "####Predict cluster based on k nearest neighbors"
   ]
  },
  {
   "cell_type": "code",
   "execution_count": null,
   "metadata": {
    "collapsed": true
   },
   "outputs": [],
   "source": [
    "def frenchclust(neighbors):\n",
    "    votes = {}\n",
    "    for x in range(len(neighbors)):\n",
    "        response = neighbors[x][-1]\n",
    "        if response in votes:\n",
    "            votes[response] += 1\n",
    "        else:\n",
    "            votes[response] = 1\n",
    "    sortvotes = sorted(votes.iteritems(), key = operator.itemgetter(1), reverse=True)\n",
    "    return sortedvotes[0][0]"
   ]
  },
  {
   "cell_type": "code",
   "execution_count": null,
   "metadata": {
    "collapsed": true
   },
   "outputs": [],
   "source": [
    "for frenchcity in franceyear.iterrows():\n",
    "    f_neighbors = knearest(frenchcity, us_yr_clusters['CBSA'], df_sims, k=5)\n",
    "    f_clusters = frenchclust(f_neighbors)\n",
    "    french_clusts = dict(zip(frenchcity, f_clusters))"
   ]
  },
  {
   "cell_type": "markdown",
   "metadata": {},
   "source": [
    "####Examine profiles of French clusters"
   ]
  },
  {
   "cell_type": "code",
   "execution_count": null,
   "metadata": {
    "collapsed": true
   },
   "outputs": [],
   "source": [
    "french_clusts"
   ]
  },
  {
   "cell_type": "code",
   "execution_count": null,
   "metadata": {
    "collapsed": true
   },
   "outputs": [],
   "source": [
    "for x in len(range(3))\n",
    "if french_clusts[]"
   ]
  }
 ],
 "metadata": {
  "kernelspec": {
   "display_name": "Python 2",
   "language": "python",
   "name": "python2"
  },
  "language_info": {
   "codemirror_mode": {
    "name": "ipython",
    "version": 2
   },
   "file_extension": ".py",
   "mimetype": "text/x-python",
   "name": "python",
   "nbconvert_exporter": "python",
   "pygments_lexer": "ipython2",
   "version": "2.7.10"
  }
 },
 "nbformat": 4,
 "nbformat_minor": 0
}
